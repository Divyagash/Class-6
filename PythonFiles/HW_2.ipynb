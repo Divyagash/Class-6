{
 "cells": [
  {
   "cell_type": "markdown",
   "metadata": {},
   "source": [
    "# Question 1"
   ]
  },
  {
   "cell_type": "code",
   "execution_count": 279,
   "metadata": {
    "collapsed": true
   },
   "outputs": [],
   "source": [
    "import numpy as np\n",
    "import math\n",
    "import pylab as pl\n",
    "import random\n",
    "import matplotlib.pyplot as plt\n",
    "%matplotlib inline"
   ]
  },
  {
   "cell_type": "code",
   "execution_count": 280,
   "metadata": {
    "collapsed": false
   },
   "outputs": [],
   "source": [
    "def sigmoid(x):\n",
    "  return 1 / (1 + math.exp(-x))\n"
   ]
  },
  {
   "cell_type": "code",
   "execution_count": null,
   "metadata": {
    "collapsed": false
   },
   "outputs": [],
   "source": []
  },
  {
   "cell_type": "code",
   "execution_count": 165,
   "metadata": {
    "collapsed": false
   },
   "outputs": [
    {
     "data": {
      "text/plain": [
       "array([[ 1.        , -1.38996032,  1.79306652],\n",
       "       [ 1.        ,  1.90247515,  2.60464354],\n",
       "       [ 1.        ,  2.05510976,  2.10402166],\n",
       "       ..., \n",
       "       [ 1.        ,  1.91603707,  2.86698148],\n",
       "       [ 1.        , -1.9750055 , -2.00444274],\n",
       "       [ 1.        , -1.93536807, -2.01833244]])"
      ]
     },
     "execution_count": 165,
     "metadata": {},
     "output_type": "execute_result"
    }
   ],
   "source": [
    "# Read the data file\n",
    "\n",
    "data = pl.loadtxt('../DataFiles/HW2/data1_train.csv')\n",
    "len(data[:,2])\n",
    "Y = data[:,2]\n",
    "X = data[:,0:2]\n",
    "a=np.array([1.0]*len(Y))\n",
    "#X[:,1]=a\n",
    "np.c_[a, X]\n",
    "#Y = 0.5*Y+ 0.5\n",
    "#Y"
   ]
  },
  {
   "cell_type": "code",
   "execution_count": 296,
   "metadata": {
    "collapsed": false
   },
   "outputs": [],
   "source": [
    "# Assuming y's are +1 and -1 \n",
    "def logisticRegression(weight,X,Y,lambda_shrink):\n",
    "    \n",
    "    #intercept=np.array([1.0]*len(Y))\n",
    "    W = weight[1:]\n",
    "    bias = weight[0]\n",
    "\n",
    "    NLL = 0\n",
    "    NLL_interceptGrad = 0\n",
    "    NLL_weightGrad = [0]*len(W)\n",
    "    \n",
    "    for i in range(len(Y)):\n",
    "        interm =np.exp(-Y[i]*(np.dot(W,X[i,])+bias))\n",
    "        NLL+=math.log(1+interm)\n",
    "        \n",
    "        \n",
    "        NLL_interceptGrad+=(-Y[i]*interm)/(1+interm)\n",
    "        pointGradient = (X[i,]*(-Y[i]*interm))/(1+interm)\n",
    "        #print pointGradient\n",
    "        #b = [i**2,i**3]\n",
    "        #a = [i+j for i,j in zip(a,b)]\n",
    "        NLL_weightGrad = [i+j for i,j in zip(NLL_weightGrad,pointGradient)]\n",
    "        #print NLL_weightGrad\n",
    "   \n",
    "    \n",
    "    L2normSq = np.inner(W,np.transpose(W))\n",
    "    \n",
    "    shrinkage = lambda_shrink * L2normSq\n",
    "    value = NLL+shrinkage\n",
    "    #print value\n",
    "    \n",
    "    NLLGrad = np.append(NLL_interceptGrad,[NLL_weightGrad])\n",
    "    shrinkGradient = [0]+ [2*lambda_shrink*a for a in W]\n",
    "    Gradient = [a+b for a,b in  zip(NLLGrad,shrinkGradient)]\n",
    "    #print NLLGrad\n",
    "    #print shrinkGradient\n",
    "    #print Gradient\n",
    "    return(value,Gradient)\n"
   ]
  },
  {
   "cell_type": "code",
   "execution_count": 297,
   "metadata": {
    "collapsed": false
   },
   "outputs": [
    {
     "data": {
      "text/plain": [
       "(29.08087796151574,\n",
       " [10.510538094375459, -33.094726806896091, -22.107943606352517])"
      ]
     },
     "execution_count": 297,
     "metadata": {},
     "output_type": "execute_result"
    }
   ],
   "source": [
    "logisticRegression([2,-1,3],X,Y,1)"
   ]
  },
  {
   "cell_type": "code",
   "execution_count": 262,
   "metadata": {
    "collapsed": false
   },
   "outputs": [],
   "source": [
    "def logisticRegression(weight,X,Y,lambda_shrink):\n",
    "    intercept=np.array([1.0]*len(Y))\n",
    "    #X[:,1]=a\n",
    "    X = np.c_[intercept, X]\n",
    "    W = weight\n",
    "    interm = np.dot(X,np.transpose(W))\n",
    "    sigm = map(sigmoid,interm)\n",
    "   \n",
    "    #print sum(map(math.log,map(sigmoid,interm)))\n",
    "    Term1 =[a*b for a,b in zip(map(math.log,sigm),Y)] # elementwise product\n",
    "    #print(sum(Term1))\n",
    "    #print max(sigm)\n",
    "    Term2 =[a*b for a,b in zip(map(math.log,[1-b for b in sigm]),[1-a for a in Y])] # elementwise product\n",
    "    #print(sum(Term2))\n",
    "    \n",
    "    NLL = -1*(sum(Term1)+sum(Term2))\n",
    "    L2normSq = np.inner(W[1:],np.transpose(W[1:]))\n",
    "    #print L2normSq\n",
    "    shirnkage = lambda_shrink * L2normSq\n",
    "    value = NLL+L2normSq\n",
    "    \n",
    "    error = [a -b for a,b in zip(sigm,Y)]\n",
    "    NLLgradient = np.dot(np.transpose(error),X)\n",
    "    shrinkGradient = [0]+ [2*L2normSq*lambda_shrink*a for a in W[1:]]\n",
    "    gradient = NLLgradient+shrinkGradient\n",
    "    #print shrinkGradient\n",
    "    #print NLLgradient\n",
    "    return(value,gradient)\n",
    "    \n",
    "\n",
    "    \n",
    "    #return(value,gradient)"
   ]
  },
  {
   "cell_type": "code",
   "execution_count": 267,
   "metadata": {
    "collapsed": false
   },
   "outputs": [
    {
     "data": {
      "text/plain": [
       "(184.58747026137976,\n",
       " [41.731552688814524, 208.30974941501378, -200.32307290844193])"
      ]
     },
     "execution_count": 267,
     "metadata": {},
     "output_type": "execute_result"
    }
   ],
   "source": [
    "logisticRegression([1,1,1],X,Y,0)"
   ]
  },
  {
   "cell_type": "code",
   "execution_count": 291,
   "metadata": {
    "collapsed": true
   },
   "outputs": [],
   "source": [
    "def batchGradientDiscent(function,initGuess,step,threshold,maxIter,*args):\n",
    "    gradientNorm = []\n",
    "    epsilon = 1\n",
    "    errorPropagation = []\n",
    "    iteration = 0\n",
    "    \n",
    "    while epsilon > threshold and iteration < maxIter : \n",
    "        if iteration==0:\n",
    "            \n",
    "            value = [float(i) for i in initGuess]\n",
    "        \n",
    "        output = function(value,*args)\n",
    "        evaluateOld = function(value,*args)[0] # function evaluated at old point\n",
    "        gradient = [float(i) for i in output[1]]\n",
    "        change = [a*step for a in gradient]\n",
    "        #print change\n",
    "        newValue = [a - b for a,b in zip(value,change)] #GDS equation\n",
    "        #print newValue\n",
    "        evaluateNew = function(newValue,*args)[0]# function evaluated at new point\n",
    "        #print(evaluateNew)\n",
    "        epsilon = abs(evaluateNew - evaluateOld)\n",
    "        \n",
    "        value = newValue\n",
    "        gradient= function(value,*args)[1]\n",
    "        gNorm = np.linalg.norm(gradient)\n",
    "        gradientNorm.append(gNorm)\n",
    "        \n",
    "        errorPropagation.append(epsilon)\n",
    "        iteration+=1\n",
    "            \n",
    "    return(gradientNorm, errorPropagation,value,iteration)"
   ]
  },
  {
   "cell_type": "code",
   "execution_count": null,
   "metadata": {
    "collapsed": false
   },
   "outputs": [],
   "source": []
  },
  {
   "cell_type": "code",
   "execution_count": 310,
   "metadata": {
    "collapsed": false
   },
   "outputs": [
    {
     "name": "stdout",
     "output_type": "stream",
     "text": [
      "[2.219597373155883, -0.44587195186074013, 5.249862825191054] 20000\n"
     ]
    }
   ],
   "source": [
    "A  = batchGradientDiscent(logisticRegression,[0,0,0],0.0001,1e-8,20000,X,Y,0)\n",
    "print A[2], A[3]"
   ]
  },
  {
   "cell_type": "code",
   "execution_count": 273,
   "metadata": {
    "collapsed": false
   },
   "outputs": [
    {
     "data": {
      "text/plain": [
       "[46, 64]"
      ]
     },
     "execution_count": 273,
     "metadata": {},
     "output_type": "execute_result"
    }
   ],
   "source": [
    "lista=[23,2]\n",
    "listb=[2,32]\n",
    "[a*b for a,b in zip(lista,listb)]"
   ]
  },
  {
   "cell_type": "code",
   "execution_count": 302,
   "metadata": {
    "collapsed": false
   },
   "outputs": [],
   "source": [
    "#np.inner(A,np.transpose(A))"
   ]
  },
  {
   "cell_type": "markdown",
   "metadata": {},
   "source": [
    "# 1.2 L1 Norm"
   ]
  },
  {
   "cell_type": "code",
   "execution_count": 274,
   "metadata": {
    "collapsed": false
   },
   "outputs": [],
   "source": [
    "# sklearn logistic regression\n",
    "# Use lambda of 0,0.1,1,5. C is the inverse of lambda \n",
    "# Use both L1 and L2 regularization\n",
    "# In order for there to be no regularization choose C to be a very large number\n",
    "from sklearn import linear_model\n",
    "logit = linear_model.LogisticRegression(penalty='l2', tol=0.0001, C=10000000, fit_intercept=True, intercept_scaling=1, max_iter=1000, multi_class='ovr')"
   ]
  },
  {
   "cell_type": "code",
   "execution_count": null,
   "metadata": {
    "collapsed": false
   },
   "outputs": [],
   "source": []
  },
  {
   "cell_type": "code",
   "execution_count": 133,
   "metadata": {
    "collapsed": true
   },
   "outputs": [],
   "source": [
    "data1_V = pl.loadtxt('../DataFiles/HW2/data1_validate.csv')\n",
    "Y_V = data1_V[:,2]\n",
    "X_V = data1_V[:,0:2]\n",
    "\n",
    "Y_V = 0.5*Y_V+ 0.5\n",
    "\n",
    "data1_Test = pl.loadtxt('../DataFiles/HW2/data1_test.csv')\n",
    "Y_Test = data1_Test[:,2]\n",
    "X_Test = data1_Test[:,0:2]\n",
    "\n",
    "Y_Test = 0.5*Y_Test+ 0.5"
   ]
  },
  {
   "cell_type": "code",
   "execution_count": 134,
   "metadata": {
    "collapsed": true
   },
   "outputs": [],
   "source": [
    "data2 = pl.loadtxt('../DataFiles/HW2/data2_train.csv')\n",
    "\n",
    "Y2 = data2[:,2]\n",
    "X2 = data2[:,0:2]\n",
    "a=np.array([1.0]*len(Y))\n",
    "#X[:,1]=a\n",
    "#np.c_[a, X]\n",
    "Y2 = 0.5*Y2+ 0.5\n",
    "\n",
    "data2_V = pl.loadtxt('../DataFiles/HW2/data2_validate.csv')\n",
    "Y2_V = data2_V[:,2]\n",
    "X2_V = data2_V[:,0:2]\n",
    "Y2_V = 0.5*Y2_V+ 0.5\n",
    "\n",
    "data2_Test = pl.loadtxt('../DataFiles/HW2/data2_test.csv')\n",
    "Y2_Test = data2_Test[:,2]\n",
    "X2_Test = data2_Test[:,0:2]\n",
    "\n",
    "Y2_Test = 0.5*Y2_Test+ 0.5"
   ]
  },
  {
   "cell_type": "code",
   "execution_count": 116,
   "metadata": {
    "collapsed": true
   },
   "outputs": [],
   "source": [
    "data3 = pl.loadtxt('../DataFiles/HW2/data3_train.csv')\n",
    "\n",
    "Y3 = data3[:,2]\n",
    "X3 = data3[:,0:2]\n",
    "a=np.array([1.0]*len(Y))\n",
    "#X[:,1]=a\n",
    "#np.c_[a, X]\n",
    "Y3 = 0.5*Y3+ 0.5\n",
    "\n",
    "data3_V = pl.loadtxt('../DataFiles/HW2/data3_validate.csv')\n",
    "Y3_V = data3_V[:,2]\n",
    "X3_V = data3_V[:,0:2]\n",
    "Y3_V = 0.5*Y3_V+ 0.5\n",
    "\n",
    "data3_Test = pl.loadtxt('../DataFiles/HW2/data3_test.csv')\n",
    "Y3_Test = data3_Test[:,2]\n",
    "X3_Test = data3_Test[:,0:2]\n",
    "\n",
    "Y3_Test = 0.5*Y3_Test+ 0.5"
   ]
  },
  {
   "cell_type": "code",
   "execution_count": 135,
   "metadata": {
    "collapsed": true
   },
   "outputs": [],
   "source": [
    "data4 = pl.loadtxt('../DataFiles/HW2/data4_train.csv')\n",
    "Y4 = data4[:,2]\n",
    "X4 = data4[:,0:2]\n",
    "a=np.array([1.0]*len(Y))\n",
    "Y4 = 0.5*Y4+ 0.5\n",
    "\n",
    "data4_V = pl.loadtxt('../DataFiles/HW2/data4_validate.csv')\n",
    "Y4_V = data4_V[:,2]\n",
    "X4_V = data4_V[:,0:2]\n",
    "Y4_V = 0.5*Y4_V+ 0.5\n",
    "\n",
    "data4_Test = pl.loadtxt('../DataFiles/HW2/data4_test.csv')\n",
    "Y4_Test = data4_Test[:,2]\n",
    "X4_Test = data4_Test[:,0:2]\n",
    "\n",
    "Y4_Test = 0.5*Y4_Test+ 0.5"
   ]
  },
  {
   "cell_type": "code",
   "execution_count": 307,
   "metadata": {
    "collapsed": true
   },
   "outputs": [],
   "source": [
    "logit = linear_model.LogisticRegression(penalty='l2', tol=0.0001, C=1, fit_intercept=True, intercept_scaling=1, max_iter=1000, multi_class='ovr')\n",
    "logit0 = linear_model.LogisticRegression(penalty='l2', tol=0.0001, C=10000000, fit_intercept=True, intercept_scaling=1, max_iter=1000, multi_class='ovr')"
   ]
  },
  {
   "cell_type": "code",
   "execution_count": 308,
   "metadata": {
    "collapsed": false
   },
   "outputs": [
    {
     "name": "stdout",
     "output_type": "stream",
     "text": [
      "[ 1.13829764] [[-0.18293729  3.36791697]]\n",
      "[ 6.15181078] [[ -1.21604045  11.73473535]]\n"
     ]
    }
   ],
   "source": [
    "# Check the answer for part (a) vias sklearn implementation \n",
    "a = logit.fit(X,Y)\n",
    "print a.intercept_,a.coef_\n",
    "b = logit0.fit(X,Y)\n",
    "print b.intercept_,b.coef_"
   ]
  },
  {
   "cell_type": "code",
   "execution_count": 92,
   "metadata": {
    "collapsed": false
   },
   "outputs": [],
   "source": [
    "logit_0 = linear_model.LogisticRegression(penalty='l2', tol=0.0001, C=10000000, fit_intercept=True, intercept_scaling=1, max_iter=10000, multi_class='ovr')\n",
    "logit_0_1 = linear_model.LogisticRegression(penalty='l2', tol=0.0001, C=10, fit_intercept=True, intercept_scaling=1, max_iter=10000, multi_class='ovr')\n",
    "logit_1 = linear_model.LogisticRegression(penalty='l2', tol=0.0001, C=1, fit_intercept=True, intercept_scaling=1, max_iter=10000, multi_class='ovr')\n",
    "logit_5 = linear_model.LogisticRegression(penalty='l2', tol=0.0001, C=0.2, fit_intercept=True, intercept_scaling=1, max_iter=10000, multi_class='ovr')\n"
   ]
  },
  {
   "cell_type": "code",
   "execution_count": 277,
   "metadata": {
    "collapsed": false
   },
   "outputs": [
    {
     "name": "stdout",
     "output_type": "stream",
     "text": [
      "[[ -1.21604045  11.73473535]] [ 6.15181078]\n",
      "97.0\n",
      "35.0\n",
      "[[ -0.45997313  13.61612131]] [-6.63692952]\n",
      "7.0\n",
      "[[-0.02473662 -0.02372561]] [ 0.00059689]\n",
      "203.0\n"
     ]
    }
   ],
   "source": [
    "model_0_set1 = logit_0.fit(X,Y)\n",
    "print model_0_set1.coef_,model_0_set1.intercept_\n",
    "print sum(abs(Y_V - model_0_set1.predict(X_V)))\n",
    "\n",
    "model_0_set2 = logit_0.fit(X2,Y2)\n",
    "\n",
    "print sum(abs(Y2_V - model_0_set2.predict(X2_V)))\n",
    "\n",
    "\n",
    "model_0_set3 = logit_0.fit(X3,Y3)\n",
    "print model_0_set3.coef_,model_0_set3.intercept_\n",
    "print sum(abs(Y3_V - model_0_set3.predict(X3_V)))\n",
    "\n",
    "model_0_set4 = logit_0.fit(X4,Y4)\n",
    "print model_0_set4.coef_,model_0_set4.intercept_\n",
    "print sum(abs(Y4_V - model_0_set4.predict(X4_V)))\n",
    "#model_0_set1.coef_"
   ]
  },
  {
   "cell_type": "code",
   "execution_count": 278,
   "metadata": {
    "collapsed": false
   },
   "outputs": [
    {
     "name": "stdout",
     "output_type": "stream",
     "text": [
      "[[-0.46420343  5.30635537]] [ 2.37552442]\n",
      "97.0\n",
      "[[ 1.81888558  0.00221756]] [ 0.00059689]\n",
      "35.0\n",
      "[[-0.30901382  8.72763494]] [-3.76774254]\n",
      "7.0\n",
      "[[-0.02473148 -0.02372077]] [ 0.00059616]\n",
      "203.0\n"
     ]
    }
   ],
   "source": [
    "model_0_1_set1 = logit_0_1.fit(X,Y)\n",
    "print model_0_1_set1.coef_,model_0_1_set1.intercept_\n",
    "print sum(abs(Y_V - model_0_1_set1.predict(X_V)))\n",
    "\n",
    "model_0_1_set2 = logit_0_1.fit(X2,Y2)\n",
    "print model_0_1_set2.coef_,model_0_set2.intercept_\n",
    "print sum(abs(Y2_V - model_0_1_set2.predict(X2_V)))\n",
    "\n",
    "\n",
    "model_0_1_set3 = logit_0_1.fit(X3,Y3)\n",
    "print model_0_1_set3.coef_,model_0_1_set3.intercept_\n",
    "print sum(abs(Y3_V - model_0_1_set3.predict(X3_V)))\n",
    "\n",
    "model_0_1_set4 = logit_0_1.fit(X4,Y4)\n",
    "print model_0_1_set4.coef_,model_0_1_set4.intercept_\n",
    "print sum(abs(Y4_V - model_0_1_set4.predict(X4_V)))"
   ]
  },
  {
   "cell_type": "code",
   "execution_count": 129,
   "metadata": {
    "collapsed": false
   },
   "outputs": [
    {
     "name": "stdout",
     "output_type": "stream",
     "text": [
      "[[-0.18293729  3.36791697]] [ 1.13829764]\n",
      "0.0\n",
      "[[  1.76833368e+00   1.24387569e-03]] [ 0.1689112]\n",
      "35.0\n",
      "[[-0.20814065  4.8715839 ]] [-1.50894762]\n",
      "6.0\n",
      "[[-0.02468524 -0.02367728]] [ 0.00058969]\n",
      "203.0\n"
     ]
    }
   ],
   "source": [
    "model_1_set1 = logit_1.fit(X,Y)\n",
    "print model_1_set1.coef_,model_1_set1.intercept_\n",
    "print sum(abs(Y_V - model_1_set1.predict(X_V)))\n",
    "\n",
    "model_1_set2 = logit_1.fit(X2,Y2)\n",
    "print model_1_set2.coef_,model_1_set2.intercept_\n",
    "print sum(abs(Y2_V - model_1_set2.predict(X2_V)))\n",
    "\n",
    "\n",
    "model_1_set3 = logit_1.fit(X3,Y3)\n",
    "print model_1_set3.coef_,model_1_set3.intercept_\n",
    "print sum(abs(Y3_V - model_1_set3.predict(X3_V)))\n",
    "\n",
    "model_1_set4 = logit_1.fit(X4,Y4)\n",
    "print model_1_set4.coef_,model_1_set4.intercept_\n",
    "print sum(abs(Y4_V - model_1_set4.predict(X4_V)))"
   ]
  },
  {
   "cell_type": "code",
   "execution_count": 130,
   "metadata": {
    "collapsed": false
   },
   "outputs": [
    {
     "name": "stdout",
     "output_type": "stream",
     "text": [
      "[[-0.05039288  2.33832383]] [ 0.52844858]\n",
      "0.0\n",
      "[[ 1.5944777  -0.00223635]] [ 0.12920157]\n",
      "36.0\n",
      "[[-0.16620239  3.08970206]] [-0.61438656]\n",
      "10.0\n",
      "[[-0.02448184 -0.0234859 ]] [ 0.00056233]\n",
      "203.0\n"
     ]
    }
   ],
   "source": [
    "model_5_set1 = logit_5.fit(X,Y)\n",
    "print model_5_set1.coef_,model_5_set1.intercept_\n",
    "print sum(abs(Y_V - model_5_set1.predict(X_V)))\n",
    "\n",
    "model_5_set2 = logit_5.fit(X2,Y2)\n",
    "print model_5_set2.coef_,model_5_set2.intercept_\n",
    "print sum(abs(Y2_V - model_5_set2.predict(X2_V)))\n",
    "\n",
    "\n",
    "model_5_set3 = logit_5.fit(X3,Y3)\n",
    "print model_5_set3.coef_,model_5_set3.intercept_\n",
    "print sum(abs(Y3_V - model_5_set3.predict(X3_V)))\n",
    "\n",
    "model_5_set4 = logit_5.fit(X4,Y4)\n",
    "print model_5_set4.coef_,model_5_set4.intercept_\n",
    "print sum(abs(Y4_V - model_5_set4.predict(X4_V)))"
   ]
  },
  {
   "cell_type": "markdown",
   "metadata": {},
   "source": [
    "Weight from these model fits (L2)"
   ]
  },
  {
   "cell_type": "code",
   "execution_count": null,
   "metadata": {
    "collapsed": false
   },
   "outputs": [],
   "source": []
  },
  {
   "cell_type": "code",
   "execution_count": 132,
   "metadata": {
    "collapsed": false
   },
   "outputs": [
    {
     "ename": "SyntaxError",
     "evalue": "can't assign to operator (<ipython-input-132-5043254c1aa3>, line 1)",
     "output_type": "error",
     "traceback": [
      "\u001b[0;36m  File \u001b[0;32m\"<ipython-input-132-5043254c1aa3>\"\u001b[0;36m, line \u001b[0;32m1\u001b[0m\n\u001b[0;31m    W0-1 = 323\u001b[0m\n\u001b[0;31mSyntaxError\u001b[0m\u001b[0;31m:\u001b[0m can't assign to operator\n"
     ]
    }
   ],
   "source": []
  },
  {
   "cell_type": "code",
   "execution_count": 70,
   "metadata": {
    "collapsed": false
   },
   "outputs": [
    {
     "name": "stdout",
     "output_type": "stream",
     "text": [
      "[[-0.02473148 -0.02372077]] [ 0.00059616]\n",
      "[[-0.02473148 -0.02372077]] [ 0.00059616]\n",
      "[[-0.02473148 -0.02372077]] [ 0.00059616]\n",
      "[[-0.02473148 -0.02372077]] [ 0.00059616]\n"
     ]
    }
   ],
   "source": [
    "print model_0_1_set1.coef_,model_0_1_set1.intercept_\n",
    "print model_0_1_set2.coef_,model_0_1_set2.intercept_\n",
    "print model_0_1_set3.coef_,model_0_1_set3.intercept_\n",
    "print model_0_1_set4.coef_,model_0_1_set4.intercept_"
   ]
  },
  {
   "cell_type": "code",
   "execution_count": 37,
   "metadata": {
    "collapsed": true
   },
   "outputs": [],
   "source": [
    "logit_1 = linear_model.LogisticRegression(penalty='l2', tol=0.0001, C=1, fit_intercept=True, intercept_scaling=1, max_iter=1000, multi_class='ovr')"
   ]
  },
  {
   "cell_type": "code",
   "execution_count": 38,
   "metadata": {
    "collapsed": true
   },
   "outputs": [],
   "source": [
    "logit_5 = linear_model.LogisticRegression(penalty='l2', tol=0.0001, C=0.2, fit_intercept=True, intercept_scaling=1, max_iter=1000, multi_class='ovr')"
   ]
  },
  {
   "cell_type": "code",
   "execution_count": 449,
   "metadata": {
    "collapsed": false
   },
   "outputs": [
    {
     "data": {
      "image/png": "[encoded data removed]",
      "text/plain": [
       "<matplotlib.figure.Figure at 0x107573cd0>"
      ]
     },
     "metadata": {},
     "output_type": "display_data"
    }
   ],
   "source": [
    "h = .02  # step size in the mesh\n",
    "x_min, x_max = X[:, 0].min() - .5, X[:, 0].max() + .5\n",
    "y_min, y_max = X[:, 1].min() - .5, X[:, 1].max() + .5\n",
    "xx, yy = np.meshgrid(np.arange(x_min, x_max, h), np.arange(y_min, y_max, h))\n",
    "Z = logit.predict(np.c_[xx.ravel(), yy.ravel()])\n",
    "\n",
    "# Put the result into a color plot\n",
    "Z = Z.reshape(xx.shape)\n",
    "plt.figure(1, figsize=(4, 3))\n",
    "plt.pcolormesh(xx, yy, Z, cmap=plt.cm.Paired)\n",
    "\n",
    "# Plot also the training points\n",
    "plt.scatter(X[:, 0], X[:, 1], c=Y, edgecolors='k', cmap=plt.cm.Paired)\n",
    "plt.xlabel('X1')\n",
    "plt.ylabel('X2')\n",
    "\n",
    "plt.xlim(xx.min(), xx.max())\n",
    "plt.ylim(yy.min(), yy.max())\n",
    "plt.xticks(())\n",
    "plt.yticks(())\n",
    "\n",
    "plt.show()"
   ]
  },
  {
   "cell_type": "code",
   "execution_count": 450,
   "metadata": {
    "collapsed": false
   },
   "outputs": [
    {
     "data": {
      "text/plain": [
       "0.0"
      ]
     },
     "execution_count": 450,
     "metadata": {},
     "output_type": "execute_result"
    }
   ],
   "source": [
    "sum(abs(logit.predict(X) - Y))"
   ]
  },
  {
   "cell_type": "markdown",
   "metadata": {
    "collapsed": false
   },
   "source": [
    "L1 regularization"
   ]
  },
  {
   "cell_type": "code",
   "execution_count": 136,
   "metadata": {
    "collapsed": true
   },
   "outputs": [],
   "source": [
    "logit_0_L1 = linear_model.LogisticRegression(penalty='l1', tol=0.0001, C=1000000, fit_intercept=True, intercept_scaling=1, max_iter=1000, multi_class='ovr')\n",
    "logit_0_1_L1 = linear_model.LogisticRegression(penalty='l1', tol=0.0001, C=10, fit_intercept=True, intercept_scaling=1, max_iter=1000, multi_class='ovr')\n",
    "logit_1_L1 = linear_model.LogisticRegression(penalty='l1', tol=0.0001, C=1, fit_intercept=True, intercept_scaling=1, max_iter=1000, multi_class='ovr')\n",
    "logit_5_L1 = linear_model.LogisticRegression(penalty='l1', tol=0.0001, C=0.2, fit_intercept=True, intercept_scaling=1, max_iter=1000, multi_class='ovr')"
   ]
  },
  {
   "cell_type": "code",
   "execution_count": 139,
   "metadata": {
    "collapsed": false
   },
   "outputs": [
    {
     "name": "stdout",
     "output_type": "stream",
     "text": [
      "[[ -1.13745471  12.04669211]] [ 5.77278493]\n",
      "0.0\n",
      "[[ 1.82482011  0.00235979]] [ 0.1824777]\n",
      "35.0\n",
      "[[ -0.45854063  13.56278746]] [-6.60635557]\n",
      "7.0\n",
      "[[-0.02473447 -0.02372554]] [ 0.00059673]\n",
      "203.0\n"
     ]
    }
   ],
   "source": [
    "model_0_set1 = logit_0_L1.fit(X,Y)\n",
    "print model_0_set1.coef_,model_0_set1.intercept_\n",
    "print sum(abs(Y_V - model_0_set1.predict(X_V)))\n",
    "\n",
    "model_0_set2 = logit_0_L1.fit(X2,Y2)\n",
    "print model_0_set2.coef_,model_0_set2.intercept_\n",
    "print sum(abs(Y2_V - model_0_set2.predict(X2_V)))\n",
    "\n",
    "\n",
    "model_0_set3 = logit_0_L1.fit(X3,Y3)\n",
    "print model_0_set3.coef_,model_0_set3.intercept_\n",
    "print sum(abs(Y3_V - model_0_set3.predict(X3_V)))\n",
    "\n",
    "model_0_set4 = logit_0_L1.fit(X4,Y4)\n",
    "print model_0_set4.coef_,model_0_set4.intercept_\n",
    "print sum(abs(Y4_V - model_0_set4.predict(X4_V)))"
   ]
  },
  {
   "cell_type": "code",
   "execution_count": 141,
   "metadata": {
    "collapsed": false
   },
   "outputs": [
    {
     "name": "stdout",
     "output_type": "stream",
     "text": [
      "[[-0.60049716  7.2022315 ]] [ 3.31867562]\n",
      "0.0\n",
      "[[  1.82071260e+00   1.43898409e-03]] [ 0.00059673]\n",
      "35.0\n",
      "[[ -0.45866772  13.5676129 ]] [-6.60911777]\n",
      "7.0\n",
      "[[-0.02452048 -0.02352479]] [ 0.]\n",
      "201.0\n"
     ]
    }
   ],
   "source": [
    "model_0_1_set1 = logit_0_1_L1.fit(X,Y)\n",
    "print model_0_1_set1.coef_,model_0_1_set1.intercept_\n",
    "print sum(abs(Y_V - model_0_1_set1.predict(X_V)))\n",
    "\n",
    "model_0_1_set2 = logit_0_1_L1.fit(X2,Y2)\n",
    "print model_0_1_set2.coef_,model_0_set2.intercept_\n",
    "print sum(abs(Y2_V - model_0_1_set2.predict(X2_V)))\n",
    "\n",
    "\n",
    "model_0_1_set3 = logit_0_L1.fit(X3,Y3)\n",
    "print model_0_1_set3.coef_,model_0_1_set3.intercept_\n",
    "print sum(abs(Y3_V - model_0_1_set3.predict(X3_V)))\n",
    "\n",
    "model_0_1_set4 = logit_0_1_L1.fit(X4,Y4)\n",
    "print model_0_1_set4.coef_,model_0_1_set4.intercept_\n",
    "print sum(abs(Y4_V - model_0_1_set4.predict(X4_V)))"
   ]
  },
  {
   "cell_type": "code",
   "execution_count": 142,
   "metadata": {
    "collapsed": false
   },
   "outputs": [
    {
     "name": "stdout",
     "output_type": "stream",
     "text": [
      "[[-0.18968351  4.36955126]] [ 1.49649996]\n",
      "0.0\n",
      "[[ 1.78687386  0.        ]] [ 0.15679343]\n",
      "35.0\n",
      "[[-0.18836384  7.76186514]] [-3.13979791]\n",
      "7.0\n",
      "[[-0.02264508 -0.02169262]] [ 0.]\n",
      "201.0\n"
     ]
    }
   ],
   "source": [
    "model_1_set1 = logit_1_L1.fit(X,Y)\n",
    "print model_1_set1.coef_,model_1_set1.intercept_\n",
    "print sum(abs(Y_V - model_1_set1.predict(X_V)))\n",
    "\n",
    "model_1_set2 = logit_1_L1.fit(X2,Y2)\n",
    "print model_1_set2.coef_,model_1_set2.intercept_\n",
    "print sum(abs(Y2_V - model_1_set2.predict(X2_V)))\n",
    "\n",
    "\n",
    "model_1_set3 = logit_1_L1.fit(X3,Y3)\n",
    "print model_1_set3.coef_,model_1_set3.intercept_\n",
    "print sum(abs(Y3_V - model_1_set3.predict(X3_V)))\n",
    "\n",
    "model_1_set4 = logit_1_L1.fit(X4,Y4)\n",
    "print model_1_set4.coef_,model_1_set4.intercept_\n",
    "print sum(abs(Y4_V - model_1_set4.predict(X4_V)))"
   ]
  },
  {
   "cell_type": "code",
   "execution_count": 143,
   "metadata": {
    "collapsed": false
   },
   "outputs": [
    {
     "name": "stdout",
     "output_type": "stream",
     "text": [
      "[[ 0.         2.9325021]] [ 0.2621098]\n",
      "0.0\n",
      "[[ 1.65301832  0.        ]] [ 0.05868092]\n",
      "37.0\n",
      "[[ 0.          4.39487111]] [-1.0697686]\n",
      "8.0\n",
      "[[-0.01432705 -0.01355169]] [ 0.]\n",
      "203.0\n"
     ]
    }
   ],
   "source": [
    "model_5_set1 = logit_5_L1.fit(X,Y)\n",
    "print model_5_set1.coef_,model_5_set1.intercept_\n",
    "print sum(abs(Y_V - model_5_set1.predict(X_V)))\n",
    "\n",
    "model_5_set2 = logit_5_L1.fit(X2,Y2)\n",
    "print model_5_set2.coef_,model_5_set2.intercept_\n",
    "print sum(abs(Y2_V - model_5_set2.predict(X2_V)))\n",
    "\n",
    "\n",
    "model_5_set3 = logit_5_L1.fit(X3,Y3)\n",
    "print model_5_set3.coef_,model_5_set3.intercept_\n",
    "print sum(abs(Y3_V - model_5_set3.predict(X3_V)))\n",
    "\n",
    "model_5_set4 = logit_5_L1.fit(X4,Y4)\n",
    "print model_5_set4.coef_,model_5_set4.intercept_\n",
    "print sum(abs(Y4_V - model_5_set4.predict(X4_V)))"
   ]
  },
  {
   "cell_type": "code",
   "execution_count": 23,
   "metadata": {
    "collapsed": false
   },
   "outputs": [
    {
     "name": "stdout",
     "output_type": "stream",
     "text": [
      "[[-0.22740846  5.86810997]]\n",
      "[-2.07779145]\n",
      "<bound method LogisticRegression.predict_proba of LogisticRegression(C=2, class_weight=None, dual=False, fit_intercept=True,\n",
      "          intercept_scaling=1, max_iter=1000, multi_class='ovr', n_jobs=1,\n",
      "          penalty='l2', random_state=None, solver='liblinear', tol=0.0001,\n",
      "          verbose=0, warm_start=False)>\n"
     ]
    }
   ],
   "source": [
    "model3 = logit.fit(X3,Y3)\n",
    "\n",
    "print model3.coef_\n",
    "print model3.intercept_\n",
    "print model3.predict_proba"
   ]
  },
  {
   "cell_type": "code",
   "execution_count": null,
   "metadata": {
    "collapsed": false
   },
   "outputs": [],
   "source": []
  },
  {
   "cell_type": "code",
   "execution_count": 26,
   "metadata": {
    "collapsed": false
   },
   "outputs": [
    {
     "name": "stdout",
     "output_type": "stream",
     "text": [
      "[[-0.02471091 -0.02370142]]\n",
      "[ 0.00059327]\n",
      "<bound method LogisticRegression.predict_proba of LogisticRegression(C=2, class_weight=None, dual=False, fit_intercept=True,\n",
      "          intercept_scaling=1, max_iter=1000, multi_class='ovr', n_jobs=1,\n",
      "          penalty='l2', random_state=None, solver='liblinear', tol=0.0001,\n",
      "          verbose=0, warm_start=False)>\n"
     ]
    }
   ],
   "source": [
    "model4 = logit.fit(X4,Y4)\n",
    "\n",
    "print model4.coef_\n",
    "print model4.intercept_\n",
    "print model4.predict_proba"
   ]
  },
  {
   "cell_type": "code",
   "execution_count": null,
   "metadata": {
    "collapsed": true
   },
   "outputs": [],
   "source": []
  },
  {
   "cell_type": "code",
   "execution_count": null,
   "metadata": {
    "collapsed": true
   },
   "outputs": [],
   "source": []
  },
  {
   "cell_type": "markdown",
   "metadata": {},
   "source": [
    "# Question 2"
   ]
  },
  {
   "cell_type": "code",
   "execution_count": 2,
   "metadata": {
    "collapsed": false
   },
   "outputs": [],
   "source": [
    "import numpy as np\n",
    "#import cvxopt\n",
    "from cvxopt import matrix, solvers"
   ]
  },
  {
   "cell_type": "code",
   "execution_count": 3,
   "metadata": {
    "collapsed": false
   },
   "outputs": [
    {
     "ename": "SyntaxError",
     "evalue": "invalid syntax (<ipython-input-3-d3646c33714f>, line 2)",
     "output_type": "error",
     "traceback": [
      "\u001b[0;36m  File \u001b[0;32m\"<ipython-input-3-d3646c33714f>\"\u001b[0;36m, line \u001b[0;32m2\u001b[0m\n\u001b[0;31m    P = matrix(...)\u001b[0m\n\u001b[0m               ^\u001b[0m\n\u001b[0;31mSyntaxError\u001b[0m\u001b[0;31m:\u001b[0m invalid syntax\n"
     ]
    }
   ],
   "source": [
    "# define your matrices\n",
    "P = matrix(...)\n",
    "q = matrix(...)\n",
    "G = matrix(...)\n",
    "h = matrix(...)\n",
    "A = matrix(...)\n",
    "b = matrix(...)\n",
    "# find the solution\t\n",
    "solution = solvers.qp(P, q, G, h, A, b)\n",
    "xvals = np.array(solution['x'])"
   ]
  },
  {
   "cell_type": "code",
   "execution_count": null,
   "metadata": {
    "collapsed": true
   },
   "outputs": [],
   "source": []
  },
  {
   "cell_type": "markdown",
   "metadata": {},
   "source": [
    "# 2.2"
   ]
  },
  {
   "cell_type": "code",
   "execution_count": null,
   "metadata": {
    "collapsed": true
   },
   "outputs": [],
   "source": [
    "from numpy import *\n",
    "from plotBoundary import *\n",
    "import pylab as pl\n",
    "# import your SVM training code\n",
    "\n",
    "# parameters\n",
    "name = 'ls'\n",
    "print '======Training======'\n",
    "# load data from csv files\n",
    "train = loadtxt('data/data'+name+'_train.csv')\n",
    "# use deep copy here to make cvxopt happy\n",
    "X = train[:, 0:2].copy()\n",
    "Y = train[:, 2:3].copy()\n",
    "\n",
    "# Carry out training, primal and/or dual\n",
    "### TODO ###\n",
    "# Define the predictSVM(x) function, which uses trained parameters\n",
    "### TODO ###\n",
    "\n",
    "# plot training results\n",
    "plotDecisionBoundary(X, Y, predictSVM, [-1, 0, 1], title = 'SVM Train')\n",
    "\n",
    "\n",
    "print '======Validation======'\n",
    "# load data from csv files\n",
    "validate = loadtxt('data/data'+name+'_validate.csv')\n",
    "X = validate[:, 0:2]\n",
    "Y = validate[:, 2:3]\n",
    "# plot validation results\n",
    "plotDecisionBoundary(X, Y, predictSVM, [-1, 0, 1], title = 'SVM Validate')\n",
    "pl.show()\n"
   ]
  },
  {
   "cell_type": "code",
   "execution_count": 193,
   "metadata": {
    "collapsed": false
   },
   "outputs": [
    {
     "name": "stdout",
     "output_type": "stream",
     "text": [
      "[0, 1]\n",
      "[1, 2]\n",
      "[5, 10]\n",
      "[14, 37]\n",
      "[30, 101]\n",
      "[55, 226]\n",
      "[91, 442]\n",
      "[140, 785]\n",
      "[204, 1297]\n",
      "[285, 2026]\n"
     ]
    }
   ],
   "source": [
    "a = [0,1]\n",
    "\n",
    "for i in range(10):\n",
    "    b = [i**2,i**3]\n",
    "    a = [i+j for i,j in zip(a,b)]\n",
    "    print a"
   ]
  },
  {
   "cell_type": "code",
   "execution_count": 190,
   "metadata": {
    "collapsed": false
   },
   "outputs": [
    {
     "data": {
      "text/plain": [
       "[0, 1, 2, 3]"
      ]
     },
     "execution_count": 190,
     "metadata": {},
     "output_type": "execute_result"
    }
   ],
   "source": [
    "[0,1]+[2,3]\n"
   ]
  },
  {
   "cell_type": "code",
   "execution_count": null,
   "metadata": {
    "collapsed": true
   },
   "outputs": [],
   "source": []
  },
  {
   "cell_type": "code",
   "execution_count": null,
   "metadata": {
    "collapsed": true
   },
   "outputs": [],
   "source": []
  },
  {
   "cell_type": "code",
   "execution_count": null,
   "metadata": {
    "collapsed": true
   },
   "outputs": [],
   "source": []
  },
  {
   "cell_type": "code",
   "execution_count": null,
   "metadata": {
    "collapsed": true
   },
   "outputs": [],
   "source": []
  },
  {
   "cell_type": "markdown",
   "metadata": {},
   "source": [
    "# Question 4"
   ]
  },
  {
   "cell_type": "code",
   "execution_count": 335,
   "metadata": {
    "collapsed": true
   },
   "outputs": [],
   "source": [
    "# Generating Train, Test and Validation set for this question\n",
    "\n",
    "MNISTData_0 = pl.loadtxt('../DataFiles/HW2/mnist_digit_0.csv')\n",
    "MNISTData_0_Train =MNISTData_0[:200,]\n",
    "MNISTData_0_Valid =MNISTData_0[201:351,]\n",
    "MNISTData_0_Test =MNISTData_0[351:501,]\n",
    "\n",
    "MNISTData_1 = pl.loadtxt('../DataFiles/HW2/mnist_digit_1.csv')\n",
    "MNISTData_1_Train =MNISTData_1[:200,]\n",
    "MNISTData_1_Valid =MNISTData_1[201:351,]\n",
    "MNISTData_1_Test =MNISTData_1[351:501,]\n",
    "\n",
    "MNISTData_2 = pl.loadtxt('../DataFiles/HW2/mnist_digit_2.csv')\n",
    "MNISTData_2_Train =MNISTData_2[:200,]\n",
    "MNISTData_2_Valid =MNISTData_2[201:351,]\n",
    "MNISTData_2_Test =MNISTData_2[351:501,]\n",
    "\n",
    "MNISTData_3 = pl.loadtxt('../DataFiles/HW2/mnist_digit_3.csv')\n",
    "MNISTData_3_Train =MNISTData_3[:200,]\n",
    "MNISTData_3_Valid =MNISTData_3[201:351,]\n",
    "MNISTData_3_Test =MNISTData_3[351:501,]\n",
    "\n",
    "MNISTData_4 = pl.loadtxt('../DataFiles/HW2/mnist_digit_4.csv')\n",
    "MNISTData_4_Train =MNISTData_4[:200,]\n",
    "MNISTData_4_Valid =MNISTData_4[201:351,]\n",
    "MNISTData_4_Test =MNISTData_4[351:501,]\n",
    "\n",
    "MNISTData_5 = pl.loadtxt('../DataFiles/HW2/mnist_digit_5.csv')\n",
    "MNISTData_5_Train =MNISTData_5[:200,]\n",
    "MNISTData_5_Valid =MNISTData_5[201:351,]\n",
    "MNISTData_5_Test =MNISTData_5[351:501,]\n",
    "\n",
    "MNISTData_6 = pl.loadtxt('../DataFiles/HW2/mnist_digit_6.csv')\n",
    "MNISTData_6_Train =MNISTData_6[:200,]\n",
    "MNISTData_6_Valid =MNISTData_6[201:351,]\n",
    "MNISTData_6_Test =MNISTData_6[351:501,]\n",
    "\n",
    "MNISTData_7 = pl.loadtxt('../DataFiles/HW2/mnist_digit_7.csv')\n",
    "MNISTData_7_Train =MNISTData_7[:200,]\n",
    "MNISTData_7_Valid =MNISTData_7[201:351,]\n",
    "MNISTData_7_Test =MNISTData_7[351:501,]\n",
    "\n",
    "MNISTData_8 = pl.loadtxt('../DataFiles/HW2/mnist_digit_8.csv')\n",
    "MNISTData_8_Train =MNISTData_8[:200,]\n",
    "MNISTData_8_Valid =MNISTData_8[201:351,]\n",
    "MNISTData_8_Test =MNISTData_8[351:501,]\n",
    "\n",
    "MNISTData_9 = pl.loadtxt('../DataFiles/HW2/mnist_digit_9.csv')\n",
    "MNISTData_9_Train =MNISTData_9[:200,]\n",
    "MNISTData_9_Valid =MNISTData_9[201:351,]\n",
    "MNISTData_9_Test =MNISTData_9[351:501,]"
   ]
  },
  {
   "cell_type": "code",
   "execution_count": 336,
   "metadata": {
    "collapsed": false
   },
   "outputs": [
    {
     "data": {
      "text/plain": [
       "(150, 784)"
      ]
     },
     "execution_count": 336,
     "metadata": {},
     "output_type": "execute_result"
    }
   ],
   "source": [
    "MNISTData_0_Test.shape\n"
   ]
  },
  {
   "cell_type": "code",
   "execution_count": null,
   "metadata": {
    "collapsed": true
   },
   "outputs": [],
   "source": []
  }
 ],
 "metadata": {
  "kernelspec": {
   "display_name": "Python 2",
   "language": "python",
   "name": "python2"
  },
  "language_info": {
   "codemirror_mode": {
    "name": "ipython",
    "version": 2
   },
   "file_extension": ".py",
   "mimetype": "text/x-python",
   "name": "python",
   "nbconvert_exporter": "python",
   "pygments_lexer": "ipython2",
   "version": "2.7.11"
  }
 },
 "nbformat": 4,
 "nbformat_minor": 0
}
