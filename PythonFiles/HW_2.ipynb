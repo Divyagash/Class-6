{
 "cells": [
  {
   "cell_type": "markdown",
   "metadata": {},
   "source": [
    "# Question 1"
   ]
  },
  {
   "cell_type": "code",
   "execution_count": 1,
   "metadata": {
    "collapsed": true
   },
   "outputs": [],
   "source": [
    "import numpy as np\n",
    "import math\n",
    "import pylab as pl\n",
    "import random\n",
    "import matplotlib.pyplot as plt\n",
    "from time import time\n",
    "from sklearn import linear_model\n",
    "%matplotlib inline\n"
   ]
  },
  {
   "cell_type": "code",
   "execution_count": 2,
   "metadata": {
    "collapsed": false
   },
   "outputs": [],
   "source": [
    "def sigmoid(x):\n",
    "  return (1 / (1 + math.exp(-x)))\n"
   ]
  },
  {
   "cell_type": "code",
   "execution_count": null,
   "metadata": {
    "collapsed": false
   },
   "outputs": [],
   "source": []
  },
  {
   "cell_type": "code",
   "execution_count": 3,
   "metadata": {
    "collapsed": false
   },
   "outputs": [],
   "source": [
    "# Read the data file\n",
    "\n",
    "data = pl.loadtxt('../DataFiles/HW2/data1_train.csv')\n",
    "len(data[:,2])\n",
    "Y = data[:,2]\n",
    "X = data[:,0:2]\n",
    "a=np.array([1.0]*len(Y))\n",
    "\n",
    "#np.c_[a, X]\n",
    "#range(Y.shape[0])\n"
   ]
  },
  {
   "cell_type": "code",
   "execution_count": 4,
   "metadata": {
    "collapsed": false
   },
   "outputs": [],
   "source": [
    "# Assuming y's are +1 and -1 \n",
    "def logisticRegression(weight,X,Y,lambda_shrink):\n",
    "    \"\"\"\n",
    "    Function return the negative log-likelihood(NLL) and gradient for the NLL\n",
    "    based on the likelihood for logistic regression. Inputs are X,Y, weights for\n",
    "    the logistic regression and shrinkage parameter for penalization\n",
    "    \n",
    "    \"\"\"\n",
    "    \n",
    "    \n",
    "    W = weight[1:]\n",
    "    bias = weight[0]\n",
    "\n",
    "    NLL = 0\n",
    "    NLL_interceptGrad = 0\n",
    "    NLL_weightGrad = [0]*len(W)\n",
    "    print Y\n",
    "    samples = len(Y)\n",
    "    \n",
    "    for i in range(samples):\n",
    "        # Update for each sample\n",
    "        interm =np.exp(-Y[i]*(np.dot(W,X[i,:])+bias))\n",
    "        NLL+=math.log(1+interm)\n",
    "        NLL_interceptGrad+=(-Y[i]*interm)/(1+interm)\n",
    "        pointGradient = (X[i,]*(-Y[i]*interm))/(1+interm)\n",
    "        NLL_weightGrad = [i+j for i,j in zip(NLL_weightGrad,pointGradient)]\n",
    "    \n",
    "   \n",
    "    \n",
    "    L2normSq = np.inner(W,np.transpose(W))\n",
    "    \n",
    "    shrinkage = lambda_shrink * L2normSq\n",
    "    value = NLL+shrinkage\n",
    "    \n",
    "    \n",
    "    NLLGrad = np.append(NLL_interceptGrad,[NLL_weightGrad])\n",
    "    shrinkGradient = [0]+ [2*lambda_shrink*a for a in W] # add zero in the beginning for the intercept\n",
    "    Gradient = [a+b for a,b in  zip(NLLGrad,shrinkGradient)]\n",
    "\n",
    "    return(value,Gradient)\n"
   ]
  },
  {
   "cell_type": "code",
   "execution_count": 5,
   "metadata": {
    "collapsed": true
   },
   "outputs": [],
   "source": [
    "def logisticRegressionSGD(weight,X,Y,lambda_shrink):\n",
    "    \"\"\"\n",
    "    Function return the negative log-likelihood(NLL) and gradient for the NLL\n",
    "    based on the likelihood for logistic regression. Inputs are X,Y, weights for\n",
    "    the logistic regression and shrinkage parameter for penalization\n",
    "    (The difference here this is done in matrix calculation)\n",
    "    \n",
    "    \"\"\"\n",
    "    \n",
    "    W = weight[1:]\n",
    "    bias = weight[0]\n",
    "\n",
    "    interm =np.exp(-Y*(np.dot(W,X)+bias))\n",
    "    NLL = math.log(1+interm)\n",
    "    NLL_interceptGrad = (1/(1+interm))*-Y*interm\n",
    "    NLL_weightGrad = (1/(1+interm))*interm*-Y*X\n",
    "    \n",
    "    L2normSq = np.inner(W,np.transpose(W))\n",
    "    shrinkage = lambda_shrink * L2normSq\n",
    "    value = NLL+shrinkage\n",
    "\n",
    "    NLLGrad = np.append(NLL_interceptGrad,[NLL_weightGrad])\n",
    "    shrinkGradient = [0]+ [2*lambda_shrink*a for a in W]\n",
    "    #print shrinkGradient\n",
    "    Gradient = [a+b for a,b in  zip(NLLGrad,shrinkGradient)]\n",
    "\n",
    "    return(value,Gradient)"
   ]
  },
  {
   "cell_type": "code",
   "execution_count": 6,
   "metadata": {
    "collapsed": false
   },
   "outputs": [
    {
     "data": {
      "text/plain": [
       "(0.00012340218972333965,\n",
       " [-0.00012339457598623172, -0.00012339457598623172, -0.00024678915197246345])"
      ]
     },
     "execution_count": 6,
     "metadata": {},
     "output_type": "execute_result"
    }
   ],
   "source": [
    "logisticRegressionSGD([2,1,3],np.array([1,2]),np.array([1]),0)"
   ]
  },
  {
   "cell_type": "code",
   "execution_count": 7,
   "metadata": {
    "collapsed": false
   },
   "outputs": [
    {
     "name": "stdout",
     "output_type": "stream",
     "text": [
      "[-1.38996032  1.79306652]\n",
      "1.0\n",
      "(0.1539640633647761, [-0.1426971709630708, 0.19834340470720818, -0.25586551923848427])\n",
      "(1.153964063364776, [-0.1426971709630708, 0.19834340470720818, 1.7441344807615158])\n"
     ]
    }
   ],
   "source": [
    "print X[0,:]\n",
    "print Y[0]\n",
    "print logisticRegressionSGD([0,0,1],X[0,:],Y[0],0)\n",
    "print logisticRegressionSGD([0,0,1],X[0,:],Y[0],1)"
   ]
  },
  {
   "cell_type": "code",
   "execution_count": 8,
   "metadata": {
    "collapsed": true
   },
   "outputs": [],
   "source": [
    "def batchGradientDiscent(function,initGuess,step,threshold,maxIter,*args):\n",
    "    gradientNorm = []\n",
    "    epsilon = 1\n",
    "    errorPropagation = []\n",
    "    iteration = 0\n",
    "    \n",
    "    while epsilon > threshold and iteration < maxIter : \n",
    "        if iteration==0:\n",
    "            \n",
    "            value = [float(i) for i in initGuess]\n",
    "        \n",
    "        output = function(value,*args)\n",
    "        evaluateOld = function(value,*args)[0] # function evaluated at old point\n",
    "        gradient = [float(i) for i in output[1]]\n",
    "        change = [a*step for a in gradient]\n",
    "        newValue = [a - b for a,b in zip(value,change)] #GDS equation\n",
    "        evaluateNew = function(newValue,*args)[0]# function evaluated at new point\n",
    "        epsilon = abs(evaluateNew - evaluateOld)\n",
    "        \n",
    "        value = newValue\n",
    "        gradient= function(value,*args)[1]\n",
    "        gNorm = np.linalg.norm(gradient)\n",
    "        gradientNorm.append(gNorm)\n",
    "        \n",
    "        errorPropagation.append(epsilon)\n",
    "        iteration+=1\n",
    "            \n",
    "    return(gradientNorm, errorPropagation,value,iteration)"
   ]
  },
  {
   "cell_type": "code",
   "execution_count": null,
   "metadata": {
    "collapsed": false
   },
   "outputs": [],
   "source": []
  },
  {
   "cell_type": "code",
   "execution_count": 9,
   "metadata": {
    "collapsed": false
   },
   "outputs": [],
   "source": [
    "\n",
    "def stochasticGradientDiscent(function,initGuess,threshold,maxIter,tau0,kappa,*args):\n",
    "    \"\"\"\n",
    "         Genereic stochastic gradient descent function that outputs the point estimate\n",
    "         and the norm\n",
    "    \"\"\"\n",
    "    \n",
    "    gradientNorm = []\n",
    "    epsilon = 1\n",
    "    k = kappa\n",
    "    \n",
    "    steps = 0\n",
    "    iteration = 0\n",
    "    X = args[0]\n",
    "    Y = args[1]\n",
    "    c = args[2]\n",
    "    n = X.shape[0]\n",
    "    print n\n",
    "    print maxIter \n",
    "    ConvergedTheta  = []\n",
    "\n",
    "    weightList = []\n",
    "\n",
    "    for j in range(maxIter): \n",
    "        #print indTheta\n",
    "        for i in range(n):\n",
    "            #print i\n",
    "            if epsilon > threshold:\n",
    "                \n",
    "                indX = X[i,]\n",
    "                indY = Y[i]\n",
    "                \n",
    "                if steps ==0:\n",
    "                    indTheta = initGuess\n",
    "          \n",
    "                output = function(indTheta,indX,indY,c)\n",
    "\n",
    "                value = output[0]\n",
    "                gradient = output[1]\n",
    "                etaT = (1./((tau0+steps)*np.linalg.norm(gradient)))**k\n",
    "                change = [a*etaT for a in gradient]\n",
    "                newTheta = [a - b for a,b in zip(indTheta,change)] #GDS equation\n",
    "                newValue = function(newTheta,indX,indY,c)[0]\n",
    "                epsilon = np.linalg.norm(function(newTheta,indX,indY,c)[1])\n",
    "\n",
    "                steps= steps +1            \n",
    "                indTheta = newTheta\n",
    "                gradientNorm.append(np.linalg.norm(gradient))\n",
    "\n",
    "                ConvergedTheta = indTheta\n",
    "                weightList.append(indTheta)\n",
    " \n",
    "                \n",
    "            else:\n",
    "                print \"SGD converged\"\n",
    "                break\n",
    "    return(indTheta,gradientNorm,weightList)"
   ]
  },
  {
   "cell_type": "code",
   "execution_count": 10,
   "metadata": {
    "collapsed": true
   },
   "outputs": [],
   "source": [
    "def sGD(func, initGuess, iters, truth, X,y, tau, kappa,c):\n",
    "    gradientNorm=[]\n",
    "    percError = []\n",
    "    guess = initGuess\n",
    "    gNorm = 1\n",
    "    iteration = 0\n",
    "    sample = 0\n",
    "    perc_err=100\n",
    "    for i in range(iters):\n",
    "        #Evaluate function at current guess and sample\n",
    "        output = func(guess,X[sample], y[sample],c)         \n",
    "        #find gradient at current guess and sample\n",
    "        gradient = output[1]\n",
    "        step = 1/(tau + iteration + abs(np.linalg.norm(gradient)))**kappa\n",
    "\n",
    "        #calculate new guess\n",
    "        guess_new = guess - step * gradient \n",
    "        #find epsilon, distance between old and new function values on FULL DATA\n",
    "        epsilon = abs(func(guess_new,X,y)[0] - func(guess,X,y)[0])\n",
    "        #update guess\n",
    "        guess = guess_new\n",
    "\n",
    "        \n",
    "        gradient= func(guess,X,y)[1]\n",
    "        gNorm = np.linalg.norm(gradient)\n",
    "        gradientNorm.append(gNorm)\n",
    "        \n",
    "        percError.append(np.linalg.norm(guess_new-theta_hatOLS)/np.linalg.norm(theta_hatOLS)*100)\n",
    "        #print(iteration, gNorm)\n",
    "        \n",
    "        iteration=iteration+1\n",
    "        if sample == len(y)-1:\n",
    "            sample=0\n",
    "        else: sample = sample +1\n",
    "    return(gNorm, guess, iteration, gradientNorm, percError)"
   ]
  },
  {
   "cell_type": "code",
   "execution_count": 11,
   "metadata": {
    "collapsed": false
   },
   "outputs": [],
   "source": [
    "#sGD(logisticRegressionSGD,np.array([0,0,0]),10,5,X,Y,5,0.6,1)"
   ]
  },
  {
   "cell_type": "code",
   "execution_count": null,
   "metadata": {
    "collapsed": false
   },
   "outputs": [],
   "source": []
  },
  {
   "cell_type": "code",
   "execution_count": 12,
   "metadata": {
    "collapsed": false
   },
   "outputs": [],
   "source": [
    "result_array = np.empty((0, 3))\n",
    "result_array=np.append(result_array,[[1,2,3]],axis=0)\n",
    "result_array=np.append(result_array,[[41,22,3]],axis=0)\n"
   ]
  },
  {
   "cell_type": "code",
   "execution_count": 13,
   "metadata": {
    "collapsed": false
   },
   "outputs": [
    {
     "name": "stdout",
     "output_type": "stream",
     "text": [
      "[ 1.13829764] [[-0.18293729  3.36791697]]\n",
      "[ 6.15190321] [[ -1.21605589  11.73487733]]\n"
     ]
    }
   ],
   "source": [
    "# From python implementation\n",
    "logit = linear_model.LogisticRegression(penalty='l2', tol=0.0001, C=1, fit_intercept=True, intercept_scaling=1, max_iter=1000, multi_class='ovr')\n",
    "logit0 = linear_model.LogisticRegression(penalty='l2', tol=0.0001, C=100000000, fit_intercept=True, intercept_scaling=1, max_iter=1000, multi_class='ovr')\n",
    "\n",
    "# Check the answer for part (a) via sklearn implementation \n",
    "a = logit.fit(X,Y)\n",
    "print a.intercept_,a.coef_\n",
    "b = logit0.fit(X,Y)\n",
    "print b.intercept_,b.coef_"
   ]
  },
  {
   "cell_type": "code",
   "execution_count": 14,
   "metadata": {
    "collapsed": false,
    "scrolled": false
   },
   "outputs": [
    {
     "name": "stdout",
     "output_type": "stream",
     "text": [
      "400\n",
      "1\n",
      "400\n",
      "1\n",
      "SGD converged\n"
     ]
    }
   ],
   "source": [
    "# Applying stochastic gradient discent\n",
    "A_lambda_1 = stochasticGradientDiscent(logisticRegressionSGD,[0,0,0],1e-5,1,15,0.6,X,Y,1)\n",
    "A_lambda_0 = stochasticGradientDiscent(logisticRegressionSGD,[0,0,0],1e-5,1,15,0.6,X,Y,0)"
   ]
  },
  {
   "cell_type": "code",
   "execution_count": 15,
   "metadata": {
    "collapsed": false
   },
   "outputs": [
    {
     "data": {
      "text/plain": [
       "array([-0.062569  , -0.07660803, -0.05147647, -0.01692771, -0.04891728,\n",
       "       -0.08496765, -0.10768295, -0.06755881, -0.09316883, -0.05809887,\n",
       "       -0.02844807, -0.06028817, -0.0228533 ,  0.01438341, -0.01319293,\n",
       "       -0.03614786, -0.06702887, -0.03505633, -0.00390237, -0.03412634])"
      ]
     },
     "execution_count": 15,
     "metadata": {},
     "output_type": "execute_result"
    }
   ],
   "source": [
    "np.array(A_lambda_1[2])[190:210,1]"
   ]
  },
  {
   "cell_type": "code",
   "execution_count": 16,
   "metadata": {
    "collapsed": false
   },
   "outputs": [
    {
     "data": {
      "image/png": "[encoded data removed]",
      "text/plain": [
       "<matplotlib.figure.Figure at 0x10701f150>"
      ]
     },
     "metadata": {},
     "output_type": "display_data"
    }
   ],
   "source": [
    "plt.plot(np.array(A_lambda_1[2])[1:200,0],label ='w0' )\n",
    "plt.plot(np.array(A_lambda_1[2])[1:200,1],label = 'w1')\n",
    "plt.plot(np.array(A_lambda_1[2])[1:200,2],label = 'w2')\n",
    "\n",
    "plt.xlabel('Iterations')\n",
    "plt.ylabel('Magnitude of the weight')\n",
    "plt.ylim(-0.5,3.5)\n",
    "plt.legend(bbox_to_anchor=(1.05, 1), loc=1, borderaxespad=0.,title = \"Weight labels\")\n",
    "plt.title('Magnitude of the weight as a function of iterations \\n ($\\lambda$ = 1)')\n",
    "pl.savefig('../ImageFiles/HW2/Q1.1_lambda=1.pdf')\n"
   ]
  },
  {
   "cell_type": "code",
   "execution_count": 17,
   "metadata": {
    "collapsed": false
   },
   "outputs": [
    {
     "data": {
      "image/png": "[encoded data removed]",
      "text/plain": [
       "<matplotlib.figure.Figure at 0x107027510>"
      ]
     },
     "metadata": {},
     "output_type": "display_data"
    }
   ],
   "source": [
    "plt.plot(np.array(A_lambda_0[2])[1:200,0],label ='w0' )\n",
    "plt.plot(np.array(A_lambda_0[2])[1:200,1],label = 'w1')\n",
    "plt.plot(np.array(A_lambda_0[2])[1:200,2],label = 'w2')\n",
    "plt.xlabel('Iterations')\n",
    "plt.ylabel('Magnitude of the weight')\n",
    "plt.legend(bbox_to_anchor=(1.05, 1), loc=1, borderaxespad=0.,title = \"Weight labels\")\n",
    "plt.title('Magnitude of the weight as a function of iterations \\n ($\\lambda$ = 0)')\n",
    "pl.savefig('../ImageFiles/HW2/Q1.1_lambda=0.pdf')"
   ]
  },
  {
   "cell_type": "code",
   "execution_count": 18,
   "metadata": {
    "collapsed": false
   },
   "outputs": [],
   "source": [
    "# L1 regularization\n"
   ]
  },
  {
   "cell_type": "code",
   "execution_count": 19,
   "metadata": {
    "collapsed": false
   },
   "outputs": [
    {
     "ename": "NameError",
     "evalue": "name 'Coefficients_L1' is not defined",
     "output_type": "error",
     "traceback": [
      "\u001b[0;31m---------------------------------------------------------------------------\u001b[0m",
      "\u001b[0;31mNameError\u001b[0m                                 Traceback (most recent call last)",
      "\u001b[0;32m<ipython-input-19-30d9b30d5861>\u001b[0m in \u001b[0;36m<module>\u001b[0;34m()\u001b[0m\n\u001b[0;32m----> 1\u001b[0;31m \u001b[0;32mprint\u001b[0m \u001b[0mCoefficients_L1\u001b[0m\u001b[0;34m\u001b[0m\u001b[0m\n\u001b[0m\u001b[1;32m      2\u001b[0m \u001b[0;32mprint\u001b[0m \u001b[0mTotItrations_L1\u001b[0m\u001b[0;34m\u001b[0m\u001b[0m\n",
      "\u001b[0;31mNameError\u001b[0m: name 'Coefficients_L1' is not defined"
     ]
    }
   ],
   "source": [
    "print Coefficients_L1\n",
    "print TotItrations_L1"
   ]
  },
  {
   "cell_type": "markdown",
   "metadata": {},
   "source": [
    "# 1.2 L1 Norm"
   ]
  },
  {
   "cell_type": "code",
   "execution_count": 177,
   "metadata": {
    "collapsed": false
   },
   "outputs": [],
   "source": [
    "# sklearn logistic regression\n",
    "# Use lambda of 0,0.1,1,5. C is the inverse of lambda \n",
    "# Use both L1 and L2 regularization\n",
    "# In order for there to be no regularization choose C to be a very large number\n",
    "from sklearn import linear_model\n",
    "logit = linear_model.LogisticRegression(penalty='l2', tol=0.0001, C=10000000, fit_intercept=True, \n",
    "                                        intercept_scaling=1, max_iter=1000, multi_class='ovr')"
   ]
  },
  {
   "cell_type": "code",
   "execution_count": null,
   "metadata": {
    "collapsed": false
   },
   "outputs": [],
   "source": []
  },
  {
   "cell_type": "code",
   "execution_count": 178,
   "metadata": {
    "collapsed": true
   },
   "outputs": [],
   "source": [
    "data = pl.loadtxt('../DataFiles/HW2/data1_train.csv')\n",
    "\n",
    "Y = data[:,2]\n",
    "X = data[:,0:2]\n",
    "\n",
    "data1_V = pl.loadtxt('../DataFiles/HW2/data1_validate.csv')\n",
    "Y_V = data1_V[:,2]\n",
    "X_V = data1_V[:,0:2]\n",
    "\n",
    "\n",
    "\n",
    "data1_Test = pl.loadtxt('../DataFiles/HW2/data1_test.csv')\n",
    "Y_Test = data1_Test[:,2]\n",
    "X_Test = data1_Test[:,0:2]\n",
    "\n"
   ]
  },
  {
   "cell_type": "code",
   "execution_count": 179,
   "metadata": {
    "collapsed": false
   },
   "outputs": [
    {
     "name": "stdout",
     "output_type": "stream",
     "text": [
      "400\n",
      "200\n",
      "200\n"
     ]
    }
   ],
   "source": [
    "print len(Y)\n",
    "print len(Y_V)\n",
    "print len(Y_Test)"
   ]
  },
  {
   "cell_type": "code",
   "execution_count": 180,
   "metadata": {
    "collapsed": false
   },
   "outputs": [
    {
     "name": "stdout",
     "output_type": "stream",
     "text": [
      "400\n",
      "200\n",
      "200\n"
     ]
    }
   ],
   "source": [
    "data2 = pl.loadtxt('../DataFiles/HW2/data2_train.csv')\n",
    "\n",
    "Y2 = data2[:,2]\n",
    "X2 = data2[:,0:2]\n",
    "\n",
    "data2_V = pl.loadtxt('../DataFiles/HW2/data2_validate.csv')\n",
    "Y2_V = data2_V[:,2]\n",
    "X2_V = data2_V[:,0:2]\n",
    "\n",
    "\n",
    "data2_Test = pl.loadtxt('../DataFiles/HW2/data2_test.csv')\n",
    "Y2_Test = data2_Test[:,2]\n",
    "X2_Test = data2_Test[:,0:2]\n",
    "\n",
    "print len(Y2)\n",
    "print len(Y2_V)\n",
    "print len(Y2_Test)"
   ]
  },
  {
   "cell_type": "code",
   "execution_count": 181,
   "metadata": {
    "collapsed": false
   },
   "outputs": [
    {
     "name": "stdout",
     "output_type": "stream",
     "text": [
      "400\n",
      "200\n",
      "200\n"
     ]
    }
   ],
   "source": [
    "data3 = pl.loadtxt('../DataFiles/HW2/data3_train.csv')\n",
    "\n",
    "Y3 = data3[:,2]\n",
    "X3 = data3[:,0:2]\n",
    "a=np.array([1.0]*len(Y))\n",
    "\n",
    "data3_V = pl.loadtxt('../DataFiles/HW2/data3_validate.csv')\n",
    "Y3_V = data3_V[:,2]\n",
    "X3_V = data3_V[:,0:2]\n",
    "\n",
    "\n",
    "data3_Test = pl.loadtxt('../DataFiles/HW2/data3_test.csv')\n",
    "Y3_Test = data3_Test[:,2]\n",
    "X3_Test = data3_Test[:,0:2]\n",
    "\n",
    "print len(Y3)\n",
    "print len(Y3_V)\n",
    "print len(Y3_Test)"
   ]
  },
  {
   "cell_type": "code",
   "execution_count": 182,
   "metadata": {
    "collapsed": false
   },
   "outputs": [
    {
     "name": "stdout",
     "output_type": "stream",
     "text": [
      "400\n",
      "400\n",
      "400\n"
     ]
    }
   ],
   "source": [
    "data4 = pl.loadtxt('../DataFiles/HW2/data4_train.csv')\n",
    "Y4 = data4[:,2]\n",
    "X4 = data4[:,0:2]\n",
    "a=np.array([1.0]*len(Y))\n",
    "\n",
    "\n",
    "data4_V = pl.loadtxt('../DataFiles/HW2/data4_validate.csv')\n",
    "Y4_V = data4_V[:,2]\n",
    "X4_V = data4_V[:,0:2]\n",
    "\n",
    "\n",
    "data4_Test = pl.loadtxt('../DataFiles/HW2/data4_test.csv')\n",
    "Y4_Test = data4_Test[:,2]\n",
    "X4_Test = data4_Test[:,0:2]\n",
    "\n",
    "print len(Y4)\n",
    "print len(Y4_V)\n",
    "print len(Y4_Test)"
   ]
  },
  {
   "cell_type": "code",
   "execution_count": 183,
   "metadata": {
    "collapsed": false
   },
   "outputs": [
    {
     "data": {
      "text/plain": [
       "(400,)"
      ]
     },
     "execution_count": 183,
     "metadata": {},
     "output_type": "execute_result"
    }
   ],
   "source": [
    "Y4_V.shape"
   ]
  },
  {
   "cell_type": "code",
   "execution_count": 184,
   "metadata": {
    "collapsed": false
   },
   "outputs": [],
   "source": [
    "def ClassError(A,B):\n",
    "    \n",
    "    \"\"\" Function to calculate the classification error\"\"\"\n",
    "    error = 0\n",
    "    for i in range(len(A)):\n",
    "        if A[i] != B[i]:\n",
    "            error+=1\n",
    "    return error"
   ]
  },
  {
   "cell_type": "code",
   "execution_count": 185,
   "metadata": {
    "collapsed": false
   },
   "outputs": [],
   "source": [
    "logit_0 = linear_model.LogisticRegression(penalty='l2', tol=0.0001, C=10000000, fit_intercept=True,\n",
    "                                          intercept_scaling=1, max_iter=10000, multi_class='ovr')\n",
    "logit_0_1 = linear_model.LogisticRegression(penalty='l2', tol=0.0001, C=10, fit_intercept=True, \n",
    "                                            intercept_scaling=1, max_iter=10000, multi_class='ovr')\n",
    "logit_1 = linear_model.LogisticRegression(penalty='l2', tol=0.0001, C=1, fit_intercept=True, \n",
    "                                          intercept_scaling=1, max_iter=10000, multi_class='ovr')\n",
    "logit_5 = linear_model.LogisticRegression(penalty='l2', tol=0.0001, C=0.2, fit_intercept=True, \n",
    "                                          intercept_scaling=1, max_iter=10000, multi_class='ovr')\n"
   ]
  },
  {
   "cell_type": "code",
   "execution_count": 186,
   "metadata": {
    "collapsed": false
   },
   "outputs": [
    {
     "name": "stdout",
     "output_type": "stream",
     "text": [
      "[[ -1.21604045  11.73473535]] [ 6.15181078]\n",
      "0\n",
      "0\n",
      "--------------\n",
      "[[ 1.82486765  0.00233099]] [ 0.18261812]\n",
      "68\n",
      "35\n",
      "--------------\n",
      "[[ -0.45997313  13.61612131]] [-6.63692952]\n",
      "5\n",
      "7\n",
      "--------------\n",
      "[[-0.02473662 -0.02372561]] [ 0.00059689]\n",
      "194\n",
      "203\n"
     ]
    }
   ],
   "source": [
    "# Effect of lambda on weights, decision boundary, and classification error rate \n",
    "# For training set 1\n",
    "\n",
    "\n",
    "\n",
    "model_0_set1 = logit_0.fit(X,Y)\n",
    "print model_0_set1.coef_,model_0_set1.intercept_\n",
    "print ClassError(Y,model_0_set1.predict(X))\n",
    "print ClassError(Y_V,model_0_set1.predict(X_V))\n",
    "\n",
    "print '--------------'\n",
    "model_0_set2 = logit_0.fit(X2,Y2)\n",
    "print model_0_set2.coef_,model_0_set2.intercept_\n",
    "print ClassError(Y2,model_0_set2.predict(X2))\n",
    "print ClassError(Y2_V,model_0_set2.predict(X2_V))\n",
    "\n",
    "\n",
    "print '--------------'\n",
    "model_0_set3 = logit_0.fit(X3,Y3)\n",
    "print model_0_set3.coef_,model_0_set3.intercept_\n",
    "print ClassError(Y3,model_0_set3.predict(X3))\n",
    "print ClassError(Y3_V,model_0_set3.predict(X3_V))\n",
    "\n",
    "print '--------------'\n",
    "model_0_set4 = logit_0.fit(X4,Y4)\n",
    "print model_0_set4.coef_,model_0_set4.intercept_\n",
    "#print sum(abs(Y4 - model_0_set4.predict(X4)))\n",
    "#print sum(abs(Y4_V - model_0_set4.predict(X4_V)))\n",
    "#model_0_set1.coef_\n",
    "print ClassError(Y4,model_0_set4.predict(X4))\n",
    "print ClassError(Y4_V,model_0_set4.predict(X4_V))"
   ]
  },
  {
   "cell_type": "code",
   "execution_count": 187,
   "metadata": {
    "collapsed": false
   },
   "outputs": [
    {
     "name": "stdout",
     "output_type": "stream",
     "text": [
      "[[-0.46420343  5.30635537]] [ 2.37552442]\n",
      "0\n",
      "0\n",
      "-----------------\n",
      "[[ 1.81888558  0.00221756]] [ 0.00059689]\n",
      "68\n",
      "35\n",
      "-----------------\n",
      "[[-0.30901382  8.72763494]] [-3.76774254]\n",
      "5\n",
      "7\n",
      "-----------------\n",
      "[[-0.02473148 -0.02372077]] [ 0.00059616]\n",
      "194\n",
      "203\n"
     ]
    }
   ],
   "source": [
    "model_0_1_set1 = logit_0_1.fit(X,Y)\n",
    "print model_0_1_set1.coef_,model_0_1_set1.intercept_\n",
    "\n",
    "print ClassError(Y,model_0_1_set1.predict(X))\n",
    "print ClassError(Y_V,model_0_1_set1.predict(X_V))\n",
    "\n",
    "\n",
    "print '-----------------'\n",
    "\n",
    "model_0_1_set2 = logit_0_1.fit(X2,Y2)\n",
    "print model_0_1_set2.coef_,model_0_set2.intercept_\n",
    "print ClassError(Y2,model_0_1_set2.predict(X2))\n",
    "print ClassError(Y2_V,model_0_1_set2.predict(X2_V))\n",
    "\n",
    "print '-----------------'\n",
    "\n",
    "model_0_1_set3 = logit_0_1.fit(X3,Y3)\n",
    "print model_0_1_set3.coef_,model_0_1_set3.intercept_\n",
    "print ClassError(Y3,model_0_1_set3.predict(X3))\n",
    "print ClassError(Y3_V,model_0_1_set3.predict(X3_V))\n",
    "\n",
    "print '-----------------'\n",
    "\n",
    "model_0_1_set4 = logit_0_1.fit(X4,Y4)\n",
    "print model_0_1_set4.coef_,model_0_1_set4.intercept_\n",
    "print ClassError(Y4,model_0_1_set4.predict(X4))\n",
    "print ClassError(Y4_V,model_0_1_set4.predict(X4_V))"
   ]
  },
  {
   "cell_type": "code",
   "execution_count": 188,
   "metadata": {
    "collapsed": false
   },
   "outputs": [
    {
     "name": "stdout",
     "output_type": "stream",
     "text": [
      "[[-0.18293729  3.36791697]] [ 1.13829764]\n",
      "0\n",
      "0\n",
      "-----------------\n",
      "[[  1.76833368e+00   1.24387569e-03]] [ 0.1689112]\n",
      "67\n",
      "35\n",
      "-----------------\n",
      "[[-0.20814065  4.8715839 ]] [-1.50894762]\n",
      "9\n",
      "6\n",
      "-----------------\n",
      "[[-0.02468524 -0.02367728]] [ 0.00058969]\n",
      "194\n",
      "203\n"
     ]
    }
   ],
   "source": [
    "model_1_set1 = logit_1.fit(X,Y)\n",
    "print model_1_set1.coef_,model_1_set1.intercept_\n",
    "print ClassError(Y,model_1_set1.predict(X))\n",
    "print ClassError(Y_V,model_1_set1.predict(X_V))\n",
    "\n",
    "print '-----------------'\n",
    "\n",
    "model_1_set2 = logit_1.fit(X2,Y2)\n",
    "print model_1_set2.coef_,model_1_set2.intercept_\n",
    "print ClassError(Y2,model_1_set2.predict(X2))\n",
    "print ClassError(Y2_V,model_1_set2.predict(X2_V))\n",
    "\n",
    "print '-----------------'\n",
    "\n",
    "model_1_set3 = logit_1.fit(X3,Y3)\n",
    "print model_1_set3.coef_,model_1_set3.intercept_\n",
    "print ClassError(Y3,model_1_set3.predict(X3))\n",
    "print ClassError(Y3_V,model_1_set3.predict(X3_V))\n",
    "\n",
    "print '-----------------'\n",
    "\n",
    "model_1_set4 = logit_1.fit(X4,Y4)\n",
    "print model_1_set4.coef_,model_1_set4.intercept_\n",
    "print ClassError(Y4,model_1_set4.predict(X4))\n",
    "print ClassError(Y4_V,model_1_set4.predict(X4_V))"
   ]
  },
  {
   "cell_type": "code",
   "execution_count": 176,
   "metadata": {
    "collapsed": false
   },
   "outputs": [
    {
     "ename": "NameError",
     "evalue": "name 'logit_5' is not defined",
     "output_type": "error",
     "traceback": [
      "\u001b[0;31m---------------------------------------------------------------------------\u001b[0m",
      "\u001b[0;31mNameError\u001b[0m                                 Traceback (most recent call last)",
      "\u001b[0;32m<ipython-input-176-50443f4f97fb>\u001b[0m in \u001b[0;36m<module>\u001b[0;34m()\u001b[0m\n\u001b[0;32m----> 1\u001b[0;31m \u001b[0mmodel_5_set1\u001b[0m \u001b[0;34m=\u001b[0m \u001b[0mlogit_5\u001b[0m\u001b[0;34m.\u001b[0m\u001b[0mfit\u001b[0m\u001b[0;34m(\u001b[0m\u001b[0mX\u001b[0m\u001b[0;34m,\u001b[0m\u001b[0mY\u001b[0m\u001b[0;34m)\u001b[0m\u001b[0;34m\u001b[0m\u001b[0m\n\u001b[0m\u001b[1;32m      2\u001b[0m \u001b[0;32mprint\u001b[0m \u001b[0mmodel_5_set1\u001b[0m\u001b[0;34m.\u001b[0m\u001b[0mcoef_\u001b[0m\u001b[0;34m,\u001b[0m\u001b[0mmodel_5_set1\u001b[0m\u001b[0;34m.\u001b[0m\u001b[0mintercept_\u001b[0m\u001b[0;34m\u001b[0m\u001b[0m\n\u001b[1;32m      3\u001b[0m \u001b[0;32mprint\u001b[0m \u001b[0mClassError\u001b[0m\u001b[0;34m(\u001b[0m\u001b[0mY\u001b[0m\u001b[0;34m,\u001b[0m\u001b[0mmodel_5_set1\u001b[0m\u001b[0;34m.\u001b[0m\u001b[0mpredict\u001b[0m\u001b[0;34m(\u001b[0m\u001b[0mX\u001b[0m\u001b[0;34m)\u001b[0m\u001b[0;34m)\u001b[0m\u001b[0;34m\u001b[0m\u001b[0m\n\u001b[1;32m      4\u001b[0m \u001b[0;32mprint\u001b[0m \u001b[0mClassError\u001b[0m\u001b[0;34m(\u001b[0m\u001b[0mY_V\u001b[0m\u001b[0;34m,\u001b[0m\u001b[0mmodel_5_set1\u001b[0m\u001b[0;34m.\u001b[0m\u001b[0mpredict\u001b[0m\u001b[0;34m(\u001b[0m\u001b[0mX_V\u001b[0m\u001b[0;34m)\u001b[0m\u001b[0;34m)\u001b[0m\u001b[0;34m\u001b[0m\u001b[0m\n\u001b[1;32m      5\u001b[0m \u001b[0;34m\u001b[0m\u001b[0m\n",
      "\u001b[0;31mNameError\u001b[0m: name 'logit_5' is not defined"
     ]
    }
   ],
   "source": [
    "model_5_set1 = logit_5.fit(X,Y)\n",
    "print model_5_set1.coef_,model_5_set1.intercept_\n",
    "print ClassError(Y,model_5_set1.predict(X))\n",
    "print ClassError(Y_V,model_5_set1.predict(X_V))\n",
    "\n",
    "print '-----------------'\n",
    "\n",
    "model_5_set2 = logit_5.fit(X2,Y2)\n",
    "print model_5_set2.coef_,model_5_set2.intercept_\n",
    "print ClassError(Y2,model_5_set2.predict(X2))\n",
    "print ClassError(Y2_V,model_5_set2.predict(X2_V))\n",
    "\n",
    "print '-----------------'\n",
    "\n",
    "\n",
    "model_5_set3 = logit_5.fit(X3,Y3)\n",
    "print model_5_set3.coef_,model_5_set3.intercept_\n",
    "print ClassError(Y3,model_5_set3.predict(X3))\n",
    "print ClassError(Y3_V,model_5_set3.predict(X3_V))\n",
    "\n",
    "print '-----------------'\n",
    "\n",
    "model_5_set4 = logit_5.fit(X4,Y4)\n",
    "print model_5_set4.coef_,model_5_set4.intercept_\n",
    "print ClassError(Y4,model_5_set4.predict(X4))\n",
    "print ClassError(Y4_V,model_5_set4.predict(X4_V))"
   ]
  },
  {
   "cell_type": "code",
   "execution_count": 367,
   "metadata": {
    "collapsed": true
   },
   "outputs": [],
   "source": [
    "# Conclusion from L2 regularization the lowest classification error was obtained \n",
    "# dataset 1 - 97 across all lambdas\n",
    "# dataset 2 - 35 whenl lambda is 1 or 0.1 or 0 \n",
    "# dataset 3 - 6 when lambda = 1\n",
    "# dataset 4 - 194 same across all lambdas"
   ]
  },
  {
   "cell_type": "markdown",
   "metadata": {},
   "source": [
    "Weight from these model fits (L2)"
   ]
  },
  {
   "cell_type": "code",
   "execution_count": null,
   "metadata": {
    "collapsed": false
   },
   "outputs": [],
   "source": [
    "# Show the weights from dataset 3, Decision boundary"
   ]
  },
  {
   "cell_type": "code",
   "execution_count": null,
   "metadata": {
    "collapsed": false
   },
   "outputs": [],
   "source": []
  },
  {
   "cell_type": "code",
   "execution_count": 95,
   "metadata": {
    "collapsed": false
   },
   "outputs": [
    {
     "name": "stdout",
     "output_type": "stream",
     "text": [
      "[ 1.13829764] [[-0.18293729  3.36791697]]\n",
      "[ 6.15190321] [[ -1.21605589  11.73487733]]\n"
     ]
    }
   ],
   "source": [
    "logit = linear_model.LogisticRegression(penalty='l2', tol=0.0001, C=1, fit_intercept=True, \n",
    "                                        intercept_scaling=1, max_iter=1000, multi_class='ovr')\n",
    "logit0 = linear_model.LogisticRegression(penalty='l2', tol=0.0001, C=100000000, fit_intercept=True, \n",
    "                                         intercept_scaling=1, max_iter=1000, multi_class='ovr')\n",
    "\n",
    "# Check the answer for part (a) via sklearn implementation \n",
    "a = logit.fit(X,Y)\n",
    "print a.intercept_,a.coef_\n",
    "b = logit0.fit(X,Y)\n",
    "print b.intercept_,b.coef_"
   ]
  },
  {
   "cell_type": "code",
   "execution_count": 177,
   "metadata": {
    "collapsed": false
   },
   "outputs": [
    {
     "data": {
      "text/plain": [
       "LogisticRegression(C=1, class_weight=None, dual=False, fit_intercept=True,\n",
       "          intercept_scaling=1, max_iter=1000, multi_class='ovr', n_jobs=1,\n",
       "          penalty='l2', random_state=None, solver='liblinear', tol=0.0001,\n",
       "          verbose=0, warm_start=False)"
      ]
     },
     "execution_count": 177,
     "metadata": {},
     "output_type": "execute_result"
    }
   ],
   "source": [
    "logit_1 = linear_model.LogisticRegression(penalty='l2', tol=0.0001, C=1, fit_intercept=True, \n",
    "                                          intercept_scaling=1, max_iter=1000, multi_class='ovr')\n",
    "logit_1.fit(X4,Y4)"
   ]
  },
  {
   "cell_type": "code",
   "execution_count": 160,
   "metadata": {
    "collapsed": true
   },
   "outputs": [],
   "source": [
    "logit_5 = linear_model.LogisticRegression(penalty='l2', tol=0.0001, C=0.2, fit_intercept=True, \n",
    "                                          intercept_scaling=1, max_iter=1000, multi_class='ovr')"
   ]
  },
  {
   "cell_type": "code",
   "execution_count": 181,
   "metadata": {
    "collapsed": false
   },
   "outputs": [
    {
     "data": {
      "image/png": "[encoded data removed]",
      "text/plain": [
       "<matplotlib.figure.Figure at 0x10e7655d0>"
      ]
     },
     "metadata": {},
     "output_type": "display_data"
    }
   ],
   "source": [
    "h = .02  # step size in the mesh\n",
    "x_min, x_max = X4[:, 0].min() - .5, X4[:, 0].max() + .5\n",
    "y_min, y_max = X4[:, 1].min() - .5, X4[:, 1].max() + .5\n",
    "xx, yy = np.meshgrid(np.arange(x_min, x_max, h), np.arange(y_min, y_max, h))\n",
    "Z = logit_1.predict(np.c_[xx.ravel(), yy.ravel()])\n",
    "\n",
    "# Put the result into a color plot\n",
    "Z = Z.reshape(xx.shape)\n",
    "plt.figure(1, figsize=(4, 3))\n",
    "plt.pcolormesh(xx, yy, Z, cmap=plt.cm.Paired)\n",
    "\n",
    "# Plot also the training points\n",
    "plt.scatter(X4[:, 0], X4[:, 1], c=Y4, edgecolors='k', cmap=plt.cm.Paired)\n",
    "plt.xlabel('X1')\n",
    "plt.ylabel('X2')\n",
    "plt.title('Decision Boundary for \\n dataset 4')\n",
    "plt.xlim(xx.min(), xx.max())\n",
    "plt.ylim(yy.min(), yy.max())\n",
    "plt.tight_layout()\n",
    "plt.xticks(())\n",
    "plt.yticks(())\n",
    "\n",
    "fig = plt.gcf()\n",
    "fig.set_size_inches(7, 5)\n",
    "fig.savefig('../ImageFiles/HW2/Q1_2_DecisionBoundary_Dataset4.png', dpi=100)\n"
   ]
  },
  {
   "cell_type": "code",
   "execution_count": null,
   "metadata": {
    "collapsed": false
   },
   "outputs": [],
   "source": [
    "# Decision Boundary for dataset 1"
   ]
  },
  {
   "cell_type": "code",
   "execution_count": 182,
   "metadata": {
    "collapsed": false
   },
   "outputs": [
    {
     "data": {
      "text/plain": [
       "LogisticRegression(C=1, class_weight=None, dual=False, fit_intercept=True,\n",
       "          intercept_scaling=1, max_iter=1000, multi_class='ovr', n_jobs=1,\n",
       "          penalty='l2', random_state=None, solver='liblinear', tol=0.0001,\n",
       "          verbose=0, warm_start=False)"
      ]
     },
     "execution_count": 182,
     "metadata": {},
     "output_type": "execute_result"
    }
   ],
   "source": [
    "logit_1 = linear_model.LogisticRegression(penalty='l2', tol=0.0001, C=1, fit_intercept=True, \n",
    "                                          intercept_scaling=1, max_iter=1000, multi_class='ovr')\n",
    "logit_1.fit(X,Y)"
   ]
  },
  {
   "cell_type": "code",
   "execution_count": 183,
   "metadata": {
    "collapsed": false
   },
   "outputs": [
    {
     "data": {
      "image/png": "[encoded data removed]",
      "text/plain": [
       "<matplotlib.figure.Figure at 0x1059b26d0>"
      ]
     },
     "metadata": {},
     "output_type": "display_data"
    }
   ],
   "source": [
    "h = .02  # step size in the mesh\n",
    "x_min, x_max = X[:, 0].min() - .5, X[:, 0].max() + .5\n",
    "y_min, y_max = X[:, 1].min() - .5, X[:, 1].max() + .5\n",
    "xx, yy = np.meshgrid(np.arange(x_min, x_max, h), np.arange(y_min, y_max, h))\n",
    "Z = logit_1.predict(np.c_[xx.ravel(), yy.ravel()])\n",
    "\n",
    "# Put the result into a color plot\n",
    "Z = Z.reshape(xx.shape)\n",
    "plt.figure(1, figsize=(4, 3))\n",
    "plt.pcolormesh(xx, yy, Z, cmap=plt.cm.Paired)\n",
    "\n",
    "# Plot also the training points\n",
    "plt.scatter(X[:, 0], X[:, 1], c=Y, edgecolors='k', cmap=plt.cm.Paired)\n",
    "plt.xlabel('X1')\n",
    "plt.ylabel('X2')\n",
    "plt.title('Decision Boundary for  \\n dataset 1')\n",
    "plt.xlim(xx.min(), xx.max())\n",
    "plt.ylim(yy.min(), yy.max())\n",
    "plt.tight_layout()\n",
    "plt.xticks(())\n",
    "plt.yticks(())\n",
    "\n",
    "fig = plt.gcf()\n",
    "fig.set_size_inches(7, 5)\n",
    "fig.savefig('../ImageFiles/HW2/Q1_2_DecisionBoundary_Dataset1.png', dpi=100)\n",
    "plt.show()"
   ]
  },
  {
   "cell_type": "code",
   "execution_count": 147,
   "metadata": {
    "collapsed": false
   },
   "outputs": [
    {
     "data": {
      "text/plain": [
       "LogisticRegression(C=1, class_weight=None, dual=False, fit_intercept=True,\n",
       "          intercept_scaling=1, max_iter=1000, multi_class='ovr', n_jobs=1,\n",
       "          penalty='l2', random_state=None, solver='liblinear', tol=0.0001,\n",
       "          verbose=0, warm_start=False)"
      ]
     },
     "execution_count": 147,
     "metadata": {},
     "output_type": "execute_result"
    }
   ],
   "source": [
    "logit_1 = linear_model.LogisticRegression(penalty='l2', tol=0.0001, C=1, fit_intercept=True, \n",
    "                                          intercept_scaling=1, max_iter=1000, multi_class='ovr')\n",
    "logit_1.fit(X3,Y3)"
   ]
  },
  {
   "cell_type": "code",
   "execution_count": 151,
   "metadata": {
    "collapsed": false
   },
   "outputs": [
    {
     "data": {
      "image/png": "[encoded data removed]",
      "text/plain": [
       "<matplotlib.figure.Figure at 0x106092950>"
      ]
     },
     "metadata": {},
     "output_type": "display_data"
    }
   ],
   "source": [
    "h = .02  # step size in the mesh\n",
    "x_min, x_max = X3[:, 0].min() - .5, X3[:, 0].max() + .5\n",
    "y_min, y_max = X3[:, 1].min() - .5, X3[:, 1].max() + .5\n",
    "xx, yy = np.meshgrid(np.arange(x_min, x_max, h), np.arange(y_min, y_max, h))\n",
    "Z = logit_1.predict(np.c_[xx.ravel(), yy.ravel()])\n",
    "\n",
    "# Put the result into a color plot\n",
    "Z = Z.reshape(xx.shape)\n",
    "plt.figure(1, figsize=(4, 3))\n",
    "plt.pcolormesh(xx, yy, Z, cmap=plt.cm.Paired)\n",
    "\n",
    "# Plot also the training points\n",
    "plt.scatter(X3[:, 0], X3[:, 1], c=Y3, edgecolors='k', cmap=plt.cm.Paired)\n",
    "plt.xlabel('X1')\n",
    "plt.ylabel('X2')\n",
    "plt.title('Decision Boundary for  \\n dataset 2')\n",
    "plt.xlim(xx.min(), xx.max())\n",
    "plt.ylim(yy.min(), yy.max())\n",
    "plt.xticks(())\n",
    "plt.yticks(())\n",
    "\n",
    "plt.show()"
   ]
  },
  {
   "cell_type": "markdown",
   "metadata": {
    "collapsed": false
   },
   "source": [
    "L1 regularization"
   ]
  },
  {
   "cell_type": "code",
   "execution_count": 104,
   "metadata": {
    "collapsed": true
   },
   "outputs": [],
   "source": [
    "logit_0_L1 = linear_model.LogisticRegression(penalty='l1', tol=0.0001, C=1000000, fit_intercept=True, intercept_scaling=1, max_iter=1000, multi_class='ovr')\n",
    "logit_0_1_L1 = linear_model.LogisticRegression(penalty='l1', tol=0.0001, C=10, fit_intercept=True, intercept_scaling=1, max_iter=1000, multi_class='ovr')\n",
    "logit_1_L1 = linear_model.LogisticRegression(penalty='l1', tol=0.0001, C=1, fit_intercept=True, intercept_scaling=1, max_iter=1000, multi_class='ovr')\n",
    "logit_5_L1 = linear_model.LogisticRegression(penalty='l1', tol=0.0001, C=0.2, fit_intercept=True, intercept_scaling=1, max_iter=1000, multi_class='ovr')"
   ]
  },
  {
   "cell_type": "code",
   "execution_count": 106,
   "metadata": {
    "collapsed": false
   },
   "outputs": [
    {
     "name": "stdout",
     "output_type": "stream",
     "text": [
      "[[ -1.09772346  11.59660703]] [ 6.01612364]\n",
      "0\n",
      "0\n",
      "-----------------\n",
      "[[ 1.82487211  0.00234968]] [ 0.18253837]\n",
      "68\n",
      "35\n",
      "-----------------\n",
      "[[ -0.45825413  13.55400495]] [-6.60133013]\n",
      "5\n",
      "7\n",
      "-----------------\n",
      "[[-0.02473661 -0.0237256 ]] [ 0.00059732]\n",
      "194\n",
      "203\n"
     ]
    }
   ],
   "source": [
    "model_0_set1 = logit_0_L1.fit(X,Y)\n",
    "print model_0_set1.coef_,model_0_set1.intercept_\n",
    "print ClassError(Y,model_0_set1.predict(X))\n",
    "print ClassError(Y_V,model_0_set1.predict(X_V))\n",
    "\n",
    "print '-----------------'\n",
    "\n",
    "model_0_set2 = logit_0_L1.fit(X2,Y2)\n",
    "print model_0_set2.coef_,model_0_set2.intercept_\n",
    "print ClassError(Y2,model_0_set2.predict(X2))\n",
    "print ClassError(Y2_V,model_0_set2.predict(X2_V))\n",
    "\n",
    "print '-----------------'\n",
    "\n",
    "\n",
    "model_0_set3 = logit_0_L1.fit(X3,Y3)\n",
    "print model_0_set3.coef_,model_0_set3.intercept_\n",
    "print ClassError(Y3,model_0_set3.predict(X3))\n",
    "print ClassError(Y3_V,model_0_set3.predict(X3_V))\n",
    "\n",
    "print '-----------------'\n",
    "\n",
    "model_0_set4 = logit_0_L1.fit(X4,Y4)\n",
    "print model_0_set4.coef_,model_0_set4.intercept_\n",
    "print ClassError(Y4,model_0_set4.predict(X4))\n",
    "print ClassError(Y4_V,model_0_set4.predict(X4_V))"
   ]
  },
  {
   "cell_type": "code",
   "execution_count": 107,
   "metadata": {
    "collapsed": false
   },
   "outputs": [
    {
     "name": "stdout",
     "output_type": "stream",
     "text": [
      "[[-0.60275467  7.14067647]] [ 3.33279442]\n",
      "0\n",
      "0\n",
      "-----------------\n",
      "[[  1.82086942e+00   1.42419366e-03]] [ 0.00059732]\n",
      "68\n",
      "35\n",
      "-----------------\n",
      "[[ -0.4582527   13.55179174]] [-6.60005801]\n",
      "5\n",
      "7\n",
      "-----------------\n",
      "[[-0.02451843 -0.02352644]] [ 0.]\n",
      "193\n",
      "201\n"
     ]
    }
   ],
   "source": [
    "model_0_1_set1 = logit_0_1_L1.fit(X,Y)\n",
    "print model_0_1_set1.coef_,model_0_1_set1.intercept_\n",
    "print ClassError(Y,model_0_1_set1.predict(X))\n",
    "print ClassError(Y_V,model_0_1_set1.predict(X_V))\n",
    "\n",
    "print '-----------------'\n",
    "\n",
    "model_0_1_set2 = logit_0_1_L1.fit(X2,Y2)\n",
    "print model_0_1_set2.coef_,model_0_set2.intercept_\n",
    "print ClassError(Y2,model_0_1_set2.predict(X2))\n",
    "print ClassError(Y2_V,model_0_1_set2.predict(X2_V))\n",
    "\n",
    "print '-----------------'\n",
    "\n",
    "\n",
    "model_0_1_set3 = logit_0_L1.fit(X3,Y3)\n",
    "print model_0_1_set3.coef_,model_0_1_set3.intercept_\n",
    "print ClassError(Y3,model_0_1_set3.predict(X3))\n",
    "print ClassError(Y3_V,model_0_1_set3.predict(X3_V))\n",
    "\n",
    "print '-----------------'\n",
    "\n",
    "model_0_1_set4 = logit_0_1_L1.fit(X4,Y4)\n",
    "print model_0_1_set4.coef_,model_0_1_set4.intercept_\n",
    "print ClassError(Y4,model_0_1_set4.predict(X4))\n",
    "print ClassError(Y4_V,model_0_1_set4.predict(X4_V))"
   ]
  },
  {
   "cell_type": "code",
   "execution_count": 108,
   "metadata": {
    "collapsed": false
   },
   "outputs": [
    {
     "name": "stdout",
     "output_type": "stream",
     "text": [
      "[[-0.18983063  4.36971868]] [ 1.49728345]\n",
      "0\n",
      "0\n",
      "-----------------\n",
      "[[ 1.7870139  0.       ]] [ 0.15674468]\n",
      "67\n",
      "35\n",
      "-----------------\n",
      "[[-0.18838264  7.76259808]] [-3.14020992]\n",
      "7\n",
      "7\n",
      "-----------------\n",
      "[[-0.02264641 -0.0216913 ]] [ 0.]\n",
      "193\n",
      "201\n"
     ]
    }
   ],
   "source": [
    "model_1_set1 = logit_1_L1.fit(X,Y)\n",
    "print model_1_set1.coef_,model_1_set1.intercept_\n",
    "print ClassError(Y,model_1_set1.predict(X))\n",
    "print ClassError(Y_V,model_1_set1.predict(X_V))\n",
    "\n",
    "print '-----------------'\n",
    "\n",
    "model_1_set2 = logit_1_L1.fit(X2,Y2)\n",
    "print model_1_set2.coef_,model_1_set2.intercept_\n",
    "print ClassError(Y2,model_1_set1.predict(X2))\n",
    "print ClassError(Y2_V,model_1_set1.predict(X2_V))\n",
    "\n",
    "print '-----------------'\n",
    "\n",
    "\n",
    "model_1_set3 = logit_1_L1.fit(X3,Y3)\n",
    "print model_1_set3.coef_,model_1_set3.intercept_\n",
    "print ClassError(Y3,model_1_set3.predict(X3))\n",
    "print ClassError(Y3_V,model_1_set3.predict(X3_V))\n",
    "\n",
    "print '-----------------'\n",
    "\n",
    "model_1_set4 = logit_1_L1.fit(X4,Y4)\n",
    "print model_1_set4.coef_,model_1_set4.intercept_\n",
    "print ClassError(Y4,model_1_set4.predict(X4))\n",
    "print ClassError(Y4_V,model_1_set4.predict(X4_V))"
   ]
  },
  {
   "cell_type": "code",
   "execution_count": 109,
   "metadata": {
    "collapsed": false
   },
   "outputs": [
    {
     "name": "stdout",
     "output_type": "stream",
     "text": [
      "[[ 0.          2.93358062]] [ 0.2631319]\n",
      "3\n",
      "0\n",
      "-----------------\n",
      "[[ 1.65304952  0.        ]] [ 0.05867488]\n",
      "70\n",
      "37\n",
      "-----------------\n",
      "[[ 0.          4.39658007]] [-1.07050268]\n",
      "10\n",
      "8\n",
      "-----------------\n",
      "[[-0.01432705 -0.0135517 ]] [ 0.]\n",
      "193\n",
      "203\n"
     ]
    }
   ],
   "source": [
    "model_5_set1 = logit_5_L1.fit(X,Y)\n",
    "print model_5_set1.coef_,model_5_set1.intercept_\n",
    "print ClassError(Y,model_5_set1.predict(X))\n",
    "print ClassError(Y_V,model_5_set1.predict(X_V))\n",
    "\n",
    "print '-----------------'\n",
    "\n",
    "model_5_set2 = logit_5_L1.fit(X2,Y2)\n",
    "print model_5_set2.coef_,model_5_set2.intercept_\n",
    "print ClassError(Y2,model_5_set1.predict(X2))\n",
    "print ClassError(Y2_V,model_5_set1.predict(X2_V))\n",
    "\n",
    "print '-----------------'\n",
    "\n",
    "\n",
    "model_5_set3 = logit_5_L1.fit(X3,Y3)\n",
    "print model_5_set3.coef_,model_5_set3.intercept_\n",
    "print ClassError(Y3,model_5_set1.predict(X3))\n",
    "print ClassError(Y3_V,model_5_set1.predict(X3_V))\n",
    "\n",
    "print '-----------------'\n",
    "\n",
    "model_5_set4 = logit_5_L1.fit(X4,Y4)\n",
    "print model_5_set4.coef_,model_5_set4.intercept_\n",
    "print ClassError(Y4,model_5_set1.predict(X4))\n",
    "print ClassError(Y4_V,model_5_set1.predict(X4_V))"
   ]
  },
  {
   "cell_type": "code",
   "execution_count": null,
   "metadata": {
    "collapsed": false
   },
   "outputs": [],
   "source": []
  },
  {
   "cell_type": "code",
   "execution_count": null,
   "metadata": {
    "collapsed": false
   },
   "outputs": [],
   "source": []
  },
  {
   "cell_type": "code",
   "execution_count": 107,
   "metadata": {
    "collapsed": false
   },
   "outputs": [],
   "source": [
    "# Grid search for lambda in each dataset to get the lambda that gives the minimum error rate \n",
    "lambdaList = np.linspace(0.1,5,50)\n",
    "classError_D1 = []\n",
    "classError_D2 = []\n",
    "classError_D3 = []\n",
    "classError_D4 = []\n",
    "for i in lambdaList:\n",
    "    logit_L2 = linear_model.LogisticRegression(penalty='l2', tol=0.0001, C=1/i, fit_intercept=True, \n",
    "                                               intercept_scaling=1, max_iter=1000, multi_class='ovr')\n",
    "\n",
    "    \n",
    "    model_set1 = logit_L2.fit(X,Y)\n",
    "    classError_D1.append(ClassError(Y_V,model_set1.predict(X_V)))\n",
    "    \n",
    "    model_set2 = logit_L2.fit(X2,Y2)\n",
    "    classError_D2.append(ClassError(Y2_V,model_set2.predict(X2_V)))\n",
    "    \n",
    "    model_set3 = logit_L2.fit(X3,Y3)\n",
    "    classError_D3.append(ClassError(Y3_V,model_set3.predict(X3_V)))\n",
    "    \n",
    "    model_set4 = logit_L2.fit(X4,Y4)\n",
    "    classError_D4.append(ClassError(Y4_V,model_set3.predict(X4_V)))\n",
    "    "
   ]
  },
  {
   "cell_type": "code",
   "execution_count": 185,
   "metadata": {
    "collapsed": false
   },
   "outputs": [
    {
     "data": {
      "text/plain": [
       "[<matplotlib.lines.Line2D at 0x12f7401d0>]"
      ]
     },
     "execution_count": 185,
     "metadata": {},
     "output_type": "execute_result"
    },
    {
     "data": {
      "image/png": "[encoded data removed]",
      "text/plain": [
       "<matplotlib.figure.Figure at 0x122166f50>"
      ]
     },
     "metadata": {},
     "output_type": "display_data"
    }
   ],
   "source": [
    "plt.plot(lambdaList,classError_D3)"
   ]
  },
  {
   "cell_type": "code",
   "execution_count": 140,
   "metadata": {
    "collapsed": false
   },
   "outputs": [
    {
     "name": "stdout",
     "output_type": "stream",
     "text": [
      "0\n",
      "39\n",
      "7\n",
      "201\n"
     ]
    }
   ],
   "source": [
    "# Evaluating at the test set for L2\n",
    "# Dataset 1\n",
    "logit_L2 = linear_model.LogisticRegression(penalty='l2', tol=0.0001, C=1, fit_intercept=True, \n",
    "                                           intercept_scaling=1, max_iter=1000, multi_class='ovr')\n",
    "model_set = logit_L2.fit(X,Y)\n",
    "print ClassError(Y_Test,model_set.predict(X_Test))\n",
    "\n",
    "\n",
    "# Dataset 2\n",
    "logit_L2 = linear_model.LogisticRegression(penalty='l2', tol=0.0001, C=1, fit_intercept=True, \n",
    "                                           intercept_scaling=1, max_iter=1000, multi_class='ovr')\n",
    "model_set = logit_L2.fit(X2,Y2)\n",
    "print ClassError(Y2_Test,model_set.predict(X2_Test))\n",
    "\n",
    "# Dataset 3\n",
    "logit_L2 = linear_model.LogisticRegression(penalty='l2', tol=0.0001, C=2, fit_intercept=True, \n",
    "                                           intercept_scaling=1, max_iter=1000, multi_class='ovr')\n",
    "model_set = logit_L2.fit(X3,Y3)\n",
    "print ClassError(Y3_Test,model_set.predict(X3_Test))\n",
    "\n",
    "# Dataset 4\n",
    "logit_L2 = linear_model.LogisticRegression(penalty='l2', tol=0.0001, C=1, fit_intercept=True, \n",
    "                                           intercept_scaling=1, max_iter=1000, multi_class='ovr')\n",
    "model_set = logit_L2.fit(X4,Y4)\n",
    "print ClassError(Y4_Test,model_set.predict(X4_Test))"
   ]
  },
  {
   "cell_type": "code",
   "execution_count": 118,
   "metadata": {
    "collapsed": false
   },
   "outputs": [],
   "source": [
    "lambdaList = np.linspace(0.1,5,50)\n",
    "classError_L1_D1 = []\n",
    "classError_L1_D2 = []\n",
    "classError_L1_D3 = []\n",
    "classError_L1_D4 = []\n",
    "for i in lambdaList:\n",
    "    logit_L1 = linear_model.LogisticRegression(penalty='l1', tol=0.0001, C=1/i, fit_intercept=True, \n",
    "                                               intercept_scaling=1, max_iter=1000, multi_class='ovr')\n",
    "\n",
    "    \n",
    "    model_set1 = logit_L1.fit(X,Y)\n",
    "    classError_L1_D1.append(ClassError(Y_V,model_set1.predict(X_V)))\n",
    "    \n",
    "    model_set2 = logit_L1.fit(X2,Y2)\n",
    "    classError_L1_D2.append(ClassError(Y2_V,model_set2.predict(X2_V)))\n",
    "    \n",
    "    model_set3 = logit_L1.fit(X3,Y3)\n",
    "    classError_L1_D3.append(ClassError(Y3_V,model_set3.predict(X3_V)))\n",
    "    \n",
    "    model_set4 = logit_L1.fit(X4,Y4)\n",
    "    classError_L1_D4.append(ClassError(Y4_V,model_set3.predict(X4_V)))"
   ]
  },
  {
   "cell_type": "code",
   "execution_count": 186,
   "metadata": {
    "collapsed": false
   },
   "outputs": [
    {
     "data": {
      "text/plain": [
       "[<matplotlib.lines.Line2D at 0x12ee0e290>]"
      ]
     },
     "execution_count": 186,
     "metadata": {},
     "output_type": "execute_result"
    },
    {
     "data": {
      "image/png": "[encoded data removed]",
      "text/plain": [
       "<matplotlib.figure.Figure at 0x122873c90>"
      ]
     },
     "metadata": {},
     "output_type": "display_data"
    }
   ],
   "source": [
    "plt.plot(lambdaList,classError_L1_D3)"
   ]
  },
  {
   "cell_type": "code",
   "execution_count": 152,
   "metadata": {
    "collapsed": false
   },
   "outputs": [
    {
     "name": "stdout",
     "output_type": "stream",
     "text": [
      "1\n",
      "38\n",
      "5\n",
      "201\n"
     ]
    }
   ],
   "source": [
    "# Evaluating at the test set for L1\n",
    "\n",
    "# Dataset 1\n",
    "logit_L1 = linear_model.LogisticRegression(penalty='l1', tol=0.0001, C=1/i, fit_intercept=True, \n",
    "                                           intercept_scaling=1, max_iter=1000, multi_class='ovr')\n",
    "model_set = logit_L1.fit(X,Y)\n",
    "print ClassError(Y_Test,model_set.predict(X_Test))\n",
    "# Dataset 2\n",
    "logit_L1 = linear_model.LogisticRegression(penalty='l1', tol=0.0001, C=1/i, fit_intercept=True, \n",
    "                                           intercept_scaling=1, max_iter=1000, multi_class='ovr')\n",
    "model_set = logit_L1.fit(X2,Y2)\n",
    "print ClassError(Y2_Test,model_set.predict(X2_Test))\n",
    "\n",
    "# Dataset 3\n",
    "logit_L1 = linear_model.LogisticRegression(penalty='l1', tol=0.0001, C=1/i, fit_intercept=True, \n",
    "                                           intercept_scaling=1, max_iter=1000, multi_class='ovr')\n",
    "model_set = logit_L1.fit(X3,Y3)\n",
    "print ClassError(Y3_Test,model_set.predict(X3_Test))\n",
    "\n",
    "# Dataset 4\n",
    "logit_L1 = linear_model.LogisticRegression(penalty='l1', tol=0.0001, C=1/i, fit_intercept=True, \n",
    "                                           intercept_scaling=1, max_iter=1000, multi_class='ovr')\n",
    "model_set = logit_L1.fit(X4,Y4)\n",
    "print ClassError(Y4_Test,model_set.predict(X4_Test))"
   ]
  },
  {
   "cell_type": "markdown",
   "metadata": {},
   "source": [
    "# Question 2"
   ]
  },
  {
   "cell_type": "code",
   "execution_count": 2,
   "metadata": {
    "collapsed": false
   },
   "outputs": [],
   "source": [
    "import numpy as np\n",
    "#import cvxopt\n",
    "import cvxopt"
   ]
  },
  {
   "cell_type": "code",
   "execution_count": 3,
   "metadata": {
    "collapsed": false
   },
   "outputs": [
    {
     "ename": "SyntaxError",
     "evalue": "invalid syntax (<ipython-input-3-d3646c33714f>, line 2)",
     "output_type": "error",
     "traceback": [
      "\u001b[0;36m  File \u001b[0;32m\"<ipython-input-3-d3646c33714f>\"\u001b[0;36m, line \u001b[0;32m2\u001b[0m\n\u001b[0;31m    P = matrix(...)\u001b[0m\n\u001b[0m               ^\u001b[0m\n\u001b[0;31mSyntaxError\u001b[0m\u001b[0;31m:\u001b[0m invalid syntax\n"
     ]
    }
   ],
   "source": [
    "# define your matrices\n",
    "P = matrix(...)\n",
    "q = matrix(...)\n",
    "G = matrix(...)\n",
    "h = matrix(...)\n",
    "A = matrix(...)\n",
    "b = matrix(...)\n",
    "# find the solution\t\n",
    "solution = solvers.qp(P, q, G, h, A, b)\n",
    "xvals = np.array(solution['x'])"
   ]
  },
  {
   "cell_type": "code",
   "execution_count": 4,
   "metadata": {
    "collapsed": false
   },
   "outputs": [],
   "source": [
    "def intComparison(L,min,max):\n",
    "    indexList = []\n",
    "    for i in range(L):\n",
    "        if (min <= i) and (i <= max):\n",
    "            indexList.append(L.index(i))\n",
    "    return indexList\n",
    "        \n",
    "    "
   ]
  },
  {
   "cell_type": "code",
   "execution_count": 5,
   "metadata": {
    "collapsed": false
   },
   "outputs": [
    {
     "data": {
      "text/plain": [
       "array([ 23, 112])"
      ]
     },
     "execution_count": 5,
     "metadata": {},
     "output_type": "execute_result"
    }
   ],
   "source": [
    "A = [23,45,12]\n",
    "#intComparison(A,20,50) \n",
    "a = np.array(A)\n",
    "u = np.where(np.logical_and(a>=20, a<=50))\n",
    "L = np.array([23,112,12])\n",
    "L[u]"
   ]
  },
  {
   "cell_type": "code",
   "execution_count": null,
   "metadata": {
    "collapsed": false
   },
   "outputs": [],
   "source": []
  },
  {
   "cell_type": "code",
   "execution_count": 304,
   "metadata": {
    "collapsed": false
   },
   "outputs": [],
   "source": [
    "# linear SVM (Dual form) with Slack variable\n",
    "# Input:data\n",
    "\n",
    "class SVMclassification(object):\n",
    "    def __init__(self, c,gamma,Kernel):\n",
    "        self.c = c\n",
    "        self.gamma = gamma\n",
    "        self.Kernel = Kernel\n",
    "        \n",
    "    def linearKernel(self,X):\n",
    "        samples, features = X.shape\n",
    "        K = np.zeros((samples, samples))\n",
    "    \n",
    "        for i, xi in enumerate(X):\n",
    "            for j,xj in enumerate(X):\n",
    "                K[i,j] = np.dot(xi,xj)\n",
    "        return (K)\n",
    "            \n",
    "            \n",
    "    def GaussianKernel(self,X):\n",
    "        samples, features = X.shape\n",
    "        K = np.zeros((samples, samples))\n",
    "        for i, xi in enumerate(X):\n",
    "            for j,xj in enumerate(X):\n",
    "                K[i,j] = np.exp(-self.gamma*np.linalg.norm(xi-xj) ** 2)\n",
    "        return (K)\n",
    "    \n",
    "    def LagrangeMultipliers(self,X,y):\n",
    "        # Generate a linear kernel from the data\n",
    "        if self.Kernel==\"linear\":\n",
    "            K = self.linearKernel(X)\n",
    "        elif self.Kernel==\"Gaussian\":\n",
    "            K = self.GaussianKernel(X)\n",
    "        samples, features = X.shape\n",
    "        \n",
    "        # Convex optimization\n",
    "          \n",
    "        P = cvxopt.matrix(np.outer(y, y) * K)\n",
    "        q = cvxopt.matrix(-1 * np.ones(samples))\n",
    "    \n",
    "        # Elementwise for the error inequality\n",
    "        # alpha_i are greater than 0\n",
    "        G_std = cvxopt.matrix(np.diag(np.ones(samples) * -1))\n",
    "        h_std = cvxopt.matrix(np.zeros(samples))\n",
    "\n",
    "        # alpha_i are less than c\n",
    "        G_slack = cvxopt.matrix(np.diag(np.ones(samples)))\n",
    "        h_slack = cvxopt.matrix(np.ones(samples) * self.c)\n",
    "\n",
    "        G = cvxopt.matrix(np.vstack((G_std, G_slack)))\n",
    "        h = cvxopt.matrix(np.vstack((h_std, h_slack)))\n",
    "\n",
    "        \n",
    "        A = cvxopt.matrix(y, (1, samples))\n",
    "        A = cvxopt.matrix(A,(1,samples),'d')\n",
    "\n",
    "        b = cvxopt.matrix(0.0)\n",
    "\n",
    "        solution = cvxopt.solvers.qp(P, q, G, h, A, b)\n",
    "        xvals = np.array(solution['x'])\n",
    "        return(xvals)\n",
    "\n",
    "    \n",
    "    def SVMClassifier(self,X,y):\n",
    "        lMultipliers = self.LagrangeMultipliers(X,y)\n",
    "        SVIndex=np.where(np.logical_and(lMultipliers>=1e-20, lMultipliers<=self.c))[0]\n",
    "        SV = X[SVIndex,]\n",
    "        SVlabel = y[SVIndex]\n",
    "        supportMultipliers = lMultipliers[SVIndex]\n",
    "        return(SV,SVlabel,supportMultipliers)\n",
    "        \n",
    "    def SVMbias(self,X,y):\n",
    "        SV,SVlabel,SVMult = self.SVMClassifier(X,y)\n",
    "       \n",
    "        \n",
    "        fittedValue = SVMPrediction(0,SVMult,SV,SVlabel).predictSVM(X)\n",
    "        bias = np.mean(y - fittedValue)\n",
    "        return(bias)\n",
    "\n",
    "\n"
   ]
  },
  {
   "cell_type": "code",
   "execution_count": 305,
   "metadata": {
    "collapsed": true
   },
   "outputs": [],
   "source": [
    "class SVMPrediction:\n",
    "    def __init__(self,bias,weight,SV,SVlabel):\n",
    "        self.bias = bias\n",
    "        self.weight = weight\n",
    "        self.SV = SV\n",
    "        self.SVlabel = SVlabel\n",
    "        \n",
    "    def predictSVM(self,X):\n",
    "        prediction = []\n",
    "        for i, xi in enumerate(X):\n",
    "            result = self.bias\n",
    "            for w,xt,y in zip(self.weight,self.SV,self.SVlabel):\n",
    "                result+=w*y*np.dot(xt,xi)\n",
    "            prediction.append(np.sign(result).item())\n",
    "        return (prediction)\n",
    "        "
   ]
  },
  {
   "cell_type": "code",
   "execution_count": 221,
   "metadata": {
    "collapsed": false
   },
   "outputs": [
    {
     "data": {
      "text/plain": [
       "array([[  1.00000000e+00,   3.67879441e-01,   2.26032941e-06,\n",
       "          1.56288219e-18],\n",
       "       [  3.67879441e-01,   1.00000000e+00,   2.06115362e-09,\n",
       "          1.92874985e-22],\n",
       "       [  2.26032941e-06,   2.06115362e-09,   1.00000000e+00,\n",
       "          4.53999298e-05],\n",
       "       [  1.56288219e-18,   1.92874985e-22,   4.53999298e-05,\n",
       "          1.00000000e+00]])"
      ]
     },
     "execution_count": 221,
     "metadata": {},
     "output_type": "execute_result"
    }
   ],
   "source": [
    "#XOR problem\n",
    "X = np.array([[2,2],[2,3],[0,-1],[-3,-2]])\n",
    "y = np.array([1,1,-1,-1])\n",
    "SVM = SVMclassification(1,1,\"Gaussian\")\n",
    "SVM.GaussianKernel(X)\n"
   ]
  },
  {
   "cell_type": "code",
   "execution_count": 222,
   "metadata": {
    "collapsed": false
   },
   "outputs": [
    {
     "name": "stdout",
     "output_type": "stream",
     "text": [
      "     pcost       dcost       gap    pres   dres\n",
      " 0: -3.2681e-01 -5.4491e+00  2e+01  2e+00  5e-16\n",
      " 1: -1.5740e-01 -2.4179e+00  3e+00  1e-01  5e-16\n",
      " 2: -1.1777e-01 -3.4786e-01  2e-01  5e-03  1e-15\n",
      " 3: -1.4761e-01 -1.6162e-01  1e-02  5e-05  4e-16\n",
      " 4: -1.5377e-01 -1.5393e-01  2e-04  6e-07  2e-16\n",
      " 5: -1.5385e-01 -1.5385e-01  2e-06  6e-09  1e-16\n",
      " 6: -1.5385e-01 -1.5385e-01  2e-08  6e-11  5e-16\n",
      "Optimal solution found.\n",
      "     pcost       dcost       gap    pres   dres\n",
      " 0: -3.2681e-01 -5.4491e+00  2e+01  2e+00  5e-16\n",
      " 1: -1.5740e-01 -2.4179e+00  3e+00  1e-01  5e-16\n",
      " 2: -1.1777e-01 -3.4786e-01  2e-01  5e-03  1e-15\n",
      " 3: -1.4761e-01 -1.6162e-01  1e-02  5e-05  4e-16\n",
      " 4: -1.5377e-01 -1.5393e-01  2e-04  6e-07  2e-16\n",
      " 5: -1.5385e-01 -1.5385e-01  2e-06  6e-09  1e-16\n",
      " 6: -1.5385e-01 -1.5385e-01  2e-08  6e-11  5e-16\n",
      "Optimal solution found.\n",
      "[[ 2  2]\n",
      " [ 0 -1]]\n"
     ]
    },
    {
     "data": {
      "text/plain": [
       "[1.0, 1.0, -1.0, -1.0]"
      ]
     },
     "execution_count": 222,
     "metadata": {},
     "output_type": "execute_result"
    }
   ],
   "source": [
    "SVM = SVMclassification(1,1,\"linear\")\n",
    "bias = SVM.SVMbias(X,y)\n",
    "SV,SVlabel,SVMult = SVM.SVMClassifier(X,y)\n",
    "print SV\n",
    "SVMPrediction(bias,SVMult,SV,SVlabel).predictSVM(X)"
   ]
  },
  {
   "cell_type": "markdown",
   "metadata": {},
   "source": [
    "# 2.2"
   ]
  },
  {
   "cell_type": "code",
   "execution_count": 223,
   "metadata": {
    "collapsed": true
   },
   "outputs": [],
   "source": [
    "train = pl.loadtxt('../DataFiles/HW2/data1_train.csv')\n",
    "\n",
    "# use deep copy here to make cvxopt happy\n",
    "X = train[:, 0:2].copy()\n",
    "Y = train[:, 2:3].copy()"
   ]
  },
  {
   "cell_type": "code",
   "execution_count": 224,
   "metadata": {
    "collapsed": false
   },
   "outputs": [
    {
     "data": {
      "text/plain": [
       "(400, 1)"
      ]
     },
     "execution_count": 224,
     "metadata": {},
     "output_type": "execute_result"
    }
   ],
   "source": [
    "Y.shape"
   ]
  },
  {
   "cell_type": "code",
   "execution_count": 225,
   "metadata": {
    "collapsed": false
   },
   "outputs": [
    {
     "data": {
      "text/plain": [
       "numpy.ndarray"
      ]
     },
     "execution_count": 225,
     "metadata": {},
     "output_type": "execute_result"
    }
   ],
   "source": [
    "type(Y)"
   ]
  },
  {
   "cell_type": "code",
   "execution_count": null,
   "metadata": {
    "collapsed": true
   },
   "outputs": [],
   "source": [
    "# Classification error rate for different datasets\n",
    "\n",
    "SVM = SVMclassification(1,1,\"linear\") # C has been set to 1\n",
    "bias = SVM.SVMbias(X,Y)\n",
    "SV,SVlabel,SVMult = SVM.SVMClassifier(X,Y)\n",
    "predictorBase = SVMPrediction(bias,SVMult,SV,SVlabel)\n",
    "prediction_train_1 = predictorBase.predictSVM(X)\n",
    "prediction_valid_1 = predictorBase.predictSVM(X_V)\n",
    "\n",
    "################ dataset 2 ###############\n",
    "\n",
    "bias = SVM.SVMbias(X2,Y2)\n",
    "SV,SVlabel,SVMult = SVM.SVMClassifier(X2,Y2)\n",
    "predictorBase = SVMPrediction(bias,SVMult,SV,SVlabel)\n",
    "prediction_train_2 = predictorBase.predictSVM(X2)\n",
    "prediction_valid_2 = predictorBase.predictSVM(X2_V)\n",
    "\n",
    "\n",
    "################ dataset 3 ###############\n",
    "\n",
    "bias = SVM.SVMbias(X3,Y3)\n",
    "SV,SVlabel,SVMult = SVM.SVMClassifier(X3,Y3)\n",
    "predictorBase = SVMPrediction(bias,SVMult,SV,SVlabel)\n",
    "prediction_train_3 = predictorBase.predictSVM(X3)\n",
    "prediction_valid_3 = predictorBase.predictSVM(X3_V)\n",
    "\n",
    "################ dataset 4 ###############\n",
    "\n",
    "bias = SVM.SVMbias(X4,Y4)\n",
    "SV,SVlabel,SVMult = SVM.SVMClassifier(X4,Y4)\n",
    "predictorBase = SVMPrediction(bias,SVMult,SV,SVlabel)\n",
    "prediction_train_4 = predictorBase.predictSVM(X4)\n",
    "prediction_valid_4 = predictorBase.predictSVM(X4_V)"
   ]
  },
  {
   "cell_type": "code",
   "execution_count": null,
   "metadata": {
    "collapsed": false
   },
   "outputs": [],
   "source": []
  },
  {
   "cell_type": "code",
   "execution_count": 228,
   "metadata": {
    "collapsed": false
   },
   "outputs": [
    {
     "name": "stdout",
     "output_type": "stream",
     "text": [
      "0\n",
      "0.0\n",
      "0.17\n",
      "0.17\n",
      "0.045\n",
      "0.06\n",
      "0.495\n",
      "0.5375\n"
     ]
    }
   ],
   "source": [
    "print ClassError(prediction_train_1,Y)/len(Y)\n",
    "print ClassError(prediction_valid_1,Y_V)/ np.float(len(Y_V))\n",
    "\n",
    "print ClassError(prediction_train_2,Y2) / np.float(len(Y2))\n",
    "print ClassError(prediction_valid_2,Y2_V)/ np.float(len(Y2_V))\n",
    "\n",
    "print ClassError(prediction_train_3,Y3)/ np.float(len(Y3))\n",
    "print ClassError(prediction_valid_3,Y3_V)/ np.float(len(Y3_V))\n",
    "\n",
    "print ClassError(prediction_train_4,Y4)/ np.float(len(Y4))\n",
    "print ClassError(prediction_valid_4,Y4_V)/ np.float(len(Y4_V))"
   ]
  },
  {
   "cell_type": "code",
   "execution_count": 229,
   "metadata": {
    "collapsed": false
   },
   "outputs": [
    {
     "data": {
      "text/plain": [
       "(400, 2)"
      ]
     },
     "execution_count": 229,
     "metadata": {},
     "output_type": "execute_result"
    }
   ],
   "source": [
    "X4_V.shape"
   ]
  },
  {
   "cell_type": "code",
   "execution_count": null,
   "metadata": {
    "collapsed": true
   },
   "outputs": [],
   "source": [
    "# Classification error rate for different datasets\n",
    "\n",
    "SVM = SVMclassification(1,1,\"Gaussian\") # C has been set to 1\n",
    "bias = SVM.SVMbias(X,Y)\n",
    "SV,SVlabel,SVMult = SVM.SVMClassifier(X,Y)\n",
    "predictorBase = SVMPrediction(bias,SVMult,SV,SVlabel)\n",
    "prediction_train_1 = predictorBase.predictSVM(X)\n",
    "prediction_valid_1 = predictorBase.predictSVM(X_V)\n",
    "\n",
    "################ dataset 2 ###############\n",
    "\n",
    "bias = SVM.SVMbias(X2,Y2)\n",
    "SV,SVlabel,SVMult = SVM.SVMClassifier(X2,Y2)\n",
    "predictorBase = SVMPrediction(bias,SVMult,SV,SVlabel)\n",
    "prediction_train_2 = predictorBase.predictSVM(X2)\n",
    "prediction_valid_2 = predictorBase.predictSVM(X2_V)\n",
    "\n",
    "\n",
    "################ dataset 3 ###############\n",
    "\n",
    "bias = SVM.SVMbias(X3,Y3)\n",
    "SV,SVlabel,SVMult = SVM.SVMClassifier(X3,Y3)\n",
    "predictorBase = SVMPrediction(bias,SVMult,SV,SVlabel)\n",
    "prediction_train_3 = predictorBase.predictSVM(X3)\n",
    "prediction_valid_3 = predictorBase.predictSVM(X3_V)\n",
    "\n",
    "################ dataset 4 ###############\n",
    "\n",
    "bias = SVM.SVMbias(X4,Y4)\n",
    "SV,SVlabel,SVMult = SVM.SVMClassifier(X4,Y4)\n",
    "predictorBase = SVMPrediction(bias,SVMult,SV,SVlabel)\n",
    "prediction_train_4 = predictorBase.predictSVM(X4)\n",
    "prediction_valid_4 = predictorBase.predictSVM(X4_V)"
   ]
  },
  {
   "cell_type": "code",
   "execution_count": 231,
   "metadata": {
    "collapsed": false
   },
   "outputs": [
    {
     "name": "stdout",
     "output_type": "stream",
     "text": [
      "0\n",
      "0.01\n",
      "0.1775\n",
      "0.17\n",
      "0.045\n",
      "0.09\n",
      "0.5075\n",
      "0.4825\n"
     ]
    }
   ],
   "source": [
    "print ClassError(prediction_train_1,Y)/len(Y)\n",
    "print ClassError(prediction_valid_1,Y_V)/ np.float(len(Y_V))\n",
    "\n",
    "print ClassError(prediction_train_2,Y2) / np.float(len(Y2))\n",
    "print ClassError(prediction_valid_2,Y2_V)/ np.float(len(Y2_V))\n",
    "\n",
    "print ClassError(prediction_train_3,Y3)/ np.float(len(Y3))\n",
    "print ClassError(prediction_valid_3,Y3_V)/ np.float(len(Y3_V))\n",
    "\n",
    "print ClassError(prediction_train_4,Y4)/ np.float(len(Y4))\n",
    "print ClassError(prediction_valid_4,Y4_V)/ np.float(len(Y4_V))"
   ]
  },
  {
   "cell_type": "code",
   "execution_count": null,
   "metadata": {
    "collapsed": true
   },
   "outputs": [],
   "source": [
    "from numpy import *\n",
    "from plotBoundary import *\n",
    "import pylab as pl\n",
    "# import your SVM training code\n",
    "\n",
    "# parameters\n",
    "name = 'ls'\n",
    "print '======Training======'\n",
    "# load data from csv files\n",
    "train = pl.loadtxt('../DataFiles/HW2/data1_train.csv')\n",
    "\n",
    "# use deep copy here to make cvxopt happy\n",
    "X = train[:, 0:2].copy()\n",
    "Y = train[:, 2:3].copy()\n",
    "\n",
    "SVM = SVMclassification(1,1,\"linear\") # C has been set to 1\n",
    "bias = SVM.SVMbias(X,Y)\n",
    "SV,SVlabel,SVMult = SVM.SVMClassifier(X,Y)\n",
    "# Carry out training, primal and/or dual\n",
    "### TODO ###\n",
    "# Define the predictSVM(x) function, which uses trained parameters\n",
    "### TODO ###\n",
    "\n",
    "\n"
   ]
  },
  {
   "cell_type": "code",
   "execution_count": 240,
   "metadata": {
    "collapsed": false
   },
   "outputs": [],
   "source": [
    "from plotBoundary import *"
   ]
  },
  {
   "cell_type": "code",
   "execution_count": 241,
   "metadata": {
    "collapsed": false
   },
   "outputs": [
    {
     "name": "stdout",
     "output_type": "stream",
     "text": [
      "======Validation======\n"
     ]
    }
   ],
   "source": [
    "predictorBase = SVMPrediction(bias,SVMult,SV,SVlabel)\n",
    "\n",
    "x_min, x_max = X[:, 0].min() - 1, X[:, 0].max() + 1\n",
    "y_min, y_max = X[:, 1].min() - 1, X[:, 1].max() + 1\n",
    "h = max((x_max-x_min)/200., (y_max-y_min)/200.)\n",
    "xx, yy = meshgrid(arange(x_min, x_max, h),arange(y_min, y_max, h))\n",
    "zz = array([predictorBase.predictSVM(np.array([x])) for x in c_[xx.ravel(), yy.ravel()]])\n",
    "\n",
    "\n",
    "\n",
    "\n",
    "print '======Validation======'\n"
   ]
  },
  {
   "cell_type": "code",
   "execution_count": 242,
   "metadata": {
    "collapsed": false
   },
   "outputs": [
    {
     "data": {
      "image/png": "[encoded data removed]",
      "text/plain": [
       "<matplotlib.figure.Figure at 0x12d7e6590>"
      ]
     },
     "metadata": {},
     "output_type": "display_data"
    }
   ],
   "source": [
    "values = [-1,0,1]\n",
    "title=\"SVM Train\"\n",
    "zz = zz.reshape(xx.shape)\n",
    "pl.figure()\n",
    "CS = pl.contour(xx, yy, zz, values, colors = 'green', linestyles = 'solid', linewidths = 2)\n",
    "pl.clabel(CS, fontsize=9, inline=1)\n",
    "\n",
    "# Plot the training points\n",
    "pl.scatter(X[:, 0], X[:, 1], c=(1.-Y), s=50, cmap = pl.cm.cool)\n",
    "pl.title(title)\n",
    "pl.axis('tight')\n",
    "pl.savefig('../ImageFiles/HW2/SVMTrainingBoundary_Dataset1_Train.pdf')"
   ]
  },
  {
   "cell_type": "code",
   "execution_count": 243,
   "metadata": {
    "collapsed": false
   },
   "outputs": [
    {
     "name": "stdout",
     "output_type": "stream",
     "text": [
      "======Validation======\n"
     ]
    }
   ],
   "source": [
    "print '======Validation======'\n",
    "# load data from csv files\n",
    "validate = pl.loadtxt('../DataFiles/HW2/data1_validate.csv')\n",
    "X = validate[:, 0:2]\n",
    "Y = validate[:, 2:3]\n",
    "x_min, x_max = X[:, 0].min() - 1, X[:, 0].max() + 1\n",
    "y_min, y_max = X[:, 1].min() - 1, X[:, 1].max() + 1\n",
    "h = max((x_max-x_min)/200., (y_max-y_min)/200.)\n",
    "xx, yy = meshgrid(arange(x_min, x_max, h),arange(y_min, y_max, h))\n",
    "zz = array([predictorBase.predictSVM(np.array([x])) for x in c_[xx.ravel(), yy.ravel()]])\n"
   ]
  },
  {
   "cell_type": "code",
   "execution_count": 244,
   "metadata": {
    "collapsed": false
   },
   "outputs": [
    {
     "data": {
      "image/png": "[encoded data removed]",
      "text/plain": [
       "<matplotlib.figure.Figure at 0x12d6f23d0>"
      ]
     },
     "metadata": {},
     "output_type": "display_data"
    }
   ],
   "source": [
    "values = [-1,0,1]\n",
    "title=\"SVM Validate\"\n",
    "zz = zz.reshape(xx.shape)\n",
    "pl.figure()\n",
    "CS = pl.contour(xx, yy, zz, values, colors = 'green', linestyles = 'solid', linewidths = 2)\n",
    "pl.clabel(CS, fontsize=9, inline=1)\n",
    "\n",
    "# Plot the training points\n",
    "pl.scatter(X[:, 0], X[:, 1], c=(1.-Y), s=50, cmap = pl.cm.cool)\n",
    "pl.title(title)\n",
    "pl.axis('tight')\n",
    "pl.savefig('../ImageFiles/HW2/SVMTBoundary_Dataset1_Validate.pdf')"
   ]
  },
  {
   "cell_type": "code",
   "execution_count": 659,
   "metadata": {
    "collapsed": false
   },
   "outputs": [],
   "source": [
    "for x in c_[xx.ravel(), yy.ravel()]:\n",
    "    a = x"
   ]
  },
  {
   "cell_type": "code",
   "execution_count": 312,
   "metadata": {
    "collapsed": false
   },
   "outputs": [
    {
     "name": "stdout",
     "output_type": "stream",
     "text": [
      "     pcost       dcost       gap    pres   dres\n",
      " 0: -2.2102e+02 -1.1032e+03  6e+03  3e+00  2e-14\n",
      " 1: -1.4926e+02 -7.6319e+02  1e+03  4e-01  1e-14\n",
      " 2: -1.3704e+02 -2.4046e+02  1e+02  1e-02  1e-14\n",
      " 3: -1.5807e+02 -1.8764e+02  3e+01  3e-03  1e-14\n",
      " 4: -1.6226e+02 -1.8229e+02  2e+01  2e-03  1e-14\n",
      " 5: -1.6618e+02 -1.7648e+02  1e+01  7e-04  1e-14\n",
      " 6: -1.6783e+02 -1.7420e+02  6e+00  3e-04  1e-14\n",
      " 7: -1.6882e+02 -1.7293e+02  4e+00  2e-04  1e-14\n",
      " 8: -1.6948e+02 -1.7191e+02  2e+00  7e-05  1e-14\n",
      " 9: -1.6966e+02 -1.7168e+02  2e+00  4e-05  1e-14\n",
      "10: -1.7047e+02 -1.7073e+02  3e-01  3e-06  1e-14\n",
      "11: -1.7057e+02 -1.7062e+02  6e-02  5e-07  1e-14\n",
      "12: -1.7059e+02 -1.7059e+02  2e-03  9e-09  1e-14\n",
      "13: -1.7059e+02 -1.7059e+02  2e-05  9e-11  1e-14\n",
      "Optimal solution found.\n",
      "     pcost       dcost       gap    pres   dres\n",
      " 0: -2.2102e+02 -1.1032e+03  6e+03  3e+00  2e-14\n",
      " 1: -1.4926e+02 -7.6319e+02  1e+03  4e-01  1e-14\n",
      " 2: -1.3704e+02 -2.4046e+02  1e+02  1e-02  1e-14\n",
      " 3: -1.5807e+02 -1.8764e+02  3e+01  3e-03  1e-14\n",
      " 4: -1.6226e+02 -1.8229e+02  2e+01  2e-03  1e-14\n",
      " 5: -1.6618e+02 -1.7648e+02  1e+01  7e-04  1e-14\n",
      " 6: -1.6783e+02 -1.7420e+02  6e+00  3e-04  1e-14\n",
      " 7: -1.6882e+02 -1.7293e+02  4e+00  2e-04  1e-14\n",
      " 8: -1.6948e+02 -1.7191e+02  2e+00  7e-05  1e-14\n",
      " 9: -1.6966e+02 -1.7168e+02  2e+00  4e-05  1e-14\n",
      "10: -1.7047e+02 -1.7073e+02  3e-01  3e-06  1e-14\n",
      "11: -1.7057e+02 -1.7062e+02  6e-02  5e-07  1e-14\n",
      "12: -1.7059e+02 -1.7059e+02  2e-03  9e-09  1e-14\n",
      "13: -1.7059e+02 -1.7059e+02  2e-05  9e-11  1e-14\n",
      "Optimal solution found.\n"
     ]
    },
    {
     "data": {
      "image/png": "[encoded data removed]",
      "text/plain": [
       "<matplotlib.figure.Figure at 0x10e0df810>"
      ]
     },
     "metadata": {},
     "output_type": "display_data"
    }
   ],
   "source": [
    "## For dataset 2\n",
    "# load data from csv files\n",
    "train = pl.loadtxt('../DataFiles/HW2/data2_train.csv')\n",
    "\n",
    "# use deep copy here to make cvxopt happy\n",
    "X = train[:, 0:2].copy()\n",
    "Y = train[:, 2:3].copy()\n",
    "\n",
    "SVM = SVMclassification(1,1,\"linear\") # C has been set to 1\n",
    "bias = SVM.SVMbias(X,Y)\n",
    "SV,SVlabel,SVMult = SVM.SVMClassifier(X,Y)\n",
    "\n",
    "predictorBase = SVMPrediction(bias,SVMult,SV,SVlabel)\n",
    "\n",
    "x_min, x_max = X[:, 0].min() - 1, X[:, 0].max() + 1\n",
    "y_min, y_max = X[:, 1].min() - 1, X[:, 1].max() + 1\n",
    "h = max((x_max-x_min)/200., (y_max-y_min)/200.)\n",
    "xx, yy = meshgrid(arange(x_min, x_max, h),arange(y_min, y_max, h))\n",
    "zz = array([predictorBase.predictSVM(np.array([x])) for x in c_[xx.ravel(), yy.ravel()]])\n",
    "\n",
    "values = [-1,0,1]\n",
    "title=\"SVM Train\"\n",
    "zz = zz.reshape(xx.shape)\n",
    "pl.figure()\n",
    "CS = pl.contour(xx, yy, zz, values, colors = 'green', linestyles = 'solid', linewidths = 2)\n",
    "pl.clabel(CS, fontsize=9, inline=1)\n",
    "\n",
    "# Plot the training points\n",
    "pl.scatter(X[:, 0], X[:, 1], c=(1.-Y), s=50, cmap = pl.cm.cool)\n",
    "pl.title(title)\n",
    "pl.axis('tight')\n",
    "pl.savefig('../ImageFiles/HW2/SVMTrainingBoundary_Dataset2_Train.pdf')"
   ]
  },
  {
   "cell_type": "code",
   "execution_count": 300,
   "metadata": {
    "collapsed": false
   },
   "outputs": [
    {
     "name": "stdout",
     "output_type": "stream",
     "text": [
      "======Validation======\n"
     ]
    },
    {
     "data": {
      "image/png": "[encoded data removed]",
      "text/plain": [
       "<matplotlib.figure.Figure at 0x10cc79a50>"
      ]
     },
     "metadata": {},
     "output_type": "display_data"
    }
   ],
   "source": [
    "print '======Validation======'\n",
    "# load data from csv files\n",
    "validate = pl.loadtxt('../DataFiles/HW2/data3_validate.csv')\n",
    "X = validate[:, 0:2]\n",
    "Y = validate[:, 2:3]\n",
    "x_min, x_max = X[:, 0].min() - 1, X[:, 0].max() + 1\n",
    "y_min, y_max = X[:, 1].min() - 1, X[:, 1].max() + 1\n",
    "h = max((x_max-x_min)/200., (y_max-y_min)/200.)\n",
    "xx, yy = meshgrid(arange(x_min, x_max, h),arange(y_min, y_max, h))\n",
    "zz = array([predictorBase.predictSVM(np.array([x])) for x in c_[xx.ravel(), yy.ravel()]])\n",
    "\n",
    "values = [-1,0,1]\n",
    "title=\"SVM Validate\"\n",
    "zz = zz.reshape(xx.shape)\n",
    "pl.figure()\n",
    "CS = pl.contour(xx, yy, zz, values, colors = 'green', linestyles = 'solid', linewidths = 2)\n",
    "pl.clabel(CS, fontsize=9, inline=1)\n",
    "\n",
    "# Plot the training points\n",
    "pl.scatter(X[:, 0], X[:, 1], c=(1.-Y), s=50, cmap = pl.cm.cool)\n",
    "pl.title(title)\n",
    "pl.axis('tight')\n",
    "pl.savefig('../ImageFiles/HW2/SVMTBoundary_Dataset3_Validate.pdf')"
   ]
  },
  {
   "cell_type": "markdown",
   "metadata": {},
   "source": [
    "## Linear SVM"
   ]
  },
  {
   "cell_type": "code",
   "execution_count": null,
   "metadata": {
    "collapsed": true
   },
   "outputs": [],
   "source": [
    "X = train[:, 0:2].copy()\n",
    "Y = train[:, 2:3].copy()\n",
    "\n",
    "SVM = SVMclassification(1,1,\"linear\") # C has been set to 1\n",
    "bias = SVM.SVMbias(X,Y)\n",
    "SV,SVlabel,SVMult = SVM.SVMClassifier(X,Y)\n",
    "len(SV)"
   ]
  },
  {
   "cell_type": "code",
   "execution_count": null,
   "metadata": {
    "collapsed": true
   },
   "outputs": [],
   "source": [
    "C = [0.01,0.1,1,10,100]\n",
    "SVList_Linear = []\n",
    "MarginList_Linear = []\n",
    "for i in C:\n",
    "    SVM = SVMclassification(i,1,\"linear\")\n",
    "    bias = SVM.SVMbias(X,Y)\n",
    "    SV,SVlabel,SVMult = SVM.SVMClassifier(X,Y)\n",
    "    SVList_Linear.append(len(SV))\n",
    "    MarginList_Linear.append(1/np.sqrt(sum(SVMult)))\n",
    "    #SVMPrediction(bias,SVMult,SV,SVlabel).predictSVM(X)\n"
   ]
  },
  {
   "cell_type": "code",
   "execution_count": 318,
   "metadata": {
    "collapsed": false
   },
   "outputs": [
    {
     "name": "stdout",
     "output_type": "stream",
     "text": [
      "[253, 186, 174, 182, 176]\n",
      "[0.63236477461380525, 0.23280958464543744, 0.076369944730076578, 0.024260621737666396, 0.0076757458113052351]\n"
     ]
    }
   ],
   "source": [
    "print SVList_Linear\n",
    "print MarginList_Linear"
   ]
  },
  {
   "cell_type": "code",
   "execution_count": null,
   "metadata": {
    "collapsed": true
   },
   "outputs": [],
   "source": [
    "C = [0.01,0.1,1,10,100]\n",
    "SVList_Gaussian = []\n",
    "MarginList_Gaussian = []\n",
    "for i in C:\n",
    "    SVM = SVMclassification(i,1,\"Gaussian\")\n",
    "    bias = SVM.SVMbias(X,Y)\n",
    "    SV,SVlabel,SVMult = SVM.SVMClassifier(X,Y)\n",
    "    SVList_Gaussian.append(len(SV))\n",
    "    MarginList_Gaussian.append(1/np.sqrt(sum(SVMult)))\n",
    "    #SVMPrediction(bias,SVMult,SV,SVlabel).predictSVM(X)"
   ]
  },
  {
   "cell_type": "code",
   "execution_count": 321,
   "metadata": {
    "collapsed": false
   },
   "outputs": [
    {
     "name": "stdout",
     "output_type": "stream",
     "text": [
      "[390, 237, 125, 85, 109]\n",
      "[0.50636990636896861, 0.2115277923356135, 0.097584993687249072, 0.040303937835975016, 0.015134997430060909]\n"
     ]
    }
   ],
   "source": [
    "print SVList_Gaussian\n",
    "print MarginList_Gaussian"
   ]
  },
  {
   "cell_type": "code",
   "execution_count": null,
   "metadata": {
    "collapsed": true
   },
   "outputs": [],
   "source": [
    "C = [0.01,0.1,1,10,100]\n",
    "SVList_Gaussian_100 = []\n",
    "MarginList_Gaussian_100 = []\n",
    "for i in C:\n",
    "    SVM = SVMclassification(i,100,\"Gaussian\")\n",
    "    bias = SVM.SVMbias(X,Y)\n",
    "    SV,SVlabel,SVMult = SVM.SVMClassifier(X,Y)\n",
    "    SVList_Gaussian_100.append(len(SV))\n",
    "    MarginList_Gaussian_100.append(1/np.sqrt(sum(SVMult)))\n",
    "    #SVMPrediction(bias,SVMult,SV,SVlabel).predictSVM(X)\n",
    "\n",
    "print SVList_Gaussian_100\n",
    "print MarginList_Gaussian_100"
   ]
  },
  {
   "cell_type": "code",
   "execution_count": 323,
   "metadata": {
    "collapsed": false
   },
   "outputs": [
    {
     "name": "stdout",
     "output_type": "stream",
     "text": [
      "[397, 397, 365, 359, 359]\n",
      "[0.50636999791513904, 0.16012815955065929, 0.063184640020272922, 0.053081961412325449, 0.044011249559079257]\n"
     ]
    }
   ],
   "source": [
    "print SVList_Gaussian_100\n",
    "print MarginList_Gaussian_100"
   ]
  },
  {
   "cell_type": "code",
   "execution_count": null,
   "metadata": {
    "collapsed": true
   },
   "outputs": [],
   "source": [
    "C = [0.01,0.1,1,10,100]\n",
    "SVList_Gaussian_10 = []\n",
    "MarginList_Gaussian_10 = []\n",
    "for i in C:\n",
    "    SVM = SVMclassification(i,10,\"Gaussian\")\n",
    "    bias = SVM.SVMbias(X,Y)\n",
    "    SV,SVlabel,SVMult = SVM.SVMClassifier(X,Y)\n",
    "    SVList_Gaussian_10.append(len(SV))\n",
    "    MarginList_Gaussian_10.append(1/np.sqrt(sum(SVMult)))\n",
    "    #SVMPrediction(bias,SVMult,SV,SVlabel).predictSVM(X)"
   ]
  },
  {
   "cell_type": "code",
   "execution_count": 325,
   "metadata": {
    "collapsed": false
   },
   "outputs": [
    {
     "name": "stdout",
     "output_type": "stream",
     "text": [
      "[394, 380, 208, 208, 198]\n",
      "[0.50637135119844146, 0.16441901969020314, 0.094784802248604472, 0.052565716084995974, 0.022722093438679449]\n"
     ]
    }
   ],
   "source": [
    "print SVList_Gaussian_10\n",
    "print MarginList_Gaussian_10"
   ]
  },
  {
   "cell_type": "code",
   "execution_count": 435,
   "metadata": {
    "collapsed": false
   },
   "outputs": [
    {
     "data": {
      "image/png": "[encoded data removed]",
      "text/plain": [
       "<matplotlib.figure.Figure at 0x10e751510>"
      ]
     },
     "metadata": {},
     "output_type": "display_data"
    }
   ],
   "source": [
    "# Plot the number of support vectors across different kernels\n",
    "W1 = C\n",
    "plt.plot(range(len(SVList_Linear)),SVList_Linear,label='linear Kernel')\n",
    "plt.plot(range(len(SVList_Gaussian)),SVList_Gaussian,label='Gaussian ($\\gamma$ = 1)')\n",
    "plt.plot(range(len(SVList_Gaussian_10)),SVList_Gaussian_10,label='Gaussian ($\\gamma$ = 10)')\n",
    "plt.plot(range(len(SVList_Gaussian_100)),SVList_Gaussian_100,label='Gaussian ($\\gamma$ = 100)')\n",
    "plt.xlabel('C')\n",
    "plt.ylabel('Number of support vectors')\n",
    "plt.title('Number of support vectors as a function of slack variable (C) \\n for different kernels')\n",
    "plt.xticks(range(len(W1)),W1, size='small')\n",
    "plt.legend(bbox_to_anchor=(1, 1), loc=1, borderaxespad=0.)\n",
    "plt.tight_layout()\n",
    "\n",
    "pl.savefig('../ImageFiles/HW2/Q2_3_SVs_for_Kernels.pdf')\n",
    "plt.show()\n",
    "\n"
   ]
  },
  {
   "cell_type": "code",
   "execution_count": 436,
   "metadata": {
    "collapsed": false
   },
   "outputs": [
    {
     "data": {
      "image/png": "[encoded data removed]",
      "text/plain": [
       "<matplotlib.figure.Figure at 0x105e04c50>"
      ]
     },
     "metadata": {},
     "output_type": "display_data"
    }
   ],
   "source": [
    "# Plot the margin across different kernels\n",
    "W1 = C\n",
    "plt.plot(range(len(MarginList_Linear)),MarginList_Linear,label='linear Kernel')\n",
    "plt.plot(range(len(MarginList_Gaussian)),MarginList_Gaussian,label='Gaussian ($\\gamma$ = 1)')\n",
    "plt.plot(range(len(MarginList_Gaussian_10)),MarginList_Gaussian_10,label='Gaussian ($\\gamma$ = 10)')\n",
    "plt.plot(range(len(MarginList_Gaussian_100)),MarginList_Gaussian_100,label='Gaussian ($\\gamma$ = 100)')\n",
    "plt.xlabel('C')\n",
    "plt.ylabel('Margin')\n",
    "plt.title('Margin size as a function of slack variable (C) \\n for different kernels')\n",
    "plt.xticks(range(len(W1)),W1, size='small')\n",
    "plt.legend(bbox_to_anchor=(1, 1), loc=1, borderaxespad=0.)\n",
    "plt.tight_layout()\n",
    "\n",
    "pl.savefig('../ImageFiles/HW2/Q2_3_Margins_for_Kernels.pdf')\n",
    "plt.show()"
   ]
  },
  {
   "cell_type": "code",
   "execution_count": null,
   "metadata": {
    "collapsed": true
   },
   "outputs": [],
   "source": []
  },
  {
   "cell_type": "markdown",
   "metadata": {},
   "source": [
    "# RBF Kernel"
   ]
  },
  {
   "cell_type": "markdown",
   "metadata": {},
   "source": [
    "# Question 3"
   ]
  },
  {
   "cell_type": "code",
   "execution_count": 9,
   "metadata": {
    "collapsed": false
   },
   "outputs": [
    {
     "data": {
      "text/plain": [
       "array([12,  3, 12])"
      ]
     },
     "execution_count": 9,
     "metadata": {},
     "output_type": "execute_result"
    }
   ],
   "source": [
    "# Add the intercept term\n",
    "a = np.array([2,12,3,12])\n",
    "np.append(1,a)\n",
    "a[1:]"
   ]
  },
  {
   "cell_type": "code",
   "execution_count": 10,
   "metadata": {
    "collapsed": true
   },
   "outputs": [],
   "source": [
    "# Using Pegasos for SVM classification\n",
    "def predict_linearSVM(X,Y,lambda_shrink,max_epoch):\n",
    "    \"\"\"\n",
    "       This function returns the weights based on linear SVM function provided X and Y, shrinkage parameter\n",
    "       and maximum number of epoch(Going throught the entire data set in an SGD manner)\n",
    "    \"\"\"\n",
    "    \n",
    "    epoch = 0\n",
    "    sample,feature = X.shape\n",
    "    t = 0\n",
    "    W = np.array([0]*(feature+1))\n",
    "    while epoch < max_epoch:\n",
    "        for i in range(sample):\n",
    "            t = t+1\n",
    "            eta_t = 1./(lambda_shrink*t)\n",
    "            sampleX = X[i,]\n",
    "            sampleXInt = np.append(1,sampleX)\n",
    "            sampleY = Y[i]\n",
    "            print sampleY*(np.dot(W,sampleXInt))\n",
    "            if sampleY*(np.dot(W,sampleXInt))<1:\n",
    "                W[0] = W[0]+eta_t*sampleY\n",
    "                W[1:] = ((1-(eta_t*lambda_shrink))*W[1:])+eta_t*sampleY*sampleX\n",
    "            else:\n",
    "                W[0] = W[0]\n",
    "                W[1:] = W[1:]+(1-(eta_t*lambda_shrink))*W[1:]\n",
    "        epoch +=1\n",
    "    return (W)"
   ]
  },
  {
   "cell_type": "code",
   "execution_count": 441,
   "metadata": {
    "collapsed": false
   },
   "outputs": [],
   "source": [
    "train = loadtxt('../DataFiles/HW2/data3_train.csv')\n",
    "X = train[:,0:2]\n",
    "Y = train[:,2:3]\n",
    "#predict_linearSVM(X,Y,1,3)\n"
   ]
  },
  {
   "cell_type": "code",
   "execution_count": 664,
   "metadata": {
    "collapsed": false
   },
   "outputs": [
    {
     "ename": "NameError",
     "evalue": "name 'predict_linearSVM' is not defined",
     "output_type": "error",
     "traceback": [
      "\u001b[0;31m---------------------------------------------------------------------------\u001b[0m",
      "\u001b[0;31mNameError\u001b[0m                                 Traceback (most recent call last)",
      "\u001b[0;32m<ipython-input-664-8637cb625151>\u001b[0m in \u001b[0;36m<module>\u001b[0;34m()\u001b[0m\n\u001b[1;32m     18\u001b[0m \u001b[0;34m\u001b[0m\u001b[0m\n\u001b[1;32m     19\u001b[0m \u001b[0;31m# plot training results\u001b[0m\u001b[0;34m\u001b[0m\u001b[0;34m\u001b[0m\u001b[0m\n\u001b[0;32m---> 20\u001b[0;31m \u001b[0mplotDecisionBoundary\u001b[0m\u001b[0;34m(\u001b[0m\u001b[0mX\u001b[0m\u001b[0;34m,\u001b[0m \u001b[0mY\u001b[0m\u001b[0;34m,\u001b[0m \u001b[0mpredict_linearSVM\u001b[0m\u001b[0;34m,\u001b[0m \u001b[0;34m[\u001b[0m\u001b[0;34m-\u001b[0m\u001b[0;36m1\u001b[0m\u001b[0;34m,\u001b[0m\u001b[0;36m0\u001b[0m\u001b[0;34m,\u001b[0m\u001b[0;36m1\u001b[0m\u001b[0;34m]\u001b[0m\u001b[0;34m,\u001b[0m \u001b[0mtitle\u001b[0m \u001b[0;34m=\u001b[0m \u001b[0;34m'Linear SVM'\u001b[0m\u001b[0;34m)\u001b[0m\u001b[0;34m\u001b[0m\u001b[0m\n\u001b[0m\u001b[1;32m     21\u001b[0m \u001b[0mpl\u001b[0m\u001b[0;34m.\u001b[0m\u001b[0mshow\u001b[0m\u001b[0;34m(\u001b[0m\u001b[0;34m)\u001b[0m\u001b[0;34m\u001b[0m\u001b[0m\n",
      "\u001b[0;31mNameError\u001b[0m: name 'predict_linearSVM' is not defined"
     ]
    }
   ],
   "source": [
    "from numpy import *\n",
    "from plotBoundary import *\n",
    "import pylab as pl\n",
    "# import your LR training code\n",
    "\n",
    "\n",
    "# load data from csv files\n",
    "train = loadtxt('../DataFiles/HW2/data3_train.csv')\n",
    "X = train[:,0:2]\n",
    "Y = train[:,2:3]\n",
    "\n",
    "# Carry out training.\n",
    "### TODO %%%\n",
    "\n",
    "\n",
    "# Define the predict_linearSVM(x) function, which uses global trained parameters, w\n",
    "### TODO: define predict_linearSVM(x) ###\n",
    "\n",
    "# plot training results\n",
    "plotDecisionBoundary(X, Y, predict_linearSVM, [-1,0,1], title = 'Linear SVM')\n",
    "pl.show()"
   ]
  },
  {
   "cell_type": "code",
   "execution_count": null,
   "metadata": {
    "collapsed": true
   },
   "outputs": [],
   "source": []
  },
  {
   "cell_type": "markdown",
   "metadata": {},
   "source": [
    "# Question 4"
   ]
  },
  {
   "cell_type": "code",
   "execution_count": 9,
   "metadata": {
    "collapsed": false
   },
   "outputs": [],
   "source": [
    "# Generating Train, Test and Validation set for this question\n",
    "\n",
    "MNISTData_0 = pl.loadtxt('../DataFiles/HW2/mnist_digit_0.csv')\n",
    "MNISTData_0_Train =MNISTData_0[:200,]\n",
    "MNISTData_0_Valid =MNISTData_0[201:351,]\n",
    "MNISTData_0_Test =MNISTData_0[351:501,]\n",
    "\n",
    "MNISTData_1 = pl.loadtxt('../DataFiles/HW2/mnist_digit_1.csv')\n",
    "MNISTData_1_Train =MNISTData_1[:200,]\n",
    "MNISTData_1_Valid =MNISTData_1[201:351,]\n",
    "MNISTData_1_Test =MNISTData_1[351:501,]\n",
    "\n",
    "MNISTData_2 = pl.loadtxt('../DataFiles/HW2/mnist_digit_2.csv')\n",
    "MNISTData_2_Train =MNISTData_2[:200,]\n",
    "MNISTData_2_Valid =MNISTData_2[201:351,]\n",
    "MNISTData_2_Test =MNISTData_2[351:501,]\n",
    "\n",
    "MNISTData_3 = pl.loadtxt('../DataFiles/HW2/mnist_digit_3.csv')\n",
    "MNISTData_3_Train =MNISTData_3[:200,]\n",
    "MNISTData_3_Valid =MNISTData_3[201:351,]\n",
    "MNISTData_3_Test =MNISTData_3[351:501,]\n",
    "\n",
    "MNISTData_4 = pl.loadtxt('../DataFiles/HW2/mnist_digit_4.csv')\n",
    "MNISTData_4_Train =MNISTData_4[:200,]\n",
    "MNISTData_4_Valid =MNISTData_4[201:351,]\n",
    "MNISTData_4_Test =MNISTData_4[351:501,]\n",
    "\n",
    "MNISTData_5 = pl.loadtxt('../DataFiles/HW2/mnist_digit_5.csv')\n",
    "MNISTData_5_Train =MNISTData_5[:200,]\n",
    "MNISTData_5_Valid =MNISTData_5[201:351,]\n",
    "MNISTData_5_Test =MNISTData_5[351:501,]\n",
    "\n",
    "MNISTData_6 = pl.loadtxt('../DataFiles/HW2/mnist_digit_6.csv')\n",
    "MNISTData_6_Train =MNISTData_6[:200,]\n",
    "MNISTData_6_Valid =MNISTData_6[201:351,]\n",
    "MNISTData_6_Test =MNISTData_6[351:501,]\n",
    "\n",
    "MNISTData_7 = pl.loadtxt('../DataFiles/HW2/mnist_digit_7.csv')\n",
    "MNISTData_7_Train =MNISTData_7[:200,]\n",
    "MNISTData_7_Valid =MNISTData_7[201:351,]\n",
    "MNISTData_7_Test =MNISTData_7[351:501,]\n",
    "\n",
    "MNISTData_8 = pl.loadtxt('../DataFiles/HW2/mnist_digit_8.csv')\n",
    "MNISTData_8_Train =MNISTData_8[:200,]\n",
    "MNISTData_8_Valid =MNISTData_8[201:351,]\n",
    "MNISTData_8_Test =MNISTData_8[351:501,]\n",
    "\n",
    "MNISTData_9 = pl.loadtxt('../DataFiles/HW2/mnist_digit_9.csv')\n",
    "MNISTData_9_Train =MNISTData_9[:200,]\n",
    "MNISTData_9_Valid =MNISTData_9[201:351,]\n",
    "MNISTData_9_Test =MNISTData_9[351:501,]"
   ]
  },
  {
   "cell_type": "code",
   "execution_count": 10,
   "metadata": {
    "collapsed": false
   },
   "outputs": [
    {
     "data": {
      "text/plain": [
       "200"
      ]
     },
     "execution_count": 10,
     "metadata": {},
     "output_type": "execute_result"
    }
   ],
   "source": [
    "MNISTData_1_Train.shape[0]"
   ]
  },
  {
   "cell_type": "code",
   "execution_count": 11,
   "metadata": {
    "collapsed": false
   },
   "outputs": [],
   "source": [
    "MNISTData_1_Train_Augmented = np.c_[np.array([1.0]*MNISTData_1_Train.shape[0]), MNISTData_1_Train]\n",
    "MNISTData_1_Valid_Augmented = np.c_[np.array([1.0]*MNISTData_1_Valid.shape[0]), MNISTData_1_Valid]\n",
    "MNISTData_1_Test_Augmented = np.c_[np.array([1.0]*MNISTData_1_Test.shape[0]), MNISTData_1_Test]\n",
    "\n",
    "MNISTData_7_Train_Augmented = np.c_[np.array([-1.0]*MNISTData_7_Train.shape[0]), MNISTData_7_Train]\n",
    "MNISTData_7_Valid_Augmented = np.c_[np.array([-1.0]*MNISTData_7_Valid.shape[0]), MNISTData_7_Valid]\n",
    "MNISTData_7_Test_Augmented = np.c_[np.array([-1.0]*MNISTData_7_Test.shape[0]), MNISTData_7_Test]"
   ]
  },
  {
   "cell_type": "code",
   "execution_count": 12,
   "metadata": {
    "collapsed": false
   },
   "outputs": [
    {
     "name": "stdout",
     "output_type": "stream",
     "text": [
      "(150, 784)\n",
      "(150, 785)\n"
     ]
    }
   ],
   "source": [
    "print MNISTData_7_Test_Augmented[:,1:].shape\n",
    "print MNISTData_7_Test_Augmented.shape"
   ]
  },
  {
   "cell_type": "code",
   "execution_count": 13,
   "metadata": {
    "collapsed": false,
    "scrolled": true
   },
   "outputs": [],
   "source": [
    "# Set 1\n",
    "# Get the X and Y's separately\n",
    "Set1_train = np.vstack([MNISTData_1_Train_Augmented,MNISTData_7_Train_Augmented])\n",
    "np.random.shuffle(Set1_train)\n",
    "Set1_train_X = Set1_train[:,1:]\n",
    "Set1_train_X_Norm = (2*Set1_train_X/255)-1\n",
    "Set1_train_Y = Set1_train[:,0]\n",
    "\n",
    "Set1_valid = np.vstack([MNISTData_1_Valid_Augmented,MNISTData_7_Valid_Augmented])\n",
    "np.random.shuffle(Set1_valid)\n",
    "Set1_valid_X = Set1_valid[:,1:]\n",
    "Set1_valid_X_Norm = (2*Set1_valid_X/255)-1\n",
    "Set1_valid_Y = Set1_valid[:,0]\n",
    "\n",
    "Set1_test = np.vstack([MNISTData_1_Test_Augmented,MNISTData_7_Test_Augmented])\n",
    "np.random.shuffle(Set1_test)\n",
    "Set1_test_X = Set1_test[:,1:]\n",
    "Set1_test_X_Norm = (2*Set1_test_X/255)-1\n",
    "Set1_test_Y = Set1_test[:,0]\n"
   ]
  },
  {
   "cell_type": "code",
   "execution_count": 14,
   "metadata": {
    "collapsed": false
   },
   "outputs": [
    {
     "data": {
      "text/plain": [
       "(400, 784)"
      ]
     },
     "execution_count": 14,
     "metadata": {},
     "output_type": "execute_result"
    }
   ],
   "source": [
    "Set1_train_X.shape"
   ]
  },
  {
   "cell_type": "code",
   "execution_count": 15,
   "metadata": {
    "collapsed": false
   },
   "outputs": [],
   "source": [
    "MNISTData_3_Train_Augmented = np.c_[np.array([1.0]*MNISTData_3_Train.shape[0]), MNISTData_3_Train]\n",
    "MNISTData_3_Valid_Augmented = np.c_[np.array([1.0]*MNISTData_3_Valid.shape[0]), MNISTData_3_Valid]\n",
    "MNISTData_3_Test_Augmented = np.c_[np.array([1.0]*MNISTData_3_Test.shape[0]), MNISTData_3_Test]\n",
    "\n",
    "MNISTData_5_Train_Augmented = np.c_[np.array([-1.0]*MNISTData_5_Train.shape[0]), MNISTData_5_Train]\n",
    "MNISTData_5_Valid_Augmented = np.c_[np.array([-1.0]*MNISTData_5_Valid.shape[0]), MNISTData_5_Valid]\n",
    "MNISTData_5_Test_Augmented = np.c_[np.array([-1.0]*MNISTData_5_Test.shape[0]), MNISTData_5_Test]"
   ]
  },
  {
   "cell_type": "code",
   "execution_count": 16,
   "metadata": {
    "collapsed": false
   },
   "outputs": [],
   "source": [
    "# Set 2\n",
    "Set2_train = np.vstack([MNISTData_3_Train_Augmented,MNISTData_5_Train_Augmented])\n",
    "np.random.shuffle(Set2_train)\n",
    "Set2_train_X = Set2_train[:,1:]\n",
    "Set2_train_X_Norm = (2*Set2_train_X/255)-1\n",
    "Set2_train_Y = Set2_train[:,0]\n",
    "\n",
    "Set2_valid = np.vstack([MNISTData_3_Valid_Augmented,MNISTData_5_Valid_Augmented])\n",
    "np.random.shuffle(Set2_valid)\n",
    "Set2_valid_X = Set2_valid[:,1:]\n",
    "Set2_valid_X_Norm = (2*Set2_valid_X/255)-1\n",
    "Set2_valid_Y = Set2_valid[:,0]\n",
    "\n",
    "Set2_test = np.vstack([MNISTData_3_Test_Augmented,MNISTData_5_Test_Augmented])\n",
    "np.random.shuffle(Set2_test)\n",
    "Set2_test_X = Set2_test[:,1:]\n",
    "Set2_test_X_Norm = (2*Set2_test_X/255)-1\n",
    "Set2_test_Y = Set2_test[:,0]"
   ]
  },
  {
   "cell_type": "code",
   "execution_count": 17,
   "metadata": {
    "collapsed": true
   },
   "outputs": [],
   "source": [
    "MNISTData_4_Train_Augmented = np.c_[np.array([1.0]*MNISTData_4_Train.shape[0]), MNISTData_4_Train]\n",
    "MNISTData_4_Valid_Augmented = np.c_[np.array([1.0]*MNISTData_4_Valid.shape[0]), MNISTData_4_Valid]\n",
    "MNISTData_4_Test_Augmented = np.c_[np.array([1.0]*MNISTData_4_Test.shape[0]), MNISTData_4_Test]\n",
    "\n",
    "MNISTData_9_Train_Augmented = np.c_[np.array([-1.0]*MNISTData_9_Train.shape[0]), MNISTData_9_Train]\n",
    "MNISTData_9_Valid_Augmented = np.c_[np.array([-1.0]*MNISTData_9_Valid.shape[0]), MNISTData_9_Valid]\n",
    "MNISTData_9_Test_Augmented = np.c_[np.array([-1.0]*MNISTData_9_Test.shape[0]), MNISTData_9_Test]"
   ]
  },
  {
   "cell_type": "code",
   "execution_count": 18,
   "metadata": {
    "collapsed": false
   },
   "outputs": [],
   "source": [
    "# Set 3\n",
    "Set3_train = np.vstack([MNISTData_4_Train_Augmented,MNISTData_9_Train_Augmented])\n",
    "np.random.shuffle(Set3_train)\n",
    "Set3_train_X = Set3_train[:,1:]\n",
    "Set3_train_X_Norm = (2*Set3_train_X/255)-1\n",
    "Set3_train_Y = Set3_train[:,0]\n",
    "\n",
    "Set3_valid = np.vstack([MNISTData_4_Valid_Augmented,MNISTData_9_Valid_Augmented])\n",
    "np.random.shuffle(Set3_valid)\n",
    "Set3_valid_X = Set3_valid[:,1:]\n",
    "Set3_valid_X_Norm = (2*Set3_valid_X/255)-1\n",
    "Set3_valid_Y = Set3_valid[:,0]\n",
    "\n",
    "Set3_test = np.vstack([MNISTData_4_Test_Augmented,MNISTData_9_Test_Augmented])\n",
    "np.random.shuffle(Set3_test)\n",
    "Set3_test_X = Set3_test[:,1:]\n",
    "Set3_test_X_Norm = (2*Set3_test_X/255)-1\n",
    "Set3_test_Y = Set3_test[:,0]"
   ]
  },
  {
   "cell_type": "code",
   "execution_count": 19,
   "metadata": {
    "collapsed": true
   },
   "outputs": [],
   "source": [
    "MNISTData_Evens_Train = np.vstack ([MNISTData_0_Train,MNISTData_2_Train,MNISTData_4_Train,MNISTData_6_Train,MNISTData_8_Train])\n",
    "MNISTData_Odds_Train = np.vstack([MNISTData_1_Train,MNISTData_3_Train,MNISTData_5_Train,MNISTData_7_Train,MNISTData_9_Train])\n",
    "\n",
    "MNISTData_Evens_Valid = np.vstack ([MNISTData_0_Valid,MNISTData_2_Valid,MNISTData_4_Valid,MNISTData_6_Valid,MNISTData_8_Valid])\n",
    "MNISTData_Odds_Valid = np.vstack([MNISTData_1_Valid,MNISTData_3_Valid,MNISTData_5_Valid,MNISTData_7_Valid,MNISTData_9_Valid])\n",
    "\n",
    "MNISTData_Evens_Test = np.vstack ([MNISTData_0_Test,MNISTData_2_Test,MNISTData_4_Test,MNISTData_6_Test,MNISTData_8_Test])\n",
    "MNISTData_Odds_Test = np.vstack([MNISTData_1_Test,MNISTData_3_Test,MNISTData_5_Test,MNISTData_7_Test,MNISTData_9_Test])\n"
   ]
  },
  {
   "cell_type": "code",
   "execution_count": 20,
   "metadata": {
    "collapsed": true
   },
   "outputs": [],
   "source": [
    "MNISTData_Evens_Train_Augmented = np.c_[np.array([1.0]*MNISTData_Evens_Train.shape[0]), MNISTData_Evens_Train]\n",
    "MNISTData_Evens_Valid_Augmented = np.c_[np.array([1.0]*MNISTData_Evens_Valid.shape[0]), MNISTData_Evens_Valid]\n",
    "MNISTData_Evens_Test_Augmented = np.c_[np.array([1.0]*MNISTData_Evens_Test.shape[0]), MNISTData_Evens_Test]\n",
    "\n",
    "MNISTData_Odds_Train_Augmented = np.c_[np.array([-1.0]*MNISTData_Odds_Train.shape[0]), MNISTData_Odds_Train]\n",
    "MNISTData_Odds_Valid_Augmented = np.c_[np.array([-1.0]*MNISTData_Odds_Valid.shape[0]), MNISTData_Odds_Valid]\n",
    "MNISTData_Odds_Test_Augmented = np.c_[np.array([-1.0]*MNISTData_Odds_Test.shape[0]), MNISTData_Odds_Test]"
   ]
  },
  {
   "cell_type": "code",
   "execution_count": 21,
   "metadata": {
    "collapsed": false
   },
   "outputs": [
    {
     "data": {
      "text/plain": [
       "(750, 785)"
      ]
     },
     "execution_count": 21,
     "metadata": {},
     "output_type": "execute_result"
    }
   ],
   "source": [
    "MNISTData_Odds_Test_Augmented.shape"
   ]
  },
  {
   "cell_type": "code",
   "execution_count": 22,
   "metadata": {
    "collapsed": false
   },
   "outputs": [],
   "source": [
    "# Set 4\n",
    "Set4_train = np.vstack([MNISTData_Evens_Train_Augmented,MNISTData_Odds_Train_Augmented])\n",
    "np.random.shuffle(Set4_train)\n",
    "Set4_train_X = Set4_train[:,1:]\n",
    "Set4_train_X_Norm = (2*Set4_train_X/255)-1\n",
    "Set4_train_Y = Set4_train[:,0]\n",
    "\n",
    "Set4_valid = np.vstack([MNISTData_Evens_Valid_Augmented,MNISTData_Odds_Valid_Augmented])\n",
    "np.random.shuffle(Set4_valid)\n",
    "Set4_valid_X = Set4_valid[:,1:]\n",
    "Set4_valid_X_Norm = (2*Set4_valid_X/255)-1\n",
    "Set4_valid_Y = Set4_valid[:,0]\n",
    "\n",
    "Set4_test = np.vstack([MNISTData_Evens_Test_Augmented,MNISTData_Odds_Test_Augmented])\n",
    "np.random.shuffle(Set4_test)\n",
    "Set4_test_X = Set4_test[:,1:]\n",
    "Set4_test_X_Norm = (2*Set4_test_X/255)-1\n",
    "Set4_test_Y = Set4_test[:,0]"
   ]
  },
  {
   "cell_type": "code",
   "execution_count": null,
   "metadata": {
    "collapsed": false
   },
   "outputs": [],
   "source": []
  },
  {
   "cell_type": "markdown",
   "metadata": {
    "collapsed": true
   },
   "source": [
    "## Application of logistic regression"
   ]
  },
  {
   "cell_type": "code",
   "execution_count": 251,
   "metadata": {
    "collapsed": false
   },
   "outputs": [],
   "source": [
    "# Use the validation set to pick the optimal lambda\n",
    "# In this case I am only doing L2 norm penalizati\n",
    "lambdaList = np.linspace(0.1,5,50)\n",
    "classError_D1_Train  = []\n",
    "classError_D1_Valid  = []\n",
    "classError_D2_Train  = []\n",
    "classError_D2_Valid  = []\n",
    "classError_D3_Train  = []\n",
    "classError_D3_Valid  = []\n",
    "classError_D4_Train  = []\n",
    "classError_D4_Valid  = []\n",
    "\n",
    "for i in lambdaList:\n",
    "    logit = linear_model.LogisticRegression(penalty='l2', tol=0.0001, C=1/i, fit_intercept=True, intercept_scaling=1, max_iter=1000, multi_class='ovr')\n",
    "\n",
    "    \n",
    "    model_set1 = logit.fit(Set1_train_X,Set1_train_Y)\n",
    "\n",
    "    classError_D1_Train.append(ClassError(Set1_train_Y,model_set1.predict(Set1_train_X))/np.float(len(Set1_train_Y)))\n",
    "    classError_D1_Valid.append(ClassError(Set1_valid_Y,model_set1.predict(Set1_valid_X))/np.float(len(Set1_valid_Y)))\n",
    "    \n",
    "    model_set2 = logit.fit(Set2_train_X,Set2_train_Y)\n",
    "    classError_D2_Train.append(ClassError(Set2_train_Y,model_set2.predict(Set2_train_X))/np.float(len(Set2_train_Y)))\n",
    "    classError_D2_Valid.append(ClassError(Set2_valid_Y,model_set2.predict(Set2_valid_X))/np.float(len(Set2_valid_Y)))\n",
    "    \n",
    "    model_set3 = logit.fit(Set3_train_X,Set3_train_Y)\n",
    "    classError_D3_Train.append(ClassError(Set3_train_Y,model_set3.predict(Set3_train_X))/np.float(len(Set3_train_Y)))\n",
    "    classError_D3_Valid.append(ClassError(Set3_valid_Y,model_set3.predict(Set3_valid_X))/np.float(len(Set3_valid_Y)))\n",
    "    \n",
    "    model_set4 = logit.fit(Set4_train_X,Set4_train_Y)\n",
    "    classError_D4_Train.append(ClassError(Set4_train_Y,model_set4.predict(Set4_train_X))/np.float(len(Set4_train_Y)))\n",
    "    classError_D4_Valid.append(ClassError(Set4_valid_Y,model_set4.predict(Set4_valid_X))/np.float(len(Set4_valid_Y)))\n",
    "\n"
   ]
  },
  {
   "cell_type": "code",
   "execution_count": null,
   "metadata": {
    "collapsed": false
   },
   "outputs": [],
   "source": []
  },
  {
   "cell_type": "code",
   "execution_count": 262,
   "metadata": {
    "collapsed": false
   },
   "outputs": [
    {
     "name": "stdout",
     "output_type": "stream",
     "text": [
      "0.0\n",
      "0.01\n",
      "0.0\n",
      "0.07\n",
      "0.0\n",
      "0.0566666666667\n",
      "0.0\n",
      "0.143333333333\n"
     ]
    }
   ],
   "source": [
    "#Dataset 1 lambda didn't matter\n",
    "logit = linear_model.LogisticRegression(penalty='l2', tol=0.0001, C=1, fit_intercept=True, \n",
    "                                        intercept_scaling=1, max_iter=1000, multi_class='ovr')\n",
    "\n",
    "model_set1 = logit.fit(Set1_train_X,Set1_train_Y)\n",
    "print ClassError(Set1_train_Y,model_set1.predict(Set1_train_X))/np.float(len(Set1_train_Y))\n",
    "print ClassError(Set1_test_Y,model_set1.predict(Set1_test_X))/np.float(len(Set1_test_Y))\n",
    "\n",
    "#Dataset 2 lambda didn't matter\n",
    "logit = linear_model.LogisticRegression(penalty='l2', tol=0.0001, C=1, fit_intercept=True, \n",
    "                                        intercept_scaling=1, max_iter=1000, multi_class='ovr')\n",
    "\n",
    "model_set1 = logit.fit(Set2_train_X,Set2_train_Y)\n",
    "print ClassError(Set2_train_Y,model_set1.predict(Set2_train_X))/np.float(len(Set2_train_Y))\n",
    "print ClassError(Set2_test_Y,model_set1.predict(Set2_test_X))/np.float(len(Set2_test_Y))\n",
    "\n",
    "#Dataset 3 lambda didn't matter\n",
    "logit = linear_model.LogisticRegression(penalty='l2', tol=0.0001, C=1, fit_intercept=True, \n",
    "                                        intercept_scaling=1, max_iter=1000, multi_class='ovr')\n",
    "\n",
    "model_set1 = logit.fit(Set3_train_X,Set3_train_Y)\n",
    "print ClassError(Set3_train_Y,model_set1.predict(Set3_train_X))/np.float(len(Set3_train_Y))\n",
    "print ClassError(Set3_test_Y,model_set1.predict(Set3_test_X))/np.float(len(Set3_test_Y))\n",
    "\n",
    "\n",
    "\n",
    "#Dataset 4 lambda didn't matter (4.9)\n",
    "logit = linear_model.LogisticRegression(penalty='l2', tol=0.0001, C=1/4.9, fit_intercept=True, \n",
    "                                        intercept_scaling=1, max_iter=1000, multi_class='ovr')\n",
    "\n",
    "model_set1 = logit.fit(Set4_train_X,Set4_train_Y)\n",
    "print ClassError(Set4_train_Y,model_set1.predict(Set4_train_X))/np.float(len(Set4_train_Y))\n",
    "print ClassError(Set4_test_Y,model_set1.predict(Set4_test_X))/np.float(len(Set4_test_Y))"
   ]
  },
  {
   "cell_type": "code",
   "execution_count": 264,
   "metadata": {
    "collapsed": false
   },
   "outputs": [],
   "source": [
    "# Use the validation set to pick the optimal lambda\n",
    "# In this case I am only doing L2 norm penalizati\n",
    "lambdaList = np.linspace(0.1,5,50)\n",
    "classError_D1_Train_Norm  = []\n",
    "classError_D1_Valid_Norm  = []\n",
    "classError_D2_Train_Norm  = []\n",
    "classError_D2_Valid_Norm  = []\n",
    "classError_D3_Train_Norm  = []\n",
    "classError_D3_Valid_Norm  = []\n",
    "classError_D4_Train_Norm  = []\n",
    "classError_D4_Valid_Norm  = []\n",
    "\n",
    "for i in lambdaList:\n",
    "    logit = linear_model.LogisticRegression(penalty='l2', tol=0.0001, C=1/i, fit_intercept=True, \n",
    "                                            intercept_scaling=1, max_iter=1000, multi_class='ovr')\n",
    "\n",
    "    \n",
    "    model_set1 = logit.fit(Set1_train_X_Norm,Set1_train_Y)\n",
    "    #print ClassError(Set1_train_Y,model_set1.predict(Set1_train_X))\n",
    "    #print ClassError(Set1_train_Y,model_set1.predict(Set1_train_X))/np.float(len(Set1_train_Y))\n",
    "    classError_D1_Train_Norm.append(ClassError(Set1_train_Y,model_set1.predict(Set1_train_X_Norm))/np.float(len(Set1_train_Y)))\n",
    "    classError_D1_Valid_Norm.append(ClassError(Set1_valid_Y,model_set1.predict(Set1_valid_X_Norm))/np.float(len(Set1_valid_Y)))\n",
    "    \n",
    "    model_set2 = logit.fit(Set2_train_X_Norm,Set2_train_Y)\n",
    "    classError_D2_Train_Norm.append(ClassError(Set2_train_Y,model_set2.predict(Set2_train_X_Norm))/np.float(len(Set2_train_Y)))\n",
    "    classError_D2_Valid_Norm.append(ClassError(Set2_valid_Y,model_set2.predict(Set2_valid_X_Norm))/np.float(len(Set2_valid_Y)))\n",
    "    \n",
    "    model_set3 = logit.fit(Set3_train_X_Norm,Set3_train_Y)\n",
    "    classError_D3_Train_Norm.append(ClassError(Set3_train_Y,model_set3.predict(Set3_train_X_Norm))/np.float(len(Set3_train_Y)))\n",
    "    classError_D3_Valid_Norm.append(ClassError(Set3_valid_Y,model_set3.predict(Set3_valid_X_Norm))/np.float(len(Set3_valid_Y)))\n",
    "    \n",
    "    model_set4 = logit.fit(Set4_train_X,Set4_train_Y)\n",
    "    classError_D4_Train_Norm.append(ClassError(Set4_train_Y,model_set4.predict(Set4_train_X_Norm))/np.float(len(Set4_train_Y)))\n",
    "    classError_D4_Valid_Norm.append(ClassError(Set4_valid_Y,model_set4.predict(Set4_valid_X_Norm))/np.float(len(Set4_valid_Y)))\n",
    "\n"
   ]
  },
  {
   "cell_type": "code",
   "execution_count": null,
   "metadata": {
    "collapsed": false
   },
   "outputs": [],
   "source": []
  },
  {
   "cell_type": "code",
   "execution_count": 277,
   "metadata": {
    "collapsed": false
   },
   "outputs": [
    {
     "data": {
      "text/plain": [
       "[<matplotlib.lines.Line2D at 0x12f96d650>]"
      ]
     },
     "execution_count": 277,
     "metadata": {},
     "output_type": "execute_result"
    },
    {
     "data": {
      "image/png": "[encoded data removed]",
      "text/plain": [
       "<matplotlib.figure.Figure at 0x12f716210>"
      ]
     },
     "metadata": {},
     "output_type": "display_data"
    }
   ],
   "source": [
    "plt.plot(lambdaList,classError_D3_Valid_Norm)"
   ]
  },
  {
   "cell_type": "code",
   "execution_count": 279,
   "metadata": {
    "collapsed": false
   },
   "outputs": [
    {
     "name": "stdout",
     "output_type": "stream",
     "text": [
      "0.0\n",
      "0.0133333333333\n",
      "0.0\n",
      "0.05\n",
      "0.0\n",
      "0.0533333333333\n",
      "0.038\n",
      "0.114666666667\n"
     ]
    }
   ],
   "source": [
    "#Dataset 1 lambda didn't matter\n",
    "logit = linear_model.LogisticRegression(penalty='l2', tol=0.0001, C=1, fit_intercept=True, \n",
    "                                        intercept_scaling=1, max_iter=1000, multi_class='ovr')\n",
    "\n",
    "model_set1 = logit.fit(Set1_train_X_Norm,Set1_train_Y)\n",
    "print ClassError(Set1_train_Y,model_set1.predict(Set1_train_X_Norm))/np.float(len(Set1_train_Y))\n",
    "print ClassError(Set1_test_Y,model_set1.predict(Set1_test_X_Norm))/np.float(len(Set1_test_Y))\n",
    "\n",
    "#Dataset 2 lambda=0.1\n",
    "logit = linear_model.LogisticRegression(penalty='l2', tol=0.0001, C=1/0.1, fit_intercept=True, \n",
    "                                        intercept_scaling=1, max_iter=1000, multi_class='ovr')\n",
    "\n",
    "model_set1 = logit.fit(Set2_train_X_Norm,Set2_train_Y)\n",
    "print ClassError(Set2_train_Y,model_set1.predict(Set2_train_X_Norm))/np.float(len(Set2_train_Y))\n",
    "print ClassError(Set2_test_Y,model_set1.predict(Set2_test_X_Norm))/np.float(len(Set2_test_Y))\n",
    "\n",
    "#Dataset 3 lambda=2.5\n",
    "logit = linear_model.LogisticRegression(penalty='l2', tol=0.0001, C=1/2.5, fit_intercept=True, \n",
    "                                        intercept_scaling=1, max_iter=1000, multi_class='ovr')\n",
    "\n",
    "model_set1 = logit.fit(Set3_train_X_Norm,Set3_train_Y)\n",
    "print ClassError(Set3_train_Y,model_set1.predict(Set3_train_X_Norm))/np.float(len(Set3_train_Y))\n",
    "print ClassError(Set3_test_Y,model_set1.predict(Set3_test_X_Norm))/np.float(len(Set3_test_Y))\n",
    "\n",
    "\n",
    "\n",
    "#Dataset 4 lambda didn't matter\n",
    "logit = linear_model.LogisticRegression(penalty='l2', tol=0.0001, C=1, fit_intercept=True, \n",
    "                                        intercept_scaling=1, max_iter=1000, multi_class='ovr')\n",
    "\n",
    "model_set1 = logit.fit(Set4_train_X_Norm,Set4_train_Y)\n",
    "print ClassError(Set4_train_Y,model_set1.predict(Set4_train_X_Norm))/np.float(len(Set4_train_Y))\n",
    "print ClassError(Set4_test_Y,model_set1.predict(Set4_test_X_Norm))/np.float(len(Set4_test_Y))"
   ]
  },
  {
   "cell_type": "code",
   "execution_count": null,
   "metadata": {
    "collapsed": true
   },
   "outputs": [],
   "source": [
    "# Test the data with optimal lambda\n",
    "lambdaList = np.linspace(0.1,5,50)\n",
    "classError_D1_Train  = []\n",
    "classError_D1_Valid  = []\n",
    "classError_D2_Train  = []\n",
    "classError_D2_Valid  = []\n",
    "classError_D3_Train  = []\n",
    "classError_D3_Valid  = []\n",
    "classError_D4_Train  = []\n",
    "classError_D4_Valid  = []\n",
    "\n",
    "for i in lambdaList:\n",
    "    logit = linear_model.LogisticRegression(penalty='l2', tol=0.0001, C=1/i, fit_intercept=True, \n",
    "                                            intercept_scaling=1, max_iter=1000, multi_class='ovr')\n",
    "\n",
    "    \n",
    "    model_set1 = logit.fit(Set1_train_X,Set1_train_Y)\n",
    "    #print ClassError(Set1_train_Y,model_set1.predict(Set1_train_X))\n",
    "    #print ClassError(Set1_train_Y,model_set1.predict(Set1_train_X))/np.float(len(Set1_train_Y))\n",
    "    classError_D1_Train.append(ClassError(Set1_train_Y,model_set1.predict(Set1_train_X))/np.float(len(Set1_train_Y)))\n",
    "    classError_D1_Valid.append(ClassError(Set1_valid_Y,model_set1.predict(Set1_valid_X))/np.float(len(Set1_valid_Y)))\n",
    "    \n",
    "    model_set2 = logit.fit(Set2_train_X,Set2_train_Y)\n",
    "    classError_D2_Train.append(ClassError(Set2_train_Y,model_set2.predict(Set2_train_X))/np.float(len(Set2_train_Y)))\n",
    "    classError_D2_Valid.append(ClassError(Set2_valid_Y,model_set2.predict(Set2_valid_X))/np.float(len(Set2_valid_Y)))\n",
    "    \n",
    "    model_set3 = logit.fit(Set3_train_X,Set3_train_Y)\n",
    "    classError_D3_Train.append(ClassError(Set3_train_Y,model_set3.predict(Set3_train_X))/np.float(len(Set3_train_Y)))\n",
    "    classError_D3_Valid.append(ClassError(Set3_valid_Y,model_set3.predict(Set3_valid_X))/np.float(len(Set3_valid_Y)))\n",
    "    \n",
    "    model_set4 = logit.fit(Set4_train_X,Set4_train_Y)\n",
    "    classError_D4_Train.append(ClassError(Set4_train_Y,model_set4.predict(Set4_train_X))/np.float(len(Set4_train_Y)))\n",
    "    classError_D4_Valid.append(ClassError(Set4_valid_Y,model_set4.predict(Set4_valid_X))/np.float(len(Set4_valid_Y)))\n",
    "\n"
   ]
  },
  {
   "cell_type": "code",
   "execution_count": null,
   "metadata": {
    "collapsed": true
   },
   "outputs": [],
   "source": [
    "# Evaluating at the test set for L2\n",
    "# Dataset 1\n",
    "logit_L2 = linear_model.LogisticRegression(penalty='l2', tol=0.0001, C=1, fit_intercept=True, \n",
    "                                           intercept_scaling=1, max_iter=1000, multi_class='ovr')\n",
    "model_set = logit_L2.fit(Set1_train_X,Set1_train_Y)\n",
    "print ClassError(Set1_test_Y,model_set.predict(Set1_test_X))/np.float(Set1_test_Y)\n",
    "\n",
    "\n",
    "# Dataset 2\n",
    "logit_L2 = linear_model.LogisticRegression(penalty='l2', tol=0.0001, C=1, fit_intercept=True, \n",
    "                                           intercept_scaling=1, max_iter=1000, multi_class='ovr')\n",
    "model_set = logit_L2.fit(Set2_train_X,Set2_train_Y)\n",
    "print ClassError(Set2_test_Y,model_set.predict(Set2_test_X))/np.float(Set2_test_Y)\n",
    "\n",
    "# Dataset 3\n",
    "logit_L2 = linear_model.LogisticRegression(penalty='l2', tol=0.0001, C=1, fit_intercept=True, \n",
    "                                           intercept_scaling=1, max_iter=1000, multi_class='ovr')\n",
    "model_set = logit_L2.fit(Set3_train_X,Set3_train_Y)\n",
    "print ClassError(Set3_test_Y,model_set.predict(Set3_test_X))/np.float(Set3_test_Y)\n",
    "\n",
    "# Dataset 4\n",
    "logit_L2 = linear_model.LogisticRegression(penalty='l2', tol=0.0001, C=1, fit_intercept=True, \n",
    "                                           intercept_scaling=1, max_iter=1000, multi_class='ovr')\n",
    "model_set = logit_L2.fit(Set4_train_X,Set4_train_Y)\n",
    "print ClassError(Set4_test_Y,model_set.predict(Set4_test_X))/np.float(Set4_test_Y)"
   ]
  },
  {
   "cell_type": "markdown",
   "metadata": {},
   "source": [
    "## Application of linear SVM"
   ]
  },
  {
   "cell_type": "code",
   "execution_count": null,
   "metadata": {
    "collapsed": true
   },
   "outputs": [],
   "source": [
    "Set1_train_X = Set1_train_X.copy()\n",
    "Set1_train_Y = Set1_train_Y.copy()\n",
    "SVM = SVMclassification(1,1,\"linear\") # C has been set to 1\n",
    "bias = SVM.SVMbias(Set1_train_X,Set1_train_Y)\n",
    "print bias\n",
    "SV,SVlabel,SVMult = SVM.SVMClassifier(Set1_train_X,Set1_train_Y)"
   ]
  },
  {
   "cell_type": "code",
   "execution_count": null,
   "metadata": {
    "collapsed": true
   },
   "outputs": [],
   "source": [
    "#predictorBase = SVMPrediction(bias,SVMult,SV,SVlabel)\n",
    "#pred1 = predictorBase.predictSVM(Set1_train_X)\n",
    "# Use the validation set to pick the best C from C = 0.01,0.1,1,10,100\n",
    "CList = [0.01,0.1,1,10,100]\n",
    "classError_Set1_Train = []\n",
    "classError_Set1_Train_Norm = []\n",
    "classError_Set1_Valid = []\n",
    "classError_Set1_Valid_Norm = []\n",
    "classError_Set2_Train = []\n",
    "classError_Set2_Train_Norm = []\n",
    "classError_Set2_Valid = []\n",
    "classError_Set2_Valid_Norm = []\n",
    "classError_Set3_Train = []\n",
    "classError_Set3_Train_Norm = []\n",
    "classError_Set3_Valid = []\n",
    "classError_Set3_Valid_Norm = []\n",
    "classError_Set4_Train = []\n",
    "classError_Set4_Train_Norm = []\n",
    "classError_Set4_Valid = []\n",
    "classError_Set4_Valid_Norm = []\n",
    "\n",
    "Set1_train_X = Set1_train_X.copy()\n",
    "Set1_train_Y = Set1_train_Y.copy()\n",
    "Set2_train_X = Set2_train_X.copy()\n",
    "Set2_train_Y = Set2_train_Y.copy()\n",
    "Set3_train_X = Set3_train_X.copy()\n",
    "Set3_train_Y = Set3_train_Y.copy()\n",
    "Set4_train_X = Set4_train_X.copy()\n",
    "Set4_train_Y = Set4_train_Y.copy()\n",
    "\n",
    "SVM = SVMclassification(1,1,\"linear\") # C has been set to 1\n",
    "bias = SVM.SVMbias(Set1_train_X,Set1_train_Y)\n",
    "print bias\n",
    "SV,SVlabel,SVMult = SVM.SVMClassifier(Set1_train_X,Set1_train_Y)\n",
    "for i in CList:\n",
    "    SVM = SVMclassification(i,1,\"linear\") # C has been set to 1\n",
    "    bias = SVM.SVMbias(Set1_train_X,Set1_train_Y)\n",
    "    SV,SVlabel,SVMult = SVM.SVMClassifier(Set1_train_X,Set1_train_Y)\n",
    "    predictorBase = SVMPrediction(bias,SVMult,SV,SVlabel)\n",
    "    pred1 = predictorBase.predictSVM(Set1_train_X)\n",
    "    pred2 = predictorBase.predictSVM(Set1_valid_X)\n",
    "    classError_Set1_Train.append(ClassError(pred1,Set1_train_Y)/np.float(len(pred1)))\n",
    "    classError_Set1_Valid.append(ClassError(pred2,Set1_valid_Y)/np.float(len(pred2)))\n",
    "    \n",
    "    \n",
    "    bias = SVM.SVMbias(Set1_train_X_Norm,Set1_train_Y)\n",
    "    SV,SVlabel,SVMult = SVM.SVMClassifier(Set1_train_X_Norm,Set1_train_Y)\n",
    "    predictorBase = SVMPrediction(bias,SVMult,SV,SVlabel)\n",
    "    pred1 = predictorBase.predictSVM(Set1_train_X_Norm)\n",
    "    pred2 = predictorBase.predictSVM(Set1_valid_X_Norm)\n",
    "    classError_Set1_Train_Norm.append(ClassError(pred1,Set1_train_Y)/np.float(len(pred1)))\n",
    "    classError_Set1_Valid_Norm.append(ClassError(pred2,Set1_valid_Y)/np.float(len(pred2)))\n",
    "    \n",
    "    # Set2\n",
    "    \n",
    "    SVM = SVMclassification(i,1,\"linear\") # C has been set to 1\n",
    "    bias = SVM.SVMbias(Set2_train_X,Set2_train_Y)\n",
    "    SV,SVlabel,SVMult = SVM.SVMClassifier(Set2_train_X,Set2_train_Y)\n",
    "    predictorBase = SVMPrediction(bias,SVMult,SV,SVlabel)\n",
    "    pred1 = predictorBase.predictSVM(Set2_train_X)\n",
    "    pred2 = predictorBase.predictSVM(Set2_valid_X)\n",
    "    classError_Set2_Train.append(ClassError(pred1,Set2_train_Y)/np.float(len(pred1)))\n",
    "    classError_Set2_Valid.append(ClassError(pred2,Set2_valid_Y)/np.float(len(pred2)))\n",
    "    \n",
    "    \n",
    "    bias = SVM.SVMbias(Set2_train_X_Norm,Set2_train_Y)\n",
    "    SV,SVlabel,SVMult = SVM.SVMClassifier(Set2_train_X_Norm,Set2_train_Y)\n",
    "    predictorBase = SVMPrediction(bias,SVMult,SV,SVlabel)\n",
    "    pred1 = predictorBase.predictSVM(Set2_train_X_Norm)\n",
    "    pred2 = predictorBase.predictSVM(Set2_valid_X_Norm)\n",
    "    classError_Set2_Train_Norm.append(ClassError(pred1,Set2_train_Y)/np.float(len(pred1)))\n",
    "    classError_Set2_Valid_Norm.append(ClassError(pred2,Set2_valid_Y)/np.float(len(pred2)))\n",
    "    \n",
    "    # Set3\n",
    "    \n",
    "    SVM = SVMclassification(i,1,\"linear\") # C has been set to 1\n",
    "    bias = SVM.SVMbias(Set3_train_X,Set3_train_Y)\n",
    "    SV,SVlabel,SVMult = SVM.SVMClassifier(Set3_train_X,Set3_train_Y)\n",
    "    predictorBase = SVMPrediction(bias,SVMult,SV,SVlabel)\n",
    "    pred1 = predictorBase.predictSVM(Set3_train_X)\n",
    "    pred2 = predictorBase.predictSVM(Set3_valid_X)\n",
    "    classError_Set3_Train.append(ClassError(pred1,Set3_train_Y)/np.float(len(pred1)))\n",
    "    classError_Set3_Valid.append(ClassError(pred2,Set3_valid_Y)/np.float(len(pred2)))\n",
    "    \n",
    "    \n",
    "    bias = SVM.SVMbias(Set3_train_X_Norm,Set3_train_Y)\n",
    "    SV,SVlabel,SVMult = SVM.SVMClassifier(Set3_train_X_Norm,Set3_train_Y)\n",
    "    predictorBase = SVMPrediction(bias,SVMult,SV,SVlabel)\n",
    "    pred1 = predictorBase.predictSVM(Set3_train_X_Norm)\n",
    "    pred2 = predictorBase.predictSVM(Set3_valid_X_Norm)\n",
    "    classError_Set3_Train_Norm.append(ClassError(pred1,Set3_train_Y)/np.float(len(pred1)))\n",
    "    classError_Set3_Valid_Norm.append(ClassError(pred2,Set3_valid_Y)/np.float(len(pred2)))\n",
    "    \n",
    "    # Set4\n",
    "    \n",
    "    SVM = SVMclassification(i,1,\"linear\") # C has been set to 1\n",
    "    bias = SVM.SVMbias(Set4_train_X,Set4_train_Y)\n",
    "    SV,SVlabel,SVMult = SVM.SVMClassifier(Set4_train_X,Set4_train_Y)\n",
    "    predictorBase = SVMPrediction(bias,SVMult,SV,SVlabel)\n",
    "    pred1 = predictorBase.predictSVM(Set4_train_X)\n",
    "    pred2 = predictorBase.predictSVM(Set4_valid_X)\n",
    "    classError_Set4_Train.append(ClassError(pred1,Set4_train_Y)/np.float(len(pred1)))\n",
    "    classError_Set4_Valid.append(ClassError(pred2,Set4_valid_Y)/np.float(len(pred2)))\n",
    "    \n",
    "    \n",
    "    bias = SVM.SVMbias(Set4_train_X_Norm,Set4_train_Y)\n",
    "    SV,SVlabel,SVMult = SVM.SVMClassifier(Set4_train_X_Norm,Set4_train_Y)\n",
    "    predictorBase = SVMPrediction(bias,SVMult,SV,SVlabel)\n",
    "    pred1 = predictorBase.predictSVM(Set4_train_X_Norm)\n",
    "    pred2 = predictorBase.predictSVM(Set4_valid_X_Norm)\n",
    "    classError_Set4_Train_Norm.append(ClassError(pred1,Set4_train_Y)/np.float(len(pred1)))\n",
    "    classError_Set4_Valid_Norm.append(ClassError(pred2,Set4_valid_Y)/np.float(len(pred2)))\n",
    "    "
   ]
  },
  {
   "cell_type": "code",
   "execution_count": 59,
   "metadata": {
    "collapsed": false
   },
   "outputs": [
    {
     "name": "stdout",
     "output_type": "stream",
     "text": [
      "----Set1-----\n",
      "[0.0, 0.0, 0.0, 0.0, 0.0]\n",
      "[0.0033333333333333335, 0.0033333333333333335, 0.0033333333333333335, 0.0033333333333333335, 0.0033333333333333335]\n",
      "[0.0725, 0.0925, 0.0925, 0.0925, 0.0925]\n",
      "[0.08, 0.10333333333333333, 0.10333333333333333, 0.10333333333333333, 0.10333333333333333]\n",
      "----Set2-----\n",
      "[0.0, 0.0, 0.0, 0.0, 0.0]\n",
      "[0.1, 0.1, 0.1, 0.1, 0.1]\n",
      "[0.025, 0.0, 0.0, 0.0, 0.0]\n",
      "[0.056666666666666664, 0.08, 0.08, 0.08, 0.08]\n",
      "----Set3-----\n",
      "[0.0, 0.0, 0.0, 0.0, 0.0]\n",
      "[0.043333333333333335, 0.043333333333333335, 0.043333333333333335, 0.043333333333333335, 0.043333333333333335]\n",
      "[0.025, 0.0, 0.0, 0.0, 0.0]\n",
      "[0.043333333333333335, 0.08333333333333333, 0.08333333333333333, 0.08333333333333333, 0.08333333333333333]\n",
      "----Set4-----\n",
      "[0.1625, 0.1625, 0.1625, 0.1625, 0.1625]\n",
      "[0.19933333333333333, 0.19933333333333333, 0.19933333333333333, 0.19933333333333333, 0.19933333333333333]\n",
      "[0.0915, 0.4995, 0.5, 0.5, 0.5]\n",
      "[0.11733333333333333, 0.49933333333333335, 0.5, 0.5, 0.5]\n"
     ]
    }
   ],
   "source": [
    "print '----Set1-----'\n",
    "\n",
    "print classError_Set1_Train\n",
    "print classError_Set1_Valid\n",
    "print classError_Set1_Train_Norm\n",
    "print classError_Set1_Valid_Norm\n",
    "\n",
    "print '----Set2-----'\n",
    "\n",
    "print classError_Set2_Train\n",
    "print classError_Set2_Valid\n",
    "print classError_Set2_Train_Norm\n",
    "print classError_Set2_Valid_Norm\n",
    "\n",
    "print '----Set3-----'\n",
    "\n",
    "print classError_Set3_Train\n",
    "print classError_Set3_Valid\n",
    "print classError_Set3_Train_Norm\n",
    "print classError_Set3_Valid_Norm\n",
    "\n",
    "print '----Set4-----'\n",
    "\n",
    "print classError_Set4_Train\n",
    "print classError_Set4_Valid\n",
    "print classError_Set4_Train_Norm\n",
    "print classError_Set4_Valid_Norm\n",
    "\n",
    "#print pred1\n",
    "\n",
    "\n",
    "#print Set1_train_Y\n",
    "#print ClassError(pred1,Set1_train_Y)\n",
    "#print ClassError(pred2,Set1_valid_Y)"
   ]
  },
  {
   "cell_type": "code",
   "execution_count": 61,
   "metadata": {
    "collapsed": true
   },
   "outputs": [],
   "source": [
    "errorSet1 = []\n",
    "errorSet2 = []\n",
    "errorSet3 = []\n",
    "errorSet4 = []\n",
    "\n",
    "errorSet1_Norm = []\n",
    "errorSet2_Norm = []\n",
    "errorSet3_Norm = []\n",
    "errorSet4_Norm = []\n",
    "\n",
    "\n"
   ]
  },
  {
   "cell_type": "code",
   "execution_count": null,
   "metadata": {
    "collapsed": true
   },
   "outputs": [],
   "source": [
    "# Test set\n",
    "# Set 1 was not very sensitive to the chosen C\n",
    "SVM = SVMclassification(1,1,\"linear\") # C has been set to 1\n",
    "bias = SVM.SVMbias(Set1_train_X,Set1_train_Y)\n",
    "SV,SVlabel,SVMult = SVM.SVMClassifier(Set1_train_X,Set1_train_Y)\n",
    "predictorBase = SVMPrediction(bias,SVMult,SV,SVlabel)\n",
    "pred1 = predictorBase.predictSVM(Set1_train_X)\n",
    "pred2 = predictorBase.predictSVM(Set1_test_X)\n",
    "errorSet1.append(ClassError(pred1,Set1_train_Y)/np.float(len(Set1_train_Y)))\n",
    "print ClassError(pred1,Set1_train_Y)/np.float(len(Set1_train_Y))\n",
    "errorSet1.append(ClassError(pred2,Set1_test_Y)/np.float(len(Set1_test_Y)))\n",
    "print ClassError(pred2,Set1_test_Y)/np.float(len(Set1_test_Y))\n",
    "\n",
    "\n",
    "\n",
    "# Set 2 was not very sensitive to the chosen C\n",
    "SVM = SVMclassification(1,1,\"linear\") # C has been set to 1\n",
    "bias = SVM.SVMbias(Set2_train_X,Set2_train_Y)\n",
    "SV,SVlabel,SVMult = SVM.SVMClassifier(Set2_train_X,Set2_train_Y)\n",
    "predictorBase = SVMPrediction(bias,SVMult,SV,SVlabel)\n",
    "pred1 = predictorBase.predictSVM(Set2_train_X)\n",
    "pred2 = predictorBase.predictSVM(Set2_test_X)\n",
    "errorSet2.append(ClassError(pred1,Set2_train_Y)/np.float(len(Set2_train_Y)))\n",
    "print ClassError(pred1,Set2_train_Y)/np.float(len(Set2_train_Y))\n",
    "errorSet2.append(ClassError(pred2,Set2_test_Y)/np.float(len(Set2_test_Y)))\n",
    "print ClassError(pred2,Set2_test_Y)/np.float(len(Set2_test_Y))\n",
    "\n",
    "\n",
    "# Set 3 was not very sensitive to the chosen C\n",
    "SVM = SVMclassification(1,1,\"linear\") # C has been set to 1\n",
    "bias = SVM.SVMbias(Set3_train_X,Set3_train_Y)\n",
    "SV,SVlabel,SVMult = SVM.SVMClassifier(Set3_train_X,Set3_train_Y)\n",
    "predictorBase = SVMPrediction(bias,SVMult,SV,SVlabel)\n",
    "pred1 = predictorBase.predictSVM(Set3_train_X)\n",
    "pred2 = predictorBase.predictSVM(Set3_test_X)\n",
    "errorSet3.append(ClassError(pred1,Set3_train_Y)/np.float(len(Set3_train_Y)))\n",
    "print ClassError(pred1,Set3_train_Y)/np.float(len(Set3_train_Y))\n",
    "errorSet3.append(ClassError(pred2,Set3_test_Y)/np.float(len(Set3_test_Y)))\n",
    "print ClassError(pred2,Set2_test_Y)/np.float(len(Set2_test_Y))\n",
    "\n",
    "\n",
    "\n",
    "# Set 4 was not very sensitive to the chosen C\n",
    "SVM = SVMclassification(1,1,\"linear\") # C has been set to 1\n",
    "bias = SVM.SVMbias(Set4_train_X,Set4_train_Y)\n",
    "SV,SVlabel,SVMult = SVM.SVMClassifier(Set4_train_X,Set4_train_Y)\n",
    "predictorBase = SVMPrediction(bias,SVMult,SV,SVlabel)\n",
    "pred1 = predictorBase.predictSVM(Set4_train_X)\n",
    "pred2 = predictorBase.predictSVM(Set4_test_X)\n",
    "errorSet4.append(ClassError(pred1,Set4_train_Y)/np.float(len(Set4_train_Y)))\n",
    "print ClassError(pred1,Set4_train_Y)/np.float(len(Set4_train_Y))\n",
    "errorSet4.append(ClassError(pred2,Set4_test_Y)/np.float(len(Set4_test_Y)))\n",
    "print ClassError(pred2,Set4_test_Y)/np.float(len(Set4_test_Y))"
   ]
  },
  {
   "cell_type": "code",
   "execution_count": 63,
   "metadata": {
    "collapsed": false
   },
   "outputs": [
    {
     "name": "stdout",
     "output_type": "stream",
     "text": [
      "[0.0, 0.01]\n",
      "[0.0, 0.09666666666666666]\n",
      "[0.0, 0.056666666666666664]\n",
      "[0.1625, 0.22066666666666668]\n"
     ]
    }
   ],
   "source": [
    "print errorSet1\n",
    "print errorSet2\n",
    "print errorSet3\n",
    "print errorSet4"
   ]
  },
  {
   "cell_type": "code",
   "execution_count": null,
   "metadata": {
    "collapsed": true
   },
   "outputs": [],
   "source": []
  },
  {
   "cell_type": "code",
   "execution_count": null,
   "metadata": {
    "collapsed": true
   },
   "outputs": [],
   "source": [
    "# Test set for normalized set\n",
    "# Set 1 was not very sensitive to the chosen C\n",
    "SVM = SVMclassification(0.01,1,\"linear\") # C has been set to 1\n",
    "bias = SVM.SVMbias(Set1_train_X_Norm,Set1_train_Y)\n",
    "SV,SVlabel,SVMult = SVM.SVMClassifier(Set1_train_X_Norm,Set1_train_Y)\n",
    "predictorBase = SVMPrediction(bias,SVMult,SV,SVlabel)\n",
    "pred1 = predictorBase.predictSVM(Set1_train_X_Norm)\n",
    "pred2 = predictorBase.predictSVM(Set1_test_X_Norm)\n",
    "errorSet1_Norm.append(ClassError(pred1,Set1_train_Y)/np.float(len(Set1_train_Y)))\n",
    "print ClassError(pred1,Set1_train_Y)/np.float(len(Set1_train_Y))\n",
    "errorSet1_Norm.append(ClassError(pred2,Set1_test_Y)/np.float(len(Set1_test_Y)))\n",
    "print ClassError(pred2,Set1_test_Y)/np.float(len(Set1_test_Y))\n",
    "\n",
    "# Set 2 was not very sensitive to the chosen C\n",
    "SVM = SVMclassification(0.01,1,\"linear\") # C has been set to 1\n",
    "bias = SVM.SVMbias(Set2_train_X_Norm,Set2_train_Y)\n",
    "SV,SVlabel,SVMult = SVM.SVMClassifier(Set2_train_X_Norm,Set2_train_Y)\n",
    "predictorBase = SVMPrediction(bias,SVMult,SV,SVlabel)\n",
    "pred1 = predictorBase.predictSVM(Set2_train_X_Norm)\n",
    "pred2 = predictorBase.predictSVM(Set2_test_X_Norm)\n",
    "errorSet2_Norm.append(ClassError(pred1,Set2_train_Y)/np.float(len(Set2_train_Y)))\n",
    "print ClassError(pred1,Set2_train_Y)/np.float(len(Set2_train_Y))\n",
    "errorSet2_Norm.append(ClassError(pred2,Set2_test_Y)/np.float(len(Set2_test_Y)))\n",
    "print ClassError(pred2,Set2_test_Y)/np.float(len(Set2_test_Y))\n",
    "\n",
    "\n",
    "# Set 3 was not very sensitive to the chosen C\n",
    "SVM = SVMclassification(0.01,1,\"linear\") # C has been set to 1\n",
    "bias = SVM.SVMbias(Set3_train_X_Norm,Set3_train_Y)\n",
    "SV,SVlabel,SVMult = SVM.SVMClassifier(Set3_train_X_Norm,Set3_train_Y)\n",
    "predictorBase = SVMPrediction(bias,SVMult,SV,SVlabel)\n",
    "pred1 = predictorBase.predictSVM(Set3_train_X_Norm)\n",
    "pred2 = predictorBase.predictSVM(Set3_test_X_Norm)\n",
    "errorSet3_Norm.append(ClassError(pred1,Set3_train_Y)/np.float(len(Set3_train_Y)))\n",
    "print ClassError(pred1,Set3_train_Y)/np.float(len(Set3_train_Y))\n",
    "errorSet3_Norm.append(ClassError(pred2,Set3_test_Y)/np.float(len(Set3_test_Y)))\n",
    "print ClassError(pred2,Set3_test_Y)/np.float(len(Set3_test_Y))\n",
    "\n",
    "\n",
    "\n",
    "# Set 4 was not very sensitive to the chosen C\n",
    "SVM = SVMclassification(0.01,1,\"linear\") # C has been set to 1\n",
    "bias = SVM.SVMbias(Set4_train_X_Norm,Set4_train_Y)\n",
    "SV,SVlabel,SVMult = SVM.SVMClassifier(Set4_train_X_Norm,Set4_train_Y)\n",
    "predictorBase = SVMPrediction(bias,SVMult,SV,SVlabel)\n",
    "pred1 = predictorBase.predictSVM(Set4_train_X_Norm)\n",
    "pred2 = predictorBase.predictSVM(Set4_test_X_Norm)\n",
    "errorSet4_Norm.append(ClassError(pred1,Set4_train_Y)/np.float(len(Set4_train_Y)))\n",
    "print ClassError(pred1,Set4_train_Y)/np.float(len(Set4_train_Y))\n",
    "errorSet4_Norm.append(ClassError(pred2,Set4_test_Y)/np.float(len(Set4_test_Y)))\n",
    "print ClassError(pred2,Set4_test_Y)/np.float(len(Set4_test_Y))\n",
    "\n"
   ]
  },
  {
   "cell_type": "code",
   "execution_count": 65,
   "metadata": {
    "collapsed": false
   },
   "outputs": [
    {
     "name": "stdout",
     "output_type": "stream",
     "text": [
      "[0.0725, 0.08666666666666667]\n",
      "[0.025, 0.04666666666666667]\n",
      "[0.025, 0.05333333333333334]\n",
      "[0.0915, 0.12733333333333333]\n"
     ]
    }
   ],
   "source": [
    "print errorSet1_Norm\n",
    "print errorSet2_Norm\n",
    "print errorSet3_Norm\n",
    "print errorSet4_Norm"
   ]
  },
  {
   "cell_type": "code",
   "execution_count": null,
   "metadata": {
    "collapsed": false
   },
   "outputs": [],
   "source": []
  },
  {
   "cell_type": "code",
   "execution_count": null,
   "metadata": {
    "collapsed": false
   },
   "outputs": [],
   "source": [
    "\n"
   ]
  },
  {
   "cell_type": "markdown",
   "metadata": {},
   "source": [
    "## Application of Gaussian RBF kernel SVM"
   ]
  },
  {
   "cell_type": "code",
   "execution_count": null,
   "metadata": {
    "collapsed": true
   },
   "outputs": [],
   "source": [
    "# Pick C and gamma based on the for loop\n",
    "gamma = [0.1,1,10,100]\n",
    "C = [0.01,0.1,1,10,100]\n",
    "\n",
    "classError_Set1_Train_Gaussian = np.empty([len(gamma), len(C)])\n",
    "classError_Set1_Train_Norm_Gaussian = np.empty([len(gamma), len(C)])\n",
    "classError_Set1_Valid_Gaussian = np.empty([len(gamma), len(C)])\n",
    "classError_Set1_Valid_Norm_Gaussian = np.empty([len(gamma), len(C)])\n",
    "classError_Set2_Train_Gaussian = np.empty([len(gamma), len(C)])\n",
    "classError_Set2_Train_Norm_Gaussian = np.empty([len(gamma), len(C)])\n",
    "classError_Set2_Valid_Gaussian = np.empty([len(gamma), len(C)])\n",
    "classError_Set2_Valid_Norm_Gaussian = np.empty([len(gamma), len(C)])\n",
    "\n",
    "\n",
    "Set1_train_X = Set1_train_X.copy()\n",
    "Set1_train_Y = Set1_train_Y.copy()\n",
    "Set2_train_X = Set2_train_X.copy()\n",
    "Set2_train_Y = Set2_train_Y.copy()\n",
    "\n",
    "\n",
    "#row = 0\n",
    "\n",
    "for i in range(len(C)):\n",
    "    #col = 0\n",
    "    for j in range(len(gamma)):\n",
    "        SVM = SVMclassification(C[i],gamma[j],\"Gaussian\") \n",
    "        bias = SVM.SVMbias(Set1_train_X,Set1_train_Y)\n",
    "        \n",
    "        SV,SVlabel,SVMult = SVM.SVMClassifier(Set1_train_X,Set1_train_Y)\n",
    "        predictorBase = SVMPrediction(bias,SVMult,SV,SVlabel)\n",
    "        pred1 = predictorBase.predictSVM(Set1_train_X)\n",
    "        pred2 = predictorBase.predictSVM(Set1_valid_X)\n",
    "        classError_Set1_Train_Gaussian[j,i]=ClassError(pred1,Set1_train_Y)/np.float(len(pred1))\n",
    "        classError_Set1_Valid_Gaussian[j,i]=ClassError(pred2,Set1_valid_Y)/np.float(len(pred2))\n",
    "\n",
    "\n",
    "        bias = SVM.SVMbias(Set1_train_X_Norm,Set1_train_Y)\n",
    "        \n",
    "        SV,SVlabel,SVMult = SVM.SVMClassifier(Set1_train_X_Norm,Set1_train_Y)\n",
    "        predictorBase = SVMPrediction(bias,SVMult,SV,SVlabel)\n",
    "        pred1 = predictorBase.predictSVM(Set1_train_X_Norm)\n",
    "        pred2 = predictorBase.predictSVM(Set1_valid_X_Norm)\n",
    "        classError_Set1_Train_Norm_Gaussian[j,i]=ClassError(pred1,Set1_train_Y)/np.float(len(pred1))\n",
    "        classError_Set1_Valid_Norm_Gaussian[j,i]=ClassError(pred2,Set1_valid_Y)/np.float(len(pred2))\n",
    "\n",
    "        # Set2\n",
    "\n",
    "        SVM = SVMclassification(C[i],gamma[j],\"Gaussian\") # C has been set to 1\n",
    "        bias = SVM.SVMbias(Set2_train_X,Set2_train_Y)\n",
    "        \n",
    "        SV,SVlabel,SVMult = SVM.SVMClassifier(Set2_train_X,Set2_train_Y)\n",
    "        predictorBase = SVMPrediction(bias,SVMult,SV,SVlabel)\n",
    "        pred1 = predictorBase.predictSVM(Set2_train_X)\n",
    "        pred2 = predictorBase.predictSVM(Set2_valid_X)\n",
    "        \n",
    "        classError_Set2_Train_Gaussian[j,i]=ClassError(pred1,Set2_train_Y)/np.float(len(pred1))\n",
    "        classError_Set2_Valid_Gaussian[j,i]=ClassError(pred2,Set2_valid_Y)/np.float(len(pred2))\n",
    "\n",
    "\n",
    "        bias = SVM.SVMbias(Set2_train_X_Norm,Set2_train_Y)\n",
    "        \n",
    "        SV,SVlabel,SVMult = SVM.SVMClassifier(Set2_train_X_Norm,Set2_train_Y)\n",
    "        predictorBase = SVMPrediction(bias,SVMult,SV,SVlabel)\n",
    "        pred1 = predictorBase.predictSVM(Set2_train_X_Norm)\n",
    "        pred2 = predictorBase.predictSVM(Set2_valid_X_Norm)\n",
    "        classError_Set2_Train_Norm_Gaussian[j,i]=ClassError(pred1,Set2_train_Y)/np.float(len(pred1))\n",
    "        classError_Set2_Valid_Norm_Gaussian[j,i]=ClassError(pred2,Set2_valid_Y)/np.float(len(pred2))\n",
    "        \n",
    "        "
   ]
  },
  {
   "cell_type": "code",
   "execution_count": 136,
   "metadata": {
    "collapsed": false
   },
   "outputs": [
    {
     "data": {
      "text/plain": [
       "array([[ 0.12333333,  0.12333333,  0.12333333,  0.12      ,  0.12      ],\n",
       "       [ 0.12333333,  0.12333333,  0.12333333,  0.12333333,  0.12333333],\n",
       "       [ 0.12333333,  0.12333333,  0.12333333,  0.12333333,  0.12333333],\n",
       "       [ 0.12333333,  0.12333333,  0.12333333,  0.12333333,  0.12333333]])"
      ]
     },
     "execution_count": 136,
     "metadata": {},
     "output_type": "execute_result"
    }
   ],
   "source": [
    "classError_Set1_Valid_Norm_Gaussian"
   ]
  },
  {
   "cell_type": "code",
   "execution_count": null,
   "metadata": {
    "collapsed": true
   },
   "outputs": [],
   "source": [
    "# Set 1 Lowest error at C = didn't matter, gamma = didn't matter\n",
    "# Set 1 normalized Lowest error at C = 10 or 100 , gamma = 0.1\n",
    "# Set 2 Lowest error at C = 1,10 or 100 , gamma = didn't matter \n",
    "# Set 2 normalized Lowest error at C = 1,10 or 100 gamma = didn't matter"
   ]
  },
  {
   "cell_type": "code",
   "execution_count": 145,
   "metadata": {
    "collapsed": true
   },
   "outputs": [],
   "source": [
    "errorSet1_RBF = []\n",
    "errorSet2_RBF = []\n",
    "errorSet3_RBF = []\n",
    "errorSet4_RBF = []\n",
    "\n",
    "errorSet1_Norm_RBF = []\n",
    "errorSet2_Norm_RBF = []\n",
    "errorSet3_Norm_RBF = []\n",
    "errorSet4_Norm_RBF = []\n",
    "\n",
    "\n"
   ]
  },
  {
   "cell_type": "code",
   "execution_count": null,
   "metadata": {
    "collapsed": true
   },
   "outputs": [],
   "source": [
    "SVM = SVMclassification(1,1,\"Gaussian\") # C has been set to 1\n",
    "bias = SVM.SVMbias(Set1_train_X,Set1_train_Y)\n",
    "\n",
    "SV,SVlabel,SVMult = SVM.SVMClassifier(Set1_train_X,Set1_train_Y)\n",
    "predictorBase = SVMPrediction(bias,SVMult,SV,SVlabel)\n",
    "\n",
    "pred2 = predictorBase.predictSVM(Set1_test_X)\n",
    "\n",
    "errorSet1_RBF.append(ClassError(pred2,Set1_test_Y)/np.float(len(Set1_test_Y)))\n",
    "print ClassError(pred2,Set1_test_Y)/np.float(len(Set1_test_Y))\n",
    "\n",
    "# Set 2 was not very sensitive to the chosen C\n",
    "SVM = SVMclassification(1,1,\"Gaussian\") # C has been set to 1\n",
    "bias = SVM.SVMbias(Set2_train_X,Set2_train_Y)\n",
    "\n",
    "SV,SVlabel,SVMult = SVM.SVMClassifier(Set2_train_X,Set2_train_Y)\n",
    "predictorBase = SVMPrediction(bias,SVMult,SV,SVlabel)\n",
    "pred2 = predictorBase.predictSVM(Set2_test_X)\n",
    "errorSet2_RBF.append(ClassError(pred2,Set2_test_Y)/np.float(len(Set2_test_Y)))\n",
    "print ClassError(pred2,Set2_test_Y)/np.float(len(Set2_test_Y))\n",
    "\n",
    "\n",
    "SVM = SVMclassification(10,0.1,\"Gaussian\") # C has been set to 1\n",
    "bias = SVM.SVMbias(Set1_train_X_Norm,Set1_train_Y)\n",
    "\n",
    "SV,SVlabel,SVMult = SVM.SVMClassifier(Set1_train_X_Norm,Set1_train_Y)\n",
    "predictorBase = SVMPrediction(bias,SVMult,SV,SVlabel)\n",
    "pred2 = predictorBase.predictSVM(Set1_test_X_Norm)\n",
    "errorSet1_Norm_RBF.append(ClassError(pred2,Set1_test_Y)/np.float(len(Set1_test_Y)))\n",
    "print ClassError(pred2,Set1_test_Y)/np.float(len(Set1_test_Y))\n",
    "\n",
    "# Set 2 was not very sensitive to the chosen C\n",
    "SVM = SVMclassification(10,1,\"Gaussian\") # C has been set to 1\n",
    "bias = SVM.SVMbias(Set2_train_X_Norm,Set2_train_Y)\n",
    "\n",
    "SV,SVlabel,SVMult = SVM.SVMClassifier(Set2_train_X_Norm,Set2_train_Y)\n",
    "predictorBase = SVMPrediction(bias,SVMult,SV,SVlabel)\n",
    "\n",
    "pred2 = predictorBase.predictSVM(Set2_test_X_Norm)\n",
    "\n",
    "errorSet2_Norm_RBF.append(ClassError(pred2,Set2_test_Y)/np.float(len(Set2_test_Y)))\n",
    "print ClassError(pred2,Set2_test_Y)/np.float(len(Set2_test_Y))"
   ]
  },
  {
   "cell_type": "code",
   "execution_count": 147,
   "metadata": {
    "collapsed": false
   },
   "outputs": [
    {
     "name": "stdout",
     "output_type": "stream",
     "text": [
      "[0.02]\n",
      "[0.13666666666666666]\n",
      "[0.3333333333333333]\n",
      "[0.12333333333333334]\n"
     ]
    }
   ],
   "source": [
    "print errorSet1_RBF\n",
    "print errorSet1_Norm_RBF\n",
    "print errorSet2_RBF\n",
    "print errorSet2_Norm_RBF"
   ]
  },
  {
   "cell_type": "code",
   "execution_count": null,
   "metadata": {
    "collapsed": true
   },
   "outputs": [],
   "source": [
    "gamma = [0.1,1,10,100]\n",
    "C = [0.01,0.1,1,10,100]\n",
    "\n",
    "Set3_train_X = Set3_train_X.copy()\n",
    "Set3_train_Y = Set3_train_Y.copy()\n",
    "Set4_train_X = Set4_train_X.copy()\n",
    "Set4_train_Y = Set4_train_Y.copy()\n",
    "\n",
    "\n",
    "classError_Set3_Train_Gaussian = np.empty([len(gamma), len(C)])\n",
    "classError_Set3_Train_Norm_Gaussian = np.empty([len(gamma), len(C)])\n",
    "classError_Set3_Valid_Gaussian = np.empty([len(gamma), len(C)])\n",
    "classError_Set3_Valid_Norm_Gaussian = np.empty([len(gamma), len(C)])\n",
    "classError_Set4_Train_Gaussian = np.empty([len(gamma), len(C)])\n",
    "classError_Set4_Train_Norm_Gaussian = np.empty([len(gamma), len(C)])\n",
    "classError_Set4_Valid_Gaussian = np.empty([len(gamma), len(C)])\n",
    "classError_Set4_Valid_Norm_Gaussian = np.empty([len(gamma), len(C)])\n",
    "\n",
    "\n",
    "\n",
    "for i in range(len(C)):\n",
    "    for j in range(len(gamma)):\n",
    "        print i,j\n",
    "        SVM = SVMclassification(C[i],gamma[j],\"Gaussian\") # C has been set to 1\n",
    "        bias = SVM.SVMbias(Set3_train_X,Set3_train_Y)\n",
    "        SV,SVlabel,SVMult = SVM.SVMClassifier(Set3_train_X,Set3_train_Y)\n",
    "        predictorBase = SVMPrediction(bias,SVMult,SV,SVlabel)\n",
    "        pred1 = predictorBase.predictSVM(Set3_train_X)\n",
    "        pred2 = predictorBase.predictSVM(Set3_valid_X)\n",
    "        classError_Set3_Train_Gaussian[j,i]=ClassError(pred1,Set3_train_Y)/np.float(len(pred1))\n",
    "        classError_Set3_Valid_Gaussian[j,i]=ClassError(pred2,Set3_valid_Y)/np.float(len(pred2))\n",
    "\n",
    "\n",
    "        bias = SVM.SVMbias(Set3_train_X_Norm,Set3_train_Y)\n",
    "        SV,SVlabel,SVMult = SVM.SVMClassifier(Set3_train_X_Norm,Set3_train_Y)\n",
    "        predictorBase = SVMPrediction(bias,SVMult,SV,SVlabel)\n",
    "        pred1 = predictorBase.predictSVM(Set3_train_X_Norm)\n",
    "        pred2 = predictorBase.predictSVM(Set3_valid_X_Norm)\n",
    "        classError_Set3_Train_Norm_Gaussian[j,i]=ClassError(pred1,Set3_train_Y)/np.float(len(pred1))\n",
    "        classError_Set3_Valid_Norm_Gaussian[j,i]=ClassError(pred2,Set3_valid_Y)/np.float(len(pred2))\n",
    "\n",
    "        # Set4\n",
    "\n",
    "        SVM = SVMclassification(C[i],gamma[j],\"Gaussian\") # C has been set to 1\n",
    "        bias = SVM.SVMbias(Set4_train_X,Set4_train_Y)\n",
    "        SV,SVlabel,SVMult = SVM.SVMClassifier(Set4_train_X,Set4_train_Y)\n",
    "        predictorBase = SVMPrediction(bias,SVMult,SV,SVlabel)\n",
    "        pred1 = predictorBase.predictSVM(Set4_train_X)\n",
    "        pred2 = predictorBase.predictSVM(Set4_valid_X)\n",
    "        classError_Set4_Train_Gaussian[j,i]=ClassError(pred1,Set4_train_Y)/np.float(len(pred1))\n",
    "        classError_Set4_Valid_Gaussian[j,i]=ClassError(pred2,Set4_valid_Y)/np.float(len(pred2))\n",
    "\n",
    "\n",
    "        bias = SVM.SVMbias(Set4_train_X_Norm,Set4_train_Y)\n",
    "        SV,SVlabel,SVMult = SVM.SVMClassifier(Set4_train_X_Norm,Set4_train_Y)\n",
    "        predictorBase = SVMPrediction(bias,SVMult,SV,SVlabel)\n",
    "        pred1 = predictorBase.predictSVM(Set4_train_X_Norm)\n",
    "        pred2 = predictorBase.predictSVM(Set4_valid_X_Norm)\n",
    "        classError_Set4_Train_Norm_Gaussian[j,i]=ClassError(pred1,Set4_train_Y)/np.float(len(pred1))\n",
    "        classError_Set4_Valid_Norm_Gaussian[j,i]=ClassError(pred2,Set4_valid_Y)/np.float(len(pred2))\n"
   ]
  },
  {
   "cell_type": "code",
   "execution_count": 151,
   "metadata": {
    "collapsed": false
   },
   "outputs": [
    {
     "data": {
      "text/plain": [
       "array([[ 0.30866667,  0.30866667,  0.31933333,  0.31933333,  0.31933333],\n",
       "       [ 0.30866667,  0.30866667,  0.31933333,  0.31933333,  0.31933333],\n",
       "       [ 0.30866667,  0.30866667,  0.31933333,  0.31933333,  0.31933333],\n",
       "       [ 0.30866667,  0.30866667,  0.31933333,  0.31933333,  0.31933333]])"
      ]
     },
     "execution_count": 151,
     "metadata": {},
     "output_type": "execute_result"
    }
   ],
   "source": [
    "classError_Set4_Valid_Gaussian"
   ]
  },
  {
   "cell_type": "code",
   "execution_count": null,
   "metadata": {
    "collapsed": true
   },
   "outputs": [],
   "source": [
    "# Set 3 Lowest error at C = didn't matter, gamma =0.01 or 1 \n",
    "# Set 3 normalized Lowest error at C =10 or 100 , gamma = didn't matter\n",
    "# Set 4 Lowest error at C = didn't matter , gamma = 0.01 or 0.1\n",
    "# Set 4 normalized Lowest error at C = 1,10 or 100, gamma = 0.1"
   ]
  },
  {
   "cell_type": "code",
   "execution_count": null,
   "metadata": {
    "collapsed": true
   },
   "outputs": [],
   "source": [
    "SVM = SVMclassification(1,1,\"Gaussian\") # C has been set to 1\n",
    "bias = SVM.SVMbias(Set3_train_X,Set3_train_Y)\n",
    "SV,SVlabel,SVMult = SVM.SVMClassifier(Set3_train_X,Set3_train_Y)\n",
    "predictorBase = SVMPrediction(bias,SVMult,SV,SVlabel)\n",
    "\n",
    "pred2 = predictorBase.predictSVM(Set3_test_X)\n",
    "\n",
    "errorSet3_RBF.append(ClassError(pred2,Set3_test_Y)/np.float(len(Set3_test_Y)))\n",
    "print ClassError(pred2,Set3_test_Y)/np.float(len(Set3_test_Y))\n",
    "\n",
    "# Set 2 was not very sensitive to the chosen C\n",
    "SVM = SVMclassification(1,1,\"Gaussian\") # C has been set to 1\n",
    "bias = SVM.SVMbias(Set4_train_X,Set4_train_Y)\n",
    "SV,SVlabel,SVMult = SVM.SVMClassifier(Set4_train_X,Set4_train_Y)\n",
    "predictorBase = SVMPrediction(bias,SVMult,SV,SVlabel)\n",
    "pred2 = predictorBase.predictSVM(Set4_test_X)\n",
    "errorSet4_RBF.append(ClassError(pred2,Set4_test_Y)/np.float(len(Set4_test_Y)))\n",
    "print ClassError(pred2,Set4_test_Y)/np.float(len(Set4_test_Y))\n",
    "\n",
    "\n",
    "SVM = SVMclassification(10,0.1,\"Gaussian\") # C has been set to 1\n",
    "bias = SVM.SVMbias(Set3_train_X_Norm,Set3_train_Y)\n",
    "SV,SVlabel,SVMult = SVM.SVMClassifier(Set3_train_X_Norm,Set3_train_Y)\n",
    "predictorBase = SVMPrediction(bias,SVMult,SV,SVlabel)\n",
    "pred2 = predictorBase.predictSVM(Set3_test_X_Norm)\n",
    "errorSet3_Norm_RBF.append(ClassError(pred2,Set3_test_Y)/np.float(len(Set3_test_Y)))\n",
    "print ClassError(pred2,Set3_test_Y)/np.float(len(Set3_test_Y))\n",
    "\n",
    "# Set 2 was not very sensitive to the chosen C\n",
    "SVM = SVMclassification(10,1,\"Gaussian\") # C has been set to 1\n",
    "bias = SVM.SVMbias(Set4_train_X_Norm,Set4_train_Y)\n",
    "SV,SVlabel,SVMult = SVM.SVMClassifier(Set4_train_X_Norm,Set4_train_Y)\n",
    "predictorBase = SVMPrediction(bias,SVMult,SV,SVlabel)\n",
    "\n",
    "pred2 = predictorBase.predictSVM(Set4_test_X_Norm)\n",
    "\n",
    "errorSet4_Norm_RBF.append(ClassError(pred2,Set4_test_Y)/np.float(len(Set4_test_Y)))\n",
    "print ClassError(pred2,Set4_test_Y)/np.float(len(Set4_test_Y))"
   ]
  },
  {
   "cell_type": "code",
   "execution_count": 149,
   "metadata": {
    "collapsed": false
   },
   "outputs": [
    {
     "name": "stdout",
     "output_type": "stream",
     "text": [
      "[0.21]\n",
      "[0.15333333333333332]\n",
      "[0.344]\n",
      "[0.35733333333333334]\n"
     ]
    }
   ],
   "source": [
    "print errorSet3_RBF\n",
    "print errorSet3_Norm_RBF\n",
    "print errorSet4_RBF\n",
    "print errorSet4_Norm_RBF"
   ]
  },
  {
   "cell_type": "code",
   "execution_count": null,
   "metadata": {
    "collapsed": true
   },
   "outputs": [],
   "source": [
    "# Measuring the runtime for SVM classifier with data set 4"
   ]
  },
  {
   "cell_type": "code",
   "execution_count": 284,
   "metadata": {
    "collapsed": true
   },
   "outputs": [],
   "source": [
    "import time\n"
   ]
  },
  {
   "cell_type": "code",
   "execution_count": null,
   "metadata": {
    "collapsed": true
   },
   "outputs": [],
   "source": [
    "dataSamples = [200,300,400,500]\n",
    "elapsedTime = []\n",
    "for i in range(len(dataSamples)):\n",
    "    start = time.time()\n",
    "    Training_X = Set4_train_X[0:dataSamples[i],:]\n",
    "    Training_Y = Set4_train_Y[0:dataSamples[i]]\n",
    "    SVM = SVMclassification(1,1,\"linear\") # C has been set to 1\n",
    "    bias = SVM.SVMbias(Training_X,Training_Y)\n",
    "    SV,SVlabel,SVMult = SVM.SVMClassifier(Training_X,Training_Y)\n",
    "    \n",
    "    end = time.time()\n",
    "    elapsedTime.append(end-start)\n",
    "    \n"
   ]
  },
  {
   "cell_type": "code",
   "execution_count": 287,
   "metadata": {
    "collapsed": false
   },
   "outputs": [
    {
     "data": {
      "text/plain": [
       "[0.22414398193359375,\n",
       " 0.48844099044799805,\n",
       " 0.8719680309295654,\n",
       " 1.566910982131958]"
      ]
     },
     "execution_count": 287,
     "metadata": {},
     "output_type": "execute_result"
    }
   ],
   "source": [
    "elapsedTime"
   ]
  },
  {
   "cell_type": "code",
   "execution_count": 296,
   "metadata": {
    "collapsed": false
   },
   "outputs": [
    {
     "data": {
      "image/png": "[encoded data removed]",
      "text/plain": [
       "<matplotlib.figure.Figure at 0x130a3f310>"
      ]
     },
     "metadata": {},
     "output_type": "display_data"
    }
   ],
   "source": [
    "# Plot for the run time\n",
    "elapsedTimeSVM = elapsedTime\n",
    "elapsedTimePegasos = [0.15988683700561523, 0.28389906883239746, 0.4499950408935547, 0.6402771472930908]\n",
    "\n",
    "plt.plot(dataSamples,elapsedTimeSVM,label ='QP SVM' )\n",
    "plt.plot(dataSamples,elapsedTimePegasos,label = 'Pegasos SVM')\n",
    "plt.xlabel('Training points')\n",
    "plt.ylabel('Run tiem')\n",
    "plt.ylim(-0.5,3.5)\n",
    "plt.legend(bbox_to_anchor=(1, 1), loc=1, borderaxespad=0.,title = \"Weight labels\")\n",
    "plt.title('Comparison of run time for QP and Pegasos SVM')\n",
    "pl.savefig('../ImageFiles/HW2/Q4_3Runtime.pdf')\n",
    "\n"
   ]
  },
  {
   "cell_type": "code",
   "execution_count": null,
   "metadata": {
    "collapsed": false
   },
   "outputs": [],
   "source": []
  },
  {
   "cell_type": "code",
   "execution_count": null,
   "metadata": {
    "collapsed": true
   },
   "outputs": [],
   "source": [
    "SVM = SVMclassification(1,1,\"linear\") # C has been set to 1\n",
    "bias = SVM.SVMbias(Set1_train_X,Set1_train_Y)\n",
    "SV,SVlabel,SVMult = SVM.SVMClassifier(Set1_train_X,Set1_train_Y)\n",
    "predictorBase = SVMPrediction(bias,SVMult,SV,SVlabel)\n",
    "\n",
    "pred2 = predictorBase.predictSVM(Set1_test_X)\n",
    "\n",
    "print ClassError(pred2,Set1_test_Y)/np.float(len(Set1_test_Y))"
   ]
  },
  {
   "cell_type": "code",
   "execution_count": 320,
   "metadata": {
    "collapsed": false
   },
   "outputs": [
    {
     "name": "stdout",
     "output_type": "stream",
     "text": [
      "[43, 175, 271]\n",
      "1.0\n",
      "-1.0\n",
      "1.0\n",
      "-1.0\n",
      "1.0\n",
      "-1.0\n"
     ]
    }
   ],
   "source": [
    "logicList = Set1_test_Y!=pred2\n",
    "print [i for i, x in enumerate(logicList) if x]\n",
    "print Set1_test_Y[43]\n",
    "print pred2[43]\n",
    "print Set1_test_Y[175]\n",
    "print pred2[175]\n",
    "print Set1_test_Y[271]\n",
    "print pred2[271]"
   ]
  },
  {
   "cell_type": "code",
   "execution_count": null,
   "metadata": {
    "collapsed": false
   },
   "outputs": [],
   "source": []
  },
  {
   "cell_type": "code",
   "execution_count": 324,
   "metadata": {
    "collapsed": false
   },
   "outputs": [
    {
     "data": {
      "image/png": "[encoded data removed]",
      "text/plain": [
       "<matplotlib.figure.Figure at 0x12e643110>"
      ]
     },
     "metadata": {},
     "output_type": "display_data"
    }
   ],
   "source": [
    "# Visualizing the misclassified digits\n",
    "pixels1 = np.array(Set1_test_X[43,], dtype='uint8')\n",
    "\n",
    "#Reshape the array into 28 x 28 array (2-dimensional array)\n",
    "pixels1 = pixels1.reshape((28, 28))\n",
    "\n",
    "pixels2 = np.array(Set1_test_X[175,], dtype='uint8')\n",
    "\n",
    "#Reshape the array into 28 x 28 array (2-dimensional array)\n",
    "pixels2 = pixels2.reshape((28, 28))\n",
    "\n",
    "pixels3 = np.array(Set1_test_X[271,], dtype='uint8')\n",
    "\n",
    "#Reshape the array into 28 x 28 array (2-dimensional array)\n",
    "pixels3 = pixels3.reshape((28, 28))\n",
    "# Plot\n",
    "plt.title('Label is')\n",
    "plt.imshow(pixels1, cmap='gray')\n",
    "plt.show()"
   ]
  },
  {
   "cell_type": "code",
   "execution_count": 329,
   "metadata": {
    "collapsed": false
   },
   "outputs": [
    {
     "data": {
      "text/plain": [
       "[None, None, None, None, None, None, None, None]"
      ]
     },
     "execution_count": 329,
     "metadata": {},
     "output_type": "execute_result"
    },
    {
     "data": {
      "image/png": "[encoded data removed]",
      "text/plain": [
       "<matplotlib.figure.Figure at 0x1304fb150>"
      ]
     },
     "metadata": {},
     "output_type": "display_data"
    }
   ],
   "source": [
    "# Three subplots sharing both x/y axes\n",
    "f, (ax1, ax2, ax3) = pl.subplots(3)\n",
    "ax1.imshow(pixels1, cmap='gray')\n",
    "ax1.set_title('Sharing both axes')\n",
    "ax2.imshow(pixels2, cmap='gray')\n",
    "ax3.imshow(pixels3, cmap='gray')\n",
    "# Fine-tune figure; make subplots close to each other and hide x ticks for\n",
    "# all but the bottom plot.\n",
    "f.subplots_adjust(hspace=0)\n",
    "plt.setp([a.get_xticklabels() for a in f.axes[:1]], visible=False)"
   ]
  },
  {
   "cell_type": "code",
   "execution_count": 337,
   "metadata": {
    "collapsed": false
   },
   "outputs": [
    {
     "data": {
      "image/png": "[encoded data removed]",
      "text/plain": [
       "<matplotlib.figure.Figure at 0x13072b650>"
      ]
     },
     "metadata": {},
     "output_type": "display_data"
    }
   ],
   "source": [
    "plt.close('all')\n",
    "fig = plt.figure()\n",
    "\n",
    "ax1 = plt.subplot(131)\n",
    "ax2 = plt.subplot(132)\n",
    "ax3 = plt.subplot(133)\n",
    "\n",
    "ax1.imshow(pixels1, cmap='gray')\n",
    "ax2.imshow(pixels2, cmap='gray')\n",
    "ax3.imshow(pixels3, cmap='gray')\n",
    "\n",
    "plt.tight_layout()\n",
    "pl.savefig('../ImageFiles/HW2/Q4_1_Misclassified_as_7.pdf')"
   ]
  },
  {
   "cell_type": "code",
   "execution_count": null,
   "metadata": {
    "collapsed": true
   },
   "outputs": [],
   "source": []
  }
 ],
 "metadata": {
  "kernelspec": {
   "display_name": "Python 2",
   "language": "python",
   "name": "python2"
  },
  "language_info": {
   "codemirror_mode": {
    "name": "ipython",
    "version": 2
   },
   "file_extension": ".py",
   "mimetype": "text/x-python",
   "name": "python",
   "nbconvert_exporter": "python",
   "pygments_lexer": "ipython2",
   "version": "2.7.11"
  }
 },
 "nbformat": 4,
 "nbformat_minor": 0
}
