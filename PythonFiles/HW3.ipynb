{
 "cells": [
  {
   "cell_type": "code",
   "execution_count": 5,
   "metadata": {
    "collapsed": true
   },
   "outputs": [],
   "source": [
    "import numpy as np"
   ]
  },
  {
   "cell_type": "markdown",
   "metadata": {},
   "source": [
    "# Neural Networks"
   ]
  },
  {
   "cell_type": "code",
   "execution_count": 81,
   "metadata": {
    "collapsed": false
   },
   "outputs": [],
   "source": [
    "class Neuralnets(object):\n",
    "    \n",
    "    def __init__(self,classes):\n",
    "        self.classes = classes\n",
    "        \n",
    "    \n",
    "    # Initialize the weights as a numpy array (All weights will be matrices)\n",
    "    # Initialize the bias terms as a numpy array as well (Bias terms will be vectors)\n",
    "    \n",
    "    def buildNeuralNetworks(self,X,y,hL,nodes,iteration,eta):\n",
    "        # SGD\n",
    "        parameters = self.ParameterInitialization(X,y,nodes)\n",
    "        weightStorage = parameters[0]\n",
    "        biasStorage = parameters[1]\n",
    "        for i in xrange(0,iteration):\n",
    "            samples,featuress = X.shape\n",
    "            for j in xrange(0,samples):\n",
    "                x = X[i,]\n",
    "            \n",
    "                # Feed Forward\n",
    "                # Store W,a,f'(z)\n",
    "                #weightStorage = np.empty()\n",
    "                valueStorage = np.empty()\n",
    "                activeDerivStorage = np.empty()\n",
    "                a = x\n",
    "                for k in range(hL+1):\n",
    "                    z =np.dot(np.transpose(W[k]),a) +b\n",
    "                    a = self.ReLU(z)\n",
    "                    valueStorage[k] = a\n",
    "                    activeDerivStorage[a] = ReLUDeriv(z) \n",
    "                \n",
    "                lossDeriv = self.crossEntropyLoss(y,a[L])\n",
    "                outputError = np.dot(np.diag(self.softmaxDeriv(z)),np.transpose(lossDeriv))\n",
    "                \n",
    "                \n",
    "                #Backpropagation \n",
    "                # Store delta at each iteration\n",
    "                deltaStorage = np.empty()\n",
    "                deltaStorage[hL] = outputError\n",
    "                for l in range(1,hL):\n",
    "                    layer = hL-l\n",
    "                    delta = np.diag(fDerive[l])*W[l+1]*deltaStorage[layer+1]\n",
    "                    deltaStorage[l] = delta\n",
    "                 \n",
    "                \n",
    "                for k in range(1,hL+1):\n",
    "                    weightGradient = np.dot(activeDerivStorage[k-1],np.transpose(deltaStorage[k]))\n",
    "                    biasGradient = deltaStorage[k]\n",
    "                    weightStorage[k-1] = weightStorage [k-1] - eta * weightGradient\n",
    "                    biasStorage[k-1] = biasStorage [k-1] - eta * biasGradient\n",
    "        return (weightStorage,biasStorage)\n",
    "                    \n",
    "                \n",
    "                \n",
    "    def ParameterInitialization(self,X,y,nodes):\n",
    "        # Control the number of nodes in the weight initialization function\n",
    "        # nodes variable should be a list of number of nodes in each hidden layer\n",
    "        weightList = []\n",
    "        biasList = []\n",
    "        allNodes = [X.shape[1]]+nodes+[y.shape[1]]\n",
    "        \n",
    "        for i in range(1,len(allNodes)):\n",
    "            weight = np.empty([allNodes[i-1],allNodes[i]])\n",
    "            weight.fill(1/np.sqrt(allNodes[i-1]))\n",
    "            weightList.append(weight)\n",
    "            \n",
    "            bias = np.zeros(allNodes[i])\n",
    "            biasList.append(bias)\n",
    "        return(weightList,biasList)\n",
    "            \n",
    "    \n",
    "    \n",
    "    def ReLU(self,z):\n",
    "        return max(0,z)\n",
    "    \n",
    "    def softmax(self,Z):\n",
    "        denom = sum(np.exp(Z))\n",
    "        return(np.exp(Z)/denom)\n",
    "    \n",
    "    def ReLUDeriv(self,z):\n",
    "        if z>0:\n",
    "            Derive = 1\n",
    "        else:\n",
    "            # subgradient at zero was set to zero\n",
    "            Derive = 0\n",
    "        return(Derive)\n",
    "    \n",
    "    def softmaxDeriv(self,Z):\n",
    "        n = len(Z)\n",
    "        denom = sum(np.exp(Z))\n",
    "        \n",
    "        Jacobian = np.empty([n,n])\n",
    "        for i in range(n):\n",
    "            for j in range(i+1):\n",
    "                if i == j:\n",
    "                    Jacobian[i,j] = (np.exp(Z[i])/denom) - (np.exp(Z[i])/denom)**2\n",
    "                    Jacobian[j,i] = (np.exp(Z[i])/denom) - (np.exp(Z[i])/denom)**2\n",
    "                else:\n",
    "                    Jacobian[i,j] = (np.exp(-(Z[i]+Z[j]))/denom)**2\n",
    "                    Jacobian[j,i] = (np.exp(-(Z[i]+Z[j]))/denom)**2\n",
    "        return (Jacobian)\n",
    "                \n",
    "    def crossEntropyLoss(self, y,guess):\n",
    "        return(-sum(y/guess))\n",
    "        \n",
    "    "
   ]
  },
  {
   "cell_type": "code",
   "execution_count": 85,
   "metadata": {
    "collapsed": false
   },
   "outputs": [
    {
     "data": {
      "text/plain": [
       "[array([ 0.,  0.,  0.,  0.,  0.,  0.,  0.,  0.,  0.,  0.]),\n",
       " array([ 0.,  0.]),\n",
       " array([ 0.,  0.])]"
      ]
     },
     "execution_count": 85,
     "metadata": {},
     "output_type": "execute_result"
    }
   ],
   "source": [
    "NNexercise = Neuralnets(2)\n",
    "a = np.array([2.0,3.4,5.6,3.4,-0.1,0,-9])\n",
    "NNexercise.softmaxDeriv(a)\n",
    "NNexercise.ReLU(a.all)\n",
    "b = np.array([[2.0,3.4],[5.6,3.4],[-0.1,0],[-9,0.1]])\n",
    "f = np.vectorize(NNexercise.ReLU)  # or use a different name if you want to keep the original f\n",
    "\n",
    "#result_array = f(b) \n",
    "#result_array\n",
    "X = np.random.rand(4,2)\n",
    "y = np.array([[0,1],[1,0],[1,0],[0,1]])\n",
    "nodes = [10,2]\n",
    "Params = NNexercise.ParameterInitialization(X,y,nodes)\n",
    "Params[1]"
   ]
  },
  {
   "cell_type": "code",
   "execution_count": 26,
   "metadata": {
    "collapsed": false
   },
   "outputs": [
    {
     "name": "stdout",
     "output_type": "stream",
     "text": [
      "0 0\n",
      "0.0240076242008\n",
      "0.000576366019766\n",
      "1 0\n",
      "0.0973557168631\n",
      "0.00947813560592\n",
      "1 1\n",
      "0.0973557168631\n",
      "0.00947813560592\n",
      "2 0\n",
      "0.878636658936\n",
      "0.772002378426\n",
      "2 1\n",
      "0.878636658936\n",
      "0.772002378426\n",
      "2 2\n",
      "0.878636658936\n",
      "0.772002378426\n",
      "[[  2.34312582e-02   2.15347600e-10   2.64389569e-12]\n",
      " [  2.15347600e-10   8.78775813e-02   1.60775462e-13]\n",
      " [  2.64389569e-12   1.60775462e-13   1.06634281e-01]]\n"
     ]
    }
   ],
   "source": [
    "sum(np.exp(a))\n",
    "\n",
    "n = len(a)\n",
    "Z = a\n",
    "denom = sum(np.exp(Z))\n",
    "        \n",
    "Jacobian = np.empty([n,n])\n",
    "for i in range(n):\n",
    "    for j in range(i+1):\n",
    "        print i,j\n",
    "        if i == j:\n",
    "            print (np.exp(Z[i])/denom)\n",
    "            print (np.exp(Z[i])/denom)**2\n",
    "            Jacobian[i,j] = (np.exp(Z[i])/denom) - (np.exp(Z[i])/denom)**2\n",
    "            Jacobian[j,i] = (np.exp(Z[i])/denom) - (np.exp(Z[i])/denom)**2\n",
    "        else:\n",
    "            print (np.exp(Z[i])/denom)\n",
    "            print (np.exp(Z[i])/denom)**2\n",
    "            Jacobian[i,j] = (np.exp(-(Z[i]+Z[j]))/denom)**2\n",
    "            Jacobian[j,i] = (np.exp(-(Z[i]+Z[j]))/denom)**2\n",
    "\n",
    "\n",
    "print Jacobian"
   ]
  },
  {
   "cell_type": "markdown",
   "metadata": {},
   "source": [
    "# Convolutional Neural Networks"
   ]
  },
  {
   "cell_type": "code",
   "execution_count": 4,
   "metadata": {
    "collapsed": false
   },
   "outputs": [],
   "source": [
    "import tensorflow as tf"
   ]
  },
  {
   "cell_type": "code",
   "execution_count": null,
   "metadata": {
    "collapsed": true
   },
   "outputs": [],
   "source": []
  },
  {
   "cell_type": "code",
   "execution_count": null,
   "metadata": {
    "collapsed": false
   },
   "outputs": [],
   "source": []
  },
  {
   "cell_type": "code",
   "execution_count": null,
   "metadata": {
    "collapsed": true
   },
   "outputs": [],
   "source": []
  },
  {
   "cell_type": "code",
   "execution_count": null,
   "metadata": {
    "collapsed": true
   },
   "outputs": [],
   "source": []
  },
  {
   "cell_type": "markdown",
   "metadata": {},
   "source": [
    "# Scratch"
   ]
  },
  {
   "cell_type": "code",
   "execution_count": 23,
   "metadata": {
    "collapsed": false
   },
   "outputs": [
    {
     "data": {
      "text/plain": [
       "array([[ 1.46888017,  2.1098551 ,  1.32734838],\n",
       "       [ 1.86130614,  1.91456954,  2.64912421],\n",
       "       [ 2.47338498,  1.23116249,  1.17661799],\n",
       "       [ 1.57488247,  2.20459446,  1.87048811]])"
      ]
     },
     "execution_count": 23,
     "metadata": {},
     "output_type": "execute_result"
    }
   ],
   "source": [
    "a = np.random.rand(3,3)\n",
    "b = np.random.rand(3,2)\n",
    "c = np.random.rand(4,3)\n",
    "np.exp(c)"
   ]
  },
  {
   "cell_type": "code",
   "execution_count": 21,
   "metadata": {
    "collapsed": true
   },
   "outputs": [],
   "source": [
    "bigArray = [[a],[b],[c]]"
   ]
  },
  {
   "cell_type": "code",
   "execution_count": 22,
   "metadata": {
    "collapsed": false
   },
   "outputs": [
    {
     "data": {
      "text/plain": [
       "[array([[ 0.66995296,  0.23646859,  0.53870775],\n",
       "        [ 0.37648099,  0.56302431,  0.48723579],\n",
       "        [ 0.47250215,  0.76336075,  0.20623173],\n",
       "        [ 0.21332375,  0.99115811,  0.85635214]])]"
      ]
     },
     "execution_count": 22,
     "metadata": {},
     "output_type": "execute_result"
    }
   ],
   "source": [
    "bigArray[2]"
   ]
  },
  {
   "cell_type": "code",
   "execution_count": 3,
   "metadata": {
    "collapsed": false
   },
   "outputs": [
    {
     "name": "stdout",
     "output_type": "stream",
     "text": [
      "10\n",
      "9\n",
      "8\n",
      "7\n",
      "6\n",
      "5\n",
      "4\n",
      "3\n",
      "2\n",
      "1\n"
     ]
    }
   ],
   "source": [
    "for j in range(10,20):\n",
    "    print 20-j"
   ]
  },
  {
   "cell_type": "code",
   "execution_count": 30,
   "metadata": {
    "collapsed": false
   },
   "outputs": [
    {
     "data": {
      "text/plain": [
       "array([ 0.68965517,  0.45205479,  4.73684211,  0.6875    ])"
      ]
     },
     "execution_count": 30,
     "metadata": {},
     "output_type": "execute_result"
    }
   ],
   "source": [
    "a = np.array([2,3.3,9,2.2])\n",
    "b = np.array([2.9,7.3,1.9,3.2])\n",
    "a/b"
   ]
  },
  {
   "cell_type": "code",
   "execution_count": 7,
   "metadata": {
    "collapsed": false
   },
   "outputs": [
    {
     "data": {
      "text/plain": [
       "array([  9.07009851e-04,   3.32808822e-03,   9.94657078e-01,\n",
       "         1.10782433e-03])"
      ]
     },
     "execution_count": 7,
     "metadata": {},
     "output_type": "execute_result"
    }
   ],
   "source": [
    "np.exp(a)/sum(np.exp(a))"
   ]
  },
  {
   "cell_type": "code",
   "execution_count": 8,
   "metadata": {
    "collapsed": false
   },
   "outputs": [
    {
     "data": {
      "text/plain": [
       "1.0"
      ]
     },
     "execution_count": 8,
     "metadata": {},
     "output_type": "execute_result"
    }
   ],
   "source": [
    "sum(np.exp(a)/sum(np.exp(a)))\n"
   ]
  },
  {
   "cell_type": "code",
   "execution_count": 44,
   "metadata": {
    "collapsed": false
   },
   "outputs": [
    {
     "ename": "TypeError",
     "evalue": "Required argument 'shape' (pos 1) not found",
     "output_type": "error",
     "traceback": [
      "\u001b[0;31m---------------------------------------------------------------------------\u001b[0m",
      "\u001b[0;31mTypeError\u001b[0m                                 Traceback (most recent call last)",
      "\u001b[0;32m<ipython-input-44-0b2e1f483707>\u001b[0m in \u001b[0;36m<module>\u001b[0;34m()\u001b[0m\n\u001b[0;32m----> 1\u001b[0;31m \u001b[0mW\u001b[0m \u001b[0;34m=\u001b[0m \u001b[0mnp\u001b[0m\u001b[0;34m.\u001b[0m\u001b[0mempty\u001b[0m\u001b[0;34m(\u001b[0m\u001b[0;34m)\u001b[0m\u001b[0;34m\u001b[0m\u001b[0m\n\u001b[0m\u001b[1;32m      2\u001b[0m \u001b[0;32mfor\u001b[0m \u001b[0ma\u001b[0m \u001b[0;32min\u001b[0m \u001b[0mrange\u001b[0m\u001b[0;34m(\u001b[0m\u001b[0;36m5\u001b[0m\u001b[0;34m)\u001b[0m\u001b[0;34m:\u001b[0m\u001b[0;34m\u001b[0m\u001b[0m\n\u001b[1;32m      3\u001b[0m     \u001b[0mW\u001b[0m\u001b[0;34m[\u001b[0m\u001b[0ma\u001b[0m\u001b[0;34m]\u001b[0m \u001b[0;34m=\u001b[0m \u001b[0mnp\u001b[0m\u001b[0;34m.\u001b[0m\u001b[0mrand\u001b[0m\u001b[0;34m(\u001b[0m\u001b[0;36m2\u001b[0m\u001b[0;34m,\u001b[0m\u001b[0ma\u001b[0m\u001b[0;34m)\u001b[0m\u001b[0;34m\u001b[0m\u001b[0m\n",
      "\u001b[0;31mTypeError\u001b[0m: Required argument 'shape' (pos 1) not found"
     ]
    }
   ],
   "source": [
    "W = np.empty()\n",
    "for a in range(5):\n",
    "    W[a] = np.rand(2,a)"
   ]
  },
  {
   "cell_type": "code",
   "execution_count": 51,
   "metadata": {
    "collapsed": false
   },
   "outputs": [],
   "source": [
    "W = []\n",
    "A = np.array([[2.9,7.3],[1.9,3.2]])\n",
    "B = np.array([[2.9,7.3,23],[1.9,3.2,8]])\n",
    "W.append(A)\n",
    "W.append(B)"
   ]
  },
  {
   "cell_type": "code",
   "execution_count": 57,
   "metadata": {
    "collapsed": false
   },
   "outputs": [
    {
     "data": {
      "text/plain": [
       "array([[ 1.06471074,  1.98787435,  3.13549422],\n",
       "       [ 0.64185389,  1.16315081,  2.07944154]])"
      ]
     },
     "execution_count": 57,
     "metadata": {},
     "output_type": "execute_result"
    }
   ],
   "source": [
    "np.log(W[1])"
   ]
  },
  {
   "cell_type": "code",
   "execution_count": 58,
   "metadata": {
    "collapsed": false
   },
   "outputs": [
    {
     "ename": "TypeError",
     "evalue": "data type not understood",
     "output_type": "error",
     "traceback": [
      "\u001b[0;31m---------------------------------------------------------------------------\u001b[0m",
      "\u001b[0;31mTypeError\u001b[0m                                 Traceback (most recent call last)",
      "\u001b[0;32m<ipython-input-58-174898e7ff13>\u001b[0m in \u001b[0;36m<module>\u001b[0;34m()\u001b[0m\n\u001b[0;32m----> 1\u001b[0;31m \u001b[0mnp\u001b[0m\u001b[0;34m.\u001b[0m\u001b[0marray\u001b[0m\u001b[0;34m(\u001b[0m\u001b[0;36m1\u001b[0m\u001b[0;34m,\u001b[0m\u001b[0;34m[\u001b[0m\u001b[0;36m2\u001b[0m\u001b[0;34m,\u001b[0m\u001b[0;36m3\u001b[0m\u001b[0;34m]\u001b[0m\u001b[0;34m)\u001b[0m\u001b[0;34m\u001b[0m\u001b[0m\n\u001b[0m",
      "\u001b[0;31mTypeError\u001b[0m: data type not understood"
     ]
    }
   ],
   "source": [
    "np.array(1,[2,3])"
   ]
  },
  {
   "cell_type": "code",
   "execution_count": 60,
   "metadata": {
    "collapsed": false
   },
   "outputs": [
    {
     "data": {
      "text/plain": [
       "array([[ 0.57735027,  0.57735027,  0.57735027],\n",
       "       [ 0.57735027,  0.57735027,  0.57735027]])"
      ]
     },
     "execution_count": 60,
     "metadata": {},
     "output_type": "execute_result"
    }
   ],
   "source": [
    "a = np.empty([2,3])\n",
    "a.fill(1/np.sqrt(3))\n",
    "a"
   ]
  },
  {
   "cell_type": "code",
   "execution_count": 72,
   "metadata": {
    "collapsed": false
   },
   "outputs": [
    {
     "data": {
      "text/plain": [
       "[3, 2, 4]"
      ]
     },
     "execution_count": 72,
     "metadata": {},
     "output_type": "execute_result"
    }
   ],
   "source": [
    "a = 2\n",
    "s = [3]\n",
    "u = [4]\n",
    "\n",
    "b = s+[a]+u\n",
    "b"
   ]
  },
  {
   "cell_type": "code",
   "execution_count": null,
   "metadata": {
    "collapsed": true
   },
   "outputs": [],
   "source": []
  }
 ],
 "metadata": {
  "kernelspec": {
   "display_name": "Python 2",
   "language": "python",
   "name": "python2"
  },
  "language_info": {
   "codemirror_mode": {
    "name": "ipython",
    "version": 2
   },
   "file_extension": ".py",
   "mimetype": "text/x-python",
   "name": "python",
   "nbconvert_exporter": "python",
   "pygments_lexer": "ipython2",
   "version": "2.7.11"
  }
 },
 "nbformat": 4,
 "nbformat_minor": 0
}
