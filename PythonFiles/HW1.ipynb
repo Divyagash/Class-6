{
 "cells": [
  {
   "cell_type": "markdown",
   "metadata": {},
   "source": [
    "# Question 1 Gradient Discent"
   ]
  },
  {
   "cell_type": "code",
   "execution_count": 88,
   "metadata": {
    "collapsed": true
   },
   "outputs": [],
   "source": [
    "import numpy as np\n",
    "import math\n",
    "import pylab as pl\n",
    "import random\n",
    "import matplotlib.pyplot as plt\n",
    "%matplotlib inline"
   ]
  },
  {
   "cell_type": "code",
   "execution_count": 89,
   "metadata": {
    "collapsed": true
   },
   "outputs": [],
   "source": [
    "def negativeGaussian(x,mu,Sigma):\n",
    "    detSigma = np.linalg.det(Sigma)\n",
    "    n = len(x)\n",
    "    NC = -((1/(np.sqrt(2*math.pi)**2)*detSigma)) # normalizing constant\n",
    "    normalizedX = [a - b for a, b in zip(x, mu)] \n",
    "    invSigma = np.linalg.inv(Sigma)\n",
    "    kernel = np.exp(-0.5*(np.inner(np.inner(normalizedX,invSigma),np.transpose(normalizedX))))\n",
    "    \n",
    "    value = -NC*kernel\n",
    "    \n",
    "    gradient = -value*np.inner(invSigma,normalizedX)\n",
    "    \n",
    "    return(value,gradient)\n",
    "    "
   ]
  },
  {
   "cell_type": "code",
   "execution_count": 90,
   "metadata": {
    "collapsed": true
   },
   "outputs": [],
   "source": [
    "def qBowl(x,b,A):\n",
    "    value = 0.5*np.inner(np.inner(np.transpose(x),A),x) - np.inner(np.transpose(x),b)\n",
    "    gradient = np.inner(A,x) - b\n",
    "    return (value,gradient)"
   ]
  },
  {
   "cell_type": "code",
   "execution_count": 91,
   "metadata": {
    "collapsed": false
   },
   "outputs": [],
   "source": [
    "a = [25,25]\n",
    "mu = [1,3.2]\n",
    "A = [[2,0.3],[0.4,3]]"
   ]
  },
  {
   "cell_type": "code",
   "execution_count": 92,
   "metadata": {
    "collapsed": false
   },
   "outputs": [
    {
     "data": {
      "text/plain": [
       "(1676.25, array([ 56.5,  81.8]))"
      ]
     },
     "execution_count": 92,
     "metadata": {},
     "output_type": "execute_result"
    }
   ],
   "source": [
    "qBowl(a,mu,A)"
   ]
  },
  {
   "cell_type": "code",
   "execution_count": null,
   "metadata": {
    "collapsed": false
   },
   "outputs": [],
   "source": []
  },
  {
   "cell_type": "code",
   "execution_count": 93,
   "metadata": {
    "collapsed": false
   },
   "outputs": [
    {
     "data": {
      "text/plain": [
       "1676.25"
      ]
     },
     "execution_count": 93,
     "metadata": {},
     "output_type": "execute_result"
    }
   ],
   "source": [
    "0.5*np.inner(np.inner(np.transpose(a),A),a) - np.inner(np.transpose(a),mu)"
   ]
  },
  {
   "cell_type": "code",
   "execution_count": 203,
   "metadata": {
    "collapsed": false
   },
   "outputs": [],
   "source": [
    "def batchGradientDiscent(function,initGuess,step,threshold,maxIter,*args):\n",
    "    gradientNorm = []\n",
    "    epsilon = 1\n",
    "    value = initGuess\n",
    "    iteration = 0\n",
    "    #while iteration > 1:\n",
    "    #if iteration < maxIter:\n",
    "    while epsilon > threshold and iteration < maxIter : \n",
    "       \n",
    "        output = function(initGuess,*args)\n",
    "        #print output\n",
    "        \n",
    "        gradient = output[1]\n",
    "        newValue = value - step * gradient #GDS equation\n",
    "        \n",
    "        evaluateOld = function(value,*args)[0] # function evaluated at old point\n",
    "        #print(evaluateOld)\n",
    "        evaluateNew = function(newValue,*args)[0]# function evaluated at new point\n",
    "        print(evaluateNew)\n",
    "        epsilon = abs(evaluateNew - evaluateOld)\n",
    "        value = newValue\n",
    "        gradient= function(value,*args)[1]\n",
    "        gNorm = np.linalg.norm(gradient)\n",
    "        gradientNorm.append(gNorm)\n",
    "        #print epsilon\n",
    "            \n",
    "\n",
    "        iteration+=1\n",
    "        #print(iteration)\n",
    "          \n",
    "        \n",
    "        \n",
    "    return(gradientNorm, newValue)"
   ]
  },
  {
   "cell_type": "code",
   "execution_count": null,
   "metadata": {
    "collapsed": false
   },
   "outputs": [],
   "source": []
  },
  {
   "cell_type": "code",
   "execution_count": 204,
   "metadata": {
    "collapsed": false
   },
   "outputs": [],
   "source": [
    "# Loading the parameters\n",
    "def getData():\n",
    "\n",
    "    # load the parameters for the negative Gaussian function and quadratic bowl function\n",
    "    # return a tuple that contains parameters for Gaussian mean, Gaussian covariance,\n",
    "    # A and b for quadratic bowl in order\n",
    "\n",
    "    data = pl.loadtxt('../DataFiles/HW1/parametersp1.txt')\n",
    "\n",
    "    gaussMean = data[0,:]\n",
    "    gaussCov = data[1:3,:]\n",
    "\n",
    "    quadBowlA = data[3:5,:]\n",
    "    quadBowlb = data[5,:]\n",
    "\n",
    "    return (gaussMean,gaussCov,quadBowlA,quadBowlb) \n",
    "\n"
   ]
  },
  {
   "cell_type": "code",
   "execution_count": 205,
   "metadata": {
    "collapsed": false
   },
   "outputs": [],
   "source": [
    "gaussMean,gaussCov,quadBowlA,quadBowlb = getData()"
   ]
  },
  {
   "cell_type": "code",
   "execution_count": 206,
   "metadata": {
    "collapsed": false
   },
   "outputs": [
    {
     "data": {
      "text/plain": [
       "(array([[-3806.65440905, -4111.37030486],\n",
       "        [-4111.37030486, -3806.65440905]]),\n",
       " array([[-289.59784498, -344.79892249],\n",
       "        [-344.79892249, -289.59784498]]))"
      ]
     },
     "execution_count": 206,
     "metadata": {},
     "output_type": "execute_result"
    }
   ],
   "source": [
    "qBowl(a,quadBowlb,quadBowlA)"
   ]
  },
  {
   "cell_type": "code",
   "execution_count": 207,
   "metadata": {
    "collapsed": false
   },
   "outputs": [
    {
     "data": {
      "text/plain": [
       "array([ 400.,  400.])"
      ]
     },
     "execution_count": 207,
     "metadata": {},
     "output_type": "execute_result"
    }
   ],
   "source": [
    "quadBowlb"
   ]
  },
  {
   "cell_type": "code",
   "execution_count": 208,
   "metadata": {
    "collapsed": false
   },
   "outputs": [
    {
     "data": {
      "text/plain": [
       "array([ 26.66666667,  26.66666667])"
      ]
     },
     "execution_count": 208,
     "metadata": {},
     "output_type": "execute_result"
    }
   ],
   "source": [
    "np.inner(np.linalg.inv(quadBowlA),quadBowlb)"
   ]
  },
  {
   "cell_type": "code",
   "execution_count": 209,
   "metadata": {
    "collapsed": false
   },
   "outputs": [
    {
     "name": "stdout",
     "output_type": "stream",
     "text": [
      "129437.109306\n",
      "93358.6367714\n",
      "57837.5378349\n",
      "30776.8870512\n",
      "14066.9253838\n",
      "5522.46886294\n",
      "1862.20276418\n",
      "539.361890017\n",
      "134.181655587\n",
      "28.6725047997\n",
      "5.26256800658\n",
      "0.829639473384\n",
      "0.112341622565\n",
      "0.0130662684352\n",
      "0.00130533522906\n",
      "0.000112008799133\n",
      "8.25547035223e-06\n",
      "5.22626108868e-07\n",
      "2.84184234341e-08\n",
      "1.32729805772e-09\n",
      "5.32471706262e-11\n",
      "1.83478090507e-12\n",
      "5.43039582304e-14\n",
      "1.3805061969e-15\n",
      "3.01442743217e-17\n",
      "5.65367585434e-19\n",
      "9.10786481794e-21\n",
      "1.26026491484e-22\n"
     ]
    },
    {
     "data": {
      "text/plain": [
       "([2631.6387827169187,\n",
       "  3049.3561235755292,\n",
       "  2602.3552711381558,\n",
       "  1764.3045992449674,\n",
       "  979.86044015181801,\n",
       "  452.77867758878426,\n",
       "  175.64270694115481,\n",
       "  57.523630760067945,\n",
       "  15.965292876858525,\n",
       "  3.7651038174098694,\n",
       "  0.75594419554091352,\n",
       "  0.12940459778621763,\n",
       "  0.018908029125574103,\n",
       "  0.0023602871127345305,\n",
       "  0.00025189201672016641,\n",
       "  2.2995691047403345e-05,\n",
       "  1.7966706180553682e-06,\n",
       "  1.2018590040113836e-07,\n",
       "  6.8856921250447764e-09,\n",
       "  3.3796748334916209e-10,\n",
       "  1.4214842558119795e-11,\n",
       "  5.1243778186918096e-13,\n",
       "  1.5836250754466246e-14,\n",
       "  4.1961011981368358e-16,\n",
       "  9.5341884328560408e-18,\n",
       "  1.8578918990509584e-19,\n",
       "  3.1053086355170604e-21,\n",
       "  4.4522569130445959e-23],\n",
       " array([-343.2794463,   10.       ]))"
      ]
     },
     "execution_count": 209,
     "metadata": {},
     "output_type": "execute_result"
    }
   ],
   "source": [
    "batchGradientDiscent(negativeGaussian,[2,10],0.01,1e-19,100,gaussMean,gaussCov)"
   ]
  },
  {
   "cell_type": "code",
   "execution_count": 199,
   "metadata": {
    "collapsed": false
   },
   "outputs": [
    {
     "name": "stdout",
     "output_type": "stream",
     "text": [
      "15.8113883008\n",
      "[ 400.  400.]\n"
     ]
    }
   ],
   "source": [
    "print np.linalg.norm(quadBowlA)\n",
    "print quadBowlb"
   ]
  },
  {
   "cell_type": "code",
   "execution_count": 200,
   "metadata": {
    "collapsed": false
   },
   "outputs": [
    {
     "name": "stdout",
     "output_type": "stream",
     "text": [
      "[ 22.   3.]\n"
     ]
    },
    {
     "data": {
      "text/plain": [
       "-7205.0"
      ]
     },
     "execution_count": 200,
     "metadata": {},
     "output_type": "execute_result"
    }
   ],
   "source": [
    "A = qBowl([20,0],quadBowlb,quadBowlA)[0]\n",
    "B = qBowl([20,0],quadBowlb,quadBowlA)[1]\n",
    "C = B*0.01\n",
    "print [20,0] - C\n",
    "qBowl([22,3],quadBowlb,quadBowlA)[0]"
   ]
  },
  {
   "cell_type": "code",
   "execution_count": 201,
   "metadata": {
    "collapsed": false,
    "scrolled": false
   },
   "outputs": [
    {
     "name": "stdout",
     "output_type": "stream",
     "text": [
      "[ 10.57619634  11.44783946]\n"
     ]
    },
    {
     "data": {
      "text/plain": [
       "0.0040370230690824028"
      ]
     },
     "execution_count": 201,
     "metadata": {},
     "output_type": "execute_result"
    }
   ],
   "source": [
    "#batchGradientDiscent(qBowl,[26,26],0.001,1e-1,10,quadBowlb,quadBowlA)\n",
    "#np.linalg.norm()\n",
    "print SP1\n",
    "diff = [a-b for a,b in zip(SP1,gaussMean)]\n",
    "A = -negativeGaussian(SP1,gaussMean,gaussCov)[0]*np.inner(np.linalg.inv(gaussCov),diff)\n",
    "1/np.linalg.norm(A)\n",
    "#np.inner(np.linalg.inv(gaussCov),diff)"
   ]
  },
  {
   "cell_type": "markdown",
   "metadata": {
    "collapsed": false
   },
   "source": [
    "Quadratic bowl shows some very erratic behavior unless the startiing point is very clos\n",
    "and the threshold is relatively larger"
   ]
  },
  {
   "cell_type": "code",
   "execution_count": 210,
   "metadata": {
    "collapsed": false
   },
   "outputs": [
    {
     "name": "stdout",
     "output_type": "stream",
     "text": [
      "[  9.93063364  13.78372518]\n",
      "0.00167223444185\n",
      "157343.790169\n",
      "156514.521793\n",
      "155534.012207\n",
      "154405.162784\n",
      "153131.298542\n",
      "151716.151823\n",
      "150163.844082\n",
      "148478.865893\n",
      "146666.055315\n",
      "144730.57477\n",
      "142677.886569\n",
      "140513.727276\n",
      "138244.081045\n",
      "135875.152134\n",
      "133413.336752\n",
      "130865.194425\n",
      "128237.419056\n",
      "125536.809862\n",
      "122770.242359\n",
      "119944.639558\n",
      "117066.94356\n",
      "114144.087686\n",
      "111182.969312\n",
      "108190.423538\n",
      "105173.197843\n",
      "102137.927836\n",
      "99091.1142224\n",
      "96039.1010927\n",
      "92988.0556121\n",
      "89943.9492009\n",
      "86912.5402641\n",
      "83899.3585247\n",
      "80909.691001\n",
      "77948.5696538\n",
      "75020.7607203\n",
      "72130.7557356\n",
      "69282.7642337\n",
      "66480.7081084\n",
      "63728.2176019\n",
      "61028.6288821\n",
      "58384.9831569\n",
      "55800.0272691\n",
      "53276.215703\n",
      "50815.7139334\n",
      "48420.403034\n",
      "46091.8854646\n",
      "43831.491947\n",
      "41640.2893383\n",
      "39519.0894082\n",
      "37468.4584242\n",
      "35488.7274485\n",
      "33580.0032498\n",
      "31742.1797357\n",
      "29974.9498094\n",
      "28277.8175612\n",
      "26650.1107032\n",
      "25090.9931628\n",
      "23599.4777521\n",
      "22174.438835\n",
      "20814.6249183\n",
      "19518.6710994\n",
      "18285.1113044\n",
      "17112.3902613\n",
      "15998.8751533\n",
      "14942.8669051\n",
      "13942.6110613\n",
      "12996.3082187\n",
      "12102.123983\n",
      "11258.1984238\n",
      "10462.6550056\n",
      "9713.60898214\n",
      "9009.17523988\n",
      "8347.47558631\n",
      "7726.64547981\n",
      "7144.84020278\n",
      "6600.24048352\n",
      "6091.05757512\n",
      "5615.53780319\n",
      "5171.96659654\n",
      "4758.67201753\n",
      "4374.02781079\n",
      "4016.45599082\n",
      "3684.42899036\n",
      "3376.47139276\n",
      "3091.16127228\n",
      "2827.13116709\n",
      "2583.0687101\n",
      "2357.71694279\n",
      "2149.87433742\n",
      "1958.39455256\n",
      "1782.18594668\n",
      "1620.21087386\n",
      "1471.48478501\n",
      "1335.07515733\n",
      "1210.10027361\n",
      "1095.72787226\n",
      "991.173687622\n",
      "895.699899264\n",
      "808.613507649\n",
      "729.264652484\n",
      "657.044888847\n",
      "591.385435024\n",
      "531.755404792\n",
      "477.660035775\n",
      "428.638924313\n",
      "384.264276257\n",
      "344.139181981\n",
      "307.895922948\n",
      "275.194316171\n",
      "245.720102008\n",
      "219.183379877\n",
      "195.317095674\n",
      "173.875583924\n",
      "154.633167023\n",
      "137.382813272\n",
      "121.93485487\n",
      "108.115766457\n",
      "95.7670043783\n",
      "84.7439063963\n",
      "74.914651218\n",
      "66.1592768818\n",
      "58.3687567694\n",
      "51.4441317731\n",
      "45.2956969505\n",
      "39.8422408335\n",
      "35.0103354333\n",
      "30.7336748788\n",
      "26.9524605585\n",
      "23.6128305836\n",
      "20.6663313683\n",
      "18.0694291156\n",
      "15.7830590093\n",
      "13.7722099386\n",
      "12.0055426214\n",
      "10.4550390435\n",
      "9.0956811898\n",
      "7.90515711117\n",
      "6.86359244304\n",
      "5.953305571\n",
      "5.15858471833\n",
      "4.46548531466\n",
      "3.86164608918\n",
      "3.33612241706\n",
      "2.87923553195\n",
      "2.48243630165\n",
      "2.13818234515\n",
      "1.83982735005\n",
      "1.58152152593\n",
      "1.35812220466\n",
      "1.16511366971\n",
      "0.998535365488\n",
      "0.854917702467\n",
      "0.731224736018\n",
      "0.62480305492\n",
      "0.533336270635\n",
      "0.454804549907\n",
      "0.387448681449\n",
      "0.32973821247\n",
      "0.280343232588\n",
      "0.238109421486\n",
      "0.202036012496\n",
      "0.171256357446\n",
      "0.145020808535\n",
      "0.122681660982\n",
      "0.103679925841\n",
      "0.0875337257608\n",
      "0.0738281278671\n",
      "0.0622062473516\n",
      "0.0523614730348\n",
      "0.0440306821506\n",
      "0.0369883260812\n",
      "0.0310412818314\n",
      "0.0260243758007\n",
      "0.0217964969964\n",
      "0.0182372263271\n",
      "0.0152439171293\n",
      "0.0127291696897\n",
      "0.0106186493172\n",
      "0.00884920357833\n",
      "0.00736723969039\n",
      "0.00612732785319\n",
      "0.00509100053967\n",
      "0.00422572151902\n"
     ]
    },
    {
     "data": {
      "text/plain": [
       "([752.7894877929175,\n",
       "  905.33649033620986,\n",
       "  1055.1988811667386,\n",
       "  1201.9455219946274,\n",
       "  1345.1606014543231,\n",
       "  1484.4455936805159,\n",
       "  1619.4210984959786,\n",
       "  1749.7285513743777,\n",
       "  1875.0317924804319,\n",
       "  1995.0184853142898,\n",
       "  2109.4013767836555,\n",
       "  2217.9193918823917,\n",
       "  2320.3385575538973,\n",
       "  2416.4527517470956,\n",
       "  2506.0842751177352,\n",
       "  2589.0842442734224,\n",
       "  2665.3328068929609,\n",
       "  2734.7391804553135,\n",
       "  2797.2415176773075,\n",
       "  2852.8066030694149,\n",
       "  2901.4293862636337,\n",
       "  2943.1323589357235,\n",
       "  2977.9647832259052,\n",
       "  3006.0017805489142,\n",
       "  3027.3432905684563,\n",
       "  3042.1129108865102,\n",
       "  3050.45662865959,\n",
       "  3052.5414558985944,\n",
       "  3048.5539806340134,\n",
       "  3038.6988464332694,\n",
       "  3023.1971729423421,\n",
       "  3002.2849301914071,\n",
       "  2976.2112793569299,\n",
       "  2945.236892514823,\n",
       "  2909.6322636559257,\n",
       "  2869.6760228725607,\n",
       "  2825.6532651701846,\n",
       "  2777.8539048190219,\n",
       "  2726.5710655454391,\n",
       "  2672.0995161806086,\n",
       "  2614.7341606439923,\n",
       "  2554.7685903509418,\n",
       "  2492.4937063068769,\n",
       "  2428.196417294826,\n",
       "  2362.1584196881349,\n",
       "  2294.6550635353169,\n",
       "  2225.9543086783224,\n",
       "  2156.3157737877141,\n",
       "  2085.9898803364845,\n",
       "  2015.2170926961633,\n",
       "  1944.2272547315254,\n",
       "  1873.239022499851,\n",
       "  1802.4593919330498,\n",
       "  1732.0833197008214,\n",
       "  1662.2934348246229,\n",
       "  1593.2598380387481,\n",
       "  1525.1399853790683,\n",
       "  1458.0786520235774,\n",
       "  1392.2079720130757,\n",
       "  1327.6475491453818,\n",
       "  1264.5046340621923,\n",
       "  1202.8743623331029,\n",
       "  1142.8400481849699,\n",
       "  1084.4735284245639,\n",
       "  1027.8355510560491,\n",
       "  972.9762030990172,\n",
       "  919.93537216466325,\n",
       "  868.74323644334697,\n",
       "  819.42077789266204,\n",
       "  771.98031358712444,\n",
       "  726.42604039466016,\n",
       "  682.75458837703297,\n",
       "  640.95557856707615,\n",
       "  601.01218105089731,\n",
       "  562.90166957412703,\n",
       "  526.59596919380681,\n",
       "  492.06219380795403,\n",
       "  459.26317070958265,\n",
       "  428.15794962769252,\n",
       "  398.70229403134988,\n",
       "  370.84915278160247,\n",
       "  344.54911051705699,\n",
       "  319.75081545019208,\n",
       "  296.40138353086508,\n",
       "  274.44677819928029,\n",
       "  253.83216520149585,\n",
       "  234.50224217514722,\n",
       "  216.40154293061298,\n",
       "  199.47471655264204,\n",
       "  183.66678162914565,\n",
       "  168.92335607722512,\n",
       "  155.19086318158449,\n",
       "  142.4167145875106,\n",
       "  130.54947109994603,\n",
       "  119.53898223239571,\n",
       "  109.33650552515678,\n",
       "  99.894806712426885,\n",
       "  91.168241863100121,\n",
       "  83.11282265145492,\n",
       "  75.68626593247707,\n",
       "  68.848028803282887,\n",
       "  62.55933032809056,\n",
       "  56.783161090497323,\n",
       "  51.484281714539051,\n",
       "  46.629211466191627,\n",
       "  42.186208010647157,\n",
       "  38.125239358872356,\n",
       "  34.417948990566629,\n",
       "  31.037615090605929,\n",
       "  27.959104783219622,\n",
       "  25.158824193302646,\n",
       "  22.614665108136087,\n",
       "  20.305948956046663,\n",
       "  18.213368761776625,\n",
       "  16.318929682100936,\n",
       "  14.60588866998906,\n",
       "  13.058693761779242,\n",
       "  11.662923429762266,\n",
       "  10.405226392558397,\n",
       "  9.2732622279519372,\n",
       "  8.2556430876167326,\n",
       "  7.3418767705623331,\n",
       "  6.522311372255662,\n",
       "  5.7880816892859048,\n",
       "  5.1310575251647155,\n",
       "  4.5437940113821282,\n",
       "  4.0194840291344809,\n",
       "  3.5519127911448751,\n",
       "  3.1354146196267898,\n",
       "  2.7648319356006206,\n",
       "  2.4354764563480771,\n",
       "  2.1430925816567288,\n",
       "  1.8838229355353746,\n",
       "  1.6541760181315261,\n",
       "  1.4509959125146084,\n",
       "  1.2714339826587342,\n",
       "  1.1129224922248142,\n",
       "  0.97315006846208563,\n",
       "  0.85003893158606059,\n",
       "  0.74172380720999387,\n",
       "  0.64653243768176305,\n",
       "  0.56296760738525475,\n",
       "  0.48969059708918178,\n",
       "  0.42550598315793714,\n",
       "  0.36934769877696449,\n",
       "  0.3202662761952611,\n",
       "  0.27741719126328102,\n",
       "  0.24005023416654514,\n",
       "  0.20749983315178872,\n",
       "  0.17917626114869148,\n",
       "  0.15455765844818653,\n",
       "  0.13318280795663567,\n",
       "  0.11464460295854312,\n",
       "  0.098584150749545726,\n",
       "  0.084685458912228118,\n",
       "  0.072670654370909318,\n",
       "  0.062295688653638714,\n",
       "  0.053346485990204785,\n",
       "  0.04563549396774088,\n",
       "  0.038998599437818034,\n",
       "  0.033292375211066337,\n",
       "  0.028391625780482651,\n",
       "  0.024187202878178934,\n",
       "  0.020584064090031495,\n",
       "  0.017499550027940326,\n",
       "  0.014861857691192654,\n",
       "  0.012608689639031801,\n",
       "  0.010686060449332098,\n",
       "  0.009047243657510055,\n",
       "  0.0076518439604029735,\n",
       "  0.0064649809372793838,\n",
       "  0.005456571890271357,\n",
       "  0.004600702645451542,\n",
       "  0.0038750762897913015,\n",
       "  0.0032605308546632397,\n",
       "  0.0027406178997044102,\n",
       "  0.0023012348079669248,\n",
       "  0.0019303043804376869,\n",
       "  0.0016174960211152735,\n",
       "  0.0013539834385750266,\n",
       "  0.0011322343617756246,\n",
       "  0.00094582828193654216,\n",
       "  0.00078929869354606554],\n",
       " array([   6.57629083,  196.75298048]))"
      ]
     },
     "execution_count": 210,
     "metadata": {},
     "output_type": "execute_result"
    }
   ],
   "source": [
    "# Effect of staritng guess\n",
    "# Add random noise to the analtyical solution (Close to the solution, a bit far and then very far from the solution)\n",
    "# For neagtive Gaussain\n",
    "NGAnalyticSoln = gaussMean\n",
    "SP1 =NGAnalyticSoln +  np.random.normal(1,1,len(NGAnalyticSoln))\n",
    "print SP1\n",
    "diff = [a-b for a,b in zip(SP1,gaussMean)]\n",
    "stepNorm = 1/(np.linalg.norm(-negativeGaussian(SP1,gaussMean,gaussCov)[0]*np.inner(np.linalg.inv(gaussCov),diff)))\n",
    "print stepNorm\n",
    "#- negativeGaussian(SP1,gaussMean,gaussCov)*np.inner(np.linalg.inv(gaussCov),SP1 - gaussMean)\n",
    "batchGradientDiscent(negativeGaussian,SP1,stepNorm,1e-3,200,gaussMean,gaussCov)"
   ]
  },
  {
   "cell_type": "markdown",
   "metadata": {
    "collapsed": false
   },
   "source": [
    "# Question 2"
   ]
  },
  {
   "cell_type": "code",
   "execution_count": 25,
   "metadata": {
    "collapsed": true
   },
   "outputs": [],
   "source": [
    "def finiteDifference(function,sp,h,*args):\n",
    "\n",
    "    fdApprox = []\n",
    "    for i in range(len(sp)):\n",
    "        Lower = [float(j) for j in sp]\n",
    "        Higher = [float(j) for j in sp]\n",
    "        Lower[i] = Lower[i] - 0.5*h\n",
    "        #print Lower\n",
    "        Higher[i] = Higher[i] + 0.5*h\n",
    "        #print Lower\n",
    "        #print Higher\n",
    "        higherValue = function(Higher,*args)[0]\n",
    "        lowerValue = function(Lower,*args)[0]\n",
    "        print higherValue\n",
    "        print lowerValue\n",
    "        fdApprox.append((higherValue - lowerValue)/h)\n",
    "        #increment = [0.5*h + b for  b in sp]\n",
    "        #higherInput = [a + b for a, b in zip(sp, increment)] \n",
    "        #lowerInput = [a - b for a, b in zip(sp, increment)]\n",
    "        #higher = function( higherInput,*args)[0]\n",
    "        #lower = function(lowerInput,*args)[0]\n",
    "        #fdApprox = (higher - lower)/h\n",
    "    return(fdApprox)\n"
   ]
  },
  {
   "cell_type": "code",
   "execution_count": 26,
   "metadata": {
    "collapsed": false
   },
   "outputs": [
    {
     "name": "stdout",
     "output_type": "stream",
     "text": [
      "123098835.0\n",
      "126898835.0\n",
      "123123835.0\n",
      "126873835.0\n"
     ]
    },
    {
     "data": {
      "text/plain": [
       "[-380.0, -375.0]"
      ]
     },
     "execution_count": 26,
     "metadata": {},
     "output_type": "execute_result"
    }
   ],
   "source": [
    "finiteDifference(qBowl,[1,2],10000,quadBowlb,quadBowlA)"
   ]
  },
  {
   "cell_type": "code",
   "execution_count": 27,
   "metadata": {
    "collapsed": false
   },
   "outputs": [
    {
     "data": {
      "text/plain": [
       "(-1165.0, array([-380., -375.]))"
      ]
     },
     "execution_count": 27,
     "metadata": {},
     "output_type": "execute_result"
    }
   ],
   "source": [
    "qBowl([1,2],quadBowlb,quadBowlA)"
   ]
  },
  {
   "cell_type": "code",
   "execution_count": 28,
   "metadata": {
    "collapsed": false
   },
   "outputs": [
    {
     "data": {
      "text/plain": [
       "[32.0, 46.0]"
      ]
     },
     "execution_count": 28,
     "metadata": {},
     "output_type": "execute_result"
    }
   ],
   "source": [
    "A = [32,23]\n",
    "A[1] = A[1]+23\n",
    "A\n",
    "[float(i) for i in A]"
   ]
  },
  {
   "cell_type": "code",
   "execution_count": 29,
   "metadata": {
    "collapsed": false
   },
   "outputs": [
    {
     "data": {
      "text/plain": [
       "[2.5, 3.5]"
      ]
     },
     "execution_count": 29,
     "metadata": {},
     "output_type": "execute_result"
    }
   ],
   "source": [
    "A = [2,3]\n",
    "B = [23,4]\n",
    "[0.5 + b for  b in A] \n"
   ]
  },
  {
   "cell_type": "markdown",
   "metadata": {},
   "source": [
    "# # Data for SGD"
   ]
  },
  {
   "cell_type": "code",
   "execution_count": 30,
   "metadata": {
    "collapsed": false
   },
   "outputs": [],
   "source": [
    "# Loading the data\n",
    "\n",
    "def getData():\n",
    "    \n",
    "    # load the fitting data for X and y and return as elements of a tuple\n",
    "    # X is a 100 by 10 matrix and y is a vector of length 100\n",
    "    # Each corresponding row for X and y represents a single data sample\n",
    "\n",
    "    X = pl.loadtxt('../DataFiles/HW1/fittingdatap1_x.txt')\n",
    "    y = pl.loadtxt('../DataFiles/HW1/fittingdatap1_y.txt')\n",
    "\n",
    "    return (X,y) "
   ]
  },
  {
   "cell_type": "code",
   "execution_count": 31,
   "metadata": {
    "collapsed": false
   },
   "outputs": [],
   "source": [
    "X,y = getData()"
   ]
  },
  {
   "cell_type": "code",
   "execution_count": 32,
   "metadata": {
    "collapsed": false
   },
   "outputs": [
    {
     "data": {
      "text/plain": [
       "(100, 10)"
      ]
     },
     "execution_count": 32,
     "metadata": {},
     "output_type": "execute_result"
    }
   ],
   "source": [
    "X.shape"
   ]
  },
  {
   "cell_type": "code",
   "execution_count": 33,
   "metadata": {
    "collapsed": false
   },
   "outputs": [],
   "source": [
    "A = np.dot(np.linalg.inv(np.dot(np.transpose(X),X)),np.transpose(X))"
   ]
  },
  {
   "cell_type": "code",
   "execution_count": 34,
   "metadata": {
    "collapsed": false
   },
   "outputs": [
    {
     "data": {
      "text/plain": [
       "array([  0.5032541 ,  -2.3367948 ,  -6.31670032,   6.81230107,\n",
       "        -1.06337989,   6.67469398,   3.4118044 ,  -0.45573592,\n",
       "       -12.94593466,  15.73289812])"
      ]
     },
     "execution_count": 34,
     "metadata": {},
     "output_type": "execute_result"
    }
   ],
   "source": [
    "sp = np.inner(A,y)\n",
    "sp"
   ]
  },
  {
   "cell_type": "markdown",
   "metadata": {},
   "source": [
    "Least Square function"
   ]
  },
  {
   "cell_type": "code",
   "execution_count": 35,
   "metadata": {
    "collapsed": false
   },
   "outputs": [],
   "source": [
    "def leastSquare(theta,X,y):\n",
    "    y = y.ravel()\n",
    "    intermediate = np.inner(X,theta) - y\n",
    "    value = np.inner(np.transpose(intermediate),intermediate)\n",
    "    gradient = 2*np.inner(np.transpose(X),intermediate)\n",
    "        \n",
    "    return(value,gradient)\n"
   ]
  },
  {
   "cell_type": "code",
   "execution_count": 36,
   "metadata": {
    "collapsed": false
   },
   "outputs": [],
   "source": [
    "theta = [1,2,3,4,-5,6,7,8,9,-10]"
   ]
  },
  {
   "cell_type": "code",
   "execution_count": 37,
   "metadata": {
    "collapsed": false
   },
   "outputs": [],
   "source": [
    "#leastSquare(sp,X[1,],y[1])[1]"
   ]
  },
  {
   "cell_type": "code",
   "execution_count": 38,
   "metadata": {
    "collapsed": false
   },
   "outputs": [
    {
     "name": "stdout",
     "output_type": "stream",
     "text": [
      "8.08898029578e-10\n",
      "[  7.22795585e-11   3.46213943e-11   7.47740492e-11  -3.55712868e-11\n",
      "   2.15244461e-11  -1.43022159e-10   8.23569515e-12   6.10197803e-11\n",
      "  -6.08653302e-10  -4.95850632e-10]\n"
     ]
    }
   ],
   "source": [
    "print np.linalg.norm((leastSquare(sp,X,y)[1]))\n",
    "print leastSquare(sp,X,y)[1]"
   ]
  },
  {
   "cell_type": "code",
   "execution_count": 39,
   "metadata": {
    "collapsed": false
   },
   "outputs": [
    {
     "data": {
      "text/plain": [
       "array([  0.5032541 ,  -2.3367948 ,  -6.31670032,   6.81230107,\n",
       "        -1.06337989,   6.67469398,   3.4118044 ,  -0.45573592,\n",
       "       -12.94593466,  15.73289812])"
      ]
     },
     "execution_count": 39,
     "metadata": {},
     "output_type": "execute_result"
    }
   ],
   "source": [
    "sp"
   ]
  },
  {
   "cell_type": "code",
   "execution_count": null,
   "metadata": {
    "collapsed": false
   },
   "outputs": [],
   "source": []
  },
  {
   "cell_type": "code",
   "execution_count": 40,
   "metadata": {
    "collapsed": false
   },
   "outputs": [
    {
     "name": "stdout",
     "output_type": "stream",
     "text": [
      "1.27329258248e-11\n",
      "1\n",
      "3.63797880709e-12\n",
      "2\n",
      "1.45519152284e-11\n",
      "3\n",
      "2.0008883439e-11\n",
      "4\n",
      "1.27329258248e-11\n",
      "5\n",
      "1.81898940355e-12\n",
      "6\n",
      "1.45519152284e-11\n",
      "7\n",
      "1.81898940355e-12\n",
      "8\n",
      "1.27329258248e-11\n",
      "9\n",
      "0.0\n",
      "10\n"
     ]
    },
    {
     "data": {
      "text/plain": [
       "[7.9660930842840948e-07,\n",
       " 1.594041477882827e-06,\n",
       " 2.3914663574340702e-06,\n",
       " 3.1888408460146198e-06,\n",
       " 3.9862837026355625e-06,\n",
       " 4.7837352369274375e-06,\n",
       " 5.5811240962023485e-06,\n",
       " 6.3785109611052526e-06,\n",
       " 7.1759815794085644e-06,\n",
       " 7.973326024409016e-06]"
      ]
     },
     "execution_count": 40,
     "metadata": {},
     "output_type": "execute_result"
    }
   ],
   "source": [
    "batchGradientDiscent(leastSquare,sp,0.01,1e-19,36,X,y)"
   ]
  },
  {
   "cell_type": "code",
   "execution_count": 41,
   "metadata": {
    "collapsed": false
   },
   "outputs": [
    {
     "data": {
      "text/plain": [
       "array([[ -1.47200000e-01,   4.90200000e-01,  -2.26757000e+01,\n",
       "          1.47657000e+01,   1.07925000e+01,  -1.73419000e+01,\n",
       "         -7.58150000e+00,  -1.65327000e+01,  -6.71740000e+00,\n",
       "          2.75220000e+00],\n",
       "       [ -2.66000000e-02,  -3.50944000e+01,  -3.24594000e+01,\n",
       "          4.04050000e+00,  -2.68454000e+01,  -1.55490000e+01,\n",
       "          1.36408000e+01,  -5.82570000e+00,  -1.99688000e+01,\n",
       "          2.02079000e+01],\n",
       "       [  8.57100000e+00,   2.83335000e+01,  -2.60000000e-01,\n",
       "          1.67877000e+01,   7.97380000e+00,   2.50168000e+01,\n",
       "         -1.62684000e+01,   6.49319000e+01,   3.74096000e+01,\n",
       "          4.14010000e+00],\n",
       "       [ -9.33650000e+00,   1.46148000e+01,   1.53803000e+01,\n",
       "         -8.95000000e+00,   1.33843000e+01,   1.17449000e+01,\n",
       "         -2.25900000e-01,   4.37849000e+01,  -2.18766000e+01,\n",
       "         -2.06200000e+00],\n",
       "       [ -1.07327000e+01,  -1.05070000e+01,  -1.08115000e+01,\n",
       "         -2.29077000e+01,  -6.43280000e+00,  -5.86710000e+00,\n",
       "         -1.65026000e+01,  -1.87209000e+01,  -2.41270000e+01,\n",
       "         -3.90350000e+00]])"
      ]
     },
     "execution_count": 41,
     "metadata": {},
     "output_type": "execute_result"
    }
   ],
   "source": [
    "Xsub = X[0:5,:]\n",
    "ysub = y[0:5]\n",
    "Xsub"
   ]
  },
  {
   "cell_type": "code",
   "execution_count": 51,
   "metadata": {
    "collapsed": false
   },
   "outputs": [
    {
     "data": {
      "text/plain": [
       "inf"
      ]
     },
     "execution_count": 51,
     "metadata": {},
     "output_type": "execute_result"
    }
   ],
   "source": []
  },
  {
   "cell_type": "markdown",
   "metadata": {
    "collapsed": false
   },
   "source": [
    "# Stochastic Gradient Discent"
   ]
  },
  {
   "cell_type": "code",
   "execution_count": 85,
   "metadata": {
    "collapsed": false
   },
   "outputs": [],
   "source": [
    "def stochasticGradientDiscent(X,Y,initGuess,threshold,maxIter,tau0,kappa):\n",
    "    gradientNorm = []\n",
    "    epsilon = float(\"Inf\")\n",
    "    value = initGuess\n",
    "    iteration = 0\n",
    "\n",
    "    n = X.shape[0]\n",
    "    print n\n",
    "    indTheta = initGuess\n",
    "    k = kappa\n",
    "    steps = 0\n",
    "    iteration = 0\n",
    "    \n",
    "    \n",
    "    while iteration < maxIter: \n",
    "        for i in range(n):\n",
    "            if epsilon > threshold:\n",
    "            \n",
    "                indX = X[i,]\n",
    "                #print indX\n",
    "                indY = Y[i]\n",
    "                y = indY.ravel()\n",
    "                intermediate = np.inner(indX,indTheta) - y\n",
    "                #print intermediate\n",
    "                #print intermediate\n",
    "                value = np.inner(np.transpose(intermediate),intermediate)\n",
    "                #print value\n",
    "                gradient = 2*np.transpose(indX)*intermediate\n",
    "                \n",
    "                #print(value)\n",
    "                #print gradient\n",
    "                \n",
    "                #print(np.linalg.norm(gradient))\n",
    "                \n",
    "                etaT = (1./((tau0+steps)*np.linalg.norm(gradient)))**k\n",
    "                #print etaT\n",
    "                newTheta = indTheta - etaT*gradient\n",
    "                newIntermediate = np.inner(indX,newTheta) - y\n",
    "                \n",
    "                newValue = np.inner(np.transpose(newIntermediate),newIntermediate)\n",
    "                #print(newValue)\n",
    "                epsilon = abs(newValue - value)\n",
    "                #epsilon = np.linalg.norm(gradient)\n",
    "                print(epsilon)\n",
    "                #print(newTheta)\n",
    "                #print indTheta\n",
    "                steps= steps +1            \n",
    "                indTheta = newTheta\n",
    "                #print(indTheta)\n",
    "                #print steps\n",
    "            else:\n",
    "                print \"SGD converged\"\n",
    "                break\n",
    "                \n",
    "                \n",
    "        iteration = iteration+1\n",
    "                \n",
    "        return(indTheta)"
   ]
  },
  {
   "cell_type": "code",
   "execution_count": 86,
   "metadata": {
    "collapsed": false
   },
   "outputs": [
    {
     "name": "stdout",
     "output_type": "stream",
     "text": [
      "[ -0.1472   0.4902 -22.6757  14.7657  10.7925 -17.3419  -7.5815 -16.5327\n",
      "  -6.7174   2.7522]\n",
      "[ -0.17906413  -3.01911302  -6.99901854   6.12998285  -1.74569812\n",
      "   5.99237576   2.72948618  -1.13805415 -13.62825289  15.0505799 ]\n",
      "[  0.5032541   -2.3367948   -6.31670032   6.81230107  -1.06337989\n",
      "   6.67469398   3.4118044   -0.45573592 -12.94593466  15.73289812]\n"
     ]
    }
   ],
   "source": [
    "a = np.inner(X[0,],sp) - y[0]\n",
    "print X[0,]\n",
    "nu = np.linalg.norm(2*np.transpose(X[0,])*a)\n",
    "eta = (1./((2+1)*nu))**0.9\n",
    "print sp - eta*nu\n",
    "print sp"
   ]
  },
  {
   "cell_type": "code",
   "execution_count": 88,
   "metadata": {
    "collapsed": false
   },
   "outputs": [
    {
     "name": "stdout",
     "output_type": "stream",
     "text": [
      "100\n",
      "10460.6593366\n",
      "71556.559941\n",
      "21764.0770119\n",
      "6060.60629305\n",
      "2044.06971037\n",
      "19678.3452176\n",
      "2195.90170234\n",
      "3720.62156009\n",
      "445.112395089\n",
      "6402.92113386\n",
      "2537.44301217\n",
      "386.25658546\n",
      "11.7240029769\n",
      "5607.48809489\n",
      "8319.41993468\n",
      "5458.99303467\n",
      "2524.62380019\n",
      "6983.85689304\n",
      "4771.01262829\n",
      "7482.36844648\n",
      "8.54160637803\n",
      "11822.5722185\n",
      "832.079696736\n",
      "4840.1156225\n",
      "3414.75267068\n",
      "3901.48327822\n",
      "15805.2968008\n",
      "27741.9604156\n",
      "4536.92749062\n",
      "7669.94783293\n",
      "16681.4338136\n",
      "3661.01880934\n",
      "6979.97968873\n",
      "2298.78650449\n",
      "3858.27219572\n",
      "5864.30117108\n",
      "1188.47975406\n",
      "13643.061873\n",
      "3171.53106854\n",
      "1321.15514649\n",
      "10987.4697831\n",
      "4843.88907543\n",
      "7705.1216412\n",
      "3417.9820263\n",
      "510.227909797\n",
      "10686.7054568\n",
      "5901.13872074\n",
      "1909.54427694\n",
      "269.060689709\n",
      "9805.93328885\n",
      "7784.24279713\n",
      "1259.2189907\n",
      "3761.81378259\n",
      "2586.36943613\n",
      "6737.41899108\n",
      "2157.90594486\n",
      "535.448260282\n",
      "6350.04717595\n",
      "1600.52341548\n",
      "13.6127102929\n",
      "3662.18543098\n",
      "3623.40791398\n",
      "2795.35709597\n",
      "5420.78091158\n",
      "376.512539342\n",
      "1639.96552444\n",
      "1287.20007127\n",
      "3553.8574752\n",
      "2042.02280826\n",
      "2598.13513156\n",
      "3387.64626042\n",
      "2515.38806942\n",
      "433.169804433\n",
      "1419.09576201\n",
      "300.359922304\n",
      "3651.23975927\n",
      "90.7573840997\n",
      "642.877097373\n",
      "1066.98227786\n",
      "1114.32284955\n",
      "1545.23308184\n",
      "4013.01799344\n",
      "5498.75856564\n",
      "1910.03491615\n",
      "2675.22299154\n",
      "4934.12980287\n",
      "3896.18718544\n",
      "3425.01701049\n",
      "1107.03709947\n",
      "545.313624476\n",
      "1158.25923569\n",
      "5528.41656932\n",
      "1297.78324163\n",
      "2691.40262944\n",
      "2207.54840062\n",
      "1172.55977181\n",
      "2656.18059216\n",
      "288.800740075\n",
      "965.463880207\n",
      "366.612480777\n"
     ]
    },
    {
     "data": {
      "text/plain": [
       "array([-0.05674999, -0.43179969, -0.67160093,  0.15273771, -0.27350125,\n",
       "        0.12975445,  0.02719175, -0.76885618, -2.62694465,  1.89948989])"
      ]
     },
     "execution_count": 88,
     "metadata": {},
     "output_type": "execute_result"
    }
   ],
   "source": [
    "stochasticGradientDiscent(X,y,[0.1]*10,0.01,3,5,0.9)"
   ]
  },
  {
   "cell_type": "code",
   "execution_count": 76,
   "metadata": {
    "collapsed": false
   },
   "outputs": [
    {
     "name": "stdout",
     "output_type": "stream",
     "text": [
      "0.329876977693\n",
      "[  2.27496097e-01  -3.66154899e+02  -3.42818175e+02   4.86995266e+01\n",
      "  -2.79365403e+02  -1.54519334e+02   1.44823824e+02  -6.08498480e+01\n",
      "  -2.19959331e+02   2.25225007e+02]\n",
      "-15.7131943321\n"
     ]
    }
   ],
   "source": [
    "i = 1\n",
    "indTheta = sp\n",
    "indX = X[i,]\n",
    "indY = y[i]\n",
    "value = (np.inner(np.transpose(indX),indTheta) - indY)**2\n",
    "gradient = 2*(np.inner(np.transpose(indX),indTheta) - indY)*indX\n",
    "#print value,gradient\n",
    "#print np.linalg.norm(gradient)\n",
    "tau0 = 2\n",
    "k = 0.8\n",
    "j = 1\n",
    "etaT = (1./(tau0+(j+1)))**k\n",
    "print etaT\n",
    "newTheta = indTheta - etaT*gradient\n",
    "#print gradient\n",
    "#print etaT*gradient\n",
    "print newTheta\n",
    "print np.inner(np.transpose(indX),indTheta) - indY\n",
    "#2*(np.inner(np.transpose(indX),newTheta) - indY)*indX"
   ]
  },
  {
   "cell_type": "code",
   "execution_count": 230,
   "metadata": {
    "collapsed": false
   },
   "outputs": [
    {
     "data": {
      "text/plain": [
       "array([  0.5032541 ,  -2.3367948 ,  -6.31670032,   6.81230107,\n",
       "        -1.06337989,   6.67469398,   3.4118044 ,  -0.45573592,\n",
       "       -12.94593466,  15.73289812])"
      ]
     },
     "execution_count": 230,
     "metadata": {},
     "output_type": "execute_result"
    }
   ],
   "source": [
    "sp"
   ]
  },
  {
   "cell_type": "code",
   "execution_count": null,
   "metadata": {
    "collapsed": false
   },
   "outputs": [],
   "source": []
  },
  {
   "cell_type": "code",
   "execution_count": 122,
   "metadata": {
    "collapsed": false
   },
   "outputs": [
    {
     "data": {
      "text/plain": [
       "array([-41.31766813,  -0.82708803,  -7.06071553,  34.42502081,\n",
       "       -30.18680803,  -0.67330762,  15.95421946,   3.48234334,\n",
       "         6.73856983, -15.40532608])"
      ]
     },
     "execution_count": 122,
     "metadata": {},
     "output_type": "execute_result"
    }
   ],
   "source": [
    "sp"
   ]
  },
  {
   "cell_type": "code",
   "execution_count": null,
   "metadata": {
    "collapsed": false
   },
   "outputs": [],
   "source": [
    "indX = X[i,]\n",
    "indY = y[i]\n",
    "value = (np.inner(np.transpose(indX),sp) - indY)**2\n",
    "value\n",
    "2*(np.inner(np.transpose(indX),sp) - indY)*indX"
   ]
  },
  {
   "cell_type": "code",
   "execution_count": null,
   "metadata": {
    "collapsed": false
   },
   "outputs": [],
   "source": [
    "def additional(function,f,d,*args):\n",
    "    return(function(*args)+f**d)\n"
   ]
  },
  {
   "cell_type": "code",
   "execution_count": null,
   "metadata": {
    "collapsed": false
   },
   "outputs": [],
   "source": [
    "add(23,31)"
   ]
  },
  {
   "cell_type": "code",
   "execution_count": null,
   "metadata": {
    "collapsed": false
   },
   "outputs": [],
   "source": [
    "additional(mult,23,2,12,3)"
   ]
  },
  {
   "cell_type": "code",
   "execution_count": null,
   "metadata": {
    "collapsed": false
   },
   "outputs": [],
   "source": [
    "23**2"
   ]
  },
  {
   "cell_type": "code",
   "execution_count": null,
   "metadata": {
    "collapsed": false
   },
   "outputs": [],
   "source": [
    "abs(23-132)"
   ]
  },
  {
   "cell_type": "code",
   "execution_count": null,
   "metadata": {
    "collapsed": true
   },
   "outputs": [],
   "source": [
    " x = np.arange(30).reshape(6,5)"
   ]
  },
  {
   "cell_type": "code",
   "execution_count": null,
   "metadata": {
    "collapsed": false
   },
   "outputs": [],
   "source": [
    "x[:,1]"
   ]
  },
  {
   "cell_type": "code",
   "execution_count": null,
   "metadata": {
    "collapsed": false
   },
   "outputs": [],
   "source": [
    "data = pl.loadtxt('../DataFiles/HW1/curvefittingp2.txt')"
   ]
  },
  {
   "cell_type": "markdown",
   "metadata": {},
   "source": [
    "## Linear Basis Function Regression"
   ]
  },
  {
   "cell_type": "code",
   "execution_count": 27,
   "metadata": {
    "collapsed": true
   },
   "outputs": [],
   "source": [
    "# Data for question 2\n",
    "import matplotlib.pyplot as plt\n",
    "import pylab as pl\n",
    "\n",
    "def getData(ifPlotData=True):\n",
    "    # load the fitting data and (optionally) plot out for examination\n",
    "    # return the X and Y as a tuple\n",
    "\n",
    "    data = pl.loadtxt('../DataFiles/HW1/curvefittingp2.txt')\n",
    "\n",
    "    X = data[0,:]\n",
    "    Y = data[1,:]\n",
    "\n",
    "    if ifPlotData:\n",
    "        plt.plot(X,Y,'o')\n",
    "        plt.xlabel('x')\n",
    "        plt.ylabel('y')\n",
    "        plt.show()\n",
    "\n",
    "    return (X,Y)"
   ]
  },
  {
   "cell_type": "code",
   "execution_count": 28,
   "metadata": {
    "collapsed": false
   },
   "outputs": [
    {
     "data": {
      "image/png": "[encoded data removed]",
      "text/plain": [
       "<matplotlib.figure.Figure at 0x1053e7dd0>"
      ]
     },
     "metadata": {},
     "output_type": "display_data"
    }
   ],
   "source": [
    "X,Y = getData(ifPlotData=True)\n"
   ]
  },
  {
   "cell_type": "code",
   "execution_count": 29,
   "metadata": {
    "collapsed": false
   },
   "outputs": [
    {
     "data": {
      "text/plain": [
       "array([ 0. ,  0.1,  0.2,  0.3,  0.4,  0.5,  0.6,  0.7,  0.8,  0.9,  1. ])"
      ]
     },
     "execution_count": 29,
     "metadata": {},
     "output_type": "execute_result"
    }
   ],
   "source": [
    "X"
   ]
  },
  {
   "cell_type": "code",
   "execution_count": 30,
   "metadata": {
    "collapsed": true
   },
   "outputs": [],
   "source": [
    "def LBFRegression(X,y,m):\n",
    "    designMat = np.zeros((len(X),m+1))\n",
    "    for i in range(m+1):\n",
    "        #print([a**i for a in X])\n",
    "        designMat[:,i] = [a**i for a in X]\n",
    "        \n",
    "        \n",
    "    mle = np.inner(np.dot(np.linalg.inv(np.dot(np.transpose(designMat),designMat)),np.transpose(designMat)),y)\n",
    "    fittedValues = np.dot(designMat,np.transpose(mle))\n",
    "    return(mle,fittedValues)"
   ]
  },
  {
   "cell_type": "markdown",
   "metadata": {},
   "source": [
    "### 2.1"
   ]
  },
  {
   "cell_type": "code",
   "execution_count": 31,
   "metadata": {
    "collapsed": false
   },
   "outputs": [],
   "source": [
    "xtrue = np.linspace(0,1,100) # 100 linearly spaced numbers\n",
    "ytrue = np.cos(np.pi*xtrue)+1.5*np.cos(2*np.pi*xtrue) # computing the values of sin(x)/x\n",
    "noise = np.random.normal(0,0.01,100)\n",
    "ytrue = ytrue+noise\n",
    "\n",
    "\n",
    "weights0 = LBFRegression(X,Y,0)[0]\n",
    "m = 0\n",
    "designMat = np.zeros((len(xtrue),m+1))\n",
    "for i in range(m+1):\n",
    "    designMat[:,i] = [a**i for a in xtrue]\n",
    "\n",
    "\n",
    "fValue0 = np.inner(designMat,np.transpose(weights0))\n",
    "\n",
    "weights1 = LBFRegression(X,Y,1)[0]\n",
    "m = 1\n",
    "designMat = np.zeros((len(xtrue),m+1))\n",
    "for i in range(m+1):\n",
    "    designMat[:,i] = [a**i for a in xtrue]\n",
    "\n",
    "\n",
    "fValue1 = np.inner(designMat,np.transpose(weights1))\n",
    "\n",
    "\n",
    "\n",
    "weights3 = LBFRegression(X,Y,3)[0]\n",
    "m = 3\n",
    "designMat = np.zeros((len(xtrue),m+1))\n",
    "for i in range(m+1):\n",
    "    designMat[:,i] = [a**i for a in xtrue]\n",
    "\n",
    "\n",
    "fValue3 = np.inner(designMat,np.transpose(weights3))\n",
    "\n",
    "\n",
    "\n",
    "weights10 = LBFRegression(X,Y,10)[0]\n",
    "m = 10\n",
    "designMat = np.zeros((len(xtrue),m+1))\n",
    "for i in range(m+1):\n",
    "    designMat[:,i] = [a**i for a in xtrue]\n",
    "\n",
    "weights10 = LBFRegression(X,Y,10)[0]\n",
    "fValue10 = np.inner(designMat,np.transpose(weights10))"
   ]
  },
  {
   "cell_type": "code",
   "execution_count": 32,
   "metadata": {
    "collapsed": false
   },
   "outputs": [
    {
     "data": {
      "text/plain": [
       "array([ 2.28013448,  1.79391397,  1.58741861,  1.5457288 ,  1.58651516,\n",
       "        1.65331598,  1.70983853,  1.73517068,  1.71979784,  1.6623286 ,\n",
       "        1.56684075,  1.44076631,  1.293242  ,  1.13385782,  0.97174315,\n",
       "        0.81493557,  0.66998334,  0.54173782,  0.43329704,  0.34606615,\n",
       "        0.27990509,  0.23333752,  0.20379884,  0.18790481,  0.18172494,\n",
       "        0.18104813,  0.1816304 ,  0.17941703,  0.17073339,  0.15244098,\n",
       "        0.1220563 ,  0.07783235,  0.01880309, -0.05520715, -0.14360672,\n",
       "       -0.24508887, -0.3577091 , -0.47898339, -0.60600257, -0.73555824,\n",
       "       -0.86427529, -0.9887464 , -1.10566406, -1.21194574, -1.30484852,\n",
       "       -1.38206954, -1.44182946, -1.48293648, -1.50482898, -1.50759572,\n",
       "       -1.49197285, -1.45931786, -1.41156108, -1.35113614, -1.28089117,\n",
       "       -1.20398342, -1.1237602 , -1.04362973, -0.96692591, -0.89677134,\n",
       "       -0.83594315, -0.78674658, -0.7509011 , -0.7294441 , -0.72265688,\n",
       "       -0.7300174 , -0.75018398, -0.7810136 , -0.81961741, -0.86245577,\n",
       "       -0.90547345, -0.94427492, -0.97433784, -0.99126139, -0.99104419,\n",
       "       -0.9703844 , -0.92699235, -0.85990336, -0.76977561, -0.65915489,\n",
       "       -0.53268448, -0.39723496, -0.26192451, -0.1379963 , -0.03851461,\n",
       "        0.02216335,  0.02918832, -0.03165343, -0.17242574, -0.40107523,\n",
       "       -0.71893785, -1.11763908, -1.57530028, -2.0519554 , -2.48407423,\n",
       "       -2.77807941, -2.8027354 , -2.38027774, -1.27614098,  0.81286687])"
      ]
     },
     "execution_count": 32,
     "metadata": {},
     "output_type": "execute_result"
    }
   ],
   "source": [
    "fValue10\n"
   ]
  },
  {
   "cell_type": "code",
   "execution_count": 33,
   "metadata": {
    "collapsed": false
   },
   "outputs": [
    {
     "data": {
      "image/png": "[encoded data removed]",
      "text/plain": [
       "<matplotlib.figure.Figure at 0x105823790>"
      ]
     },
     "metadata": {},
     "output_type": "display_data"
    }
   ],
   "source": [
    "from pylab import savefig\n",
    "\n",
    "plt.plot(xtrue,ytrue)\n",
    "plt.plot(X,Y,'o')\n",
    "plt.plot(xtrue,fValue0)\n",
    "plt.xlabel('x')\n",
    "plt.ylabel('y')\n",
    "plt.title('Linear Regression (M=0)')\n",
    "#plt.show()\n",
    "pl.savefig('../ImageFiles/HW1/PolyBasis0.pdf')"
   ]
  },
  {
   "cell_type": "code",
   "execution_count": 34,
   "metadata": {
    "collapsed": false
   },
   "outputs": [
    {
     "data": {
      "image/png": "[encoded data removed]",
      "text/plain": [
       "<matplotlib.figure.Figure at 0x105625c90>"
      ]
     },
     "metadata": {},
     "output_type": "display_data"
    }
   ],
   "source": [
    "plt.plot(xtrue,ytrue)\n",
    "plt.plot(X,Y,'o')\n",
    "plt.plot(xtrue,fValue1)\n",
    "plt.xlabel('x')\n",
    "plt.ylabel('y')\n",
    "plt.title('Linear Regression (M=1)')\n",
    "#plt.show()\n",
    "pl.savefig('../ImageFiles/HW1/PolyBasis1.pdf')"
   ]
  },
  {
   "cell_type": "code",
   "execution_count": 35,
   "metadata": {
    "collapsed": false
   },
   "outputs": [
    {
     "data": {
      "image/png": "[encoded data removed]",
      "text/plain": [
       "<matplotlib.figure.Figure at 0x105a339d0>"
      ]
     },
     "metadata": {},
     "output_type": "display_data"
    }
   ],
   "source": [
    "plt.plot(xtrue,ytrue)\n",
    "plt.plot(X,Y,'o')\n",
    "plt.plot(xtrue,fValue3)\n",
    "plt.xlabel('x')\n",
    "plt.ylabel('y')\n",
    "plt.title('Linear Regression (M=3)')\n",
    "#plt.show()\n",
    "pl.savefig('../ImageFiles/HW1/PolyBasis3.pdf')"
   ]
  },
  {
   "cell_type": "code",
   "execution_count": 36,
   "metadata": {
    "collapsed": false
   },
   "outputs": [
    {
     "data": {
      "image/png": "[encoded data removed]",
      "text/plain": [
       "<matplotlib.figure.Figure at 0x1053e7210>"
      ]
     },
     "metadata": {},
     "output_type": "display_data"
    }
   ],
   "source": [
    "plt.plot(xtrue,ytrue)\n",
    "plt.plot(X,Y,'o')\n",
    "plt.plot(xtrue,fValue10)\n",
    "plt.xlabel('x')\n",
    "plt.ylabel('y')\n",
    "plt.title('Linear Regression (M=10)')\n",
    "#plt.show()\n",
    "pl.savefig('../ImageFiles/HW1/PolyBasis10.pdf')"
   ]
  },
  {
   "cell_type": "markdown",
   "metadata": {
    "collapsed": true
   },
   "source": [
    "# SSE"
   ]
  },
  {
   "cell_type": "code",
   "execution_count": 37,
   "metadata": {
    "collapsed": true
   },
   "outputs": [],
   "source": [
    "def SSEPolynomialBasis(weight,X,y):\n",
    "    error = np.inner(X,np.transpose(weight)) - y\n",
    "    SSE =np.inner(error,np.transpose(error))\n",
    "    SSEderivative = 2*np.inner(np.transpose(X),error)\n",
    "    return(SSE,SSEderivative)"
   ]
  },
  {
   "cell_type": "code",
   "execution_count": 38,
   "metadata": {
    "collapsed": false
   },
   "outputs": [
    {
     "name": "stdout",
     "output_type": "stream",
     "text": [
      "[  2.36687552 -10.73144911   6.61648601   2.48074981]\n"
     ]
    }
   ],
   "source": [
    "weights3 = LBFRegression(X,Y,3)[0]\n",
    "m = 3\n",
    "designMat = np.zeros((len(xtrue),m+1))\n",
    "for i in range(m+1):\n",
    "    designMat[:,i] = [a**i for a in xtrue]\n",
    "\n",
    "\n",
    "fValue3 = np.inner(designMat,np.transpose(weights3))\n",
    "print weights3"
   ]
  },
  {
   "cell_type": "code",
   "execution_count": 39,
   "metadata": {
    "collapsed": false
   },
   "outputs": [
    {
     "data": {
      "text/plain": [
       "35.980577281002972"
      ]
     },
     "execution_count": 39,
     "metadata": {},
     "output_type": "execute_result"
    }
   ],
   "source": [
    "np.linalg.norm(SSEPolynomialBasis(weights3,designMat,ytrue)[1])"
   ]
  },
  {
   "cell_type": "code",
   "execution_count": 40,
   "metadata": {
    "collapsed": false
   },
   "outputs": [
    {
     "name": "stdout",
     "output_type": "stream",
     "text": [
      "29.948543446 51.3779561676\n"
     ]
    }
   ],
   "source": [
    "weight3high = weights3+0.2\n",
    "weight3Low = weights3-0.2\n",
    "a = SSEPolynomialBasis(weight3high,designMat,ytrue)[0]\n",
    "b = SSEPolynomialBasis(weight3Low,designMat,ytrue)[0]\n",
    "print a,b"
   ]
  },
  {
   "cell_type": "markdown",
   "metadata": {},
   "source": [
    "Numerical derviative for the SSE"
   ]
  },
  {
   "cell_type": "code",
   "execution_count": 41,
   "metadata": {
    "collapsed": false
   },
   "outputs": [
    {
     "ename": "NameError",
     "evalue": "name 'finiteDifference' is not defined",
     "output_type": "error",
     "traceback": [
      "\u001b[0;31m---------------------------------------------------------------------------\u001b[0m",
      "\u001b[0;31mNameError\u001b[0m                                 Traceback (most recent call last)",
      "\u001b[0;32m<ipython-input-41-5dfd05f944fa>\u001b[0m in \u001b[0;36m<module>\u001b[0;34m()\u001b[0m\n\u001b[0;32m----> 1\u001b[0;31m \u001b[0mfiniteDifference\u001b[0m\u001b[0;34m(\u001b[0m\u001b[0mSSEPolynomialBasis\u001b[0m\u001b[0;34m,\u001b[0m\u001b[0mweights3\u001b[0m\u001b[0;34m,\u001b[0m\u001b[0;36m0.02\u001b[0m\u001b[0;34m,\u001b[0m\u001b[0mdesignMat\u001b[0m\u001b[0;34m,\u001b[0m\u001b[0mytrue\u001b[0m\u001b[0;34m)\u001b[0m\u001b[0;34m\u001b[0m\u001b[0m\n\u001b[0m",
      "\u001b[0;31mNameError\u001b[0m: name 'finiteDifference' is not defined"
     ]
    }
   ],
   "source": [
    "finiteDifference(SSEPolynomialBasis,weights3,0.02,designMat,ytrue)"
   ]
  },
  {
   "cell_type": "code",
   "execution_count": 42,
   "metadata": {
    "collapsed": false
   },
   "outputs": [
    {
     "ename": "NameError",
     "evalue": "name 'batchGradientDiscent' is not defined",
     "output_type": "error",
     "traceback": [
      "\u001b[0;31m---------------------------------------------------------------------------\u001b[0m",
      "\u001b[0;31mNameError\u001b[0m                                 Traceback (most recent call last)",
      "\u001b[0;32m<ipython-input-42-a6fac1cc6f69>\u001b[0m in \u001b[0;36m<module>\u001b[0;34m()\u001b[0m\n\u001b[0;32m----> 1\u001b[0;31m \u001b[0mbatchGradientDiscent\u001b[0m\u001b[0;34m(\u001b[0m\u001b[0mSSEPolynomialBasis\u001b[0m\u001b[0;34m,\u001b[0m\u001b[0mweights3\u001b[0m\u001b[0;34m,\u001b[0m\u001b[0;36m0.001\u001b[0m\u001b[0;34m,\u001b[0m\u001b[0;36m0.01\u001b[0m\u001b[0;34m,\u001b[0m\u001b[0;36m100\u001b[0m\u001b[0;34m,\u001b[0m\u001b[0mdesignMat\u001b[0m\u001b[0;34m,\u001b[0m\u001b[0mytrue\u001b[0m\u001b[0;34m)\u001b[0m\u001b[0;34m\u001b[0m\u001b[0m\n\u001b[0m",
      "\u001b[0;31mNameError\u001b[0m: name 'batchGradientDiscent' is not defined"
     ]
    }
   ],
   "source": [
    "batchGradientDiscent(SSEPolynomialBasis,weights3,0.001,0.01,100,designMat,ytrue)"
   ]
  },
  {
   "cell_type": "markdown",
   "metadata": {
    "collapsed": false
   },
   "source": [
    "# 2.3 Cosine basis function"
   ]
  },
  {
   "cell_type": "code",
   "execution_count": 43,
   "metadata": {
    "collapsed": false
   },
   "outputs": [],
   "source": [
    "def CosBFRegression(X,y,m):\n",
    "    designMat = np.zeros((len(X),m))\n",
    "    for i in range(1,m+1):\n",
    "        \n",
    "        #print np.cos(i*np.pi*X)\n",
    "        designMat[:,i-1] = np.cos(i*np.pi*X)\n",
    "        \n",
    "        \n",
    "    mle = np.inner(np.dot(np.linalg.inv(np.dot(np.transpose(designMat),designMat)),np.transpose(designMat)),y)\n",
    "    fittedValues = np.dot(designMat,np.transpose(mle))\n",
    "    return(mle)"
   ]
  },
  {
   "cell_type": "code",
   "execution_count": 44,
   "metadata": {
    "collapsed": false
   },
   "outputs": [
    {
     "data": {
      "text/plain": [
       "array([ 2.2748,  1.5728,  0.2885,  0.1237, -0.81  , -1.5123, -0.8655,\n",
       "       -0.8766, -0.6274, -0.4159,  0.8383])"
      ]
     },
     "execution_count": 44,
     "metadata": {},
     "output_type": "execute_result"
    }
   ],
   "source": [
    "Y"
   ]
  },
  {
   "cell_type": "code",
   "execution_count": 45,
   "metadata": {
    "collapsed": false
   },
   "outputs": [],
   "source": [
    "cosBasis1 = np.append(CosBFRegression(X,Y,1),[0]*7)\n",
    "cosBasis2 = np.append(CosBFRegression(X,Y,2),[0]*6)\n",
    "cosBasis3 = np.append(CosBFRegression(X,Y,3),[0]*5)\n",
    "cosBasis4 = np.append(CosBFRegression(X,Y,4),[0]*4)\n",
    "cosBasis5 = np.append(CosBFRegression(X,Y,5),[0]*3)\n",
    "cosBasis6 = np.append(CosBFRegression(X,Y,6),[0]*2)\n",
    "cosBasis7 = np.append(CosBFRegression(X,Y,7),[0]*1)\n",
    "cosBasis8 = np.append(CosBFRegression(X,Y,8),[0]*0)"
   ]
  },
  {
   "cell_type": "code",
   "execution_count": 46,
   "metadata": {
    "collapsed": false
   },
   "outputs": [
    {
     "data": {
      "text/plain": [
       "[1, 2, 3, 4, 5, 6, 7, 8]"
      ]
     },
     "execution_count": 46,
     "metadata": {},
     "output_type": "execute_result"
    }
   ],
   "source": [
    "TrueCosBasis = np.array([1,1.5,0,0,0,0,0,0])\n",
    "def euclideanDistanceTrueCos(Vector):\n",
    "    return np.linalg.norm(TrueCosBasis - Vector)\n",
    "    \n",
    "EuclideanDistance = [euclideanDistanceTrueCos(cosBasis1),euclideanDistanceTrueCos(cosBasis2),euclideanDistanceTrueCos(cosBasis3),euclideanDistanceTrueCos(cosBasis4),\n",
    "                    euclideanDistanceTrueCos(cosBasis5),euclideanDistanceTrueCos(cosBasis6),euclideanDistanceTrueCos(cosBasis7),euclideanDistanceTrueCos(cosBasis8)]\n",
    "EuclideanDistance \n",
    "MVector = range(1,9)\n",
    "MVector"
   ]
  },
  {
   "cell_type": "code",
   "execution_count": 47,
   "metadata": {
    "collapsed": false
   },
   "outputs": [
    {
     "data": {
      "image/png": "[encoded data removed]",
      "text/plain": [
       "<matplotlib.figure.Figure at 0x10586f190>"
      ]
     },
     "metadata": {},
     "output_type": "display_data"
    },
    {
     "data": {
      "text/plain": [
       "<matplotlib.figure.Figure at 0x1049d1810>"
      ]
     },
     "metadata": {},
     "output_type": "display_data"
    }
   ],
   "source": [
    "plt.plot(MVector,EuclideanDistance)\n",
    "\n",
    "plt.xlabel('M')\n",
    "plt.ylabel('Euclidean Norm')\n",
    "plt.title('Euclidean Norm between true wight vectors\\n and estimates for each M')\n",
    "\n",
    "plt.show()\n",
    "pl.savefig('../ImageFiles/HW1/CosBasisDifference.pdf')"
   ]
  },
  {
   "cell_type": "code",
   "execution_count": 48,
   "metadata": {
    "collapsed": false
   },
   "outputs": [
    {
     "data": {
      "text/plain": [
       "array([ 1.        ,  0.30901699, -0.80901699, -0.80901699,  0.30901699,\n",
       "        1.        ,  0.30901699, -0.80901699, -0.80901699,  0.30901699,  1.        ])"
      ]
     },
     "execution_count": 48,
     "metadata": {},
     "output_type": "execute_result"
    }
   ],
   "source": [
    "np.cos(4*np.pi*X)"
   ]
  },
  {
   "cell_type": "markdown",
   "metadata": {},
   "source": [
    "# Ridge Regression "
   ]
  },
  {
   "cell_type": "code",
   "execution_count": 49,
   "metadata": {
    "collapsed": false
   },
   "outputs": [],
   "source": [
    "# Data for question 3\n",
    "\n",
    "import pdb\n",
    "import random\n",
    "import pylab as pl\n",
    "\n",
    "# X is an array of N data points (one dimensional for now), that is, NX1\n",
    "# Y is a Nx1 column vector of data values\n",
    "\n",
    "def getData(name):\n",
    "    data = pl.loadtxt(name)\n",
    "    # Returns column matrices\n",
    "    X = data[0:1].T\n",
    "    Y = data[1:2].T\n",
    "    return X, Y\n",
    "\n",
    "def regressAData():\n",
    "    return getData('../DataFiles/HW1/regressA_train.txt')\n",
    "\n",
    "def regressBData():\n",
    "    return getData('../DataFiles/HW1/regressB_train.txt')\n",
    "\n",
    "def validateData():\n",
    "    return getData('../DataFiles/HW1/regress_validate.txt')"
   ]
  },
  {
   "cell_type": "code",
   "execution_count": null,
   "metadata": {
    "collapsed": false
   },
   "outputs": [],
   "source": []
  },
  {
   "cell_type": "code",
   "execution_count": 50,
   "metadata": {
    "collapsed": false
   },
   "outputs": [],
   "source": [
    "def ridgeRegression(X,y,lambdaShrink,m):\n",
    "    designMat = np.zeros((len(X),m+1))\n",
    "    for i in range(m+1):\n",
    "        #print([a**i for a in X])\n",
    "        designMat[:,i] = [a**i for a in X]\n",
    "        designMat[:,i] = [j - np.mean(y) for j in designMat[:,i]] # Centering X's\n",
    "        \n",
    "    y = y.ravel() \n",
    "    \n",
    "    yCentered = [j - np.mean(y) for j in y] # Centering y's\n",
    "    \n",
    "    mle = np.inner(np.dot(np.linalg.inv(np.dot(np.transpose(designMat),designMat)+lambdaShrink*np.identity(m+1)),np.transpose(designMat)),yCentered)\n",
    "    fittedValues = np.dot(designMat,np.transpose(mle))\n",
    "    return(mle,fittedValues)\n",
    "    "
   ]
  },
  {
   "cell_type": "markdown",
   "metadata": {},
   "source": [
    "Ridge regression fit for M = 1 for various lamdas"
   ]
  },
  {
   "cell_type": "code",
   "execution_count": 51,
   "metadata": {
    "collapsed": false
   },
   "outputs": [
    {
     "data": {
      "text/plain": [
       "array([ 0.23968251, -0.56587693])"
      ]
     },
     "execution_count": 51,
     "metadata": {},
     "output_type": "execute_result"
    }
   ],
   "source": [
    "RRLambda0_1M1 = ridgeRegression(X,Y,0.1,1)[0]\n",
    "RRLambda0_5M1 = ridgeRegression(X,Y,0.5,1)[0]\n",
    "RRLambda1M1 = ridgeRegression(X,Y,1,1)[0]\n",
    "RRLambda2M1 = ridgeRegression(X,Y,2,1)[0]\n",
    "RRLambda5M1 = ridgeRegression(X,Y,5,1)[0]\n",
    "W1 = ['w0','w1']\n",
    "RRLambda2M1"
   ]
  },
  {
   "cell_type": "code",
   "execution_count": 52,
   "metadata": {
    "collapsed": false
   },
   "outputs": [
    {
     "data": {
      "image/png": "[encoded data removed]",
      "text/plain": [
       "<matplotlib.figure.Figure at 0x105a2c050>"
      ]
     },
     "metadata": {},
     "output_type": "display_data"
    }
   ],
   "source": [
    "#plt.bar(range(len(t12)), t12, align='center')\n",
    "#plt.xticks(range(len(t12)), t11, size='small')\n",
    "#plt.show()\n",
    "plt.plot(range(len(RRLambda0_1M1)),RRLambda0_1M1,label='$\\lambda$ = 0.1')\n",
    "plt.plot(range(len(RRLambda0_5M1)),RRLambda0_5M1,label='$\\lambda$ = 0.5')\n",
    "plt.plot(range(len(RRLambda1M1)),RRLambda1M1,label='$\\lambda$ = 1')\n",
    "plt.plot(range(len(RRLambda2M1)),RRLambda2M1,label='$\\lambda$ = 2')\n",
    "plt.plot(range(len(RRLambda5M1)),RRLambda5M1,label='$\\lambda$ = 5')\n",
    "plt.xticks(range(len(W1)),W1, size='small')\n",
    "plt.legend(bbox_to_anchor=(1.05, 1), loc=2, borderaxespad=0.)\n",
    "plt.show()"
   ]
  },
  {
   "cell_type": "markdown",
   "metadata": {},
   "source": [
    "Ridge regression fit for M = 3 for various lamdas"
   ]
  },
  {
   "cell_type": "code",
   "execution_count": 53,
   "metadata": {
    "collapsed": false
   },
   "outputs": [
    {
     "data": {
      "text/plain": [
       "array([ 0.23968251, -0.56587693])"
      ]
     },
     "execution_count": 53,
     "metadata": {},
     "output_type": "execute_result"
    }
   ],
   "source": [
    "RRLambda0_1M3 = ridgeRegression(X,Y,0.1,3)[0]\n",
    "RRLambda0_5M3 = ridgeRegression(X,Y,0.5,3)[0]\n",
    "RRLambda1M3 = ridgeRegression(X,Y,1,3)[0]\n",
    "RRLambda2M3 = ridgeRegression(X,Y,2,3)[0]\n",
    "RRLambda5M3 = ridgeRegression(X,Y,5,3)[0]\n",
    "W1 = ['w0','w1','w2','w3']\n",
    "RRLambda2M1"
   ]
  },
  {
   "cell_type": "code",
   "execution_count": 54,
   "metadata": {
    "collapsed": false
   },
   "outputs": [
    {
     "data": {
      "image/png": "[encoded data removed]",
      "text/plain": [
       "<matplotlib.figure.Figure at 0x1053c15d0>"
      ]
     },
     "metadata": {},
     "output_type": "display_data"
    }
   ],
   "source": [
    "# Adding label to the plot\n",
    "plt.plot(range(len(RRLambda0_1M3)),RRLambda0_1M3,label='$\\lambda$ = 0.1')\n",
    "plt.plot(range(len(RRLambda0_5M3)),RRLambda0_5M3,label='$\\lambda$ = 0.5')\n",
    "plt.plot(range(len(RRLambda1M3)),RRLambda1M3,label='$\\lambda$ = 1')\n",
    "plt.plot(range(len(RRLambda2M3)),RRLambda2M3,label='$\\lambda$ =2')\n",
    "plt.plot(range(len(RRLambda5M3)),RRLambda5M3,label='$\\lambda$ = 5')\n",
    "plt.xticks(range(len(W1)),W1, size='small')\n",
    "plt.legend(bbox_to_anchor=(1.05, 1), loc=2, borderaxespad=0.)\n",
    "plt.show()"
   ]
  },
  {
   "cell_type": "markdown",
   "metadata": {},
   "source": [
    "Ridge regression fit for M = 5 for various lamdas"
   ]
  },
  {
   "cell_type": "code",
   "execution_count": 55,
   "metadata": {
    "collapsed": false
   },
   "outputs": [
    {
     "data": {
      "text/plain": [
       "array([ 0.23968251, -0.56587693])"
      ]
     },
     "execution_count": 55,
     "metadata": {},
     "output_type": "execute_result"
    }
   ],
   "source": [
    "RRLambda0_1M5 = ridgeRegression(X,Y,0.1,5)[0]\n",
    "RRLambda0_5M5 = ridgeRegression(X,Y,0.5,5)[0]\n",
    "RRLambda1M5 = ridgeRegression(X,Y,1,5)[0]\n",
    "RRLambda2M5 = ridgeRegression(X,Y,2,5)[0]\n",
    "RRLambda5M5 = ridgeRegression(X,Y,5,5)[0]\n",
    "W1 = ['w0','w1','w2','w3','w4','w5']\n",
    "RRLambda2M1"
   ]
  },
  {
   "cell_type": "code",
   "execution_count": 56,
   "metadata": {
    "collapsed": false
   },
   "outputs": [
    {
     "data": {
      "image/png": "[encoded data removed]",
      "text/plain": [
       "<matplotlib.figure.Figure at 0x105608f50>"
      ]
     },
     "metadata": {},
     "output_type": "display_data"
    }
   ],
   "source": [
    "# Adding label to the plot\n",
    "plt.plot(range(len(RRLambda0_1M5)),RRLambda0_1M5,label='$\\lambda$ = 0.1')\n",
    "plt.plot(range(len(RRLambda0_5M5)),RRLambda0_5M5,label='$\\lambda$ = 0.5')\n",
    "plt.plot(range(len(RRLambda1M5)),RRLambda1M5,label='$\\lambda$ = 1')\n",
    "plt.plot(range(len(RRLambda2M5)),RRLambda2M5,label='$\\lambda$ =2')\n",
    "plt.plot(range(len(RRLambda5M5)),RRLambda5M5,label='$\\lambda$ = 5')\n",
    "plt.xticks(range(len(W1)),W1, size='small')\n",
    "plt.legend(bbox_to_anchor=(1.05, 1), loc=2, borderaxespad=0.)\n",
    "plt.show()"
   ]
  },
  {
   "cell_type": "markdown",
   "metadata": {},
   "source": [
    "Ridge regression fit for M = 10 for various lamdas"
   ]
  },
  {
   "cell_type": "code",
   "execution_count": 57,
   "metadata": {
    "collapsed": false
   },
   "outputs": [
    {
     "data": {
      "text/plain": [
       "array([ 0.23968251, -0.56587693])"
      ]
     },
     "execution_count": 57,
     "metadata": {},
     "output_type": "execute_result"
    }
   ],
   "source": [
    "RRLambda0_1M10 = ridgeRegression(X,Y,0.1,10)[0]\n",
    "RRLambda0_5M10 = ridgeRegression(X,Y,0.5,10)[0]\n",
    "RRLambda1M10 = ridgeRegression(X,Y,1,10)[0]\n",
    "RRLambda2M10 = ridgeRegression(X,Y,2,10)[0]\n",
    "RRLambda5M10 = ridgeRegression(X,Y,5,10)[0]\n",
    "W1 = ['w0','w1','w2','w3','w4','w5','w6','w7','w8','w9','w10']\n",
    "RRLambda2M1"
   ]
  },
  {
   "cell_type": "code",
   "execution_count": 58,
   "metadata": {
    "collapsed": false
   },
   "outputs": [
    {
     "data": {
      "image/png": "[encoded data removed]",
      "text/plain": [
       "<matplotlib.figure.Figure at 0x105c37a50>"
      ]
     },
     "metadata": {},
     "output_type": "display_data"
    }
   ],
   "source": [
    "# Adding label to the plot\n",
    "plt.plot(range(len(RRLambda0_1M10)),RRLambda0_1M10,label='$\\lambda$ = 0.1')\n",
    "plt.plot(range(len(RRLambda0_5M10)),RRLambda0_5M10,label='$\\lambda$ = 0.5')\n",
    "plt.plot(range(len(RRLambda1M10)),RRLambda1M10,label='$\\lambda$ = 1')\n",
    "plt.plot(range(len(RRLambda2M10)),RRLambda2M10,label='$\\lambda$ =2')\n",
    "plt.plot(range(len(RRLambda5M10)),RRLambda5M10,label='$\\lambda$ = 5')\n",
    "plt.xticks(range(len(W1)),W1, size='small')\n",
    "plt.legend(bbox_to_anchor=(1.05, 1), loc=2, borderaxespad=0.)\n",
    "plt.show()"
   ]
  },
  {
   "cell_type": "code",
   "execution_count": null,
   "metadata": {
    "collapsed": true
   },
   "outputs": [],
   "source": []
  },
  {
   "cell_type": "markdown",
   "metadata": {},
   "source": [
    "Test 1"
   ]
  },
  {
   "cell_type": "code",
   "execution_count": 59,
   "metadata": {
    "collapsed": false
   },
   "outputs": [],
   "source": [
    "Train1_X = regressAData()[0]\n",
    "Train1_Y = regressAData()[1]\n",
    "Test1_X = regressBData()[0]\n",
    "Test1_Y = regressBData()[1]\n",
    "valid1_X =validateData()[0]\n",
    "valid1_Y = validateData()[1]"
   ]
  },
  {
   "cell_type": "code",
   "execution_count": null,
   "metadata": {
    "collapsed": false
   },
   "outputs": [],
   "source": []
  },
  {
   "cell_type": "code",
   "execution_count": null,
   "metadata": {
    "collapsed": false
   },
   "outputs": [],
   "source": []
  },
  {
   "cell_type": "code",
   "execution_count": 60,
   "metadata": {
    "collapsed": false
   },
   "outputs": [],
   "source": [
    "def LBFRidgeRegression(theta,X,y,lambda_shrinkage):\n",
    "    params = len(theta)\n",
    "    #print (m)\n",
    "    designMat = np.zeros((len(X),params))\n",
    "    for i in range(params):\n",
    "        #print([a**i for a in X])\n",
    "        designMat[:,i] = [a**i for a in X]\n",
    "        #designMatTemp[:,i] = [a**i for a in X]\n",
    "        designMat[:,i] = [j - np.mean(y) for j in designMat[:,i]] # Centering X's\n",
    "    \n",
    "    y = y.ravel() \n",
    "    yCentered = [j - np.mean(y) for j in y]  # Centering y's\n",
    "    \n",
    "    \n",
    "    fittedValues = np.dot(designMat,np.transpose(theta))\n",
    "    fittedDifference = [a - b for a, b in zip(fittedValues,yCentered)]\n",
    "    RSS = sum(a**2 for a in fittedDifference)+lambda_shrinkage*np.dot(theta,np.transpose(theta))\n",
    "    return(fittedValues,RSS)"
   ]
  },
  {
   "cell_type": "code",
   "execution_count": 61,
   "metadata": {
    "collapsed": false
   },
   "outputs": [],
   "source": [
    "# Lambdas to be tested are 0.1,0.5,1,2,3,5 and the M's are 1,3,5,10\n",
    "ridgeParam = ridgeRegression(valid1_X,valid1_Y,0.6,1)[0]\n",
    "\n",
    "#ridgeParam"
   ]
  },
  {
   "cell_type": "code",
   "execution_count": 62,
   "metadata": {
    "collapsed": false
   },
   "outputs": [
    {
     "data": {
      "text/plain": [
       "14.386760182846109"
      ]
     },
     "execution_count": 62,
     "metadata": {},
     "output_type": "execute_result"
    }
   ],
   "source": [
    "LBFRidgeRegression(ridgeParam,valid1_X,valid1_Y,1)[1]"
   ]
  },
  {
   "cell_type": "code",
   "execution_count": null,
   "metadata": {
    "collapsed": true
   },
   "outputs": [],
   "source": []
  },
  {
   "cell_type": "code",
   "execution_count": null,
   "metadata": {
    "collapsed": true
   },
   "outputs": [],
   "source": []
  },
  {
   "cell_type": "code",
   "execution_count": null,
   "metadata": {
    "collapsed": true
   },
   "outputs": [],
   "source": []
  },
  {
   "cell_type": "markdown",
   "metadata": {
    "collapsed": true
   },
   "source": [
    "M =  1"
   ]
  },
  {
   "cell_type": "code",
   "execution_count": 63,
   "metadata": {
    "collapsed": true
   },
   "outputs": [],
   "source": [
    "ridgeParamLambda0_1M1 = ridgeRegression(Train1_X,Train1_Y,0.1,1)[0]\n",
    "ridgeParamLambda0_5M1 = ridgeRegression(Train1_X,Train1_Y,0.5,1)[0]\n",
    "ridgeParamLambda1M1 = ridgeRegression(Train1_X,Train1_Y,1,1)[0]\n",
    "ridgeParamLambda2M1 = ridgeRegression(Train1_X,Train1_Y,2,1)[0]\n",
    "ridgeParamLambda5M1 = ridgeRegression(Train1_X,Train1_Y,5,1)[0]"
   ]
  },
  {
   "cell_type": "code",
   "execution_count": 64,
   "metadata": {
    "collapsed": false
   },
   "outputs": [],
   "source": [
    "errorLambda0_1M1 = LBFRidgeRegression(ridgeParamLambda0_1M1,valid1_X ,valid1_Y,0.1)[1]\n",
    "errorLambda0_5M1 = LBFRidgeRegression(ridgeParamLambda0_5M1,valid1_X ,valid1_Y,0.5)[1]\n",
    "errorLambda1M1 = LBFRidgeRegression(ridgeParamLambda1M1,valid1_X ,valid1_Y,1)[1]\n",
    "errorLambda2M1 = LBFRidgeRegression(ridgeParamLambda2M1,valid1_X ,valid1_Y,2)[1]\n",
    "errorLambda5M1 = LBFRidgeRegression(ridgeParamLambda5M1,valid1_X ,valid1_Y,5)[1]\n"
   ]
  },
  {
   "cell_type": "markdown",
   "metadata": {},
   "source": [
    "M = 3"
   ]
  },
  {
   "cell_type": "code",
   "execution_count": 65,
   "metadata": {
    "collapsed": true
   },
   "outputs": [],
   "source": [
    "ridgeParamLambda0_1M3 = ridgeRegression(Train1_X,Train1_Y,0.1,3)[0]\n",
    "ridgeParamLambda0_5M3 = ridgeRegression(Train1_X,Train1_Y,0.5,3)[0]\n",
    "ridgeParamLambda1M3 = ridgeRegression(Train1_X,Train1_Y,1,3)[0]\n",
    "ridgeParamLambda2M3 = ridgeRegression(Train1_X,Train1_Y,2,3)[0]\n",
    "ridgeParamLambda5M3 = ridgeRegression(Train1_X,Train1_Y,5,3)[0]"
   ]
  },
  {
   "cell_type": "code",
   "execution_count": 66,
   "metadata": {
    "collapsed": true
   },
   "outputs": [],
   "source": [
    "errorLambda0_1M3 = LBFRidgeRegression(ridgeParamLambda0_1M3,valid1_X ,valid1_Y,0.1)[1]\n",
    "errorLambda0_5M3 = LBFRidgeRegression(ridgeParamLambda0_5M3,valid1_X ,valid1_Y,0.5)[1]\n",
    "errorLambda1M3 = LBFRidgeRegression(ridgeParamLambda1M3,valid1_X ,valid1_Y,1)[1]\n",
    "errorLambda2M3 = LBFRidgeRegression(ridgeParamLambda2M3,valid1_X ,valid1_Y,2)[1]\n",
    "errorLambda5M3 = LBFRidgeRegression(ridgeParamLambda5M3,valid1_X ,valid1_Y,5)[1]"
   ]
  },
  {
   "cell_type": "markdown",
   "metadata": {},
   "source": [
    "M = 5"
   ]
  },
  {
   "cell_type": "code",
   "execution_count": 67,
   "metadata": {
    "collapsed": true
   },
   "outputs": [],
   "source": [
    "ridgeParamLambda0_1M5 = ridgeRegression(Train1_X,Train1_Y,0.1,5)[0]\n",
    "ridgeParamLambda0_5M5 = ridgeRegression(Train1_X,Train1_Y,0.5,5)[0]\n",
    "ridgeParamLambda1M5 = ridgeRegression(Train1_X,Train1_Y,1,5)[0]\n",
    "ridgeParamLambda2M5 = ridgeRegression(Train1_X,Train1_Y,2,5)[0]\n",
    "ridgeParamLambda5M5 = ridgeRegression(Train1_X,Train1_Y,5,5)[0]"
   ]
  },
  {
   "cell_type": "code",
   "execution_count": 68,
   "metadata": {
    "collapsed": true
   },
   "outputs": [],
   "source": [
    "errorLambda0_1M5 = LBFRidgeRegression(ridgeParamLambda0_1M5,valid1_X ,valid1_Y,0.1)[1]\n",
    "errorLambda0_5M5 = LBFRidgeRegression(ridgeParamLambda0_5M5,valid1_X ,valid1_Y,0.5)[1]\n",
    "errorLambda1M5 = LBFRidgeRegression(ridgeParamLambda1M5,valid1_X ,valid1_Y,1)[1]\n",
    "errorLambda2M5 = LBFRidgeRegression(ridgeParamLambda2M5,valid1_X ,valid1_Y,2)[1]\n",
    "errorLambda5M5 = LBFRidgeRegression(ridgeParamLambda5M5,valid1_X ,valid1_Y,5)[1]"
   ]
  },
  {
   "cell_type": "markdown",
   "metadata": {},
   "source": [
    "M = 10"
   ]
  },
  {
   "cell_type": "code",
   "execution_count": 69,
   "metadata": {
    "collapsed": true
   },
   "outputs": [],
   "source": [
    "ridgeParamLambda0_1M10 = ridgeRegression(Train1_X,Train1_Y,0.1,10)[0]\n",
    "ridgeParamLambda0_5M10 = ridgeRegression(Train1_X,Train1_Y,0.5,10)[0]\n",
    "ridgeParamLambda1M10 = ridgeRegression(Train1_X,Train1_Y,1,10)[0]\n",
    "ridgeParamLambda2M10 = ridgeRegression(Train1_X,Train1_Y,2,10)[0]\n",
    "ridgeParamLambda5M10 = ridgeRegression(Train1_X,Train1_Y,5,10)[0]"
   ]
  },
  {
   "cell_type": "code",
   "execution_count": 70,
   "metadata": {
    "collapsed": true
   },
   "outputs": [],
   "source": [
    "errorLambda0_1M10 = LBFRidgeRegression(ridgeParamLambda0_1M10,valid1_X ,valid1_Y,0.1)[1]\n",
    "errorLambda0_5M10 = LBFRidgeRegression(ridgeParamLambda0_5M10,valid1_X ,valid1_Y,0.5)[1]\n",
    "errorLambda1M10 = LBFRidgeRegression(ridgeParamLambda1M10,valid1_X ,valid1_Y,1)[1]\n",
    "errorLambda2M10 = LBFRidgeRegression(ridgeParamLambda2M10,valid1_X ,valid1_Y,2)[1]\n",
    "errorLambda5M10 = LBFRidgeRegression(ridgeParamLambda5M10,valid1_X ,valid1_Y,5)[1]"
   ]
  },
  {
   "cell_type": "code",
   "execution_count": 71,
   "metadata": {
    "collapsed": true
   },
   "outputs": [],
   "source": [
    "errorM1 = [errorLambda0_1M1,errorLambda0_5M1,errorLambda1M1,errorLambda2M1,errorLambda5M1]\n",
    "errorM3 = [errorLambda0_1M3,errorLambda0_5M3,errorLambda1M3,errorLambda2M3,errorLambda5M3]\n",
    "errorM5 = [errorLambda0_1M5,errorLambda0_5M5,errorLambda1M5,errorLambda2M5,errorLambda5M5]\n",
    "errorM10 = [errorLambda0_1M10,errorLambda0_5M10,errorLambda1M10,errorLambda2M10,errorLambda5M10]\n",
    "W1 = ['0.1','0.5','1','2','5']"
   ]
  },
  {
   "cell_type": "code",
   "execution_count": 75,
   "metadata": {
    "collapsed": false
   },
   "outputs": [
    {
     "data": {
      "image/png": "[encoded data removed]",
      "text/plain": [
       "<matplotlib.figure.Figure at 0x105c73f90>"
      ]
     },
     "metadata": {},
     "output_type": "display_data"
    }
   ],
   "source": [
    "# Adding label to the plot\n",
    "plt.plot(range(len(errorM1)),errorM1,label='M = 1')\n",
    "plt.plot(range(len(errorM3)),errorM3,label='M = 3')\n",
    "plt.plot(range(len(errorM5)),errorM5,label='M = 5')\n",
    "plt.plot(range(len(errorM10)),errorM10,label='M = 10')\n",
    "plt.xlabel('$\\lambda$')\n",
    "plt.ylabel('MSE')\n",
    "plt.title('MSE for various $\\lambda$ values \\n under different polynomical basis \\n (Validation set)')\n",
    "plt.xticks(range(len(W1)),W1, size='small')\n",
    "plt.legend(bbox_to_anchor=(1.05, 1), loc=2, borderaxespad=0.)\n",
    "pl.savefig('../ImageFiles/HW1/MSEValidationRR3.2.pdf')\n",
    "plt.show()"
   ]
  },
  {
   "cell_type": "code",
   "execution_count": null,
   "metadata": {
    "collapsed": true
   },
   "outputs": [],
   "source": []
  },
  {
   "cell_type": "markdown",
   "metadata": {},
   "source": [
    "# Test 2"
   ]
  },
  {
   "cell_type": "code",
   "execution_count": 76,
   "metadata": {
    "collapsed": true
   },
   "outputs": [],
   "source": [
    "Train1_X = regressBData()[0]\n",
    "Train1_Y = regressBData()[1]\n",
    "Test1_X = regressAData()[0]\n",
    "Test1_Y = regressAData()[1]"
   ]
  },
  {
   "cell_type": "markdown",
   "metadata": {
    "collapsed": true
   },
   "source": [
    "M =  1"
   ]
  },
  {
   "cell_type": "code",
   "execution_count": 77,
   "metadata": {
    "collapsed": true
   },
   "outputs": [],
   "source": [
    "ridgeParamLambda0_1M1 = ridgeRegression(Train1_X,Train1_Y,0.1,1)[0]\n",
    "ridgeParamLambda0_5M1 = ridgeRegression(Train1_X,Train1_Y,0.5,1)[0]\n",
    "ridgeParamLambda1M1 = ridgeRegression(Train1_X,Train1_Y,1,1)[0]\n",
    "ridgeParamLambda2M1 = ridgeRegression(Train1_X,Train1_Y,2,1)[0]\n",
    "ridgeParamLambda5M1 = ridgeRegression(Train1_X,Train1_Y,5,1)[0]"
   ]
  },
  {
   "cell_type": "code",
   "execution_count": 78,
   "metadata": {
    "collapsed": true
   },
   "outputs": [],
   "source": [
    "errorLambda0_1M1 = LBFRidgeRegression(ridgeParamLambda0_1M1,valid1_X ,valid1_Y,0.1)[1]\n",
    "errorLambda0_5M1 = LBFRidgeRegression(ridgeParamLambda0_5M1,valid1_X ,valid1_Y,0.5)[1]\n",
    "errorLambda1M1 = LBFRidgeRegression(ridgeParamLambda1M1,valid1_X ,valid1_Y,1)[1]\n",
    "errorLambda2M1 = LBFRidgeRegression(ridgeParamLambda2M1,valid1_X ,valid1_Y,2)[1]\n",
    "errorLambda5M1 = LBFRidgeRegression(ridgeParamLambda5M1,valid1_X ,valid1_Y,5)[1]\n"
   ]
  },
  {
   "cell_type": "markdown",
   "metadata": {},
   "source": [
    "M = 3"
   ]
  },
  {
   "cell_type": "code",
   "execution_count": 79,
   "metadata": {
    "collapsed": true
   },
   "outputs": [],
   "source": [
    "ridgeParamLambda0_1M3 = ridgeRegression(Train1_X,Train1_Y,0.1,3)[0]\n",
    "ridgeParamLambda0_5M3 = ridgeRegression(Train1_X,Train1_Y,0.5,3)[0]\n",
    "ridgeParamLambda1M3 = ridgeRegression(Train1_X,Train1_Y,1,3)[0]\n",
    "ridgeParamLambda2M3 = ridgeRegression(Train1_X,Train1_Y,2,3)[0]\n",
    "ridgeParamLambda5M3 = ridgeRegression(Train1_X,Train1_Y,5,3)[0]"
   ]
  },
  {
   "cell_type": "code",
   "execution_count": 80,
   "metadata": {
    "collapsed": true
   },
   "outputs": [],
   "source": [
    "errorLambda0_1M3 = LBFRidgeRegression(ridgeParamLambda0_1M3,valid1_X ,valid1_Y,0.1)[1]\n",
    "errorLambda0_5M3 = LBFRidgeRegression(ridgeParamLambda0_5M3,valid1_X ,valid1_Y,0.5)[1]\n",
    "errorLambda1M3 = LBFRidgeRegression(ridgeParamLambda1M3,valid1_X ,valid1_Y,1)[1]\n",
    "errorLambda2M3 = LBFRidgeRegression(ridgeParamLambda2M3,valid1_X ,valid1_Y,2)[1]\n",
    "errorLambda5M3 = LBFRidgeRegression(ridgeParamLambda5M3,valid1_X ,valid1_Y,5)[1]"
   ]
  },
  {
   "cell_type": "markdown",
   "metadata": {},
   "source": [
    "M = 5"
   ]
  },
  {
   "cell_type": "code",
   "execution_count": 81,
   "metadata": {
    "collapsed": true
   },
   "outputs": [],
   "source": [
    "ridgeParamLambda0_1M5 = ridgeRegression(Train1_X,Train1_Y,0.1,5)[0]\n",
    "ridgeParamLambda0_5M5 = ridgeRegression(Train1_X,Train1_Y,0.5,5)[0]\n",
    "ridgeParamLambda1M5 = ridgeRegression(Train1_X,Train1_Y,1,5)[0]\n",
    "ridgeParamLambda2M5 = ridgeRegression(Train1_X,Train1_Y,2,5)[0]\n",
    "ridgeParamLambda5M5 = ridgeRegression(Train1_X,Train1_Y,5,5)[0]"
   ]
  },
  {
   "cell_type": "code",
   "execution_count": 82,
   "metadata": {
    "collapsed": true
   },
   "outputs": [],
   "source": [
    "errorLambda0_1M5 = LBFRidgeRegression(ridgeParamLambda0_1M5,valid1_X ,valid1_Y,0.1)[1]\n",
    "errorLambda0_5M5 = LBFRidgeRegression(ridgeParamLambda0_5M5,valid1_X ,valid1_Y,0.5)[1]\n",
    "errorLambda1M5 = LBFRidgeRegression(ridgeParamLambda1M5,valid1_X ,valid1_Y,1)[1]\n",
    "errorLambda2M5 = LBFRidgeRegression(ridgeParamLambda2M5,valid1_X ,valid1_Y,2)[1]\n",
    "errorLambda5M5 = LBFRidgeRegression(ridgeParamLambda5M5,valid1_X ,valid1_Y,5)[1]"
   ]
  },
  {
   "cell_type": "markdown",
   "metadata": {},
   "source": [
    "M = 10"
   ]
  },
  {
   "cell_type": "code",
   "execution_count": 83,
   "metadata": {
    "collapsed": true
   },
   "outputs": [],
   "source": [
    "ridgeParamLambda0_1M10 = ridgeRegression(Train1_X,Train1_Y,0.1,10)[0]\n",
    "ridgeParamLambda0_5M10 = ridgeRegression(Train1_X,Train1_Y,0.5,10)[0]\n",
    "ridgeParamLambda1M10 = ridgeRegression(Train1_X,Train1_Y,1,10)[0]\n",
    "ridgeParamLambda2M10 = ridgeRegression(Train1_X,Train1_Y,2,10)[0]\n",
    "ridgeParamLambda5M10 = ridgeRegression(Train1_X,Train1_Y,5,10)[0]"
   ]
  },
  {
   "cell_type": "code",
   "execution_count": null,
   "metadata": {
    "collapsed": true
   },
   "outputs": [],
   "source": []
  },
  {
   "cell_type": "code",
   "execution_count": 84,
   "metadata": {
    "collapsed": true
   },
   "outputs": [],
   "source": [
    "errorLambda0_1M10 = LBFRidgeRegression(ridgeParamLambda0_1M10,valid1_X ,valid1_Y,0.1)[1]\n",
    "errorLambda0_5M10 = LBFRidgeRegression(ridgeParamLambda0_5M10,valid1_X ,valid1_Y,0.5)[1]\n",
    "errorLambda1M10 = LBFRidgeRegression(ridgeParamLambda1M10,valid1_X ,valid1_Y,1)[1]\n",
    "errorLambda2M10 = LBFRidgeRegression(ridgeParamLambda2M10,valid1_X ,valid1_Y,2)[1]\n",
    "errorLambda5M10 = LBFRidgeRegression(ridgeParamLambda5M10,valid1_X ,valid1_Y,5)[1]"
   ]
  },
  {
   "cell_type": "code",
   "execution_count": 85,
   "metadata": {
    "collapsed": true
   },
   "outputs": [],
   "source": [
    "errorM1 = [errorLambda0_1M1,errorLambda0_5M1,errorLambda1M1,errorLambda2M1,errorLambda5M1]\n",
    "errorM3 = [errorLambda0_1M3,errorLambda0_5M3,errorLambda1M3,errorLambda2M3,errorLambda5M3]\n",
    "errorM5 = [errorLambda0_1M5,errorLambda0_5M5,errorLambda1M5,errorLambda2M5,errorLambda5M5]\n",
    "errorM10 = [errorLambda0_1M10,errorLambda0_5M10,errorLambda1M10,errorLambda2M10,errorLambda5M10]\n",
    "W1 = ['0.1','0.5','1','2','5']"
   ]
  },
  {
   "cell_type": "code",
   "execution_count": 87,
   "metadata": {
    "collapsed": false
   },
   "outputs": [
    {
     "data": {
      "image/png": "[encoded data removed]",
      "text/plain": [
       "<matplotlib.figure.Figure at 0x105a35e10>"
      ]
     },
     "metadata": {},
     "output_type": "display_data"
    }
   ],
   "source": [
    "# Adding label to the plot\n",
    "plt.plot(range(len(errorM1)),errorM1,label='M = 1')\n",
    "plt.plot(range(len(errorM3)),errorM3,label='M = 3')\n",
    "plt.plot(range(len(errorM5)),errorM5,label='M = 5')\n",
    "plt.plot(range(len(errorM10)),errorM10,label='M = 10')\n",
    "plt.xlabel('$\\lambda$')\n",
    "plt.ylabel('MSE')\n",
    "plt.title('MSE for various $\\lambda$ values \\n under different polynomical basis \\n (Test set)')\n",
    "plt.xticks(range(len(W1)),W1, size='small')\n",
    "plt.legend(bbox_to_anchor=(1.05, 1), loc=2, borderaxespad=0.)\n",
    "#pl.savefig('../ImageFiles/HW1/PolyBasis0.pdf')\n",
    "pl.savefig('../ImageFiles/HW1/MSETestRR3.2.pdf')\n",
    "plt.show()"
   ]
  },
  {
   "cell_type": "markdown",
   "metadata": {},
   "source": [
    "# Question 4 (Sparsity and LASSO)"
   ]
  },
  {
   "cell_type": "code",
   "execution_count": 374,
   "metadata": {
    "collapsed": true
   },
   "outputs": [],
   "source": [
    "# Data for this question\n",
    "import pdb\n",
    "import random\n",
    "import pylab as pl\n",
    "\n",
    "# X is an array of N data points (one dimensional for now), that is, NX1\n",
    "# Y is a Nx1 column vector of data values\n",
    "\n",
    "def getData(name):\n",
    "    data = pl.loadtxt(name)\n",
    "    # Returns column matrices\n",
    "    X = data[0:1].T\n",
    "    Y = data[1:2].T\n",
    "    return X, Y\n",
    "\n",
    "def lassoTrainData():\n",
    "    return getData('../DataFiles/HW1/lasso_train.txt')\n",
    "\n",
    "def lassoValData():\n",
    "    return getData('../DataFiles/HW1/lasso_validate.txt')\n",
    "\n",
    "def lassoTestData():\n",
    "    return getData('../DataFiles/HW1/lasso_test.txt')\n"
   ]
  },
  {
   "cell_type": "code",
   "execution_count": 375,
   "metadata": {
    "collapsed": false
   },
   "outputs": [],
   "source": [
    "from sklearn import linear_model\n",
    "\n",
    "clf0_1 = linear_model.Lasso(alpha=0.1,fit_intercept=False) # alpha is the shrinkage parameter\n",
    "clf0_5 = linear_model.Lasso(alpha=0.5,fit_intercept=False)\n",
    "clf1 = linear_model.Lasso(alpha=1,fit_intercept=False)\n",
    "clf2 = linear_model.Lasso(alpha=2,fit_intercept=False)\n",
    "clf5 = linear_model.Lasso(alpha=5,fit_intercept=False)"
   ]
  },
  {
   "cell_type": "code",
   "execution_count": 376,
   "metadata": {
    "collapsed": false
   },
   "outputs": [],
   "source": [
    "def sineBasisFunction(X,y,n=13):\n",
    "    designMat = np.zeros((len(X),n))\n",
    "    designMat[:,0] = X.ravel()\n",
    "    for i in range(1,n):\n",
    "        #print([a**i for a in X])\n",
    "        designMat[:,i] = [np.sin(0.4*np.pi*a*i) for a in X]\n",
    "    return(designMat,y)"
   ]
  },
  {
   "cell_type": "code",
   "execution_count": 377,
   "metadata": {
    "collapsed": false
   },
   "outputs": [],
   "source": [
    "X = lassoTrainData()[0]\n",
    "y = lassoTrainData()[1]"
   ]
  },
  {
   "cell_type": "code",
   "execution_count": 378,
   "metadata": {
    "collapsed": false
   },
   "outputs": [],
   "source": [
    "designMat = sineBasisFunction(X,y,n=13)[0]\n",
    "outcome = sineBasisFunction(X,y,n=13)[1]"
   ]
  },
  {
   "cell_type": "code",
   "execution_count": 379,
   "metadata": {
    "collapsed": false
   },
   "outputs": [
    {
     "data": {
      "text/plain": [
       "array([ 0.        ,  0.        ,  5.49526681,  0.33802335,  0.        ,\n",
       "        1.12455954,  2.28295397,  0.        ,  0.        , -0.        ,\n",
       "       -0.        ,  0.        ,  0.        ])"
      ]
     },
     "execution_count": 379,
     "metadata": {},
     "output_type": "execute_result"
    }
   ],
   "source": [
    "clf0_1.fit(designMat, outcome)\n",
    "lambda0_1coeff = clf0_1.coef_\n",
    "lambda0_1coeff"
   ]
  },
  {
   "cell_type": "code",
   "execution_count": 380,
   "metadata": {
    "collapsed": false
   },
   "outputs": [
    {
     "data": {
      "text/plain": [
       "array([ 0.        ,  0.        ,  4.56610215,  0.76841601,  0.        ,\n",
       "        0.        ,  2.41591679,  0.        ,  0.        , -0.        ,\n",
       "       -0.        ,  0.        ,  0.        ])"
      ]
     },
     "execution_count": 380,
     "metadata": {},
     "output_type": "execute_result"
    }
   ],
   "source": [
    "clf0_5.fit(designMat, outcome)\n",
    "lambda0_5coeff = clf0_5.coef_\n",
    "lambda0_5coeff"
   ]
  },
  {
   "cell_type": "code",
   "execution_count": 381,
   "metadata": {
    "collapsed": false
   },
   "outputs": [
    {
     "data": {
      "text/plain": [
       "array([ 0.        ,  0.        ,  4.25260727,  0.02250036,  0.        ,\n",
       "        0.        ,  1.63404412,  0.        ,  0.        , -0.        ,\n",
       "       -0.        ,  0.        ,  0.        ])"
      ]
     },
     "execution_count": 381,
     "metadata": {},
     "output_type": "execute_result"
    }
   ],
   "source": [
    "clf1.fit(designMat, outcome)\n",
    "lambda1coeff = clf1.coef_\n",
    "lambda1coeff"
   ]
  },
  {
   "cell_type": "code",
   "execution_count": 382,
   "metadata": {
    "collapsed": false
   },
   "outputs": [
    {
     "data": {
      "text/plain": [
       "array([ 0.        ,  0.        ,  2.56819399,  0.        ,  0.        ,\n",
       "        0.        ,  0.1812299 ,  0.        ,  0.        , -0.        ,\n",
       "       -0.        ,  0.        ,  0.        ])"
      ]
     },
     "execution_count": 382,
     "metadata": {},
     "output_type": "execute_result"
    }
   ],
   "source": [
    "clf2.fit(designMat, outcome)\n",
    "lambda2coeff =clf2.coef_\n",
    "lambda2coeff"
   ]
  },
  {
   "cell_type": "code",
   "execution_count": 383,
   "metadata": {
    "collapsed": false
   },
   "outputs": [
    {
     "data": {
      "text/plain": [
       "array([ 0.,  0.,  0.,  0.,  0.,  0.,  0.,  0.,  0., -0.,  0.,  0.,  0.])"
      ]
     },
     "execution_count": 383,
     "metadata": {},
     "output_type": "execute_result"
    }
   ],
   "source": [
    "clf5.fit(designMat, outcome)\n",
    "lambda5coeff =clf5.coef_\n",
    "lambda5coeff"
   ]
  },
  {
   "cell_type": "code",
   "execution_count": null,
   "metadata": {
    "collapsed": true
   },
   "outputs": [],
   "source": []
  },
  {
   "cell_type": "markdown",
   "metadata": {},
   "source": [
    "## Using ridge regression on the same data"
   ]
  },
  {
   "cell_type": "code",
   "execution_count": 384,
   "metadata": {
    "collapsed": true
   },
   "outputs": [],
   "source": [
    "def ridgeRegressionGeneral(X,y,lambdaShrink):\n",
    "    designMat = X\n",
    "    m = X.shape[1]\n",
    "    y = y.ravel() \n",
    "    mle = np.inner(np.dot(np.linalg.inv(np.dot(np.transpose(designMat),designMat)+lambdaShrink*np.identity(m)),np.transpose(designMat)),y)\n",
    "    fittedValues = np.dot(designMat,np.transpose(mle))\n",
    "    return(mle,fittedValues)\n",
    "    "
   ]
  },
  {
   "cell_type": "code",
   "execution_count": 390,
   "metadata": {
    "collapsed": false
   },
   "outputs": [],
   "source": [
    "ridgeCoeff0_1 = ridgeRegressionGeneral(designMat,y,0.1)[0]"
   ]
  },
  {
   "cell_type": "code",
   "execution_count": 391,
   "metadata": {
    "collapsed": false
   },
   "outputs": [],
   "source": [
    "ridgeCoeff0_5 = ridgeRegressionGeneral(designMat,y,0.5)[0]"
   ]
  },
  {
   "cell_type": "code",
   "execution_count": 392,
   "metadata": {
    "collapsed": false
   },
   "outputs": [],
   "source": [
    "ridgeCoeff1 = ridgeRegressionGeneral(designMat,y,1)[0]"
   ]
  },
  {
   "cell_type": "code",
   "execution_count": 393,
   "metadata": {
    "collapsed": false
   },
   "outputs": [],
   "source": [
    "ridgeCoeff2 = ridgeRegressionGeneral(designMat,y,2)[0]"
   ]
  },
  {
   "cell_type": "code",
   "execution_count": 394,
   "metadata": {
    "collapsed": false
   },
   "outputs": [],
   "source": [
    "ridgeCoeff5 = ridgeRegressionGeneral(designMat,y,5)[0]"
   ]
  },
  {
   "cell_type": "markdown",
   "metadata": {},
   "source": [
    "# Validation"
   ]
  },
  {
   "cell_type": "code",
   "execution_count": null,
   "metadata": {
    "collapsed": true
   },
   "outputs": [],
   "source": []
  },
  {
   "cell_type": "code",
   "execution_count": 397,
   "metadata": {
    "collapsed": false
   },
   "outputs": [],
   "source": [
    "X = lassoValData()[0]\n",
    "y = lassoValData()[1]"
   ]
  },
  {
   "cell_type": "code",
   "execution_count": 398,
   "metadata": {
    "collapsed": false
   },
   "outputs": [],
   "source": [
    "designMat = sineBasisFunction(X,y,n=13)[0]\n",
    "outcome = sineBasisFunction(X,y,n=13)[1]\n"
   ]
  },
  {
   "cell_type": "code",
   "execution_count": 399,
   "metadata": {
    "collapsed": false
   },
   "outputs": [
    {
     "name": "stdout",
     "output_type": "stream",
     "text": [
      "[ 1.16429323]\n",
      "[ 0.52224939]\n"
     ]
    }
   ],
   "source": [
    "error = [a - b for a,b in zip(np.dot(designMat,lambda0_1coeff),y)]\n",
    "SSELassos0_1 = sum([a**2 for a in error])\n",
    "print SSELassos0_1\n",
    "error = [a - b for a,b in zip(np.dot(designMat,ridgeCoeff0_1),y)]\n",
    "SSERidge0_1 = sum([a**2 for a in error])\n",
    "print SSERidge0_1"
   ]
  },
  {
   "cell_type": "code",
   "execution_count": 400,
   "metadata": {
    "collapsed": false
   },
   "outputs": [
    {
     "name": "stdout",
     "output_type": "stream",
     "text": [
      "[ 8.18185929]\n",
      "[ 1.5720065]\n"
     ]
    }
   ],
   "source": [
    "error = [a - b for a,b in zip(np.dot(designMat,lambda0_5coeff),y)]\n",
    "SSELassos0_5 = sum([a**2 for a in error])\n",
    "print SSELassos0_5\n",
    "error = [a - b for a,b in zip(np.dot(designMat,ridgeCoeff0_5),y)]\n",
    "SSERidge0_5 = sum([a**2 for a in error])\n",
    "print SSERidge0_5"
   ]
  },
  {
   "cell_type": "code",
   "execution_count": 401,
   "metadata": {
    "collapsed": false
   },
   "outputs": [
    {
     "name": "stdout",
     "output_type": "stream",
     "text": [
      "[ 25.4071393]\n",
      "[ 4.03325155]\n"
     ]
    }
   ],
   "source": [
    "error = [a - b for a,b in zip(np.dot(designMat,lambda1coeff),y)]\n",
    "SSELassos1 = sum([a**2 for a in error])\n",
    "print SSELassos1\n",
    "error = [a - b for a,b in zip(np.dot(designMat,ridgeCoeff1),y)]\n",
    "SSERidge1 = sum([a**2 for a in error])\n",
    "print SSERidge1"
   ]
  },
  {
   "cell_type": "code",
   "execution_count": 404,
   "metadata": {
    "collapsed": false
   },
   "outputs": [
    {
     "name": "stdout",
     "output_type": "stream",
     "text": [
      "[ 83.28028138]\n",
      "[ 10.84256721]\n"
     ]
    }
   ],
   "source": [
    "error = [a - b for a,b in zip(np.dot(designMat,lambda2coeff),y)]\n",
    "SSELassos2 = sum([a**2 for a in error])\n",
    "print SSELassos2\n",
    "error = [a - b for a,b in zip(np.dot(designMat,ridgeCoeff2),y)]\n",
    "SSERidge2 = sum([a**2 for a in error])\n",
    "print SSERidge2"
   ]
  },
  {
   "cell_type": "code",
   "execution_count": 405,
   "metadata": {
    "collapsed": false
   },
   "outputs": [
    {
     "name": "stdout",
     "output_type": "stream",
     "text": [
      "[ 218.05906373]\n",
      "[ 34.73147143]\n"
     ]
    }
   ],
   "source": [
    "error = [a - b for a,b in zip(np.dot(designMat,lambda5coeff),y)]\n",
    "SSELassos5 = sum([a**2 for a in error])\n",
    "print SSELassos5\n",
    "error = [a - b for a,b in zip(np.dot(designMat,ridgeCoeff5),y)]\n",
    "SSERidge5 = sum([a**2 for a in error])\n",
    "print SSERidge5"
   ]
  },
  {
   "cell_type": "markdown",
   "metadata": {},
   "source": [
    "# Test"
   ]
  },
  {
   "cell_type": "code",
   "execution_count": 406,
   "metadata": {
    "collapsed": true
   },
   "outputs": [],
   "source": [
    "X = lassoTestData()[0]\n",
    "y = lassoTestData()[1]"
   ]
  },
  {
   "cell_type": "code",
   "execution_count": 407,
   "metadata": {
    "collapsed": true
   },
   "outputs": [],
   "source": [
    "designMat = sineBasisFunction(X,y,n=13)[0]\n",
    "outcome = sineBasisFunction(X,y,n=13)[1]"
   ]
  },
  {
   "cell_type": "code",
   "execution_count": 408,
   "metadata": {
    "collapsed": false
   },
   "outputs": [
    {
     "data": {
      "text/plain": [
       "Lasso(alpha=0.1, copy_X=True, fit_intercept=False, max_iter=1000,\n",
       "   normalize=False, positive=False, precompute=False, random_state=None,\n",
       "   selection='cyclic', tol=0.0001, warm_start=False)"
      ]
     },
     "execution_count": 408,
     "metadata": {},
     "output_type": "execute_result"
    }
   ],
   "source": [
    "clf0_1.fit(designMat, outcome)"
   ]
  },
  {
   "cell_type": "code",
   "execution_count": 409,
   "metadata": {
    "collapsed": false
   },
   "outputs": [
    {
     "data": {
      "text/plain": [
       "array([ 0.        ,  0.        ,  5.66461255,  0.17402743,  0.        ,\n",
       "        1.0518419 ,  2.2725577 ,  0.        ,  0.        ,  0.        ,\n",
       "        0.        ,  0.        , -0.        ])"
      ]
     },
     "execution_count": 409,
     "metadata": {},
     "output_type": "execute_result"
    }
   ],
   "source": [
    "clf0_1.coef_"
   ]
  },
  {
   "cell_type": "code",
   "execution_count": 410,
   "metadata": {
    "collapsed": false
   },
   "outputs": [
    {
     "data": {
      "text/plain": [
       "array([ 1.69196469,  1.82395841,  2.26368116,  1.48822701,  0.82330316,\n",
       "        1.00200703,  1.36977028,  0.98871651,  0.03481447, -0.43858023,\n",
       "       -0.01777008,  0.38609276, -0.32592539])"
      ]
     },
     "execution_count": 410,
     "metadata": {},
     "output_type": "execute_result"
    }
   ],
   "source": [
    "ridgeRegressionGeneral(designMat,y,0.1)[0]"
   ]
  },
  {
   "cell_type": "code",
   "execution_count": null,
   "metadata": {
    "collapsed": true
   },
   "outputs": [],
   "source": []
  }
 ],
 "metadata": {
  "kernelspec": {
   "display_name": "Python 2",
   "language": "python",
   "name": "python2"
  },
  "language_info": {
   "codemirror_mode": {
    "name": "ipython",
    "version": 2
   },
   "file_extension": ".py",
   "mimetype": "text/x-python",
   "name": "python",
   "nbconvert_exporter": "python",
   "pygments_lexer": "ipython2",
   "version": "2.7.11"
  }
 },
 "nbformat": 4,
 "nbformat_minor": 0
}
