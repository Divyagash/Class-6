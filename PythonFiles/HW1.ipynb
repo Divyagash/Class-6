{
 "cells": [
  {
   "cell_type": "markdown",
   "metadata": {},
   "source": [
    "# Question 1 Gradient Discent"
   ]
  },
  {
   "cell_type": "code",
   "execution_count": 5,
   "metadata": {
    "collapsed": true
   },
   "outputs": [],
   "source": [
    "import numpy as np\n",
    "import math\n",
    "import pylab as pl\n",
    "import random\n",
    "\n",
    "%matplotlib inline"
   ]
  },
  {
   "cell_type": "code",
   "execution_count": 6,
   "metadata": {
    "collapsed": true
   },
   "outputs": [],
   "source": [
    "def negativeGaussian(x,mu,Sigma):\n",
    "    detSigma = np.linalg.det(Sigma)\n",
    "    n = len(x)\n",
    "    NC = -((1/(np.sqrt(2*math.pi)**2)*detSigma)) # normalizing constant\n",
    "    normalizedX = [a - b for a, b in zip(x, mu)] \n",
    "    invSigma = np.linalg.inv(Sigma)\n",
    "    kernel = np.exp(-0.5*(np.inner(np.inner(normalizedX,invSigma),np.transpose(normalizedX))))\n",
    "    \n",
    "    value = -NC*kernel\n",
    "    \n",
    "    gradient = -value*np.inner(invSigma,normalizedX)\n",
    "    \n",
    "    return(value,gradient)\n",
    "    "
   ]
  },
  {
   "cell_type": "code",
   "execution_count": 7,
   "metadata": {
    "collapsed": true
   },
   "outputs": [],
   "source": [
    "def qBowl(x,b,A):\n",
    "    value = 0.5*np.inner(np.inner(np.transpose(x),A),x) - np.inner(np.transpose(x),b)\n",
    "    gradient = np.inner(A,x) - b\n",
    "    return (value,gradient)"
   ]
  },
  {
   "cell_type": "code",
   "execution_count": 8,
   "metadata": {
    "collapsed": false
   },
   "outputs": [],
   "source": [
    "a = [25,25]\n",
    "mu = [1,3.2]\n",
    "A = [[2,0.3],[0.4,3]]"
   ]
  },
  {
   "cell_type": "code",
   "execution_count": 9,
   "metadata": {
    "collapsed": false
   },
   "outputs": [
    {
     "data": {
      "text/plain": [
       "(1676.25, array([ 56.5,  81.8]))"
      ]
     },
     "execution_count": 9,
     "metadata": {},
     "output_type": "execute_result"
    }
   ],
   "source": [
    "qBowl(a,mu,A)"
   ]
  },
  {
   "cell_type": "code",
   "execution_count": null,
   "metadata": {
    "collapsed": false
   },
   "outputs": [],
   "source": []
  },
  {
   "cell_type": "code",
   "execution_count": 10,
   "metadata": {
    "collapsed": false
   },
   "outputs": [
    {
     "data": {
      "text/plain": [
       "1676.25"
      ]
     },
     "execution_count": 10,
     "metadata": {},
     "output_type": "execute_result"
    }
   ],
   "source": [
    "0.5*np.inner(np.inner(np.transpose(a),A),a) - np.inner(np.transpose(a),mu)"
   ]
  },
  {
   "cell_type": "code",
   "execution_count": 11,
   "metadata": {
    "collapsed": false
   },
   "outputs": [],
   "source": [
    "def batchGradientDiscent(function,initGuess,step,threshold,maxIter,*args):\n",
    "    gradientNorm = []\n",
    "    epsilon = 1\n",
    "    value = initGuess\n",
    "    iteration = 0\n",
    "    #while iteration > 1:\n",
    "    #if iteration < maxIter:\n",
    "    while epsilon > threshold and iteration < maxIter : \n",
    "       \n",
    "        output = function(initGuess,*args)\n",
    "        #print output\n",
    "        \n",
    "        gradient = output[1]\n",
    "        newValue = value - step * gradient #GDS equation\n",
    "        \n",
    "        evaluateOld = function(value,*args)[0] # function evaluated at old point\n",
    "        #print(evaluateOld)\n",
    "        evaluateNew = function(newValue,*args)[0]# function evaluated at new point\n",
    "        #print(evaluateNew)\n",
    "        epsilon = abs(evaluateNew - evaluateOld)\n",
    "        value = newValue\n",
    "        gradient= function(value,*args)[1]\n",
    "        gNorm = np.linalg.norm(gradient)\n",
    "        gradientNorm .append(gNorm)\n",
    "        print epsilon\n",
    "            \n",
    "\n",
    "        iteration+=1\n",
    "        print(iteration)\n",
    "          \n",
    "        \n",
    "        \n",
    "    return(gradientNorm)"
   ]
  },
  {
   "cell_type": "code",
   "execution_count": null,
   "metadata": {
    "collapsed": false
   },
   "outputs": [],
   "source": []
  },
  {
   "cell_type": "code",
   "execution_count": 12,
   "metadata": {
    "collapsed": false
   },
   "outputs": [],
   "source": [
    "# Loading the parameters\n",
    "def getData():\n",
    "\n",
    "    # load the parameters for the negative Gaussian function and quadratic bowl function\n",
    "    # return a tuple that contains parameters for Gaussian mean, Gaussian covariance,\n",
    "    # A and b for quadratic bowl in order\n",
    "\n",
    "    data = pl.loadtxt('../DataFiles/HW1/parametersp1.txt')\n",
    "\n",
    "    gaussMean = data[0,:]\n",
    "    gaussCov = data[1:3,:]\n",
    "\n",
    "    quadBowlA = data[3:5,:]\n",
    "    quadBowlb = data[5,:]\n",
    "\n",
    "    return (gaussMean,gaussCov,quadBowlA,quadBowlb) \n",
    "\n"
   ]
  },
  {
   "cell_type": "code",
   "execution_count": 13,
   "metadata": {
    "collapsed": false
   },
   "outputs": [],
   "source": [
    "gaussMean,gaussCov,quadBowlA,quadBowlb = getData()"
   ]
  },
  {
   "cell_type": "code",
   "execution_count": 14,
   "metadata": {
    "collapsed": false
   },
   "outputs": [
    {
     "data": {
      "text/plain": [
       "(-10625.0, array([-25., -25.]))"
      ]
     },
     "execution_count": 14,
     "metadata": {},
     "output_type": "execute_result"
    }
   ],
   "source": [
    "qBowl(a,quadBowlb,quadBowlA)"
   ]
  },
  {
   "cell_type": "code",
   "execution_count": 15,
   "metadata": {
    "collapsed": false
   },
   "outputs": [
    {
     "data": {
      "text/plain": [
       "array([ 400.,  400.])"
      ]
     },
     "execution_count": 15,
     "metadata": {},
     "output_type": "execute_result"
    }
   ],
   "source": [
    "quadBowlb"
   ]
  },
  {
   "cell_type": "code",
   "execution_count": 16,
   "metadata": {
    "collapsed": false
   },
   "outputs": [
    {
     "data": {
      "text/plain": [
       "array([ 26.66666667,  26.66666667])"
      ]
     },
     "execution_count": 16,
     "metadata": {},
     "output_type": "execute_result"
    }
   ],
   "source": [
    "np.inner(np.linalg.inv(quadBowlA),quadBowlb)"
   ]
  },
  {
   "cell_type": "code",
   "execution_count": 211,
   "metadata": {
    "collapsed": false
   },
   "outputs": [
    {
     "name": "stdout",
     "output_type": "stream",
     "text": [
      "35358.505416\n",
      "1\n",
      "45316.6173209\n",
      "2\n",
      "36446.4295462\n",
      "3\n",
      "21064.632288\n",
      "4\n",
      "9159.82977184\n",
      "5\n",
      "3060.79533518\n",
      "6\n",
      "795.005747386\n",
      "7\n",
      "161.615373185\n",
      "8\n",
      "25.8281979881\n",
      "9\n",
      "3.2546552102\n",
      "10\n",
      "0.324061714159\n",
      "11\n",
      "0.0255340935816\n",
      "12\n",
      "0.0015939254265\n",
      "13\n",
      "7.88920894695e-05\n",
      "14\n",
      "3.09807686636e-06\n",
      "15\n",
      "9.6572865315e-08\n",
      "16\n",
      "2.39047981131e-09\n",
      "17\n",
      "4.7001158677e-11\n",
      "18\n",
      "7.34216766292e-13\n",
      "19\n",
      "9.1140128913e-15\n",
      "20\n",
      "8.9913599767e-17\n",
      "21\n",
      "7.05049220509e-19\n",
      "22\n",
      "4.39470371397e-21\n",
      "23\n"
     ]
    },
    {
     "data": {
      "text/plain": [
       "[2917.0210066242635,\n",
       " 2848.4097399899583,\n",
       " 1899.2427880139996,\n",
       " 931.82567341155357,\n",
       " 346.8006574783667,\n",
       " 99.429589617843206,\n",
       " 22.156966595003993,\n",
       " 3.8592344609212286,\n",
       " 0.52737973207221989,\n",
       " 0.056692765775181071,\n",
       " 0.0048034589382572037,\n",
       " 0.00032124412909016444,\n",
       " 1.6976922248855268e-05,\n",
       " 7.0959370667599824e-07,\n",
       " 2.3474469691877673e-08,\n",
       " 6.1498988541811826e-10,\n",
       " 1.276536669750541e-11,\n",
       " 2.1002186670023338e-13,\n",
       " 2.7397271549355163e-15,\n",
       " 2.8345601700232616e-17,\n",
       " 2.3265157968361774e-19,\n",
       " 1.5151661879627787e-21,\n",
       " 7.8312038918676794e-24]"
      ]
     },
     "execution_count": 211,
     "metadata": {},
     "output_type": "execute_result"
    }
   ],
   "source": [
    "batchGradientDiscent(negativeGaussian,[20,10],0.01,1e-19,100,gaussMean,gaussCov)"
   ]
  },
  {
   "cell_type": "code",
   "execution_count": 193,
   "metadata": {
    "collapsed": false
   },
   "outputs": [
    {
     "name": "stdout",
     "output_type": "stream",
     "text": [
      "[[ 10.   5.]\n",
      " [  5.  10.]]\n",
      "[ 400.  400.]\n"
     ]
    }
   ],
   "source": [
    "print quadBowlA\n",
    "print quadBowlb"
   ]
  },
  {
   "cell_type": "code",
   "execution_count": 192,
   "metadata": {
    "collapsed": false
   },
   "outputs": [
    {
     "name": "stdout",
     "output_type": "stream",
     "text": [
      "[ 22.   3.]\n"
     ]
    },
    {
     "data": {
      "text/plain": [
       "-7205.0"
      ]
     },
     "execution_count": 192,
     "metadata": {},
     "output_type": "execute_result"
    }
   ],
   "source": [
    "A = qBowl([20,0],quadBowlb,quadBowlA)[0]\n",
    "B = qBowl([20,0],quadBowlb,quadBowlA)[1]\n",
    "C = B*0.01\n",
    "print [20,0] - C\n",
    "qBowl([22,3],quadBowlb,quadBowlA)[0]"
   ]
  },
  {
   "cell_type": "code",
   "execution_count": 199,
   "metadata": {
    "collapsed": false,
    "scrolled": false
   },
   "outputs": [
    {
     "name": "stdout",
     "output_type": "stream",
     "text": [
      "-10660.0\n",
      "-10660.1985\n",
      "0.198499999999\n",
      "1\n",
      "-10660.1985\n",
      "-10660.394\n",
      "0.195500000002\n",
      "2\n",
      "-10660.394\n",
      "-10660.5865\n",
      "0.192499999999\n",
      "3\n",
      "-10660.5865\n",
      "-10660.776\n",
      "0.189499999999\n",
      "4\n",
      "-10660.776\n",
      "-10660.9625\n",
      "0.186500000003\n",
      "5\n",
      "-10660.9625\n",
      "-10661.146\n",
      "0.183499999999\n",
      "6\n",
      "-10661.146\n",
      "-10661.3265\n",
      "0.180499999997\n",
      "7\n",
      "-10661.3265\n",
      "-10661.504\n",
      "0.177500000005\n",
      "8\n",
      "-10661.504\n",
      "-10661.6785\n",
      "0.174499999996\n",
      "9\n",
      "-10661.6785\n",
      "-10661.85\n",
      "0.1715\n",
      "10\n"
     ]
    },
    {
     "data": {
      "text/plain": [
       "[13.930003589374937,\n",
       " 13.717871555018926,\n",
       " 13.505739520662912,\n",
       " 13.2936074863069,\n",
       " 13.081475451950968,\n",
       " 12.869343417595037,\n",
       " 12.657211383238943,\n",
       " 12.445079348883011,\n",
       " 12.232947314526918,\n",
       " 12.020815280170986]"
      ]
     },
     "execution_count": 199,
     "metadata": {},
     "output_type": "execute_result"
    }
   ],
   "source": [
    "batchGradientDiscent(qBowl,[26,26],0.001,1e-1,10,quadBowlb,quadBowlA)"
   ]
  },
  {
   "cell_type": "markdown",
   "metadata": {
    "collapsed": false
   },
   "source": [
    "Quadratic bowl shows some very erratic behavior unless the startiing point is very clos\n",
    "and the threshold is relatively larger"
   ]
  },
  {
   "cell_type": "markdown",
   "metadata": {
    "collapsed": false
   },
   "source": [
    "## Question 2"
   ]
  },
  {
   "cell_type": "code",
   "execution_count": 439,
   "metadata": {
    "collapsed": true
   },
   "outputs": [],
   "source": [
    "def finiteDifference(function,sp,h,*args):\n",
    "\n",
    "    fdApprox = []\n",
    "    for i in range(len(sp)):\n",
    "        Lower = [float(j) for j in sp]\n",
    "        Higher = [float(j) for j in sp]\n",
    "        Lower[i] = Lower[i] - 0.5*h\n",
    "        #print Lower\n",
    "        Higher[i] = Higher[i] + 0.5*h\n",
    "        #print Lower\n",
    "        #print Higher\n",
    "        higherValue = function(Higher,*args)[0]\n",
    "        lowerValue = function(Lower,*args)[0]\n",
    "        print higherValue\n",
    "        print lowerValue\n",
    "        fdApprox.append((higherValue - lowerValue)/h)\n",
    "        #increment = [0.5*h + b for  b in sp]\n",
    "        #higherInput = [a + b for a, b in zip(sp, increment)] \n",
    "        #lowerInput = [a - b for a, b in zip(sp, increment)]\n",
    "        #higher = function( higherInput,*args)[0]\n",
    "        #lower = function(lowerInput,*args)[0]\n",
    "        #fdApprox = (higher - lower)/h\n",
    "    return(fdApprox)\n"
   ]
  },
  {
   "cell_type": "code",
   "execution_count": 440,
   "metadata": {
    "collapsed": false
   },
   "outputs": [
    {
     "name": "stdout",
     "output_type": "stream",
     "text": [
      "123098835.0\n",
      "126898835.0\n",
      "123123835.0\n",
      "126873835.0\n"
     ]
    },
    {
     "data": {
      "text/plain": [
       "[-380.0, -375.0]"
      ]
     },
     "execution_count": 440,
     "metadata": {},
     "output_type": "execute_result"
    }
   ],
   "source": [
    "finiteDifference(qBowl,[1,2],10000,quadBowlb,quadBowlA)"
   ]
  },
  {
   "cell_type": "code",
   "execution_count": 449,
   "metadata": {
    "collapsed": false
   },
   "outputs": [
    {
     "data": {
      "text/plain": [
       "(-1165.0, array([-380., -375.]))"
      ]
     },
     "execution_count": 449,
     "metadata": {},
     "output_type": "execute_result"
    }
   ],
   "source": [
    "qBowl([1,2],quadBowlb,quadBowlA)"
   ]
  },
  {
   "cell_type": "code",
   "execution_count": null,
   "metadata": {
    "collapsed": false
   },
   "outputs": [],
   "source": [
    "A = [32,23]\n",
    "A[1] = A[1]+23\n",
    "A\n",
    "[float(i) for i in A]"
   ]
  },
  {
   "cell_type": "code",
   "execution_count": null,
   "metadata": {
    "collapsed": false
   },
   "outputs": [],
   "source": [
    "A = [2,3]\n",
    "B = [23,4]\n",
    "[0.5 + b for  b in A] \n"
   ]
  },
  {
   "cell_type": "markdown",
   "metadata": {},
   "source": [
    "# # Data for SGD"
   ]
  },
  {
   "cell_type": "code",
   "execution_count": 170,
   "metadata": {
    "collapsed": false
   },
   "outputs": [],
   "source": [
    "# Loading the data\n",
    "\n",
    "def getData():\n",
    "    \n",
    "    # load the fitting data for X and y and return as elements of a tuple\n",
    "    # X is a 100 by 10 matrix and y is a vector of length 100\n",
    "    # Each corresponding row for X and y represents a single data sample\n",
    "\n",
    "    X = pl.loadtxt('../DataFiles/HW1/fittingdatap1_x.txt')\n",
    "    y = pl.loadtxt('../DataFiles/HW1/fittingdatap1_y.txt')\n",
    "\n",
    "    return (X,y) "
   ]
  },
  {
   "cell_type": "code",
   "execution_count": 171,
   "metadata": {
    "collapsed": false
   },
   "outputs": [],
   "source": [
    "X,y = getData()"
   ]
  },
  {
   "cell_type": "code",
   "execution_count": null,
   "metadata": {
    "collapsed": false
   },
   "outputs": [],
   "source": []
  },
  {
   "cell_type": "code",
   "execution_count": 259,
   "metadata": {
    "collapsed": false
   },
   "outputs": [],
   "source": [
    "A = np.dot(np.linalg.inv(np.dot(np.transpose(X),X)),np.transpose(X))"
   ]
  },
  {
   "cell_type": "code",
   "execution_count": 260,
   "metadata": {
    "collapsed": false
   },
   "outputs": [
    {
     "data": {
      "text/plain": [
       "array([  0.5032541 ,  -2.3367948 ,  -6.31670032,   6.81230107,\n",
       "        -1.06337989,   6.67469398,   3.4118044 ,  -0.45573592,\n",
       "       -12.94593466,  15.73289812])"
      ]
     },
     "execution_count": 260,
     "metadata": {},
     "output_type": "execute_result"
    }
   ],
   "source": [
    "sp = np.inner(A,y)\n",
    "sp"
   ]
  },
  {
   "cell_type": "markdown",
   "metadata": {},
   "source": [
    "Least Square function"
   ]
  },
  {
   "cell_type": "code",
   "execution_count": 261,
   "metadata": {
    "collapsed": false
   },
   "outputs": [],
   "source": [
    "def leastSquare(theta,X,y):\n",
    "    y = y.ravel()\n",
    "    intermediate = np.inner(X,theta) - y\n",
    "    value = np.inner(np.transpose(intermediate),intermediate)\n",
    "    gradient = 2*np.inner(np.transpose(X),intermediate)\n",
    "        \n",
    "    return(value,gradient)\n"
   ]
  },
  {
   "cell_type": "code",
   "execution_count": 262,
   "metadata": {
    "collapsed": false
   },
   "outputs": [],
   "source": [
    "theta = [1,2,3,4,-5,6,7,8,9,-10]"
   ]
  },
  {
   "cell_type": "code",
   "execution_count": 263,
   "metadata": {
    "collapsed": false
   },
   "outputs": [],
   "source": [
    "#leastSquare(sp,X[1,],y[1])[1]"
   ]
  },
  {
   "cell_type": "code",
   "execution_count": 264,
   "metadata": {
    "collapsed": false
   },
   "outputs": [
    {
     "name": "stdout",
     "output_type": "stream",
     "text": [
      "8.08898029578e-10\n",
      "[  7.22795585e-11   3.46213943e-11   7.47740492e-11  -3.55712868e-11\n",
      "   2.15244461e-11  -1.43022159e-10   8.23569515e-12   6.10197803e-11\n",
      "  -6.08653302e-10  -4.95850632e-10]\n"
     ]
    }
   ],
   "source": [
    "print np.linalg.norm((leastSquare(sp,X,y)[1]))\n",
    "print leastSquare(sp,X,y)[1]"
   ]
  },
  {
   "cell_type": "code",
   "execution_count": 265,
   "metadata": {
    "collapsed": false
   },
   "outputs": [
    {
     "data": {
      "text/plain": [
       "array([  0.5032541 ,  -2.3367948 ,  -6.31670032,   6.81230107,\n",
       "        -1.06337989,   6.67469398,   3.4118044 ,  -0.45573592,\n",
       "       -12.94593466,  15.73289812])"
      ]
     },
     "execution_count": 265,
     "metadata": {},
     "output_type": "execute_result"
    }
   ],
   "source": [
    "sp"
   ]
  },
  {
   "cell_type": "code",
   "execution_count": null,
   "metadata": {
    "collapsed": false
   },
   "outputs": [],
   "source": []
  },
  {
   "cell_type": "code",
   "execution_count": 266,
   "metadata": {
    "collapsed": false
   },
   "outputs": [
    {
     "name": "stdout",
     "output_type": "stream",
     "text": [
      "1.09139364213e-11\n",
      "1\n",
      "7.27595761418e-12\n",
      "2\n",
      "1.27329258248e-11\n",
      "3\n",
      "2.0008883439e-11\n",
      "4\n",
      "1.27329258248e-11\n",
      "5\n",
      "1.81898940355e-12\n",
      "6\n",
      "1.63709046319e-11\n",
      "7\n",
      "1.81898940355e-12\n",
      "8\n",
      "1.09139364213e-11\n",
      "9\n",
      "1.81898940355e-12\n",
      "10\n",
      "3.63797880709e-12\n",
      "11\n",
      "5.45696821064e-12\n",
      "12\n",
      "0.0\n",
      "13\n"
     ]
    },
    {
     "data": {
      "text/plain": [
       "[7.9660930842840948e-07,\n",
       " 1.594041477882827e-06,\n",
       " 2.3914663574340702e-06,\n",
       " 3.1888408460146198e-06,\n",
       " 3.9862837026355625e-06,\n",
       " 4.7837352369274375e-06,\n",
       " 5.5811240962023485e-06,\n",
       " 6.3785109611052526e-06,\n",
       " 7.1759815794085644e-06,\n",
       " 7.973326024409016e-06,\n",
       " 8.7707841814722048e-06,\n",
       " 9.5681764813319139e-06,\n",
       " 1.0365626566432998e-05]"
      ]
     },
     "execution_count": 266,
     "metadata": {},
     "output_type": "execute_result"
    }
   ],
   "source": [
    "batchGradientDiscent(leastSquare,sp,0.01,1e-19,36,X,y)"
   ]
  },
  {
   "cell_type": "code",
   "execution_count": null,
   "metadata": {
    "collapsed": false
   },
   "outputs": [],
   "source": []
  },
  {
   "cell_type": "markdown",
   "metadata": {
    "collapsed": false
   },
   "source": [
    "# Stochastic Gradient Discent"
   ]
  },
  {
   "cell_type": "code",
   "execution_count": 277,
   "metadata": {
    "collapsed": false
   },
   "outputs": [],
   "source": [
    "def stochasticGradientDiscent(X,Y,initGuess,threshold,maxIter,tau0,kappa):\n",
    "    gradientNorm = []\n",
    "    epsilon = 1\n",
    "    value = initGuess\n",
    "    iteration = 0\n",
    "\n",
    "    n = X.shape[0]\n",
    "    indTheta = initGuess\n",
    "    k = kappa\n",
    "    steps = 0\n",
    "    \n",
    "    while epsilon > threshold :\n",
    "        for j in range(maxIter):\n",
    "            for i in range(n):\n",
    "            \n",
    "                indX = X[i,]\n",
    "                print indX\n",
    "                indY = Y[i]\n",
    "                y = indY.ravel()\n",
    "                intermediate = np.inner(indX,indTheta) - y\n",
    "                print intermediate\n",
    "                #print intermediate\n",
    "                value = np.inner(np.transpose(intermediate),intermediate)\n",
    "                gradient = 2*np.transpose(indX)*intermediate\n",
    "                #value = (np.inner(np.transpose(indX),indTheta) - indY)**2\n",
    "                #print(value)\n",
    "                print gradient\n",
    "                #gradient = 2*(np.inner(np.transpose(indX),indTheta) - indY)*indX\n",
    "                #print(np.linalg.norm(gradient))\n",
    "                #print tau0\n",
    "                etaT = (1./(tau0+steps))**k\n",
    "                #print etaT\n",
    "                newTheta = indTheta - etaT*gradient\n",
    "                newIntermediate = np.inner(indX,newTheta) - y\n",
    "                \n",
    "                newValue = np.inner(np.transpose(newIntermediate),newIntermediate)\n",
    "                #print(newValue)\n",
    "                epsilon = abs(newValue - value)\n",
    "                #epsilon = np.linalg.norm(gradient)\n",
    "                #print(epsilon)\n",
    "                #print(newTheta)\n",
    "                #print(indTheta)\n",
    "                steps=+1            \n",
    "                indTheta = newTheta\n",
    "                #print(indTheta)\n",
    "                \n",
    "        #return(indTheta)"
   ]
  },
  {
   "cell_type": "code",
   "execution_count": 278,
   "metadata": {
    "collapsed": false
   },
   "outputs": [
    {
     "data": {
      "text/plain": [
       "array([  0.5032541 ,  -2.3367948 ,  -6.31670032,   6.81230107,\n",
       "        -1.06337989,   6.67469398,   3.4118044 ,  -0.45573592,\n",
       "       -12.94593466,  15.73289812])"
      ]
     },
     "execution_count": 278,
     "metadata": {},
     "output_type": "execute_result"
    }
   ],
   "source": [
    "sp\n"
   ]
  },
  {
   "cell_type": "code",
   "execution_count": 279,
   "metadata": {
    "collapsed": false
   },
   "outputs": [
    {
     "name": "stdout",
     "output_type": "stream",
     "text": [
      "[ -0.1472   0.4902 -22.6757  14.7657  10.7925 -17.3419  -7.5815 -16.5327\n",
      "  -6.7174   2.7522]\n",
      "[ 5.4970704]\n",
      "[  -1.61833753    5.38932782 -249.29983863  162.33618487  118.65426463\n",
      " -190.65929041  -83.35207851 -181.76283167  -73.85204144   30.25807432]\n",
      "[ -2.66000000e-02  -3.50944000e+01  -3.24594000e+01   4.04050000e+00\n",
      "  -2.68454000e+01  -1.55490000e+01   1.36408000e+01  -5.82570000e+00\n",
      "  -1.99688000e+01   2.02079000e+01]\n",
      "[-6384.59926778]\n",
      "[  3.39660681e+02   4.48127361e+05   4.14480523e+05  -5.15939467e+04\n",
      "   3.42794242e+05   1.98548268e+05  -1.74182083e+05   7.43895199e+04\n",
      "   2.54985572e+05  -2.58038687e+05]\n",
      "[  8.571   28.3335  -0.26    16.7877   7.9738  25.0168 -16.2684  64.9319\n",
      "  37.4096   4.1401]\n",
      "[-16472579.71758101]\n",
      "[ -2.82372962e+08  -9.33451675e+08   8.56574145e+06  -5.53073453e+08\n",
      "  -2.62698112e+08  -8.24182465e+08   5.35965032e+08  -2.13919180e+09\n",
      "  -1.23246524e+09  -1.36396255e+08]\n",
      "[ -9.3365  14.6148  15.3803  -8.95    13.3843  11.7449  -0.2259  43.7849\n",
      " -21.8766  -2.062 ]\n",
      "[  3.96925950e+10]\n",
      "[ -7.41179826e+11   1.16019867e+12   1.22096804e+12  -7.10497450e+11\n",
      "   1.06251520e+12   9.32371118e+11  -1.79331144e+10   3.47587260e+12\n",
      "  -1.73667805e+12  -1.63692262e+11]\n",
      "[-10.7327 -10.507  -10.8115 -22.9077  -6.4328  -5.8671 -16.5026 -18.7209\n",
      " -24.127   -3.9035]\n",
      "[  1.65027897e+13]\n",
      "[ -3.54238981e+14  -3.46789622e+14  -3.56839821e+14  -7.56081910e+14\n",
      "  -2.12318291e+14  -1.93647035e+14  -5.44677874e+14  -6.17894150e+14\n",
      "  -7.96325613e+14  -1.28837279e+14]\n",
      "[ -4.4719 -46.5036   7.6445  15.1053  25.4699  -4.865    2.9459  -4.1135\n",
      " -29.0937  -2.7148]\n",
      "[ -1.09186817e+16]\n",
      "[  9.76545056e+16   1.01551601e+18  -1.66935725e+17  -3.29859926e+17\n",
      "  -5.56195463e+17   1.06238773e+17  -6.43306890e+16   8.98279945e+16\n",
      "   6.35329701e+17   5.92840743e+16]\n",
      "[-31.5907  -8.6258   3.3545 -33.8597 -23.3012  23.1032  -3.6703 -26.8821\n",
      "   9.5488  15.7059]\n",
      "[ -8.82707015e+18]\n",
      "[  5.57706650e+20   1.52281083e+20  -5.92208136e+19   5.97763894e+20\n",
      "   4.11362654e+20  -4.07867134e+20   6.47959911e+19   4.74580365e+20\n",
      "  -1.68575855e+20  -2.77274162e+20]\n",
      "[  1.5474   1.0597  44.9113 -21.3187   4.3058   8.9414  -2.5855  16.7395\n",
      "   7.9103  36.3242]\n",
      "[  9.21129113e+21]\n",
      "[  2.85071038e+22   1.95224104e+22   8.27382118e+23  -3.92745504e+23\n",
      "   7.93239547e+22   1.64723677e+23  -4.76315864e+22   3.08384816e+23\n",
      "   1.45728152e+23   6.69185562e+23]\n",
      "[ 15.8642  13.2978  23.4792  -3.0947 -31.6854  21.0299  -3.5458 -21.0792\n",
      "   0.2551   1.0437]\n",
      "[ -7.73229475e+24]\n",
      "[ -2.45333341e+26  -2.05645018e+26  -3.63096190e+26   4.78582651e+25\n",
      "   4.90001704e+26  -3.25218771e+26   5.48343414e+25   3.25981175e+26\n",
      "  -3.94501678e+24  -1.61403921e+25]\n",
      "[  3.2995 -10.9985 -23.5779 -15.0493  -8.052   28.2452  -7.4406  28.9882\n",
      "  11.7649 -20.7264]\n",
      "[ -2.53927449e+27]\n",
      "[ -1.67566723e+28   5.58564209e+28   1.19741520e+29   7.64286071e+28\n",
      "   4.08924764e+28  -1.43444632e+29   3.77874515e+28  -1.47217993e+29\n",
      "  -5.97486209e+28   1.05260038e+29]\n",
      "[-18.4983   9.4069  -2.6034  -3.4082  12.6569   3.3046 -22.4033  17.6025\n",
      "   5.845    0.7365]\n",
      "[  1.57111542e+30]\n",
      "[ -5.81259286e+31   2.95586512e+31  -8.18048375e+30  -1.07093511e+31\n",
      "   3.97709014e+31   1.03838160e+31  -7.03963400e+31   5.53111183e+31\n",
      "   1.83663392e+31   2.31425301e+30]\n",
      "[ 19.0389   5.3023  -5.9238  15.4751  25.8458 -25.7346  22.7435  28.3442\n",
      "  14.5639   7.7247]\n",
      "[  2.43765627e+31]\n",
      "[  9.28205878e+32   2.58503697e+32  -2.88803764e+32   7.54459490e+32\n",
      "   1.26006353e+33  -1.25464218e+33   1.10881671e+33   1.38186834e+33\n",
      "   7.10035642e+32   3.76603267e+32]\n",
      "[-25.0551  14.5814 -13.73   -29.1604 -22.6408  14.6638  -7.1236  -6.1265\n",
      "  18.3277  18.9266]\n",
      "[  3.64141350e+34]\n",
      "[ -1.82471959e+36   1.06193814e+36  -9.99932146e+35  -2.12370148e+36\n",
      "  -1.64889029e+36   1.06793918e+36  -5.18799464e+35  -4.46182396e+35\n",
      "   1.33477468e+36   1.37839153e+36]\n",
      "[ 29.4529   6.8328   3.1376  -5.0836   5.7405  -8.2359  -5.9844  15.5493\n",
      " -25.9217   7.2692]\n",
      "[  3.96084118e+37]\n",
      "[  2.33316518e+39   5.41272712e+38   2.48550706e+38  -4.02706645e+38\n",
      "   4.54744176e+38  -6.52421838e+38  -4.74065159e+38   1.23176616e+39\n",
      "  -2.05343474e+39   5.75842934e+38]\n",
      "[  5.5905  -8.3338   9.5388   2.9695  -2.2383 -32.8456   3.7058  -2.1239\n",
      "  44.0008  29.1156]\n",
      "[  2.21576749e+40]\n",
      "[  2.47744963e+41  -3.69315262e+41   4.22715259e+41   1.31594431e+41\n",
      "  -9.91910474e+40  -1.45556425e+42   1.64223823e+41  -9.41213714e+40\n",
      "   1.94991084e+42   1.29026800e+42]\n",
      "[-24.9922  -2.3515  62.801   19.7341  31.4644 -20.1571  22.8596 -33.5565\n",
      " -12.0289  24.7915]\n",
      "[ -3.03321092e+43]\n",
      "[  1.51613228e+45   1.42651910e+44  -3.80977358e+45  -1.19715375e+45\n",
      "  -1.90876323e+45   1.22281472e+45  -1.38675977e+45   2.03567884e+45\n",
      "   7.29723816e+44  -1.50395697e+45]\n",
      "[-11.7986 -28.2762   6.6061 -12.0846 -11.0244   6.3332  14.3626  -3.3107\n",
      "  19.2385   2.7145]\n",
      "[  9.49715612e+45]\n",
      "[ -2.24106292e+47  -5.37086972e+47   1.25478326e+47  -2.29538666e+47\n",
      "  -2.09400896e+47   1.20294778e+47   2.72807709e+47  -6.28844695e+46\n",
      "   3.65422076e+47   5.15600606e+46]\n",
      "[ 10.3948  25.0691 -19.7922   5.744   -0.0654 -30.0534  14.8459  -4.188\n",
      "  14.6072 -12.8035]\n",
      "[  6.55994722e+48]\n",
      "[  1.36378679e+50   3.28903946e+50  -2.59671575e+50   7.53606736e+49\n",
      "  -8.58041096e+47  -3.94297435e+50   1.94776641e+50  -5.49461179e+49\n",
      "   1.91644922e+50  -1.67980568e+50]\n",
      "[ 18.4158 -28.1025  -7.5667  12.2992 -27.5615  10.6595 -13.3807  -3.1319\n",
      " -43.443  -35.8188]\n",
      "[  5.91789131e+51]\n",
      "[  2.17965406e+53  -3.32615081e+53  -8.95578164e+52   1.45570658e+53\n",
      "  -3.26211923e+53   1.26163525e+53  -1.58371057e+53  -3.70684876e+52\n",
      "  -5.14181905e+53  -4.23943531e+53]\n",
      "[-11.1143 -16.5129  16.7175  21.8368  46.1543  14.9561   1.8915   5.5027\n",
      "  -7.0192 -35.6376]\n",
      "[ -4.53517926e+54]\n",
      "[  1.00810686e+56   1.49777923e+56  -1.51633719e+56  -1.98067605e+56\n",
      "  -4.18636048e+56  -1.35657189e+56  -1.71565831e+55  -4.99114618e+55\n",
      "   6.36666605e+55   3.23245809e+56]\n",
      "[ -1.9328 -19.6591 -22.7691  19.5841  11.3725 -10.6701  20.7965   4.999\n",
      "  -6.9918 -24.5481]\n",
      "[  7.34554383e+57]\n",
      "[ -2.83949342e+58  -2.88813561e+59  -3.34502844e+59   2.87711730e+59\n",
      "   1.67074394e+59  -1.56755374e+59   3.05523204e+59   7.34407472e+58\n",
      "  -1.02717147e+59  -3.60638289e+59]\n",
      "[-34.0289 -32.6618  -3.6488  -0.5755  -0.6418   0.178    8.9158  -9.976\n",
      " -21.2482  20.8566]\n",
      "[ -3.69369733e+60]\n",
      "[  2.51384914e+62   2.41285607e+62   2.69551257e+61   4.25144563e+60\n",
      "   4.74122990e+60  -1.31495625e+60  -6.58645334e+61   7.36966492e+61\n",
      "   1.56968839e+62  -1.54075936e+62]\n",
      "[ -8.4632 -10.797   15.6954  25.6013 -15.5956 -21.2952  12.7661  -4.834\n",
      "   6.0825  -0.1423]\n",
      "[  2.06608304e+63]\n",
      "[ -3.49713479e+64  -4.46149971e+64   6.48559994e+64   1.05788823e+65\n",
      "  -6.44436093e+64  -8.79953030e+64   5.27516453e+64  -1.99748908e+64\n",
      "   2.51339002e+64  -5.88007233e+62]\n",
      "[ 12.6132 -19.1098  -3.0308  25.0993   4.1901   2.2022  -5.7055  11.7803\n",
      " -34.5866 -22.0603]\n",
      "[ -4.68823163e+65]\n",
      "[ -1.18267206e+67   1.79182338e+67   2.84181849e+66  -2.35342664e+67\n",
      "  -3.92883187e+66  -2.06488474e+66   5.34974111e+66  -1.10457550e+67\n",
      "   3.24299984e+67   2.06847593e+67]\n",
      "[ -6.7514  23.4242  13.4867 -16.8151  27.3124  12.9152 -14.5113  16.1135\n",
      " -11.9779  20.816 ]\n",
      "[ -2.68880416e+68]\n",
      "[  3.63063849e+69  -1.25966173e+70  -7.25261902e+69   9.04250218e+69\n",
      "  -1.46875390e+70  -6.94528871e+69   7.80360877e+69  -8.66520918e+69\n",
      "   6.44124548e+69  -1.11940295e+70]\n",
      "[ 12.1906   2.3199 -14.4425   6.0517   8.866  -27.4363 -31.0784  27.8689\n",
      " -26.2022   7.7405]\n",
      "[  2.34524816e+71]\n",
      "[  5.71799644e+72   1.08814824e+72  -6.77424931e+72   2.83854766e+72\n",
      "   4.15859403e+72  -1.28689864e+73  -1.45773121e+73   1.30718973e+73\n",
      "  -1.22901323e+73   3.63067867e+72]\n",
      "[-13.1901 -19.1794  -6.4919  15.862   -7.6614  12.3598  25.4618 -40.8654\n",
      "  47.314  -31.3772]\n",
      "[  8.33007683e+74]\n",
      "[ -2.19749093e+76  -3.19531751e+76  -1.08156052e+76   2.64263357e+76\n",
      "  -1.27640101e+76   2.05916167e+76   4.24197500e+76  -6.80823843e+76\n",
      "   7.88258510e+76  -5.22748973e+76]\n",
      "[ -5.0959  17.0189 -31.7935  -0.9906  12.438   32.8539  32.669  -18.7553\n",
      " -25.3487  32.7133]\n",
      "[  2.97702442e+77]\n",
      "[ -3.03412375e+78   1.01331362e+79  -1.89300052e+79  -5.89808078e+77\n",
      "   7.40564594e+78   1.95613725e+79   1.94512821e+79  -1.11669972e+79\n",
      "  -1.50927398e+79   1.94776586e+79]\n",
      "[  9.2063 -22.9092   3.91    27.7423  33.9663  36.1865  -3.7977  -0.7703\n",
      "  24.6828 -26.3494]\n",
      "[  1.56340917e+80]\n",
      "[  2.87864277e+81  -7.16329068e+81   1.22258597e+81   8.67451325e+81\n",
      "   1.06206450e+82   1.13148612e+82  -1.18747180e+81  -2.40858817e+80\n",
      "   7.71786318e+81  -8.23897872e+81]\n",
      "[ 32.3884   5.6625  20.8711   5.5901 -19.1434   5.2206 -11.3936  21.0453\n",
      "  22.1101 -15.4121]\n",
      "[ -1.32990541e+83]\n",
      "[ -8.61470166e+84  -1.50611787e+84  -5.55131775e+84  -1.48686084e+84\n",
      "   5.09178224e+84  -1.38858083e+84   3.03048205e+84  -5.59765166e+84\n",
      "  -5.88086831e+84   4.09932703e+84]\n",
      "[ 23.1785   6.1134   5.4018 -28.3533  17.5305  13.2623   3.4129 -15.7877\n",
      "  33.4208 -31.2812]\n",
      "[  1.62810443e+86]\n",
      "[  7.54740372e+87   1.99065073e+87   1.75893890e+87  -9.23242668e+87\n",
      "   5.70829695e+87   4.31848188e+87   1.11131152e+87  -5.14080487e+87\n",
      "   1.08825105e+88  -1.01858121e+88]\n",
      "[ 24.3203 -43.5968  22.6947  14.8406   2.2047 -15.2598  -1.4521 -13.5951\n",
      "  34.1597  12.741 ]\n",
      "[ -1.18769297e+89]\n",
      "[ -5.77700986e+90   1.03559226e+91  -5.39086712e+90  -3.52521525e+90\n",
      "  -5.23701337e+89   3.62479143e+90   3.44929792e+89   3.22936093e+90\n",
      "  -8.11424709e+90  -3.02647922e+90]\n",
      "[  2.9338  -3.4749 -11.4208   9.101  -23.435  -14.2621 -11.6979  34.4293\n",
      "  11.2631 -30.2702]\n",
      "[ -2.06022524e+91]\n",
      "[ -1.20885776e+92   1.43181534e+92   4.70588409e+92  -3.75002199e+92\n",
      "   9.65627572e+92   5.87662769e+92   4.82006177e+92  -1.41864226e+93\n",
      "  -4.64090459e+92   1.24726860e+93]\n",
      "[ -9.9815  20.5271   0.382   19.8001  -3.4895  15.0813   0.7937 -14.3669\n",
      "  -5.0237   3.3892]\n",
      "[ -1.38832191e+94]\n",
      "[  2.77150703e+95  -5.69964454e+95  -1.06067794e+94  -5.49778253e+95\n",
      "   9.68909861e+94  -4.18753984e+95  -2.20382220e+94   3.98917641e+95\n",
      "   1.39490256e+95  -9.41060123e+94]\n",
      "[-32.9605  -3.8418  18.5226 -12.8737 -25.3828   4.614    6.1809 -21.5025\n",
      " -37.6592   1.2791]\n",
      "[  8.57171476e+96]\n",
      "[ -5.65056009e+98  -6.58616275e+97   3.17540888e+98  -2.20699369e+98\n",
      "  -4.35148243e+98   7.90997838e+97   1.05961823e+98  -3.68626593e+98\n",
      "  -6.45607841e+98   2.19281607e+97]\n",
      "[ 18.5769 -21.1732 -33.506   13.3651 -41.3335 -36.8943  19.2469  -7.5463\n",
      "   3.3933  12.8176]\n",
      "[  2.17588317e+99]\n",
      "[  8.08423281e+100  -9.21408190e+100  -1.45810283e+101   5.81617923e+100\n",
      "  -1.79873734e+101  -1.60555373e+101   8.37580115e+100  -3.28397343e+100\n",
      "   1.47668487e+100   5.57792002e+100]\n",
      "[-61.2762  13.2878   3.06   -17.7629   7.5828  18.5252 -17.7492 -10.0349\n",
      "  33.3001  30.4178]\n",
      "[  5.07331418e+102]\n",
      "[ -6.21746829e+104   1.34826368e+104   3.10486828e+103  -1.80233545e+104\n",
      "   7.69398536e+103   1.87968320e+104  -1.80094536e+104  -1.01820401e+104\n",
      "   3.37883739e+104   3.08638112e+104]\n",
      "[ -7.65600000e-01  -2.53261000e+01  -2.67388000e+01  -8.66470000e+00\n",
      "   9.24850000e+00  -1.74092000e+01  -1.09000000e-02   2.05830000e+00\n",
      "  -3.05038000e+01   3.97945000e+01]\n",
      "[  1.38654022e+105]\n",
      "[ -2.12307038e+105  -7.02313123e+106  -7.41488431e+106  -2.40279100e+106\n",
      "   2.56468344e+106  -4.82771119e+106  -3.02265767e+103   5.70783145e+105\n",
      "  -8.45894909e+106   1.10353349e+107]\n",
      "[-26.0501 -26.0863  21.1318  -3.8901   7.4859   3.2473  16.0506 -10.0276\n",
      "  -6.2139 -21.809 ]\n",
      "[  6.88286751e+107]\n",
      "[ -3.58598774e+109  -3.59097093e+109   2.90894759e+109  -5.35500858e+108\n",
      "   1.03048916e+109   4.47014713e+108   2.20948306e+109  -1.38037284e+109\n",
      "  -8.55389008e+108  -3.00216915e+109]\n",
      "[-25.0414 -14.7842   4.3947   9.1447   5.6376   6.1694 -19.8472 -14.652\n",
      "   8.0066  16.6758]\n",
      "[ -3.65917038e+110]\n",
      "[  1.83261498e+112   1.08195814e+112  -3.21619122e+111  -6.69240308e+111\n",
      "  -4.12578779e+111  -4.51497715e+111   1.45248573e+112   1.07228329e+112\n",
      "  -5.85950272e+111  -1.22039187e+112]\n",
      "[ -3.3582  -6.0865  -5.9929 -41.6381  -2.7304  -8.5279   3.6794  -6.5449\n",
      "   4.6136 -38.3927]\n",
      "[ -2.99712253e+113]\n",
      "[  2.01298738e+114   3.64839726e+114   3.59229113e+114   2.49588976e+115\n",
      "   1.63666867e+114   5.11183225e+114  -2.20552253e+114   3.92317345e+114\n",
      "  -2.76550490e+114   2.30135253e+115]\n",
      "[  1.3857  34.6009 -13.0832 -39.8021  -8.6193 -24.1405   5.9904  11.2607\n",
      " -29.8875  28.6276]\n",
      "[  1.27717143e+116]\n",
      "[  3.53955289e+116   8.83825616e+117  -3.34189784e+117  -1.01668210e+118\n",
      "  -2.20166474e+117  -6.16631136e+117   1.53015354e+117   2.87636886e+117\n",
      "  -7.63429220e+117   7.31247055e+117]\n",
      "[ 35.1462   6.8779  -3.748   24.9136  19.5013  16.8711  -5.7906  -4.3698\n",
      "  -7.183   23.4043]\n",
      "[  5.03220905e+118]\n",
      "[  3.53726052e+120   6.92220613e+119  -3.77214391e+119   2.50740887e+120\n",
      "   1.96269237e+120   1.69797804e+120  -5.82790195e+119  -4.39794942e+119\n",
      "  -7.22927153e+119   2.35550661e+120]\n",
      "[ 37.5784   5.2141  12.8222  -4.544   30.6088 -16.9076  -2.9396   5.6606\n",
      " -40.1729 -30.8285]\n",
      "[ -4.98276154e+121]\n",
      "[ -3.74488413e+123  -5.19612339e+122  -1.27779930e+123   4.52833369e+122\n",
      "  -3.05032703e+123   1.68493078e+123   2.92946517e+122  -5.64108400e+122\n",
      "   4.00343962e+123   3.07222128e+123]\n",
      "[ 16.5089   9.0141  50.1251 -18.1054  18.1435  30.5951   3.1802  10.1264\n",
      " -19.5895  -2.1185]\n",
      "[  1.07603668e+125]\n",
      "[  3.55283638e+126   1.93990044e+126   1.07872892e+127  -3.89641489e+126\n",
      "   3.90461429e+126   6.58428995e+126   6.84402368e+125   2.17927556e+126\n",
      "  -4.21580410e+126  -4.55916740e+125]\n",
      "[ -1.6616  16.6364 -28.7362  -1.86    43.3928 -10.7081  -4.6548   5.5823\n",
      "  30.8896 -31.6044]\n",
      "[  1.31796248e+128]\n",
      "[ -4.37985290e+128   4.38523019e+129  -7.57464667e+129  -4.90282041e+128\n",
      "   1.14380164e+130  -2.82257480e+129  -1.22697035e+129   1.47145239e+129\n",
      "   8.14226675e+129  -8.33068266e+129]\n",
      "[-11.4114 -27.646    8.255   12.7106  19.8927 -15.3626 -49.8138  -8.7234\n",
      "  -5.8723 -21.9762]\n",
      "[ -1.24833261e+131]\n",
      "[  2.84904456e+132   6.90228069e+132  -2.06099715e+132  -3.17341131e+132\n",
      "  -4.96654124e+132   3.83552693e+132   1.24368382e+133   2.17794095e+132\n",
      "   1.46611672e+132   5.48672144e+132]\n",
      "[  6.299  -12.4262   1.7128  -3.5948  -1.2241 -13.6617   2.2496  -4.0279\n",
      "  27.098    1.6753]\n",
      "[  1.76048921e+133]\n",
      "[  2.21786431e+134  -4.37523821e+134   6.03073184e+133  -1.26572132e+134\n",
      "  -4.31002969e+133  -4.81025509e+134   7.92079306e+133  -1.41821490e+134\n",
      "   9.54114733e+134   5.89869515e+133]\n",
      "[  3.6597  -3.0964  45.0489   4.4106  -1.0049 -15.8488  16.8051  18.7895\n",
      "  11.95    26.0524]\n",
      "[ -1.10457416e+136]\n",
      "[ -8.08482013e+136   6.84040687e+136  -9.95197020e+137  -9.74366960e+136\n",
      "   2.21997315e+136   3.50123500e+137  -3.71249585e+137  -4.15087925e+137\n",
      "  -2.63993225e+137  -5.75536158e+137]\n",
      "[-33.5253 -12.692   14.9849 -22.7014   0.2397 -23.5431   1.7553 -26.4679\n",
      "  11.6219 -23.083 ]\n",
      "[ -6.86817887e+137]\n",
      "[  4.60515514e+139   1.74341852e+139  -2.05837947e+139   3.11834551e+139\n",
      "  -3.29260495e+137   3.23396444e+139  -2.41114287e+138   3.63572543e+139\n",
      "  -1.59642576e+139   3.17076346e+139]\n",
      "[ -0.5093   8.7797 -19.1499  36.6778 -30.92    31.5132  -7.8943 -16.5757\n",
      " -11.231    2.7055]\n",
      "[ -1.11971005e+141]\n",
      "[  1.14053666e+141  -1.96614367e+142   4.28846710e+142  -8.21370026e+142\n",
      "   6.92428696e+142  -7.05712936e+142   1.76786541e+142   3.71199558e+142\n",
      "   2.51509272e+142  -6.05875109e+141]\n",
      "[  3.9165  -6.1045  15.2016  15.3902   7.7132  -7.6337  26.1353  50.0189\n",
      "  18.355   17.646 ]\n",
      "[ -1.51113156e+144]\n",
      "[ -1.18366935e+145   1.84494052e+145  -4.59432349e+145  -4.65132337e+145\n",
      "  -2.33113198e+145   2.30710499e+145  -7.89877531e+145  -1.51170276e+146\n",
      "  -5.54736394e+145  -5.33308549e+145]\n",
      "[-37.0317   4.7205 -20.8069 -31.755   -9.6734 -37.5309   9.7049   2.0635\n",
      " -12.8385  36.2753]\n",
      "[ -9.44094032e+144]\n",
      "[  6.99228139e+146  -8.91319176e+145   3.92873402e+146   5.99594120e+146\n",
      "   1.82651984e+146   7.08653974e+146  -1.83246763e+146  -3.89627607e+145\n",
      "   2.42415025e+146  -6.84945885e+146]\n",
      "[  2.4288   2.2252  16.9937  21.7804   2.8386 -21.0817   9.5179   7.7482\n",
      "  -7.2681  26.7133]\n",
      "[  9.53270808e+147]\n",
      "[  4.63060828e+148   4.24243641e+148   3.23991963e+149   4.15252390e+149\n",
      "   5.41190903e+148  -4.01931384e+149   1.81462725e+149   1.47722658e+149\n",
      "  -1.38569351e+149   5.09300182e+149]\n",
      "[-12.2714   9.0038 -35.8017  -4.8879  -1.4072  28.2373 -52.2536  -9.6562\n",
      " -22.2831  11.5025]\n",
      "[  1.26082673e+151]\n",
      "[ -3.09442184e+152   2.27044635e+152  -9.02794809e+152  -1.23255900e+152\n",
      "  -3.54847076e+151   7.12046855e+152  -1.31765472e+153  -2.43495902e+152\n",
      "  -5.61902564e+152   2.90053190e+152]\n",
      "[-27.6026 -11.1309  -8.296  -25.2586 -18.0581 -19.8874 -12.5898 -26.4073\n",
      "  19.7267  17.4829]\n",
      "[ -9.31313615e+153]\n",
      "[  5.14133544e+155   2.07327174e+155   1.54523555e+155   4.70473562e+155\n",
      "   3.36355088e+155   3.70428128e+155   2.34501043e+155   4.91869561e+155\n",
      "  -3.67434886e+155  -3.25641256e+155]\n",
      "[ -3.712  -16.3901   0.6922 -35.3142   1.7708  39.6525   3.3803  10.0095\n",
      "  -5.0299  -3.5563]\n",
      "[ -1.02726441e+156]\n",
      "[  7.62641095e+156   3.36739327e+157  -1.42214484e+156   7.25540413e+157\n",
      "  -3.63815962e+156  -8.14672037e+157  -6.94492374e+156  -2.05648061e+157\n",
      "   1.03340745e+157   7.30652081e+156]\n",
      "[  3.8398 -39.8479  21.529  -10.1352  32.0053 -14.1826  19.7009  -2.7132\n",
      "  24.9563 -13.2965]\n",
      "[  4.46626795e+158]\n",
      "[  3.42991513e+159  -3.55942797e+160   1.92308565e+160  -9.05330378e+159\n",
      "   2.85888491e+160  -1.26686584e+160   1.75978996e+160  -2.42357564e+159\n",
      "   2.22923046e+160  -1.18771464e+160]\n",
      "[ 20.5095  44.0194 -25.774    9.8967   8.6559 -17.951  -24.1554   8.7958\n",
      " -13.993  -17.6667]\n",
      "[  9.97286156e+161]\n",
      "[  4.09076808e+163   8.77998764e+163  -5.14081068e+163   1.97396838e+163\n",
      "   1.72648185e+163  -3.58045676e+163  -4.81796920e+163   1.75438591e+163\n",
      "  -2.79100504e+163  -3.52375107e+163]\n",
      "[  0.6676   3.2819   7.3835  20.4567  -5.8666   6.8734  -4.7053 -13.9116\n",
      "  25.3999  10.6155]\n",
      "[  5.13538753e+164]\n",
      "[  6.85676942e+164   3.37076566e+165   7.58342676e+165   2.10106164e+166\n",
      "  -6.02545289e+165   7.05951452e+165  -4.83270778e+165  -1.42882914e+166\n",
      "   2.60876659e+166   1.09029413e+166]\n",
      "[ 51.2584 -14.5013   2.6588  25.4863  11.2412 -13.5845  17.9416  16.6574\n",
      "  -8.597    8.5289]\n",
      "[  3.54458959e+166]\n",
      "[  3.63379982e+168  -1.02802314e+168   1.88487096e+167   1.80676948e+168\n",
      "   7.96908811e+167  -9.63029547e+167   1.27191217e+168   1.18087293e+168\n",
      "  -6.09456735e+167   6.04629004e+167]\n",
      "[ 14.3003 -22.5777  25.8777  24.4883  -2.8097 -14.1613  11.763  -11.5697\n",
      " -30.4414 -48.4779]\n",
      "[ -5.82034250e+169]\n",
      "[ -1.66465288e+171   2.62819894e+171  -3.01234154e+171  -2.85060586e+171\n",
      "   3.27068326e+170   1.64847232e+171  -1.36929378e+171   1.34679233e+171\n",
      "   3.54358748e+171   5.64315963e+171]\n",
      "[  6.0091 -28.44   -27.0226  11.4268   4.9177  19.7819 -15.4993 -22.1919\n",
      "   0.8923   3.0346]\n",
      "[ -4.60058823e+171]\n",
      "[ -5.52907894e+172   2.61681458e+173   2.48639711e+173  -1.05140003e+173\n",
      "  -4.52486255e+172  -1.82016753e+173   1.42611794e+173   2.04191588e+173\n",
      "  -8.21020975e+171  -2.79218901e+172]\n",
      "[ 34.4274   8.5381  -3.8582  -1.2115  -8.2313  10.693    6.0094  26.0106\n",
      "  19.7597  46.4718]\n",
      "[ -1.38467820e+174]\n",
      "[ -9.53417404e+175  -2.36450418e+175   1.06847308e+175   3.35507527e+174\n",
      "   2.27954033e+175  -2.96127279e+175  -1.66421703e+175  -7.20326215e+175\n",
      "  -5.47216516e+175  -1.28696977e+176]\n",
      "[-25.0234   1.1388 -11.6827 -12.5011  42.8219 -20.9467  13.5113   0.1212\n",
      "  16.0101  27.6238]\n",
      "[  4.04590195e+176]\n",
      "[ -2.02484446e+178   9.21494628e+176  -9.45341174e+177  -1.01156450e+178\n",
      "   3.46506417e+178  -1.69496589e+178   1.09330790e+178   9.80726632e+175\n",
      "   1.29550590e+178   2.23526372e+178]\n",
      "[-24.0599  -8.2796 -16.2496 -14.3276  19.7347   7.4924 -34.4574  36.8474\n",
      " -21.6687   3.0375]\n",
      "[ -3.47686181e+179]\n",
      "[  1.67305895e+181   5.75740501e+180   1.12995227e+181   9.96301706e+180\n",
      "  -1.37229650e+181  -5.21000789e+180   2.39607236e+181  -2.56226636e+181\n",
      "   1.50678151e+181  -2.11219355e+180]\n",
      "[ 25.7637  -5.5203  -2.5345  14.9921   7.6312  13.9998  16.6576  14.061\n",
      "  35.3829  -8.7387]\n",
      "[ -4.32220417e+182]\n",
      "[ -2.22711943e+184   4.77197273e+183   2.19092529e+183  -1.29597834e+184\n",
      "  -6.59672089e+183  -1.21019988e+184  -1.43995096e+184  -1.21549026e+184\n",
      "  -3.05864236e+184   7.55408911e+183]\n",
      "[ 45.214   -2.2126  -7.5098 -34.029  -15.8112 -13.5635  29.3194  -3.462\n",
      "  19.7392  46.8514]\n",
      "[  4.41617399e+185]\n",
      "[  3.99345781e+187  -1.95424531e+186  -6.63291668e+186  -3.00555969e+187\n",
      "  -1.39650020e+187  -1.19797552e+187   2.58959143e+187  -3.05775887e+186\n",
      "   1.74343483e+187   4.13807868e+187]\n",
      "[ 11.6181  38.2158   1.7257 -19.757  -20.8183  18.3316   5.7105 -24.8159\n",
      " -27.2209   2.4347]\n",
      "[ -4.14272620e+188]\n",
      "[ -9.62612144e+189  -3.16635192e+190  -1.42982052e+189   1.63695683e+190\n",
      "   1.72489034e+190  -1.51885599e+190  -4.73140759e+189   2.05610958e+190\n",
      "   2.25537471e+190  -2.01725909e+189]\n",
      "[  6.1515  -4.7141   1.511    5.8496  10.5119  18.7604  16.0617 -16.7661\n",
      "   1.1004  23.4908]\n",
      "[  1.67827865e+191]\n",
      "[  2.06478622e+192  -1.58231467e+192   5.07175807e+191   1.96345175e+192\n",
      "   3.52837946e+192   6.29703574e+192   5.39120163e+192  -5.62763752e+192\n",
      "   3.69355564e+191   7.88482160e+192]\n",
      "[-32.5869 -15.3308  -6.4185 -21.125  -50.6683  -8.6443  20.6489  52.0042\n",
      "   6.7795 -15.4201]\n",
      "[  2.87585388e+194]\n",
      "[ -1.87430326e+196  -8.81782813e+195  -3.69173362e+195  -1.21504826e+196\n",
      "  -2.91429254e+196  -4.97194874e+195   1.18766438e+196   2.99112961e+196\n",
      "   3.89937027e+195  -8.86919088e+195]\n",
      "[ 14.4631   5.6584  -4.5259  27.586  -35.278   -2.1847  24.0324   4.9101\n",
      " -22.8248 -13.1501]\n",
      "[ -3.98280651e+197]\n",
      "[ -1.15207458e+199  -4.50726247e+198   3.60515679e+198  -2.19739401e+199\n",
      "   2.81010896e+199   1.74024748e+198  -1.91432798e+199  -3.91119565e+198\n",
      "   1.81813524e+199   1.04748608e+199]\n",
      "[ -1.1337  17.5453   7.4147   7.3684 -16.5996   8.3136   7.4292   3.2239\n",
      "   7.1675  -9.5875]\n",
      "[  3.60413323e+200]\n",
      "[ -8.17201170e+200   1.26471198e+202   5.34471334e+201   5.31133906e+201\n",
      "  -1.19654340e+202   5.99266441e+201   5.35516532e+201   2.32387303e+201\n",
      "   5.16652499e+201  -6.91092548e+201]\n",
      "[ 23.9131  37.6849  39.8769  -8.3017  -4.8497  26.7399 -21.8139  10.8305\n",
      "  12.6524  13.5371]\n",
      "[ -3.36046468e+203]\n",
      "[ -1.60718256e+205  -2.53277551e+205  -2.68009828e+205   5.57951393e+204\n",
      "   3.25944912e+204  -1.79716979e+205   1.46609681e+205  -7.27910255e+204\n",
      "  -8.50358867e+204  -9.09818929e+204]\n",
      "[ 35.6003 -29.377   -8.3102 -42.8015 -36.2038   1.6599  13.0368  11.8892\n",
      "  -6.6012   4.7196]\n",
      "[ -5.81878627e+205]\n",
      "[ -4.14301074e+207   3.41876968e+207   9.67105553e+206   4.98105561e+207\n",
      "   4.21324349e+207  -1.93172067e+206  -1.51716706e+207  -1.38361427e+207\n",
      "   7.68219438e+206  -5.49246873e+206]\n",
      "[ 37.9266   8.689   27.8929  13.691   -7.3474 -25.267  -14.037   32.7951\n",
      "   1.5251 -13.106 ]\n",
      "[  3.49668628e+208]\n",
      "[  2.65234844e+210   6.07654142e+209   1.95065442e+210   9.57462637e+209\n",
      "  -5.13831056e+209  -1.76701544e+210  -9.81659706e+209   2.29348352e+210\n",
      "   1.06655925e+209  -9.16551408e+209]\n",
      "[ 26.0279  20.7375  -9.7051  -4.4727 -13.3046 -32.7115   5.267  -11.8156\n",
      "   8.6486  21.9426]\n",
      "[ -3.31313731e+211]\n",
      "[ -1.72468013e+213  -1.37412370e+213   6.43086578e+212   2.96373385e+212\n",
      "   8.81599333e+212   2.16755382e+213  -3.49005884e+212   7.82934104e+212\n",
      "  -5.73079987e+212  -1.45397693e+213]\n",
      "[ 21.134   -6.8711  17.062   38.1851  22.5546  -2.9595  32.4398 -10.9102\n",
      " -22.1969 -28.4007]\n",
      "[ -1.99215957e+214]\n",
      "[ -8.42046005e+215   2.73766552e+215  -6.79804530e+215  -1.52141624e+216\n",
      "  -8.98647243e+215   1.17915925e+215  -1.29250516e+216   4.34697186e+215\n",
      "   8.84395333e+215   1.13157452e+216]\n",
      "[ 34.3501 -16.1522  17.6085   0.6132  -3.7401  19.8064 -20.9555   7.4911\n",
      "  19.4682  25.3178]\n",
      "[ -1.65152140e+217]\n",
      "[ -1.13459850e+219   5.33514078e+218  -5.81616290e+218  -2.02542584e+217\n",
      "   1.23537103e+218  -6.54213868e+218   6.92169132e+218  -2.47434239e+218\n",
      "  -6.43042977e+218  -8.36257768e+218]\n",
      "[ -2.7591   3.2733 -22.6106   9.7111   6.4314  11.8353  -0.624  -10.8698\n",
      "  20.2358  16.2136]\n",
      "[  6.21009652e+219]\n",
      "[ -3.42685546e+220   4.06550179e+220  -2.80828017e+221   1.20613737e+221\n",
      "   7.98792295e+220   1.46996711e+221  -7.75020045e+219  -1.35005014e+221\n",
      "   2.51332542e+221   2.01376042e+221]\n",
      "[-57.5204  -5.121  -17.5115 -18.7252   7.3981 -12.3372  25.7679  36.335\n",
      "   9.0175  -3.9738]\n",
      "[  1.62610106e+221]\n",
      "[ -1.87067967e+223  -1.66545271e+222  -5.69509376e+222  -6.08981353e+222\n",
      "   2.40601166e+222  -4.01230681e+222   8.38024192e+222   1.18168764e+223\n",
      "   2.93267327e+222  -1.29236008e+222]\n",
      "[-11.8296   0.2642 -15.6819  13.3063  29.8638  20.7015 -10.6472 -22.7998\n",
      " -17.3796  14.9963]\n",
      "[  9.14874399e+223]\n",
      "[ -2.16451964e+225   4.83419632e+223  -2.86939377e+225   2.43471864e+225\n",
      "   5.46432521e+225   3.78785447e+225  -1.94817014e+225  -4.17179066e+225\n",
      "  -3.18003022e+225   2.74394619e+225]\n",
      "[ 54.0959 -21.68   -11.7247  50.1375  32.114   24.1673  19.4607  22.9573\n",
      "  17.1462   0.5994]\n",
      "[ -5.43616317e+226]\n",
      "[ -5.88148279e+228   2.35712035e+228   1.27474765e+228  -5.45111262e+228\n",
      "  -3.49153888e+228  -2.62754773e+228  -2.11583081e+228  -2.49599258e+228\n",
      "  -1.86419082e+228  -6.51687241e+226]\n",
      "[-22.2642 -17.2049  -4.4208 -27.8806  -6.3342  28.3959 -10.692  -34.0589\n",
      " -41.3932 -12.2583]\n",
      "[ -1.71557679e+230]\n",
      "[  7.63918895e+231   5.90326542e+231   1.51684437e+231   9.56626205e+231\n",
      "   2.17336130e+231  -9.74306939e+231   3.66858941e+231   1.16861317e+232\n",
      "   1.42026426e+232   4.20601099e+231]\n",
      "[  5.4492   6.7739 -45.9202   1.1863   8.4924  -3.9101 -37.1721   0.8257\n",
      "  -4.0884  18.3646]\n",
      "[  1.28368996e+232]\n",
      "[  1.39901667e+233   1.73911748e+233  -1.17894599e+234   3.04568280e+232\n",
      "   2.18032172e+233  -1.00387122e+233  -9.54349031e+233   2.11988560e+232\n",
      "  -1.04964761e+233   4.71489052e+233]\n",
      "[ 31.2569  12.8812  16.0071 -18.5466 -15.4173 -35.087   27.5831  -0.5816\n",
      "  12.4878 -14.6787]\n",
      "[  2.15743266e+235]\n",
      "[  1.34869314e+237   5.55806432e+236   6.90684807e+236  -8.00260812e+236\n",
      "  -6.65235731e+236  -1.51395680e+237   1.19017362e+237  -2.50952567e+235\n",
      "   5.38831752e+236  -6.33366136e+236]\n",
      "[ -8.7835  -2.7698  -4.6837  11.2956   3.6084 -10.6735   6.8236  24.0313\n",
      " -24.1411  31.0233]\n",
      "[  1.71587145e+238]\n",
      "[ -3.01427137e+239  -9.50524146e+238  -1.60732542e+239   3.87635950e+239\n",
      "   1.23831010e+239  -3.66287077e+239   2.34168408e+239   8.24692429e+239\n",
      "  -8.28460483e+239   1.06463989e+240]\n",
      "[-36.9215   2.8567 -32.8159  -4.9235  12.1148  -8.1226   1.9629  -8.7345\n",
      "  36.2671 -13.2745]\n",
      "[  1.49490745e+241]\n",
      "[ -1.10388451e+243   8.54100423e+241  -9.81134669e+242  -1.47203537e+242\n",
      "   3.62210096e+242  -2.42850705e+242   5.86870767e+241  -2.61145383e+242\n",
      "   1.08431916e+243  -3.96882979e+242]\n",
      "[  2.268   -0.8566  17.331    7.6832  -7.0246  24.5171 -38.4931  30.9129\n",
      "  19.8981  26.1239]\n",
      "[  1.31237745e+244]\n",
      "[  5.95294409e+244  -2.24836504e+244   4.54896270e+245   2.01665168e+245\n",
      "  -1.84378532e+245   6.43513781e+245  -1.01034952e+246   8.11387854e+245\n",
      "   5.22276353e+245   6.85688343e+245]\n",
      "[ 20.153  -41.2118 -11.4071  -9.3526  24.0516 -24.0098  10.0165 -29.4148\n",
      "  11.5801   6.6331]\n",
      "[  2.23413722e+247]\n",
      "[  9.00491349e+248  -1.84145633e+249  -5.09700534e+248  -4.17899836e+248\n",
      "   1.07469150e+249  -1.07282376e+249   4.47564710e+248  -1.31433399e+249\n",
      "   5.17430649e+248   2.96385112e+248]\n",
      "[ 12.3815 -19.2839 -29.7624 -10.99    16.4406  17.8307   5.0347 -11.8465\n",
      "  24.0063 -17.1848]\n",
      "[ -4.17551265e+250]\n",
      "[ -1.03398220e+252   1.61040337e+252   2.48546556e+252   9.17777681e+251\n",
      "  -1.37295867e+252  -1.48904627e+252  -4.20449071e+251   9.89304213e+251\n",
      "  -2.00477219e+252   1.43510700e+252]\n",
      "[-25.4149 -10.2025  28.0673 -24.6931  15.0761  -4.815   33.0257 -24.0929\n",
      "  43.0303   0.4462]\n",
      "[  3.70063653e+253]\n",
      "[ -1.88102615e+255  -7.55114884e+254   2.07733751e+255  -1.82760376e+255\n",
      "   1.11582333e+255  -3.56371298e+254   2.44432224e+255  -1.78318132e+255\n",
      "   3.18479000e+255   3.30244804e+253]\n",
      "[-12.2335  36.7365  29.561   43.6958  -9.2    -26.5173   8.4578  -0.5361\n",
      "  27.6911  39.0669]\n",
      "[ -4.04831318e+256]\n",
      "[  9.90500785e+257  -2.97441714e+258  -2.39344372e+258  -3.53788566e+258\n",
      "   7.44889625e+257   2.14700670e+258  -6.84796464e+257   4.34060139e+256\n",
      "  -2.24204490e+258  -3.16310092e+258]\n",
      "[ 12.3478 -20.8818   2.3237   8.3054 -12.0457  13.6107  13.2132  13.7833\n",
      " -19.3007  13.8699]\n",
      "[ -2.34084720e+259]\n",
      "[ -5.78086260e+260   9.77622060e+260  -1.08788533e+260  -3.88833446e+260\n",
      "   5.63942861e+260  -6.37211379e+260  -6.18601643e+260  -6.45291983e+260\n",
      "   9.03599790e+260  -6.49346331e+260]\n",
      "[-28.7636  27.8091 -27.9923 -22.3398   9.749   30.2121 -38.4019 -24.5157\n",
      "  34.5901   6.9427]\n",
      "[ -5.01226601e+262]\n",
      "[  2.88341629e+264  -2.78773214e+264   2.80609708e+264   2.23946041e+264\n",
      "  -9.77291627e+263  -3.02862164e+264   3.84961076e+264   2.45758420e+264\n",
      "  -3.46749565e+264  -6.95973185e+263]\n",
      "[ 39.0518  13.5422   0.2844  -6.4297 -23.2289  23.9112   3.1568  39.6471\n",
      "  -0.2228 -25.2764]\n",
      "[ -6.46250087e+265]\n",
      "[ -5.04744583e+267  -1.75032958e+267  -3.67587049e+265   8.31038837e+266\n",
      "   3.00233573e+267  -3.09052301e+267  -4.08016455e+266  -5.12438836e+267\n",
      "   2.87969039e+265   3.26697514e+267]\n",
      "[ 15.9474  -0.514   -1.2103   0.0723 -12.0355  22.7103  25.7307  14.4428\n",
      " -12.1636  15.6173]\n",
      "[  1.01728185e+269]\n",
      "[  3.24460010e+270  -1.04576574e+269  -2.46243244e+269   1.47098955e+268\n",
      "  -2.44869913e+270   4.62055518e+270   5.23507480e+270   2.93847965e+270\n",
      "  -2.47476189e+270   3.17743915e+270]\n",
      "[  6.8231 -12.3043 -30.044    2.288    8.25   -17.7738  -7.7744   8.5212\n",
      "  -7.5252  -4.5275]\n",
      "[  3.84111041e+271]\n",
      "[  5.24165608e+272  -9.45243496e+272  -2.30804642e+273   1.75769212e+272\n",
      "   6.33783217e+272  -1.36542256e+273  -5.97246575e+272   6.54617400e+272\n",
      "  -5.78102481e+272  -3.47812547e+272]\n",
      "[  5.1633 -31.1599  23.4234  15.1675  -1.7815   7.861  -22.0871 -21.2947\n",
      "  10.159   -7.3963]\n",
      "[  1.63691958e+274]\n",
      "[  1.69038138e+275  -1.02012501e+276   7.66844443e+275   4.96559555e+275\n",
      "  -5.83234447e+274   2.57356497e+275  -7.23096130e+275  -6.97154228e+275\n",
      "   3.32589321e+275  -2.42142966e+275]\n",
      "[ -4.7854   3.983   -7.918  -19.2055   7.1499 -29.7759 -13.8876  -0.4178\n",
      " -27.4858  -3.7012]\n",
      "[  1.22325271e+277]\n",
      "[ -1.17075071e+278   9.74443110e+277  -1.93714299e+278  -4.69863599e+278\n",
      "   1.74922691e+278  -7.28469008e+278  -3.39760887e+278  -1.02214997e+277\n",
      "  -6.72441588e+278  -9.05500587e+277]\n",
      "[ -0.1472   0.4902 -22.6757  14.7657  10.7925 -17.3419  -7.5815 -16.5327\n",
      "  -6.7174   2.7522]\n",
      "[ -8.82984299e+279]\n",
      "[  2.59950578e+279  -8.65677806e+279   4.00445741e+281  -2.60757625e+281\n",
      "  -1.90592161e+281   3.06252508e+281   1.33886909e+281   2.91962290e+281\n",
      "   1.18627175e+281  -4.86029877e+280]\n",
      "[ -2.66000000e-02  -3.50944000e+01  -3.24594000e+01   4.04050000e+00\n",
      "  -2.68454000e+01  -1.55490000e+01   1.36408000e+01  -5.82570000e+00\n",
      "  -1.99688000e+01   2.02079000e+01]\n",
      "[  7.69553924e+282]\n",
      "[ -4.09402688e+281  -5.40140665e+284  -4.99585173e+284   6.21876526e+283\n",
      "  -4.13179658e+284  -2.39315879e+284   2.09946623e+284  -8.96638059e+283\n",
      "  -3.07341368e+284   3.11021375e+284]\n",
      "[  8.571   28.3335  -0.26    16.7877   7.9738  25.0168 -16.2684  64.9319\n",
      "  37.4096   4.1401]\n",
      "[  1.98548591e+286]\n",
      "[  3.40351995e+287   1.12511530e+288  -1.03245267e+286   6.66634837e+287\n",
      "   3.16637351e+287   9.93410079e+287  -6.46013580e+287   2.57842745e+288\n",
      "   1.48552467e+288   1.64402204e+287]\n",
      "[ -9.3365  14.6148  15.3803  -8.95    13.3843  11.7449  -0.2259  43.7849\n",
      " -21.8766  -2.062 ]\n",
      "[ -4.78425902e+289]\n",
      "[  8.93364688e+290  -1.39841978e+291  -1.47166678e+291   8.56382365e+290\n",
      "  -1.28067916e+291  -1.12381288e+291   2.16152823e+289  -4.18956606e+291\n",
      "   2.09326642e+291   1.97302842e+290]\n",
      "[-10.7327 -10.507  -10.8115 -22.9077  -6.4328  -5.8671 -16.5026 -18.7209\n",
      " -24.127   -3.9035]\n",
      "[ -1.98912720e+292]\n",
      "[  4.26974111e+293   4.17995190e+293   4.30108975e+293   9.11326584e+293\n",
      "   2.55913149e+293   2.33408164e+293   6.56515411e+293   7.44765029e+293\n",
      "   9.59833440e+293   1.55291161e+293]\n",
      "[ -4.4719 -46.5036   7.6445  15.1053  25.4699  -4.865    2.9459  -4.1135\n",
      " -29.0937  -2.7148]\n",
      "[  1.31605912e+295]\n",
      "[ -1.17705695e+296  -1.22402974e+297   2.01212279e+296   3.97589356e+296\n",
      "   6.70397883e+296  -1.28052552e+296   7.75395712e+295  -1.08272184e+296\n",
      "  -7.65780584e+296  -7.14567459e+295]\n",
      "[-31.5907  -8.6258   3.3545 -33.8597 -23.3012  23.1032  -3.6703 -26.8821\n",
      "   9.5488  15.7059]\n",
      "[  1.06395135e+298]\n",
      "[ -6.72219358e+299  -1.83548631e+299   7.13804961e+298  -7.20501470e+299\n",
      "  -4.95826864e+299   4.91613617e+299  -7.81004128e+298  -5.72024932e+299\n",
      "   2.03189173e+299   3.34206270e+299]\n",
      "[  1.5474   1.0597  44.9113 -21.3187   4.3058   8.9414  -2.5855  16.7395\n",
      "   7.9103  36.3242]\n",
      "[ -1.11026257e+301]\n",
      "[ -3.43604062e+301  -2.35309050e+301  -9.97266711e+302   4.73387095e+302\n",
      "  -9.56113719e+301  -1.98546036e+302   5.74116777e+301  -3.71704807e+302\n",
      "  -1.75650201e+302  -8.06587996e+302]\n",
      "[ 15.8642  13.2978  23.4792  -3.0947 -31.6854  21.0299  -3.5458 -21.0792\n",
      "   0.2551   1.0437]\n",
      "[  9.31995021e+303]\n",
      "[  2.95707108e+305   2.47869668e+305   4.37649950e+305  -5.76848999e+304\n",
      "  -5.90612701e+305   3.91995242e+305  -6.60933589e+304  -3.92914189e+305\n",
      "   4.75503860e+303   1.94544641e+304]\n",
      "[  3.2995 -10.9985 -23.5779 -15.0493  -8.052   28.2452  -7.4406  28.9882\n",
      "  11.7649 -20.7264]\n",
      "[  3.06065826e+306]\n",
      "[  2.01972839e+307  -6.73252998e+307  -1.44327789e+308  -9.21215288e+307\n",
      "  -4.92888407e+307   1.72897810e+308  -4.55462678e+307   1.77445948e+308\n",
      "   7.20166768e+307  -1.26872855e+308]\n",
      "[-18.4983   9.4069  -2.6034  -3.4082  12.6569   3.3046 -22.4033  17.6025\n",
      "   5.845    0.7365]\n",
      "[ nan]\n",
      "[ nan  nan  nan  nan  nan  nan  nan  nan  nan  nan]\n",
      "[ 19.0389   5.3023  -5.9238  15.4751  25.8458 -25.7346  22.7435  28.3442\n",
      "  14.5639   7.7247]\n",
      "[ nan]\n",
      "[ nan  nan  nan  nan  nan  nan  nan  nan  nan  nan]\n",
      "[-25.0551  14.5814 -13.73   -29.1604 -22.6408  14.6638  -7.1236  -6.1265\n",
      "  18.3277  18.9266]\n",
      "[ nan]\n",
      "[ nan  nan  nan  nan  nan  nan  nan  nan  nan  nan]\n",
      "[ 29.4529   6.8328   3.1376  -5.0836   5.7405  -8.2359  -5.9844  15.5493\n",
      " -25.9217   7.2692]\n",
      "[ nan]\n",
      "[ nan  nan  nan  nan  nan  nan  nan  nan  nan  nan]\n",
      "[  5.5905  -8.3338   9.5388   2.9695  -2.2383 -32.8456   3.7058  -2.1239\n",
      "  44.0008  29.1156]\n",
      "[ nan]\n",
      "[ nan  nan  nan  nan  nan  nan  nan  nan  nan  nan]\n",
      "[-24.9922  -2.3515  62.801   19.7341  31.4644 -20.1571  22.8596 -33.5565\n",
      " -12.0289  24.7915]\n",
      "[ nan]\n",
      "[ nan  nan  nan  nan  nan  nan  nan  nan  nan  nan]\n",
      "[-11.7986 -28.2762   6.6061 -12.0846 -11.0244   6.3332  14.3626  -3.3107\n",
      "  19.2385   2.7145]\n",
      "[ nan]\n",
      "[ nan  nan  nan  nan  nan  nan  nan  nan  nan  nan]\n",
      "[ 10.3948  25.0691 -19.7922   5.744   -0.0654 -30.0534  14.8459  -4.188\n",
      "  14.6072 -12.8035]\n",
      "[ nan]\n",
      "[ nan  nan  nan  nan  nan  nan  nan  nan  nan  nan]\n",
      "[ 18.4158 -28.1025  -7.5667  12.2992 -27.5615  10.6595 -13.3807  -3.1319\n",
      " -43.443  -35.8188]\n",
      "[ nan]\n",
      "[ nan  nan  nan  nan  nan  nan  nan  nan  nan  nan]\n",
      "[-11.1143 -16.5129  16.7175  21.8368  46.1543  14.9561   1.8915   5.5027\n",
      "  -7.0192 -35.6376]\n",
      "[ nan]\n",
      "[ nan  nan  nan  nan  nan  nan  nan  nan  nan  nan]\n",
      "[ -1.9328 -19.6591 -22.7691  19.5841  11.3725 -10.6701  20.7965   4.999\n",
      "  -6.9918 -24.5481]\n",
      "[ nan]\n",
      "[ nan  nan  nan  nan  nan  nan  nan  nan  nan  nan]\n",
      "[-34.0289 -32.6618  -3.6488  -0.5755  -0.6418   0.178    8.9158  -9.976\n",
      " -21.2482  20.8566]\n",
      "[ nan]\n",
      "[ nan  nan  nan  nan  nan  nan  nan  nan  nan  nan]\n",
      "[ -8.4632 -10.797   15.6954  25.6013 -15.5956 -21.2952  12.7661  -4.834\n",
      "   6.0825  -0.1423]\n",
      "[ nan]\n",
      "[ nan  nan  nan  nan  nan  nan  nan  nan  nan  nan]\n",
      "[ 12.6132 -19.1098  -3.0308  25.0993   4.1901   2.2022  -5.7055  11.7803\n",
      " -34.5866 -22.0603]\n",
      "[ nan]\n",
      "[ nan  nan  nan  nan  nan  nan  nan  nan  nan  nan]\n",
      "[ -6.7514  23.4242  13.4867 -16.8151  27.3124  12.9152 -14.5113  16.1135\n",
      " -11.9779  20.816 ]\n",
      "[ nan]\n",
      "[ nan  nan  nan  nan  nan  nan  nan  nan  nan  nan]\n",
      "[ 12.1906   2.3199 -14.4425   6.0517   8.866  -27.4363 -31.0784  27.8689\n",
      " -26.2022   7.7405]\n",
      "[ nan]\n",
      "[ nan  nan  nan  nan  nan  nan  nan  nan  nan  nan]\n",
      "[-13.1901 -19.1794  -6.4919  15.862   -7.6614  12.3598  25.4618 -40.8654\n",
      "  47.314  -31.3772]\n",
      "[ nan]\n",
      "[ nan  nan  nan  nan  nan  nan  nan  nan  nan  nan]\n",
      "[ -5.0959  17.0189 -31.7935  -0.9906  12.438   32.8539  32.669  -18.7553\n",
      " -25.3487  32.7133]\n",
      "[ nan]\n",
      "[ nan  nan  nan  nan  nan  nan  nan  nan  nan  nan]\n",
      "[  9.2063 -22.9092   3.91    27.7423  33.9663  36.1865  -3.7977  -0.7703\n",
      "  24.6828 -26.3494]\n",
      "[ nan]\n",
      "[ nan  nan  nan  nan  nan  nan  nan  nan  nan  nan]\n",
      "[ 32.3884   5.6625  20.8711   5.5901 -19.1434   5.2206 -11.3936  21.0453\n",
      "  22.1101 -15.4121]\n",
      "[ nan]\n",
      "[ nan  nan  nan  nan  nan  nan  nan  nan  nan  nan]\n",
      "[ 23.1785   6.1134   5.4018 -28.3533  17.5305  13.2623   3.4129 -15.7877\n",
      "  33.4208 -31.2812]\n",
      "[ nan]\n",
      "[ nan  nan  nan  nan  nan  nan  nan  nan  nan  nan]\n",
      "[ 24.3203 -43.5968  22.6947  14.8406   2.2047 -15.2598  -1.4521 -13.5951\n",
      "  34.1597  12.741 ]\n",
      "[ nan]\n",
      "[ nan  nan  nan  nan  nan  nan  nan  nan  nan  nan]\n",
      "[  2.9338  -3.4749 -11.4208   9.101  -23.435  -14.2621 -11.6979  34.4293\n",
      "  11.2631 -30.2702]\n",
      "[ nan]\n",
      "[ nan  nan  nan  nan  nan  nan  nan  nan  nan  nan]\n",
      "[ -9.9815  20.5271   0.382   19.8001  -3.4895  15.0813   0.7937 -14.3669\n",
      "  -5.0237   3.3892]\n",
      "[ nan]\n",
      "[ nan  nan  nan  nan  nan  nan  nan  nan  nan  nan]\n",
      "[-32.9605  -3.8418  18.5226 -12.8737 -25.3828   4.614    6.1809 -21.5025\n",
      " -37.6592   1.2791]\n",
      "[ nan]\n",
      "[ nan  nan  nan  nan  nan  nan  nan  nan  nan  nan]\n",
      "[ 18.5769 -21.1732 -33.506   13.3651 -41.3335 -36.8943  19.2469  -7.5463\n",
      "   3.3933  12.8176]\n",
      "[ nan]\n",
      "[ nan  nan  nan  nan  nan  nan  nan  nan  nan  nan]\n",
      "[-61.2762  13.2878   3.06   -17.7629   7.5828  18.5252 -17.7492 -10.0349\n",
      "  33.3001  30.4178]\n",
      "[ nan]\n",
      "[ nan  nan  nan  nan  nan  nan  nan  nan  nan  nan]\n",
      "[ -7.65600000e-01  -2.53261000e+01  -2.67388000e+01  -8.66470000e+00\n",
      "   9.24850000e+00  -1.74092000e+01  -1.09000000e-02   2.05830000e+00\n",
      "  -3.05038000e+01   3.97945000e+01]\n",
      "[ nan]\n",
      "[ nan  nan  nan  nan  nan  nan  nan  nan  nan  nan]\n",
      "[-26.0501 -26.0863  21.1318  -3.8901   7.4859   3.2473  16.0506 -10.0276\n",
      "  -6.2139 -21.809 ]\n",
      "[ nan]\n",
      "[ nan  nan  nan  nan  nan  nan  nan  nan  nan  nan]\n",
      "[-25.0414 -14.7842   4.3947   9.1447   5.6376   6.1694 -19.8472 -14.652\n",
      "   8.0066  16.6758]\n",
      "[ nan]\n",
      "[ nan  nan  nan  nan  nan  nan  nan  nan  nan  nan]\n",
      "[ -3.3582  -6.0865  -5.9929 -41.6381  -2.7304  -8.5279   3.6794  -6.5449\n",
      "   4.6136 -38.3927]\n",
      "[ nan]\n",
      "[ nan  nan  nan  nan  nan  nan  nan  nan  nan  nan]\n",
      "[  1.3857  34.6009 -13.0832 -39.8021  -8.6193 -24.1405   5.9904  11.2607\n",
      " -29.8875  28.6276]\n",
      "[ nan]\n",
      "[ nan  nan  nan  nan  nan  nan  nan  nan  nan  nan]\n",
      "[ 35.1462   6.8779  -3.748   24.9136  19.5013  16.8711  -5.7906  -4.3698\n",
      "  -7.183   23.4043]\n",
      "[ nan]\n",
      "[ nan  nan  nan  nan  nan  nan  nan  nan  nan  nan]\n",
      "[ 37.5784   5.2141  12.8222  -4.544   30.6088 -16.9076  -2.9396   5.6606\n",
      " -40.1729 -30.8285]\n",
      "[ nan]\n",
      "[ nan  nan  nan  nan  nan  nan  nan  nan  nan  nan]\n",
      "[ 16.5089   9.0141  50.1251 -18.1054  18.1435  30.5951   3.1802  10.1264\n",
      " -19.5895  -2.1185]\n",
      "[ nan]\n",
      "[ nan  nan  nan  nan  nan  nan  nan  nan  nan  nan]\n",
      "[ -1.6616  16.6364 -28.7362  -1.86    43.3928 -10.7081  -4.6548   5.5823\n",
      "  30.8896 -31.6044]\n",
      "[ nan]\n",
      "[ nan  nan  nan  nan  nan  nan  nan  nan  nan  nan]\n",
      "[-11.4114 -27.646    8.255   12.7106  19.8927 -15.3626 -49.8138  -8.7234\n",
      "  -5.8723 -21.9762]\n",
      "[ nan]\n",
      "[ nan  nan  nan  nan  nan  nan  nan  nan  nan  nan]\n",
      "[  6.299  -12.4262   1.7128  -3.5948  -1.2241 -13.6617   2.2496  -4.0279\n",
      "  27.098    1.6753]\n",
      "[ nan]\n",
      "[ nan  nan  nan  nan  nan  nan  nan  nan  nan  nan]\n",
      "[  3.6597  -3.0964  45.0489   4.4106  -1.0049 -15.8488  16.8051  18.7895\n",
      "  11.95    26.0524]\n",
      "[ nan]\n",
      "[ nan  nan  nan  nan  nan  nan  nan  nan  nan  nan]\n",
      "[-33.5253 -12.692   14.9849 -22.7014   0.2397 -23.5431   1.7553 -26.4679\n",
      "  11.6219 -23.083 ]\n",
      "[ nan]\n",
      "[ nan  nan  nan  nan  nan  nan  nan  nan  nan  nan]\n",
      "[ -0.5093   8.7797 -19.1499  36.6778 -30.92    31.5132  -7.8943 -16.5757\n",
      " -11.231    2.7055]\n",
      "[ nan]\n",
      "[ nan  nan  nan  nan  nan  nan  nan  nan  nan  nan]\n",
      "[  3.9165  -6.1045  15.2016  15.3902   7.7132  -7.6337  26.1353  50.0189\n",
      "  18.355   17.646 ]\n",
      "[ nan]\n",
      "[ nan  nan  nan  nan  nan  nan  nan  nan  nan  nan]\n",
      "[-37.0317   4.7205 -20.8069 -31.755   -9.6734 -37.5309   9.7049   2.0635\n",
      " -12.8385  36.2753]\n",
      "[ nan]\n",
      "[ nan  nan  nan  nan  nan  nan  nan  nan  nan  nan]\n",
      "[  2.4288   2.2252  16.9937  21.7804   2.8386 -21.0817   9.5179   7.7482\n",
      "  -7.2681  26.7133]\n",
      "[ nan]\n",
      "[ nan  nan  nan  nan  nan  nan  nan  nan  nan  nan]\n",
      "[-12.2714   9.0038 -35.8017  -4.8879  -1.4072  28.2373 -52.2536  -9.6562\n",
      " -22.2831  11.5025]\n",
      "[ nan]\n",
      "[ nan  nan  nan  nan  nan  nan  nan  nan  nan  nan]\n",
      "[-27.6026 -11.1309  -8.296  -25.2586 -18.0581 -19.8874 -12.5898 -26.4073\n",
      "  19.7267  17.4829]\n",
      "[ nan]\n",
      "[ nan  nan  nan  nan  nan  nan  nan  nan  nan  nan]\n",
      "[ -3.712  -16.3901   0.6922 -35.3142   1.7708  39.6525   3.3803  10.0095\n",
      "  -5.0299  -3.5563]\n",
      "[ nan]\n",
      "[ nan  nan  nan  nan  nan  nan  nan  nan  nan  nan]\n",
      "[  3.8398 -39.8479  21.529  -10.1352  32.0053 -14.1826  19.7009  -2.7132\n",
      "  24.9563 -13.2965]\n",
      "[ nan]\n",
      "[ nan  nan  nan  nan  nan  nan  nan  nan  nan  nan]\n",
      "[ 20.5095  44.0194 -25.774    9.8967   8.6559 -17.951  -24.1554   8.7958\n",
      " -13.993  -17.6667]\n",
      "[ nan]\n",
      "[ nan  nan  nan  nan  nan  nan  nan  nan  nan  nan]\n",
      "[  0.6676   3.2819   7.3835  20.4567  -5.8666   6.8734  -4.7053 -13.9116\n",
      "  25.3999  10.6155]\n",
      "[ nan]\n",
      "[ nan  nan  nan  nan  nan  nan  nan  nan  nan  nan]\n",
      "[ 51.2584 -14.5013   2.6588  25.4863  11.2412 -13.5845  17.9416  16.6574\n",
      "  -8.597    8.5289]\n",
      "[ nan]\n",
      "[ nan  nan  nan  nan  nan  nan  nan  nan  nan  nan]\n",
      "[ 14.3003 -22.5777  25.8777  24.4883  -2.8097 -14.1613  11.763  -11.5697\n",
      " -30.4414 -48.4779]\n",
      "[ nan]\n",
      "[ nan  nan  nan  nan  nan  nan  nan  nan  nan  nan]\n",
      "[  6.0091 -28.44   -27.0226  11.4268   4.9177  19.7819 -15.4993 -22.1919\n",
      "   0.8923   3.0346]\n",
      "[ nan]\n",
      "[ nan  nan  nan  nan  nan  nan  nan  nan  nan  nan]\n",
      "[ 34.4274   8.5381  -3.8582  -1.2115  -8.2313  10.693    6.0094  26.0106\n",
      "  19.7597  46.4718]\n",
      "[ nan]\n",
      "[ nan  nan  nan  nan  nan  nan  nan  nan  nan  nan]\n",
      "[-25.0234   1.1388 -11.6827 -12.5011  42.8219 -20.9467  13.5113   0.1212\n",
      "  16.0101  27.6238]\n",
      "[ nan]\n",
      "[ nan  nan  nan  nan  nan  nan  nan  nan  nan  nan]\n",
      "[-24.0599  -8.2796 -16.2496 -14.3276  19.7347   7.4924 -34.4574  36.8474\n",
      " -21.6687   3.0375]\n",
      "[ nan]\n",
      "[ nan  nan  nan  nan  nan  nan  nan  nan  nan  nan]\n",
      "[ 25.7637  -5.5203  -2.5345  14.9921   7.6312  13.9998  16.6576  14.061\n",
      "  35.3829  -8.7387]\n",
      "[ nan]\n",
      "[ nan  nan  nan  nan  nan  nan  nan  nan  nan  nan]\n",
      "[ 45.214   -2.2126  -7.5098 -34.029  -15.8112 -13.5635  29.3194  -3.462\n",
      "  19.7392  46.8514]\n",
      "[ nan]\n",
      "[ nan  nan  nan  nan  nan  nan  nan  nan  nan  nan]\n",
      "[ 11.6181  38.2158   1.7257 -19.757  -20.8183  18.3316   5.7105 -24.8159\n",
      " -27.2209   2.4347]\n",
      "[ nan]\n",
      "[ nan  nan  nan  nan  nan  nan  nan  nan  nan  nan]\n",
      "[  6.1515  -4.7141   1.511    5.8496  10.5119  18.7604  16.0617 -16.7661\n",
      "   1.1004  23.4908]\n",
      "[ nan]\n",
      "[ nan  nan  nan  nan  nan  nan  nan  nan  nan  nan]\n",
      "[-32.5869 -15.3308  -6.4185 -21.125  -50.6683  -8.6443  20.6489  52.0042\n",
      "   6.7795 -15.4201]\n",
      "[ nan]\n",
      "[ nan  nan  nan  nan  nan  nan  nan  nan  nan  nan]\n",
      "[ 14.4631   5.6584  -4.5259  27.586  -35.278   -2.1847  24.0324   4.9101\n",
      " -22.8248 -13.1501]\n",
      "[ nan]\n",
      "[ nan  nan  nan  nan  nan  nan  nan  nan  nan  nan]\n",
      "[ -1.1337  17.5453   7.4147   7.3684 -16.5996   8.3136   7.4292   3.2239\n",
      "   7.1675  -9.5875]\n",
      "[ nan]\n",
      "[ nan  nan  nan  nan  nan  nan  nan  nan  nan  nan]\n",
      "[ 23.9131  37.6849  39.8769  -8.3017  -4.8497  26.7399 -21.8139  10.8305\n",
      "  12.6524  13.5371]\n",
      "[ nan]\n",
      "[ nan  nan  nan  nan  nan  nan  nan  nan  nan  nan]\n",
      "[ 35.6003 -29.377   -8.3102 -42.8015 -36.2038   1.6599  13.0368  11.8892\n",
      "  -6.6012   4.7196]\n",
      "[ nan]\n",
      "[ nan  nan  nan  nan  nan  nan  nan  nan  nan  nan]\n",
      "[ 37.9266   8.689   27.8929  13.691   -7.3474 -25.267  -14.037   32.7951\n",
      "   1.5251 -13.106 ]\n",
      "[ nan]\n",
      "[ nan  nan  nan  nan  nan  nan  nan  nan  nan  nan]\n",
      "[ 26.0279  20.7375  -9.7051  -4.4727 -13.3046 -32.7115   5.267  -11.8156\n",
      "   8.6486  21.9426]\n",
      "[ nan]\n",
      "[ nan  nan  nan  nan  nan  nan  nan  nan  nan  nan]\n",
      "[ 21.134   -6.8711  17.062   38.1851  22.5546  -2.9595  32.4398 -10.9102\n",
      " -22.1969 -28.4007]\n",
      "[ nan]\n",
      "[ nan  nan  nan  nan  nan  nan  nan  nan  nan  nan]\n",
      "[ 34.3501 -16.1522  17.6085   0.6132  -3.7401  19.8064 -20.9555   7.4911\n",
      "  19.4682  25.3178]\n",
      "[ nan]\n",
      "[ nan  nan  nan  nan  nan  nan  nan  nan  nan  nan]\n",
      "[ -2.7591   3.2733 -22.6106   9.7111   6.4314  11.8353  -0.624  -10.8698\n",
      "  20.2358  16.2136]\n",
      "[ nan]\n",
      "[ nan  nan  nan  nan  nan  nan  nan  nan  nan  nan]\n",
      "[-57.5204  -5.121  -17.5115 -18.7252   7.3981 -12.3372  25.7679  36.335\n",
      "   9.0175  -3.9738]"
     ]
    },
    {
     "name": "stderr",
     "output_type": "stream",
     "text": [
      "/Users/Divy/anaconda/lib/python2.7/site-packages/ipykernel/__main__.py:38: RuntimeWarning: invalid value encountered in double_scalars\n"
     ]
    },
    {
     "name": "stdout",
     "output_type": "stream",
     "text": [
      "\n",
      "[ nan]\n",
      "[ nan  nan  nan  nan  nan  nan  nan  nan  nan  nan]\n",
      "[-11.8296   0.2642 -15.6819  13.3063  29.8638  20.7015 -10.6472 -22.7998\n",
      " -17.3796  14.9963]\n",
      "[ nan]\n",
      "[ nan  nan  nan  nan  nan  nan  nan  nan  nan  nan]\n",
      "[ 54.0959 -21.68   -11.7247  50.1375  32.114   24.1673  19.4607  22.9573\n",
      "  17.1462   0.5994]\n",
      "[ nan]\n",
      "[ nan  nan  nan  nan  nan  nan  nan  nan  nan  nan]\n",
      "[-22.2642 -17.2049  -4.4208 -27.8806  -6.3342  28.3959 -10.692  -34.0589\n",
      " -41.3932 -12.2583]\n",
      "[ nan]\n",
      "[ nan  nan  nan  nan  nan  nan  nan  nan  nan  nan]\n",
      "[  5.4492   6.7739 -45.9202   1.1863   8.4924  -3.9101 -37.1721   0.8257\n",
      "  -4.0884  18.3646]\n",
      "[ nan]\n",
      "[ nan  nan  nan  nan  nan  nan  nan  nan  nan  nan]\n",
      "[ 31.2569  12.8812  16.0071 -18.5466 -15.4173 -35.087   27.5831  -0.5816\n",
      "  12.4878 -14.6787]\n",
      "[ nan]\n",
      "[ nan  nan  nan  nan  nan  nan  nan  nan  nan  nan]\n",
      "[ -8.7835  -2.7698  -4.6837  11.2956   3.6084 -10.6735   6.8236  24.0313\n",
      " -24.1411  31.0233]\n",
      "[ nan]\n",
      "[ nan  nan  nan  nan  nan  nan  nan  nan  nan  nan]\n",
      "[-36.9215   2.8567 -32.8159  -4.9235  12.1148  -8.1226   1.9629  -8.7345\n",
      "  36.2671 -13.2745]\n",
      "[ nan]\n",
      "[ nan  nan  nan  nan  nan  nan  nan  nan  nan  nan]\n",
      "[  2.268   -0.8566  17.331    7.6832  -7.0246  24.5171 -38.4931  30.9129\n",
      "  19.8981  26.1239]\n",
      "[ nan]\n",
      "[ nan  nan  nan  nan  nan  nan  nan  nan  nan  nan]\n",
      "[ 20.153  -41.2118 -11.4071  -9.3526  24.0516 -24.0098  10.0165 -29.4148\n",
      "  11.5801   6.6331]\n",
      "[ nan]\n",
      "[ nan  nan  nan  nan  nan  nan  nan  nan  nan  nan]\n",
      "[ 12.3815 -19.2839 -29.7624 -10.99    16.4406  17.8307   5.0347 -11.8465\n",
      "  24.0063 -17.1848]\n",
      "[ nan]\n",
      "[ nan  nan  nan  nan  nan  nan  nan  nan  nan  nan]\n",
      "[-25.4149 -10.2025  28.0673 -24.6931  15.0761  -4.815   33.0257 -24.0929\n",
      "  43.0303   0.4462]\n",
      "[ nan]\n",
      "[ nan  nan  nan  nan  nan  nan  nan  nan  nan  nan]\n",
      "[-12.2335  36.7365  29.561   43.6958  -9.2    -26.5173   8.4578  -0.5361\n",
      "  27.6911  39.0669]\n",
      "[ nan]\n",
      "[ nan  nan  nan  nan  nan  nan  nan  nan  nan  nan]\n",
      "[ 12.3478 -20.8818   2.3237   8.3054 -12.0457  13.6107  13.2132  13.7833\n",
      " -19.3007  13.8699]\n",
      "[ nan]\n",
      "[ nan  nan  nan  nan  nan  nan  nan  nan  nan  nan]\n",
      "[-28.7636  27.8091 -27.9923 -22.3398   9.749   30.2121 -38.4019 -24.5157\n",
      "  34.5901   6.9427]\n",
      "[ nan]\n",
      "[ nan  nan  nan  nan  nan  nan  nan  nan  nan  nan]\n",
      "[ 39.0518  13.5422   0.2844  -6.4297 -23.2289  23.9112   3.1568  39.6471\n",
      "  -0.2228 -25.2764]\n",
      "[ nan]\n",
      "[ nan  nan  nan  nan  nan  nan  nan  nan  nan  nan]\n",
      "[ 15.9474  -0.514   -1.2103   0.0723 -12.0355  22.7103  25.7307  14.4428\n",
      " -12.1636  15.6173]\n",
      "[ nan]\n",
      "[ nan  nan  nan  nan  nan  nan  nan  nan  nan  nan]\n",
      "[  6.8231 -12.3043 -30.044    2.288    8.25   -17.7738  -7.7744   8.5212\n",
      "  -7.5252  -4.5275]\n",
      "[ nan]\n",
      "[ nan  nan  nan  nan  nan  nan  nan  nan  nan  nan]\n",
      "[  5.1633 -31.1599  23.4234  15.1675  -1.7815   7.861  -22.0871 -21.2947\n",
      "  10.159   -7.3963]\n",
      "[ nan]\n",
      "[ nan  nan  nan  nan  nan  nan  nan  nan  nan  nan]\n",
      "[ -4.7854   3.983   -7.918  -19.2055   7.1499 -29.7759 -13.8876  -0.4178\n",
      " -27.4858  -3.7012]\n",
      "[ nan]\n",
      "[ nan  nan  nan  nan  nan  nan  nan  nan  nan  nan]\n",
      "[ -0.1472   0.4902 -22.6757  14.7657  10.7925 -17.3419  -7.5815 -16.5327\n",
      "  -6.7174   2.7522]\n",
      "[ nan]\n",
      "[ nan  nan  nan  nan  nan  nan  nan  nan  nan  nan]\n",
      "[ -2.66000000e-02  -3.50944000e+01  -3.24594000e+01   4.04050000e+00\n",
      "  -2.68454000e+01  -1.55490000e+01   1.36408000e+01  -5.82570000e+00\n",
      "  -1.99688000e+01   2.02079000e+01]\n",
      "[ nan]\n",
      "[ nan  nan  nan  nan  nan  nan  nan  nan  nan  nan]\n",
      "[  8.571   28.3335  -0.26    16.7877   7.9738  25.0168 -16.2684  64.9319\n",
      "  37.4096   4.1401]\n",
      "[ nan]\n",
      "[ nan  nan  nan  nan  nan  nan  nan  nan  nan  nan]\n",
      "[ -9.3365  14.6148  15.3803  -8.95    13.3843  11.7449  -0.2259  43.7849\n",
      " -21.8766  -2.062 ]\n",
      "[ nan]\n",
      "[ nan  nan  nan  nan  nan  nan  nan  nan  nan  nan]\n",
      "[-10.7327 -10.507  -10.8115 -22.9077  -6.4328  -5.8671 -16.5026 -18.7209\n",
      " -24.127   -3.9035]\n",
      "[ nan]\n",
      "[ nan  nan  nan  nan  nan  nan  nan  nan  nan  nan]\n",
      "[ -4.4719 -46.5036   7.6445  15.1053  25.4699  -4.865    2.9459  -4.1135\n",
      " -29.0937  -2.7148]\n",
      "[ nan]\n",
      "[ nan  nan  nan  nan  nan  nan  nan  nan  nan  nan]\n",
      "[-31.5907  -8.6258   3.3545 -33.8597 -23.3012  23.1032  -3.6703 -26.8821\n",
      "   9.5488  15.7059]\n",
      "[ nan]\n",
      "[ nan  nan  nan  nan  nan  nan  nan  nan  nan  nan]\n",
      "[  1.5474   1.0597  44.9113 -21.3187   4.3058   8.9414  -2.5855  16.7395\n",
      "   7.9103  36.3242]\n",
      "[ nan]\n",
      "[ nan  nan  nan  nan  nan  nan  nan  nan  nan  nan]\n",
      "[ 15.8642  13.2978  23.4792  -3.0947 -31.6854  21.0299  -3.5458 -21.0792\n",
      "   0.2551   1.0437]\n",
      "[ nan]\n",
      "[ nan  nan  nan  nan  nan  nan  nan  nan  nan  nan]\n",
      "[  3.2995 -10.9985 -23.5779 -15.0493  -8.052   28.2452  -7.4406  28.9882\n",
      "  11.7649 -20.7264]\n",
      "[ nan]\n",
      "[ nan  nan  nan  nan  nan  nan  nan  nan  nan  nan]\n",
      "[-18.4983   9.4069  -2.6034  -3.4082  12.6569   3.3046 -22.4033  17.6025\n",
      "   5.845    0.7365]\n",
      "[ nan]\n",
      "[ nan  nan  nan  nan  nan  nan  nan  nan  nan  nan]\n",
      "[ 19.0389   5.3023  -5.9238  15.4751  25.8458 -25.7346  22.7435  28.3442\n",
      "  14.5639   7.7247]\n",
      "[ nan]\n",
      "[ nan  nan  nan  nan  nan  nan  nan  nan  nan  nan]\n",
      "[-25.0551  14.5814 -13.73   -29.1604 -22.6408  14.6638  -7.1236  -6.1265\n",
      "  18.3277  18.9266]\n",
      "[ nan]\n",
      "[ nan  nan  nan  nan  nan  nan  nan  nan  nan  nan]\n",
      "[ 29.4529   6.8328   3.1376  -5.0836   5.7405  -8.2359  -5.9844  15.5493\n",
      " -25.9217   7.2692]\n",
      "[ nan]\n",
      "[ nan  nan  nan  nan  nan  nan  nan  nan  nan  nan]\n",
      "[  5.5905  -8.3338   9.5388   2.9695  -2.2383 -32.8456   3.7058  -2.1239\n",
      "  44.0008  29.1156]\n",
      "[ nan]\n",
      "[ nan  nan  nan  nan  nan  nan  nan  nan  nan  nan]\n",
      "[-24.9922  -2.3515  62.801   19.7341  31.4644 -20.1571  22.8596 -33.5565\n",
      " -12.0289  24.7915]\n",
      "[ nan]\n",
      "[ nan  nan  nan  nan  nan  nan  nan  nan  nan  nan]\n",
      "[-11.7986 -28.2762   6.6061 -12.0846 -11.0244   6.3332  14.3626  -3.3107\n",
      "  19.2385   2.7145]\n",
      "[ nan]\n",
      "[ nan  nan  nan  nan  nan  nan  nan  nan  nan  nan]\n",
      "[ 10.3948  25.0691 -19.7922   5.744   -0.0654 -30.0534  14.8459  -4.188\n",
      "  14.6072 -12.8035]\n",
      "[ nan]\n",
      "[ nan  nan  nan  nan  nan  nan  nan  nan  nan  nan]\n",
      "[ 18.4158 -28.1025  -7.5667  12.2992 -27.5615  10.6595 -13.3807  -3.1319\n",
      " -43.443  -35.8188]\n",
      "[ nan]\n",
      "[ nan  nan  nan  nan  nan  nan  nan  nan  nan  nan]\n",
      "[-11.1143 -16.5129  16.7175  21.8368  46.1543  14.9561   1.8915   5.5027\n",
      "  -7.0192 -35.6376]\n",
      "[ nan]\n",
      "[ nan  nan  nan  nan  nan  nan  nan  nan  nan  nan]\n",
      "[ -1.9328 -19.6591 -22.7691  19.5841  11.3725 -10.6701  20.7965   4.999\n",
      "  -6.9918 -24.5481]\n",
      "[ nan]\n",
      "[ nan  nan  nan  nan  nan  nan  nan  nan  nan  nan]\n",
      "[-34.0289 -32.6618  -3.6488  -0.5755  -0.6418   0.178    8.9158  -9.976\n",
      " -21.2482  20.8566]\n",
      "[ nan]\n",
      "[ nan  nan  nan  nan  nan  nan  nan  nan  nan  nan]\n",
      "[ -8.4632 -10.797   15.6954  25.6013 -15.5956 -21.2952  12.7661  -4.834\n",
      "   6.0825  -0.1423]\n",
      "[ nan]\n",
      "[ nan  nan  nan  nan  nan  nan  nan  nan  nan  nan]\n",
      "[ 12.6132 -19.1098  -3.0308  25.0993   4.1901   2.2022  -5.7055  11.7803\n",
      " -34.5866 -22.0603]\n",
      "[ nan]\n",
      "[ nan  nan  nan  nan  nan  nan  nan  nan  nan  nan]\n",
      "[ -6.7514  23.4242  13.4867 -16.8151  27.3124  12.9152 -14.5113  16.1135\n",
      " -11.9779  20.816 ]\n",
      "[ nan]\n",
      "[ nan  nan  nan  nan  nan  nan  nan  nan  nan  nan]\n",
      "[ 12.1906   2.3199 -14.4425   6.0517   8.866  -27.4363 -31.0784  27.8689\n",
      " -26.2022   7.7405]\n",
      "[ nan]\n",
      "[ nan  nan  nan  nan  nan  nan  nan  nan  nan  nan]\n",
      "[-13.1901 -19.1794  -6.4919  15.862   -7.6614  12.3598  25.4618 -40.8654\n",
      "  47.314  -31.3772]\n",
      "[ nan]\n",
      "[ nan  nan  nan  nan  nan  nan  nan  nan  nan  nan]\n",
      "[ -5.0959  17.0189 -31.7935  -0.9906  12.438   32.8539  32.669  -18.7553\n",
      " -25.3487  32.7133]\n",
      "[ nan]\n",
      "[ nan  nan  nan  nan  nan  nan  nan  nan  nan  nan]\n",
      "[  9.2063 -22.9092   3.91    27.7423  33.9663  36.1865  -3.7977  -0.7703\n",
      "  24.6828 -26.3494]\n",
      "[ nan]\n",
      "[ nan  nan  nan  nan  nan  nan  nan  nan  nan  nan]\n",
      "[ 32.3884   5.6625  20.8711   5.5901 -19.1434   5.2206 -11.3936  21.0453\n",
      "  22.1101 -15.4121]\n",
      "[ nan]\n",
      "[ nan  nan  nan  nan  nan  nan  nan  nan  nan  nan]\n",
      "[ 23.1785   6.1134   5.4018 -28.3533  17.5305  13.2623   3.4129 -15.7877\n",
      "  33.4208 -31.2812]\n",
      "[ nan]\n",
      "[ nan  nan  nan  nan  nan  nan  nan  nan  nan  nan]\n",
      "[ 24.3203 -43.5968  22.6947  14.8406   2.2047 -15.2598  -1.4521 -13.5951\n",
      "  34.1597  12.741 ]\n",
      "[ nan]\n",
      "[ nan  nan  nan  nan  nan  nan  nan  nan  nan  nan]\n",
      "[  2.9338  -3.4749 -11.4208   9.101  -23.435  -14.2621 -11.6979  34.4293\n",
      "  11.2631 -30.2702]\n",
      "[ nan]\n",
      "[ nan  nan  nan  nan  nan  nan  nan  nan  nan  nan]\n",
      "[ -9.9815  20.5271   0.382   19.8001  -3.4895  15.0813   0.7937 -14.3669\n",
      "  -5.0237   3.3892]\n",
      "[ nan]\n",
      "[ nan  nan  nan  nan  nan  nan  nan  nan  nan  nan]\n",
      "[-32.9605  -3.8418  18.5226 -12.8737 -25.3828   4.614    6.1809 -21.5025\n",
      " -37.6592   1.2791]\n",
      "[ nan]\n",
      "[ nan  nan  nan  nan  nan  nan  nan  nan  nan  nan]\n",
      "[ 18.5769 -21.1732 -33.506   13.3651 -41.3335 -36.8943  19.2469  -7.5463\n",
      "   3.3933  12.8176]\n",
      "[ nan]\n",
      "[ nan  nan  nan  nan  nan  nan  nan  nan  nan  nan]\n",
      "[-61.2762  13.2878   3.06   -17.7629   7.5828  18.5252 -17.7492 -10.0349\n",
      "  33.3001  30.4178]\n",
      "[ nan]\n",
      "[ nan  nan  nan  nan  nan  nan  nan  nan  nan  nan]\n",
      "[ -7.65600000e-01  -2.53261000e+01  -2.67388000e+01  -8.66470000e+00\n",
      "   9.24850000e+00  -1.74092000e+01  -1.09000000e-02   2.05830000e+00\n",
      "  -3.05038000e+01   3.97945000e+01]\n",
      "[ nan]\n",
      "[ nan  nan  nan  nan  nan  nan  nan  nan  nan  nan]\n",
      "[-26.0501 -26.0863  21.1318  -3.8901   7.4859   3.2473  16.0506 -10.0276\n",
      "  -6.2139 -21.809 ]\n",
      "[ nan]\n",
      "[ nan  nan  nan  nan  nan  nan  nan  nan  nan  nan]\n",
      "[-25.0414 -14.7842   4.3947   9.1447   5.6376   6.1694 -19.8472 -14.652\n",
      "   8.0066  16.6758]\n",
      "[ nan]\n",
      "[ nan  nan  nan  nan  nan  nan  nan  nan  nan  nan]\n",
      "[ -3.3582  -6.0865  -5.9929 -41.6381  -2.7304  -8.5279   3.6794  -6.5449\n",
      "   4.6136 -38.3927]\n",
      "[ nan]\n",
      "[ nan  nan  nan  nan  nan  nan  nan  nan  nan  nan]\n",
      "[  1.3857  34.6009 -13.0832 -39.8021  -8.6193 -24.1405   5.9904  11.2607\n",
      " -29.8875  28.6276]\n",
      "[ nan]\n",
      "[ nan  nan  nan  nan  nan  nan  nan  nan  nan  nan]\n",
      "[ 35.1462   6.8779  -3.748   24.9136  19.5013  16.8711  -5.7906  -4.3698\n",
      "  -7.183   23.4043]\n",
      "[ nan]\n",
      "[ nan  nan  nan  nan  nan  nan  nan  nan  nan  nan]\n",
      "[ 37.5784   5.2141  12.8222  -4.544   30.6088 -16.9076  -2.9396   5.6606\n",
      " -40.1729 -30.8285]\n",
      "[ nan]\n",
      "[ nan  nan  nan  nan  nan  nan  nan  nan  nan  nan]\n",
      "[ 16.5089   9.0141  50.1251 -18.1054  18.1435  30.5951   3.1802  10.1264\n",
      " -19.5895  -2.1185]\n",
      "[ nan]\n",
      "[ nan  nan  nan  nan  nan  nan  nan  nan  nan  nan]\n",
      "[ -1.6616  16.6364 -28.7362  -1.86    43.3928 -10.7081  -4.6548   5.5823\n",
      "  30.8896 -31.6044]\n",
      "[ nan]\n",
      "[ nan  nan  nan  nan  nan  nan  nan  nan  nan  nan]\n",
      "[-11.4114 -27.646    8.255   12.7106  19.8927 -15.3626 -49.8138  -8.7234\n",
      "  -5.8723 -21.9762]\n",
      "[ nan]\n",
      "[ nan  nan  nan  nan  nan  nan  nan  nan  nan  nan]\n",
      "[  6.299  -12.4262   1.7128  -3.5948  -1.2241 -13.6617   2.2496  -4.0279\n",
      "  27.098    1.6753]\n",
      "[ nan]\n",
      "[ nan  nan  nan  nan  nan  nan  nan  nan  nan  nan]\n",
      "[  3.6597  -3.0964  45.0489   4.4106  -1.0049 -15.8488  16.8051  18.7895\n",
      "  11.95    26.0524]\n",
      "[ nan]\n",
      "[ nan  nan  nan  nan  nan  nan  nan  nan  nan  nan]\n",
      "[-33.5253 -12.692   14.9849 -22.7014   0.2397 -23.5431   1.7553 -26.4679\n",
      "  11.6219 -23.083 ]\n",
      "[ nan]\n",
      "[ nan  nan  nan  nan  nan  nan  nan  nan  nan  nan]\n",
      "[ -0.5093   8.7797 -19.1499  36.6778 -30.92    31.5132  -7.8943 -16.5757\n",
      " -11.231    2.7055]\n",
      "[ nan]\n",
      "[ nan  nan  nan  nan  nan  nan  nan  nan  nan  nan]\n",
      "[  3.9165  -6.1045  15.2016  15.3902   7.7132  -7.6337  26.1353  50.0189\n",
      "  18.355   17.646 ]\n",
      "[ nan]\n",
      "[ nan  nan  nan  nan  nan  nan  nan  nan  nan  nan]\n",
      "[-37.0317   4.7205 -20.8069 -31.755   -9.6734 -37.5309   9.7049   2.0635\n",
      " -12.8385  36.2753]\n",
      "[ nan]\n",
      "[ nan  nan  nan  nan  nan  nan  nan  nan  nan  nan]\n",
      "[  2.4288   2.2252  16.9937  21.7804   2.8386 -21.0817   9.5179   7.7482\n",
      "  -7.2681  26.7133]\n",
      "[ nan]\n",
      "[ nan  nan  nan  nan  nan  nan  nan  nan  nan  nan]\n",
      "[-12.2714   9.0038 -35.8017  -4.8879  -1.4072  28.2373 -52.2536  -9.6562\n",
      " -22.2831  11.5025]\n",
      "[ nan]\n",
      "[ nan  nan  nan  nan  nan  nan  nan  nan  nan  nan]\n",
      "[-27.6026 -11.1309  -8.296  -25.2586 -18.0581 -19.8874 -12.5898 -26.4073\n",
      "  19.7267  17.4829]\n",
      "[ nan]\n",
      "[ nan  nan  nan  nan  nan  nan  nan  nan  nan  nan]\n",
      "[ -3.712  -16.3901   0.6922 -35.3142   1.7708  39.6525   3.3803  10.0095\n",
      "  -5.0299  -3.5563]\n",
      "[ nan]\n",
      "[ nan  nan  nan  nan  nan  nan  nan  nan  nan  nan]\n",
      "[  3.8398 -39.8479  21.529  -10.1352  32.0053 -14.1826  19.7009  -2.7132\n",
      "  24.9563 -13.2965]\n",
      "[ nan]\n",
      "[ nan  nan  nan  nan  nan  nan  nan  nan  nan  nan]\n",
      "[ 20.5095  44.0194 -25.774    9.8967   8.6559 -17.951  -24.1554   8.7958\n",
      " -13.993  -17.6667]\n",
      "[ nan]\n",
      "[ nan  nan  nan  nan  nan  nan  nan  nan  nan  nan]\n",
      "[  0.6676   3.2819   7.3835  20.4567  -5.8666   6.8734  -4.7053 -13.9116\n",
      "  25.3999  10.6155]\n",
      "[ nan]\n",
      "[ nan  nan  nan  nan  nan  nan  nan  nan  nan  nan]\n",
      "[ 51.2584 -14.5013   2.6588  25.4863  11.2412 -13.5845  17.9416  16.6574\n",
      "  -8.597    8.5289]\n",
      "[ nan]\n",
      "[ nan  nan  nan  nan  nan  nan  nan  nan  nan  nan]\n",
      "[ 14.3003 -22.5777  25.8777  24.4883  -2.8097 -14.1613  11.763  -11.5697\n",
      " -30.4414 -48.4779]\n",
      "[ nan]\n",
      "[ nan  nan  nan  nan  nan  nan  nan  nan  nan  nan]\n",
      "[  6.0091 -28.44   -27.0226  11.4268   4.9177  19.7819 -15.4993 -22.1919\n",
      "   0.8923   3.0346]\n",
      "[ nan]\n",
      "[ nan  nan  nan  nan  nan  nan  nan  nan  nan  nan]\n",
      "[ 34.4274   8.5381  -3.8582  -1.2115  -8.2313  10.693    6.0094  26.0106\n",
      "  19.7597  46.4718]\n",
      "[ nan]\n",
      "[ nan  nan  nan  nan  nan  nan  nan  nan  nan  nan]\n",
      "[-25.0234   1.1388 -11.6827 -12.5011  42.8219 -20.9467  13.5113   0.1212\n",
      "  16.0101  27.6238]\n",
      "[ nan]\n",
      "[ nan  nan  nan  nan  nan  nan  nan  nan  nan  nan]\n",
      "[-24.0599  -8.2796 -16.2496 -14.3276  19.7347   7.4924 -34.4574  36.8474\n",
      " -21.6687   3.0375]\n",
      "[ nan]\n",
      "[ nan  nan  nan  nan  nan  nan  nan  nan  nan  nan]\n",
      "[ 25.7637  -5.5203  -2.5345  14.9921   7.6312  13.9998  16.6576  14.061\n",
      "  35.3829  -8.7387]\n",
      "[ nan]\n",
      "[ nan  nan  nan  nan  nan  nan  nan  nan  nan  nan]\n",
      "[ 45.214   -2.2126  -7.5098 -34.029  -15.8112 -13.5635  29.3194  -3.462\n",
      "  19.7392  46.8514]\n",
      "[ nan]\n",
      "[ nan  nan  nan  nan  nan  nan  nan  nan  nan  nan]\n",
      "[ 11.6181  38.2158   1.7257 -19.757  -20.8183  18.3316   5.7105 -24.8159\n",
      " -27.2209   2.4347]\n",
      "[ nan]\n",
      "[ nan  nan  nan  nan  nan  nan  nan  nan  nan  nan]\n",
      "[  6.1515  -4.7141   1.511    5.8496  10.5119  18.7604  16.0617 -16.7661\n",
      "   1.1004  23.4908]\n",
      "[ nan]\n",
      "[ nan  nan  nan  nan  nan  nan  nan  nan  nan  nan]\n",
      "[-32.5869 -15.3308  -6.4185 -21.125  -50.6683  -8.6443  20.6489  52.0042\n",
      "   6.7795 -15.4201]\n",
      "[ nan]\n",
      "[ nan  nan  nan  nan  nan  nan  nan  nan  nan  nan]\n",
      "[ 14.4631   5.6584  -4.5259  27.586  -35.278   -2.1847  24.0324   4.9101\n",
      " -22.8248 -13.1501]\n",
      "[ nan]\n",
      "[ nan  nan  nan  nan  nan  nan  nan  nan  nan  nan]\n",
      "[ -1.1337  17.5453   7.4147   7.3684 -16.5996   8.3136   7.4292   3.2239\n",
      "   7.1675  -9.5875]\n",
      "[ nan]\n",
      "[ nan  nan  nan  nan  nan  nan  nan  nan  nan  nan]\n",
      "[ 23.9131  37.6849  39.8769  -8.3017  -4.8497  26.7399 -21.8139  10.8305\n",
      "  12.6524  13.5371]\n",
      "[ nan]\n",
      "[ nan  nan  nan  nan  nan  nan  nan  nan  nan  nan]\n",
      "[ 35.6003 -29.377   -8.3102 -42.8015 -36.2038   1.6599  13.0368  11.8892\n",
      "  -6.6012   4.7196]\n",
      "[ nan]\n",
      "[ nan  nan  nan  nan  nan  nan  nan  nan  nan  nan]\n",
      "[ 37.9266   8.689   27.8929  13.691   -7.3474 -25.267  -14.037   32.7951\n",
      "   1.5251 -13.106 ]\n",
      "[ nan]\n",
      "[ nan  nan  nan  nan  nan  nan  nan  nan  nan  nan]\n",
      "[ 26.0279  20.7375  -9.7051  -4.4727 -13.3046 -32.7115   5.267  -11.8156\n",
      "   8.6486  21.9426]\n",
      "[ nan]\n",
      "[ nan  nan  nan  nan  nan  nan  nan  nan  nan  nan]\n",
      "[ 21.134   -6.8711  17.062   38.1851  22.5546  -2.9595  32.4398 -10.9102\n",
      " -22.1969 -28.4007]\n",
      "[ nan]\n",
      "[ nan  nan  nan  nan  nan  nan  nan  nan  nan  nan]\n",
      "[ 34.3501 -16.1522  17.6085   0.6132  -3.7401  19.8064 -20.9555   7.4911\n",
      "  19.4682  25.3178]\n",
      "[ nan]\n",
      "[ nan  nan  nan  nan  nan  nan  nan  nan  nan  nan]\n",
      "[ -2.7591   3.2733 -22.6106   9.7111   6.4314  11.8353  -0.624  -10.8698\n",
      "  20.2358  16.2136]\n",
      "[ nan]\n",
      "[ nan  nan  nan  nan  nan  nan  nan  nan  nan  nan]\n",
      "[-57.5204  -5.121  -17.5115 -18.7252   7.3981 -12.3372  25.7679  36.335\n",
      "   9.0175  -3.9738]\n",
      "[ nan]\n",
      "[ nan  nan  nan  nan  nan  nan  nan  nan  nan  nan]\n",
      "[-11.8296   0.2642 -15.6819  13.3063  29.8638  20.7015 -10.6472 -22.7998\n",
      " -17.3796  14.9963]\n",
      "[ nan]\n",
      "[ nan  nan  nan  nan  nan  nan  nan  nan  nan  nan]\n",
      "[ 54.0959 -21.68   -11.7247  50.1375  32.114   24.1673  19.4607  22.9573\n",
      "  17.1462   0.5994]\n",
      "[ nan]\n",
      "[ nan  nan  nan  nan  nan  nan  nan  nan  nan  nan]\n",
      "[-22.2642 -17.2049  -4.4208 -27.8806  -6.3342  28.3959 -10.692  -34.0589\n",
      " -41.3932 -12.2583]\n",
      "[ nan]\n",
      "[ nan  nan  nan  nan  nan  nan  nan  nan  nan  nan]\n",
      "[  5.4492   6.7739 -45.9202   1.1863   8.4924  -3.9101 -37.1721   0.8257\n",
      "  -4.0884  18.3646]\n",
      "[ nan]\n",
      "[ nan  nan  nan  nan  nan  nan  nan  nan  nan  nan]\n",
      "[ 31.2569  12.8812  16.0071 -18.5466 -15.4173 -35.087   27.5831  -0.5816\n",
      "  12.4878 -14.6787]\n",
      "[ nan]\n",
      "[ nan  nan  nan  nan  nan  nan  nan  nan  nan  nan]\n",
      "[ -8.7835  -2.7698  -4.6837  11.2956   3.6084 -10.6735   6.8236  24.0313\n",
      " -24.1411  31.0233]\n",
      "[ nan]\n",
      "[ nan  nan  nan  nan  nan  nan  nan  nan  nan  nan]\n",
      "[-36.9215   2.8567 -32.8159  -4.9235  12.1148  -8.1226   1.9629  -8.7345\n",
      "  36.2671 -13.2745]\n",
      "[ nan]\n",
      "[ nan  nan  nan  nan  nan  nan  nan  nan  nan  nan]\n",
      "[  2.268   -0.8566  17.331    7.6832  -7.0246  24.5171 -38.4931  30.9129\n",
      "  19.8981  26.1239]\n",
      "[ nan]\n",
      "[ nan  nan  nan  nan  nan  nan  nan  nan  nan  nan]\n",
      "[ 20.153  -41.2118 -11.4071  -9.3526  24.0516 -24.0098  10.0165 -29.4148\n",
      "  11.5801   6.6331]\n",
      "[ nan]\n",
      "[ nan  nan  nan  nan  nan  nan  nan  nan  nan  nan]\n",
      "[ 12.3815 -19.2839 -29.7624 -10.99    16.4406  17.8307   5.0347 -11.8465\n",
      "  24.0063 -17.1848]\n",
      "[ nan]\n",
      "[ nan  nan  nan  nan  nan  nan  nan  nan  nan  nan]\n",
      "[-25.4149 -10.2025  28.0673 -24.6931  15.0761  -4.815   33.0257 -24.0929\n",
      "  43.0303   0.4462]\n",
      "[ nan]\n",
      "[ nan  nan  nan  nan  nan  nan  nan  nan  nan  nan]\n",
      "[-12.2335  36.7365  29.561   43.6958  -9.2    -26.5173   8.4578  -0.5361\n",
      "  27.6911  39.0669]\n",
      "[ nan]\n",
      "[ nan  nan  nan  nan  nan  nan  nan  nan  nan  nan]\n",
      "[ 12.3478 -20.8818   2.3237   8.3054 -12.0457  13.6107  13.2132  13.7833\n",
      " -19.3007  13.8699]\n",
      "[ nan]\n",
      "[ nan  nan  nan  nan  nan  nan  nan  nan  nan  nan]\n",
      "[-28.7636  27.8091 -27.9923 -22.3398   9.749   30.2121 -38.4019 -24.5157\n",
      "  34.5901   6.9427]\n",
      "[ nan]\n",
      "[ nan  nan  nan  nan  nan  nan  nan  nan  nan  nan]\n",
      "[ 39.0518  13.5422   0.2844  -6.4297 -23.2289  23.9112   3.1568  39.6471\n",
      "  -0.2228 -25.2764]\n",
      "[ nan]\n",
      "[ nan  nan  nan  nan  nan  nan  nan  nan  nan  nan]\n",
      "[ 15.9474  -0.514   -1.2103   0.0723 -12.0355  22.7103  25.7307  14.4428\n",
      " -12.1636  15.6173]\n",
      "[ nan]\n",
      "[ nan  nan  nan  nan  nan  nan  nan  nan  nan  nan]\n",
      "[  6.8231 -12.3043 -30.044    2.288    8.25   -17.7738  -7.7744   8.5212\n",
      "  -7.5252  -4.5275]\n",
      "[ nan]\n",
      "[ nan  nan  nan  nan  nan  nan  nan  nan  nan  nan]\n",
      "[  5.1633 -31.1599  23.4234  15.1675  -1.7815   7.861  -22.0871 -21.2947\n",
      "  10.159   -7.3963]\n",
      "[ nan]\n",
      "[ nan  nan  nan  nan  nan  nan  nan  nan  nan  nan]\n",
      "[ -4.7854   3.983   -7.918  -19.2055   7.1499 -29.7759 -13.8876  -0.4178\n",
      " -27.4858  -3.7012]\n",
      "[ nan]\n",
      "[ nan  nan  nan  nan  nan  nan  nan  nan  nan  nan]\n"
     ]
    }
   ],
   "source": [
    "stochasticGradientDiscent(X,y,sp,0.1,3,2,0.7)"
   ]
  },
  {
   "cell_type": "code",
   "execution_count": 229,
   "metadata": {
    "collapsed": false
   },
   "outputs": [
    {
     "name": "stdout",
     "output_type": "stream",
     "text": [
      "0.329876977693\n",
      "[  2.27496097e-01  -3.66154899e+02  -3.42818175e+02   4.86995266e+01\n",
      "  -2.79365403e+02  -1.54519334e+02   1.44823824e+02  -6.08498480e+01\n",
      "  -2.19959331e+02   2.25225007e+02]\n",
      "-15.7131943321\n"
     ]
    }
   ],
   "source": [
    "i = 1\n",
    "indTheta = sp\n",
    "indX = X[i,]\n",
    "indY = y[i]\n",
    "value = (np.inner(np.transpose(indX),indTheta) - indY)**2\n",
    "gradient = 2*(np.inner(np.transpose(indX),indTheta) - indY)*indX\n",
    "#print value,gradient\n",
    "#print np.linalg.norm(gradient)\n",
    "tau0 = 2\n",
    "k = 0.8\n",
    "j = 1\n",
    "etaT = (1./(tau0+(j+1)))**k\n",
    "print etaT\n",
    "newTheta = indTheta - etaT*gradient\n",
    "#print gradient\n",
    "#print etaT*gradient\n",
    "print newTheta\n",
    "print np.inner(np.transpose(indX),indTheta) - indY\n",
    "#2*(np.inner(np.transpose(indX),newTheta) - indY)*indX"
   ]
  },
  {
   "cell_type": "code",
   "execution_count": 230,
   "metadata": {
    "collapsed": false
   },
   "outputs": [
    {
     "data": {
      "text/plain": [
       "array([  0.5032541 ,  -2.3367948 ,  -6.31670032,   6.81230107,\n",
       "        -1.06337989,   6.67469398,   3.4118044 ,  -0.45573592,\n",
       "       -12.94593466,  15.73289812])"
      ]
     },
     "execution_count": 230,
     "metadata": {},
     "output_type": "execute_result"
    }
   ],
   "source": [
    "sp"
   ]
  },
  {
   "cell_type": "code",
   "execution_count": null,
   "metadata": {
    "collapsed": false
   },
   "outputs": [],
   "source": []
  },
  {
   "cell_type": "code",
   "execution_count": 122,
   "metadata": {
    "collapsed": false
   },
   "outputs": [
    {
     "data": {
      "text/plain": [
       "array([-41.31766813,  -0.82708803,  -7.06071553,  34.42502081,\n",
       "       -30.18680803,  -0.67330762,  15.95421946,   3.48234334,\n",
       "         6.73856983, -15.40532608])"
      ]
     },
     "execution_count": 122,
     "metadata": {},
     "output_type": "execute_result"
    }
   ],
   "source": [
    "sp"
   ]
  },
  {
   "cell_type": "code",
   "execution_count": null,
   "metadata": {
    "collapsed": false
   },
   "outputs": [],
   "source": [
    "indX = X[i,]\n",
    "indY = y[i]\n",
    "value = (np.inner(np.transpose(indX),sp) - indY)**2\n",
    "value\n",
    "2*(np.inner(np.transpose(indX),sp) - indY)*indX"
   ]
  },
  {
   "cell_type": "code",
   "execution_count": null,
   "metadata": {
    "collapsed": false
   },
   "outputs": [],
   "source": [
    "def additional(function,f,d,*args):\n",
    "    return(function(*args)+f**d)\n"
   ]
  },
  {
   "cell_type": "code",
   "execution_count": null,
   "metadata": {
    "collapsed": false
   },
   "outputs": [],
   "source": [
    "add(23,31)"
   ]
  },
  {
   "cell_type": "code",
   "execution_count": null,
   "metadata": {
    "collapsed": false
   },
   "outputs": [],
   "source": [
    "additional(mult,23,2,12,3)"
   ]
  },
  {
   "cell_type": "code",
   "execution_count": null,
   "metadata": {
    "collapsed": false
   },
   "outputs": [],
   "source": [
    "23**2"
   ]
  },
  {
   "cell_type": "code",
   "execution_count": null,
   "metadata": {
    "collapsed": false
   },
   "outputs": [],
   "source": [
    "abs(23-132)"
   ]
  },
  {
   "cell_type": "code",
   "execution_count": null,
   "metadata": {
    "collapsed": true
   },
   "outputs": [],
   "source": [
    " x = np.arange(30).reshape(6,5)"
   ]
  },
  {
   "cell_type": "code",
   "execution_count": null,
   "metadata": {
    "collapsed": false
   },
   "outputs": [],
   "source": [
    "x[:,1]"
   ]
  },
  {
   "cell_type": "code",
   "execution_count": null,
   "metadata": {
    "collapsed": false
   },
   "outputs": [],
   "source": [
    "data = pl.loadtxt('../DataFiles/HW1/curvefittingp2.txt')"
   ]
  },
  {
   "cell_type": "markdown",
   "metadata": {},
   "source": [
    "## Linear Basis Function Regression"
   ]
  },
  {
   "cell_type": "code",
   "execution_count": 407,
   "metadata": {
    "collapsed": true
   },
   "outputs": [],
   "source": [
    "# Data for question 2\n",
    "import matplotlib.pyplot as plt\n",
    "import pylab as pl\n",
    "\n",
    "def getData(ifPlotData=True):\n",
    "    # load the fitting data and (optionally) plot out for examination\n",
    "    # return the X and Y as a tuple\n",
    "\n",
    "    data = pl.loadtxt('../DataFiles/HW1/curvefittingp2.txt')\n",
    "\n",
    "    X = data[0,:]\n",
    "    Y = data[1,:]\n",
    "\n",
    "    if ifPlotData:\n",
    "        plt.plot(X,Y,'o')\n",
    "        plt.xlabel('x')\n",
    "        plt.ylabel('y')\n",
    "        plt.show()\n",
    "\n",
    "    return (X,Y)"
   ]
  },
  {
   "cell_type": "code",
   "execution_count": 299,
   "metadata": {
    "collapsed": false
   },
   "outputs": [
    {
     "data": {
      "image/png": "[encoded data removed]",
      "text/plain": [
       "<matplotlib.figure.Figure at 0x10551b910>"
      ]
     },
     "metadata": {},
     "output_type": "display_data"
    }
   ],
   "source": [
    "X,Y = getData(ifPlotData=True)\n"
   ]
  },
  {
   "cell_type": "code",
   "execution_count": 307,
   "metadata": {
    "collapsed": false
   },
   "outputs": [
    {
     "data": {
      "text/plain": [
       "array([ 0. ,  0.1,  0.2,  0.3,  0.4,  0.5,  0.6,  0.7,  0.8,  0.9,  1. ])"
      ]
     },
     "execution_count": 307,
     "metadata": {},
     "output_type": "execute_result"
    }
   ],
   "source": [
    "X"
   ]
  },
  {
   "cell_type": "code",
   "execution_count": 301,
   "metadata": {
    "collapsed": true
   },
   "outputs": [],
   "source": [
    "def LBFRegression(X,y,m):\n",
    "    designMat = np.zeros((len(X),m+1))\n",
    "    for i in range(m+1):\n",
    "        #print([a**i for a in X])\n",
    "        designMat[:,i] = [a**i for a in X]\n",
    "        \n",
    "        \n",
    "    mle = np.inner(np.dot(np.linalg.inv(np.dot(np.transpose(designMat),designMat)),np.transpose(designMat)),y)\n",
    "    fittedValues = np.dot(designMat,np.transpose(mle))\n",
    "    return(mle,fittedValues)"
   ]
  },
  {
   "cell_type": "markdown",
   "metadata": {},
   "source": [
    "### 2.1"
   ]
  },
  {
   "cell_type": "code",
   "execution_count": 361,
   "metadata": {
    "collapsed": false
   },
   "outputs": [],
   "source": [
    "xtrue = np.linspace(0,1,100) # 100 linearly spaced numbers\n",
    "ytrue = np.cos(np.pi*xtrue)+1.5*np.cos(2*np.pi*xtrue) # computing the values of sin(x)/x\n",
    "noise = np.random.normal(0,0.01,100)\n",
    "ytrue = ytrue+noise\n",
    "\n",
    "\n",
    "weights0 = LBFRegression(X,Y,0)[0]\n",
    "m = 0\n",
    "designMat = np.zeros((len(xtrue),m+1))\n",
    "for i in range(m+1):\n",
    "    designMat[:,i] = [a**i for a in xtrue]\n",
    "\n",
    "\n",
    "fValue0 = np.inner(designMat,np.transpose(weights0))\n",
    "\n",
    "weights1 = LBFRegression(X,Y,1)[0]\n",
    "m = 1\n",
    "designMat = np.zeros((len(xtrue),m+1))\n",
    "for i in range(m+1):\n",
    "    designMat[:,i] = [a**i for a in xtrue]\n",
    "\n",
    "\n",
    "fValue1 = np.inner(designMat,np.transpose(weights1))\n",
    "\n",
    "\n",
    "\n",
    "weights3 = LBFRegression(X,Y,3)[0]\n",
    "m = 3\n",
    "designMat = np.zeros((len(xtrue),m+1))\n",
    "for i in range(m+1):\n",
    "    designMat[:,i] = [a**i for a in xtrue]\n",
    "\n",
    "\n",
    "fValue3 = np.inner(designMat,np.transpose(weights3))\n",
    "\n",
    "\n",
    "\n",
    "weights10 = LBFRegression(X,Y,10)[0]\n",
    "m = 10\n",
    "designMat = np.zeros((len(xtrue),m+1))\n",
    "for i in range(m+1):\n",
    "    designMat[:,i] = [a**i for a in xtrue]\n",
    "\n",
    "weights10 = LBFRegression(X,Y,10)[0]\n",
    "fValue10 = np.inner(designMat,np.transpose(weights10))"
   ]
  },
  {
   "cell_type": "code",
   "execution_count": 362,
   "metadata": {
    "collapsed": false
   },
   "outputs": [
    {
     "data": {
      "text/plain": [
       "array([ 2.28013448,  1.79391397,  1.58741861,  1.5457288 ,  1.58651516,\n",
       "        1.65331598,  1.70983853,  1.73517068,  1.71979784,  1.6623286 ,\n",
       "        1.56684075,  1.44076631,  1.293242  ,  1.13385782,  0.97174315,\n",
       "        0.81493557,  0.66998334,  0.54173782,  0.43329704,  0.34606615,\n",
       "        0.27990509,  0.23333752,  0.20379884,  0.18790481,  0.18172494,\n",
       "        0.18104813,  0.1816304 ,  0.17941703,  0.17073339,  0.15244098,\n",
       "        0.1220563 ,  0.07783235,  0.01880309, -0.05520715, -0.14360672,\n",
       "       -0.24508887, -0.3577091 , -0.47898339, -0.60600257, -0.73555824,\n",
       "       -0.86427529, -0.9887464 , -1.10566406, -1.21194574, -1.30484852,\n",
       "       -1.38206954, -1.44182946, -1.48293648, -1.50482898, -1.50759572,\n",
       "       -1.49197285, -1.45931786, -1.41156108, -1.35113614, -1.28089117,\n",
       "       -1.20398342, -1.1237602 , -1.04362973, -0.96692591, -0.89677134,\n",
       "       -0.83594315, -0.78674658, -0.7509011 , -0.7294441 , -0.72265688,\n",
       "       -0.7300174 , -0.75018398, -0.7810136 , -0.81961741, -0.86245577,\n",
       "       -0.90547345, -0.94427492, -0.97433784, -0.99126139, -0.99104419,\n",
       "       -0.9703844 , -0.92699235, -0.85990336, -0.76977561, -0.65915489,\n",
       "       -0.53268448, -0.39723496, -0.26192451, -0.1379963 , -0.03851461,\n",
       "        0.02216335,  0.02918832, -0.03165343, -0.17242574, -0.40107523,\n",
       "       -0.71893785, -1.11763908, -1.57530028, -2.0519554 , -2.48407423,\n",
       "       -2.77807941, -2.8027354 , -2.38027774, -1.27614098,  0.81286687])"
      ]
     },
     "execution_count": 362,
     "metadata": {},
     "output_type": "execute_result"
    }
   ],
   "source": [
    "fValue10\n"
   ]
  },
  {
   "cell_type": "code",
   "execution_count": 366,
   "metadata": {
    "collapsed": false
   },
   "outputs": [
    {
     "data": {
      "image/png": "[encoded data removed]",
      "text/plain": [
       "<matplotlib.figure.Figure at 0x10575b790>"
      ]
     },
     "metadata": {},
     "output_type": "display_data"
    }
   ],
   "source": [
    "plt.plot(xtrue,ytrue)\n",
    "plt.plot(X,Y,'o')\n",
    "plt.plot(xtrue,fValue0)\n",
    "plt.xlabel('x')\n",
    "plt.ylabel('y')\n",
    "plt.show()"
   ]
  },
  {
   "cell_type": "code",
   "execution_count": 365,
   "metadata": {
    "collapsed": false
   },
   "outputs": [
    {
     "data": {
      "image/png": "[encoded data removed]",
      "text/plain": [
       "<matplotlib.figure.Figure at 0x105a0c450>"
      ]
     },
     "metadata": {},
     "output_type": "display_data"
    }
   ],
   "source": [
    "plt.plot(xtrue,ytrue)\n",
    "plt.plot(X,Y,'o')\n",
    "plt.plot(xtrue,fValue1)\n",
    "plt.xlabel('x')\n",
    "plt.ylabel('y')\n",
    "plt.show()"
   ]
  },
  {
   "cell_type": "code",
   "execution_count": 367,
   "metadata": {
    "collapsed": false
   },
   "outputs": [
    {
     "data": {
      "image/png": "[encoded data removed]",
      "text/plain": [
       "<matplotlib.figure.Figure at 0x105b433d0>"
      ]
     },
     "metadata": {},
     "output_type": "display_data"
    }
   ],
   "source": [
    "plt.plot(xtrue,ytrue)\n",
    "plt.plot(X,Y,'o')\n",
    "plt.plot(xtrue,fValue3)\n",
    "plt.xlabel('x')\n",
    "plt.ylabel('y')\n",
    "plt.show()"
   ]
  },
  {
   "cell_type": "code",
   "execution_count": 368,
   "metadata": {
    "collapsed": false
   },
   "outputs": [
    {
     "data": {
      "image/png": "[encoded data removed]",
      "text/plain": [
       "<matplotlib.figure.Figure at 0x105a62490>"
      ]
     },
     "metadata": {},
     "output_type": "display_data"
    }
   ],
   "source": [
    "plt.plot(xtrue,ytrue)\n",
    "plt.plot(X,Y,'o')\n",
    "plt.plot(xtrue,fValue10)\n",
    "plt.xlabel('x')\n",
    "plt.ylabel('y')\n",
    "plt.show()"
   ]
  },
  {
   "cell_type": "markdown",
   "metadata": {
    "collapsed": true
   },
   "source": [
    "# SSE"
   ]
  },
  {
   "cell_type": "code",
   "execution_count": 450,
   "metadata": {
    "collapsed": true
   },
   "outputs": [],
   "source": [
    "def SSEPolynomialBasis(weight,X,y):\n",
    "    error = np.inner(X,np.transpose(weight)) - y\n",
    "    SSE =np.inner(error,np.transpose(error))\n",
    "    SSEderivative = 2*np.inner(np.transpose(X),error)\n",
    "    return(SSE,SSEderivative)"
   ]
  },
  {
   "cell_type": "code",
   "execution_count": 451,
   "metadata": {
    "collapsed": false
   },
   "outputs": [],
   "source": [
    "weights3 = LBFRegression(X,Y,3)[0]\n",
    "m = 3\n",
    "designMat = np.zeros((len(xtrue),m+1))\n",
    "for i in range(m+1):\n",
    "    designMat[:,i] = [a**i for a in xtrue]\n",
    "\n",
    "\n",
    "fValue3 = np.inner(designMat,np.transpose(weights3))"
   ]
  },
  {
   "cell_type": "code",
   "execution_count": 452,
   "metadata": {
    "collapsed": false
   },
   "outputs": [
    {
     "data": {
      "text/plain": [
       "(20.064547341573839,\n",
       " array([-34.23292684,  -7.8744223 ,  -5.7747032 ,  -5.77466117]))"
      ]
     },
     "execution_count": 452,
     "metadata": {},
     "output_type": "execute_result"
    }
   ],
   "source": [
    "SSEPolynomialBasis(weights3,designMat,ytrue)"
   ]
  },
  {
   "cell_type": "code",
   "execution_count": 453,
   "metadata": {
    "collapsed": false
   },
   "outputs": [
    {
     "name": "stdout",
     "output_type": "stream",
     "text": [
      "29.77646773 51.2391531319\n"
     ]
    }
   ],
   "source": [
    "weight3high = weights3+0.2\n",
    "weight3Low = weights3-0.2\n",
    "a = SSEPolynomialBasis(weight3high,designMat,ytrue)[0]\n",
    "b = SSEPolynomialBasis(weight3Low,designMat,ytrue)[0]\n",
    "print a,b"
   ]
  },
  {
   "cell_type": "markdown",
   "metadata": {},
   "source": [
    "Numerical derviative for the SSE"
   ]
  },
  {
   "cell_type": "code",
   "execution_count": 454,
   "metadata": {
    "collapsed": false
   },
   "outputs": [
    {
     "name": "stdout",
     "output_type": "stream",
     "text": [
      "19.7322180731\n",
      "20.41687661\n",
      "19.989153287\n",
      "20.1466417329\n",
      "20.0088306463\n",
      "20.1243247102\n",
      "20.0082655207\n",
      "20.123758744\n"
     ]
    },
    {
     "data": {
      "text/plain": [
       "[-34.232926844955891,\n",
       " -7.8744222963324617,\n",
       " -5.7747031965250883,\n",
       " -5.7746611669719172]"
      ]
     },
     "execution_count": 454,
     "metadata": {},
     "output_type": "execute_result"
    }
   ],
   "source": [
    "finiteDifference(SSEPolynomialBasis,weights3,0.02,designMat,ytrue)"
   ]
  },
  {
   "cell_type": "code",
   "execution_count": 460,
   "metadata": {
    "collapsed": false
   },
   "outputs": [
    {
     "name": "stdout",
     "output_type": "stream",
     "text": [
      "0.0129883476206\n",
      "1\n",
      "0.0129531685524\n",
      "2\n",
      "0.0129179894842\n",
      "3\n",
      "0.012882810416\n",
      "4\n",
      "0.0128476313478\n",
      "5\n",
      "0.0128124522796\n",
      "6\n",
      "0.0127772732114\n",
      "7\n",
      "0.0127420941432\n",
      "8\n",
      "0.0127069150749\n",
      "9\n",
      "0.0126717360068\n",
      "10\n",
      "0.0126365569385\n",
      "11\n",
      "0.0126013778703\n",
      "12\n",
      "0.0125661988021\n",
      "13\n",
      "0.0125310197339\n",
      "14\n",
      "0.0124958406657\n",
      "15\n",
      "0.0124606615975\n",
      "16\n",
      "0.0124254825293\n",
      "17\n",
      "0.012390303461\n",
      "18\n",
      "0.0123551243928\n",
      "19\n",
      "0.0123199453246\n",
      "20\n"
     ]
    },
    {
     "data": {
      "text/plain": [
       "[35.966211558882087,\n",
       " 35.868704694401998,\n",
       " 35.771224792314086,\n",
       " 35.673772073645672,\n",
       " 35.576346761783753,\n",
       " 35.478949082505807,\n",
       " 35.381579264011179,\n",
       " 35.284237536952304,\n",
       " 35.186924134467155,\n",
       " 35.089639292211544,\n",
       " 34.992383248392706,\n",
       " 34.895156243802241,\n",
       " 34.797958521850944,\n",
       " 34.700790328602679,\n",
       " 34.603651912810165,\n",
       " 34.506543525950612,\n",
       " 34.409465422261654,\n",
       " 34.312417858778446,\n",
       " 34.215401095371099,\n",
       " 34.118415394782389]"
      ]
     },
     "execution_count": 460,
     "metadata": {},
     "output_type": "execute_result"
    }
   ],
   "source": [
    "batchGradientDiscent(SSEPolynomialBasis,weights3,0.00001,0.01,20,designMat,ytrue)"
   ]
  },
  {
   "cell_type": "markdown",
   "metadata": {
    "collapsed": false
   },
   "source": [
    "# Cosine basis function"
   ]
  },
  {
   "cell_type": "code",
   "execution_count": 409,
   "metadata": {
    "collapsed": false
   },
   "outputs": [],
   "source": [
    "def CosBFRegression(X,y,m):\n",
    "    designMat = np.zeros((len(X),m))\n",
    "    for i in range(1,m+1):\n",
    "        \n",
    "        #print np.cos(i*np.pi*X)\n",
    "        designMat[:,i-1] = np.cos(i*np.pi*X)\n",
    "        \n",
    "        \n",
    "    mle = np.inner(np.dot(np.linalg.inv(np.dot(np.transpose(designMat),designMat)),np.transpose(designMat)),y)\n",
    "    fittedValues = np.dot(designMat,np.transpose(mle))\n",
    "    return(mle)"
   ]
  },
  {
   "cell_type": "code",
   "execution_count": 413,
   "metadata": {
    "collapsed": false
   },
   "outputs": [
    {
     "data": {
      "text/plain": [
       "array([ 2.2748,  1.5728,  0.2885,  0.1237, -0.81  , -1.5123, -0.8655,\n",
       "       -0.8766, -0.6274, -0.4159,  0.8383])"
      ]
     },
     "execution_count": 413,
     "metadata": {},
     "output_type": "execute_result"
    }
   ],
   "source": [
    "Y"
   ]
  },
  {
   "cell_type": "code",
   "execution_count": 416,
   "metadata": {
    "collapsed": false
   },
   "outputs": [],
   "source": [
    "cosBasis1 = CosBFRegression(X,Y,1)\n",
    "cosBasis2 = CosBFRegression(X,Y,2)\n",
    "cosBasis3 = CosBFRegression(X,Y,3)\n",
    "cosBasis4 = CosBFRegression(X,Y,4)\n",
    "cosBasis5 = CosBFRegression(X,Y,5)\n",
    "cosBasis6 = CosBFRegression(X,Y,6)\n",
    "cosBasis7 = CosBFRegression(X,Y,7)\n",
    "cosBasis8 = CosBFRegression(X,Y,8)"
   ]
  },
  {
   "cell_type": "code",
   "execution_count": 419,
   "metadata": {
    "collapsed": false
   },
   "outputs": [],
   "source": [
    "\n",
    "\n",
    "\n",
    "trueCosBasis = [1,1.5,0,0,0,0,0,0]"
   ]
  },
  {
   "cell_type": "code",
   "execution_count": 423,
   "metadata": {
    "collapsed": false
   },
   "outputs": [
    {
     "ename": "AttributeError",
     "evalue": "'numpy.ndarray' object has no attribute 'append'",
     "output_type": "error",
     "traceback": [
      "\u001b[0;31m---------------------------------------------------------------------------\u001b[0m",
      "\u001b[0;31mAttributeError\u001b[0m                            Traceback (most recent call last)",
      "\u001b[0;32m<ipython-input-423-adf5691050d6>\u001b[0m in \u001b[0;36m<module>\u001b[0;34m()\u001b[0m\n\u001b[1;32m      1\u001b[0m \u001b[0;31m# append additional zeroes to the weight vectors and caluclate the euclidean norm\u001b[0m\u001b[0;34m\u001b[0m\u001b[0;34m\u001b[0m\u001b[0m\n\u001b[0;32m----> 2\u001b[0;31m \u001b[0mnp\u001b[0m\u001b[0;34m.\u001b[0m\u001b[0mlinalg\u001b[0m\u001b[0;34m.\u001b[0m\u001b[0mnorm\u001b[0m\u001b[0;34m(\u001b[0m\u001b[0mtrueCosBasis\u001b[0m\u001b[0;34m-\u001b[0m\u001b[0mcosBasis7\u001b[0m\u001b[0;34m.\u001b[0m\u001b[0mappend\u001b[0m\u001b[0;34m(\u001b[0m\u001b[0;36m0\u001b[0m\u001b[0;34m)\u001b[0m\u001b[0;34m)\u001b[0m\u001b[0;34m\u001b[0m\u001b[0m\n\u001b[0m",
      "\u001b[0;31mAttributeError\u001b[0m: 'numpy.ndarray' object has no attribute 'append'"
     ]
    }
   ],
   "source": [
    "# append additional zeroes to the weight vectors and caluclate the euclidean norm\n",
    "np.linalg.norm(trueCosBasis-cosBasis7.append(0))"
   ]
  },
  {
   "cell_type": "code",
   "execution_count": null,
   "metadata": {
    "collapsed": false
   },
   "outputs": [],
   "source": [
    "np.cos(4*np.pi*X)"
   ]
  },
  {
   "cell_type": "markdown",
   "metadata": {},
   "source": [
    "# Ridge Regression "
   ]
  },
  {
   "cell_type": "code",
   "execution_count": 11,
   "metadata": {
    "collapsed": false
   },
   "outputs": [],
   "source": [
    "# Data for question 3\n",
    "\n",
    "import pdb\n",
    "import random\n",
    "import pylab as pl\n",
    "\n",
    "# X is an array of N data points (one dimensional for now), that is, NX1\n",
    "# Y is a Nx1 column vector of data values\n",
    "\n",
    "def getData(name):\n",
    "    data = pl.loadtxt(name)\n",
    "    # Returns column matrices\n",
    "    X = data[0:1].T\n",
    "    Y = data[1:2].T\n",
    "    return X, Y\n",
    "\n",
    "def regressAData():\n",
    "    return getData('../DataFiles/HW1/regressA_train.txt')\n",
    "\n",
    "def regressBData():\n",
    "    return getData('../DataFiles/HW1/regressB_train.txt')\n",
    "\n",
    "def validateData():\n",
    "    return getData('../DataFiles/HW1/regress_validate.txt')"
   ]
  },
  {
   "cell_type": "code",
   "execution_count": 12,
   "metadata": {
    "collapsed": false
   },
   "outputs": [
    {
     "data": {
      "text/plain": [
       "array([[ 1.29946363],\n",
       "       [-0.80608991],\n",
       "       [ 0.7569518 ],\n",
       "       [-2.62790749],\n",
       "       [-1.50589984],\n",
       "       [-2.83632079],\n",
       "       [-2.72378643],\n",
       "       [ 1.13817614],\n",
       "       [-1.23794415],\n",
       "       [-1.40714309],\n",
       "       [ 2.40714309],\n",
       "       [ 2.30714309],\n",
       "       [ 0.90714309]])"
      ]
     },
     "execution_count": 12,
     "metadata": {},
     "output_type": "execute_result"
    }
   ],
   "source": [
    "regressAData()[0]"
   ]
  },
  {
   "cell_type": "code",
   "execution_count": 17,
   "metadata": {
    "collapsed": false
   },
   "outputs": [],
   "source": [
    "def ridgeRegression(X,y,lambdaShrink,m):\n",
    "    designMat = np.zeros((len(X),m+1))\n",
    "    for i in range(m+1):\n",
    "        #print([a**i for a in X])\n",
    "        designMat[:,i] = [a**i for a in X]\n",
    "        designMat[:,i] = [j - np.mean(y) for j in designMat[:,i]] # Centering X's\n",
    "        \n",
    "    y = y.ravel() \n",
    "    \n",
    "    yCentered = [j - np.mean(y) for j in y] # Centering y's\n",
    "    \n",
    "    mle = np.inner(np.dot(np.linalg.inv(np.dot(np.transpose(designMat),designMat)+lambdaShrink*np.identity(m+1)),np.transpose(designMat)),yCentered)\n",
    "    fittedValues = np.dot(designMat,np.transpose(mle))\n",
    "    return(mle,fittedValues)\n",
    "    "
   ]
  },
  {
   "cell_type": "markdown",
   "metadata": {},
   "source": [
    "Test 1"
   ]
  },
  {
   "cell_type": "code",
   "execution_count": 18,
   "metadata": {
    "collapsed": false
   },
   "outputs": [],
   "source": [
    "Train1_X = regressAData()[0]\n",
    "Train1_Y = regressAData()[1]\n",
    "Test1_X = regressBData()[0]\n",
    "Test1_Y = regressBData()[1]\n",
    "valid1_X =validateData()[0]\n",
    "valid1_Y = validateData()[1]"
   ]
  },
  {
   "cell_type": "code",
   "execution_count": null,
   "metadata": {
    "collapsed": false
   },
   "outputs": [],
   "source": []
  },
  {
   "cell_type": "code",
   "execution_count": 19,
   "metadata": {
    "collapsed": false
   },
   "outputs": [
    {
     "ename": "NameError",
     "evalue": "name 'ridgeParam' is not defined",
     "output_type": "error",
     "traceback": [
      "\u001b[0;31m---------------------------------------------------------------------------\u001b[0m",
      "\u001b[0;31mNameError\u001b[0m                                 Traceback (most recent call last)",
      "\u001b[0;32m<ipython-input-19-6001b7b14ea7>\u001b[0m in \u001b[0;36m<module>\u001b[0;34m()\u001b[0m\n\u001b[0;32m----> 1\u001b[0;31m \u001b[0mridgeParam\u001b[0m\u001b[0;34m\u001b[0m\u001b[0m\n\u001b[0m",
      "\u001b[0;31mNameError\u001b[0m: name 'ridgeParam' is not defined"
     ]
    }
   ],
   "source": [
    "ridgeParam"
   ]
  },
  {
   "cell_type": "code",
   "execution_count": 33,
   "metadata": {
    "collapsed": false
   },
   "outputs": [],
   "source": [
    "def LBFRidgeRegression(theta,X,y,lambda_shrinkage):\n",
    "    params = len(theta)\n",
    "    #print (m)\n",
    "    designMat = np.zeros((len(X),params))\n",
    "    for i in range(params):\n",
    "        #print([a**i for a in X])\n",
    "        designMat[:,i] = [a**i for a in X]\n",
    "        designMat[:,i] = [j - np.mean(y) for j in designMat[:,i]] # Centering X's\n",
    "    \n",
    "    y = y.ravel() \n",
    "    yCentered = [j - np.mean(y) for j in y]  # Centering y's\n",
    "    \n",
    "    \n",
    "    fittedValues = np.dot(designMat,np.transpose(theta))\n",
    "    fittedDifference = [a - b for a, b in zip(fittedValues,yCentered)]\n",
    "    RSS = sum(a**2 for a in fittedDifference)+lambda_shrinkage*np.dot(theta,np.transpose(theta))\n",
    "    return(fittedValues,RSS)"
   ]
  },
  {
   "cell_type": "code",
   "execution_count": 38,
   "metadata": {
    "collapsed": false
   },
   "outputs": [
    {
     "data": {
      "text/plain": [
       "(array([ 1.79407114,  0.90137955, -1.34963976, -1.92571202,  0.12248468,\n",
       "        -0.23195515, -1.76788164, -1.48869352, -1.30998562, -1.3324572 ,\n",
       "        -2.13197573, -0.69506116, -0.20151477, -2.93539211,  0.19682816,\n",
       "        -1.46914259,  0.82750859,  1.10991989,  1.34064851, -2.08221341,\n",
       "         1.48949314,  1.65475167]), 35.598423331853681)"
      ]
     },
     "execution_count": 38,
     "metadata": {},
     "output_type": "execute_result"
    }
   ],
   "source": [
    "ridgeParam = ridgeRegression(Train1_X,Train1_Y,0.6,5)[0]\n",
    "LBFRidgeRegression(ridgeParam,valid1_X ,valid1_Y,15)\n",
    "#ridgeParam"
   ]
  },
  {
   "cell_type": "code",
   "execution_count": null,
   "metadata": {
    "collapsed": false
   },
   "outputs": [],
   "source": []
  },
  {
   "cell_type": "markdown",
   "metadata": {},
   "source": [
    "Test 2"
   ]
  },
  {
   "cell_type": "code",
   "execution_count": 245,
   "metadata": {
    "collapsed": true
   },
   "outputs": [],
   "source": [
    "Train1_X = regressBData()[0]\n",
    "Train1_Y = regressBData()[1]\n",
    "Test1_X = regressAData()[0]\n",
    "Test1_Y = regressAData()[1]"
   ]
  },
  {
   "cell_type": "code",
   "execution_count": 256,
   "metadata": {
    "collapsed": true
   },
   "outputs": [],
   "source": [
    "ridgeParam = ridgeRegression(Train1_X,Train1_Y,0.6,10)[0]"
   ]
  },
  {
   "cell_type": "code",
   "execution_count": 257,
   "metadata": {
    "collapsed": false
   },
   "outputs": [
    {
     "data": {
      "text/plain": [
       "(array([  2.14770993,   0.18476991,   1.72257668,   5.33057413,\n",
       "         -2.19399598,  26.11913085,  12.81365765,   2.12672868,\n",
       "         -0.92511617,  -1.66875885,  48.19063043,  29.48151876,   1.91391144]),\n",
       " 248.96639489346109)"
      ]
     },
     "execution_count": 257,
     "metadata": {},
     "output_type": "execute_result"
    }
   ],
   "source": [
    "LBFRidgeRegression(ridgeParam,Test1_X ,Test1_Y)"
   ]
  },
  {
   "cell_type": "code",
   "execution_count": null,
   "metadata": {
    "collapsed": true
   },
   "outputs": [],
   "source": []
  },
  {
   "cell_type": "markdown",
   "metadata": {},
   "source": [
    "# Question 4 (Sparsity and LASSO)"
   ]
  },
  {
   "cell_type": "code",
   "execution_count": 3,
   "metadata": {
    "collapsed": true
   },
   "outputs": [],
   "source": [
    "# Data for this question\n",
    "import pdb\n",
    "import random\n",
    "import pylab as pl\n",
    "\n",
    "# X is an array of N data points (one dimensional for now), that is, NX1\n",
    "# Y is a Nx1 column vector of data values\n",
    "\n",
    "def getData(name):\n",
    "    data = pl.loadtxt(name)\n",
    "    # Returns column matrices\n",
    "    X = data[0:1].T\n",
    "    Y = data[1:2].T\n",
    "    return X, Y\n",
    "\n",
    "def lassoTrainData():\n",
    "    return getData('../DataFiles/HW1/lasso_train.txt')\n",
    "\n",
    "def lassoValData():\n",
    "    return getData('../DataFiles/HW1/lasso_validate.txt')\n",
    "\n",
    "def lassoTestData():\n",
    "    return getData('../DataFiles/HW1/lasso_test.txt')\n"
   ]
  },
  {
   "cell_type": "code",
   "execution_count": 4,
   "metadata": {
    "collapsed": false
   },
   "outputs": [
    {
     "name": "stdout",
     "output_type": "stream",
     "text": [
      "[ 0.94  0.  ]\n",
      "0.0\n"
     ]
    }
   ],
   "source": [
    "from sklearn import linear_model\n",
    "\n",
    "clf = linear_model.Lasso(alpha=0.1,fit_intercept=False) # alpha is the shrinkage parameter\n",
    "clf.fit([[0,0], [1, 1], [2, 2]], [0, 1, 2])\n",
    "print(clf.coef_)\n",
    "print(clf.intercept_)\n"
   ]
  },
  {
   "cell_type": "code",
   "execution_count": 306,
   "metadata": {
    "collapsed": false
   },
   "outputs": [],
   "source": [
    "\n",
    "def sineBasisFunction(X,y,n=13):\n",
    "    designMat = np.zeros((len(X),n))\n",
    "    designMat[:,0] = X.ravel()\n",
    "    for i in range(1,n):\n",
    "        #print([a**i for a in X])\n",
    "        designMat[:,i] = [np.sin(0.4*np.pi*a*i) for a in X]\n",
    "    return(designMat,y)"
   ]
  },
  {
   "cell_type": "code",
   "execution_count": 5,
   "metadata": {
    "collapsed": false
   },
   "outputs": [],
   "source": [
    "X = lassoTrainData()[0]\n",
    "y = lassoTrainData()[1]"
   ]
  },
  {
   "cell_type": "code",
   "execution_count": 309,
   "metadata": {
    "collapsed": false
   },
   "outputs": [],
   "source": [
    "designMat = sineBasisFunction(X,y,n=13)[0]\n",
    "outcome = sineBasisFunction(X,y,n=13)[1]"
   ]
  },
  {
   "cell_type": "code",
   "execution_count": 310,
   "metadata": {
    "collapsed": false
   },
   "outputs": [
    {
     "data": {
      "text/plain": [
       "Lasso(alpha=0.1, copy_X=True, fit_intercept=False, max_iter=1000,\n",
       "   normalize=False, positive=False, precompute=False, random_state=None,\n",
       "   selection='cyclic', tol=0.0001, warm_start=False)"
      ]
     },
     "execution_count": 310,
     "metadata": {},
     "output_type": "execute_result"
    }
   ],
   "source": [
    "clf.fit(designMat, outcome)"
   ]
  },
  {
   "cell_type": "code",
   "execution_count": 311,
   "metadata": {
    "collapsed": false
   },
   "outputs": [
    {
     "name": "stdout",
     "output_type": "stream",
     "text": [
      "[ 0.          0.          5.49526681  0.33802335  0.          1.12455954\n",
      "  2.28295397  0.          0.         -0.         -0.          0.          0.        ]\n"
     ]
    }
   ],
   "source": [
    "print(clf.coef_)"
   ]
  },
  {
   "cell_type": "code",
   "execution_count": 320,
   "metadata": {
    "collapsed": true
   },
   "outputs": [],
   "source": [
    "def ridgeRegressionGeneral(X,y,lambdaShrink):\n",
    "    designMat = X\n",
    "    m = X.shape[1]\n",
    "    y = y.ravel() \n",
    "    mle = np.inner(np.dot(np.linalg.inv(np.dot(np.transpose(designMat),designMat)+lambdaShrink*np.identity(m)),np.transpose(designMat)),y)\n",
    "    fittedValues = np.dot(designMat,np.transpose(mle))\n",
    "    return(mle,fittedValues)\n",
    "    "
   ]
  },
  {
   "cell_type": "code",
   "execution_count": 323,
   "metadata": {
    "collapsed": false
   },
   "outputs": [
    {
     "data": {
      "text/plain": [
       "(array([ 0.78892831,  0.8659637 ,  1.14612021,  0.86954421,  0.56026403,\n",
       "         0.56512953,  0.68207974,  0.52355505,  0.09691978, -0.17692136,\n",
       "        -0.03052377,  0.25532703,  0.17543088]),\n",
       " array([-3.69000726, -1.37665884,  2.7225307 ,  3.66210977, -2.49720775]))"
      ]
     },
     "execution_count": 323,
     "metadata": {},
     "output_type": "execute_result"
    }
   ],
   "source": [
    "ridgeRegressionGeneral(designMat,y,7)"
   ]
  },
  {
   "cell_type": "code",
   "execution_count": 318,
   "metadata": {
    "collapsed": false
   },
   "outputs": [
    {
     "data": {
      "text/plain": [
       "1"
      ]
     },
     "execution_count": 318,
     "metadata": {},
     "output_type": "execute_result"
    }
   ],
   "source": [
    "X.shape[1]"
   ]
  },
  {
   "cell_type": "code",
   "execution_count": 3,
   "metadata": {
    "collapsed": false
   },
   "outputs": [
    {
     "data": {
      "text/plain": [
       "[-2, -1, -2, -1]"
      ]
     },
     "execution_count": 3,
     "metadata": {},
     "output_type": "execute_result"
    }
   ],
   "source": [
    "A = [2,3,2,3]\n",
    "a = 4\n",
    "[b - a for b in A]"
   ]
  },
  {
   "cell_type": "code",
   "execution_count": 7,
   "metadata": {
    "collapsed": false
   },
   "outputs": [
    {
     "data": {
      "text/plain": [
       "2.5"
      ]
     },
     "execution_count": 7,
     "metadata": {},
     "output_type": "execute_result"
    }
   ],
   "source": [
    "np.mean(A)"
   ]
  },
  {
   "cell_type": "code",
   "execution_count": null,
   "metadata": {
    "collapsed": true
   },
   "outputs": [],
   "source": []
  }
 ],
 "metadata": {
  "kernelspec": {
   "display_name": "Python 2",
   "language": "python",
   "name": "python2"
  },
  "language_info": {
   "codemirror_mode": {
    "name": "ipython",
    "version": 2
   },
   "file_extension": ".py",
   "mimetype": "text/x-python",
   "name": "python",
   "nbconvert_exporter": "python",
   "pygments_lexer": "ipython2",
   "version": "2.7.11"
  }
 },
 "nbformat": 4,
 "nbformat_minor": 0
}
