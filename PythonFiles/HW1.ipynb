{
 "cells": [
  {
   "cell_type": "markdown",
   "metadata": {},
   "source": [
    "# Question 1 Gradient Discent"
   ]
  },
  {
   "cell_type": "code",
   "execution_count": 1,
   "metadata": {
    "collapsed": true
   },
   "outputs": [],
   "source": [
    "import numpy as np\n",
    "import math\n",
    "import pylab as pl\n",
    "import random\n",
    "import matplotlib.pyplot as plt\n",
    "%matplotlib inline"
   ]
  },
  {
   "cell_type": "code",
   "execution_count": 1,
   "metadata": {
    "collapsed": true
   },
   "outputs": [],
   "source": [
    "def negativeGaussian(x,mu,Sigma):\n",
    "    \"\"\"\n",
    "        A function to output the value and the gradient for the negative Gaussian function\n",
    "        given the value and meand & coariance matrix for the Gaussian\n",
    "    \"\"\"\n",
    "    \n",
    "    detSigma = np.linalg.det(Sigma)\n",
    "    n = len(x)\n",
    "    NC = -(1/(np.sqrt(((2*math.pi)**n)*detSigma))) # normalizing constant\n",
    "    normalizedX = [a - b for a, b in zip(x, mu)] \n",
    "    invSigma = np.linalg.inv(Sigma)\n",
    "    \n",
    "    kernel = np.exp(-0.5*(np.inner(np.inner(normalizedX,invSigma),np.transpose(normalizedX))))\n",
    "    value = NC*kernel\n",
    "    gradient = [-value*a for a in np.inner(invSigma,normalizedX)]\n",
    "    \n",
    "    return(value,gradient)\n",
    "    "
   ]
  },
  {
   "cell_type": "code",
   "execution_count": 2,
   "metadata": {
    "collapsed": true
   },
   "outputs": [],
   "source": [
    "def qBowl(x,b,A):\n",
    "    \"\"\"\n",
    "        Caculated the value and the gradient for the quadratic bowl function\n",
    "    \"\"\"\n",
    "    \n",
    "    quadForm = 0.5*np.inner(np.inner(np.transpose(x),A),x)\n",
    "    dotForm = np.inner(np.transpose(x),b)\n",
    "    \n",
    "    value = quadForm - dotForm\n",
    "    gradient = [a-b for a,b in zip(np.inner(A,x),b)]\n",
    "    return (value,gradient)"
   ]
  },
  {
   "cell_type": "code",
   "execution_count": 4,
   "metadata": {
    "collapsed": false
   },
   "outputs": [],
   "source": [
    "a = [25,25]\n",
    "mu = [1,3]\n",
    "A = [[1,0],[0,1]]\n"
   ]
  },
  {
   "cell_type": "code",
   "execution_count": 5,
   "metadata": {
    "collapsed": false
   },
   "outputs": [
    {
     "data": {
      "text/plain": [
       "(525.0, [24, 22])"
      ]
     },
     "execution_count": 5,
     "metadata": {},
     "output_type": "execute_result"
    }
   ],
   "source": [
    "qBowl(a,mu,A)"
   ]
  },
  {
   "cell_type": "code",
   "execution_count": null,
   "metadata": {
    "collapsed": false
   },
   "outputs": [],
   "source": []
  },
  {
   "cell_type": "code",
   "execution_count": null,
   "metadata": {
    "collapsed": false
   },
   "outputs": [],
   "source": []
  },
  {
   "cell_type": "code",
   "execution_count": null,
   "metadata": {
    "collapsed": false
   },
   "outputs": [],
   "source": []
  },
  {
   "cell_type": "code",
   "execution_count": 6,
   "metadata": {
    "collapsed": false
   },
   "outputs": [],
   "source": [
    "def batchGradientDiscent(function,initGuess,step,threshold,maxIter,*args):\n",
    "    \"\"\"\n",
    "        Wrapper function to conduct bacth gradeint descent. Inputs are intiial guess, step size\n",
    "        for the gradient descent, error tolerance, number of iteration and the function to be \n",
    "        evaluated\n",
    "    \n",
    "    \"\"\"\n",
    "    \n",
    "    \n",
    "    gradientNorm = []\n",
    "    epsilon = 1\n",
    "    errorPropagation = []\n",
    "    iteration = 0\n",
    "\n",
    "    while epsilon > threshold and iteration < maxIter : \n",
    "        if iteration==0:\n",
    "            \n",
    "            value = [float(i) for i in initGuess]\n",
    "        \n",
    "        output = function(value,*args)\n",
    "        evaluateOld = function(value,*args)[0] # function evaluated at old point\n",
    "        gradient = [float(i) for i in output[1]]\n",
    "        change = [a*step for a in gradient]\n",
    "        newValue = [a - b for a,b in zip(value,change)] #GDS equation\n",
    "        \n",
    "        evaluateNew = function(newValue,*args)[0]# function evaluated at new point\n",
    "        epsilon = abs(evaluateNew - evaluateOld)\n",
    "        value = newValue\n",
    "        gradient= function(value,*args)[1]\n",
    "        gNorm = np.linalg.norm(gradient)\n",
    "        gradientNorm.append(gNorm)\n",
    "        \n",
    "        \n",
    "        errorPropagation.append(epsilon)\n",
    "        iteration+=1\n",
    "        \n",
    "          \n",
    "        \n",
    "        \n",
    "    return(gradientNorm, errorPropagation,value,iteration)"
   ]
  },
  {
   "cell_type": "code",
   "execution_count": null,
   "metadata": {
    "collapsed": false
   },
   "outputs": [],
   "source": []
  },
  {
   "cell_type": "code",
   "execution_count": null,
   "metadata": {
    "collapsed": false
   },
   "outputs": [],
   "source": []
  },
  {
   "cell_type": "code",
   "execution_count": 7,
   "metadata": {
    "collapsed": false
   },
   "outputs": [],
   "source": [
    "# Loading the parameters\n",
    "def getData():\n",
    "\n",
    "    # load the parameters for the negative Gaussian function and quadratic bowl function\n",
    "    # return a tuple that contains parameters for Gaussian mean, Gaussian covariance,\n",
    "    # A and b for quadratic bowl in order\n",
    "\n",
    "    data = pl.loadtxt('../DataFiles/HW1/parametersp1.txt')\n",
    "\n",
    "    gaussMean = data[0,:]\n",
    "    gaussCov = data[1:3,:]\n",
    "\n",
    "    quadBowlA = data[3:5,:]\n",
    "    quadBowlb = data[5,:]\n",
    "\n",
    "    return (gaussMean,gaussCov,quadBowlA,quadBowlb) \n",
    "\n"
   ]
  },
  {
   "cell_type": "code",
   "execution_count": 8,
   "metadata": {
    "collapsed": true
   },
   "outputs": [],
   "source": [
    "gaussMean,gaussCov,quadBowlA,quadBowlb = getData()"
   ]
  },
  {
   "cell_type": "code",
   "execution_count": 9,
   "metadata": {
    "collapsed": false
   },
   "outputs": [],
   "source": [
    "step = 1/(np.linalg.norm(negativeGaussian([15,10],gaussMean,gaussCov)[1]))\n",
    "#batchGradientDiscent(negativeGaussian,[15,10],step,1e-15,130,gaussMean,gaussCov)"
   ]
  },
  {
   "cell_type": "code",
   "execution_count": 10,
   "metadata": {
    "collapsed": false
   },
   "outputs": [
    {
     "name": "stdout",
     "output_type": "stream",
     "text": [
      "0.0282842712475\n"
     ]
    }
   ],
   "source": [
    "step = 1/(np.linalg.norm(qBowl([25,25],quadBowlb,quadBowlA)[1]))\n",
    "batchGradientDiscent(qBowl,[25,25],step,1e-3,200,quadBowlb,quadBowlA)\n",
    "print step"
   ]
  },
  {
   "cell_type": "code",
   "execution_count": 11,
   "metadata": {
    "collapsed": false
   },
   "outputs": [
    {
     "name": "stdout",
     "output_type": "stream",
     "text": [
      "15.8113883008\n",
      "[ 400.  400.]\n"
     ]
    }
   ],
   "source": [
    "print np.linalg.norm(quadBowlA)\n",
    "print quadBowlb"
   ]
  },
  {
   "cell_type": "code",
   "execution_count": null,
   "metadata": {
    "collapsed": false
   },
   "outputs": [],
   "source": []
  },
  {
   "cell_type": "code",
   "execution_count": null,
   "metadata": {
    "collapsed": false,
    "scrolled": false
   },
   "outputs": [],
   "source": []
  },
  {
   "cell_type": "markdown",
   "metadata": {
    "collapsed": false
   },
   "source": [
    "Quadratic bowl shows some very erratic behavior unless the startiing point is very clos\n",
    "and the threshold is relatively larger"
   ]
  },
  {
   "cell_type": "code",
   "execution_count": 12,
   "metadata": {
    "collapsed": false
   },
   "outputs": [],
   "source": [
    "# Effect of staritng guess\n",
    "# Add random noise to the analtyical solution (Close to the solution, a bit far and then very far from the solution)\n",
    "# For neagtive Gaussain\n",
    "NGAnalyticSoln = gaussMean\n",
    "SP1 =NGAnalyticSoln +  np.random.normal(1,1,len(NGAnalyticSoln))\n",
    "SP2 =NGAnalyticSoln +  np.random.normal(5,1,len(NGAnalyticSoln))\n",
    "SP3 =NGAnalyticSoln +  np.random.normal(10,1,len(NGAnalyticSoln))\n",
    "\n",
    "step = 1/(np.linalg.norm(negativeGaussian(SP1,gaussMean,gaussCov)[1]))\n",
    "SP1output =  batchGradientDiscent(negativeGaussian,SP1,step,1e-10,130,gaussMean,gaussCov)\n",
    "step = 1/(np.linalg.norm(negativeGaussian(SP2,gaussMean,gaussCov)[1]))\n",
    "SP2output =  batchGradientDiscent(negativeGaussian,SP2,step,1e-10,130,gaussMean,gaussCov)\n",
    "step = 1/(np.linalg.norm(negativeGaussian(SP3,gaussMean,gaussCov)[1]))\n",
    "SP3output =  batchGradientDiscent(negativeGaussian,SP3,step,1e-10,130,gaussMean,gaussCov)"
   ]
  },
  {
   "cell_type": "code",
   "execution_count": 13,
   "metadata": {
    "collapsed": false
   },
   "outputs": [],
   "source": [
    "#SP1output"
   ]
  },
  {
   "cell_type": "code",
   "execution_count": 14,
   "metadata": {
    "collapsed": false
   },
   "outputs": [
    {
     "data": {
      "image/png": "[encoded data removed]",
      "text/plain": [
       "<matplotlib.figure.Figure at 0x10548ca10>"
      ]
     },
     "metadata": {},
     "output_type": "display_data"
    }
   ],
   "source": [
    "# Image for satring guess plot\n",
    "plt.plot(SP1output[1],label ='1' )\n",
    "plt.plot(SP2output[1],label = '5')\n",
    "plt.plot(SP3output[1],label = '10')\n",
    "#plt.plot(X,Y,'o')\n",
    "#plt.plot(xtrue,fValue0)\n",
    "plt.xlabel('Iterations')\n",
    "plt.ylabel('Gradient of the norm')\n",
    "plt.yscale('log')\n",
    "plt.legend(bbox_to_anchor=(1.05, 1), loc=1, borderaxespad=0.,title = \"Mean of the \\n noise\")\n",
    "plt.title('Behavior of the gradeint of the norm \\n for differnt starting values in Negative Gaussian')\n",
    "#plt.show()\n",
    "pl.savefig('../ImageFiles/HW1/BatchGradientDiscent_InitialGuess1.1.pdf')"
   ]
  },
  {
   "cell_type": "code",
   "execution_count": 15,
   "metadata": {
    "collapsed": false
   },
   "outputs": [],
   "source": [
    "# Effect of staritng guess\n",
    "# Add random noise to the analtyical solution (Close to the solution, a bit far and then very far from the solution)\n",
    "# For Quadratic Bowl\n",
    "NGAnalyticSoln = np.inner(np.linalg.inv(quadBowlA),quadBowlb)\n",
    "\n",
    "SP1 =NGAnalyticSoln +  np.random.normal(1,1,len(NGAnalyticSoln))\n",
    "SP2 =NGAnalyticSoln +  np.random.normal(5,1,len(NGAnalyticSoln))\n",
    "SP3 =NGAnalyticSoln +  np.random.normal(10,1,len(NGAnalyticSoln))\n",
    "\n",
    "step = 1/(np.linalg.norm(qBowl(SP1,quadBowlb,quadBowlA)[1]))\n",
    "SP1output =  batchGradientDiscent(qBowl,SP1,step,1e-10,1000,quadBowlb,quadBowlA)\n",
    "step = 1/(np.linalg.norm(qBowl(SP2,quadBowlb,quadBowlA)[1]))\n",
    "SP2output =  batchGradientDiscent(qBowl,SP2,step,1e-10,1000,quadBowlb,quadBowlA)\n",
    "step = 1/(np.linalg.norm(qBowl(SP3,quadBowlb,quadBowlA)[1]))\n",
    "SP3output =  batchGradientDiscent(qBowl,SP3,step,1e-10,1000,quadBowlb,quadBowlA)"
   ]
  },
  {
   "cell_type": "code",
   "execution_count": 16,
   "metadata": {
    "collapsed": false
   },
   "outputs": [
    {
     "data": {
      "image/png": "[encoded data removed]",
      "text/plain": [
       "<matplotlib.figure.Figure at 0x105757810>"
      ]
     },
     "metadata": {},
     "output_type": "display_data"
    }
   ],
   "source": [
    "# Image for satring guess plot\n",
    "plt.plot(SP1output[1],label ='1' )\n",
    "plt.plot(SP2output[1],label = '5')\n",
    "plt.plot(SP3output[1],label = '10')\n",
    "#plt.plot(X,Y,'o')\n",
    "#plt.plot(xtrue,fValue0)\n",
    "plt.xlabel('Iterations')\n",
    "plt.ylabel('Gradient of the norm')\n",
    "plt.yscale('log')\n",
    "plt.legend(bbox_to_anchor=(1.05, 1), loc=1, borderaxespad=0.,title = \"Mean of the \\n noise\")\n",
    "plt.title('Behavior of the gradeint of the norm \\n for differnt starting values in Quadratic Bowl')\n",
    "pl.savefig('../ImageFiles/HW1/BatchGradientDiscent_InitialGuess1.1_QBowl.pdf')\n",
    "#plt.show()\n",
    "#plt.show()"
   ]
  },
  {
   "cell_type": "code",
   "execution_count": 17,
   "metadata": {
    "collapsed": true
   },
   "outputs": [],
   "source": [
    "# Step size"
   ]
  },
  {
   "cell_type": "code",
   "execution_count": 18,
   "metadata": {
    "collapsed": true
   },
   "outputs": [],
   "source": [
    "# Comparing step sizes\n",
    "NGAnalyticSoln = gaussMean\n",
    "SP3 =NGAnalyticSoln +  np.random.normal(10,1,len(NGAnalyticSoln))\n",
    "step = 1/np.linalg.norm(negativeGaussian(SP3,gaussMean,gaussCov)[1])\n",
    "step1 = step\n",
    "step2 = step*5\n",
    "step3 = step*10\n",
    "step4 = step*15\n",
    "step5 = step*20\n",
    "\n",
    "\n",
    "#for i in range(10):\n",
    "SP1output =  batchGradientDiscent(negativeGaussian,SP3,step,1e-8,1000,gaussMean,gaussCov)\n",
    "SP2output =  batchGradientDiscent(negativeGaussian,SP3,step2,1e-8,1000,gaussMean,gaussCov)\n",
    "\n",
    "SP3output =  batchGradientDiscent(negativeGaussian,SP3,step3,1e-8,1000,gaussMean,gaussCov)\n",
    "SP4output =  batchGradientDiscent(negativeGaussian,SP3,step4,1e-8,1000,gaussMean,gaussCov)\n",
    "SP5output =  batchGradientDiscent(negativeGaussian,SP3,step5,1e-8,1000,gaussMean,gaussCov)\n",
    "    \n",
    "\n",
    "a =  SP1output[1]\n",
    "b =  SP2output[1]\n",
    "c =  SP3output[1]\n",
    "d =  SP4output[1]\n",
    "e =  SP5output[1]"
   ]
  },
  {
   "cell_type": "code",
   "execution_count": 19,
   "metadata": {
    "collapsed": false
   },
   "outputs": [
    {
     "data": {
      "image/png": "[encoded data removed]",
      "text/plain": [
       "<matplotlib.figure.Figure at 0x10562c1d0>"
      ]
     },
     "metadata": {},
     "output_type": "display_data"
    }
   ],
   "source": [
    "plt.plot(range(len(a)),a,label='1')\n",
    "plt.plot(range(len(b)),b,label='5')\n",
    "plt.plot(range(len(c)),c,label='10')\n",
    "plt.plot(range(len(d)),d,label='15')\n",
    "plt.plot(range(len(e)),e,label='20')\n",
    "plt.legend(bbox_to_anchor=(1.05, 1), loc=1, borderaxespad=0.,title = \"Step factor\")\n",
    "plt.xlabel('Iteration')\n",
    "plt.ylabel('Norm of the gradeint')\n",
    "plt.title('Behavior of the gradeint of the norm \\n for differnt step sizes in Negative Gaussain')\n",
    "plt.yscale('log')\n",
    "#plt.show()\n",
    "pl.savefig('../ImageFiles/HW1/BatchGradientDiscent_StepSize.1_NG.pdf')"
   ]
  },
  {
   "cell_type": "code",
   "execution_count": 20,
   "metadata": {
    "collapsed": false
   },
   "outputs": [],
   "source": [
    "# Comparing step sizes\n",
    "NGAnalyticSoln = np.inner(np.linalg.inv(quadBowlA),quadBowlb)\n",
    "SP3 =NGAnalyticSoln +  np.random.normal(10,1,len(NGAnalyticSoln))\n",
    "step = 1/np.linalg.norm(qBowl(SP3,quadBowlb,quadBowlA)[1])\n",
    "step1 = step\n",
    "step2 = step*5\n",
    "step3 = step*10\n",
    "step4 = step*15\n",
    "step5 = step*20\n",
    "\n",
    "\n",
    "#for i in range(10):\n",
    "SP1output =  batchGradientDiscent(qBowl,SP3,step,1e-10,1000,quadBowlb,quadBowlA)\n",
    "SP2output =  batchGradientDiscent(qBowl,SP3,step2,1e-10,1000,quadBowlb,quadBowlA)\n",
    "\n",
    "SP3output =  batchGradientDiscent(qBowl,SP3,step3,1e-10,1000,quadBowlb,quadBowlA)\n",
    "SP4output =  batchGradientDiscent(qBowl,SP3,step4,1e-10,1000,quadBowlb,quadBowlA)\n",
    "SP5output =  batchGradientDiscent(qBowl,SP3,step5,1e-10,1000,quadBowlb,quadBowlA)   \n",
    "\n",
    "a =  SP1output[1]\n",
    "b =  SP2output[1]\n",
    "c =  SP3output[1]\n",
    "d =  SP4output[1]\n",
    "e =  SP5output[1]"
   ]
  },
  {
   "cell_type": "code",
   "execution_count": 21,
   "metadata": {
    "collapsed": false
   },
   "outputs": [
    {
     "data": {
      "image/png": "[encoded data removed]",
      "text/plain": [
       "<matplotlib.figure.Figure at 0x105a07150>"
      ]
     },
     "metadata": {},
     "output_type": "display_data"
    }
   ],
   "source": [
    "plt.plot(range(len(a)),a,label='1')\n",
    "plt.plot(range(len(b)),b,label='5')\n",
    "plt.plot(range(len(c)),c,label='10')\n",
    "plt.plot(range(len(d)),d,label='15')\n",
    "plt.plot(range(len(e)),e,label='20')\n",
    "plt.legend(bbox_to_anchor=(1.05, 1), loc=1, borderaxespad=0.,title = \"Step factor\")\n",
    "plt.xlabel('Iteration')\n",
    "plt.ylabel('Norm of the gradeint')\n",
    "plt.title('Behavior of the gradeint of the norm \\n for differnt step sizes in Quadratic bowl')\n",
    "plt.yscale('log')\n",
    "#plt.show()\n",
    "pl.savefig('../ImageFiles/HW1/BatchGradientDiscent_StepSize.1_QBowl.pdf')"
   ]
  },
  {
   "cell_type": "markdown",
   "metadata": {},
   "source": [
    "# Convergence Criterion"
   ]
  },
  {
   "cell_type": "code",
   "execution_count": 22,
   "metadata": {
    "collapsed": true
   },
   "outputs": [],
   "source": [
    "# Using aboslute deviation vs gradeint of the norm as the convergence criterion"
   ]
  },
  {
   "cell_type": "code",
   "execution_count": 23,
   "metadata": {
    "collapsed": true
   },
   "outputs": [],
   "source": [
    "def batchGradientDiscent(function,initGuess,step,threshold,maxIter,*args):\n",
    "    gradientNorm = []\n",
    "    epsilon = 1\n",
    "    errorPropagation = []\n",
    "    iteration = 0\n",
    "    \n",
    "    while epsilon > threshold and iteration < maxIter : \n",
    "        if iteration==0:\n",
    "            \n",
    "            value = [float(i) for i in initGuess]\n",
    "        \n",
    "        output = function(value,*args)\n",
    "        evaluateOld = function(value,*args)[0] # function evaluated at old point\n",
    "        gradient = [float(i) for i in output[1]]\n",
    "        change = [a*step for a in gradient]\n",
    "        newValue = [a - b for a,b in zip(value,change)] #GDS equation\n",
    "        evaluateNew = function(newValue,*args)[0]# function evaluated at new point\n",
    "        \n",
    "        #epsilon = abs(evaluateNew - evaluateOld)\n",
    "        value = newValue\n",
    "        gradient= function(value,*args)[1]\n",
    "        gNorm = np.linalg.norm(gradient)\n",
    "        epsilon = gNorm\n",
    "        gradientNorm.append(gNorm)\n",
    "        errorPropagation.append(epsilon)\n",
    "        iteration+=1\n",
    "        \n",
    "          \n",
    "        \n",
    "        \n",
    "    return(gradientNorm, errorPropagation,value,iteration)"
   ]
  },
  {
   "cell_type": "code",
   "execution_count": 24,
   "metadata": {
    "collapsed": true
   },
   "outputs": [],
   "source": [
    "# Using absolute deviation\n",
    "NGAnalyticSoln = np.inner(np.linalg.inv(quadBowlA),quadBowlb)\n",
    "SP3 =NGAnalyticSoln +  np.random.normal(10,1,len(NGAnalyticSoln))\n",
    "step = 1/np.linalg.norm(qBowl(SP3,quadBowlb,quadBowlA)[1])\n",
    "step2 = step*10\n",
    "SP1output_AbsDiff_QBowl =  batchGradientDiscent(qBowl,SP3,step,1e-8,1000,quadBowlb,quadBowlA)\n",
    "SP2output_AbsDiff_QBowl =  batchGradientDiscent(qBowl,SP3,step2,1e-8,1000,quadBowlb,quadBowlA)\n",
    "\n",
    "NGAnalyticSoln = gaussMean\n",
    "\n",
    "SP3 =NGAnalyticSoln +  np.random.normal(10,1,len(NGAnalyticSoln))\n",
    "\n",
    "\n",
    "step = 1/(np.linalg.norm(negativeGaussian(SP3,gaussMean,gaussCov)[1]))\n",
    "step2 = step*10\n",
    "SP1output_AbsDiff_NG =  batchGradientDiscent(negativeGaussian,SP3,step,1e-8,1000,gaussMean,gaussCov)\n",
    "SP2output_AbsDiff_NG =  batchGradientDiscent(negativeGaussian,SP3,step2,1e-8,1000,gaussMean,gaussCov)"
   ]
  },
  {
   "cell_type": "code",
   "execution_count": 25,
   "metadata": {
    "collapsed": false
   },
   "outputs": [],
   "source": [
    "NGAnalyticSoln = np.inner(np.linalg.inv(quadBowlA),quadBowlb)\n",
    "SP3 =NGAnalyticSoln +  np.random.normal(10,1,len(NGAnalyticSoln))\n",
    "step = 1/np.linalg.norm(qBowl(SP3,quadBowlb,quadBowlA)[1])\n",
    "step2 = step*10\n",
    "SP1output_Ngrad_QBowl =  batchGradientDiscent(qBowl,SP3,step,1e-8,1000,quadBowlb,quadBowlA)\n",
    "SP2output_Ngrad_QBowl =  batchGradientDiscent(qBowl,SP3,step2,1e-8,1000,quadBowlb,quadBowlA)\n",
    "\n",
    "NGAnalyticSoln = gaussMean\n",
    "SP3 =NGAnalyticSoln +  np.random.normal(10,1,len(NGAnalyticSoln))\n",
    "step = 1/(np.linalg.norm(negativeGaussian(SP3,gaussMean,gaussCov)[1]))\n",
    "step2 = step*10\n",
    "SP1output_Ngrad_NG = batchGradientDiscent(negativeGaussian,SP3,step,1e-8,1000,gaussMean,gaussCov)\n",
    "SP2output_Ngrad_NG = batchGradientDiscent(negativeGaussian,SP3,step2,1e-8,1000,gaussMean,gaussCov)"
   ]
  },
  {
   "cell_type": "code",
   "execution_count": 26,
   "metadata": {
    "collapsed": false
   },
   "outputs": [
    {
     "name": "stdout",
     "output_type": "stream",
     "text": [
      "808\n",
      "67\n",
      "72\n",
      "4\n"
     ]
    }
   ],
   "source": [
    "print SP1output_Ngrad_QBowl[3]\n",
    "print SP1output_Ngrad_NG[3]\n",
    "print SP2output_Ngrad_QBowl[3]\n",
    "print SP2output_Ngrad_NG[3]"
   ]
  },
  {
   "cell_type": "code",
   "execution_count": 27,
   "metadata": {
    "collapsed": false
   },
   "outputs": [
    {
     "name": "stdout",
     "output_type": "stream",
     "text": [
      "778\n",
      "56\n",
      "70\n",
      "3\n"
     ]
    }
   ],
   "source": [
    "print SP1output_AbsDiff_QBowl[3]\n",
    "print SP1output_AbsDiff_NG[3]\n",
    "print SP2output_AbsDiff_QBowl[3]\n",
    "print SP2output_AbsDiff_NG[3]"
   ]
  },
  {
   "cell_type": "code",
   "execution_count": 28,
   "metadata": {
    "collapsed": false
   },
   "outputs": [],
   "source": [
    "ConvCritIteration_AbsDiff = [SP1output_AbsDiff_QBowl[3],SP1output_AbsDiff_NG[3],SP2output_AbsDiff_QBowl[3],SP2output_AbsDiff_NG[3]]\n",
    "ConvCritIteration_NGrad = [SP1output_Ngrad_QBowl[3],SP1output_Ngrad_NG[3],SP2output_Ngrad_QBowl[3],SP2output_Ngrad_NG[3]]"
   ]
  },
  {
   "cell_type": "code",
   "execution_count": 29,
   "metadata": {
    "collapsed": false
   },
   "outputs": [
    {
     "data": {
      "text/plain": [
       "[808, 67, 72, 4]"
      ]
     },
     "execution_count": 29,
     "metadata": {},
     "output_type": "execute_result"
    }
   ],
   "source": [
    "ConvCritIteration_NGrad"
   ]
  },
  {
   "cell_type": "markdown",
   "metadata": {
    "collapsed": false
   },
   "source": [
    "# Question 1.2"
   ]
  },
  {
   "cell_type": "code",
   "execution_count": 30,
   "metadata": {
    "collapsed": true
   },
   "outputs": [],
   "source": [
    "def finiteDifference(function,sp,h,*args):\n",
    "\n",
    "    fdApprox = []\n",
    "    for i in range(len(sp)):\n",
    "        Lower = [float(j) for j in sp]\n",
    "        Higher = [float(j) for j in sp]\n",
    "        Lower[i] = Lower[i] - 0.5*h\n",
    "        #print Lower\n",
    "        Higher[i] = Higher[i] + 0.5*h\n",
    "        higherValue = function(Higher,*args)[0]\n",
    "        lowerValue = function(Lower,*args)[0]\n",
    "\n",
    "        fdApprox.append((higherValue - lowerValue)/h)\n",
    "\n",
    "    return(fdApprox)\n"
   ]
  },
  {
   "cell_type": "code",
   "execution_count": 31,
   "metadata": {
    "collapsed": false
   },
   "outputs": [
    {
     "data": {
      "text/plain": [
       "[-380.0, -375.0]"
      ]
     },
     "execution_count": 31,
     "metadata": {},
     "output_type": "execute_result"
    }
   ],
   "source": [
    "finiteDifference(qBowl,[1,2],10000,quadBowlb,quadBowlA)"
   ]
  },
  {
   "cell_type": "code",
   "execution_count": 32,
   "metadata": {
    "collapsed": false
   },
   "outputs": [
    {
     "data": {
      "text/plain": [
       "(-1165.0, [-380.0, -375.0])"
      ]
     },
     "execution_count": 32,
     "metadata": {},
     "output_type": "execute_result"
    }
   ],
   "source": [
    "qBowl([1,2],quadBowlb,quadBowlA)"
   ]
  },
  {
   "cell_type": "code",
   "execution_count": 33,
   "metadata": {
    "collapsed": false
   },
   "outputs": [
    {
     "name": "stdout",
     "output_type": "stream",
     "text": [
      "[-7.8236088589612688e-07, -4.6941653153767613e-07]\n",
      "[9.1238173801377379e-07, 9.1238173801377379e-07, 1.1255858603595962e-08, 1.132516167540959e-10, 1.1325856140629299e-12, 1.1327115928941935e-14, 1.0178909588838726e-16]\n",
      "[3.4527966077235333e-10, 2.2737367544323206e-13, 8.5265128291212022e-14, 5.6629854853927314e-13, 8.2834046967407698e-12, 8.1679765138463336e-11, 2.2150928216972346e-09]\n"
     ]
    }
   ],
   "source": [
    "# Finite difference comparison\n",
    "Sp= [5,7]\n",
    "Sp2 = [26.5,2.56]\n",
    "print negativeGaussian(Sp,gaussMean,gaussCov)[1]\n",
    "h = [1000000,1000,10,1,0.1,0.01,0.001]\n",
    "NGfiniteDifferenceList = []\n",
    "QBowlfiniteDifferenceList = []\n",
    "for i in range(len(h)):\n",
    "    fdNG = finiteDifference(negativeGaussian,Sp,h[i],gaussMean,gaussCov)\n",
    "    AnNG = negativeGaussian(Sp,gaussMean,gaussCov)[1]\n",
    "    NGfiniteDifferenceList.append(np.linalg.norm(np.array(fdNG) -np.array(AnNG)))\n",
    "    fdQB = finiteDifference(qBowl,Sp2,h[i],quadBowlb,quadBowlA)\n",
    "    AnQB = qBowl(Sp2,quadBowlb,quadBowlA)[1]\n",
    "    QBowlfiniteDifferenceList.append(np.linalg.norm(np.array(fdQB) -np.array(AnQB)))\n",
    "    \n",
    "    \n",
    "    \n",
    "    \n",
    "print NGfiniteDifferenceList\n",
    "print  QBowlfiniteDifferenceList\n",
    "W1 = [str(a) for a in h]\n",
    "\n"
   ]
  },
  {
   "cell_type": "code",
   "execution_count": 34,
   "metadata": {
    "collapsed": false
   },
   "outputs": [
    {
     "data": {
      "text/plain": [
       "[-122.19999999999982, -241.90000000000055]"
      ]
     },
     "execution_count": 34,
     "metadata": {},
     "output_type": "execute_result"
    }
   ],
   "source": [
    "finiteDifference(qBowl,Sp2,1,quadBowlb,quadBowlA)"
   ]
  },
  {
   "cell_type": "code",
   "execution_count": 35,
   "metadata": {
    "collapsed": false
   },
   "outputs": [
    {
     "name": "stdout",
     "output_type": "stream",
     "text": [
      "['1000000', '1000', '10', '1', '0.1', '0.01', '0.001']\n"
     ]
    }
   ],
   "source": [
    "print W1"
   ]
  },
  {
   "cell_type": "code",
   "execution_count": 36,
   "metadata": {
    "collapsed": false
   },
   "outputs": [
    {
     "data": {
      "image/png": "[encoded data removed]",
      "text/plain": [
       "<matplotlib.figure.Figure at 0x1057026d0>"
      ]
     },
     "metadata": {},
     "output_type": "display_data"
    }
   ],
   "source": [
    "# Image for satring guess plot\n",
    "plt.plot(range(len(NGfiniteDifferenceList)),NGfiniteDifferenceList,label=\"Negative Gaussian\")\n",
    "plt.plot( range(len(QBowlfiniteDifferenceList)),QBowlfiniteDifferenceList,label = \"Quadratic Bowl\")\n",
    "plt.xlabel('step size')\n",
    "plt.ylabel('Euclidean Distance')\n",
    "plt.yscale('log')\n",
    "plt.title('Euclidean distance between analytical and \\n numerical solution for the gradient\\n for different step sizes')\n",
    "\n",
    "plt.xticks(range(len(W1)),W1, size='small')\n",
    "plt.legend(bbox_to_anchor=(1.05, 1), loc=1, borderaxespad=0.)\n",
    "pl.ylim([1e-17,1e-5])\n",
    "pl.savefig('../ImageFiles/HW1/finiteDifferenceComparison_1.2.pdf')\n",
    "plt.show()\n",
    "#plt.show()"
   ]
  },
  {
   "cell_type": "markdown",
   "metadata": {},
   "source": [
    "# # Data for SGD"
   ]
  },
  {
   "cell_type": "code",
   "execution_count": 37,
   "metadata": {
    "collapsed": false
   },
   "outputs": [],
   "source": [
    "# Loading the data\n",
    "\n",
    "def getData():\n",
    "    \n",
    "    # load the fitting data for X and y and return as elements of a tuple\n",
    "    # X is a 100 by 10 matrix and y is a vector of length 100\n",
    "    # Each corresponding row for X and y represents a single data sample\n",
    "\n",
    "    X = pl.loadtxt('../DataFiles/HW1/fittingdatap1_x.txt')\n",
    "    y = pl.loadtxt('../DataFiles/HW1/fittingdatap1_y.txt')\n",
    "\n",
    "    return (X,y) "
   ]
  },
  {
   "cell_type": "code",
   "execution_count": 38,
   "metadata": {
    "collapsed": false
   },
   "outputs": [],
   "source": [
    "X,y = getData()"
   ]
  },
  {
   "cell_type": "code",
   "execution_count": 39,
   "metadata": {
    "collapsed": false
   },
   "outputs": [
    {
     "data": {
      "text/plain": [
       "(100, 10)"
      ]
     },
     "execution_count": 39,
     "metadata": {},
     "output_type": "execute_result"
    }
   ],
   "source": [
    "X.shape"
   ]
  },
  {
   "cell_type": "code",
   "execution_count": 40,
   "metadata": {
    "collapsed": false
   },
   "outputs": [],
   "source": [
    "A = np.dot(np.linalg.inv(np.dot(np.transpose(X),X)),np.transpose(X))"
   ]
  },
  {
   "cell_type": "code",
   "execution_count": 41,
   "metadata": {
    "collapsed": false
   },
   "outputs": [
    {
     "data": {
      "text/plain": [
       "array([  0.5032541 ,  -2.3367948 ,  -6.31670032,   6.81230107,\n",
       "        -1.06337989,   6.67469398,   3.4118044 ,  -0.45573592,\n",
       "       -12.94593466,  15.73289812])"
      ]
     },
     "execution_count": 41,
     "metadata": {},
     "output_type": "execute_result"
    }
   ],
   "source": [
    "trueSp = np.inner(A,y)\n",
    "trueSp"
   ]
  },
  {
   "cell_type": "markdown",
   "metadata": {},
   "source": [
    "Least Square function"
   ]
  },
  {
   "cell_type": "code",
   "execution_count": 42,
   "metadata": {
    "collapsed": false
   },
   "outputs": [],
   "source": [
    "def leastSquare(theta,X,y):\n",
    "    #y = y.ravel()\n",
    "    intermediate = np.inner(X,theta) - y\n",
    "    value = np.inner(np.transpose(intermediate),intermediate)\n",
    "    gradient = 2*np.inner(np.transpose(X),intermediate)\n",
    "        \n",
    "    return(value,gradient)\n"
   ]
  },
  {
   "cell_type": "code",
   "execution_count": 43,
   "metadata": {
    "collapsed": false
   },
   "outputs": [],
   "source": [
    "theta = [1,2,3,4,-5,6,7,8,9,-10]"
   ]
  },
  {
   "cell_type": "code",
   "execution_count": 44,
   "metadata": {
    "collapsed": false
   },
   "outputs": [
    {
     "name": "stdout",
     "output_type": "stream",
     "text": [
      "[  8.35941938e-01   1.10289025e+03   1.02008172e+03  -1.26978323e+02\n",
      "   8.43653974e+02   4.88648917e+02  -4.28681082e+02   1.83080712e+02\n",
      "   6.27547270e+02  -6.35061319e+02]\n"
     ]
    },
    {
     "data": {
      "text/plain": [
       "(246.90447611861788,\n",
       " array([  8.35941938e-01,   1.10289025e+03,   1.02008172e+03,\n",
       "         -1.26978323e+02,   8.43653974e+02,   4.88648917e+02,\n",
       "         -4.28681082e+02,   1.83080712e+02,   6.27547270e+02,\n",
       "         -6.35061319e+02]))"
      ]
     },
     "execution_count": 44,
     "metadata": {},
     "output_type": "execute_result"
    }
   ],
   "source": [
    "intermediate=  np.inner(X[1,],trueSp) - y[1]\n",
    "value = np.inner(np.transpose(intermediate),intermediate)\n",
    "gradient = 2*np.inner(np.transpose(X[1,]),intermediate)\n",
    "print gradient \n",
    "leastSquare(trueSp,X[1,],y[1])"
   ]
  },
  {
   "cell_type": "code",
   "execution_count": 45,
   "metadata": {
    "collapsed": false
   },
   "outputs": [],
   "source": [
    "#np.linalg.norm(leastSquare(trueSp+0.000000001,X,y)[1])"
   ]
  },
  {
   "cell_type": "code",
   "execution_count": 46,
   "metadata": {
    "collapsed": false
   },
   "outputs": [
    {
     "name": "stdout",
     "output_type": "stream",
     "text": [
      "8.08898029578e-10\n",
      "[  7.22795585e-11   3.46213943e-11   7.47740492e-11  -3.55712868e-11\n",
      "   2.15244461e-11  -1.43022159e-10   8.23569515e-12   6.10197803e-11\n",
      "  -6.08653302e-10  -4.95850632e-10]\n"
     ]
    }
   ],
   "source": [
    "print np.linalg.norm((leastSquare(trueSp,X,y)[1]))\n",
    "print leastSquare(trueSp,X,y)[1]"
   ]
  },
  {
   "cell_type": "code",
   "execution_count": 47,
   "metadata": {
    "collapsed": false
   },
   "outputs": [
    {
     "data": {
      "text/plain": [
       "array([  0.5032541 ,  -2.3367948 ,  -6.31670032,   6.81230107,\n",
       "        -1.06337989,   6.67469398,   3.4118044 ,  -0.45573592,\n",
       "       -12.94593466,  15.73289812])"
      ]
     },
     "execution_count": 47,
     "metadata": {},
     "output_type": "execute_result"
    }
   ],
   "source": [
    "sp = [0.1]*10\n",
    "trueSp"
   ]
  },
  {
   "cell_type": "code",
   "execution_count": 48,
   "metadata": {
    "collapsed": false
   },
   "outputs": [
    {
     "name": "stdout",
     "output_type": "stream",
     "text": [
      "5.43333039369e-07\n"
     ]
    }
   ],
   "source": [
    "step = 1/np.linalg.norm(leastSquare(sp,X,y)[1])\n",
    "print step"
   ]
  },
  {
   "cell_type": "code",
   "execution_count": 49,
   "metadata": {
    "collapsed": false
   },
   "outputs": [],
   "source": [
    "#batchGradientDiscent(leastSquare,[0.1]*10,step,1e-19,1000,X,y)"
   ]
  },
  {
   "cell_type": "code",
   "execution_count": 50,
   "metadata": {
    "collapsed": false
   },
   "outputs": [
    {
     "data": {
      "text/plain": [
       "array([  0.5032541 ,  -2.3367948 ,  -6.31670032,   6.81230107,\n",
       "        -1.06337989,   6.67469398,   3.4118044 ,  -0.45573592,\n",
       "       -12.94593466,  15.73289812])"
      ]
     },
     "execution_count": 50,
     "metadata": {},
     "output_type": "execute_result"
    }
   ],
   "source": [
    "trueSp\n"
   ]
  },
  {
   "cell_type": "code",
   "execution_count": null,
   "metadata": {
    "collapsed": false
   },
   "outputs": [],
   "source": []
  },
  {
   "cell_type": "code",
   "execution_count": 51,
   "metadata": {
    "collapsed": false
   },
   "outputs": [
    {
     "data": {
      "text/plain": [
       "0.001"
      ]
     },
     "execution_count": 51,
     "metadata": {},
     "output_type": "execute_result"
    }
   ],
   "source": [
    "a"
   ]
  },
  {
   "cell_type": "markdown",
   "metadata": {
    "collapsed": false
   },
   "source": [
    "# Stochastic Gradient Discent"
   ]
  },
  {
   "cell_type": "code",
   "execution_count": 52,
   "metadata": {
    "collapsed": false
   },
   "outputs": [],
   "source": [
    "#function,initGuess,step,threshold,maxIter,*args\n",
    "def stochasticGradientDiscent(function,initGuess,threshold,maxIter,tau0,kappa,*args):\n",
    "    gradientNorm = []\n",
    "    epsilon = 1\n",
    "    k = kappa\n",
    "    \n",
    "    steps = 0\n",
    "    iteration = 0\n",
    "    X = args[0]\n",
    "    Y = args[1]\n",
    "    n = X.shape[0]\n",
    "    print n\n",
    "    print maxIter \n",
    "    ConvergedTheta  = []\n",
    "    #indTheta =initGuess\n",
    "    #j = 0\n",
    "    for j in range(maxIter): \n",
    "        \n",
    "        for i in range(n):\n",
    "            \n",
    "            if epsilon > threshold:\n",
    "                \n",
    "                indX = X[i,]\n",
    "                indY = Y[i]\n",
    "                \n",
    "                if steps ==0:\n",
    "                    indTheta = initGuess\n",
    "                #intermediate = np.inner(indX,indTheta) - y\n",
    "                output = function(indTheta,indX,indY)\n",
    "                value = output[0]\n",
    "                gradient = output[1]\n",
    "                etaT = (1./((tau0+steps)*np.linalg.norm(gradient)))**k\n",
    "                change = [a*etaT for a in gradient]\n",
    "                \n",
    "                newTheta = [a - b for a,b in zip(indTheta,change)] #GDS equation\n",
    "                #print newTheta\n",
    "                newValue = function(newTheta,indX,indY)[0]\n",
    "                epsilon = abs(function(indTheta,X,Y)[0] - function(newTheta,X,Y)[0])\n",
    "                \n",
    "                print(epsilon)\n",
    "                steps= steps +1            \n",
    "                indTheta = newTheta\n",
    "                gradientNorm.append(np.linalg.norm(gradient))\n",
    "                print steps\n",
    "                #print indTheta\n",
    "                ConvergedTheta = indTheta\n",
    "            else:\n",
    "                print \"SGD converged\"\n",
    "                #ConvergedTheta = indTheta\n",
    "                break\n",
    "                \n",
    "\n",
    "    print steps\n",
    "    return(indTheta,gradientNorm)"
   ]
  },
  {
   "cell_type": "code",
   "execution_count": null,
   "metadata": {
    "collapsed": false
   },
   "outputs": [],
   "source": []
  },
  {
   "cell_type": "code",
   "execution_count": 53,
   "metadata": {
    "collapsed": false
   },
   "outputs": [
    {
     "data": {
      "text/plain": [
       "array([  0.5032541 ,  -2.3367948 ,  -6.31670032,   6.81230107,\n",
       "        -1.06337989,   6.67469398,   3.4118044 ,  -0.45573592,\n",
       "       -12.94593466,  15.73289812])"
      ]
     },
     "execution_count": 53,
     "metadata": {},
     "output_type": "execute_result"
    }
   ],
   "source": [
    "trueSp"
   ]
  },
  {
   "cell_type": "code",
   "execution_count": 54,
   "metadata": {
    "collapsed": false
   },
   "outputs": [
    {
     "name": "stdout",
     "output_type": "stream",
     "text": [
      "(517053.08329709724, array([ 156154.98933064,   85223.50399676,  124651.09368344,\n",
      "        115711.33802906,   77742.55644782,   60043.35759262,\n",
      "         63092.92258076,  127016.42767924,  121652.21008802,\n",
      "         86151.33874348]))\n",
      "(8333.2142111780358, array([  7.22795585e-11,   3.46213943e-11,   7.47740492e-11,\n",
      "        -3.55712868e-11,   2.15244461e-11,  -1.43022159e-10,\n",
      "         8.23569515e-12,   6.10197803e-11,  -6.08653302e-10,\n",
      "        -4.95850632e-10]))\n"
     ]
    }
   ],
   "source": [
    "print leastSquare(trueSp+1,X,y)\n",
    "print leastSquare(trueSp,X,y)"
   ]
  },
  {
   "cell_type": "code",
   "execution_count": 55,
   "metadata": {
    "collapsed": false,
    "scrolled": true
   },
   "outputs": [
    {
     "name": "stdout",
     "output_type": "stream",
     "text": [
      "77.4052453997\n"
     ]
    },
    {
     "data": {
      "text/plain": [
       "818.39732344132449"
      ]
     },
     "execution_count": 55,
     "metadata": {},
     "output_type": "execute_result"
    }
   ],
   "source": [
    "#print trueSp\n",
    "u = np.linalg.norm(leastSquare(trueSp+0.0000001,X[4,],y[4])[0])\n",
    "print u\n",
    "np.linalg.norm(leastSquare(trueSp,X[4,],y[4])[1])"
   ]
  },
  {
   "cell_type": "code",
   "execution_count": 56,
   "metadata": {
    "collapsed": false
   },
   "outputs": [
    {
     "name": "stdout",
     "output_type": "stream",
     "text": [
      "[  0.5032541   -2.3367948   -6.31670032   6.81230107  -1.06337989\n",
      "   6.67469398   3.4118044   -0.45573592 -12.94593466  15.73289812]\n"
     ]
    },
    {
     "data": {
      "text/plain": [
       "array([  5.5032541 ,   2.6632052 ,  -1.31670032,  11.81230107,\n",
       "         3.93662011,  11.67469398,   8.4118044 ,   4.54426408,\n",
       "        -7.94593466,  20.73289812])"
      ]
     },
     "execution_count": 56,
     "metadata": {},
     "output_type": "execute_result"
    }
   ],
   "source": [
    "print trueSp\n",
    "trueSp+0.5\n",
    "trueSp+5"
   ]
  },
  {
   "cell_type": "code",
   "execution_count": null,
   "metadata": {
    "collapsed": false
   },
   "outputs": [],
   "source": []
  },
  {
   "cell_type": "code",
   "execution_count": null,
   "metadata": {
    "collapsed": false
   },
   "outputs": [],
   "source": [
    "B = stochasticGradientDiscent(leastSquare,trueSp+0.5,1e-5,500,5,0.9,X,y)\n",
    "#print B[0]"
   ]
  },
  {
   "cell_type": "code",
   "execution_count": 57,
   "metadata": {
    "collapsed": false
   },
   "outputs": [
    {
     "data": {
      "text/plain": [
       "array([  0.5032541 ,  -2.3367948 ,  -6.31670032,   6.81230107,\n",
       "        -1.06337989,   6.67469398,   3.4118044 ,  -0.45573592,\n",
       "       -12.94593466,  15.73289812])"
      ]
     },
     "execution_count": 57,
     "metadata": {},
     "output_type": "execute_result"
    }
   ],
   "source": [
    "trueSp"
   ]
  },
  {
   "cell_type": "code",
   "execution_count": 58,
   "metadata": {
    "collapsed": false
   },
   "outputs": [
    {
     "data": {
      "text/plain": [
       "array([    8.39786936,  1470.50988584,   989.49181439, -4460.14719887,\n",
       "        -956.05299239,  4472.62864286,  1219.48517332,   377.18093142,\n",
       "       -1808.43345041,  1026.54815531])"
      ]
     },
     "execution_count": 58,
     "metadata": {},
     "output_type": "execute_result"
    }
   ],
   "source": [
    "leastSquare([0.51383678361127649,\n",
    "  -2.3221537768035656,\n",
    "  -6.3054180177946337,\n",
    "  6.7490839223594641,\n",
    "  -1.0598129042871163,\n",
    "  6.741359265707608,\n",
    "  3.454212255283466,\n",
    "  -0.45027927985692645,\n",
    "  -12.971226014269694,\n",
    "  15.741903392724566],X,y)[1]"
   ]
  },
  {
   "cell_type": "code",
   "execution_count": 59,
   "metadata": {
    "collapsed": false
   },
   "outputs": [],
   "source": [
    "Sp=trueSp+0.001"
   ]
  },
  {
   "cell_type": "code",
   "execution_count": 60,
   "metadata": {
    "collapsed": false
   },
   "outputs": [
    {
     "data": {
      "text/plain": [
       "335.49776194767549"
      ]
     },
     "execution_count": 60,
     "metadata": {},
     "output_type": "execute_result"
    }
   ],
   "source": [
    "np.linalg.norm(leastSquare(Sp,X,y)[1])"
   ]
  },
  {
   "cell_type": "code",
   "execution_count": 61,
   "metadata": {
    "collapsed": false
   },
   "outputs": [
    {
     "name": "stdout",
     "output_type": "stream",
     "text": [
      "[ -0.1472   0.4902 -22.6757  14.7657  10.7925 -17.3419  -7.5815 -16.5327\n",
      "  -6.7174   2.7522]\n",
      "[-0.88944206 -0.88944206 -0.88944206 -0.88944206 -0.88944206 -0.88944206\n",
      " -0.88944206 -0.88944206 -0.88944206 -0.88944206]\n",
      "[0.1, 0.1, 0.1, 0.1, 0.1, 0.1, 0.1, 0.1, 0.1, 0.1]\n"
     ]
    }
   ],
   "source": [
    "a = np.inner(X[0,],sp) - y[0]\n",
    "print X[0,]\n",
    "nu = np.linalg.norm(2*np.transpose(X[0,])*a)\n",
    "eta = (1./((2+1)*nu))**0.9\n",
    "print sp - eta*nu\n",
    "print sp"
   ]
  },
  {
   "cell_type": "code",
   "execution_count": 62,
   "metadata": {
    "collapsed": false
   },
   "outputs": [
    {
     "name": "stdout",
     "output_type": "stream",
     "text": [
      "8.57177901034e-06\n",
      "[  0.5032541   -2.3367948   -6.31670032   6.81230107  -1.06337989\n",
      "   6.67469398   3.4118044   -0.45573592 -12.94593466  15.73289812]\n"
     ]
    }
   ],
   "source": [
    "step = 1/np.linalg.norm(leastSquare(sp,X[1,],y[1])[1])\n",
    "print step\n",
    "print trueSp"
   ]
  },
  {
   "cell_type": "code",
   "execution_count": 63,
   "metadata": {
    "collapsed": false
   },
   "outputs": [
    {
     "data": {
      "text/plain": [
       "124.59641066482335"
      ]
     },
     "execution_count": 63,
     "metadata": {},
     "output_type": "execute_result"
    }
   ],
   "source": [
    "np.linalg.norm(leastSquare([0.50034016052490493, -2.319209537499022, -6.3299194407028789, 6.8037412098861694, -1.062374491272561, 6.6702575834680333, 3.4242693800619417, -0.44371814359307221, -12.951667951630881, 15.737072262969543],X[80,],y[80])[1])"
   ]
  },
  {
   "cell_type": "code",
   "execution_count": null,
   "metadata": {
    "collapsed": false
   },
   "outputs": [],
   "source": []
  },
  {
   "cell_type": "code",
   "execution_count": 66,
   "metadata": {
    "collapsed": false
   },
   "outputs": [
    {
     "name": "stdout",
     "output_type": "stream",
     "text": [
      "0.329876977693\n"
     ]
    }
   ],
   "source": [
    "i = 1\n",
    "indTheta = sp\n",
    "indX = X[i,]\n",
    "indY = y[i]\n",
    "value = (np.inner(np.transpose(indX),indTheta) - indY)**2\n",
    "gradient = 2*(np.inner(np.transpose(indX),indTheta) - indY)*indX\n",
    "#print value,gradient\n",
    "#print np.linalg.norm(gradient)\n",
    "tau0 = 2\n",
    "k = 0.8\n",
    "j = 1\n",
    "etaT = (1./(tau0+(j+1)))**k\n",
    "print etaT\n",
    "newTheta = indTheta - etaT*gradient\n"
   ]
  },
  {
   "cell_type": "code",
   "execution_count": null,
   "metadata": {
    "collapsed": false
   },
   "outputs": [],
   "source": []
  },
  {
   "cell_type": "code",
   "execution_count": null,
   "metadata": {
    "collapsed": false
   },
   "outputs": [],
   "source": []
  },
  {
   "cell_type": "code",
   "execution_count": null,
   "metadata": {
    "collapsed": false
   },
   "outputs": [],
   "source": []
  },
  {
   "cell_type": "code",
   "execution_count": 67,
   "metadata": {
    "collapsed": false
   },
   "outputs": [
    {
     "data": {
      "text/plain": [
       "array([  4.73723661e+01,   6.25001792e+04,   5.78074655e+04,\n",
       "        -7.19579118e+03,   4.78094029e+04,   2.76914632e+04,\n",
       "        -2.42931192e+04,   1.03750825e+04,   3.55627558e+04,\n",
       "        -3.59885728e+04])"
      ]
     },
     "execution_count": 67,
     "metadata": {},
     "output_type": "execute_result"
    }
   ],
   "source": [
    "indX = X[i,]\n",
    "indY = y[i]\n",
    "value = (np.inner(np.transpose(indX),sp) - indY)**2\n",
    "value\n",
    "2*(np.inner(np.transpose(indX),sp) - indY)*indX"
   ]
  },
  {
   "cell_type": "code",
   "execution_count": 68,
   "metadata": {
    "collapsed": false
   },
   "outputs": [],
   "source": [
    "def additional(function,f,d,*args):\n",
    "    return(function(*args)+f**d)\n"
   ]
  },
  {
   "cell_type": "code",
   "execution_count": 75,
   "metadata": {
    "collapsed": false
   },
   "outputs": [],
   "source": [
    "data = pl.loadtxt('../DataFiles/HW1/curvefittingp2.txt')"
   ]
  },
  {
   "cell_type": "markdown",
   "metadata": {},
   "source": [
    "## Linear Basis Function Regression"
   ]
  },
  {
   "cell_type": "code",
   "execution_count": 76,
   "metadata": {
    "collapsed": true
   },
   "outputs": [],
   "source": [
    "# Data for question 2\n",
    "import matplotlib.pyplot as plt\n",
    "import pylab as pl\n",
    "\n",
    "def getData(ifPlotData=True):\n",
    "    # load the fitting data and (optionally) plot out for examination\n",
    "    # return the X and Y as a tuple\n",
    "\n",
    "    data = pl.loadtxt('../DataFiles/HW1/curvefittingp2.txt')\n",
    "\n",
    "    X = data[0,:]\n",
    "    Y = data[1,:]\n",
    "\n",
    "    if ifPlotData:\n",
    "        plt.plot(X,Y,'o')\n",
    "        plt.xlabel('x')\n",
    "        plt.ylabel('y')\n",
    "        plt.show()\n",
    "\n",
    "    return (X,Y)"
   ]
  },
  {
   "cell_type": "code",
   "execution_count": 77,
   "metadata": {
    "collapsed": false
   },
   "outputs": [
    {
     "data": {
      "image/png": "[encoded data removed]",
      "text/plain": [
       "<matplotlib.figure.Figure at 0x104988250>"
      ]
     },
     "metadata": {},
     "output_type": "display_data"
    }
   ],
   "source": [
    "X,Y = getData(ifPlotData=True)\n"
   ]
  },
  {
   "cell_type": "code",
   "execution_count": 79,
   "metadata": {
    "collapsed": true
   },
   "outputs": [],
   "source": [
    "def LBFRegression(X,y,m):\n",
    "    designMat = np.zeros((len(X),m+1))\n",
    "    for i in range(m+1):\n",
    "        #print([a**i for a in X])\n",
    "        designMat[:,i] = [a**i for a in X]\n",
    "        \n",
    "        \n",
    "    mle = np.inner(np.dot(np.linalg.inv(np.dot(np.transpose(designMat),designMat)),np.transpose(designMat)),y)\n",
    "    fittedValues = np.dot(designMat,np.transpose(mle))\n",
    "    return(mle,fittedValues)"
   ]
  },
  {
   "cell_type": "markdown",
   "metadata": {},
   "source": [
    "### 2.1"
   ]
  },
  {
   "cell_type": "code",
   "execution_count": 80,
   "metadata": {
    "collapsed": false
   },
   "outputs": [],
   "source": [
    "xtrue = np.linspace(0,1,100) # 100 linearly spaced numbers\n",
    "ytrue = np.cos(np.pi*xtrue)+1.5*np.cos(2*np.pi*xtrue) # computing the values of sin(x)/x\n",
    "noise = np.random.normal(0,0.01,100)\n",
    "ytrue = ytrue+noise\n",
    "\n",
    "\n",
    "weights0 = LBFRegression(X,Y,0)[0]\n",
    "m = 0\n",
    "designMat = np.zeros((len(xtrue),m+1))\n",
    "for i in range(m+1):\n",
    "    designMat[:,i] = [a**i for a in xtrue]\n",
    "\n",
    "\n",
    "fValue0 = np.inner(designMat,np.transpose(weights0))\n",
    "\n",
    "weights1 = LBFRegression(X,Y,1)[0]\n",
    "m = 1\n",
    "designMat = np.zeros((len(xtrue),m+1))\n",
    "for i in range(m+1):\n",
    "    designMat[:,i] = [a**i for a in xtrue]\n",
    "\n",
    "\n",
    "fValue1 = np.inner(designMat,np.transpose(weights1))\n",
    "\n",
    "\n",
    "\n",
    "weights3 = LBFRegression(X,Y,3)[0]\n",
    "m = 3\n",
    "designMat = np.zeros((len(xtrue),m+1))\n",
    "for i in range(m+1):\n",
    "    designMat[:,i] = [a**i for a in xtrue]\n",
    "\n",
    "\n",
    "fValue3 = np.inner(designMat,np.transpose(weights3))\n",
    "\n",
    "\n",
    "\n",
    "weights10 = LBFRegression(X,Y,10)[0]\n",
    "m = 10\n",
    "designMat = np.zeros((len(xtrue),m+1))\n",
    "for i in range(m+1):\n",
    "    designMat[:,i] = [a**i for a in xtrue]\n",
    "\n",
    "weights10 = LBFRegression(X,Y,10)[0]\n",
    "fValue10 = np.inner(designMat,np.transpose(weights10))"
   ]
  },
  {
   "cell_type": "code",
   "execution_count": null,
   "metadata": {
    "collapsed": false
   },
   "outputs": [],
   "source": [
    "\n"
   ]
  },
  {
   "cell_type": "code",
   "execution_count": 82,
   "metadata": {
    "collapsed": false
   },
   "outputs": [
    {
     "data": {
      "image/png": "[encoded data removed]",
      "text/plain": [
       "<matplotlib.figure.Figure at 0x1056e1150>"
      ]
     },
     "metadata": {},
     "output_type": "display_data"
    }
   ],
   "source": [
    "from pylab import savefig\n",
    "\n",
    "plt.plot(xtrue,ytrue)\n",
    "plt.plot(X,Y,'o')\n",
    "plt.plot(xtrue,fValue0)\n",
    "plt.xlabel('x')\n",
    "plt.ylabel('y')\n",
    "plt.title('Linear Regression (M=0)')\n",
    "#plt.show()\n",
    "pl.savefig('../ImageFiles/HW1/PolyBasis0.pdf')"
   ]
  },
  {
   "cell_type": "code",
   "execution_count": 83,
   "metadata": {
    "collapsed": false
   },
   "outputs": [
    {
     "data": {
      "image/png": "[encoded data removed]",
      "text/plain": [
       "<matplotlib.figure.Figure at 0x105742d10>"
      ]
     },
     "metadata": {},
     "output_type": "display_data"
    }
   ],
   "source": [
    "plt.plot(xtrue,ytrue)\n",
    "plt.plot(X,Y,'o')\n",
    "plt.plot(xtrue,fValue1)\n",
    "plt.xlabel('x')\n",
    "plt.ylabel('y')\n",
    "plt.title('Linear Regression (M=1)')\n",
    "#plt.show()\n",
    "pl.savefig('../ImageFiles/HW1/PolyBasis1.pdf')"
   ]
  },
  {
   "cell_type": "code",
   "execution_count": 84,
   "metadata": {
    "collapsed": false
   },
   "outputs": [
    {
     "data": {
      "image/png": "[encoded data removed]",
      "text/plain": [
       "<matplotlib.figure.Figure at 0x106053cd0>"
      ]
     },
     "metadata": {},
     "output_type": "display_data"
    }
   ],
   "source": [
    "plt.plot(xtrue,ytrue)\n",
    "plt.plot(X,Y,'o')\n",
    "plt.plot(xtrue,fValue3)\n",
    "plt.xlabel('x')\n",
    "plt.ylabel('y')\n",
    "plt.title('Linear Regression (M=3)')\n",
    "#plt.show()\n",
    "pl.savefig('../ImageFiles/HW1/PolyBasis3.pdf')"
   ]
  },
  {
   "cell_type": "code",
   "execution_count": 85,
   "metadata": {
    "collapsed": false
   },
   "outputs": [
    {
     "data": {
      "image/png": "[encoded data removed]",
      "text/plain": [
       "<matplotlib.figure.Figure at 0x1054ba810>"
      ]
     },
     "metadata": {},
     "output_type": "display_data"
    }
   ],
   "source": [
    "plt.plot(xtrue,ytrue)\n",
    "plt.plot(X,Y,'o')\n",
    "plt.plot(xtrue,fValue10)\n",
    "plt.xlabel('x')\n",
    "plt.ylabel('y')\n",
    "plt.title('Linear Regression (M=10)')\n",
    "#plt.show()\n",
    "pl.savefig('../ImageFiles/HW1/PolyBasis10.pdf')"
   ]
  },
  {
   "cell_type": "markdown",
   "metadata": {
    "collapsed": true
   },
   "source": [
    "# SSE"
   ]
  },
  {
   "cell_type": "code",
   "execution_count": 86,
   "metadata": {
    "collapsed": true
   },
   "outputs": [],
   "source": [
    "def SSEPolynomialBasis(weight,X,y):\n",
    "    error = np.inner(X,np.transpose(weight)) - y\n",
    "    SSE =np.inner(error,np.transpose(error))\n",
    "    SSEderivative = 2*np.inner(np.transpose(X),error)\n",
    "    return(SSE,SSEderivative)"
   ]
  },
  {
   "cell_type": "code",
   "execution_count": 87,
   "metadata": {
    "collapsed": false
   },
   "outputs": [],
   "source": [
    "# Plotting the SSE polynomial basis fnction\n"
   ]
  },
  {
   "cell_type": "code",
   "execution_count": 88,
   "metadata": {
    "collapsed": false
   },
   "outputs": [
    {
     "name": "stdout",
     "output_type": "stream",
     "text": [
      "[-0.00087273]\n"
     ]
    },
    {
     "data": {
      "text/plain": [
       "numpy.ndarray"
      ]
     },
     "execution_count": 88,
     "metadata": {},
     "output_type": "execute_result"
    }
   ],
   "source": [
    "weights0 = LBFRegression(X,Y,0)[0]\n",
    "print weights0\n",
    "m = 0\n",
    "designMat = np.zeros((len(X),m+1))\n",
    "for i in range(m+1):\n",
    "    designMat[:,i] = [a**i for a in X]\n",
    "designMat\n",
    "SSEPolynomialBasis(weights0,designMat,Y)\n",
    "SSEPolynomialBasis(0.002,designMat,Y)\n",
    "#type(weights0)\n",
    "type(weights0)"
   ]
  },
  {
   "cell_type": "code",
   "execution_count": 89,
   "metadata": {
    "collapsed": false
   },
   "outputs": [
    {
     "data": {
      "text/plain": [
       "(13.476960001818181, array([  1.77635684e-15]))"
      ]
     },
     "execution_count": 89,
     "metadata": {},
     "output_type": "execute_result"
    }
   ],
   "source": [
    "SSEPolynomialBasis(weights0,designMat,Y)"
   ]
  },
  {
   "cell_type": "code",
   "execution_count": 90,
   "metadata": {
    "collapsed": false
   },
   "outputs": [
    {
     "data": {
      "text/plain": [
       "1.7763568394002505e-15"
      ]
     },
     "execution_count": 90,
     "metadata": {},
     "output_type": "execute_result"
    }
   ],
   "source": [
    "np.linalg.norm(SSEPolynomialBasis(weights0,designMat,Y)[1])"
   ]
  },
  {
   "cell_type": "code",
   "execution_count": 91,
   "metadata": {
    "collapsed": false
   },
   "outputs": [
    {
     "data": {
      "text/plain": [
       "[0.0]"
      ]
     },
     "execution_count": 91,
     "metadata": {},
     "output_type": "execute_result"
    }
   ],
   "source": [
    "finiteDifference(SSEPolynomialBasis,weights0,0.02,designMat,Y)"
   ]
  },
  {
   "cell_type": "code",
   "execution_count": 92,
   "metadata": {
    "collapsed": false
   },
   "outputs": [
    {
     "data": {
      "text/plain": [
       "[<matplotlib.lines.Line2D at 0x1055fe750>]"
      ]
     },
     "execution_count": 92,
     "metadata": {},
     "output_type": "execute_result"
    },
    {
     "data": {
      "image/png": "[encoded data removed]",
      "text/plain": [
       "<matplotlib.figure.Figure at 0x105a00dd0>"
      ]
     },
     "metadata": {},
     "output_type": "display_data"
    }
   ],
   "source": [
    "rangeOfValues = np.linspace(-1,1,100)\n",
    "Value0 = []\n",
    "for i in rangeOfValues:\n",
    "    \n",
    "    Value0.append(SSEPolynomialBasis(weights0+i,designMat,Y)[0]) \n",
    "#print Value0\n",
    "#print rangeOfValues\n",
    "SSEPolynomialBasis(weights0+0.001,designMat,Y)[1]\n",
    "plt.plot(rangeOfValues+weights0,Value0)"
   ]
  },
  {
   "cell_type": "code",
   "execution_count": 93,
   "metadata": {
    "collapsed": true
   },
   "outputs": [],
   "source": [
    "# Compare bacth gradient descent for initial gues, steps and the convergence threshold"
   ]
  },
  {
   "cell_type": "code",
   "execution_count": null,
   "metadata": {
    "collapsed": true
   },
   "outputs": [],
   "source": []
  },
  {
   "cell_type": "code",
   "execution_count": 94,
   "metadata": {
    "collapsed": false
   },
   "outputs": [],
   "source": [
    "NGAnalyticSoln = weights0\n",
    "SP1 =NGAnalyticSoln +  np.random.normal(1,1,len(NGAnalyticSoln))\n",
    "SP2 =NGAnalyticSoln +  np.random.normal(5,1,len(NGAnalyticSoln))\n",
    "SP3 =NGAnalyticSoln +  np.random.normal(10,1,len(NGAnalyticSoln))\n",
    "step = 1/np.linalg.norm(SSEPolynomialBasis(SP1,designMat,Y)[1])\n",
    "\n",
    "SP1output =  batchGradientDiscent(SSEPolynomialBasis,SP1,step,1e-8,1000,designMat,Y)\n",
    "step = 1/np.linalg.norm(SSEPolynomialBasis(SP2,designMat,Y)[1])\n",
    "SP2output =  batchGradientDiscent(SSEPolynomialBasis,SP2,step,1e-8,1000,designMat,Y)\n",
    "step = 1/np.linalg.norm(SSEPolynomialBasis(SP3,designMat,Y)[1])\n",
    "SP3output =  batchGradientDiscent(SSEPolynomialBasis,SP3,step,1e-8,1000,designMat,Y)\n",
    "\n",
    "Iterations0 = [SP1output[1],SP2output[3],SP3output[3] ]\n",
    "\n",
    "#SP3output\n",
    "SP3output[1]\n",
    "W1 = ['1','5','10']\n",
    "Iterations0[1]\n",
    "a = SP1output[1]\n",
    "b = SP2output[1]\n",
    "c = SP3output[1]\n",
    "#SP1output"
   ]
  },
  {
   "cell_type": "code",
   "execution_count": 95,
   "metadata": {
    "collapsed": false
   },
   "outputs": [
    {
     "data": {
      "image/png": "[encoded data removed]",
      "text/plain": [
       "<matplotlib.figure.Figure at 0x105a80990>"
      ]
     },
     "metadata": {},
     "output_type": "display_data"
    }
   ],
   "source": [
    "#plt.plot(W1,Iterations)\n",
    "plt.plot(range(len(a)),a,label='1')\n",
    "plt.plot(range(len(b)),b,label='5')\n",
    "plt.plot(range(len(c)),c,label='10')\n",
    "\n",
    "plt.legend(bbox_to_anchor=(1.05, 1), loc=2, borderaxespad=0.,title = \"Mean of the \\n noise\")\n",
    "plt.xlabel('Mean for the added noise')\n",
    "plt.ylabel('Number of iterations')\n",
    "#plt.yscale('log')\n",
    "plt.show()"
   ]
  },
  {
   "cell_type": "code",
   "execution_count": 96,
   "metadata": {
    "collapsed": true
   },
   "outputs": [],
   "source": [
    "# Generate Plots for all these"
   ]
  },
  {
   "cell_type": "code",
   "execution_count": 97,
   "metadata": {
    "collapsed": false
   },
   "outputs": [],
   "source": [
    "# Comparing step sizes\n",
    "NGAnalyticSoln = weights0\n",
    "SP3 =NGAnalyticSoln +  np.random.normal(10,1,len(NGAnalyticSoln))\n",
    "step = 1/np.linalg.norm(SSEPolynomialBasis(SP3,designMat,Y)[1])\n",
    "step1 = step\n",
    "step2 = step*5\n",
    "step3 = step*10\n",
    "step4 = step*15\n",
    "step5 = step*20\n",
    "\n",
    "step1Iter = []\n",
    "step2Iter = []\n",
    "step3Iter = []\n",
    "step4Iter = []\n",
    "#for i in range(10):\n",
    "SP1output =  batchGradientDiscent(SSEPolynomialBasis,SP3,step,1e-8,1000,designMat,Y)\n",
    "SP2output =  batchGradientDiscent(SSEPolynomialBasis,SP3,step2,1e-8,1000,designMat,Y)\n",
    "\n",
    "SP3output =  batchGradientDiscent(SSEPolynomialBasis,SP3,step3,1e-8,1000,designMat,Y)\n",
    "SP4output =  batchGradientDiscent(SSEPolynomialBasis,SP3,step4,1e-8,1000,designMat,Y)\n",
    "    \n",
    "\n",
    "a =  SP1output[1]\n",
    "b =  SP2output[1]\n",
    "c =  SP3output[1]\n",
    "d =  SP4output[1]"
   ]
  },
  {
   "cell_type": "code",
   "execution_count": 98,
   "metadata": {
    "collapsed": false
   },
   "outputs": [
    {
     "data": {
      "image/png": "[encoded data removed]",
      "text/plain": [
       "<matplotlib.figure.Figure at 0x105fb0150>"
      ]
     },
     "metadata": {},
     "output_type": "display_data"
    }
   ],
   "source": [
    "plt.plot(range(len(a)),a,label='1')\n",
    "plt.plot(range(len(b)),b,label='5')\n",
    "plt.plot(range(len(c)),c,label='10')\n",
    "plt.plot(range(len(d)),d,label='20')\n",
    "\n",
    "plt.legend(bbox_to_anchor=(1.05, 1), loc=2, borderaxespad=0.,title = \"Mean of the \\n noise\")\n",
    "plt.xlabel('Mean for the added noise')\n",
    "plt.ylabel('Number of iterations')\n",
    "plt.yscale('log')\n",
    "plt.show()"
   ]
  },
  {
   "cell_type": "code",
   "execution_count": 99,
   "metadata": {
    "collapsed": false
   },
   "outputs": [],
   "source": [
    "# Converegnce Threshold\n",
    "a = batchGradientDiscent(SSEPolynomialBasis,SP3,step,1e-2,1000,designMat,Y)[3]\n",
    "b = batchGradientDiscent(SSEPolynomialBasis,SP3,step,1e-4,1000,designMat,Y)[3]\n",
    "c  = batchGradientDiscent(SSEPolynomialBasis,SP3,step,1e-6,1000,designMat,Y)[3]\n",
    "d  = batchGradientDiscent(SSEPolynomialBasis,SP3,step,1e-8,1000,designMat,Y)[3]\n",
    "iteration0 = [a,b,c,d]\n",
    "W1 = ['1e-2','1e-4','1e-8','1e-10']"
   ]
  },
  {
   "cell_type": "code",
   "execution_count": 100,
   "metadata": {
    "collapsed": false
   },
   "outputs": [
    {
     "data": {
      "image/png": "[encoded data removed]",
      "text/plain": [
       "<matplotlib.figure.Figure at 0x105ffb350>"
      ]
     },
     "metadata": {},
     "output_type": "display_data"
    }
   ],
   "source": [
    "plt.plot(range(len(iteration0)),iteration0)\n",
    "\n",
    "\n",
    "plt.xticks(range(len(W1)),W1, size='small')\n",
    "#plt.legend(bbox_to_anchor=(1.05, 1), loc=2, borderaxespad=0.,title = \"Mean of the \\n noise\")\n",
    "plt.xlabel('Threshold')\n",
    "plt.ylabel('Number of iterations')\n",
    "#plt.yscale('log')\n",
    "plt.show()"
   ]
  },
  {
   "cell_type": "code",
   "execution_count": 101,
   "metadata": {
    "collapsed": false
   },
   "outputs": [
    {
     "name": "stdout",
     "output_type": "stream",
     "text": [
      "[[ 1.   0. ]\n",
      " [ 1.   0.1]\n",
      " [ 1.   0.2]\n",
      " [ 1.   0.3]\n",
      " [ 1.   0.4]\n",
      " [ 1.   0.5]\n",
      " [ 1.   0.6]\n",
      " [ 1.   0.7]\n",
      " [ 1.   0.8]\n",
      " [ 1.   0.9]\n",
      " [ 1.   1. ]] [ 2.2748  1.5728  0.2885  0.1237 -0.81   -1.5123 -0.8655 -0.8766 -0.6274\n",
      " -0.4159  0.8383]\n"
     ]
    },
    {
     "data": {
      "text/plain": [
       "(9.8619830089999994, array([  0.00000000e+00,   4.44089210e-16]))"
      ]
     },
     "execution_count": 101,
     "metadata": {},
     "output_type": "execute_result"
    }
   ],
   "source": [
    "weights1 = LBFRegression(X,Y,1)[0]\n",
    "m = 1\n",
    "designMat = np.zeros((len(X),m+1))\n",
    "for i in range(m+1):\n",
    "    designMat[:,i] = [a**i for a in X]\n",
    "print designMat,Y\n",
    "SSEPolynomialBasis(weights1,designMat,Y)\n",
    "#print weights1"
   ]
  },
  {
   "cell_type": "code",
   "execution_count": 102,
   "metadata": {
    "collapsed": false
   },
   "outputs": [
    {
     "data": {
      "text/plain": [
       "4.4408920985006262e-16"
      ]
     },
     "execution_count": 102,
     "metadata": {},
     "output_type": "execute_result"
    }
   ],
   "source": [
    "np.linalg.norm(SSEPolynomialBasis(weights1,designMat,Y)[1])"
   ]
  },
  {
   "cell_type": "code",
   "execution_count": 103,
   "metadata": {
    "collapsed": false
   },
   "outputs": [
    {
     "data": {
      "text/plain": [
       "[0.0, 0.0]"
      ]
     },
     "execution_count": 103,
     "metadata": {},
     "output_type": "execute_result"
    }
   ],
   "source": [
    "finiteDifference(SSEPolynomialBasis,weights1,0.02,designMat,Y)"
   ]
  },
  {
   "cell_type": "code",
   "execution_count": 104,
   "metadata": {
    "collapsed": false
   },
   "outputs": [
    {
     "name": "stdout",
     "output_type": "stream",
     "text": [
      "0.0026225784646\n"
     ]
    }
   ],
   "source": [
    "Sp = [10,10]\n",
    "step = 1/np.linalg.norm(SSEPolynomialBasis(Sp,designMat,Y)[1])\n",
    "print step\n",
    "#batchGradientDiscent(SSEPolynomialBasis,Sp,step,1e-8,1000,designMat,Y)"
   ]
  },
  {
   "cell_type": "code",
   "execution_count": 105,
   "metadata": {
    "collapsed": true
   },
   "outputs": [],
   "source": [
    "NGAnalyticSoln = weights1\n",
    "SP1 =NGAnalyticSoln +  np.random.normal(1,1,len(NGAnalyticSoln))\n",
    "SP2 =NGAnalyticSoln +  np.random.normal(5,1,len(NGAnalyticSoln))\n",
    "SP3 =NGAnalyticSoln +  np.random.normal(10,1,len(NGAnalyticSoln))\n",
    "step = 1/np.linalg.norm(SSEPolynomialBasis(SP1,designMat,Y)[1])\n",
    "\n",
    "SP1output =  batchGradientDiscent(SSEPolynomialBasis,SP1,step,1e-8,1000,designMat,Y)\n",
    "step = 1/np.linalg.norm(SSEPolynomialBasis(SP2,designMat,Y)[1])\n",
    "SP2output =  batchGradientDiscent(SSEPolynomialBasis,SP2,step,1e-8,1000,designMat,Y)\n",
    "step = 1/np.linalg.norm(SSEPolynomialBasis(SP3,designMat,Y)[1])\n",
    "SP3output =  batchGradientDiscent(SSEPolynomialBasis,SP3,step,1e-8,1000,designMat,Y)\n",
    "W1 = ['1','5','10']\n",
    "Iterations0[1]\n",
    "a = SP1output[1]\n",
    "b = SP2output[1]\n",
    "c = SP3output[1]"
   ]
  },
  {
   "cell_type": "code",
   "execution_count": 106,
   "metadata": {
    "collapsed": false
   },
   "outputs": [
    {
     "data": {
      "image/png": "[encoded data removed]",
      "text/plain": [
       "<matplotlib.figure.Figure at 0x105501750>"
      ]
     },
     "metadata": {},
     "output_type": "display_data"
    }
   ],
   "source": [
    "plt.plot(range(len(a)),a,label='1')\n",
    "plt.plot(range(len(b)),b,label='5')\n",
    "plt.plot(range(len(c)),c,label='10')\n",
    "\n",
    "plt.legend(bbox_to_anchor=(1.05, 1), loc=2, borderaxespad=0.,title = \"Mean of the \\n noise\")\n",
    "plt.xlabel('Mean for the added noise')\n",
    "plt.ylabel('Number of iterations')\n",
    "#plt.yscale('log')\n",
    "plt.show()"
   ]
  },
  {
   "cell_type": "code",
   "execution_count": 107,
   "metadata": {
    "collapsed": false
   },
   "outputs": [],
   "source": [
    "NGAnalyticSoln = weights1\n",
    "SP3 =NGAnalyticSoln +  np.random.normal(10,1,len(NGAnalyticSoln))\n",
    "step = 1/np.linalg.norm(SSEPolynomialBasis(SP3,designMat,Y)[1])\n",
    "step1 = step\n",
    "step2 = step*5\n",
    "step3 = step*10\n",
    "step4 = step*15\n",
    "step5 = step*20\n",
    "\n",
    "step1Iter = []\n",
    "step2Iter = []\n",
    "step3Iter = []\n",
    "step4Iter = []\n",
    "#for i in range(10):\n",
    "SP1output =  batchGradientDiscent(SSEPolynomialBasis,SP3,step,1e-8,1000,designMat,Y)\n",
    "SP2output =  batchGradientDiscent(SSEPolynomialBasis,SP3,step2,1e-8,1000,designMat,Y)\n",
    "\n",
    "SP3output =  batchGradientDiscent(SSEPolynomialBasis,SP3,step3,1e-8,1000,designMat,Y)\n",
    "SP4output =  batchGradientDiscent(SSEPolynomialBasis,SP3,step4,1e-8,1000,designMat,Y)\n",
    "    \n",
    "\n",
    "a =  SP1output[1]\n",
    "b =  SP2output[1]\n",
    "c =  SP3output[1]\n",
    "d =  SP4output[1]"
   ]
  },
  {
   "cell_type": "code",
   "execution_count": null,
   "metadata": {
    "collapsed": true
   },
   "outputs": [],
   "source": []
  },
  {
   "cell_type": "code",
   "execution_count": 108,
   "metadata": {
    "collapsed": false
   },
   "outputs": [
    {
     "data": {
      "image/png": "[encoded data removed]",
      "text/plain": [
       "<matplotlib.figure.Figure at 0x1056c24d0>"
      ]
     },
     "metadata": {},
     "output_type": "display_data"
    }
   ],
   "source": [
    "plt.plot(range(len(a)),a,label='1')\n",
    "plt.plot(range(len(b)),b,label='5')\n",
    "plt.plot(range(len(c)),c,label='10')\n",
    "plt.plot(range(len(d)),d,label='20')\n",
    "\n",
    "plt.legend(bbox_to_anchor=(1.05, 1), loc=2, borderaxespad=0.,title = \"Mean of the \\n noise\")\n",
    "plt.xlabel('Mean for the added noise')\n",
    "plt.ylabel('Number of iterations')\n",
    "plt.yscale('log')\n",
    "plt.show()"
   ]
  },
  {
   "cell_type": "code",
   "execution_count": null,
   "metadata": {
    "collapsed": true
   },
   "outputs": [],
   "source": []
  },
  {
   "cell_type": "code",
   "execution_count": null,
   "metadata": {
    "collapsed": true
   },
   "outputs": [],
   "source": []
  },
  {
   "cell_type": "code",
   "execution_count": 109,
   "metadata": {
    "collapsed": false
   },
   "outputs": [
    {
     "data": {
      "text/plain": [
       "2000"
      ]
     },
     "execution_count": 109,
     "metadata": {},
     "output_type": "execute_result"
    }
   ],
   "source": [
    "# Converegnce Threshold\n",
    "a = batchGradientDiscent(SSEPolynomialBasis,SP3,step,1e-2,2000,designMat,Y)[3]\n",
    "b = batchGradientDiscent(SSEPolynomialBasis,SP3,step,1e-4,2000,designMat,Y)[3]\n",
    "c  = batchGradientDiscent(SSEPolynomialBasis,SP3,step,1e-6,2000,designMat,Y)[3]\n",
    "d  = batchGradientDiscent(SSEPolynomialBasis,SP3,step,1e-8,2000,designMat,Y)[3]\n",
    "iteration0 = [a,b,c,d]\n",
    "W1 = ['1e-2','1e-4','1e-8','1e-10']\n",
    "c"
   ]
  },
  {
   "cell_type": "code",
   "execution_count": 110,
   "metadata": {
    "collapsed": false
   },
   "outputs": [
    {
     "data": {
      "image/png": "[encoded data removed]",
      "text/plain": [
       "<matplotlib.figure.Figure at 0x105fc0750>"
      ]
     },
     "metadata": {},
     "output_type": "display_data"
    }
   ],
   "source": [
    "plt.plot(range(len(iteration0)),iteration0)\n",
    "\n",
    "plt.xticks(range(len(W1)),W1, size='small')\n",
    "\n",
    "plt.xlabel('Threshold')\n",
    "plt.ylabel('Number of iterations')\n",
    "#plt.yscale('log')\n",
    "plt.show()"
   ]
  },
  {
   "cell_type": "code",
   "execution_count": 111,
   "metadata": {
    "collapsed": false
   },
   "outputs": [
    {
     "data": {
      "text/plain": [
       "0.0"
      ]
     },
     "execution_count": 111,
     "metadata": {},
     "output_type": "execute_result"
    }
   ],
   "source": [
    "np.linalg.norm(finiteDifference(SSEPolynomialBasis,weights1,0.02,designMat,Y))"
   ]
  },
  {
   "cell_type": "code",
   "execution_count": 112,
   "metadata": {
    "collapsed": false
   },
   "outputs": [
    {
     "data": {
      "text/plain": [
       "(0.65484574996503375,\n",
       " array([  2.72337708e-13,   1.61315405e-13,   1.19598775e-13,\n",
       "          1.04971587e-13]))"
      ]
     },
     "execution_count": 112,
     "metadata": {},
     "output_type": "execute_result"
    }
   ],
   "source": [
    "weights3 = LBFRegression(X,Y,3)[0]\n",
    "m = 3\n",
    "designMat = np.zeros((len(X),m+1))\n",
    "for i in range(m+1):\n",
    "    designMat[:,i] = [a**i for a in X]\n",
    "\n",
    "SSEPolynomialBasis(weights3,designMat,Y)"
   ]
  },
  {
   "cell_type": "code",
   "execution_count": 113,
   "metadata": {
    "collapsed": false
   },
   "outputs": [
    {
     "data": {
      "text/plain": [
       "3.5427868739665491e-13"
      ]
     },
     "execution_count": 113,
     "metadata": {},
     "output_type": "execute_result"
    }
   ],
   "source": [
    "np.linalg.norm(SSEPolynomialBasis(weights3,designMat,Y)[1])"
   ]
  },
  {
   "cell_type": "code",
   "execution_count": 114,
   "metadata": {
    "collapsed": false
   },
   "outputs": [
    {
     "data": {
      "text/plain": [
       "3.1646225226420966e-13"
      ]
     },
     "execution_count": 114,
     "metadata": {},
     "output_type": "execute_result"
    }
   ],
   "source": [
    "np.linalg.norm(finiteDifference(SSEPolynomialBasis,weights3,0.02,designMat,Y))"
   ]
  },
  {
   "cell_type": "code",
   "execution_count": 115,
   "metadata": {
    "collapsed": false
   },
   "outputs": [
    {
     "data": {
      "text/plain": [
       "[2.6645352591003757e-13,\n",
       " 1.1657341758564144e-13,\n",
       " 1.0547118733938987e-13,\n",
       " 6.6613381477509392e-14]"
      ]
     },
     "execution_count": 115,
     "metadata": {},
     "output_type": "execute_result"
    }
   ],
   "source": [
    "finiteDifference(SSEPolynomialBasis,weights3,0.02,designMat,Y)"
   ]
  },
  {
   "cell_type": "code",
   "execution_count": 116,
   "metadata": {
    "collapsed": false
   },
   "outputs": [],
   "source": [
    "NGAnalyticSoln = weights3\n",
    "SP1 =NGAnalyticSoln +  np.random.normal(1,1,len(NGAnalyticSoln))\n",
    "SP2 =NGAnalyticSoln +  np.random.normal(5,1,len(NGAnalyticSoln))\n",
    "SP3 =NGAnalyticSoln +  np.random.normal(10,1,len(NGAnalyticSoln))\n",
    "step = 1/np.linalg.norm(SSEPolynomialBasis(SP1,designMat,Y)[1])\n",
    "\n",
    "SP1output =  batchGradientDiscent(SSEPolynomialBasis,SP1,step,1e-8,20000,designMat,Y)\n",
    "step = 1/np.linalg.norm(SSEPolynomialBasis(SP2,designMat,Y)[1])\n",
    "SP2output =  batchGradientDiscent(SSEPolynomialBasis,SP2,step,1e-8,20000,designMat,Y)\n",
    "step = 1/np.linalg.norm(SSEPolynomialBasis(SP3,designMat,Y)[1])\n",
    "SP3output =  batchGradientDiscent(SSEPolynomialBasis,SP3,step,1e-8,20000,designMat,Y)\n",
    "W1 = ['1','5','10']\n",
    "Iterations0[1]\n",
    "a = SP1output[1]\n",
    "b = SP2output[1]\n",
    "c = SP3output[1]"
   ]
  },
  {
   "cell_type": "code",
   "execution_count": 117,
   "metadata": {
    "collapsed": false
   },
   "outputs": [
    {
     "data": {
      "image/png": "[encoded data removed]",
      "text/plain": [
       "<matplotlib.figure.Figure at 0x105508750>"
      ]
     },
     "metadata": {},
     "output_type": "display_data"
    }
   ],
   "source": [
    "plt.plot(range(len(a)),a,label='1')\n",
    "plt.plot(range(len(b)),b,label='5')\n",
    "plt.plot(range(len(c)),c,label='10')\n",
    "\n",
    "plt.legend(bbox_to_anchor=(1.05, 1), loc=2, borderaxespad=0.,title = \"Mean of the \\n noise\")\n",
    "\n",
    "plt.yscale('log')\n",
    "plt.xlabel('Iterations')\n",
    "plt.ylabel('Gradient of the norm')\n",
    "plt.yscale('log')\n",
    "plt.legend(bbox_to_anchor=(1.05, 1), loc=1, borderaxespad=0.,title = \"Mean of the \\n noise\")\n",
    "plt.title('Behavior of the gradeint of the norm \\n for differnt starting values when M = 3')\n",
    "#plt.show()\n",
    "pl.savefig('../ImageFiles/HW1/BatchGradientDiscent_InitialGuess3.3.pdf')"
   ]
  },
  {
   "cell_type": "code",
   "execution_count": 118,
   "metadata": {
    "collapsed": false
   },
   "outputs": [],
   "source": [
    "NGAnalyticSoln = weights3\n",
    "SP3 =NGAnalyticSoln +  np.random.normal(10,1,len(NGAnalyticSoln))\n",
    "step = 1/np.linalg.norm(SSEPolynomialBasis(SP3,designMat,Y)[1])\n",
    "step1 = step\n",
    "step2 = step*5\n",
    "step3 = step*10\n",
    "step4 = step*15\n",
    "step5 = step*20\n",
    "\n",
    "step1Iter = []\n",
    "step2Iter = []\n",
    "step3Iter = []\n",
    "step4Iter = []\n",
    "#for i in range(10):\n",
    "SP1output =  batchGradientDiscent(SSEPolynomialBasis,SP3,step,1e-8,2000,designMat,Y)\n",
    "SP2output =  batchGradientDiscent(SSEPolynomialBasis,SP3,step2,1e-8,2000,designMat,Y)\n",
    "\n",
    "SP3output =  batchGradientDiscent(SSEPolynomialBasis,SP3,step3,1e-8,2000,designMat,Y)\n",
    "SP4output =  batchGradientDiscent(SSEPolynomialBasis,SP3,step4,1e-8,2000,designMat,Y)\n",
    "    \n",
    "SP5output =  batchGradientDiscent(SSEPolynomialBasis,SP3,step5,1e-8,1000,designMat,Y)\n",
    "\n",
    "a =  SP1output[1]\n",
    "b =  SP2output[1]\n",
    "c =  SP3output[1]\n",
    "d =  SP4output[1]\n",
    "e =  SP5output[1]"
   ]
  },
  {
   "cell_type": "code",
   "execution_count": 119,
   "metadata": {
    "collapsed": false
   },
   "outputs": [
    {
     "data": {
      "image/png": "[encoded data removed]",
      "text/plain": [
       "<matplotlib.figure.Figure at 0x1055fe610>"
      ]
     },
     "metadata": {},
     "output_type": "display_data"
    }
   ],
   "source": [
    "plt.plot(range(len(a)),a,label='1')\n",
    "plt.plot(range(len(b)),b,label='5')\n",
    "plt.plot(range(len(c)),c,label='10')\n",
    "plt.plot(range(len(d)),d,label='15')\n",
    "plt.plot(range(len(e)),e,label='20')\n",
    "\n",
    "plt.legend(bbox_to_anchor=(1.05, 1), loc=2, borderaxespad=0.,title = \"Step factor\")\n",
    "plt.yscale('log')\n",
    "plt.xlabel('Iterations')\n",
    "plt.ylabel('Gradient of the norm')\n",
    "plt.yscale('log')\n",
    "\n",
    "plt.legend(bbox_to_anchor=(1.05, 1), loc=1, borderaxespad=0.,title = \"Mean of the \\n noise\")\n",
    "plt.title('Behavior of the gradeint of the norm \\n for differnt step sizes when M = 3')\n",
    "#plt.show()\n",
    "pl.savefig('../ImageFiles/HW1/BatchGradientDiscent_Stepsize_3.3.pdf')"
   ]
  },
  {
   "cell_type": "code",
   "execution_count": 120,
   "metadata": {
    "collapsed": false
   },
   "outputs": [
    {
     "data": {
      "text/plain": [
       "2000"
      ]
     },
     "execution_count": 120,
     "metadata": {},
     "output_type": "execute_result"
    }
   ],
   "source": [
    "# Converegnce Threshold\n",
    "a = batchGradientDiscent(SSEPolynomialBasis,SP3,step,1e-2,2000,designMat,Y)[3]\n",
    "b = batchGradientDiscent(SSEPolynomialBasis,SP3,step,1e-4,2000,designMat,Y)[3]\n",
    "c  = batchGradientDiscent(SSEPolynomialBasis,SP3,step,1e-6,2000,designMat,Y)[3]\n",
    "d  = batchGradientDiscent(SSEPolynomialBasis,SP3,step,1e-8,2000,designMat,Y)[3]\n",
    "iteration0 = [a,b,c,d]\n",
    "W1 = ['1e-2','1e-4','1e-8','1e-10']\n",
    "c"
   ]
  },
  {
   "cell_type": "code",
   "execution_count": 121,
   "metadata": {
    "collapsed": false
   },
   "outputs": [
    {
     "data": {
      "image/png": "[encoded data removed]",
      "text/plain": [
       "<matplotlib.figure.Figure at 0x1055aded0>"
      ]
     },
     "metadata": {},
     "output_type": "display_data"
    }
   ],
   "source": [
    "plt.plot(range(len(iteration0)),iteration0)\n",
    "\n",
    "plt.xticks(range(len(W1)),W1, size='small')\n",
    "#plt.legend(bbox_to_anchor=(1.05, 1), loc=2, borderaxespad=0.,title = \"Mean of the \\n noise\")\n",
    "plt.xlabel('Threshold')\n",
    "plt.ylabel('Number of iterations')\n",
    "#plt.yscale('log')\n",
    "plt.show()"
   ]
  },
  {
   "cell_type": "code",
   "execution_count": null,
   "metadata": {
    "collapsed": true
   },
   "outputs": [],
   "source": []
  },
  {
   "cell_type": "code",
   "execution_count": 122,
   "metadata": {
    "collapsed": false
   },
   "outputs": [
    {
     "data": {
      "text/plain": [
       "(0.0011636150697689452,\n",
       " array([-0.04220659, -0.07631585, -0.0785371 , -0.07655327, -0.07378075,\n",
       "        -0.07106037, -0.06860579, -0.06645134, -0.06457771, -0.06295159,\n",
       "        -0.0615389 ]))"
      ]
     },
     "execution_count": 122,
     "metadata": {},
     "output_type": "execute_result"
    }
   ],
   "source": [
    "weights10 = LBFRegression(X,Y,10)[0]\n",
    "m = 10\n",
    "designMat = np.zeros((len(X),m+1))\n",
    "for i in range(m+1):\n",
    "    designMat[:,i] = [a**i for a in X]\n",
    "\n",
    "\n",
    "SSEPolynomialBasis(weights10,designMat,Y)"
   ]
  },
  {
   "cell_type": "code",
   "execution_count": null,
   "metadata": {
    "collapsed": true
   },
   "outputs": [],
   "source": []
  },
  {
   "cell_type": "code",
   "execution_count": 123,
   "metadata": {
    "collapsed": true
   },
   "outputs": [],
   "source": [
    "NGAnalyticSoln = weights10\n",
    "SP1 =NGAnalyticSoln +  np.random.normal(1,1,len(NGAnalyticSoln))\n",
    "SP2 =NGAnalyticSoln +  np.random.normal(5,1,len(NGAnalyticSoln))\n",
    "SP3 =NGAnalyticSoln +  np.random.normal(10,1,len(NGAnalyticSoln))\n",
    "step = 1/np.linalg.norm(SSEPolynomialBasis(SP1,designMat,Y)[1])\n",
    "\n",
    "SP1output =  batchGradientDiscent(SSEPolynomialBasis,SP1,step,1e-8,1000,designMat,Y)\n",
    "step = 1/np.linalg.norm(SSEPolynomialBasis(SP2,designMat,Y)[1])\n",
    "SP2output =  batchGradientDiscent(SSEPolynomialBasis,SP2,step,1e-8,1000,designMat,Y)\n",
    "step = 1/np.linalg.norm(SSEPolynomialBasis(SP3,designMat,Y)[1])\n",
    "SP3output =  batchGradientDiscent(SSEPolynomialBasis,SP3,step,1e-8,1000,designMat,Y)\n",
    "W1 = ['1','5','10']\n",
    "Iterations0[1]\n",
    "a = SP1output[1]\n",
    "b = SP2output[1]\n",
    "c = SP3output[1]"
   ]
  },
  {
   "cell_type": "code",
   "execution_count": 124,
   "metadata": {
    "collapsed": false
   },
   "outputs": [
    {
     "data": {
      "image/png": "[encoded data removed]",
      "text/plain": [
       "<matplotlib.figure.Figure at 0x10552a490>"
      ]
     },
     "metadata": {},
     "output_type": "display_data"
    }
   ],
   "source": [
    "plt.plot(range(len(a)),a,label='1')\n",
    "plt.plot(range(len(b)),b,label='5')\n",
    "plt.plot(range(len(c)),c,label='10')\n",
    "\n",
    "plt.legend(bbox_to_anchor=(1.05, 1), loc=2, borderaxespad=0.,title = \"Mean of the \\n noise\")\n",
    "plt.xlabel('Mean for the added noise')\n",
    "plt.ylabel('Number of iterations')\n",
    "plt.yscale('log')\n",
    "plt.show()"
   ]
  },
  {
   "cell_type": "code",
   "execution_count": 125,
   "metadata": {
    "collapsed": false
   },
   "outputs": [],
   "source": [
    "NGAnalyticSoln = weights10\n",
    "SP3 =NGAnalyticSoln +  np.random.normal(10,1,len(NGAnalyticSoln))\n",
    "step = 1/np.linalg.norm(SSEPolynomialBasis(SP3,designMat,Y)[1])\n",
    "step1 = step\n",
    "step2 = step*5\n",
    "step3 = step*10\n",
    "step4 = step*15\n",
    "step5 = step*20\n",
    "\n",
    "step1Iter = []\n",
    "step2Iter = []\n",
    "step3Iter = []\n",
    "step4Iter = []\n",
    "#for i in range(10):\n",
    "SP1output =  batchGradientDiscent(SSEPolynomialBasis,SP3,step,1e-8,1000,designMat,Y)\n",
    "SP2output =  batchGradientDiscent(SSEPolynomialBasis,SP3,step2,1e-8,1000,designMat,Y)\n",
    "\n",
    "SP3output =  batchGradientDiscent(SSEPolynomialBasis,SP3,step3,1e-8,1000,designMat,Y)\n",
    "SP4output =  batchGradientDiscent(SSEPolynomialBasis,SP3,step4,1e-8,1000,designMat,Y)\n",
    "\n",
    "a =  SP1output[1]\n",
    "b =  SP2output[1]\n",
    "c =  SP3output[1]\n",
    "d =  SP4output[1]"
   ]
  },
  {
   "cell_type": "code",
   "execution_count": 126,
   "metadata": {
    "collapsed": false
   },
   "outputs": [
    {
     "data": {
      "image/png": "[encoded data removed]",
      "text/plain": [
       "<matplotlib.figure.Figure at 0x106866a10>"
      ]
     },
     "metadata": {},
     "output_type": "display_data"
    }
   ],
   "source": [
    "plt.plot(range(len(a)),a,label='1')\n",
    "plt.plot(range(len(b)),b,label='5')\n",
    "plt.plot(range(len(c)),c,label='10')\n",
    "plt.plot(range(len(d)),d,label='20')\n",
    "\n",
    "plt.legend(bbox_to_anchor=(1.05, 1), loc=2, borderaxespad=0.,title = \"Mean of the \\n noise\")\n",
    "plt.xlabel('Mean for the added noise')\n",
    "plt.ylabel('Number of iterations')\n",
    "plt.yscale('log')\n",
    "plt.show()"
   ]
  },
  {
   "cell_type": "code",
   "execution_count": 127,
   "metadata": {
    "collapsed": false
   },
   "outputs": [
    {
     "data": {
      "text/plain": [
       "200000"
      ]
     },
     "execution_count": 127,
     "metadata": {},
     "output_type": "execute_result"
    }
   ],
   "source": [
    "# Converegnce Threshold\n",
    "a = batchGradientDiscent(SSEPolynomialBasis,SP3,step,1e-2,30000,designMat,Y)[3]\n",
    "b = batchGradientDiscent(SSEPolynomialBasis,SP3,step,1e-4,30000,designMat,Y)[3]\n",
    "c  = batchGradientDiscent(SSEPolynomialBasis,SP3,step,1e-6,30000,designMat,Y)[3]\n",
    "d  = batchGradientDiscent(SSEPolynomialBasis,SP3,step,1e-8,200000,designMat,Y)[3]\n",
    "iteration0 = [a,b,c,d]\n",
    "W1 = ['1e-2','1e-4','1e-8','1e-10']\n",
    "d\n",
    "#batchGradientDiscent(SSEPolynomialBasis,SP3,step,1e-8,200000,designMat,Y)"
   ]
  },
  {
   "cell_type": "code",
   "execution_count": 128,
   "metadata": {
    "collapsed": false
   },
   "outputs": [
    {
     "data": {
      "image/png": "[encoded data removed]",
      "text/plain": [
       "<matplotlib.figure.Figure at 0x10606c310>"
      ]
     },
     "metadata": {},
     "output_type": "display_data"
    }
   ],
   "source": [
    "plt.plot(range(len(iteration0)),iteration0)\n",
    "\n",
    "plt.xticks(range(len(W1)),W1, size='small')\n",
    "#plt.legend(bbox_to_anchor=(1.05, 1), loc=2, borderaxespad=0.,title = \"Mean of the \\n noise\")\n",
    "plt.xlabel('Threshold')\n",
    "plt.ylabel('Number of iterations')\n",
    "#plt.yscale('log')\n",
    "plt.show()"
   ]
  },
  {
   "cell_type": "code",
   "execution_count": 129,
   "metadata": {
    "collapsed": false
   },
   "outputs": [
    {
     "data": {
      "text/plain": [
       "0.22620768249878792"
      ]
     },
     "execution_count": 129,
     "metadata": {},
     "output_type": "execute_result"
    }
   ],
   "source": [
    "np.linalg.norm(SSEPolynomialBasis(weights10,designMat,Y)[1])"
   ]
  },
  {
   "cell_type": "code",
   "execution_count": 130,
   "metadata": {
    "collapsed": false
   },
   "outputs": [
    {
     "data": {
      "text/plain": [
       "0.22620768254986937"
      ]
     },
     "execution_count": 130,
     "metadata": {},
     "output_type": "execute_result"
    }
   ],
   "source": [
    "np.linalg.norm(finiteDifference(SSEPolynomialBasis,weights10,0.5,designMat,Y))"
   ]
  },
  {
   "cell_type": "code",
   "execution_count": 133,
   "metadata": {
    "collapsed": false
   },
   "outputs": [],
   "source": [
    "NGAnalyticSoln = weights10\n",
    "SP1 =NGAnalyticSoln +  np.random.normal(1,1,len(NGAnalyticSoln))\n",
    "SP2 =NGAnalyticSoln +  np.random.normal(5,1,len(NGAnalyticSoln))\n",
    "SP3 =NGAnalyticSoln +  np.random.normal(10,1,len(NGAnalyticSoln))\n",
    "step = 1/np.linalg.norm(SSEPolynomialBasis(SP1,designMat,Y)[1])\n",
    "\n",
    "SP1output =  batchGradientDiscent(SSEPolynomialBasis,SP1,step,1e-8,1000,designMat,Y)\n",
    "step = 1/np.linalg.norm(SSEPolynomialBasis(SP2,designMat,Y)[1])\n",
    "SP2output =  batchGradientDiscent(SSEPolynomialBasis,SP2,step,1e-8,1000,designMat,Y)\n",
    "step = 1/np.linalg.norm(SSEPolynomialBasis(SP3,designMat,Y)[1])\n",
    "SP3output =  batchGradientDiscent(SSEPolynomialBasis,SP3,step,1e-8,1000,designMat,Y)"
   ]
  },
  {
   "cell_type": "code",
   "execution_count": 136,
   "metadata": {
    "collapsed": false
   },
   "outputs": [
    {
     "name": "stdout",
     "output_type": "stream",
     "text": [
      "26303 30000\n"
     ]
    }
   ],
   "source": [
    "weight3high = weights3+0.2\n",
    "weight3Low = weights3-0.2\n",
    "#a = SSEPolynomialBasis(weight3high,designMat,ytrue)[0]\n",
    "#b = SSEPolynomialBasis(weight3Low,designMat,ytrue)[0]\n",
    "print a,b"
   ]
  },
  {
   "cell_type": "markdown",
   "metadata": {},
   "source": [
    "Numerical derviative for the SSE"
   ]
  },
  {
   "cell_type": "code",
   "execution_count": 137,
   "metadata": {
    "collapsed": false
   },
   "outputs": [
    {
     "data": {
      "text/plain": [
       "0.22620768254986934"
      ]
     },
     "execution_count": 137,
     "metadata": {},
     "output_type": "execute_result"
    }
   ],
   "source": [
    "np.linalg.norm(finiteDifference(SSEPolynomialBasis,weights10,0.5,designMat,Y))"
   ]
  },
  {
   "cell_type": "code",
   "execution_count": null,
   "metadata": {
    "collapsed": false
   },
   "outputs": [],
   "source": []
  },
  {
   "cell_type": "markdown",
   "metadata": {
    "collapsed": false
   },
   "source": [
    "# 2.3 Cosine basis function"
   ]
  },
  {
   "cell_type": "code",
   "execution_count": 139,
   "metadata": {
    "collapsed": false
   },
   "outputs": [],
   "source": [
    "def CosBFRegression(X,y,m):\n",
    "    designMat = np.zeros((len(X),m))\n",
    "    for i in range(1,m+1):\n",
    "        \n",
    "        #print np.cos(i*np.pi*X)\n",
    "        designMat[:,i-1] = np.cos(i*np.pi*X)\n",
    "        \n",
    "        \n",
    "    mle = np.inner(np.dot(np.linalg.inv(np.dot(np.transpose(designMat),designMat)),np.transpose(designMat)),y)\n",
    "    fittedValues = np.dot(designMat,np.transpose(mle))\n",
    "    return(mle)"
   ]
  },
  {
   "cell_type": "code",
   "execution_count": 140,
   "metadata": {
    "collapsed": false
   },
   "outputs": [
    {
     "data": {
      "text/plain": [
       "array([ 2.2748,  1.5728,  0.2885,  0.1237, -0.81  , -1.5123, -0.8655,\n",
       "       -0.8766, -0.6274, -0.4159,  0.8383])"
      ]
     },
     "execution_count": 140,
     "metadata": {},
     "output_type": "execute_result"
    }
   ],
   "source": [
    "Y"
   ]
  },
  {
   "cell_type": "code",
   "execution_count": 141,
   "metadata": {
    "collapsed": false
   },
   "outputs": [],
   "source": [
    "cosBasis1 = np.append(CosBFRegression(X,Y,1),[0]*7)\n",
    "cosBasis2 = np.append(CosBFRegression(X,Y,2),[0]*6)\n",
    "cosBasis3 = np.append(CosBFRegression(X,Y,3),[0]*5)\n",
    "cosBasis4 = np.append(CosBFRegression(X,Y,4),[0]*4)\n",
    "cosBasis5 = np.append(CosBFRegression(X,Y,5),[0]*3)\n",
    "cosBasis6 = np.append(CosBFRegression(X,Y,6),[0]*2)\n",
    "cosBasis7 = np.append(CosBFRegression(X,Y,7),[0]*1)\n",
    "cosBasis8 = np.append(CosBFRegression(X,Y,8),[0]*0)"
   ]
  },
  {
   "cell_type": "code",
   "execution_count": 142,
   "metadata": {
    "collapsed": false
   },
   "outputs": [
    {
     "data": {
      "text/plain": [
       "[1, 2, 3, 4, 5, 6, 7, 8]"
      ]
     },
     "execution_count": 142,
     "metadata": {},
     "output_type": "execute_result"
    }
   ],
   "source": [
    "TrueCosBasis = np.array([1,1.5,0,0,0,0,0,0])\n",
    "def euclideanDistanceTrueCos(Vector):\n",
    "    return np.linalg.norm(TrueCosBasis - Vector)\n",
    "    \n",
    "EuclideanDistance = [euclideanDistanceTrueCos(cosBasis1),euclideanDistanceTrueCos(cosBasis2),euclideanDistanceTrueCos(cosBasis3),euclideanDistanceTrueCos(cosBasis4),\n",
    "                    euclideanDistanceTrueCos(cosBasis5),euclideanDistanceTrueCos(cosBasis6),euclideanDistanceTrueCos(cosBasis7),euclideanDistanceTrueCos(cosBasis8)]\n",
    "EuclideanDistance \n",
    "MVector = range(1,9)\n",
    "MVector"
   ]
  },
  {
   "cell_type": "code",
   "execution_count": 143,
   "metadata": {
    "collapsed": false
   },
   "outputs": [
    {
     "data": {
      "image/png": "[encoded data removed]",
      "text/plain": [
       "<matplotlib.figure.Figure at 0x105f7f850>"
      ]
     },
     "metadata": {},
     "output_type": "display_data"
    }
   ],
   "source": [
    "plt.plot(MVector,EuclideanDistance)\n",
    "\n",
    "plt.xlabel('M')\n",
    "plt.ylabel('Euclidean Norm')\n",
    "plt.title('Euclidean Norm between true wight vectors\\n and estimates for each M')\n",
    "\n",
    "#plt.show()\n",
    "pl.savefig('../ImageFiles/HW1/CosBasisDifference.pdf')"
   ]
  },
  {
   "cell_type": "code",
   "execution_count": 144,
   "metadata": {
    "collapsed": false
   },
   "outputs": [
    {
     "data": {
      "text/plain": [
       "array([ 1.        ,  0.30901699, -0.80901699, -0.80901699,  0.30901699,\n",
       "        1.        ,  0.30901699, -0.80901699, -0.80901699,  0.30901699,  1.        ])"
      ]
     },
     "execution_count": 144,
     "metadata": {},
     "output_type": "execute_result"
    }
   ],
   "source": [
    "np.cos(4*np.pi*X)"
   ]
  },
  {
   "cell_type": "markdown",
   "metadata": {},
   "source": [
    "# Ridge Regression "
   ]
  },
  {
   "cell_type": "code",
   "execution_count": 145,
   "metadata": {
    "collapsed": false
   },
   "outputs": [],
   "source": [
    "# Data for question 3\n",
    "\n",
    "import pdb\n",
    "import random\n",
    "import pylab as pl\n",
    "\n",
    "# X is an array of N data points (one dimensional for now), that is, NX1\n",
    "# Y is a Nx1 column vector of data values\n",
    "\n",
    "def getData(name):\n",
    "    data = pl.loadtxt(name)\n",
    "    # Returns column matrices\n",
    "    X = data[0:1].T\n",
    "    Y = data[1:2].T\n",
    "    return X, Y\n",
    "\n",
    "def regressAData():\n",
    "    return getData('../DataFiles/HW1/regressA_train.txt')\n",
    "\n",
    "def regressBData():\n",
    "    return getData('../DataFiles/HW1/regressB_train.txt')\n",
    "\n",
    "def validateData():\n",
    "    return getData('../DataFiles/HW1/regress_validate.txt')"
   ]
  },
  {
   "cell_type": "code",
   "execution_count": null,
   "metadata": {
    "collapsed": false
   },
   "outputs": [],
   "source": []
  },
  {
   "cell_type": "code",
   "execution_count": 146,
   "metadata": {
    "collapsed": false
   },
   "outputs": [],
   "source": [
    "def ridgeRegression(X,y,lambdaShrink,m):\n",
    "    designMat = np.zeros((len(X),m+1))\n",
    "    for i in range(m+1):\n",
    "        #print([a**i for a in X])\n",
    "        designMat[:,i] = [a**i for a in X]\n",
    "        designMat[:,i] = [j - np.mean(y) for j in designMat[:,i]] # Centering X's\n",
    "        \n",
    "    y = y.ravel() \n",
    "    \n",
    "    yCentered = [j - np.mean(y) for j in y] # Centering y's\n",
    "    \n",
    "    mle = np.inner(np.dot(np.linalg.inv(np.dot(np.transpose(designMat),designMat)+lambdaShrink*np.identity(m+1)),np.transpose(designMat)),yCentered)\n",
    "    fittedValues = np.dot(designMat,np.transpose(mle))\n",
    "    return(mle,fittedValues)\n",
    "    "
   ]
  },
  {
   "cell_type": "markdown",
   "metadata": {},
   "source": [
    "Ridge regression fit for M = 1 for various lamdas"
   ]
  },
  {
   "cell_type": "code",
   "execution_count": 147,
   "metadata": {
    "collapsed": false
   },
   "outputs": [
    {
     "data": {
      "text/plain": [
       "array([ 0.23968251, -0.56587693])"
      ]
     },
     "execution_count": 147,
     "metadata": {},
     "output_type": "execute_result"
    }
   ],
   "source": [
    "RRLambda0_1M1 = ridgeRegression(X,Y,0.1,1)[0]\n",
    "RRLambda0_5M1 = ridgeRegression(X,Y,0.5,1)[0]\n",
    "RRLambda1M1 = ridgeRegression(X,Y,1,1)[0]\n",
    "RRLambda2M1 = ridgeRegression(X,Y,2,1)[0]\n",
    "RRLambda5M1 = ridgeRegression(X,Y,5,1)[0]\n",
    "W1 = ['w0','w1']\n",
    "RRLambda2M1"
   ]
  },
  {
   "cell_type": "code",
   "execution_count": 148,
   "metadata": {
    "collapsed": false
   },
   "outputs": [
    {
     "data": {
      "image/png": "[encoded data removed]",
      "text/plain": [
       "<matplotlib.figure.Figure at 0x10683d150>"
      ]
     },
     "metadata": {},
     "output_type": "display_data"
    }
   ],
   "source": [
    "#plt.bar(range(len(t12)), t12, align='center')\n",
    "#plt.xticks(range(len(t12)), t11, size='small')\n",
    "#plt.show()\n",
    "plt.plot(range(len(RRLambda0_1M1)),RRLambda0_1M1,'o',label='$\\lambda$ = 0.1')\n",
    "plt.plot(range(len(RRLambda0_5M1)),RRLambda0_5M1,'o',label='$\\lambda$ = 0.5')\n",
    "plt.plot(range(len(RRLambda1M1)),RRLambda1M1,'o',label='$\\lambda$ = 1')\n",
    "plt.plot(range(len(RRLambda2M1)),RRLambda2M1,'o',label='$\\lambda$ = 2')\n",
    "plt.plot(range(len(RRLambda5M1)),RRLambda5M1,'o',label='$\\lambda$ = 5')\n",
    "plt.xticks(range(len(W1)),W1, size='small')\n",
    "plt.xlabel(\"weight maganitude\")\n",
    "plt.ylabel(\"weight label\")\n",
    "pl.xlim([-0.5,1.5])\n",
    "plt.title(\"Ridge regression with M = 0 for \\n different $\\lambda$ values\")\n",
    "plt.legend(bbox_to_anchor=(1,1), loc=1, borderaxespad=0.)\n",
    "\n",
    "#plt.show()\n",
    "pl.savefig('../ImageFiles/HW1/RidgeRegression_M=03.1.pdf')"
   ]
  },
  {
   "cell_type": "markdown",
   "metadata": {},
   "source": [
    "Ridge regression fit for M = 3 for various lamdas"
   ]
  },
  {
   "cell_type": "code",
   "execution_count": 149,
   "metadata": {
    "collapsed": false
   },
   "outputs": [
    {
     "data": {
      "text/plain": [
       "array([ 0.23968251, -0.56587693])"
      ]
     },
     "execution_count": 149,
     "metadata": {},
     "output_type": "execute_result"
    }
   ],
   "source": [
    "RRLambda0_1M3 = ridgeRegression(X,Y,0.1,3)[0]\n",
    "RRLambda0_5M3 = ridgeRegression(X,Y,0.5,3)[0]\n",
    "RRLambda1M3 = ridgeRegression(X,Y,1,3)[0]\n",
    "RRLambda2M3 = ridgeRegression(X,Y,2,3)[0]\n",
    "RRLambda5M3 = ridgeRegression(X,Y,5,3)[0]\n",
    "W1 = ['w0','w1','w2','w3']\n",
    "RRLambda2M1"
   ]
  },
  {
   "cell_type": "code",
   "execution_count": 150,
   "metadata": {
    "collapsed": false
   },
   "outputs": [
    {
     "data": {
      "image/png": "[encoded data removed]",
      "text/plain": [
       "<matplotlib.figure.Figure at 0x1055fe090>"
      ]
     },
     "metadata": {},
     "output_type": "display_data"
    }
   ],
   "source": [
    "# Adding label to the plot\n",
    "plt.plot(range(len(RRLambda0_1M3)),RRLambda0_1M3,'o',label='$\\lambda$ = 0.1')\n",
    "plt.plot(range(len(RRLambda0_5M3)),RRLambda0_5M3,'o',label='$\\lambda$ = 0.5')\n",
    "plt.plot(range(len(RRLambda1M3)),RRLambda1M3,'o',label='$\\lambda$ = 1')\n",
    "plt.plot(range(len(RRLambda2M3)),RRLambda2M3,'o',label='$\\lambda$ =2')\n",
    "plt.plot(range(len(RRLambda5M3)),RRLambda5M3,'o',label='$\\lambda$ = 5')\n",
    "plt.xticks(range(len(W1)),W1, size='small')\n",
    "pl.xlim([-0.5,3.5])\n",
    "pl.ylim([-5,3.5])\n",
    "plt.legend(bbox_to_anchor=(1, 0.5), loc=1, borderaxespad=0.)\n",
    "plt.title(\"Ridge regression with M = 3 for \\n different $\\lambda$ values\")\n",
    "pl.savefig('../ImageFiles/HW1/RidgeRegression_M=3_3.1.pdf')"
   ]
  },
  {
   "cell_type": "markdown",
   "metadata": {},
   "source": [
    "Ridge regression fit for M = 5 for various lamdas"
   ]
  },
  {
   "cell_type": "code",
   "execution_count": 151,
   "metadata": {
    "collapsed": false
   },
   "outputs": [
    {
     "data": {
      "text/plain": [
       "array([ 0.23968251, -0.56587693])"
      ]
     },
     "execution_count": 151,
     "metadata": {},
     "output_type": "execute_result"
    }
   ],
   "source": [
    "RRLambda0_1M5 = ridgeRegression(X,Y,0.1,5)[0]\n",
    "RRLambda0_5M5 = ridgeRegression(X,Y,0.5,5)[0]\n",
    "RRLambda1M5 = ridgeRegression(X,Y,1,5)[0]\n",
    "RRLambda2M5 = ridgeRegression(X,Y,2,5)[0]\n",
    "RRLambda5M5 = ridgeRegression(X,Y,5,5)[0]\n",
    "W1 = ['w0','w1','w2','w3','w4','w5']\n",
    "RRLambda2M1"
   ]
  },
  {
   "cell_type": "code",
   "execution_count": 152,
   "metadata": {
    "collapsed": false
   },
   "outputs": [
    {
     "data": {
      "image/png": "[encoded data removed]",
      "text/plain": [
       "<matplotlib.figure.Figure at 0x10574e550>"
      ]
     },
     "metadata": {},
     "output_type": "display_data"
    }
   ],
   "source": [
    "# Adding label to the plot\n",
    "plt.plot(range(len(RRLambda0_1M5)),RRLambda0_1M5,'o',label='$\\lambda$ = 0.1')\n",
    "plt.plot(range(len(RRLambda0_5M5)),RRLambda0_5M5,'o',label='$\\lambda$ = 0.5')\n",
    "plt.plot(range(len(RRLambda1M5)),RRLambda1M5,'o',label='$\\lambda$ = 1')\n",
    "plt.plot(range(len(RRLambda2M5)),RRLambda2M5,'o',label='$\\lambda$ =2')\n",
    "plt.plot(range(len(RRLambda5M5)),RRLambda5M5,'o',label='$\\lambda$ = 5')\n",
    "pl.xlim([-0.5,5.5])\n",
    "pl.ylim([-5,3.5])\n",
    "plt.xticks(range(len(W1)),W1, size='small')\n",
    "plt.legend(bbox_to_anchor=(1, 0.5), loc=1, borderaxespad=0.)\n",
    "plt.title(\"Ridge regression with M = 5 for \\n different $\\lambda$ values\")\n",
    "pl.savefig('../ImageFiles/HW1/RidgeRegression_M=5_3.1.pdf')"
   ]
  },
  {
   "cell_type": "markdown",
   "metadata": {},
   "source": [
    "Ridge regression fit for M = 10 for various lamdas"
   ]
  },
  {
   "cell_type": "code",
   "execution_count": 153,
   "metadata": {
    "collapsed": false
   },
   "outputs": [
    {
     "data": {
      "text/plain": [
       "array([ 0.23968251, -0.56587693])"
      ]
     },
     "execution_count": 153,
     "metadata": {},
     "output_type": "execute_result"
    }
   ],
   "source": [
    "RRLambda0_1M10 = ridgeRegression(X,Y,0.1,10)[0]\n",
    "RRLambda0_5M10 = ridgeRegression(X,Y,0.5,10)[0]\n",
    "RRLambda1M10 = ridgeRegression(X,Y,1,10)[0]\n",
    "RRLambda2M10 = ridgeRegression(X,Y,2,10)[0]\n",
    "RRLambda5M10 = ridgeRegression(X,Y,5,10)[0]\n",
    "W1 = ['w0','w1','w2','w3','w4','w5','w6','w7','w8','w9','w10']\n",
    "RRLambda2M1"
   ]
  },
  {
   "cell_type": "code",
   "execution_count": 154,
   "metadata": {
    "collapsed": false
   },
   "outputs": [
    {
     "data": {
      "image/png": "[encoded data removed]",
      "text/plain": [
       "<matplotlib.figure.Figure at 0x105702950>"
      ]
     },
     "metadata": {},
     "output_type": "display_data"
    }
   ],
   "source": [
    "# Adding label to the plot\n",
    "plt.plot(range(len(RRLambda0_1M10)),RRLambda0_1M10,'o',label='$\\lambda$ = 0.1')\n",
    "plt.plot(range(len(RRLambda0_5M10)),RRLambda0_5M10,'o',label='$\\lambda$ = 0.5')\n",
    "plt.plot(range(len(RRLambda1M10)),RRLambda1M10,'o',label='$\\lambda$ = 1')\n",
    "plt.plot(range(len(RRLambda2M10)),RRLambda2M10,'o',label='$\\lambda$ =2')\n",
    "plt.plot(range(len(RRLambda5M10)),RRLambda5M10,'o',label='$\\lambda$ = 5')\n",
    "pl.xlim([-0.5,10.5])\n",
    "pl.ylim([-5,3.5])\n",
    "plt.xticks(range(len(W1)),W1, size='small')\n",
    "plt.legend(bbox_to_anchor=(1, 0.5), loc=1, borderaxespad=0.)\n",
    "plt.title(\"Ridge regression with M = 10 for \\n different $\\lambda$ values\")\n",
    "pl.savefig('../ImageFiles/HW1/RidgeRegression_M=10_3.1.pdf')"
   ]
  },
  {
   "cell_type": "code",
   "execution_count": null,
   "metadata": {
    "collapsed": true
   },
   "outputs": [],
   "source": []
  },
  {
   "cell_type": "markdown",
   "metadata": {},
   "source": [
    "Test 1 (Trained from dataset A and testes in dataset B)"
   ]
  },
  {
   "cell_type": "code",
   "execution_count": 155,
   "metadata": {
    "collapsed": false
   },
   "outputs": [],
   "source": [
    "Train1_X = regressAData()[0]\n",
    "Train1_Y = regressAData()[1]\n",
    "Test1_X = regressBData()[0]\n",
    "Test1_Y = regressBData()[1]\n",
    "valid1_X =validateData()[0]\n",
    "valid1_Y = validateData()[1]"
   ]
  },
  {
   "cell_type": "code",
   "execution_count": null,
   "metadata": {
    "collapsed": false
   },
   "outputs": [],
   "source": []
  },
  {
   "cell_type": "code",
   "execution_count": null,
   "metadata": {
    "collapsed": false
   },
   "outputs": [],
   "source": []
  },
  {
   "cell_type": "code",
   "execution_count": 156,
   "metadata": {
    "collapsed": false
   },
   "outputs": [],
   "source": [
    "def LBFRidgeRegression(theta,X,y,lambda_shrinkage):\n",
    "    params = len(theta)\n",
    "    #print (m)\n",
    "    designMat = np.zeros((len(X),params))\n",
    "    for i in range(params):\n",
    "        #print([a**i for a in X])\n",
    "        designMat[:,i] = [a**i for a in X]\n",
    "        #designMatTemp[:,i] = [a**i for a in X]\n",
    "        designMat[:,i] = [j - np.mean(y) for j in designMat[:,i]] # Centering X's\n",
    "    \n",
    "    y = y.ravel() \n",
    "    yCentered = [j - np.mean(y) for j in y]  # Centering y's\n",
    "    \n",
    "    \n",
    "    fittedValues = np.dot(designMat,np.transpose(theta))\n",
    "    fittedDifference = [a - b for a, b in zip(fittedValues,yCentered)]\n",
    "    RSS = sum(a**2 for a in fittedDifference)+lambda_shrinkage*np.dot(theta,np.transpose(theta))\n",
    "    return(fittedValues,RSS)"
   ]
  },
  {
   "cell_type": "code",
   "execution_count": 157,
   "metadata": {
    "collapsed": false
   },
   "outputs": [],
   "source": [
    "# Lambdas to be tested are 0.1,0.5,1,2,3,5 and the M's are 1,3,5,10\n",
    "ridgeParam = ridgeRegression(valid1_X,valid1_Y,0.6,1)[0]\n",
    "\n",
    "#ridgeParam"
   ]
  },
  {
   "cell_type": "code",
   "execution_count": 158,
   "metadata": {
    "collapsed": false
   },
   "outputs": [
    {
     "data": {
      "text/plain": [
       "14.386760182846109"
      ]
     },
     "execution_count": 158,
     "metadata": {},
     "output_type": "execute_result"
    }
   ],
   "source": [
    "LBFRidgeRegression(ridgeParam,valid1_X,valid1_Y,1)[1]"
   ]
  },
  {
   "cell_type": "code",
   "execution_count": null,
   "metadata": {
    "collapsed": true
   },
   "outputs": [],
   "source": []
  },
  {
   "cell_type": "code",
   "execution_count": null,
   "metadata": {
    "collapsed": true
   },
   "outputs": [],
   "source": []
  },
  {
   "cell_type": "code",
   "execution_count": null,
   "metadata": {
    "collapsed": true
   },
   "outputs": [],
   "source": []
  },
  {
   "cell_type": "markdown",
   "metadata": {
    "collapsed": true
   },
   "source": [
    "M =  1"
   ]
  },
  {
   "cell_type": "code",
   "execution_count": 159,
   "metadata": {
    "collapsed": true
   },
   "outputs": [],
   "source": [
    "ridgeParamLambda0_1M1 = ridgeRegression(Train1_X,Train1_Y,0.1,1)[0]\n",
    "ridgeParamLambda0_5M1 = ridgeRegression(Train1_X,Train1_Y,0.5,1)[0]\n",
    "ridgeParamLambda1M1 = ridgeRegression(Train1_X,Train1_Y,1,1)[0]\n",
    "ridgeParamLambda2M1 = ridgeRegression(Train1_X,Train1_Y,2,1)[0]\n",
    "ridgeParamLambda5M1 = ridgeRegression(Train1_X,Train1_Y,5,1)[0]"
   ]
  },
  {
   "cell_type": "code",
   "execution_count": 160,
   "metadata": {
    "collapsed": false
   },
   "outputs": [],
   "source": [
    "errorLambda0_1M1 = LBFRidgeRegression(ridgeParamLambda0_1M1,valid1_X ,valid1_Y,0.1)[1]\n",
    "errorLambda0_5M1 = LBFRidgeRegression(ridgeParamLambda0_5M1,valid1_X ,valid1_Y,0.5)[1]\n",
    "errorLambda1M1 = LBFRidgeRegression(ridgeParamLambda1M1,valid1_X ,valid1_Y,1)[1]\n",
    "errorLambda2M1 = LBFRidgeRegression(ridgeParamLambda2M1,valid1_X ,valid1_Y,2)[1]\n",
    "errorLambda5M1 = LBFRidgeRegression(ridgeParamLambda5M1,valid1_X ,valid1_Y,5)[1]\n"
   ]
  },
  {
   "cell_type": "code",
   "execution_count": 161,
   "metadata": {
    "collapsed": true
   },
   "outputs": [],
   "source": [
    "errorLambda0_1M1_Test = LBFRidgeRegression(ridgeParamLambda0_1M1,Test1_X ,Test1_Y,0.1)[1]\n",
    "errorLambda0_5M1_Test = LBFRidgeRegression(ridgeParamLambda0_5M1,Test1_X ,Test1_Y,0.5)[1]\n",
    "errorLambda1M1_Test = LBFRidgeRegression(ridgeParamLambda1M1,Test1_X ,Test1_Y,1)[1]\n",
    "errorLambda2M1_Test = LBFRidgeRegression(ridgeParamLambda2M1,Test1_X ,Test1_Y,2)[1]\n",
    "errorLambda5M1_Test = LBFRidgeRegression(ridgeParamLambda5M1,Test1_X ,Test1_Y,5)[1]"
   ]
  },
  {
   "cell_type": "markdown",
   "metadata": {},
   "source": [
    "M = 3"
   ]
  },
  {
   "cell_type": "code",
   "execution_count": 162,
   "metadata": {
    "collapsed": true
   },
   "outputs": [],
   "source": [
    "ridgeParamLambda0_1M3 = ridgeRegression(Train1_X,Train1_Y,0.1,3)[0]\n",
    "ridgeParamLambda0_5M3 = ridgeRegression(Train1_X,Train1_Y,0.5,3)[0]\n",
    "ridgeParamLambda1M3 = ridgeRegression(Train1_X,Train1_Y,1,3)[0]\n",
    "ridgeParamLambda2M3 = ridgeRegression(Train1_X,Train1_Y,2,3)[0]\n",
    "ridgeParamLambda5M3 = ridgeRegression(Train1_X,Train1_Y,5,3)[0]"
   ]
  },
  {
   "cell_type": "code",
   "execution_count": 163,
   "metadata": {
    "collapsed": true
   },
   "outputs": [],
   "source": [
    "errorLambda0_1M3 = LBFRidgeRegression(ridgeParamLambda0_1M3,valid1_X ,valid1_Y,0.1)[1]\n",
    "errorLambda0_5M3 = LBFRidgeRegression(ridgeParamLambda0_5M3,valid1_X ,valid1_Y,0.5)[1]\n",
    "errorLambda1M3 = LBFRidgeRegression(ridgeParamLambda1M3,valid1_X ,valid1_Y,1)[1]\n",
    "errorLambda2M3 = LBFRidgeRegression(ridgeParamLambda2M3,valid1_X ,valid1_Y,2)[1]\n",
    "errorLambda5M3 = LBFRidgeRegression(ridgeParamLambda5M3,valid1_X ,valid1_Y,5)[1]"
   ]
  },
  {
   "cell_type": "code",
   "execution_count": 164,
   "metadata": {
    "collapsed": true
   },
   "outputs": [],
   "source": [
    "errorLambda0_1M3_Test = LBFRidgeRegression(ridgeParamLambda0_1M3,Test1_X ,Test1_Y,0.1)[1]\n",
    "errorLambda0_5M3_Test = LBFRidgeRegression(ridgeParamLambda0_5M3,Test1_X ,Test1_Y,0.5)[1]\n",
    "errorLambda1M3_Test = LBFRidgeRegression(ridgeParamLambda1M3,Test1_X ,Test1_Y,1)[1]\n",
    "errorLambda2M3_Test = LBFRidgeRegression(ridgeParamLambda2M3,Test1_X ,Test1_Y,2)[1]\n",
    "errorLambda5M3_Test = LBFRidgeRegression(ridgeParamLambda5M3,Test1_X ,Test1_Y,5)[1]"
   ]
  },
  {
   "cell_type": "markdown",
   "metadata": {},
   "source": [
    "M = 5"
   ]
  },
  {
   "cell_type": "code",
   "execution_count": 165,
   "metadata": {
    "collapsed": true
   },
   "outputs": [],
   "source": [
    "ridgeParamLambda0_1M5 = ridgeRegression(Train1_X,Train1_Y,0.1,5)[0]\n",
    "ridgeParamLambda0_5M5 = ridgeRegression(Train1_X,Train1_Y,0.5,5)[0]\n",
    "ridgeParamLambda1M5 = ridgeRegression(Train1_X,Train1_Y,1,5)[0]\n",
    "ridgeParamLambda2M5 = ridgeRegression(Train1_X,Train1_Y,2,5)[0]\n",
    "ridgeParamLambda5M5 = ridgeRegression(Train1_X,Train1_Y,5,5)[0]"
   ]
  },
  {
   "cell_type": "code",
   "execution_count": 166,
   "metadata": {
    "collapsed": true
   },
   "outputs": [],
   "source": [
    "errorLambda0_1M5 = LBFRidgeRegression(ridgeParamLambda0_1M5,valid1_X ,valid1_Y,0.1)[1]\n",
    "errorLambda0_5M5 = LBFRidgeRegression(ridgeParamLambda0_5M5,valid1_X ,valid1_Y,0.5)[1]\n",
    "errorLambda1M5 = LBFRidgeRegression(ridgeParamLambda1M5,valid1_X ,valid1_Y,1)[1]\n",
    "errorLambda2M5 = LBFRidgeRegression(ridgeParamLambda2M5,valid1_X ,valid1_Y,2)[1]\n",
    "errorLambda5M5 = LBFRidgeRegression(ridgeParamLambda5M5,valid1_X ,valid1_Y,5)[1]"
   ]
  },
  {
   "cell_type": "code",
   "execution_count": 167,
   "metadata": {
    "collapsed": true
   },
   "outputs": [],
   "source": [
    "errorLambda0_1M5_Test = LBFRidgeRegression(ridgeParamLambda0_1M5,Test1_X ,Test1_Y,0.1)[1]\n",
    "errorLambda0_5M5_Test = LBFRidgeRegression(ridgeParamLambda0_5M5,Test1_X ,Test1_Y,0.5)[1]\n",
    "errorLambda1M5_Test = LBFRidgeRegression(ridgeParamLambda1M5,Test1_X ,Test1_Y,1)[1]\n",
    "errorLambda2M5_Test = LBFRidgeRegression(ridgeParamLambda2M5,Test1_X ,Test1_Y,2)[1]\n",
    "errorLambda5M5_Test = LBFRidgeRegression(ridgeParamLambda5M5,Test1_X ,Test1_Y,5)[1]"
   ]
  },
  {
   "cell_type": "markdown",
   "metadata": {},
   "source": [
    "M = 10"
   ]
  },
  {
   "cell_type": "code",
   "execution_count": 168,
   "metadata": {
    "collapsed": true
   },
   "outputs": [],
   "source": [
    "ridgeParamLambda0_1M10 = ridgeRegression(Train1_X,Train1_Y,0.1,10)[0]\n",
    "ridgeParamLambda0_5M10 = ridgeRegression(Train1_X,Train1_Y,0.5,10)[0]\n",
    "ridgeParamLambda1M10 = ridgeRegression(Train1_X,Train1_Y,1,10)[0]\n",
    "ridgeParamLambda2M10 = ridgeRegression(Train1_X,Train1_Y,2,10)[0]\n",
    "ridgeParamLambda5M10 = ridgeRegression(Train1_X,Train1_Y,5,10)[0]"
   ]
  },
  {
   "cell_type": "code",
   "execution_count": 169,
   "metadata": {
    "collapsed": true
   },
   "outputs": [],
   "source": [
    "errorLambda0_1M10 = LBFRidgeRegression(ridgeParamLambda0_1M10,valid1_X ,valid1_Y,0.1)[1]\n",
    "errorLambda0_5M10 = LBFRidgeRegression(ridgeParamLambda0_5M10,valid1_X ,valid1_Y,0.5)[1]\n",
    "errorLambda1M10 = LBFRidgeRegression(ridgeParamLambda1M10,valid1_X ,valid1_Y,1)[1]\n",
    "errorLambda2M10 = LBFRidgeRegression(ridgeParamLambda2M10,valid1_X ,valid1_Y,2)[1]\n",
    "errorLambda5M10 = LBFRidgeRegression(ridgeParamLambda5M10,valid1_X ,valid1_Y,5)[1]"
   ]
  },
  {
   "cell_type": "code",
   "execution_count": 170,
   "metadata": {
    "collapsed": true
   },
   "outputs": [],
   "source": [
    "errorLambda0_1M10_Test = LBFRidgeRegression(ridgeParamLambda0_1M10,Test1_X ,Test1_Y,0.1)[1]\n",
    "errorLambda0_5M10_Test = LBFRidgeRegression(ridgeParamLambda0_5M10,Test1_X ,Test1_Y,0.5)[1]\n",
    "errorLambda1M10_Test = LBFRidgeRegression(ridgeParamLambda1M10,Test1_X ,Test1_Y,1)[1]\n",
    "errorLambda2M10_Test = LBFRidgeRegression(ridgeParamLambda2M10,Test1_X ,Test1_Y,2)[1]\n",
    "errorLambda5M10_Test = LBFRidgeRegression(ridgeParamLambda5M10,Test1_X ,Test1_Y,5)[1]"
   ]
  },
  {
   "cell_type": "code",
   "execution_count": 171,
   "metadata": {
    "collapsed": true
   },
   "outputs": [],
   "source": [
    "errorM1 = [errorLambda0_1M1,errorLambda0_5M1,errorLambda1M1,errorLambda2M1,errorLambda5M1]\n",
    "errorM3 = [errorLambda0_1M3,errorLambda0_5M3,errorLambda1M3,errorLambda2M3,errorLambda5M3]\n",
    "errorM5 = [errorLambda0_1M5,errorLambda0_5M5,errorLambda1M5,errorLambda2M5,errorLambda5M5]\n",
    "errorM10 = [errorLambda0_1M10,errorLambda0_5M10,errorLambda1M10,errorLambda2M10,errorLambda5M10]\n",
    "W1 = ['0.1','0.5','1','2','5']\n",
    "\n",
    "errorM1_Test = [errorLambda0_1M1_Test,errorLambda0_5M1_Test,errorLambda1M1_Test,errorLambda2M1_Test,errorLambda5M1_Test]\n",
    "errorM3_Test = [errorLambda0_1M3_Test,errorLambda0_5M3_Test,errorLambda1M3_Test,errorLambda2M3_Test,errorLambda5M3_Test]\n",
    "errorM5_Test = [errorLambda0_1M5_Test,errorLambda0_5M5_Test,errorLambda1M5_Test,errorLambda2M5_Test,errorLambda5M5_Test]\n",
    "errorM10_Test = [errorLambda0_1M10_Test,errorLambda0_5M10_Test,errorLambda1M10_Test,errorLambda2M10_Test,errorLambda5M10_Test]"
   ]
  },
  {
   "cell_type": "code",
   "execution_count": 172,
   "metadata": {
    "collapsed": false
   },
   "outputs": [
    {
     "data": {
      "image/png": "[encoded data removed]",
      "text/plain": [
       "<matplotlib.figure.Figure at 0x105702310>"
      ]
     },
     "metadata": {},
     "output_type": "display_data"
    }
   ],
   "source": [
    "# Adding label to the plot\n",
    "plt.plot(range(len(errorM1)),errorM1,label='M = 1')\n",
    "plt.plot(range(len(errorM3)),errorM3,label='M = 3')\n",
    "plt.plot(range(len(errorM5)),errorM5,label='M = 5')\n",
    "plt.plot(range(len(errorM10)),errorM10,label='M = 10')\n",
    "plt.xlabel('$\\lambda$')\n",
    "plt.ylabel('RSS')\n",
    "plt.title('RSS for various $\\lambda$ values \\n under different polynomical basis \\n (Validation set)')\n",
    "plt.xticks(range(len(W1)),W1, size='small')\n",
    "plt.legend(bbox_to_anchor=(0.27, 1), loc=1, borderaxespad=0.)\n",
    "plt.tight_layout()\n",
    "pl.savefig('../ImageFiles/HW1/RSSValidationRR3.2_Train_A.pdf')\n",
    "plt.show()"
   ]
  },
  {
   "cell_type": "code",
   "execution_count": 173,
   "metadata": {
    "collapsed": false
   },
   "outputs": [
    {
     "data": {
      "image/png": "[encoded data removed]",
      "text/plain": [
       "<matplotlib.figure.Figure at 0x105722210>"
      ]
     },
     "metadata": {},
     "output_type": "display_data"
    }
   ],
   "source": [
    "# Adding label to the plot\n",
    "plt.plot(range(len(errorM1_Test)),errorM1_Test,label='M = 1')\n",
    "plt.plot(range(len(errorM3_Test)),errorM3_Test,label='M = 3')\n",
    "plt.plot(range(len(errorM5_Test)),errorM5_Test,label='M = 5')\n",
    "plt.plot(range(len(errorM10_Test)),errorM10_Test,label='M = 10')\n",
    "plt.xlabel('$\\lambda$')\n",
    "plt.ylabel('RSS')\n",
    "plt.title('RSS for various $\\lambda$ values \\n under different polynomical basis \\n (Test set)')\n",
    "plt.xticks(range(len(W1)),W1, size='small')\n",
    "plt.legend(bbox_to_anchor=(1, 1), loc=1, borderaxespad=0.)\n",
    "plt.tight_layout()\n",
    "pl.savefig('../ImageFiles/HW1/RSSTestRR3.2_Train_A.pdf')\n",
    "plt.show()"
   ]
  },
  {
   "cell_type": "code",
   "execution_count": 174,
   "metadata": {
    "collapsed": true
   },
   "outputs": [],
   "source": [
    "# Testing Using the Model with M = 5 and lambda = 0.5 since it gave the smallets validation error"
   ]
  },
  {
   "cell_type": "code",
   "execution_count": 175,
   "metadata": {
    "collapsed": false
   },
   "outputs": [
    {
     "data": {
      "text/plain": [
       "(array([-0.25867841, -0.78264404, -1.46837459,  2.39259046,  0.04465407,\n",
       "        -0.41279016]),\n",
       " array([ 0.1904636 ,  0.62048198,  0.89327017, -2.07510977,  0.01224547,\n",
       "         0.87423978, -2.45998271,  1.50936929,  0.12020269,  0.27225587]))"
      ]
     },
     "execution_count": 175,
     "metadata": {},
     "output_type": "execute_result"
    }
   ],
   "source": [
    "ridgeRegression(Test1_X,Test1_Y,0.1,5)"
   ]
  },
  {
   "cell_type": "markdown",
   "metadata": {},
   "source": [
    "# Test 2"
   ]
  },
  {
   "cell_type": "code",
   "execution_count": 176,
   "metadata": {
    "collapsed": false
   },
   "outputs": [],
   "source": [
    "Train1_X = regressBData()[0]\n",
    "Train1_Y = regressBData()[1]\n",
    "Test1_X = regressAData()[0]\n",
    "Test1_Y = regressAData()[1]"
   ]
  },
  {
   "cell_type": "markdown",
   "metadata": {
    "collapsed": true
   },
   "source": [
    "M =  1"
   ]
  },
  {
   "cell_type": "code",
   "execution_count": 177,
   "metadata": {
    "collapsed": true
   },
   "outputs": [],
   "source": [
    "ridgeParamLambda0_1M1 = ridgeRegression(Train1_X,Train1_Y,0.1,1)[0]\n",
    "ridgeParamLambda0_5M1 = ridgeRegression(Train1_X,Train1_Y,0.5,1)[0]\n",
    "ridgeParamLambda1M1 = ridgeRegression(Train1_X,Train1_Y,1,1)[0]\n",
    "ridgeParamLambda2M1 = ridgeRegression(Train1_X,Train1_Y,2,1)[0]\n",
    "ridgeParamLambda5M1 = ridgeRegression(Train1_X,Train1_Y,5,1)[0]"
   ]
  },
  {
   "cell_type": "code",
   "execution_count": 178,
   "metadata": {
    "collapsed": true
   },
   "outputs": [],
   "source": [
    "errorLambda0_1M1 = LBFRidgeRegression(ridgeParamLambda0_1M1,valid1_X ,valid1_Y,0.1)[1]\n",
    "errorLambda0_5M1 = LBFRidgeRegression(ridgeParamLambda0_5M1,valid1_X ,valid1_Y,0.5)[1]\n",
    "errorLambda1M1 = LBFRidgeRegression(ridgeParamLambda1M1,valid1_X ,valid1_Y,1)[1]\n",
    "errorLambda2M1 = LBFRidgeRegression(ridgeParamLambda2M1,valid1_X ,valid1_Y,2)[1]\n",
    "errorLambda5M1 = LBFRidgeRegression(ridgeParamLambda5M1,valid1_X ,valid1_Y,5)[1]\n"
   ]
  },
  {
   "cell_type": "code",
   "execution_count": 179,
   "metadata": {
    "collapsed": true
   },
   "outputs": [],
   "source": [
    "errorLambda0_1M1_Test = LBFRidgeRegression(ridgeParamLambda0_1M1,Test1_X ,Test1_Y,0.1)[1]\n",
    "errorLambda0_5M1_Test = LBFRidgeRegression(ridgeParamLambda0_5M1,Test1_X ,Test1_Y,0.5)[1]\n",
    "errorLambda1M1_Test = LBFRidgeRegression(ridgeParamLambda1M1,Test1_X ,Test1_Y,1)[1]\n",
    "errorLambda2M1_Test = LBFRidgeRegression(ridgeParamLambda2M1,Test1_X ,Test1_Y,2)[1]\n",
    "errorLambda5M1_Test = LBFRidgeRegression(ridgeParamLambda5M1,Test1_X ,Test1_Y,5)[1]"
   ]
  },
  {
   "cell_type": "markdown",
   "metadata": {},
   "source": [
    "M = 3"
   ]
  },
  {
   "cell_type": "code",
   "execution_count": 180,
   "metadata": {
    "collapsed": true
   },
   "outputs": [],
   "source": [
    "ridgeParamLambda0_1M3 = ridgeRegression(Train1_X,Train1_Y,0.1,3)[0]\n",
    "ridgeParamLambda0_5M3 = ridgeRegression(Train1_X,Train1_Y,0.5,3)[0]\n",
    "ridgeParamLambda1M3 = ridgeRegression(Train1_X,Train1_Y,1,3)[0]\n",
    "ridgeParamLambda2M3 = ridgeRegression(Train1_X,Train1_Y,2,3)[0]\n",
    "ridgeParamLambda5M3 = ridgeRegression(Train1_X,Train1_Y,5,3)[0]"
   ]
  },
  {
   "cell_type": "code",
   "execution_count": 181,
   "metadata": {
    "collapsed": true
   },
   "outputs": [],
   "source": [
    "errorLambda0_1M3 = LBFRidgeRegression(ridgeParamLambda0_1M3,valid1_X ,valid1_Y,0.1)[1]\n",
    "errorLambda0_5M3 = LBFRidgeRegression(ridgeParamLambda0_5M3,valid1_X ,valid1_Y,0.5)[1]\n",
    "errorLambda1M3 = LBFRidgeRegression(ridgeParamLambda1M3,valid1_X ,valid1_Y,1)[1]\n",
    "errorLambda2M3 = LBFRidgeRegression(ridgeParamLambda2M3,valid1_X ,valid1_Y,2)[1]\n",
    "errorLambda5M3 = LBFRidgeRegression(ridgeParamLambda5M3,valid1_X ,valid1_Y,5)[1]"
   ]
  },
  {
   "cell_type": "code",
   "execution_count": 182,
   "metadata": {
    "collapsed": true
   },
   "outputs": [],
   "source": [
    "errorLambda0_1M3_Test = LBFRidgeRegression(ridgeParamLambda0_1M3,Test1_X ,Test1_Y,0.1)[1]\n",
    "errorLambda0_5M3_Test = LBFRidgeRegression(ridgeParamLambda0_5M3,Test1_X ,Test1_Y,0.5)[1]\n",
    "errorLambda1M3_Test = LBFRidgeRegression(ridgeParamLambda1M3,Test1_X ,Test1_Y,1)[1]\n",
    "errorLambda2M3_Test = LBFRidgeRegression(ridgeParamLambda2M3,Test1_X ,Test1_Y,2)[1]\n",
    "errorLambda5M3_Test = LBFRidgeRegression(ridgeParamLambda5M3,Test1_X ,Test1_Y,5)[1]"
   ]
  },
  {
   "cell_type": "markdown",
   "metadata": {},
   "source": [
    "M = 5"
   ]
  },
  {
   "cell_type": "code",
   "execution_count": 183,
   "metadata": {
    "collapsed": true
   },
   "outputs": [],
   "source": [
    "ridgeParamLambda0_1M5 = ridgeRegression(Train1_X,Train1_Y,0.1,5)[0]\n",
    "ridgeParamLambda0_5M5 = ridgeRegression(Train1_X,Train1_Y,0.5,5)[0]\n",
    "ridgeParamLambda1M5 = ridgeRegression(Train1_X,Train1_Y,1,5)[0]\n",
    "ridgeParamLambda2M5 = ridgeRegression(Train1_X,Train1_Y,2,5)[0]\n",
    "ridgeParamLambda5M5 = ridgeRegression(Train1_X,Train1_Y,5,5)[0]"
   ]
  },
  {
   "cell_type": "code",
   "execution_count": 184,
   "metadata": {
    "collapsed": true
   },
   "outputs": [],
   "source": [
    "errorLambda0_1M5 = LBFRidgeRegression(ridgeParamLambda0_1M5,valid1_X ,valid1_Y,0.1)[1]\n",
    "errorLambda0_5M5 = LBFRidgeRegression(ridgeParamLambda0_5M5,valid1_X ,valid1_Y,0.5)[1]\n",
    "errorLambda1M5 = LBFRidgeRegression(ridgeParamLambda1M5,valid1_X ,valid1_Y,1)[1]\n",
    "errorLambda2M5 = LBFRidgeRegression(ridgeParamLambda2M5,valid1_X ,valid1_Y,2)[1]\n",
    "errorLambda5M5 = LBFRidgeRegression(ridgeParamLambda5M5,valid1_X ,valid1_Y,5)[1]"
   ]
  },
  {
   "cell_type": "code",
   "execution_count": 185,
   "metadata": {
    "collapsed": true
   },
   "outputs": [],
   "source": [
    "errorLambda0_1M5_Test = LBFRidgeRegression(ridgeParamLambda0_1M5,Test1_X ,Test1_Y,0.1)[1]\n",
    "errorLambda0_5M5_Test = LBFRidgeRegression(ridgeParamLambda0_5M5,Test1_X ,Test1_Y,0.5)[1]\n",
    "errorLambda1M5_Test = LBFRidgeRegression(ridgeParamLambda1M5,Test1_X ,Test1_Y,1)[1]\n",
    "errorLambda2M5_Test = LBFRidgeRegression(ridgeParamLambda2M5,Test1_X ,Test1_Y,2)[1]\n",
    "errorLambda5M5_Test = LBFRidgeRegression(ridgeParamLambda5M5,Test1_X ,Test1_Y,5)[1]"
   ]
  },
  {
   "cell_type": "markdown",
   "metadata": {},
   "source": [
    "M = 10"
   ]
  },
  {
   "cell_type": "code",
   "execution_count": 186,
   "metadata": {
    "collapsed": true
   },
   "outputs": [],
   "source": [
    "ridgeParamLambda0_1M10 = ridgeRegression(Train1_X,Train1_Y,0.1,10)[0]\n",
    "ridgeParamLambda0_5M10 = ridgeRegression(Train1_X,Train1_Y,0.5,10)[0]\n",
    "ridgeParamLambda1M10 = ridgeRegression(Train1_X,Train1_Y,1,10)[0]\n",
    "ridgeParamLambda2M10 = ridgeRegression(Train1_X,Train1_Y,2,10)[0]\n",
    "ridgeParamLambda5M10 = ridgeRegression(Train1_X,Train1_Y,5,10)[0]"
   ]
  },
  {
   "cell_type": "code",
   "execution_count": null,
   "metadata": {
    "collapsed": true
   },
   "outputs": [],
   "source": []
  },
  {
   "cell_type": "code",
   "execution_count": 187,
   "metadata": {
    "collapsed": true
   },
   "outputs": [],
   "source": [
    "errorLambda0_1M10 = LBFRidgeRegression(ridgeParamLambda0_1M10,valid1_X ,valid1_Y,0.1)[1]\n",
    "errorLambda0_5M10 = LBFRidgeRegression(ridgeParamLambda0_5M10,valid1_X ,valid1_Y,0.5)[1]\n",
    "errorLambda1M10 = LBFRidgeRegression(ridgeParamLambda1M10,valid1_X ,valid1_Y,1)[1]\n",
    "errorLambda2M10 = LBFRidgeRegression(ridgeParamLambda2M10,valid1_X ,valid1_Y,2)[1]\n",
    "errorLambda5M10 = LBFRidgeRegression(ridgeParamLambda5M10,valid1_X ,valid1_Y,5)[1]"
   ]
  },
  {
   "cell_type": "code",
   "execution_count": 188,
   "metadata": {
    "collapsed": true
   },
   "outputs": [],
   "source": [
    "errorLambda0_1M10_Test = LBFRidgeRegression(ridgeParamLambda0_1M10,Test1_X ,Test1_Y,0.1)[1]\n",
    "errorLambda0_5M10_Test = LBFRidgeRegression(ridgeParamLambda0_5M10,Test1_X ,Test1_Y,0.5)[1]\n",
    "errorLambda1M10_Test = LBFRidgeRegression(ridgeParamLambda1M10,Test1_X ,Test1_Y,1)[1]\n",
    "errorLambda2M10_Test = LBFRidgeRegression(ridgeParamLambda2M10,Test1_X ,Test1_Y,2)[1]\n",
    "errorLambda5M10_Test = LBFRidgeRegression(ridgeParamLambda5M10,Test1_X ,Test1_Y,5)[1]"
   ]
  },
  {
   "cell_type": "code",
   "execution_count": 189,
   "metadata": {
    "collapsed": false
   },
   "outputs": [],
   "source": [
    "errorM1 = [errorLambda0_1M1,errorLambda0_5M1,errorLambda1M1,errorLambda2M1,errorLambda5M1]\n",
    "errorM3 = [errorLambda0_1M3,errorLambda0_5M3,errorLambda1M3,errorLambda2M3,errorLambda5M3]\n",
    "errorM5 = [errorLambda0_1M5,errorLambda0_5M5,errorLambda1M5,errorLambda2M5,errorLambda5M5]\n",
    "errorM10 = [errorLambda0_1M10,errorLambda0_5M10,errorLambda1M10,errorLambda2M10,errorLambda5M10]\n",
    "W1 = ['0.1','0.5','1','2','5']\n",
    "\n",
    "errorM1_Test = [errorLambda0_1M1_Test,errorLambda0_5M1_Test,errorLambda1M1_Test,errorLambda2M1_Test,errorLambda5M1_Test]\n",
    "errorM3_Test = [errorLambda0_1M3_Test,errorLambda0_5M3_Test,errorLambda1M3_Test,errorLambda2M3_Test,errorLambda5M3_Test]\n",
    "errorM5_Test = [errorLambda0_1M5_Test,errorLambda0_5M5_Test,errorLambda1M5_Test,errorLambda2M5_Test,errorLambda5M5_Test]\n",
    "errorM10_Test = [errorLambda0_1M10_Test,errorLambda0_5M10_Test,errorLambda1M10_Test,errorLambda2M10_Test,errorLambda5M10_Test]"
   ]
  },
  {
   "cell_type": "code",
   "execution_count": 190,
   "metadata": {
    "collapsed": false
   },
   "outputs": [
    {
     "data": {
      "image/png": "[encoded data removed]",
      "text/plain": [
       "<matplotlib.figure.Figure at 0x105f277d0>"
      ]
     },
     "metadata": {},
     "output_type": "display_data"
    }
   ],
   "source": [
    "# Adding label to the plot\n",
    "plt.plot(range(len(errorM1)),errorM1,label='M = 1')\n",
    "plt.plot(range(len(errorM3)),errorM3,label='M = 3')\n",
    "plt.plot(range(len(errorM5)),errorM5,label='M = 5')\n",
    "plt.plot(range(len(errorM10)),errorM10,label='M = 10')\n",
    "plt.xlabel('$\\lambda$')\n",
    "plt.ylabel('RSS')\n",
    "plt.yscale('log')\n",
    "plt.title('RSS for various $\\lambda$ values \\n under different polynomical basis \\n (Validation set)')\n",
    "plt.xticks(range(len(W1)),W1, size='small')\n",
    "plt.legend(bbox_to_anchor=(0.27, 1), loc=1, borderaxespad=0.)\n",
    "plt.tight_layout()\n",
    "pl.savefig('../ImageFiles/HW1/RSSValidationRR3.2_Tarin_B.pdf')\n",
    "plt.show()"
   ]
  },
  {
   "cell_type": "code",
   "execution_count": 191,
   "metadata": {
    "collapsed": false
   },
   "outputs": [
    {
     "data": {
      "image/png": "[encoded data removed]",
      "text/plain": [
       "<matplotlib.figure.Figure at 0x105762950>"
      ]
     },
     "metadata": {},
     "output_type": "display_data"
    }
   ],
   "source": [
    "plt.plot(range(len(errorM1_Test)),errorM1_Test,label='M = 1')\n",
    "plt.plot(range(len(errorM3_Test)),errorM3_Test,label='M = 3')\n",
    "plt.plot(range(len(errorM5_Test)),errorM5_Test,label='M = 5')\n",
    "plt.plot(range(len(errorM10_Test)),errorM10_Test,label='M = 10')\n",
    "plt.xlabel('$\\lambda$')\n",
    "plt.ylabel('RSS')\n",
    "plt.title('RSS for various $\\lambda$ values \\n under different polynomical basis \\n (Test set)')\n",
    "plt.xticks(range(len(W1)),W1, size='small')\n",
    "plt.legend(bbox_to_anchor=(0.27, 1), loc=1, borderaxespad=0.)\n",
    "plt.yscale('log')\n",
    "plt.tight_layout()\n",
    "pl.savefig('../ImageFiles/HW1/RSSTestRR3.2_Train_B.pdf')\n",
    "plt.show()"
   ]
  },
  {
   "cell_type": "code",
   "execution_count": 192,
   "metadata": {
    "collapsed": true
   },
   "outputs": [],
   "source": [
    "#In this case model with M = 1 with lambda = 0.1 gave the smallest validation error"
   ]
  },
  {
   "cell_type": "code",
   "execution_count": 193,
   "metadata": {
    "collapsed": false
   },
   "outputs": [
    {
     "data": {
      "text/plain": [
       "(array([ 1.83306641,  0.8975539 ]),\n",
       " array([ 1.43213215, -0.45771566,  0.94519853, -2.09289515, -1.0858328 ,\n",
       "        -2.27995731, -2.17895166,  1.28736793, -0.84532812, -0.99719329,\n",
       "         2.42633417,  2.33657878,  1.08000331]))"
      ]
     },
     "execution_count": 193,
     "metadata": {},
     "output_type": "execute_result"
    }
   ],
   "source": [
    "ridgeRegression(Test1_X,Test1_Y,0.1,1)"
   ]
  },
  {
   "cell_type": "markdown",
   "metadata": {},
   "source": [
    "# Question 4 (Sparsity and LASSO)"
   ]
  },
  {
   "cell_type": "code",
   "execution_count": 194,
   "metadata": {
    "collapsed": true
   },
   "outputs": [],
   "source": [
    "# Data for this question\n",
    "import pdb\n",
    "import random\n",
    "import pylab as pl\n",
    "import numpy as np\n",
    "\n",
    "# X is an array of N data points (one dimensional for now), that is, NX1\n",
    "# Y is a Nx1 column vector of data values\n",
    "\n",
    "def getData(name):\n",
    "    data = pl.loadtxt(name)\n",
    "    # Returns column matrices\n",
    "    X = data[0:1].T\n",
    "    Y = data[1:2].T\n",
    "    return X, Y\n",
    "\n",
    "def lassoTrainData():\n",
    "    return getData('../DataFiles/HW1/lasso_train.txt')\n",
    "\n",
    "def lassoValData():\n",
    "    return getData('../DataFiles/HW1/lasso_validate.txt')\n",
    "\n",
    "def lassoTestData():\n",
    "    return getData('../DataFiles/HW1/lasso_test.txt')\n"
   ]
  },
  {
   "cell_type": "code",
   "execution_count": 195,
   "metadata": {
    "collapsed": false
   },
   "outputs": [],
   "source": [
    "from sklearn import linear_model\n",
    "\n",
    "clf0_1 = linear_model.Lasso(alpha=0.1,fit_intercept=False) # alpha is the shrinkage parameter\n",
    "clf0_5 = linear_model.Lasso(alpha=0.5,fit_intercept=False)\n",
    "clf1 = linear_model.Lasso(alpha=1,fit_intercept=False)\n",
    "clf2 = linear_model.Lasso(alpha=2,fit_intercept=False)\n",
    "clf5 = linear_model.Lasso(alpha=5,fit_intercept=False)"
   ]
  },
  {
   "cell_type": "code",
   "execution_count": 196,
   "metadata": {
    "collapsed": false
   },
   "outputs": [],
   "source": [
    "def sineBasisFunction(X,y,n=13):\n",
    "    designMat = np.zeros((len(X),n))\n",
    "    designMat[:,0] = X.ravel()\n",
    "    for i in range(1,n):\n",
    "        #print([a**i for a in X])\n",
    "        designMat[:,i] = [np.sin(0.4*np.pi*a*i) for a in X]\n",
    "    return(designMat,y)"
   ]
  },
  {
   "cell_type": "code",
   "execution_count": 197,
   "metadata": {
    "collapsed": false
   },
   "outputs": [],
   "source": [
    "X = lassoTrainData()[0]\n",
    "y = lassoTrainData()[1]"
   ]
  },
  {
   "cell_type": "code",
   "execution_count": 198,
   "metadata": {
    "collapsed": false
   },
   "outputs": [],
   "source": [
    "designMat = sineBasisFunction(X,y,n=13)[0]\n",
    "outcome = sineBasisFunction(X,y,n=13)[1]"
   ]
  },
  {
   "cell_type": "code",
   "execution_count": 199,
   "metadata": {
    "collapsed": false
   },
   "outputs": [
    {
     "data": {
      "text/plain": [
       "array([ 0.        ,  0.        ,  5.49526681,  0.33802335,  0.        ,\n",
       "        1.12455954,  2.28295397,  0.        ,  0.        , -0.        ,\n",
       "       -0.        ,  0.        ,  0.        ])"
      ]
     },
     "execution_count": 199,
     "metadata": {},
     "output_type": "execute_result"
    }
   ],
   "source": [
    "clf0_1.fit(designMat, outcome)\n",
    "lambda0_1coeff = clf0_1.coef_\n",
    "lambda0_1coeff"
   ]
  },
  {
   "cell_type": "code",
   "execution_count": 200,
   "metadata": {
    "collapsed": false
   },
   "outputs": [
    {
     "data": {
      "text/plain": [
       "array([ 0.        ,  0.        ,  4.56610215,  0.76841601,  0.        ,\n",
       "        0.        ,  2.41591679,  0.        ,  0.        , -0.        ,\n",
       "       -0.        ,  0.        ,  0.        ])"
      ]
     },
     "execution_count": 200,
     "metadata": {},
     "output_type": "execute_result"
    }
   ],
   "source": [
    "clf0_5.fit(designMat, outcome)\n",
    "lambda0_5coeff = clf0_5.coef_\n",
    "lambda0_5coeff"
   ]
  },
  {
   "cell_type": "code",
   "execution_count": 201,
   "metadata": {
    "collapsed": false
   },
   "outputs": [
    {
     "data": {
      "text/plain": [
       "array([ 0.        ,  0.        ,  4.25260727,  0.02250036,  0.        ,\n",
       "        0.        ,  1.63404412,  0.        ,  0.        , -0.        ,\n",
       "       -0.        ,  0.        ,  0.        ])"
      ]
     },
     "execution_count": 201,
     "metadata": {},
     "output_type": "execute_result"
    }
   ],
   "source": [
    "clf1.fit(designMat, outcome)\n",
    "lambda1coeff = clf1.coef_\n",
    "lambda1coeff"
   ]
  },
  {
   "cell_type": "code",
   "execution_count": 202,
   "metadata": {
    "collapsed": false
   },
   "outputs": [
    {
     "data": {
      "text/plain": [
       "array([ 0.        ,  0.        ,  2.56819399,  0.        ,  0.        ,\n",
       "        0.        ,  0.1812299 ,  0.        ,  0.        , -0.        ,\n",
       "       -0.        ,  0.        ,  0.        ])"
      ]
     },
     "execution_count": 202,
     "metadata": {},
     "output_type": "execute_result"
    }
   ],
   "source": [
    "clf2.fit(designMat, outcome)\n",
    "lambda2coeff =clf2.coef_\n",
    "lambda2coeff"
   ]
  },
  {
   "cell_type": "code",
   "execution_count": 203,
   "metadata": {
    "collapsed": false
   },
   "outputs": [
    {
     "data": {
      "text/plain": [
       "array([ 0.,  0.,  0.,  0.,  0.,  0.,  0.,  0.,  0., -0.,  0.,  0.,  0.])"
      ]
     },
     "execution_count": 203,
     "metadata": {},
     "output_type": "execute_result"
    }
   ],
   "source": [
    "clf5.fit(designMat, outcome)\n",
    "lambda5coeff =clf5.coef_\n",
    "lambda5coeff"
   ]
  },
  {
   "cell_type": "code",
   "execution_count": null,
   "metadata": {
    "collapsed": true
   },
   "outputs": [],
   "source": []
  },
  {
   "cell_type": "markdown",
   "metadata": {},
   "source": [
    "## Using ridge regression on the same data"
   ]
  },
  {
   "cell_type": "code",
   "execution_count": 204,
   "metadata": {
    "collapsed": true
   },
   "outputs": [],
   "source": [
    "def ridgeRegressionGeneral(X,y,lambdaShrink):\n",
    "    designMat = X\n",
    "    m = X.shape[1]\n",
    "    y = y.ravel() \n",
    "    mle = np.inner(np.dot(np.linalg.inv(np.dot(np.transpose(designMat),designMat)+lambdaShrink*np.identity(m)),np.transpose(designMat)),y)\n",
    "    fittedValues = np.dot(designMat,np.transpose(mle))\n",
    "    return(mle,fittedValues)\n",
    "    "
   ]
  },
  {
   "cell_type": "code",
   "execution_count": 205,
   "metadata": {
    "collapsed": false
   },
   "outputs": [],
   "source": [
    "ridgeCoeff0_1 = ridgeRegressionGeneral(designMat,y,0.1)[0]"
   ]
  },
  {
   "cell_type": "code",
   "execution_count": 206,
   "metadata": {
    "collapsed": false
   },
   "outputs": [],
   "source": [
    "ridgeCoeff0_5 = ridgeRegressionGeneral(designMat,y,0.5)[0]"
   ]
  },
  {
   "cell_type": "code",
   "execution_count": 207,
   "metadata": {
    "collapsed": false
   },
   "outputs": [],
   "source": [
    "ridgeCoeff1 = ridgeRegressionGeneral(designMat,y,1)[0]"
   ]
  },
  {
   "cell_type": "code",
   "execution_count": 208,
   "metadata": {
    "collapsed": false
   },
   "outputs": [],
   "source": [
    "ridgeCoeff2 = ridgeRegressionGeneral(designMat,y,2)[0]"
   ]
  },
  {
   "cell_type": "code",
   "execution_count": 209,
   "metadata": {
    "collapsed": false
   },
   "outputs": [],
   "source": [
    "ridgeCoeff5 = ridgeRegressionGeneral(designMat,y,5)[0]"
   ]
  },
  {
   "cell_type": "markdown",
   "metadata": {},
   "source": [
    "# Validation"
   ]
  },
  {
   "cell_type": "code",
   "execution_count": null,
   "metadata": {
    "collapsed": true
   },
   "outputs": [],
   "source": []
  },
  {
   "cell_type": "code",
   "execution_count": 210,
   "metadata": {
    "collapsed": false
   },
   "outputs": [],
   "source": [
    "X = lassoValData()[0]\n",
    "y = lassoValData()[1]"
   ]
  },
  {
   "cell_type": "code",
   "execution_count": 211,
   "metadata": {
    "collapsed": false
   },
   "outputs": [],
   "source": [
    "designMat = sineBasisFunction(X,y,n=13)[0]\n",
    "outcome = sineBasisFunction(X,y,n=13)[1]\n"
   ]
  },
  {
   "cell_type": "code",
   "execution_count": 212,
   "metadata": {
    "collapsed": false
   },
   "outputs": [
    {
     "name": "stdout",
     "output_type": "stream",
     "text": [
      "[ 1.16429323]\n",
      "[ 0.52224939]\n"
     ]
    }
   ],
   "source": [
    "error = [a - b for a,b in zip(np.dot(designMat,lambda0_1coeff),y)]\n",
    "SSELassos0_1 = sum([a**2 for a in error])\n",
    "print SSELassos0_1\n",
    "error = [a - b for a,b in zip(np.dot(designMat,ridgeCoeff0_1),y)]\n",
    "SSERidge0_1 = sum([a**2 for a in error])\n",
    "print SSERidge0_1"
   ]
  },
  {
   "cell_type": "code",
   "execution_count": 213,
   "metadata": {
    "collapsed": false
   },
   "outputs": [
    {
     "name": "stdout",
     "output_type": "stream",
     "text": [
      "[ 8.18185929]\n",
      "[ 1.5720065]\n"
     ]
    }
   ],
   "source": [
    "error = [a - b for a,b in zip(np.dot(designMat,lambda0_5coeff),y)]\n",
    "SSELassos0_5 = sum([a**2 for a in error])\n",
    "print SSELassos0_5\n",
    "error = [a - b for a,b in zip(np.dot(designMat,ridgeCoeff0_5),y)]\n",
    "SSERidge0_5 = sum([a**2 for a in error])\n",
    "print SSERidge0_5"
   ]
  },
  {
   "cell_type": "code",
   "execution_count": 214,
   "metadata": {
    "collapsed": false
   },
   "outputs": [
    {
     "name": "stdout",
     "output_type": "stream",
     "text": [
      "[ 25.4071393]\n",
      "[ 4.03325155]\n"
     ]
    }
   ],
   "source": [
    "error = [a - b for a,b in zip(np.dot(designMat,lambda1coeff),y)]\n",
    "SSELassos1 = sum([a**2 for a in error])\n",
    "print SSELassos1\n",
    "error = [a - b for a,b in zip(np.dot(designMat,ridgeCoeff1),y)]\n",
    "SSERidge1 = sum([a**2 for a in error])\n",
    "print SSERidge1"
   ]
  },
  {
   "cell_type": "code",
   "execution_count": 215,
   "metadata": {
    "collapsed": false
   },
   "outputs": [
    {
     "name": "stdout",
     "output_type": "stream",
     "text": [
      "[ 83.28028138]\n",
      "[ 10.84256721]\n"
     ]
    }
   ],
   "source": [
    "error = [a - b for a,b in zip(np.dot(designMat,lambda2coeff),y)]\n",
    "SSELassos2 = sum([a**2 for a in error])\n",
    "print SSELassos2\n",
    "error = [a - b for a,b in zip(np.dot(designMat,ridgeCoeff2),y)]\n",
    "SSERidge2 = sum([a**2 for a in error])\n",
    "print SSERidge2"
   ]
  },
  {
   "cell_type": "code",
   "execution_count": 216,
   "metadata": {
    "collapsed": false
   },
   "outputs": [
    {
     "name": "stdout",
     "output_type": "stream",
     "text": [
      "[ 218.05906373]\n",
      "[ 34.73147143]\n"
     ]
    }
   ],
   "source": [
    "error = [a - b for a,b in zip(np.dot(designMat,lambda5coeff),y)]\n",
    "SSELassos5 = sum([a**2 for a in error])\n",
    "print SSELassos5\n",
    "error = [a - b for a,b in zip(np.dot(designMat,ridgeCoeff5),y)]\n",
    "SSERidge5 = sum([a**2 for a in error])\n",
    "print SSERidge5"
   ]
  },
  {
   "cell_type": "markdown",
   "metadata": {},
   "source": [
    "# Test"
   ]
  },
  {
   "cell_type": "code",
   "execution_count": 217,
   "metadata": {
    "collapsed": true
   },
   "outputs": [],
   "source": [
    "X = lassoTestData()[0]\n",
    "y = lassoTestData()[1]"
   ]
  },
  {
   "cell_type": "code",
   "execution_count": 218,
   "metadata": {
    "collapsed": false
   },
   "outputs": [],
   "source": [
    "designMat = sineBasisFunction(X,y,n=13)[0]\n",
    "outcome = sineBasisFunction(X,y,n=13)[1]"
   ]
  },
  {
   "cell_type": "code",
   "execution_count": 219,
   "metadata": {
    "collapsed": false
   },
   "outputs": [
    {
     "data": {
      "text/plain": [
       "Lasso(alpha=0.1, copy_X=True, fit_intercept=False, max_iter=1000,\n",
       "   normalize=False, positive=False, precompute=False, random_state=None,\n",
       "   selection='cyclic', tol=0.0001, warm_start=False)"
      ]
     },
     "execution_count": 219,
     "metadata": {},
     "output_type": "execute_result"
    }
   ],
   "source": [
    "clf0_1.fit(designMat, outcome)"
   ]
  },
  {
   "cell_type": "code",
   "execution_count": 220,
   "metadata": {
    "collapsed": false
   },
   "outputs": [],
   "source": [
    "LASSo_weights = clf0_1.coef_"
   ]
  },
  {
   "cell_type": "code",
   "execution_count": 221,
   "metadata": {
    "collapsed": false
   },
   "outputs": [],
   "source": [
    "ridgeWeights = ridgeRegressionGeneral(designMat,y,0.1)[0]"
   ]
  },
  {
   "cell_type": "markdown",
   "metadata": {
    "collapsed": true
   },
   "source": [
    "Plotting th true weights in a plot"
   ]
  },
  {
   "cell_type": "code",
   "execution_count": 222,
   "metadata": {
    "collapsed": false
   },
   "outputs": [],
   "source": [
    "trueWeights = pl.loadtxt('../DataFiles/HW1/lasso_true_w.txt')"
   ]
  },
  {
   "cell_type": "code",
   "execution_count": 223,
   "metadata": {
    "collapsed": false
   },
   "outputs": [
    {
     "data": {
      "text/plain": [
       "array([ 0.    ,  0.    ,  5.6463,  0.7786,  0.    ,  0.8109,  2.6827,\n",
       "        0.    ,  0.    ,  0.    ,  0.    ,  0.    ,  0.    ])"
      ]
     },
     "execution_count": 223,
     "metadata": {},
     "output_type": "execute_result"
    }
   ],
   "source": [
    "trueWeights"
   ]
  },
  {
   "cell_type": "markdown",
   "metadata": {},
   "source": [
    "Plotting the true weights"
   ]
  },
  {
   "cell_type": "code",
   "execution_count": 224,
   "metadata": {
    "collapsed": false
   },
   "outputs": [
    {
     "name": "stderr",
     "output_type": "stream",
     "text": [
      "/Users/Divy/anaconda/lib/python2.7/site-packages/matplotlib/axes.py:4747: UserWarning: No labeled objects found. Use label='...' kwarg on individual plots.\n",
      "  warnings.warn(\"No labeled objects found. \"\n"
     ]
    },
    {
     "data": {
      "image/png": "[encoded data removed]",
      "text/plain": [
       "<matplotlib.figure.Figure at 0x1023aaa10>"
      ]
     },
     "metadata": {},
     "output_type": "display_data"
    }
   ],
   "source": [
    "import matplotlib.pyplot as plt\n",
    "#import plotly.plotly as py\n",
    "\n",
    "N = len(trueWeights)\n",
    "x = range(1,N+1)\n",
    "width = 0.75\n",
    "W1 = [str(a) for a in x]\n",
    "plt.bar(range(len(trueWeights)),trueWeights, width, color=\"blue\",align='center')\n",
    "\n",
    "plt.xticks(range(len(W1)),W1, size='small')\n",
    "plt.legend(bbox_to_anchor=(1.05, 1), loc=2, borderaxespad=0.,title = \"Mean of the \\n noise\")\n",
    "plt.xlabel('labels')\n",
    "plt.ylabel('Magnitude of the weights')\n",
    "plt.title('True Weights')\n",
    "#plt.yscale('log')\n",
    "#plt.show()\n",
    "pl.savefig('../ImageFiles/HW1/TrueWeights_Question4.pdf')\n"
   ]
  },
  {
   "cell_type": "code",
   "execution_count": 225,
   "metadata": {
    "collapsed": false
   },
   "outputs": [
    {
     "data": {
      "image/png": "[encoded data removed]",
      "text/plain": [
       "<matplotlib.figure.Figure at 0x1061f7210>"
      ]
     },
     "metadata": {},
     "output_type": "display_data"
    }
   ],
   "source": [
    "\n",
    "\n",
    "N = len(LASSo_weights)\n",
    "x = range(1,N+1)\n",
    "width = 0.75\n",
    "W1 = [str(a) for a in x]\n",
    "plt.bar(range(len(LASSo_weights)),LASSo_weights, width, color=\"blue\",align='center')\n",
    "\n",
    "plt.xticks(range(len(W1)),W1, size='small')\n",
    "plt.legend(bbox_to_anchor=(1.05, 1), loc=2, borderaxespad=0.,title = \"Mean of the \\n noise\")\n",
    "plt.xlabel('labels')\n",
    "plt.ylabel('Magnitude of the weights')\n",
    "plt.title('Weights estimated with LASSO')\n",
    "#plt.yscale('log')\n",
    "#plt.show()\n",
    "pl.savefig('../ImageFiles/HW1/LASSO_Question4.pdf')\n"
   ]
  },
  {
   "cell_type": "code",
   "execution_count": 226,
   "metadata": {
    "collapsed": false
   },
   "outputs": [
    {
     "data": {
      "image/png": "[encoded data removed]",
      "text/plain": [
       "<matplotlib.figure.Figure at 0x107a19d90>"
      ]
     },
     "metadata": {},
     "output_type": "display_data"
    }
   ],
   "source": [
    "# Plot the weights from the ridge regression\n",
    "N = len(ridgeWeights)\n",
    "x = range(1,N+1)\n",
    "width = 0.75\n",
    "W1 = [str(a) for a in x]\n",
    "plt.bar(range(len(ridgeWeights)),ridgeWeights, width, color=\"blue\",align='center')\n",
    "\n",
    "plt.xticks(range(len(W1)),W1, size='small')\n",
    "plt.legend(bbox_to_anchor=(1.05, 1), loc=2, borderaxespad=0.,title = \"Mean of the \\n noise\")\n",
    "plt.xlabel('labels')\n",
    "plt.ylabel('Magnitude of the weights')\n",
    "plt.title('Weights estimated with Ridge Regression')\n",
    "#plt.yscale('log')\n",
    "#plt.show()\n",
    "pl.savefig('../ImageFiles/HW1/Ridge_Question4.pdf')\n"
   ]
  },
  {
   "cell_type": "markdown",
   "metadata": {},
   "source": [
    "# Estimates with Lambda = 0"
   ]
  },
  {
   "cell_type": "code",
   "execution_count": 230,
   "metadata": {
    "collapsed": false
   },
   "outputs": [
    {
     "name": "stderr",
     "output_type": "stream",
     "text": [
      "/Users/Divy/anaconda/lib/python2.7/site-packages/ipykernel/__main__.py:3: UserWarning: With alpha=0, this algorithm does not converge well. You are advised to use the LinearRegression estimator\n",
      "  app.launch_new_instance()\n"
     ]
    },
    {
     "data": {
      "text/plain": [
       "Lasso(alpha=0, copy_X=True, fit_intercept=False, max_iter=1000,\n",
       "   normalize=False, positive=False, precompute=False, random_state=None,\n",
       "   selection='cyclic', tol=0.0001, warm_start=False)"
      ]
     },
     "execution_count": 230,
     "metadata": {},
     "output_type": "execute_result"
    }
   ],
   "source": [
    "clf0 = linear_model.Lasso(alpha=0,fit_intercept=False) # alpha is the shrinkage parameter\n",
    "\n",
    "clf0.fit(designMat, outcome)\n",
    "\n",
    "\n"
   ]
  },
  {
   "cell_type": "code",
   "execution_count": 231,
   "metadata": {
    "collapsed": false
   },
   "outputs": [
    {
     "data": {
      "text/plain": [
       "array([ 4.88062954,  0.1893761 ,  0.65530448,  2.27165287,  1.27446409,\n",
       "        0.67776365,  1.09530289,  1.23512757,  0.28876854, -0.69846889,\n",
       "       -0.23292553,  0.84059939, -0.58730429])"
      ]
     },
     "execution_count": 231,
     "metadata": {},
     "output_type": "execute_result"
    }
   ],
   "source": [
    "LASSO_weights0 = clf0.coef_\n",
    "LASSO_weights0"
   ]
  },
  {
   "cell_type": "code",
   "execution_count": 232,
   "metadata": {
    "collapsed": false
   },
   "outputs": [
    {
     "data": {
      "image/png": "[encoded data removed]",
      "text/plain": [
       "<matplotlib.figure.Figure at 0x102399910>"
      ]
     },
     "metadata": {},
     "output_type": "display_data"
    }
   ],
   "source": [
    "# Plot the weights from the ridge regression\n",
    "N = len(LASSO_weights0)\n",
    "x = range(1,N+1)\n",
    "width = 0.75\n",
    "W1 = [str(a) for a in x]\n",
    "plt.bar(range(len(LASSO_weights0)),LASSO_weights0, width, color=\"blue\",align='center')\n",
    "\n",
    "plt.xticks(range(len(W1)),W1, size='small')\n",
    "plt.legend(bbox_to_anchor=(1.05, 1), loc=2, borderaxespad=0.,title = \"Mean of the \\n noise\")\n",
    "plt.xlabel('labels')\n",
    "plt.ylabel('Magnitude of the weights')\n",
    "plt.title('Weights estimates with $\\lambda$ = 0')\n",
    "#plt.yscale('log')\n",
    "#plt.show()\n",
    "pl.savefig('../ImageFiles/HW1/Lamda_0_Question4.pdf')\n"
   ]
  }
 ],
 "metadata": {
  "kernelspec": {
   "display_name": "Python 2",
   "language": "python",
   "name": "python2"
  },
  "language_info": {
   "codemirror_mode": {
    "name": "ipython",
    "version": 2
   },
   "file_extension": ".py",
   "mimetype": "text/x-python",
   "name": "python",
   "nbconvert_exporter": "python",
   "pygments_lexer": "ipython2",
   "version": "2.7.11"
  }
 },
 "nbformat": 4,
 "nbformat_minor": 0
}
