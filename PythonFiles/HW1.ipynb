{
 "cells": [
  {
   "cell_type": "markdown",
   "metadata": {},
   "source": [
    "# Question 1 Gradient Discent"
   ]
  },
  {
   "cell_type": "code",
   "execution_count": 9,
   "metadata": {
    "collapsed": true
   },
   "outputs": [],
   "source": [
    "import numpy as np\n",
    "import math\n",
    "import pylab as pl\n",
    "import random\n",
    "\n",
    "%matplotlib inline"
   ]
  },
  {
   "cell_type": "code",
   "execution_count": 10,
   "metadata": {
    "collapsed": true
   },
   "outputs": [],
   "source": [
    "def negativeGaussian(x,mu,Sigma):\n",
    "    detSigma = np.linalg.det(Sigma)\n",
    "    n = len(x)\n",
    "    NC = -((1/(np.sqrt(2*math.pi)**2)*detSigma)) # normalizing constant\n",
    "    normalizedX = [a - b for a, b in zip(x, mu)] \n",
    "    invSigma = np.linalg.inv(Sigma)\n",
    "    kernel = np.exp(-0.5*(np.inner(np.inner(normalizedX,invSigma),np.transpose(normalizedX))))\n",
    "    \n",
    "    value = -NC*kernel\n",
    "    \n",
    "    gradient = -value*np.inner(invSigma,normalizedX)\n",
    "    \n",
    "    return(value,gradient)\n",
    "    "
   ]
  },
  {
   "cell_type": "code",
   "execution_count": 11,
   "metadata": {
    "collapsed": true
   },
   "outputs": [],
   "source": [
    "def qBowl(x,b,A):\n",
    "    value = 0.5*np.inner(np.inner(np.transpose(x),A),x) - np.inner(np.transpose(x),b)\n",
    "    gradient = np.inner(A,x) - b\n",
    "    return (value,gradient)"
   ]
  },
  {
   "cell_type": "code",
   "execution_count": 12,
   "metadata": {
    "collapsed": false
   },
   "outputs": [],
   "source": [
    "a = [25,25]\n",
    "mu = [1,3.2]\n",
    "A = [[2,0.3],[0.4,3]]"
   ]
  },
  {
   "cell_type": "code",
   "execution_count": 13,
   "metadata": {
    "collapsed": false
   },
   "outputs": [
    {
     "data": {
      "text/plain": [
       "(1676.25, array([ 56.5,  81.8]))"
      ]
     },
     "execution_count": 13,
     "metadata": {},
     "output_type": "execute_result"
    }
   ],
   "source": [
    "qBowl(a,mu,A)"
   ]
  },
  {
   "cell_type": "code",
   "execution_count": null,
   "metadata": {
    "collapsed": false
   },
   "outputs": [],
   "source": []
  },
  {
   "cell_type": "code",
   "execution_count": 14,
   "metadata": {
    "collapsed": false
   },
   "outputs": [
    {
     "data": {
      "text/plain": [
       "1676.25"
      ]
     },
     "execution_count": 14,
     "metadata": {},
     "output_type": "execute_result"
    }
   ],
   "source": [
    "0.5*np.inner(np.inner(np.transpose(a),A),a) - np.inner(np.transpose(a),mu)"
   ]
  },
  {
   "cell_type": "code",
   "execution_count": 15,
   "metadata": {
    "collapsed": false
   },
   "outputs": [],
   "source": [
    "def batchGradientDiscent(function,initGuess,step,threshold,maxIter,*args):\n",
    "    gradientNorm = []\n",
    "    epsilon = 1\n",
    "    value = initGuess\n",
    "    iteration = 0\n",
    "    #while iteration > 1:\n",
    "    #if iteration < maxIter:\n",
    "    while epsilon > threshold and iteration < maxIter : \n",
    "       \n",
    "        output = function(initGuess,*args)\n",
    "        #print output\n",
    "        \n",
    "        gradient = output[1]\n",
    "        newValue = value - step * gradient #GDS equation\n",
    "        \n",
    "        evaluateOld = function(value,*args)[0] # function evaluated at old point\n",
    "        #print(evaluateOld)\n",
    "        evaluateNew = function(newValue,*args)[0]# function evaluated at new point\n",
    "        #print(evaluateNew)\n",
    "        epsilon = abs(evaluateNew - evaluateOld)\n",
    "        value = newValue\n",
    "        gradient= function(value,*args)[1]\n",
    "        gNorm = np.linalg.norm(gradient)\n",
    "        gradientNorm .append(gNorm)\n",
    "        print epsilon\n",
    "            \n",
    "\n",
    "        iteration+=1\n",
    "        print(iteration)\n",
    "          \n",
    "        \n",
    "        \n",
    "    return(gradientNorm)"
   ]
  },
  {
   "cell_type": "code",
   "execution_count": null,
   "metadata": {
    "collapsed": false
   },
   "outputs": [],
   "source": []
  },
  {
   "cell_type": "code",
   "execution_count": 16,
   "metadata": {
    "collapsed": false
   },
   "outputs": [],
   "source": [
    "# Loading the parameters\n",
    "def getData():\n",
    "\n",
    "    # load the parameters for the negative Gaussian function and quadratic bowl function\n",
    "    # return a tuple that contains parameters for Gaussian mean, Gaussian covariance,\n",
    "    # A and b for quadratic bowl in order\n",
    "\n",
    "    data = pl.loadtxt('../DataFiles/HW1/parametersp1.txt')\n",
    "\n",
    "    gaussMean = data[0,:]\n",
    "    gaussCov = data[1:3,:]\n",
    "\n",
    "    quadBowlA = data[3:5,:]\n",
    "    quadBowlb = data[5,:]\n",
    "\n",
    "    return (gaussMean,gaussCov,quadBowlA,quadBowlb) \n",
    "\n"
   ]
  },
  {
   "cell_type": "code",
   "execution_count": 17,
   "metadata": {
    "collapsed": false
   },
   "outputs": [],
   "source": [
    "gaussMean,gaussCov,quadBowlA,quadBowlb = getData()"
   ]
  },
  {
   "cell_type": "code",
   "execution_count": 18,
   "metadata": {
    "collapsed": false
   },
   "outputs": [
    {
     "data": {
      "text/plain": [
       "(-10625.0, array([-25., -25.]))"
      ]
     },
     "execution_count": 18,
     "metadata": {},
     "output_type": "execute_result"
    }
   ],
   "source": [
    "qBowl(a,quadBowlb,quadBowlA)"
   ]
  },
  {
   "cell_type": "code",
   "execution_count": 19,
   "metadata": {
    "collapsed": false
   },
   "outputs": [
    {
     "data": {
      "text/plain": [
       "array([ 400.,  400.])"
      ]
     },
     "execution_count": 19,
     "metadata": {},
     "output_type": "execute_result"
    }
   ],
   "source": [
    "quadBowlb"
   ]
  },
  {
   "cell_type": "code",
   "execution_count": 20,
   "metadata": {
    "collapsed": false
   },
   "outputs": [
    {
     "data": {
      "text/plain": [
       "array([ 26.66666667,  26.66666667])"
      ]
     },
     "execution_count": 20,
     "metadata": {},
     "output_type": "execute_result"
    }
   ],
   "source": [
    "np.inner(np.linalg.inv(quadBowlA),quadBowlb)"
   ]
  },
  {
   "cell_type": "code",
   "execution_count": 21,
   "metadata": {
    "collapsed": false
   },
   "outputs": [
    {
     "name": "stdout",
     "output_type": "stream",
     "text": [
      "35358.505416\n",
      "1\n",
      "45316.6173209\n",
      "2\n",
      "36446.4295462\n",
      "3\n",
      "21064.632288\n",
      "4\n",
      "9159.82977184\n",
      "5\n",
      "3060.79533518\n",
      "6\n",
      "795.005747386\n",
      "7\n",
      "161.615373185\n",
      "8\n",
      "25.8281979881\n",
      "9\n",
      "3.2546552102\n",
      "10\n",
      "0.324061714159\n",
      "11\n",
      "0.0255340935816\n",
      "12\n",
      "0.0015939254265\n",
      "13\n",
      "7.88920894695e-05\n",
      "14\n",
      "3.09807686636e-06\n",
      "15\n",
      "9.6572865315e-08\n",
      "16\n",
      "2.39047981131e-09\n",
      "17\n",
      "4.7001158677e-11\n",
      "18\n",
      "7.34216766292e-13\n",
      "19\n",
      "9.1140128913e-15\n",
      "20\n",
      "8.9913599767e-17\n",
      "21\n",
      "7.05049220509e-19\n",
      "22\n",
      "4.39470371397e-21\n",
      "23\n"
     ]
    },
    {
     "data": {
      "text/plain": [
       "[2917.0210066242635,\n",
       " 2848.4097399899583,\n",
       " 1899.2427880139996,\n",
       " 931.82567341155357,\n",
       " 346.8006574783667,\n",
       " 99.429589617843206,\n",
       " 22.156966595003993,\n",
       " 3.8592344609212286,\n",
       " 0.52737973207221989,\n",
       " 0.056692765775181071,\n",
       " 0.0048034589382572037,\n",
       " 0.00032124412909016444,\n",
       " 1.6976922248855268e-05,\n",
       " 7.0959370667599824e-07,\n",
       " 2.3474469691877673e-08,\n",
       " 6.1498988541811826e-10,\n",
       " 1.276536669750541e-11,\n",
       " 2.1002186670023338e-13,\n",
       " 2.7397271549355163e-15,\n",
       " 2.8345601700232616e-17,\n",
       " 2.3265157968361774e-19,\n",
       " 1.5151661879627787e-21,\n",
       " 7.8312038918676794e-24]"
      ]
     },
     "execution_count": 21,
     "metadata": {},
     "output_type": "execute_result"
    }
   ],
   "source": [
    "batchGradientDiscent(negativeGaussian,[20,10],0.01,1e-19,100,gaussMean,gaussCov)"
   ]
  },
  {
   "cell_type": "code",
   "execution_count": 22,
   "metadata": {
    "collapsed": false
   },
   "outputs": [
    {
     "name": "stdout",
     "output_type": "stream",
     "text": [
      "[[ 10.   5.]\n",
      " [  5.  10.]]\n",
      "[ 400.  400.]\n"
     ]
    }
   ],
   "source": [
    "print quadBowlA\n",
    "print quadBowlb"
   ]
  },
  {
   "cell_type": "code",
   "execution_count": 23,
   "metadata": {
    "collapsed": false
   },
   "outputs": [
    {
     "name": "stdout",
     "output_type": "stream",
     "text": [
      "[ 22.   3.]\n"
     ]
    },
    {
     "data": {
      "text/plain": [
       "-7205.0"
      ]
     },
     "execution_count": 23,
     "metadata": {},
     "output_type": "execute_result"
    }
   ],
   "source": [
    "A = qBowl([20,0],quadBowlb,quadBowlA)[0]\n",
    "B = qBowl([20,0],quadBowlb,quadBowlA)[1]\n",
    "C = B*0.01\n",
    "print [20,0] - C\n",
    "qBowl([22,3],quadBowlb,quadBowlA)[0]"
   ]
  },
  {
   "cell_type": "code",
   "execution_count": 24,
   "metadata": {
    "collapsed": false,
    "scrolled": false
   },
   "outputs": [
    {
     "name": "stdout",
     "output_type": "stream",
     "text": [
      "0.198499999999\n",
      "1\n",
      "0.195500000002\n",
      "2\n",
      "0.192499999999\n",
      "3\n",
      "0.189499999999\n",
      "4\n",
      "0.186500000003\n",
      "5\n",
      "0.183499999999\n",
      "6\n",
      "0.180499999997\n",
      "7\n",
      "0.177500000005\n",
      "8\n",
      "0.174499999996\n",
      "9\n",
      "0.1715\n",
      "10\n"
     ]
    },
    {
     "data": {
      "text/plain": [
       "[13.930003589374937,\n",
       " 13.717871555018926,\n",
       " 13.505739520662912,\n",
       " 13.2936074863069,\n",
       " 13.081475451950968,\n",
       " 12.869343417595037,\n",
       " 12.657211383238943,\n",
       " 12.445079348883011,\n",
       " 12.232947314526918,\n",
       " 12.020815280170986]"
      ]
     },
     "execution_count": 24,
     "metadata": {},
     "output_type": "execute_result"
    }
   ],
   "source": [
    "batchGradientDiscent(qBowl,[26,26],0.001,1e-1,10,quadBowlb,quadBowlA)"
   ]
  },
  {
   "cell_type": "markdown",
   "metadata": {
    "collapsed": false
   },
   "source": [
    "Quadratic bowl shows some very erratic behavior unless the startiing point is very clos\n",
    "and the threshold is relatively larger"
   ]
  },
  {
   "cell_type": "markdown",
   "metadata": {
    "collapsed": false
   },
   "source": [
    "## Question 2"
   ]
  },
  {
   "cell_type": "code",
   "execution_count": 25,
   "metadata": {
    "collapsed": true
   },
   "outputs": [],
   "source": [
    "def finiteDifference(function,sp,h,*args):\n",
    "\n",
    "    fdApprox = []\n",
    "    for i in range(len(sp)):\n",
    "        Lower = [float(j) for j in sp]\n",
    "        Higher = [float(j) for j in sp]\n",
    "        Lower[i] = Lower[i] - 0.5*h\n",
    "        #print Lower\n",
    "        Higher[i] = Higher[i] + 0.5*h\n",
    "        #print Lower\n",
    "        #print Higher\n",
    "        higherValue = function(Higher,*args)[0]\n",
    "        lowerValue = function(Lower,*args)[0]\n",
    "        print higherValue\n",
    "        print lowerValue\n",
    "        fdApprox.append((higherValue - lowerValue)/h)\n",
    "        #increment = [0.5*h + b for  b in sp]\n",
    "        #higherInput = [a + b for a, b in zip(sp, increment)] \n",
    "        #lowerInput = [a - b for a, b in zip(sp, increment)]\n",
    "        #higher = function( higherInput,*args)[0]\n",
    "        #lower = function(lowerInput,*args)[0]\n",
    "        #fdApprox = (higher - lower)/h\n",
    "    return(fdApprox)\n"
   ]
  },
  {
   "cell_type": "code",
   "execution_count": 26,
   "metadata": {
    "collapsed": false
   },
   "outputs": [
    {
     "name": "stdout",
     "output_type": "stream",
     "text": [
      "123098835.0\n",
      "126898835.0\n",
      "123123835.0\n",
      "126873835.0\n"
     ]
    },
    {
     "data": {
      "text/plain": [
       "[-380.0, -375.0]"
      ]
     },
     "execution_count": 26,
     "metadata": {},
     "output_type": "execute_result"
    }
   ],
   "source": [
    "finiteDifference(qBowl,[1,2],10000,quadBowlb,quadBowlA)"
   ]
  },
  {
   "cell_type": "code",
   "execution_count": 27,
   "metadata": {
    "collapsed": false
   },
   "outputs": [
    {
     "data": {
      "text/plain": [
       "(-1165.0, array([-380., -375.]))"
      ]
     },
     "execution_count": 27,
     "metadata": {},
     "output_type": "execute_result"
    }
   ],
   "source": [
    "qBowl([1,2],quadBowlb,quadBowlA)"
   ]
  },
  {
   "cell_type": "code",
   "execution_count": 28,
   "metadata": {
    "collapsed": false
   },
   "outputs": [
    {
     "data": {
      "text/plain": [
       "[32.0, 46.0]"
      ]
     },
     "execution_count": 28,
     "metadata": {},
     "output_type": "execute_result"
    }
   ],
   "source": [
    "A = [32,23]\n",
    "A[1] = A[1]+23\n",
    "A\n",
    "[float(i) for i in A]"
   ]
  },
  {
   "cell_type": "code",
   "execution_count": 29,
   "metadata": {
    "collapsed": false
   },
   "outputs": [
    {
     "data": {
      "text/plain": [
       "[2.5, 3.5]"
      ]
     },
     "execution_count": 29,
     "metadata": {},
     "output_type": "execute_result"
    }
   ],
   "source": [
    "A = [2,3]\n",
    "B = [23,4]\n",
    "[0.5 + b for  b in A] \n"
   ]
  },
  {
   "cell_type": "markdown",
   "metadata": {},
   "source": [
    "# # Data for SGD"
   ]
  },
  {
   "cell_type": "code",
   "execution_count": 30,
   "metadata": {
    "collapsed": false
   },
   "outputs": [],
   "source": [
    "# Loading the data\n",
    "\n",
    "def getData():\n",
    "    \n",
    "    # load the fitting data for X and y and return as elements of a tuple\n",
    "    # X is a 100 by 10 matrix and y is a vector of length 100\n",
    "    # Each corresponding row for X and y represents a single data sample\n",
    "\n",
    "    X = pl.loadtxt('../DataFiles/HW1/fittingdatap1_x.txt')\n",
    "    y = pl.loadtxt('../DataFiles/HW1/fittingdatap1_y.txt')\n",
    "\n",
    "    return (X,y) "
   ]
  },
  {
   "cell_type": "code",
   "execution_count": 31,
   "metadata": {
    "collapsed": false
   },
   "outputs": [],
   "source": [
    "X,y = getData()"
   ]
  },
  {
   "cell_type": "code",
   "execution_count": 32,
   "metadata": {
    "collapsed": false
   },
   "outputs": [
    {
     "data": {
      "text/plain": [
       "(100, 10)"
      ]
     },
     "execution_count": 32,
     "metadata": {},
     "output_type": "execute_result"
    }
   ],
   "source": [
    "X.shape"
   ]
  },
  {
   "cell_type": "code",
   "execution_count": 33,
   "metadata": {
    "collapsed": false
   },
   "outputs": [],
   "source": [
    "A = np.dot(np.linalg.inv(np.dot(np.transpose(X),X)),np.transpose(X))"
   ]
  },
  {
   "cell_type": "code",
   "execution_count": 34,
   "metadata": {
    "collapsed": false
   },
   "outputs": [
    {
     "data": {
      "text/plain": [
       "array([  0.5032541 ,  -2.3367948 ,  -6.31670032,   6.81230107,\n",
       "        -1.06337989,   6.67469398,   3.4118044 ,  -0.45573592,\n",
       "       -12.94593466,  15.73289812])"
      ]
     },
     "execution_count": 34,
     "metadata": {},
     "output_type": "execute_result"
    }
   ],
   "source": [
    "sp = np.inner(A,y)\n",
    "sp"
   ]
  },
  {
   "cell_type": "markdown",
   "metadata": {},
   "source": [
    "Least Square function"
   ]
  },
  {
   "cell_type": "code",
   "execution_count": 35,
   "metadata": {
    "collapsed": false
   },
   "outputs": [],
   "source": [
    "def leastSquare(theta,X,y):\n",
    "    y = y.ravel()\n",
    "    intermediate = np.inner(X,theta) - y\n",
    "    value = np.inner(np.transpose(intermediate),intermediate)\n",
    "    gradient = 2*np.inner(np.transpose(X),intermediate)\n",
    "        \n",
    "    return(value,gradient)\n"
   ]
  },
  {
   "cell_type": "code",
   "execution_count": 36,
   "metadata": {
    "collapsed": false
   },
   "outputs": [],
   "source": [
    "theta = [1,2,3,4,-5,6,7,8,9,-10]"
   ]
  },
  {
   "cell_type": "code",
   "execution_count": 37,
   "metadata": {
    "collapsed": false
   },
   "outputs": [],
   "source": [
    "#leastSquare(sp,X[1,],y[1])[1]"
   ]
  },
  {
   "cell_type": "code",
   "execution_count": 38,
   "metadata": {
    "collapsed": false
   },
   "outputs": [
    {
     "name": "stdout",
     "output_type": "stream",
     "text": [
      "8.08898029578e-10\n",
      "[  7.22795585e-11   3.46213943e-11   7.47740492e-11  -3.55712868e-11\n",
      "   2.15244461e-11  -1.43022159e-10   8.23569515e-12   6.10197803e-11\n",
      "  -6.08653302e-10  -4.95850632e-10]\n"
     ]
    }
   ],
   "source": [
    "print np.linalg.norm((leastSquare(sp,X,y)[1]))\n",
    "print leastSquare(sp,X,y)[1]"
   ]
  },
  {
   "cell_type": "code",
   "execution_count": 39,
   "metadata": {
    "collapsed": false
   },
   "outputs": [
    {
     "data": {
      "text/plain": [
       "array([  0.5032541 ,  -2.3367948 ,  -6.31670032,   6.81230107,\n",
       "        -1.06337989,   6.67469398,   3.4118044 ,  -0.45573592,\n",
       "       -12.94593466,  15.73289812])"
      ]
     },
     "execution_count": 39,
     "metadata": {},
     "output_type": "execute_result"
    }
   ],
   "source": [
    "sp"
   ]
  },
  {
   "cell_type": "code",
   "execution_count": null,
   "metadata": {
    "collapsed": false
   },
   "outputs": [],
   "source": []
  },
  {
   "cell_type": "code",
   "execution_count": 40,
   "metadata": {
    "collapsed": false
   },
   "outputs": [
    {
     "name": "stdout",
     "output_type": "stream",
     "text": [
      "1.27329258248e-11\n",
      "1\n",
      "3.63797880709e-12\n",
      "2\n",
      "1.45519152284e-11\n",
      "3\n",
      "2.0008883439e-11\n",
      "4\n",
      "1.27329258248e-11\n",
      "5\n",
      "1.81898940355e-12\n",
      "6\n",
      "1.45519152284e-11\n",
      "7\n",
      "1.81898940355e-12\n",
      "8\n",
      "1.27329258248e-11\n",
      "9\n",
      "0.0\n",
      "10\n"
     ]
    },
    {
     "data": {
      "text/plain": [
       "[7.9660930842840948e-07,\n",
       " 1.594041477882827e-06,\n",
       " 2.3914663574340702e-06,\n",
       " 3.1888408460146198e-06,\n",
       " 3.9862837026355625e-06,\n",
       " 4.7837352369274375e-06,\n",
       " 5.5811240962023485e-06,\n",
       " 6.3785109611052526e-06,\n",
       " 7.1759815794085644e-06,\n",
       " 7.973326024409016e-06]"
      ]
     },
     "execution_count": 40,
     "metadata": {},
     "output_type": "execute_result"
    }
   ],
   "source": [
    "batchGradientDiscent(leastSquare,sp,0.01,1e-19,36,X,y)"
   ]
  },
  {
   "cell_type": "code",
   "execution_count": 41,
   "metadata": {
    "collapsed": false
   },
   "outputs": [
    {
     "data": {
      "text/plain": [
       "array([[ -1.47200000e-01,   4.90200000e-01,  -2.26757000e+01,\n",
       "          1.47657000e+01,   1.07925000e+01,  -1.73419000e+01,\n",
       "         -7.58150000e+00,  -1.65327000e+01,  -6.71740000e+00,\n",
       "          2.75220000e+00],\n",
       "       [ -2.66000000e-02,  -3.50944000e+01,  -3.24594000e+01,\n",
       "          4.04050000e+00,  -2.68454000e+01,  -1.55490000e+01,\n",
       "          1.36408000e+01,  -5.82570000e+00,  -1.99688000e+01,\n",
       "          2.02079000e+01],\n",
       "       [  8.57100000e+00,   2.83335000e+01,  -2.60000000e-01,\n",
       "          1.67877000e+01,   7.97380000e+00,   2.50168000e+01,\n",
       "         -1.62684000e+01,   6.49319000e+01,   3.74096000e+01,\n",
       "          4.14010000e+00],\n",
       "       [ -9.33650000e+00,   1.46148000e+01,   1.53803000e+01,\n",
       "         -8.95000000e+00,   1.33843000e+01,   1.17449000e+01,\n",
       "         -2.25900000e-01,   4.37849000e+01,  -2.18766000e+01,\n",
       "         -2.06200000e+00],\n",
       "       [ -1.07327000e+01,  -1.05070000e+01,  -1.08115000e+01,\n",
       "         -2.29077000e+01,  -6.43280000e+00,  -5.86710000e+00,\n",
       "         -1.65026000e+01,  -1.87209000e+01,  -2.41270000e+01,\n",
       "         -3.90350000e+00]])"
      ]
     },
     "execution_count": 41,
     "metadata": {},
     "output_type": "execute_result"
    }
   ],
   "source": [
    "Xsub = X[0:5,:]\n",
    "ysub = y[0:5]\n",
    "Xsub"
   ]
  },
  {
   "cell_type": "code",
   "execution_count": 51,
   "metadata": {
    "collapsed": false
   },
   "outputs": [
    {
     "data": {
      "text/plain": [
       "inf"
      ]
     },
     "execution_count": 51,
     "metadata": {},
     "output_type": "execute_result"
    }
   ],
   "source": []
  },
  {
   "cell_type": "markdown",
   "metadata": {
    "collapsed": false
   },
   "source": [
    "# Stochastic Gradient Discent"
   ]
  },
  {
   "cell_type": "code",
   "execution_count": 85,
   "metadata": {
    "collapsed": false
   },
   "outputs": [],
   "source": [
    "def stochasticGradientDiscent(X,Y,initGuess,threshold,maxIter,tau0,kappa):\n",
    "    gradientNorm = []\n",
    "    epsilon = float(\"Inf\")\n",
    "    value = initGuess\n",
    "    iteration = 0\n",
    "\n",
    "    n = X.shape[0]\n",
    "    print n\n",
    "    indTheta = initGuess\n",
    "    k = kappa\n",
    "    steps = 0\n",
    "    iteration = 0\n",
    "    \n",
    "    \n",
    "    while iteration < maxIter: \n",
    "        for i in range(n):\n",
    "            if epsilon > threshold:\n",
    "            \n",
    "                indX = X[i,]\n",
    "                #print indX\n",
    "                indY = Y[i]\n",
    "                y = indY.ravel()\n",
    "                intermediate = np.inner(indX,indTheta) - y\n",
    "                #print intermediate\n",
    "                #print intermediate\n",
    "                value = np.inner(np.transpose(intermediate),intermediate)\n",
    "                #print value\n",
    "                gradient = 2*np.transpose(indX)*intermediate\n",
    "                \n",
    "                #print(value)\n",
    "                #print gradient\n",
    "                \n",
    "                #print(np.linalg.norm(gradient))\n",
    "                \n",
    "                etaT = (1./((tau0+steps)*np.linalg.norm(gradient)))**k\n",
    "                #print etaT\n",
    "                newTheta = indTheta - etaT*gradient\n",
    "                newIntermediate = np.inner(indX,newTheta) - y\n",
    "                \n",
    "                newValue = np.inner(np.transpose(newIntermediate),newIntermediate)\n",
    "                #print(newValue)\n",
    "                epsilon = abs(newValue - value)\n",
    "                #epsilon = np.linalg.norm(gradient)\n",
    "                print(epsilon)\n",
    "                #print(newTheta)\n",
    "                #print indTheta\n",
    "                steps= steps +1            \n",
    "                indTheta = newTheta\n",
    "                #print(indTheta)\n",
    "                #print steps\n",
    "            else:\n",
    "                print \"SGD converged\"\n",
    "                break\n",
    "                \n",
    "                \n",
    "        iteration = iteration+1\n",
    "                \n",
    "        return(indTheta)"
   ]
  },
  {
   "cell_type": "code",
   "execution_count": 86,
   "metadata": {
    "collapsed": false
   },
   "outputs": [
    {
     "name": "stdout",
     "output_type": "stream",
     "text": [
      "[ -0.1472   0.4902 -22.6757  14.7657  10.7925 -17.3419  -7.5815 -16.5327\n",
      "  -6.7174   2.7522]\n",
      "[ -0.17906413  -3.01911302  -6.99901854   6.12998285  -1.74569812\n",
      "   5.99237576   2.72948618  -1.13805415 -13.62825289  15.0505799 ]\n",
      "[  0.5032541   -2.3367948   -6.31670032   6.81230107  -1.06337989\n",
      "   6.67469398   3.4118044   -0.45573592 -12.94593466  15.73289812]\n"
     ]
    }
   ],
   "source": [
    "a = np.inner(X[0,],sp) - y[0]\n",
    "print X[0,]\n",
    "nu = np.linalg.norm(2*np.transpose(X[0,])*a)\n",
    "eta = (1./((2+1)*nu))**0.9\n",
    "print sp - eta*nu\n",
    "print sp"
   ]
  },
  {
   "cell_type": "code",
   "execution_count": 88,
   "metadata": {
    "collapsed": false
   },
   "outputs": [
    {
     "name": "stdout",
     "output_type": "stream",
     "text": [
      "100\n",
      "10460.6593366\n",
      "71556.559941\n",
      "21764.0770119\n",
      "6060.60629305\n",
      "2044.06971037\n",
      "19678.3452176\n",
      "2195.90170234\n",
      "3720.62156009\n",
      "445.112395089\n",
      "6402.92113386\n",
      "2537.44301217\n",
      "386.25658546\n",
      "11.7240029769\n",
      "5607.48809489\n",
      "8319.41993468\n",
      "5458.99303467\n",
      "2524.62380019\n",
      "6983.85689304\n",
      "4771.01262829\n",
      "7482.36844648\n",
      "8.54160637803\n",
      "11822.5722185\n",
      "832.079696736\n",
      "4840.1156225\n",
      "3414.75267068\n",
      "3901.48327822\n",
      "15805.2968008\n",
      "27741.9604156\n",
      "4536.92749062\n",
      "7669.94783293\n",
      "16681.4338136\n",
      "3661.01880934\n",
      "6979.97968873\n",
      "2298.78650449\n",
      "3858.27219572\n",
      "5864.30117108\n",
      "1188.47975406\n",
      "13643.061873\n",
      "3171.53106854\n",
      "1321.15514649\n",
      "10987.4697831\n",
      "4843.88907543\n",
      "7705.1216412\n",
      "3417.9820263\n",
      "510.227909797\n",
      "10686.7054568\n",
      "5901.13872074\n",
      "1909.54427694\n",
      "269.060689709\n",
      "9805.93328885\n",
      "7784.24279713\n",
      "1259.2189907\n",
      "3761.81378259\n",
      "2586.36943613\n",
      "6737.41899108\n",
      "2157.90594486\n",
      "535.448260282\n",
      "6350.04717595\n",
      "1600.52341548\n",
      "13.6127102929\n",
      "3662.18543098\n",
      "3623.40791398\n",
      "2795.35709597\n",
      "5420.78091158\n",
      "376.512539342\n",
      "1639.96552444\n",
      "1287.20007127\n",
      "3553.8574752\n",
      "2042.02280826\n",
      "2598.13513156\n",
      "3387.64626042\n",
      "2515.38806942\n",
      "433.169804433\n",
      "1419.09576201\n",
      "300.359922304\n",
      "3651.23975927\n",
      "90.7573840997\n",
      "642.877097373\n",
      "1066.98227786\n",
      "1114.32284955\n",
      "1545.23308184\n",
      "4013.01799344\n",
      "5498.75856564\n",
      "1910.03491615\n",
      "2675.22299154\n",
      "4934.12980287\n",
      "3896.18718544\n",
      "3425.01701049\n",
      "1107.03709947\n",
      "545.313624476\n",
      "1158.25923569\n",
      "5528.41656932\n",
      "1297.78324163\n",
      "2691.40262944\n",
      "2207.54840062\n",
      "1172.55977181\n",
      "2656.18059216\n",
      "288.800740075\n",
      "965.463880207\n",
      "366.612480777\n"
     ]
    },
    {
     "data": {
      "text/plain": [
       "array([-0.05674999, -0.43179969, -0.67160093,  0.15273771, -0.27350125,\n",
       "        0.12975445,  0.02719175, -0.76885618, -2.62694465,  1.89948989])"
      ]
     },
     "execution_count": 88,
     "metadata": {},
     "output_type": "execute_result"
    }
   ],
   "source": [
    "stochasticGradientDiscent(X,y,[0.1]*10,0.01,3,5,0.9)"
   ]
  },
  {
   "cell_type": "code",
   "execution_count": 76,
   "metadata": {
    "collapsed": false
   },
   "outputs": [
    {
     "name": "stdout",
     "output_type": "stream",
     "text": [
      "0.329876977693\n",
      "[  2.27496097e-01  -3.66154899e+02  -3.42818175e+02   4.86995266e+01\n",
      "  -2.79365403e+02  -1.54519334e+02   1.44823824e+02  -6.08498480e+01\n",
      "  -2.19959331e+02   2.25225007e+02]\n",
      "-15.7131943321\n"
     ]
    }
   ],
   "source": [
    "i = 1\n",
    "indTheta = sp\n",
    "indX = X[i,]\n",
    "indY = y[i]\n",
    "value = (np.inner(np.transpose(indX),indTheta) - indY)**2\n",
    "gradient = 2*(np.inner(np.transpose(indX),indTheta) - indY)*indX\n",
    "#print value,gradient\n",
    "#print np.linalg.norm(gradient)\n",
    "tau0 = 2\n",
    "k = 0.8\n",
    "j = 1\n",
    "etaT = (1./(tau0+(j+1)))**k\n",
    "print etaT\n",
    "newTheta = indTheta - etaT*gradient\n",
    "#print gradient\n",
    "#print etaT*gradient\n",
    "print newTheta\n",
    "print np.inner(np.transpose(indX),indTheta) - indY\n",
    "#2*(np.inner(np.transpose(indX),newTheta) - indY)*indX"
   ]
  },
  {
   "cell_type": "code",
   "execution_count": 230,
   "metadata": {
    "collapsed": false
   },
   "outputs": [
    {
     "data": {
      "text/plain": [
       "array([  0.5032541 ,  -2.3367948 ,  -6.31670032,   6.81230107,\n",
       "        -1.06337989,   6.67469398,   3.4118044 ,  -0.45573592,\n",
       "       -12.94593466,  15.73289812])"
      ]
     },
     "execution_count": 230,
     "metadata": {},
     "output_type": "execute_result"
    }
   ],
   "source": [
    "sp"
   ]
  },
  {
   "cell_type": "code",
   "execution_count": null,
   "metadata": {
    "collapsed": false
   },
   "outputs": [],
   "source": []
  },
  {
   "cell_type": "code",
   "execution_count": 122,
   "metadata": {
    "collapsed": false
   },
   "outputs": [
    {
     "data": {
      "text/plain": [
       "array([-41.31766813,  -0.82708803,  -7.06071553,  34.42502081,\n",
       "       -30.18680803,  -0.67330762,  15.95421946,   3.48234334,\n",
       "         6.73856983, -15.40532608])"
      ]
     },
     "execution_count": 122,
     "metadata": {},
     "output_type": "execute_result"
    }
   ],
   "source": [
    "sp"
   ]
  },
  {
   "cell_type": "code",
   "execution_count": null,
   "metadata": {
    "collapsed": false
   },
   "outputs": [],
   "source": [
    "indX = X[i,]\n",
    "indY = y[i]\n",
    "value = (np.inner(np.transpose(indX),sp) - indY)**2\n",
    "value\n",
    "2*(np.inner(np.transpose(indX),sp) - indY)*indX"
   ]
  },
  {
   "cell_type": "code",
   "execution_count": null,
   "metadata": {
    "collapsed": false
   },
   "outputs": [],
   "source": [
    "def additional(function,f,d,*args):\n",
    "    return(function(*args)+f**d)\n"
   ]
  },
  {
   "cell_type": "code",
   "execution_count": null,
   "metadata": {
    "collapsed": false
   },
   "outputs": [],
   "source": [
    "add(23,31)"
   ]
  },
  {
   "cell_type": "code",
   "execution_count": null,
   "metadata": {
    "collapsed": false
   },
   "outputs": [],
   "source": [
    "additional(mult,23,2,12,3)"
   ]
  },
  {
   "cell_type": "code",
   "execution_count": null,
   "metadata": {
    "collapsed": false
   },
   "outputs": [],
   "source": [
    "23**2"
   ]
  },
  {
   "cell_type": "code",
   "execution_count": null,
   "metadata": {
    "collapsed": false
   },
   "outputs": [],
   "source": [
    "abs(23-132)"
   ]
  },
  {
   "cell_type": "code",
   "execution_count": null,
   "metadata": {
    "collapsed": true
   },
   "outputs": [],
   "source": [
    " x = np.arange(30).reshape(6,5)"
   ]
  },
  {
   "cell_type": "code",
   "execution_count": null,
   "metadata": {
    "collapsed": false
   },
   "outputs": [],
   "source": [
    "x[:,1]"
   ]
  },
  {
   "cell_type": "code",
   "execution_count": null,
   "metadata": {
    "collapsed": false
   },
   "outputs": [],
   "source": [
    "data = pl.loadtxt('../DataFiles/HW1/curvefittingp2.txt')"
   ]
  },
  {
   "cell_type": "markdown",
   "metadata": {},
   "source": [
    "## Linear Basis Function Regression"
   ]
  },
  {
   "cell_type": "code",
   "execution_count": 93,
   "metadata": {
    "collapsed": true
   },
   "outputs": [],
   "source": [
    "# Data for question 2\n",
    "import matplotlib.pyplot as plt\n",
    "import pylab as pl\n",
    "\n",
    "def getData(ifPlotData=True):\n",
    "    # load the fitting data and (optionally) plot out for examination\n",
    "    # return the X and Y as a tuple\n",
    "\n",
    "    data = pl.loadtxt('../DataFiles/HW1/curvefittingp2.txt')\n",
    "\n",
    "    X = data[0,:]\n",
    "    Y = data[1,:]\n",
    "\n",
    "    if ifPlotData:\n",
    "        plt.plot(X,Y,'o')\n",
    "        plt.xlabel('x')\n",
    "        plt.ylabel('y')\n",
    "        plt.show()\n",
    "\n",
    "    return (X,Y)"
   ]
  },
  {
   "cell_type": "code",
   "execution_count": 94,
   "metadata": {
    "collapsed": false
   },
   "outputs": [
    {
     "data": {
      "image/png": "[encoded data removed]",
      "text/plain": [
       "<matplotlib.figure.Figure at 0x103d10ed0>"
      ]
     },
     "metadata": {},
     "output_type": "display_data"
    }
   ],
   "source": [
    "X,Y = getData(ifPlotData=True)\n"
   ]
  },
  {
   "cell_type": "code",
   "execution_count": 95,
   "metadata": {
    "collapsed": false
   },
   "outputs": [
    {
     "data": {
      "text/plain": [
       "array([ 0. ,  0.1,  0.2,  0.3,  0.4,  0.5,  0.6,  0.7,  0.8,  0.9,  1. ])"
      ]
     },
     "execution_count": 95,
     "metadata": {},
     "output_type": "execute_result"
    }
   ],
   "source": [
    "X"
   ]
  },
  {
   "cell_type": "code",
   "execution_count": 96,
   "metadata": {
    "collapsed": true
   },
   "outputs": [],
   "source": [
    "def LBFRegression(X,y,m):\n",
    "    designMat = np.zeros((len(X),m+1))\n",
    "    for i in range(m+1):\n",
    "        #print([a**i for a in X])\n",
    "        designMat[:,i] = [a**i for a in X]\n",
    "        \n",
    "        \n",
    "    mle = np.inner(np.dot(np.linalg.inv(np.dot(np.transpose(designMat),designMat)),np.transpose(designMat)),y)\n",
    "    fittedValues = np.dot(designMat,np.transpose(mle))\n",
    "    return(mle,fittedValues)"
   ]
  },
  {
   "cell_type": "markdown",
   "metadata": {},
   "source": [
    "### 2.1"
   ]
  },
  {
   "cell_type": "code",
   "execution_count": 97,
   "metadata": {
    "collapsed": false
   },
   "outputs": [],
   "source": [
    "xtrue = np.linspace(0,1,100) # 100 linearly spaced numbers\n",
    "ytrue = np.cos(np.pi*xtrue)+1.5*np.cos(2*np.pi*xtrue) # computing the values of sin(x)/x\n",
    "noise = np.random.normal(0,0.01,100)\n",
    "ytrue = ytrue+noise\n",
    "\n",
    "\n",
    "weights0 = LBFRegression(X,Y,0)[0]\n",
    "m = 0\n",
    "designMat = np.zeros((len(xtrue),m+1))\n",
    "for i in range(m+1):\n",
    "    designMat[:,i] = [a**i for a in xtrue]\n",
    "\n",
    "\n",
    "fValue0 = np.inner(designMat,np.transpose(weights0))\n",
    "\n",
    "weights1 = LBFRegression(X,Y,1)[0]\n",
    "m = 1\n",
    "designMat = np.zeros((len(xtrue),m+1))\n",
    "for i in range(m+1):\n",
    "    designMat[:,i] = [a**i for a in xtrue]\n",
    "\n",
    "\n",
    "fValue1 = np.inner(designMat,np.transpose(weights1))\n",
    "\n",
    "\n",
    "\n",
    "weights3 = LBFRegression(X,Y,3)[0]\n",
    "m = 3\n",
    "designMat = np.zeros((len(xtrue),m+1))\n",
    "for i in range(m+1):\n",
    "    designMat[:,i] = [a**i for a in xtrue]\n",
    "\n",
    "\n",
    "fValue3 = np.inner(designMat,np.transpose(weights3))\n",
    "\n",
    "\n",
    "\n",
    "weights10 = LBFRegression(X,Y,10)[0]\n",
    "m = 10\n",
    "designMat = np.zeros((len(xtrue),m+1))\n",
    "for i in range(m+1):\n",
    "    designMat[:,i] = [a**i for a in xtrue]\n",
    "\n",
    "weights10 = LBFRegression(X,Y,10)[0]\n",
    "fValue10 = np.inner(designMat,np.transpose(weights10))"
   ]
  },
  {
   "cell_type": "code",
   "execution_count": 98,
   "metadata": {
    "collapsed": false
   },
   "outputs": [
    {
     "data": {
      "text/plain": [
       "array([ 2.28013448,  1.79391397,  1.58741861,  1.5457288 ,  1.58651516,\n",
       "        1.65331598,  1.70983853,  1.73517068,  1.71979784,  1.6623286 ,\n",
       "        1.56684075,  1.44076631,  1.293242  ,  1.13385782,  0.97174315,\n",
       "        0.81493557,  0.66998334,  0.54173782,  0.43329704,  0.34606615,\n",
       "        0.27990509,  0.23333752,  0.20379884,  0.18790481,  0.18172494,\n",
       "        0.18104813,  0.1816304 ,  0.17941703,  0.17073339,  0.15244098,\n",
       "        0.1220563 ,  0.07783235,  0.01880309, -0.05520715, -0.14360672,\n",
       "       -0.24508887, -0.3577091 , -0.47898339, -0.60600257, -0.73555824,\n",
       "       -0.86427529, -0.9887464 , -1.10566406, -1.21194574, -1.30484852,\n",
       "       -1.38206954, -1.44182946, -1.48293648, -1.50482898, -1.50759572,\n",
       "       -1.49197285, -1.45931786, -1.41156108, -1.35113614, -1.28089117,\n",
       "       -1.20398342, -1.1237602 , -1.04362973, -0.96692591, -0.89677134,\n",
       "       -0.83594315, -0.78674658, -0.7509011 , -0.7294441 , -0.72265688,\n",
       "       -0.7300174 , -0.75018398, -0.7810136 , -0.81961741, -0.86245577,\n",
       "       -0.90547345, -0.94427492, -0.97433784, -0.99126139, -0.99104419,\n",
       "       -0.9703844 , -0.92699235, -0.85990336, -0.76977561, -0.65915489,\n",
       "       -0.53268448, -0.39723496, -0.26192451, -0.1379963 , -0.03851461,\n",
       "        0.02216335,  0.02918832, -0.03165343, -0.17242574, -0.40107523,\n",
       "       -0.71893785, -1.11763908, -1.57530028, -2.0519554 , -2.48407423,\n",
       "       -2.77807941, -2.8027354 , -2.38027774, -1.27614098,  0.81286687])"
      ]
     },
     "execution_count": 98,
     "metadata": {},
     "output_type": "execute_result"
    }
   ],
   "source": [
    "fValue10\n"
   ]
  },
  {
   "cell_type": "code",
   "execution_count": 137,
   "metadata": {
    "collapsed": false
   },
   "outputs": [
    {
     "data": {
      "image/png": "[encoded data removed]",
      "text/plain": [
       "<matplotlib.figure.Figure at 0x10599bf50>"
      ]
     },
     "metadata": {},
     "output_type": "display_data"
    }
   ],
   "source": [
    "from pylab import savefig\n",
    "\n",
    "plt.plot(xtrue,ytrue)\n",
    "plt.plot(X,Y,'o')\n",
    "plt.plot(xtrue,fValue0)\n",
    "plt.xlabel('x')\n",
    "plt.ylabel('y')\n",
    "plt.title('Linear Regression (M=0)')\n",
    "#plt.show()\n",
    "pl.savefig('../ImageFiles/HW1/PolyBasis0.pdf')"
   ]
  },
  {
   "cell_type": "code",
   "execution_count": 138,
   "metadata": {
    "collapsed": false
   },
   "outputs": [
    {
     "data": {
      "image/png": "[encoded data removed]",
      "text/plain": [
       "<matplotlib.figure.Figure at 0x10580d6d0>"
      ]
     },
     "metadata": {},
     "output_type": "display_data"
    }
   ],
   "source": [
    "plt.plot(xtrue,ytrue)\n",
    "plt.plot(X,Y,'o')\n",
    "plt.plot(xtrue,fValue1)\n",
    "plt.xlabel('x')\n",
    "plt.ylabel('y')\n",
    "plt.title('Linear Regression (M=1)')\n",
    "#plt.show()\n",
    "pl.savefig('../ImageFiles/HW1/PolyBasis1.pdf')"
   ]
  },
  {
   "cell_type": "code",
   "execution_count": 139,
   "metadata": {
    "collapsed": false
   },
   "outputs": [
    {
     "data": {
      "image/png": "[encoded data removed]",
      "text/plain": [
       "<matplotlib.figure.Figure at 0x1055474d0>"
      ]
     },
     "metadata": {},
     "output_type": "display_data"
    }
   ],
   "source": [
    "plt.plot(xtrue,ytrue)\n",
    "plt.plot(X,Y,'o')\n",
    "plt.plot(xtrue,fValue3)\n",
    "plt.xlabel('x')\n",
    "plt.ylabel('y')\n",
    "plt.title('Linear Regression (M=3)')\n",
    "#plt.show()\n",
    "pl.savefig('../ImageFiles/HW1/PolyBasis3.pdf')"
   ]
  },
  {
   "cell_type": "code",
   "execution_count": 156,
   "metadata": {
    "collapsed": false
   },
   "outputs": [
    {
     "data": {
      "image/png": "[encoded data removed]",
      "text/plain": [
       "<matplotlib.figure.Figure at 0x1055aff90>"
      ]
     },
     "metadata": {},
     "output_type": "display_data"
    }
   ],
   "source": [
    "plt.plot(xtrue,ytrue)\n",
    "plt.plot(X,Y,'o')\n",
    "plt.plot(xtrue,fValue10)\n",
    "plt.xlabel('x')\n",
    "plt.ylabel('y')\n",
    "plt.title('Linear Regression (M=10)')\n",
    "#plt.show()\n",
    "pl.savefig('../ImageFiles/HW1/PolyBasis10.pdf')"
   ]
  },
  {
   "cell_type": "markdown",
   "metadata": {
    "collapsed": true
   },
   "source": [
    "# SSE"
   ]
  },
  {
   "cell_type": "code",
   "execution_count": 103,
   "metadata": {
    "collapsed": true
   },
   "outputs": [],
   "source": [
    "def SSEPolynomialBasis(weight,X,y):\n",
    "    error = np.inner(X,np.transpose(weight)) - y\n",
    "    SSE =np.inner(error,np.transpose(error))\n",
    "    SSEderivative = 2*np.inner(np.transpose(X),error)\n",
    "    return(SSE,SSEderivative)"
   ]
  },
  {
   "cell_type": "code",
   "execution_count": 104,
   "metadata": {
    "collapsed": false
   },
   "outputs": [
    {
     "name": "stdout",
     "output_type": "stream",
     "text": [
      "[  2.36687552 -10.73144911   6.61648601   2.48074981]\n"
     ]
    }
   ],
   "source": [
    "weights3 = LBFRegression(X,Y,3)[0]\n",
    "m = 3\n",
    "designMat = np.zeros((len(xtrue),m+1))\n",
    "for i in range(m+1):\n",
    "    designMat[:,i] = [a**i for a in xtrue]\n",
    "\n",
    "\n",
    "fValue3 = np.inner(designMat,np.transpose(weights3))\n",
    "print weights3"
   ]
  },
  {
   "cell_type": "code",
   "execution_count": 105,
   "metadata": {
    "collapsed": false
   },
   "outputs": [
    {
     "data": {
      "text/plain": [
       "35.939655512560684"
      ]
     },
     "execution_count": 105,
     "metadata": {},
     "output_type": "execute_result"
    }
   ],
   "source": [
    "np.linalg.norm(SSEPolynomialBasis(weights3,designMat,ytrue)[1])"
   ]
  },
  {
   "cell_type": "code",
   "execution_count": 106,
   "metadata": {
    "collapsed": false
   },
   "outputs": [
    {
     "name": "stdout",
     "output_type": "stream",
     "text": [
      "29.9005967417 51.3411395387\n"
     ]
    }
   ],
   "source": [
    "weight3high = weights3+0.2\n",
    "weight3Low = weights3-0.2\n",
    "a = SSEPolynomialBasis(weight3high,designMat,ytrue)[0]\n",
    "b = SSEPolynomialBasis(weight3Low,designMat,ytrue)[0]\n",
    "print a,b"
   ]
  },
  {
   "cell_type": "markdown",
   "metadata": {},
   "source": [
    "Numerical derviative for the SSE"
   ]
  },
  {
   "cell_type": "code",
   "execution_count": 107,
   "metadata": {
    "collapsed": false
   },
   "outputs": [
    {
     "name": "stdout",
     "output_type": "stream",
     "text": [
      "19.8467179062\n",
      "20.5284921954\n",
      "20.1024878007\n",
      "20.2594226376\n",
      "20.1214486588\n",
      "20.2378221161\n",
      "20.1205975633\n",
      "20.2375421198\n"
     ]
    },
    {
     "data": {
      "text/plain": [
       "[-34.08871446245243,\n",
       " -7.8467418420681057,\n",
       " -5.8186728649427977,\n",
       " -5.8472278229587005]"
      ]
     },
     "execution_count": 107,
     "metadata": {},
     "output_type": "execute_result"
    }
   ],
   "source": [
    "finiteDifference(SSEPolynomialBasis,weights3,0.02,designMat,ytrue)"
   ]
  },
  {
   "cell_type": "code",
   "execution_count": 108,
   "metadata": {
    "collapsed": false
   },
   "outputs": [
    {
     "name": "stdout",
     "output_type": "stream",
     "text": [
      "1.11677209044\n",
      "1\n",
      "0.766998594583\n",
      "2\n",
      "0.417225098731\n",
      "3\n",
      "0.0674516028785\n",
      "4\n",
      "0.282321892974\n",
      "5\n",
      "0.632095388826\n",
      "6\n",
      "0.981868884678\n",
      "7\n",
      "1.33164238053\n",
      "8\n",
      "1.68141587638\n",
      "9\n",
      "2.03118937224\n",
      "10\n",
      "2.38096286809\n",
      "11\n",
      "2.73073636394\n",
      "12\n",
      "3.08050985979\n",
      "13\n",
      "3.43028335564\n",
      "14\n",
      "3.7800568515\n",
      "15\n",
      "4.12983034735\n",
      "16\n",
      "4.4796038432\n",
      "17\n",
      "4.82937733905\n",
      "18\n",
      "5.17915083491\n",
      "19\n",
      "5.52892433076\n",
      "20\n",
      "5.87869782661\n",
      "21\n",
      "6.22847132246\n",
      "22\n",
      "6.57824481832\n",
      "23\n",
      "6.92801831417\n",
      "24\n",
      "7.27779181002\n",
      "25\n",
      "7.62756530587\n",
      "26\n",
      "7.97733880172\n",
      "27\n",
      "8.32711229758\n",
      "28\n",
      "8.67688579343\n",
      "29\n",
      "9.02665928928\n",
      "30\n",
      "9.37643278513\n",
      "31\n",
      "9.72620628099\n",
      "32\n",
      "10.0759797768\n",
      "33\n",
      "10.4257532727\n",
      "34\n",
      "10.7755267685\n",
      "35\n",
      "11.1253002644\n",
      "36\n",
      "11.4750737602\n",
      "37\n",
      "11.8248472561\n",
      "38\n",
      "12.174620752\n",
      "39\n",
      "12.5243942478\n",
      "40\n",
      "12.8741677437\n",
      "41\n",
      "13.2239412395\n",
      "42\n",
      "13.5737147354\n",
      "43\n",
      "13.9234882312\n",
      "44\n",
      "14.2732617271\n",
      "45\n",
      "14.6230352229\n",
      "46\n",
      "14.9728087188\n",
      "47\n",
      "15.3225822146\n",
      "48\n",
      "15.6723557105\n",
      "49\n",
      "16.0221292063\n",
      "50\n",
      "16.3719027022\n",
      "51\n",
      "16.721676198\n",
      "52\n",
      "17.0714496939\n",
      "53\n",
      "17.4212231897\n",
      "54\n",
      "17.7709966856\n",
      "55\n",
      "18.1207701814\n",
      "56\n",
      "18.4705436773\n",
      "57\n",
      "18.8203171731\n",
      "58\n",
      "19.170090669\n",
      "59\n",
      "19.5198641649\n",
      "60\n",
      "19.8696376607\n",
      "61\n",
      "20.2194111566\n",
      "62\n",
      "20.5691846524\n",
      "63\n",
      "20.9189581483\n",
      "64\n",
      "21.2687316441\n",
      "65\n",
      "21.61850514\n",
      "66\n",
      "21.9682786358\n",
      "67\n",
      "22.3180521317\n",
      "68\n",
      "22.6678256275\n",
      "69\n",
      "23.0175991234\n",
      "70\n",
      "23.3673726192\n",
      "71\n",
      "23.7171461151\n",
      "72\n",
      "24.0669196109\n",
      "73\n",
      "24.4166931068\n",
      "74\n",
      "24.7664666026\n",
      "75\n",
      "25.1162400985\n",
      "76\n",
      "25.4660135943\n",
      "77\n",
      "25.8157870902\n",
      "78\n",
      "26.165560586\n",
      "79\n",
      "26.5153340819\n",
      "80\n",
      "26.8651075777\n",
      "81\n",
      "27.2148810736\n",
      "82\n",
      "27.5646545695\n",
      "83\n",
      "27.9144280653\n",
      "84\n",
      "28.2642015612\n",
      "85\n",
      "28.613975057\n",
      "86\n",
      "28.9637485529\n",
      "87\n",
      "29.3135220487\n",
      "88\n",
      "29.6632955446\n",
      "89\n",
      "30.0130690404\n",
      "90\n",
      "30.3628425363\n",
      "91\n",
      "30.7126160321\n",
      "92\n",
      "31.062389528\n",
      "93\n",
      "31.4121630238\n",
      "94\n",
      "31.7619365197\n",
      "95\n",
      "32.1117100155\n",
      "96\n",
      "32.4614835114\n",
      "97\n",
      "32.8112570072\n",
      "98\n",
      "33.1610305031\n",
      "99\n",
      "33.5108039989\n",
      "100\n"
     ]
    },
    {
     "data": {
      "text/plain": [
       "[26.386599207914944,\n",
       " 17.582034562620173,\n",
       " 11.414236863129709,\n",
       " 12.638164786808121,\n",
       " 19.935976459502371,\n",
       " 29.042118514557014,\n",
       " 38.700486824299098,\n",
       " 48.582839102571484,\n",
       " 58.575919730716777,\n",
       " 68.631377893328278,\n",
       " 78.725315070685596,\n",
       " 88.844617037978296,\n",
       " 98.981504648473447,\n",
       " 109.13107756515066,\n",
       " 119.29009791592311,\n",
       " 129.45634157218626,\n",
       " 139.62823076986615,\n",
       " 149.80461549897547,\n",
       " 159.9846378996221,\n",
       " 170.16764511843877,\n",
       " 180.35313157425651,\n",
       " 190.54069967944301,\n",
       " 200.73003248698663,\n",
       " 210.92087424512098,\n",
       " 221.11301631661124,\n",
       " 231.30628681282823,\n",
       " 241.50054284794288,\n",
       " 251.69566467217541,\n",
       " 261.89155117317131,\n",
       " 272.08811638734943,\n",
       " 282.28528676632482,\n",
       " 292.4829990144404,\n",
       " 302.6811983629317,\n",
       " 312.87983718124792,\n",
       " 323.07887385112684,\n",
       " 333.27827184721326,\n",
       " 343.47799898133502,\n",
       " 353.67802677743964,\n",
       " 363.87832995157754,\n",
       " 374.07888597690129,\n",
       " 384.27967471789901,\n",
       " 394.4806781213415,\n",
       " 404.68187995394231,\n",
       " 414.88326557869863,\n",
       " 425.08482176341869,\n",
       " 435.28653651615997,\n",
       " 445.4883989432671,\n",
       " 455.69039912646957,\n",
       " 465.89252801612025,\n",
       " 476.09477733815351,\n",
       " 486.29713951275198,\n",
       " 496.4996075830357,\n",
       " 506.70217515236328,\n",
       " 516.90483632905648,\n",
       " 527.10758567754021,\n",
       " 537.31041817504945,\n",
       " 547.51332917317382,\n",
       " 557.71631436362156,\n",
       " 567.91936974767509,\n",
       " 578.12249160887643,\n",
       " 588.32567648855729,\n",
       " 598.52892116387022,\n",
       " 608.73222262802733,\n",
       " 618.93557807249613,\n",
       " 629.13898487092342,\n",
       " 639.3424405646017,\n",
       " 649.54594284930397,\n",
       " 659.74948956333844,\n",
       " 669.95307867669669,\n",
       " 680.15670828117777,\n",
       " 690.36037658138741,\n",
       " 700.56408188652324,\n",
       " 710.76782260286882,\n",
       " 720.97159722692572,\n",
       " 731.17540433911597,\n",
       " 741.37924259801014,\n",
       " 751.58311073502273,\n",
       " 761.78700754953275,\n",
       " 771.99093190439419,\n",
       " 782.19488272179501,\n",
       " 792.39885897943748,\n",
       " 802.60285970701011,\n",
       " 812.80688398292421,\n",
       " 823.01093093129498,\n",
       " 833.21499971913977,\n",
       " 843.41908955378756,\n",
       " 853.62319968046677,\n",
       " 863.8273293800687,\n",
       " 874.03147796706298,\n",
       " 884.23564478756464,\n",
       " 894.43982921752547,\n",
       " 904.64403066105308,\n",
       " 914.84824854884073,\n",
       " 925.05248233670011,\n",
       " 935.25673150419198,\n",
       " 945.46099555334547,\n",
       " 955.66527400745622,\n",
       " 965.86956640996448,\n",
       " 976.07387232340409,\n",
       " 986.27819132841012]"
      ]
     },
     "execution_count": 108,
     "metadata": {},
     "output_type": "execute_result"
    }
   ],
   "source": [
    "batchGradientDiscent(SSEPolynomialBasis,weights3,0.001,0.01,100,designMat,ytrue)"
   ]
  },
  {
   "cell_type": "markdown",
   "metadata": {
    "collapsed": false
   },
   "source": [
    "# 2.3 Cosine basis function"
   ]
  },
  {
   "cell_type": "code",
   "execution_count": 109,
   "metadata": {
    "collapsed": false
   },
   "outputs": [],
   "source": [
    "def CosBFRegression(X,y,m):\n",
    "    designMat = np.zeros((len(X),m))\n",
    "    for i in range(1,m+1):\n",
    "        \n",
    "        #print np.cos(i*np.pi*X)\n",
    "        designMat[:,i-1] = np.cos(i*np.pi*X)\n",
    "        \n",
    "        \n",
    "    mle = np.inner(np.dot(np.linalg.inv(np.dot(np.transpose(designMat),designMat)),np.transpose(designMat)),y)\n",
    "    fittedValues = np.dot(designMat,np.transpose(mle))\n",
    "    return(mle)"
   ]
  },
  {
   "cell_type": "code",
   "execution_count": 110,
   "metadata": {
    "collapsed": false
   },
   "outputs": [
    {
     "data": {
      "text/plain": [
       "array([ 2.2748,  1.5728,  0.2885,  0.1237, -0.81  , -1.5123, -0.8655,\n",
       "       -0.8766, -0.6274, -0.4159,  0.8383])"
      ]
     },
     "execution_count": 110,
     "metadata": {},
     "output_type": "execute_result"
    }
   ],
   "source": [
    "Y"
   ]
  },
  {
   "cell_type": "code",
   "execution_count": 115,
   "metadata": {
    "collapsed": false
   },
   "outputs": [],
   "source": [
    "cosBasis1 = np.append(CosBFRegression(X,Y,1),[0]*7)\n",
    "cosBasis2 = np.append(CosBFRegression(X,Y,2),[0]*6)\n",
    "cosBasis3 = np.append(CosBFRegression(X,Y,3),[0]*5)\n",
    "cosBasis4 = np.append(CosBFRegression(X,Y,4),[0]*4)\n",
    "cosBasis5 = np.append(CosBFRegression(X,Y,5),[0]*3)\n",
    "cosBasis6 = np.append(CosBFRegression(X,Y,6),[0]*2)\n",
    "cosBasis7 = np.append(CosBFRegression(X,Y,7),[0]*1)\n",
    "cosBasis8 = np.append(CosBFRegression(X,Y,8),[0]*0)"
   ]
  },
  {
   "cell_type": "code",
   "execution_count": 153,
   "metadata": {
    "collapsed": false
   },
   "outputs": [
    {
     "data": {
      "text/plain": [
       "[1, 2, 3, 4, 5, 6, 7, 8]"
      ]
     },
     "execution_count": 153,
     "metadata": {},
     "output_type": "execute_result"
    }
   ],
   "source": [
    "TrueCosBasis = np.array([1,1.5,0,0,0,0,0,0])\n",
    "def euclideanDistanceTrueCos(Vector):\n",
    "    return np.linalg.norm(TrueCosBasis - Vector)\n",
    "    \n",
    "EuclideanDistance = [euclideanDistanceTrueCos(cosBasis1),euclideanDistanceTrueCos(cosBasis2),euclideanDistanceTrueCos(cosBasis3),euclideanDistanceTrueCos(cosBasis4),\n",
    "                    euclideanDistanceTrueCos(cosBasis5),euclideanDistanceTrueCos(cosBasis6),euclideanDistanceTrueCos(cosBasis7),euclideanDistanceTrueCos(cosBasis8)]\n",
    "EuclideanDistance \n",
    "MVector = range(1,9)\n",
    "MVector"
   ]
  },
  {
   "cell_type": "code",
   "execution_count": 173,
   "metadata": {
    "collapsed": false
   },
   "outputs": [
    {
     "data": {
      "image/png": "[encoded data removed]",
      "text/plain": [
       "<matplotlib.figure.Figure at 0x10569aa90>"
      ]
     },
     "metadata": {},
     "output_type": "display_data"
    },
    {
     "data": {
      "text/plain": [
       "<matplotlib.figure.Figure at 0x10560cc50>"
      ]
     },
     "metadata": {},
     "output_type": "display_data"
    }
   ],
   "source": [
    "plt.plot(MVector,EuclideanDistance)\n",
    "\n",
    "plt.xlabel('M')\n",
    "plt.ylabel('Euclidean Norm')\n",
    "plt.title('Euclidean Norm between true wight vectors\\n and estimates for each M')\n",
    "\n",
    "plt.show()\n",
    "pl.savefig('../ImageFiles/HW1/CosBasisDifference.pdf')"
   ]
  },
  {
   "cell_type": "code",
   "execution_count": null,
   "metadata": {
    "collapsed": false
   },
   "outputs": [],
   "source": [
    "np.cos(4*np.pi*X)"
   ]
  },
  {
   "cell_type": "markdown",
   "metadata": {},
   "source": [
    "# Ridge Regression "
   ]
  },
  {
   "cell_type": "code",
   "execution_count": 200,
   "metadata": {
    "collapsed": false
   },
   "outputs": [],
   "source": [
    "# Data for question 3\n",
    "\n",
    "import pdb\n",
    "import random\n",
    "import pylab as pl\n",
    "\n",
    "# X is an array of N data points (one dimensional for now), that is, NX1\n",
    "# Y is a Nx1 column vector of data values\n",
    "\n",
    "def getData(name):\n",
    "    data = pl.loadtxt(name)\n",
    "    # Returns column matrices\n",
    "    X = data[0:1].T\n",
    "    Y = data[1:2].T\n",
    "    return X, Y\n",
    "\n",
    "def regressAData():\n",
    "    return getData('../DataFiles/HW1/regressA_train.txt')\n",
    "\n",
    "def regressBData():\n",
    "    return getData('../DataFiles/HW1/regressB_train.txt')\n",
    "\n",
    "def validateData():\n",
    "    return getData('../DataFiles/HW1/regress_validate.txt')"
   ]
  },
  {
   "cell_type": "code",
   "execution_count": 201,
   "metadata": {
    "collapsed": false
   },
   "outputs": [
    {
     "data": {
      "text/plain": [
       "array([[ 1.29946363],\n",
       "       [-0.80608991],\n",
       "       [ 0.7569518 ],\n",
       "       [-2.62790749],\n",
       "       [-1.50589984],\n",
       "       [-2.83632079],\n",
       "       [-2.72378643],\n",
       "       [ 1.13817614],\n",
       "       [-1.23794415],\n",
       "       [-1.40714309],\n",
       "       [ 2.40714309],\n",
       "       [ 2.30714309],\n",
       "       [ 0.90714309]])"
      ]
     },
     "execution_count": 201,
     "metadata": {},
     "output_type": "execute_result"
    }
   ],
   "source": [
    "regressAData()[0]"
   ]
  },
  {
   "cell_type": "code",
   "execution_count": 158,
   "metadata": {
    "collapsed": false
   },
   "outputs": [],
   "source": [
    "def ridgeRegression(X,y,lambdaShrink,m):\n",
    "    designMat = np.zeros((len(X),m+1))\n",
    "    for i in range(m+1):\n",
    "        #print([a**i for a in X])\n",
    "        designMat[:,i] = [a**i for a in X]\n",
    "        designMat[:,i] = [j - np.mean(y) for j in designMat[:,i]] # Centering X's\n",
    "        \n",
    "    y = y.ravel() \n",
    "    \n",
    "    yCentered = [j - np.mean(y) for j in y] # Centering y's\n",
    "    \n",
    "    mle = np.inner(np.dot(np.linalg.inv(np.dot(np.transpose(designMat),designMat)+lambdaShrink*np.identity(m+1)),np.transpose(designMat)),yCentered)\n",
    "    fittedValues = np.dot(designMat,np.transpose(mle))\n",
    "    return(mle,fittedValues)\n",
    "    "
   ]
  },
  {
   "cell_type": "markdown",
   "metadata": {},
   "source": [
    "Ridge regression fit for M = 1 for various lamdas"
   ]
  },
  {
   "cell_type": "code",
   "execution_count": 184,
   "metadata": {
    "collapsed": false
   },
   "outputs": [
    {
     "data": {
      "text/plain": [
       "array([ 0.23968251, -0.56587693])"
      ]
     },
     "execution_count": 184,
     "metadata": {},
     "output_type": "execute_result"
    }
   ],
   "source": [
    "RRLambda0_1M1 = ridgeRegression(X,Y,0.1,1)[0]\n",
    "RRLambda0_5M1 = ridgeRegression(X,Y,0.5,1)[0]\n",
    "RRLambda1M1 = ridgeRegression(X,Y,1,1)[0]\n",
    "RRLambda2M1 = ridgeRegression(X,Y,2,1)[0]\n",
    "RRLambda5M1 = ridgeRegression(X,Y,5,1)[0]\n",
    "W1 = ['w0','w1']\n",
    "RRLambda2M1"
   ]
  },
  {
   "cell_type": "code",
   "execution_count": 193,
   "metadata": {
    "collapsed": false
   },
   "outputs": [
    {
     "data": {
      "image/png": "[encoded data removed]",
      "text/plain": [
       "<matplotlib.figure.Figure at 0x105568d10>"
      ]
     },
     "metadata": {},
     "output_type": "display_data"
    }
   ],
   "source": [
    "#plt.bar(range(len(t12)), t12, align='center')\n",
    "#plt.xticks(range(len(t12)), t11, size='small')\n",
    "#plt.show()\n",
    "plt.plot(range(len(RRLambda0_1M1)),RRLambda0_1M1,label='$\\lambda$ = 0.1')\n",
    "plt.plot(range(len(RRLambda0_5M1)),RRLambda0_5M1,label='$\\lambda$ = 0.5')\n",
    "plt.plot(range(len(RRLambda1M1)),RRLambda1M1,label='$\\lambda$ = 1')\n",
    "plt.plot(range(len(RRLambda2M1)),RRLambda2M1,label='$\\lambda$ = 2')\n",
    "plt.plot(range(len(RRLambda5M1)),RRLambda5M1,label='$\\lambda$ = 5')\n",
    "plt.xticks(range(len(W1)),W1, size='small')\n",
    "plt.legend(bbox_to_anchor=(1.05, 1), loc=2, borderaxespad=0.)\n",
    "plt.show()"
   ]
  },
  {
   "cell_type": "markdown",
   "metadata": {},
   "source": [
    "Ridge regression fit for M = 3 for various lamdas"
   ]
  },
  {
   "cell_type": "code",
   "execution_count": 190,
   "metadata": {
    "collapsed": false
   },
   "outputs": [
    {
     "data": {
      "text/plain": [
       "array([ 0.23968251, -0.56587693])"
      ]
     },
     "execution_count": 190,
     "metadata": {},
     "output_type": "execute_result"
    }
   ],
   "source": [
    "RRLambda0_1M3 = ridgeRegression(X,Y,0.1,3)[0]\n",
    "RRLambda0_5M3 = ridgeRegression(X,Y,0.5,3)[0]\n",
    "RRLambda1M3 = ridgeRegression(X,Y,1,3)[0]\n",
    "RRLambda2M3 = ridgeRegression(X,Y,2,3)[0]\n",
    "RRLambda5M3 = ridgeRegression(X,Y,5,3)[0]\n",
    "W1 = ['w0','w1','w2','w3']\n",
    "RRLambda2M1"
   ]
  },
  {
   "cell_type": "code",
   "execution_count": 194,
   "metadata": {
    "collapsed": false
   },
   "outputs": [
    {
     "data": {
      "image/png": "[encoded data removed]",
      "text/plain": [
       "<matplotlib.figure.Figure at 0x105ace610>"
      ]
     },
     "metadata": {},
     "output_type": "display_data"
    }
   ],
   "source": [
    "# Adding label to the plot\n",
    "plt.plot(range(len(RRLambda0_1M3)),RRLambda0_1M3,label='$\\lambda$ = 0.1')\n",
    "plt.plot(range(len(RRLambda0_5M3)),RRLambda0_5M3,label='$\\lambda$ = 0.5')\n",
    "plt.plot(range(len(RRLambda1M3)),RRLambda1M3,label='$\\lambda$ = 1')\n",
    "plt.plot(range(len(RRLambda2M3)),RRLambda2M3,label='$\\lambda$ =2')\n",
    "plt.plot(range(len(RRLambda5M3)),RRLambda5M3,label='$\\lambda$ = 5')\n",
    "plt.xticks(range(len(W1)),W1, size='small')\n",
    "plt.legend(bbox_to_anchor=(1.05, 1), loc=2, borderaxespad=0.)\n",
    "plt.show()"
   ]
  },
  {
   "cell_type": "markdown",
   "metadata": {},
   "source": [
    "Ridge regression fit for M = 5 for various lamdas"
   ]
  },
  {
   "cell_type": "code",
   "execution_count": 195,
   "metadata": {
    "collapsed": false
   },
   "outputs": [
    {
     "data": {
      "text/plain": [
       "array([ 0.23968251, -0.56587693])"
      ]
     },
     "execution_count": 195,
     "metadata": {},
     "output_type": "execute_result"
    }
   ],
   "source": [
    "RRLambda0_1M5 = ridgeRegression(X,Y,0.1,5)[0]\n",
    "RRLambda0_5M5 = ridgeRegression(X,Y,0.5,5)[0]\n",
    "RRLambda1M5 = ridgeRegression(X,Y,1,5)[0]\n",
    "RRLambda2M5 = ridgeRegression(X,Y,2,5)[0]\n",
    "RRLambda5M5 = ridgeRegression(X,Y,5,5)[0]\n",
    "W1 = ['w0','w1','w2','w3','w4','w5']\n",
    "RRLambda2M1"
   ]
  },
  {
   "cell_type": "code",
   "execution_count": 196,
   "metadata": {
    "collapsed": false
   },
   "outputs": [
    {
     "data": {
      "image/png": "[encoded data removed]",
      "text/plain": [
       "<matplotlib.figure.Figure at 0x105835d50>"
      ]
     },
     "metadata": {},
     "output_type": "display_data"
    }
   ],
   "source": [
    "# Adding label to the plot\n",
    "plt.plot(range(len(RRLambda0_1M5)),RRLambda0_1M5,label='$\\lambda$ = 0.1')\n",
    "plt.plot(range(len(RRLambda0_5M5)),RRLambda0_5M5,label='$\\lambda$ = 0.5')\n",
    "plt.plot(range(len(RRLambda1M5)),RRLambda1M5,label='$\\lambda$ = 1')\n",
    "plt.plot(range(len(RRLambda2M5)),RRLambda2M5,label='$\\lambda$ =2')\n",
    "plt.plot(range(len(RRLambda5M5)),RRLambda5M5,label='$\\lambda$ = 5')\n",
    "plt.xticks(range(len(W1)),W1, size='small')\n",
    "plt.legend(bbox_to_anchor=(1.05, 1), loc=2, borderaxespad=0.)\n",
    "plt.show()"
   ]
  },
  {
   "cell_type": "markdown",
   "metadata": {},
   "source": [
    "Ridge regression fit for M = 10 for various lamdas"
   ]
  },
  {
   "cell_type": "code",
   "execution_count": 197,
   "metadata": {
    "collapsed": false
   },
   "outputs": [
    {
     "data": {
      "text/plain": [
       "array([ 0.23968251, -0.56587693])"
      ]
     },
     "execution_count": 197,
     "metadata": {},
     "output_type": "execute_result"
    }
   ],
   "source": [
    "RRLambda0_1M10 = ridgeRegression(X,Y,0.1,10)[0]\n",
    "RRLambda0_5M10 = ridgeRegression(X,Y,0.5,10)[0]\n",
    "RRLambda1M10 = ridgeRegression(X,Y,1,10)[0]\n",
    "RRLambda2M10 = ridgeRegression(X,Y,2,10)[0]\n",
    "RRLambda5M10 = ridgeRegression(X,Y,5,10)[0]\n",
    "W1 = ['w0','w1','w2','w3','w4','w5','w6','w7','w8','w9','w10']\n",
    "RRLambda2M1"
   ]
  },
  {
   "cell_type": "code",
   "execution_count": 198,
   "metadata": {
    "collapsed": false
   },
   "outputs": [
    {
     "data": {
      "image/png": "[encoded data removed]",
      "text/plain": [
       "<matplotlib.figure.Figure at 0x10563b290>"
      ]
     },
     "metadata": {},
     "output_type": "display_data"
    }
   ],
   "source": [
    "# Adding label to the plot\n",
    "plt.plot(range(len(RRLambda0_1M10)),RRLambda0_1M10,label='$\\lambda$ = 0.1')\n",
    "plt.plot(range(len(RRLambda0_5M10)),RRLambda0_5M10,label='$\\lambda$ = 0.5')\n",
    "plt.plot(range(len(RRLambda1M10)),RRLambda1M10,label='$\\lambda$ = 1')\n",
    "plt.plot(range(len(RRLambda2M10)),RRLambda2M10,label='$\\lambda$ =2')\n",
    "plt.plot(range(len(RRLambda5M10)),RRLambda5M10,label='$\\lambda$ = 5')\n",
    "plt.xticks(range(len(W1)),W1, size='small')\n",
    "plt.legend(bbox_to_anchor=(1.05, 1), loc=2, borderaxespad=0.)\n",
    "plt.show()"
   ]
  },
  {
   "cell_type": "code",
   "execution_count": null,
   "metadata": {
    "collapsed": true
   },
   "outputs": [],
   "source": []
  },
  {
   "cell_type": "markdown",
   "metadata": {},
   "source": [
    "Test 1"
   ]
  },
  {
   "cell_type": "code",
   "execution_count": 270,
   "metadata": {
    "collapsed": false
   },
   "outputs": [],
   "source": [
    "Train1_X = regressAData()[0]\n",
    "Train1_Y = regressAData()[1]\n",
    "Test1_X = regressBData()[0]\n",
    "Test1_Y = regressBData()[1]\n",
    "valid1_X =validateData()[0]\n",
    "valid1_Y = validateData()[1]"
   ]
  },
  {
   "cell_type": "code",
   "execution_count": null,
   "metadata": {
    "collapsed": false
   },
   "outputs": [],
   "source": []
  },
  {
   "cell_type": "code",
   "execution_count": null,
   "metadata": {
    "collapsed": false
   },
   "outputs": [],
   "source": []
  },
  {
   "cell_type": "code",
   "execution_count": 271,
   "metadata": {
    "collapsed": false
   },
   "outputs": [],
   "source": [
    "def LBFRidgeRegression(theta,X,y,lambda_shrinkage):\n",
    "    params = len(theta)\n",
    "    #print (m)\n",
    "    designMat = np.zeros((len(X),params))\n",
    "    for i in range(params):\n",
    "        #print([a**i for a in X])\n",
    "        designMat[:,i] = [a**i for a in X]\n",
    "        #designMatTemp[:,i] = [a**i for a in X]\n",
    "        designMat[:,i] = [j - np.mean(y) for j in designMat[:,i]] # Centering X's\n",
    "    \n",
    "    y = y.ravel() \n",
    "    yCentered = [j - np.mean(y) for j in y]  # Centering y's\n",
    "    \n",
    "    \n",
    "    fittedValues = np.dot(designMat,np.transpose(theta))\n",
    "    fittedDifference = [a - b for a, b in zip(fittedValues,yCentered)]\n",
    "    RSS = sum(a**2 for a in fittedDifference)+lambda_shrinkage*np.dot(theta,np.transpose(theta))\n",
    "    return(fittedValues,RSS)"
   ]
  },
  {
   "cell_type": "code",
   "execution_count": 272,
   "metadata": {
    "collapsed": false
   },
   "outputs": [],
   "source": [
    "# Lambdas to be tested are 0.1,0.5,1,2,3,5 and the M's are 1,3,5,10\n",
    "ridgeParam = ridgeRegression(valid1_X,valid1_Y,0.6,1)[0]\n",
    "\n",
    "#ridgeParam"
   ]
  },
  {
   "cell_type": "code",
   "execution_count": 273,
   "metadata": {
    "collapsed": false
   },
   "outputs": [
    {
     "data": {
      "text/plain": [
       "14.386760182846109"
      ]
     },
     "execution_count": 273,
     "metadata": {},
     "output_type": "execute_result"
    }
   ],
   "source": [
    "LBFRidgeRegression(ridgeParam,valid1_X,valid1_Y,1)[1]"
   ]
  },
  {
   "cell_type": "code",
   "execution_count": null,
   "metadata": {
    "collapsed": true
   },
   "outputs": [],
   "source": []
  },
  {
   "cell_type": "code",
   "execution_count": null,
   "metadata": {
    "collapsed": true
   },
   "outputs": [],
   "source": []
  },
  {
   "cell_type": "code",
   "execution_count": null,
   "metadata": {
    "collapsed": true
   },
   "outputs": [],
   "source": []
  },
  {
   "cell_type": "markdown",
   "metadata": {
    "collapsed": true
   },
   "source": [
    "M =  1"
   ]
  },
  {
   "cell_type": "code",
   "execution_count": 274,
   "metadata": {
    "collapsed": true
   },
   "outputs": [],
   "source": [
    "ridgeParamLambda0_1M1 = ridgeRegression(Train1_X,Train1_Y,0.1,1)[0]\n",
    "ridgeParamLambda0_5M1 = ridgeRegression(Train1_X,Train1_Y,0.5,1)[0]\n",
    "ridgeParamLambda1M1 = ridgeRegression(Train1_X,Train1_Y,1,1)[0]\n",
    "ridgeParamLambda2M1 = ridgeRegression(Train1_X,Train1_Y,2,1)[0]\n",
    "ridgeParamLambda5M1 = ridgeRegression(Train1_X,Train1_Y,5,1)[0]"
   ]
  },
  {
   "cell_type": "code",
   "execution_count": 275,
   "metadata": {
    "collapsed": false
   },
   "outputs": [],
   "source": [
    "errorLambda0_1M1 = LBFRidgeRegression(ridgeParamLambda0_1M1,valid1_X ,valid1_Y,0.1)[1]\n",
    "errorLambda0_5M1 = LBFRidgeRegression(ridgeParamLambda0_5M1,valid1_X ,valid1_Y,0.5)[1]\n",
    "errorLambda1M1 = LBFRidgeRegression(ridgeParamLambda1M1,valid1_X ,valid1_Y,1)[1]\n",
    "errorLambda2M1 = LBFRidgeRegression(ridgeParamLambda2M1,valid1_X ,valid1_Y,2)[1]\n",
    "errorLambda5M1 = LBFRidgeRegression(ridgeParamLambda5M1,valid1_X ,valid1_Y,5)[1]\n"
   ]
  },
  {
   "cell_type": "markdown",
   "metadata": {},
   "source": [
    "M = 3"
   ]
  },
  {
   "cell_type": "code",
   "execution_count": 276,
   "metadata": {
    "collapsed": true
   },
   "outputs": [],
   "source": [
    "ridgeParamLambda0_1M3 = ridgeRegression(Train1_X,Train1_Y,0.1,3)[0]\n",
    "ridgeParamLambda0_5M3 = ridgeRegression(Train1_X,Train1_Y,0.5,3)[0]\n",
    "ridgeParamLambda1M3 = ridgeRegression(Train1_X,Train1_Y,1,3)[0]\n",
    "ridgeParamLambda2M3 = ridgeRegression(Train1_X,Train1_Y,2,3)[0]\n",
    "ridgeParamLambda5M3 = ridgeRegression(Train1_X,Train1_Y,5,3)[0]"
   ]
  },
  {
   "cell_type": "code",
   "execution_count": 277,
   "metadata": {
    "collapsed": true
   },
   "outputs": [],
   "source": [
    "errorLambda0_1M3 = LBFRidgeRegression(ridgeParamLambda0_1M3,valid1_X ,valid1_Y,0.1)[1]\n",
    "errorLambda0_5M3 = LBFRidgeRegression(ridgeParamLambda0_5M3,valid1_X ,valid1_Y,0.5)[1]\n",
    "errorLambda1M3 = LBFRidgeRegression(ridgeParamLambda1M3,valid1_X ,valid1_Y,1)[1]\n",
    "errorLambda2M3 = LBFRidgeRegression(ridgeParamLambda2M3,valid1_X ,valid1_Y,2)[1]\n",
    "errorLambda5M3 = LBFRidgeRegression(ridgeParamLambda5M3,valid1_X ,valid1_Y,5)[1]"
   ]
  },
  {
   "cell_type": "markdown",
   "metadata": {},
   "source": [
    "M = 5"
   ]
  },
  {
   "cell_type": "code",
   "execution_count": 278,
   "metadata": {
    "collapsed": true
   },
   "outputs": [],
   "source": [
    "ridgeParamLambda0_1M5 = ridgeRegression(Train1_X,Train1_Y,0.1,5)[0]\n",
    "ridgeParamLambda0_5M5 = ridgeRegression(Train1_X,Train1_Y,0.5,5)[0]\n",
    "ridgeParamLambda1M5 = ridgeRegression(Train1_X,Train1_Y,1,5)[0]\n",
    "ridgeParamLambda2M5 = ridgeRegression(Train1_X,Train1_Y,2,5)[0]\n",
    "ridgeParamLambda5M5 = ridgeRegression(Train1_X,Train1_Y,5,5)[0]"
   ]
  },
  {
   "cell_type": "code",
   "execution_count": 279,
   "metadata": {
    "collapsed": true
   },
   "outputs": [],
   "source": [
    "errorLambda0_1M5 = LBFRidgeRegression(ridgeParamLambda0_1M5,valid1_X ,valid1_Y,0.1)[1]\n",
    "errorLambda0_5M5 = LBFRidgeRegression(ridgeParamLambda0_5M5,valid1_X ,valid1_Y,0.5)[1]\n",
    "errorLambda1M5 = LBFRidgeRegression(ridgeParamLambda1M5,valid1_X ,valid1_Y,1)[1]\n",
    "errorLambda2M5 = LBFRidgeRegression(ridgeParamLambda2M5,valid1_X ,valid1_Y,2)[1]\n",
    "errorLambda5M5 = LBFRidgeRegression(ridgeParamLambda5M5,valid1_X ,valid1_Y,5)[1]"
   ]
  },
  {
   "cell_type": "markdown",
   "metadata": {},
   "source": [
    "M = 10"
   ]
  },
  {
   "cell_type": "code",
   "execution_count": 280,
   "metadata": {
    "collapsed": true
   },
   "outputs": [],
   "source": [
    "ridgeParamLambda0_1M10 = ridgeRegression(Train1_X,Train1_Y,0.1,10)[0]\n",
    "ridgeParamLambda0_5M10 = ridgeRegression(Train1_X,Train1_Y,0.5,10)[0]\n",
    "ridgeParamLambda1M10 = ridgeRegression(Train1_X,Train1_Y,1,10)[0]\n",
    "ridgeParamLambda2M10 = ridgeRegression(Train1_X,Train1_Y,2,10)[0]\n",
    "ridgeParamLambda5M10 = ridgeRegression(Train1_X,Train1_Y,5,10)[0]"
   ]
  },
  {
   "cell_type": "code",
   "execution_count": 281,
   "metadata": {
    "collapsed": true
   },
   "outputs": [],
   "source": [
    "errorLambda0_1M10 = LBFRidgeRegression(ridgeParamLambda0_1M10,valid1_X ,valid1_Y,0.1)[1]\n",
    "errorLambda0_5M10 = LBFRidgeRegression(ridgeParamLambda0_5M10,valid1_X ,valid1_Y,0.5)[1]\n",
    "errorLambda1M10 = LBFRidgeRegression(ridgeParamLambda1M10,valid1_X ,valid1_Y,1)[1]\n",
    "errorLambda2M10 = LBFRidgeRegression(ridgeParamLambda2M10,valid1_X ,valid1_Y,2)[1]\n",
    "errorLambda5M10 = LBFRidgeRegression(ridgeParamLambda5M10,valid1_X ,valid1_Y,5)[1]"
   ]
  },
  {
   "cell_type": "code",
   "execution_count": 282,
   "metadata": {
    "collapsed": true
   },
   "outputs": [],
   "source": [
    "errorM1 = [errorLambda0_1M1,errorLambda0_5M1,errorLambda1M1,errorLambda2M1,errorLambda5M1]\n",
    "errorM3 = [errorLambda0_1M3,errorLambda0_5M3,errorLambda1M3,errorLambda2M3,errorLambda5M3]\n",
    "errorM5 = [errorLambda0_1M5,errorLambda0_5M5,errorLambda1M5,errorLambda2M5,errorLambda5M5]\n",
    "errorM10 = [errorLambda0_1M10,errorLambda0_5M10,errorLambda1M10,errorLambda2M10,errorLambda5M10]\n",
    "W1 = ['0.1','0.5','1','2','5']"
   ]
  },
  {
   "cell_type": "code",
   "execution_count": 283,
   "metadata": {
    "collapsed": false
   },
   "outputs": [
    {
     "data": {
      "image/png": "[encoded data removed]",
      "text/plain": [
       "<matplotlib.figure.Figure at 0x10557df10>"
      ]
     },
     "metadata": {},
     "output_type": "display_data"
    }
   ],
   "source": [
    "# Adding label to the plot\n",
    "plt.plot(range(len(errorM1)),errorM1,label='M = 1')\n",
    "plt.plot(range(len(errorM3)),errorM3,label='M = 3')\n",
    "plt.plot(range(len(errorM5)),errorM5,label='M = 5')\n",
    "plt.plot(range(len(errorM10)),errorM10,label='M = 10')\n",
    "\n",
    "plt.xticks(range(len(W1)),W1, size='small')\n",
    "plt.legend(bbox_to_anchor=(1.05, 1), loc=2, borderaxespad=0.)\n",
    "plt.show()"
   ]
  },
  {
   "cell_type": "code",
   "execution_count": null,
   "metadata": {
    "collapsed": true
   },
   "outputs": [],
   "source": []
  },
  {
   "cell_type": "markdown",
   "metadata": {},
   "source": [
    "# Test 2"
   ]
  },
  {
   "cell_type": "code",
   "execution_count": 285,
   "metadata": {
    "collapsed": true
   },
   "outputs": [],
   "source": [
    "Train1_X = regressBData()[0]\n",
    "Train1_Y = regressBData()[1]\n",
    "Test1_X = regressAData()[0]\n",
    "Test1_Y = regressAData()[1]"
   ]
  },
  {
   "cell_type": "markdown",
   "metadata": {
    "collapsed": true
   },
   "source": [
    "M =  1"
   ]
  },
  {
   "cell_type": "code",
   "execution_count": 286,
   "metadata": {
    "collapsed": true
   },
   "outputs": [],
   "source": [
    "ridgeParamLambda0_1M1 = ridgeRegression(Train1_X,Train1_Y,0.1,1)[0]\n",
    "ridgeParamLambda0_5M1 = ridgeRegression(Train1_X,Train1_Y,0.5,1)[0]\n",
    "ridgeParamLambda1M1 = ridgeRegression(Train1_X,Train1_Y,1,1)[0]\n",
    "ridgeParamLambda2M1 = ridgeRegression(Train1_X,Train1_Y,2,1)[0]\n",
    "ridgeParamLambda5M1 = ridgeRegression(Train1_X,Train1_Y,5,1)[0]"
   ]
  },
  {
   "cell_type": "code",
   "execution_count": 287,
   "metadata": {
    "collapsed": true
   },
   "outputs": [],
   "source": [
    "errorLambda0_1M1 = LBFRidgeRegression(ridgeParamLambda0_1M1,valid1_X ,valid1_Y,0.1)[1]\n",
    "errorLambda0_5M1 = LBFRidgeRegression(ridgeParamLambda0_5M1,valid1_X ,valid1_Y,0.5)[1]\n",
    "errorLambda1M1 = LBFRidgeRegression(ridgeParamLambda1M1,valid1_X ,valid1_Y,1)[1]\n",
    "errorLambda2M1 = LBFRidgeRegression(ridgeParamLambda2M1,valid1_X ,valid1_Y,2)[1]\n",
    "errorLambda5M1 = LBFRidgeRegression(ridgeParamLambda5M1,valid1_X ,valid1_Y,5)[1]\n"
   ]
  },
  {
   "cell_type": "markdown",
   "metadata": {},
   "source": [
    "M = 3"
   ]
  },
  {
   "cell_type": "code",
   "execution_count": 288,
   "metadata": {
    "collapsed": true
   },
   "outputs": [],
   "source": [
    "ridgeParamLambda0_1M3 = ridgeRegression(Train1_X,Train1_Y,0.1,3)[0]\n",
    "ridgeParamLambda0_5M3 = ridgeRegression(Train1_X,Train1_Y,0.5,3)[0]\n",
    "ridgeParamLambda1M3 = ridgeRegression(Train1_X,Train1_Y,1,3)[0]\n",
    "ridgeParamLambda2M3 = ridgeRegression(Train1_X,Train1_Y,2,3)[0]\n",
    "ridgeParamLambda5M3 = ridgeRegression(Train1_X,Train1_Y,5,3)[0]"
   ]
  },
  {
   "cell_type": "code",
   "execution_count": 289,
   "metadata": {
    "collapsed": true
   },
   "outputs": [],
   "source": [
    "errorLambda0_1M3 = LBFRidgeRegression(ridgeParamLambda0_1M3,valid1_X ,valid1_Y,0.1)[1]\n",
    "errorLambda0_5M3 = LBFRidgeRegression(ridgeParamLambda0_5M3,valid1_X ,valid1_Y,0.5)[1]\n",
    "errorLambda1M3 = LBFRidgeRegression(ridgeParamLambda1M3,valid1_X ,valid1_Y,1)[1]\n",
    "errorLambda2M3 = LBFRidgeRegression(ridgeParamLambda2M3,valid1_X ,valid1_Y,2)[1]\n",
    "errorLambda5M3 = LBFRidgeRegression(ridgeParamLambda5M3,valid1_X ,valid1_Y,5)[1]"
   ]
  },
  {
   "cell_type": "markdown",
   "metadata": {},
   "source": [
    "M = 5"
   ]
  },
  {
   "cell_type": "code",
   "execution_count": 290,
   "metadata": {
    "collapsed": true
   },
   "outputs": [],
   "source": [
    "ridgeParamLambda0_1M5 = ridgeRegression(Train1_X,Train1_Y,0.1,5)[0]\n",
    "ridgeParamLambda0_5M5 = ridgeRegression(Train1_X,Train1_Y,0.5,5)[0]\n",
    "ridgeParamLambda1M5 = ridgeRegression(Train1_X,Train1_Y,1,5)[0]\n",
    "ridgeParamLambda2M5 = ridgeRegression(Train1_X,Train1_Y,2,5)[0]\n",
    "ridgeParamLambda5M5 = ridgeRegression(Train1_X,Train1_Y,5,5)[0]"
   ]
  },
  {
   "cell_type": "code",
   "execution_count": 291,
   "metadata": {
    "collapsed": true
   },
   "outputs": [],
   "source": [
    "errorLambda0_1M5 = LBFRidgeRegression(ridgeParamLambda0_1M5,valid1_X ,valid1_Y,0.1)[1]\n",
    "errorLambda0_5M5 = LBFRidgeRegression(ridgeParamLambda0_5M5,valid1_X ,valid1_Y,0.5)[1]\n",
    "errorLambda1M5 = LBFRidgeRegression(ridgeParamLambda1M5,valid1_X ,valid1_Y,1)[1]\n",
    "errorLambda2M5 = LBFRidgeRegression(ridgeParamLambda2M5,valid1_X ,valid1_Y,2)[1]\n",
    "errorLambda5M5 = LBFRidgeRegression(ridgeParamLambda5M5,valid1_X ,valid1_Y,5)[1]"
   ]
  },
  {
   "cell_type": "markdown",
   "metadata": {},
   "source": [
    "M = 10"
   ]
  },
  {
   "cell_type": "code",
   "execution_count": 292,
   "metadata": {
    "collapsed": true
   },
   "outputs": [],
   "source": [
    "ridgeParamLambda0_1M10 = ridgeRegression(Train1_X,Train1_Y,0.1,10)[0]\n",
    "ridgeParamLambda0_5M10 = ridgeRegression(Train1_X,Train1_Y,0.5,10)[0]\n",
    "ridgeParamLambda1M10 = ridgeRegression(Train1_X,Train1_Y,1,10)[0]\n",
    "ridgeParamLambda2M10 = ridgeRegression(Train1_X,Train1_Y,2,10)[0]\n",
    "ridgeParamLambda5M10 = ridgeRegression(Train1_X,Train1_Y,5,10)[0]"
   ]
  },
  {
   "cell_type": "code",
   "execution_count": null,
   "metadata": {
    "collapsed": true
   },
   "outputs": [],
   "source": []
  },
  {
   "cell_type": "code",
   "execution_count": 293,
   "metadata": {
    "collapsed": true
   },
   "outputs": [],
   "source": [
    "errorLambda0_1M10 = LBFRidgeRegression(ridgeParamLambda0_1M10,valid1_X ,valid1_Y,0.1)[1]\n",
    "errorLambda0_5M10 = LBFRidgeRegression(ridgeParamLambda0_5M10,valid1_X ,valid1_Y,0.5)[1]\n",
    "errorLambda1M10 = LBFRidgeRegression(ridgeParamLambda1M10,valid1_X ,valid1_Y,1)[1]\n",
    "errorLambda2M10 = LBFRidgeRegression(ridgeParamLambda2M10,valid1_X ,valid1_Y,2)[1]\n",
    "errorLambda5M10 = LBFRidgeRegression(ridgeParamLambda5M10,valid1_X ,valid1_Y,5)[1]"
   ]
  },
  {
   "cell_type": "code",
   "execution_count": 294,
   "metadata": {
    "collapsed": true
   },
   "outputs": [],
   "source": [
    "errorM1 = [errorLambda0_1M1,errorLambda0_5M1,errorLambda1M1,errorLambda2M1,errorLambda5M1]\n",
    "errorM3 = [errorLambda0_1M3,errorLambda0_5M3,errorLambda1M3,errorLambda2M3,errorLambda5M3]\n",
    "errorM5 = [errorLambda0_1M5,errorLambda0_5M5,errorLambda1M5,errorLambda2M5,errorLambda5M5]\n",
    "errorM10 = [errorLambda0_1M10,errorLambda0_5M10,errorLambda1M10,errorLambda2M10,errorLambda5M10]\n",
    "W1 = ['0.1','0.5','1','2','5']"
   ]
  },
  {
   "cell_type": "code",
   "execution_count": 296,
   "metadata": {
    "collapsed": false
   },
   "outputs": [
    {
     "data": {
      "image/png": "[encoded data removed]",
      "text/plain": [
       "<matplotlib.figure.Figure at 0x105c54110>"
      ]
     },
     "metadata": {},
     "output_type": "display_data"
    }
   ],
   "source": [
    "# Adding label to the plot\n",
    "plt.plot(range(len(errorM1)),errorM1,label='M = 1')\n",
    "plt.plot(range(len(errorM3)),errorM3,label='M = 3')\n",
    "plt.plot(range(len(errorM5)),errorM5,label='M = 5')\n",
    "#plt.plot(range(len(errorM10)),errorM10,label='M = 10')\n",
    "\n",
    "plt.xticks(range(len(W1)),W1, size='small')\n",
    "plt.legend(bbox_to_anchor=(1.05, 1), loc=2, borderaxespad=0.)\n",
    "plt.show()"
   ]
  },
  {
   "cell_type": "markdown",
   "metadata": {},
   "source": [
    "# Question 4 (Sparsity and LASSO)"
   ]
  },
  {
   "cell_type": "code",
   "execution_count": 297,
   "metadata": {
    "collapsed": true
   },
   "outputs": [],
   "source": [
    "# Data for this question\n",
    "import pdb\n",
    "import random\n",
    "import pylab as pl\n",
    "\n",
    "# X is an array of N data points (one dimensional for now), that is, NX1\n",
    "# Y is a Nx1 column vector of data values\n",
    "\n",
    "def getData(name):\n",
    "    data = pl.loadtxt(name)\n",
    "    # Returns column matrices\n",
    "    X = data[0:1].T\n",
    "    Y = data[1:2].T\n",
    "    return X, Y\n",
    "\n",
    "def lassoTrainData():\n",
    "    return getData('../DataFiles/HW1/lasso_train.txt')\n",
    "\n",
    "def lassoValData():\n",
    "    return getData('../DataFiles/HW1/lasso_validate.txt')\n",
    "\n",
    "def lassoTestData():\n",
    "    return getData('../DataFiles/HW1/lasso_test.txt')\n"
   ]
  },
  {
   "cell_type": "code",
   "execution_count": 304,
   "metadata": {
    "collapsed": false
   },
   "outputs": [],
   "source": [
    "from sklearn import linear_model\n",
    "\n",
    "clf0_1 = linear_model.Lasso(alpha=0.1,fit_intercept=False) # alpha is the shrinkage parameter\n",
    "clf0_5 = linear_model.Lasso(alpha=0.5,fit_intercept=False)\n",
    "clf1 = linear_model.Lasso(alpha=1,fit_intercept=False)\n",
    "clf2 = linear_model.Lasso(alpha=2,fit_intercept=False)\n",
    "clf5 = linear_model.Lasso(alpha=5,fit_intercept=False)"
   ]
  },
  {
   "cell_type": "code",
   "execution_count": 305,
   "metadata": {
    "collapsed": false
   },
   "outputs": [],
   "source": [
    "\n",
    "def sineBasisFunction(X,y,n=13):\n",
    "    designMat = np.zeros((len(X),n))\n",
    "    designMat[:,0] = X.ravel()\n",
    "    for i in range(1,n):\n",
    "        #print([a**i for a in X])\n",
    "        designMat[:,i] = [np.sin(0.4*np.pi*a*i) for a in X]\n",
    "    return(designMat,y)"
   ]
  },
  {
   "cell_type": "code",
   "execution_count": 306,
   "metadata": {
    "collapsed": false
   },
   "outputs": [],
   "source": [
    "X = lassoTrainData()[0]\n",
    "y = lassoTrainData()[1]"
   ]
  },
  {
   "cell_type": "code",
   "execution_count": 307,
   "metadata": {
    "collapsed": false
   },
   "outputs": [],
   "source": [
    "designMat = sineBasisFunction(X,y,n=13)[0]\n",
    "outcome = sineBasisFunction(X,y,n=13)[1]"
   ]
  },
  {
   "cell_type": "code",
   "execution_count": 309,
   "metadata": {
    "collapsed": false
   },
   "outputs": [
    {
     "name": "stdout",
     "output_type": "stream",
     "text": [
      "[ 0.          0.          5.49526681  0.33802335  0.          1.12455954\n",
      "  2.28295397  0.          0.         -0.         -0.          0.          0.        ]\n"
     ]
    }
   ],
   "source": [
    "clf0_1.fit(designMat, outcome)\n",
    "print(clf0_1.coef_)"
   ]
  },
  {
   "cell_type": "code",
   "execution_count": 310,
   "metadata": {
    "collapsed": false
   },
   "outputs": [
    {
     "name": "stdout",
     "output_type": "stream",
     "text": [
      "[ 0.          0.          4.56610215  0.76841601  0.          0.\n",
      "  2.41591679  0.          0.         -0.         -0.          0.          0.        ]\n"
     ]
    }
   ],
   "source": [
    "clf0_5.fit(designMat, outcome)\n",
    "print(clf0_5.coef_)"
   ]
  },
  {
   "cell_type": "code",
   "execution_count": 311,
   "metadata": {
    "collapsed": false
   },
   "outputs": [
    {
     "name": "stdout",
     "output_type": "stream",
     "text": [
      "[ 0.          0.          4.25260727  0.02250036  0.          0.\n",
      "  1.63404412  0.          0.         -0.         -0.          0.          0.        ]\n"
     ]
    }
   ],
   "source": [
    "clf1.fit(designMat, outcome)\n",
    "print(clf1.coef_)"
   ]
  },
  {
   "cell_type": "code",
   "execution_count": 312,
   "metadata": {
    "collapsed": false
   },
   "outputs": [
    {
     "name": "stdout",
     "output_type": "stream",
     "text": [
      "[ 0.          0.          2.56819399  0.          0.          0.          0.1812299\n",
      "  0.          0.         -0.         -0.          0.          0.        ]\n"
     ]
    }
   ],
   "source": [
    "clf2.fit(designMat, outcome)\n",
    "print(clf2.coef_)"
   ]
  },
  {
   "cell_type": "code",
   "execution_count": 313,
   "metadata": {
    "collapsed": false
   },
   "outputs": [
    {
     "name": "stdout",
     "output_type": "stream",
     "text": [
      "[ 0.  0.  0.  0.  0.  0.  0.  0.  0. -0.  0.  0.  0.]\n"
     ]
    }
   ],
   "source": [
    "clf5.fit(designMat, outcome)\n",
    "print(clf5.coef_)"
   ]
  },
  {
   "cell_type": "code",
   "execution_count": 314,
   "metadata": {
    "collapsed": true
   },
   "outputs": [],
   "source": [
    "def ridgeRegressionGeneral(X,y,lambdaShrink):\n",
    "    designMat = X\n",
    "    m = X.shape[1]\n",
    "    y = y.ravel() \n",
    "    mle = np.inner(np.dot(np.linalg.inv(np.dot(np.transpose(designMat),designMat)+lambdaShrink*np.identity(m)),np.transpose(designMat)),y)\n",
    "    fittedValues = np.dot(designMat,np.transpose(mle))\n",
    "    return(mle,fittedValues)\n",
    "    "
   ]
  },
  {
   "cell_type": "code",
   "execution_count": 320,
   "metadata": {
    "collapsed": false
   },
   "outputs": [
    {
     "data": {
      "text/plain": [
       "array([ 0.91153888,  0.99983922,  1.31979847,  0.99484521,  0.63503341,\n",
       "        0.64351949,  0.78405454,  0.60379734,  0.10904499, -0.21201041,\n",
       "       -0.04773148,  0.27800422,  0.18142154])"
      ]
     },
     "execution_count": 320,
     "metadata": {},
     "output_type": "execute_result"
    }
   ],
   "source": [
    "ridgeRegressionGeneral(designMat,y,5)[0]"
   ]
  },
  {
   "cell_type": "markdown",
   "metadata": {},
   "source": [
    "# Validation"
   ]
  },
  {
   "cell_type": "code",
   "execution_count": 318,
   "metadata": {
    "collapsed": false
   },
   "outputs": [
    {
     "data": {
      "text/plain": [
       "1"
      ]
     },
     "execution_count": 318,
     "metadata": {},
     "output_type": "execute_result"
    }
   ],
   "source": []
  },
  {
   "cell_type": "code",
   "execution_count": 3,
   "metadata": {
    "collapsed": false
   },
   "outputs": [
    {
     "data": {
      "text/plain": [
       "[-2, -1, -2, -1]"
      ]
     },
     "execution_count": 3,
     "metadata": {},
     "output_type": "execute_result"
    }
   ],
   "source": []
  },
  {
   "cell_type": "code",
   "execution_count": 7,
   "metadata": {
    "collapsed": false
   },
   "outputs": [
    {
     "data": {
      "text/plain": [
       "2.5"
      ]
     },
     "execution_count": 7,
     "metadata": {},
     "output_type": "execute_result"
    }
   ],
   "source": []
  },
  {
   "cell_type": "code",
   "execution_count": null,
   "metadata": {
    "collapsed": true
   },
   "outputs": [],
   "source": []
  },
  {
   "cell_type": "code",
   "execution_count": null,
   "metadata": {
    "collapsed": true
   },
   "outputs": [],
   "source": []
  },
  {
   "cell_type": "markdown",
   "metadata": {},
   "source": [
    "# Test"
   ]
  },
  {
   "cell_type": "code",
   "execution_count": null,
   "metadata": {
    "collapsed": true
   },
   "outputs": [],
   "source": []
  }
 ],
 "metadata": {
  "kernelspec": {
   "display_name": "Python 2",
   "language": "python",
   "name": "python2"
  },
  "language_info": {
   "codemirror_mode": {
    "name": "ipython",
    "version": 2
   },
   "file_extension": ".py",
   "mimetype": "text/x-python",
   "name": "python",
   "nbconvert_exporter": "python",
   "pygments_lexer": "ipython2",
   "version": "2.7.11"
  }
 },
 "nbformat": 4,
 "nbformat_minor": 0
}
